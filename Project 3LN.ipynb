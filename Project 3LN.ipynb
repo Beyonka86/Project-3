{
 "cells": [
  {
   "cell_type": "code",
   "execution_count": 228,
   "id": "34c18538-bfa1-45a8-9556-b85c39427cfd",
   "metadata": {},
   "outputs": [],
   "source": [
    "import pandas as pd # data processing, CSV file I/O (e.g. pd.read_csv)\n",
    "import os\n",
    "import matplotlib.pyplot as plt \n",
    "import requests\n",
    "from scipy.stats import linregress\n",
    "from sklearn.linear_model import LinearRegression\n",
    "import plotly.express as px\n",
    "import numpy as np\n",
    "import plotly.graph_objects as go\n",
    "import plotly.io as pio\n",
    "from plotly.subplots import make_subplots"
   ]
  },
  {
   "cell_type": "code",
   "execution_count": 229,
   "metadata": {},
   "outputs": [],
   "source": [
    "%matplotlib inline\n",
    "%matplotlib widget"
   ]
  },
  {
   "cell_type": "code",
   "execution_count": 230,
   "id": "9c1d8e7b-eb78-480f-9e42-ce858be6be0f",
   "metadata": {},
   "outputs": [],
   "source": [
    "gbd_file_path = r\"/Users/lnovo_crisissupport/Desktop/SMU Data Analytics BC/Project-3/csv/GBD 15-69.csv\"\n",
    "whr_file_path = r\"/Users/lnovo_crisissupport/Desktop/SMU Data Analytics BC/Project-3/csv/happiness_condensed.csv\""
   ]
  },
  {
   "cell_type": "code",
   "execution_count": 231,
   "id": "7849c41b-9efe-404d-ab92-f129feb15802",
   "metadata": {},
   "outputs": [],
   "source": [
    "#read CSV file into Pandas DF\n",
    "gbd_df = pd.read_csv(gbd_file_path)\n",
    "whr_df = pd.read_csv(whr_file_path)"
   ]
  },
  {
   "cell_type": "code",
   "execution_count": 232,
   "id": "a09085c9-e789-4e46-82f6-c2b490532da5",
   "metadata": {},
   "outputs": [],
   "source": [
    "# Restructure data\n",
    "gbd_df.rename(columns={'Road.Injuries': 'Road Injuries'}, inplace=True)\n",
    "gbd_df.rename(columns= {'Ischemic.Heart.Disease': 'Ischemic Heart Disease'}, inplace=True)\n",
    "gbd_df.drop(columns=['Year', 'Age', 'Sex'], inplace=True)\n",
    "\n",
    "# Drop rows with missing values\n",
    "clean_gbd = gbd_df.dropna()\n",
    "clean_whr = whr_df.dropna()\n",
    "\n",
    "# Merge the datasets based on the 'Location' column, DataFrames using full outer join\n",
    "GBDWHR_df = pd.merge(clean_gbd, clean_whr, on='Location', how='outer')"
   ]
  },
  {
   "cell_type": "code",
   "execution_count": 233,
   "id": "df6c1c57-36b4-4043-bfa1-0a80679cd82e",
   "metadata": {},
   "outputs": [
    {
     "name": "stdout",
     "output_type": "stream",
     "text": [
      "                    Location                  Measure  Road Injuries  \\\n",
      "0                Afghanistan  Percent of total deaths       0.066641   \n",
      "1                     Angola  Percent of total deaths       0.082701   \n",
      "2                    Albania  Percent of total deaths       0.068380   \n",
      "3                    Andorra  Percent of total deaths       0.076438   \n",
      "4       United Arab Emirates  Percent of total deaths       0.152665   \n",
      "..                       ...                      ...            ...   \n",
      "220                     Iran                      NaN            NaN   \n",
      "221  Palestinian Territories                      NaN            NaN   \n",
      "222         Congo (Kinshasa)                      NaN            NaN   \n",
      "223                Swaziland                      NaN            NaN   \n",
      "224                 Tanzania                      NaN            NaN   \n",
      "\n",
      "          HIV  Ischemic Heart Disease  Logged GDP per capita  Social support  \\\n",
      "0    0.002164                0.179838               7.462861        0.470367   \n",
      "1    0.195853                0.050400                    NaN             NaN   \n",
      "2    0.000502                0.173301               9.417931        0.671070   \n",
      "3    0.026947                0.066150                    NaN             NaN   \n",
      "4    0.005384                0.156873              11.109999        0.849181   \n",
      "..        ...                     ...                    ...             ...   \n",
      "220       NaN                     NaN               9.813720        0.694690   \n",
      "221       NaN                     NaN               8.389223        0.825296   \n",
      "222       NaN                     NaN               6.694256        0.672159   \n",
      "223       NaN                     NaN               9.162674        0.770290   \n",
      "224       NaN                     NaN               7.967665        0.688933   \n",
      "\n",
      "     Healthy life expectancy  Freedom to make life choices  \n",
      "0                  52.590000                      0.396573  \n",
      "1                        NaN                           NaN  \n",
      "2                  68.708138                      0.781994  \n",
      "3                        NaN                           NaN  \n",
      "4                  67.082787                      0.941346  \n",
      "..                       ...                           ...  \n",
      "220                66.006149                      0.647873  \n",
      "221                62.250000                      0.645792  \n",
      "222                52.900002                      0.700794  \n",
      "223                51.188236                      0.646822  \n",
      "224                57.496075                      0.821540  \n",
      "\n",
      "[225 rows x 9 columns]\n"
     ]
    }
   ],
   "source": [
    "print(GBDWHR_df)\n",
    "GBDWHR_df.dropna(inplace=True)"
   ]
  },
  {
   "cell_type": "code",
   "execution_count": 234,
   "id": "45b9ea49-f84d-4510-92d6-5428ed9d1fca",
   "metadata": {},
   "outputs": [],
   "source": [
    "GBDWHR_df.to_csv('GBDWHR.csv', index=False)"
   ]
  },
  {
   "cell_type": "code",
   "execution_count": 235,
   "id": "0585035c",
   "metadata": {},
   "outputs": [
    {
     "data": {
      "application/vnd.plotly.v1+json": {
       "config": {
        "plotlyServerURL": "https://plot.ly"
       },
       "data": [
        {
         "hovertemplate": "<b>%{hovertext}</b><br><br>Road Injuries=%{x}<br>Freedom to make life choices=%{y}<extra></extra>",
         "hovertext": [
          "Afghanistan",
          "Albania",
          "United Arab Emirates",
          "Argentina",
          "Armenia",
          "Australia",
          "Austria",
          "Azerbaijan",
          "Burundi",
          "Belgium",
          "Benin",
          "Burkina Faso",
          "Bangladesh",
          "Bulgaria",
          "Bahrain",
          "Bosnia and Herzegovina",
          "Belarus",
          "Brazil",
          "Botswana",
          "Central African Republic",
          "Canada",
          "Switzerland",
          "Chile",
          "Cameroon",
          "Colombia",
          "Comoros",
          "Costa Rica",
          "Cyprus",
          "Germany",
          "Denmark",
          "Dominican Republic",
          "Algeria",
          "Ecuador",
          "Spain",
          "Estonia",
          "Ethiopia",
          "Finland",
          "France",
          "Gabon",
          "United Kingdom",
          "Georgia",
          "Ghana",
          "Guinea",
          "Gambia",
          "Greece",
          "Guatemala",
          "Honduras",
          "Croatia",
          "Haiti",
          "Hungary",
          "Indonesia",
          "India",
          "Ireland",
          "Iraq",
          "Iceland",
          "Israel",
          "Italy",
          "Jamaica",
          "Jordan",
          "Japan",
          "Kazakhstan",
          "Kenya",
          "Kyrgyzstan",
          "Cambodia",
          "Kuwait",
          "Lebanon",
          "Liberia",
          "Libya",
          "Sri Lanka",
          "Lesotho",
          "Lithuania",
          "Luxembourg",
          "Latvia",
          "Morocco",
          "Madagascar",
          "Maldives",
          "Mexico",
          "Mali",
          "Malta",
          "Myanmar",
          "Montenegro",
          "Mongolia",
          "Mozambique",
          "Mauritania",
          "Mauritius",
          "Malawi",
          "Malaysia",
          "Namibia",
          "Niger",
          "Nigeria",
          "Nicaragua",
          "Netherlands",
          "Norway",
          "Nepal",
          "New Zealand",
          "Pakistan",
          "Panama",
          "Peru",
          "Philippines",
          "Poland",
          "Portugal",
          "Paraguay",
          "Romania",
          "Rwanda",
          "Saudi Arabia",
          "Senegal",
          "Singapore",
          "Sierra Leone",
          "El Salvador",
          "Serbia",
          "South Sudan",
          "Slovakia",
          "Slovenia",
          "Sweden",
          "Chad",
          "Togo",
          "Thailand",
          "Tajikistan",
          "Turkmenistan",
          "Trinidad and Tobago",
          "Tunisia",
          "Turkey",
          "Uganda",
          "Ukraine",
          "Uruguay",
          "Uzbekistan",
          "Yemen",
          "South Africa",
          "Zambia",
          "Zimbabwe",
          "Egypt",
          "China"
         ],
         "legendgroup": "",
         "marker": {
          "color": "#636efa",
          "symbol": "circle"
         },
         "mode": "markers",
         "name": "",
         "orientation": "v",
         "showlegend": false,
         "type": "scatter",
         "x": [
          0.066641327,
          0.06838024,
          0.15266505,
          0.079143662,
          0.048349224,
          0.059117539,
          0.050365923,
          0.038269098,
          0.041683861,
          0.06704812,
          0.042746516,
          0.055095026,
          0.028538244,
          0.037427134,
          0.097386102,
          0.033934445,
          0.037829355,
          0.086101656,
          0.034871225,
          0.071011947,
          0.055790023,
          0.0403709,
          0.083013317,
          0.050995562,
          0.080120402,
          0.055547256,
          0.107248144,
          0.098016312,
          0.045764327,
          0.044368224,
          0.096074618,
          0.162422905,
          0.127797705,
          0.050841039,
          0.028575966,
          0.031542352,
          0.034215758,
          0.05991004,
          0.083831834,
          0.034596084,
          0.075373431,
          0.051857603,
          0.035918195,
          0.030919251,
          0.09551369,
          0.056673057,
          0.051319469,
          0.064738773,
          0.02414776,
          0.03861593,
          0.055434579,
          0.057327416,
          0.034484986,
          0.068001274,
          0.037279889,
          0.068584453,
          0.073457327,
          0.028279817,
          0.099227476,
          0.033480451,
          0.053265494,
          0.022197937,
          0.076460344,
          0.067473322,
          0.123313694,
          0.05591117,
          0.027606643,
          0.138825952,
          0.06817149,
          0.036598253,
          0.032398383,
          0.061344137,
          0.036885324,
          0.122015526,
          0.031369023,
          0.041648061,
          0.070708359,
          0.028074999,
          0.03944543,
          0.03934312,
          0.051872551,
          0.054430782,
          0.026381939,
          0.092365235,
          0.050007614,
          0.028665512,
          0.120740453,
          0.050670244,
          0.034689248,
          0.022349721,
          0.068153456,
          0.039203014,
          0.037167955,
          0.034854646,
          0.071656423,
          0.028217442,
          0.076776355,
          0.087529891,
          0.039167153,
          0.053927231,
          0.058203554,
          0.123117025,
          0.046773143,
          0.059316307,
          0.238398398,
          0.04000284,
          0.037088719,
          0.038518187,
          0.065789602,
          0.045687711,
          0.024784755,
          0.044599815,
          0.055031062,
          0.036868105,
          0.035160523,
          0.050252846,
          0.107271644,
          0.039688764,
          0.021090614,
          0.048669873,
          0.13262982,
          0.074540364,
          0.039954147,
          0.03719242,
          0.080525145,
          0.055737907,
          0.121016778,
          0.055650828,
          0.026893337,
          0.030762777,
          0.130130931,
          0.097773854
         ],
         "xaxis": "x",
         "y": [
          0.396573007,
          0.781994224,
          0.941345513,
          0.831132412,
          0.712017834,
          0.915431738,
          0.899989486,
          0.786824107,
          0.626350224,
          0.813582063,
          0.735182583,
          0.665563583,
          0.90062499,
          0.745178163,
          0.905855775,
          0.651352704,
          0.639163077,
          0.799804807,
          0.821328104,
          0.640880644,
          0.933913231,
          0.921336651,
          0.744896293,
          0.763051808,
          0.836179912,
          0.547612607,
          0.934738934,
          0.779858291,
          0.867371082,
          0.951444268,
          0.866202772,
          0.466610909,
          0.859828949,
          0.751989543,
          0.87770915,
          0.740795195,
          0.949172199,
          0.825467646,
          0.704829216,
          0.834743679,
          0.801641524,
          0.794796526,
          0.706846774,
          0.733163178,
          0.541345119,
          0.908147573,
          0.870603263,
          0.714838803,
          0.537825167,
          0.718964577,
          0.870614409,
          0.881444871,
          0.886982977,
          0.633182645,
          0.948891878,
          0.747580588,
          0.66465199,
          0.858068526,
          0.75104779,
          0.809961379,
          0.811601937,
          0.829747558,
          0.909374893,
          0.959704638,
          0.872366488,
          0.551357508,
          0.735268712,
          0.773157001,
          0.837633669,
          0.738125861,
          0.747381449,
          0.90563643,
          0.671237648,
          0.772072434,
          0.557574093,
          0.853962779,
          0.858709276,
          0.71156615,
          0.924911439,
          0.895075202,
          0.649565637,
          0.693351328,
          0.864451885,
          0.551522553,
          0.889534533,
          0.803223193,
          0.894626856,
          0.767520964,
          0.759772122,
          0.759578407,
          0.863902867,
          0.908547819,
          0.955750287,
          0.797565043,
          0.936217487,
          0.734833717,
          0.880366504,
          0.824766099,
          0.915463448,
          0.862055779,
          0.888747811,
          0.885923445,
          0.842823207,
          0.900589406,
          0.854191244,
          0.690596163,
          0.926645339,
          0.715315044,
          0.833805263,
          0.726495862,
          0.451313615,
          0.749952674,
          0.936142623,
          0.939144194,
          0.587305248,
          0.649828613,
          0.905063033,
          0.831383407,
          0.826457024,
          0.857907116,
          0.593361557,
          0.608830452,
          0.731713951,
          0.663081884,
          0.892395437,
          0.974998116,
          0.599920273,
          0.759330094,
          0.806500256,
          0.711457908,
          0.708354175,
          0.898517907
         ],
         "yaxis": "y"
        },
        {
         "hovertemplate": "<b>OLS trendline</b><br>Freedom to make life choices = 0.020947 * log10(Road Injuries) + 0.813964<br>R<sup>2</sup>=0.001333<br><br>Road Injuries=%{x}<br>Freedom to make life choices=%{y} <b>(trend)</b><extra></extra>",
         "legendgroup": "",
         "marker": {
          "color": "#636efa",
          "symbol": "circle"
         },
         "mode": "lines",
         "name": "",
         "showlegend": false,
         "type": "scatter",
         "x": [
          0.021090614,
          0.022197937,
          0.022349721,
          0.02414776,
          0.024784755,
          0.026381939,
          0.026893337,
          0.027606643,
          0.028074999,
          0.028217442,
          0.028279817,
          0.028538244,
          0.028575966,
          0.028665512,
          0.030762777,
          0.030919251,
          0.031369023,
          0.031542352,
          0.032398383,
          0.033480451,
          0.033934445,
          0.034215758,
          0.034484986,
          0.034596084,
          0.034689248,
          0.034854646,
          0.034871225,
          0.035160523,
          0.035918195,
          0.036598253,
          0.036868105,
          0.036885324,
          0.037088719,
          0.037167955,
          0.03719242,
          0.037279889,
          0.037427134,
          0.037829355,
          0.038269098,
          0.038518187,
          0.03861593,
          0.039167153,
          0.039203014,
          0.03934312,
          0.03944543,
          0.039688764,
          0.039954147,
          0.04000284,
          0.0403709,
          0.041648061,
          0.041683861,
          0.042746516,
          0.044368224,
          0.044599815,
          0.045687711,
          0.045764327,
          0.046773143,
          0.048349224,
          0.048669873,
          0.050007614,
          0.050252846,
          0.050365923,
          0.050670244,
          0.050841039,
          0.050995562,
          0.051319469,
          0.051857603,
          0.051872551,
          0.053265494,
          0.053927231,
          0.054430782,
          0.055031062,
          0.055095026,
          0.055434579,
          0.055547256,
          0.055650828,
          0.055737907,
          0.055790023,
          0.05591117,
          0.056673057,
          0.057327416,
          0.058203554,
          0.059117539,
          0.059316307,
          0.05991004,
          0.061344137,
          0.064738773,
          0.065789602,
          0.066641327,
          0.06704812,
          0.067473322,
          0.068001274,
          0.068153456,
          0.06817149,
          0.06838024,
          0.068584453,
          0.070708359,
          0.071011947,
          0.071656423,
          0.073457327,
          0.074540364,
          0.075373431,
          0.076460344,
          0.076776355,
          0.079143662,
          0.080120402,
          0.080525145,
          0.083013317,
          0.083831834,
          0.086101656,
          0.087529891,
          0.092365235,
          0.09551369,
          0.096074618,
          0.097386102,
          0.097773854,
          0.098016312,
          0.099227476,
          0.107248144,
          0.107271644,
          0.120740453,
          0.121016778,
          0.122015526,
          0.123117025,
          0.123313694,
          0.127797705,
          0.130130931,
          0.13262982,
          0.138825952,
          0.15266505,
          0.162422905,
          0.238398398
         ],
         "xaxis": "x",
         "y": [
          0.7788586132817965,
          0.7793241258818615,
          0.7793861182481802,
          0.7800900356655472,
          0.7803268993259505,
          0.7808950246238903,
          0.7810696800462695,
          0.7813078241049832,
          0.7814608657811835,
          0.7815069049393756,
          0.7815269921102296,
          0.7816097462805444,
          0.7816217630026112,
          0.7816502253767293,
          0.7822925815341083,
          0.7823387366545824,
          0.7824701166019705,
          0.7825202443933043,
          0.7827638421215746,
          0.7830627126741444,
          0.7831852409229255,
          0.7832603444843402,
          0.7833316456162922,
          0.7833609061993744,
          0.783385371046303,
          0.783428643097737,
          0.7834329692301528,
          0.7835081295036636,
          0.7837020811715737,
          0.7838727120314319,
          0.7839395424991016,
          0.7839437902704767,
          0.7839938164604853,
          0.7840132308005191,
          0.7840192168331679,
          0.7840405863625844,
          0.7840764467605498,
          0.7841736902065515,
          0.7842788290892757,
          0.7843378494931222,
          0.7843609050067323,
          0.7844898441750736,
          0.7844981696126855,
          0.7845306235802204,
          0.7845542496040435,
          0.7846101964228882,
          0.7846708229928283,
          0.7846819031413673,
          0.7847652219203155,
          0.7850485580170491,
          0.7850563744223644,
          0.7852853830858744,
          0.7856241231819647,
          0.7856714845302625,
          0.78589072264689,
          0.7859059653364473,
          0.7861043220766561,
          0.7864058107833978,
          0.7864659433387458,
          0.7867126131385014,
          0.786757115568938,
          0.7867775626292347,
          0.7868323640465054,
          0.7868629763959551,
          0.7868905837627751,
          0.7869481831364635,
          0.7870430788482872,
          0.7870457007323652,
          0.7872867657971945,
          0.7873990868176776,
          0.7874836382508008,
          0.7875834153524257,
          0.7875939830619691,
          0.7876498771322696,
          0.787668349345798,
          0.7876852958686177,
          0.787699519407567,
          0.7877080214424426,
          0.7877277543208365,
          0.7878508818202379,
          0.787955317672004,
          0.7880932982118447,
          0.7882350430233875,
          0.7882655786235058,
          0.7883561848319354,
          0.7885713824634215,
          0.7890613613624379,
          0.7892078391992668,
          0.7893248568497964,
          0.7893802190193755,
          0.78943772865919,
          0.7895086332230724,
          0.7895289692520311,
          0.7895313761193514,
          0.7895591902206817,
          0.7895863177658666,
          0.7898637619740494,
          0.7899027371963321,
          0.7899849269011039,
          0.7902107351025819,
          0.79034388214482,
          0.7904449884453955,
          0.790575235895166,
          0.7906127569850254,
          0.7908890192065526,
          0.7910006032363343,
          0.7910464434876949,
          0.791323283857218,
          0.7914125430624087,
          0.7916555809998301,
          0.7918052446209923,
          0.7922944013320986,
          0.7925993280641417,
          0.7926525970924714,
          0.7927759394560592,
          0.7928120887087166,
          0.7928346197509957,
          0.7929463422121662,
          0.7936534665221932,
          0.7936554596535496,
          0.7947314605187764,
          0.7947522563513244,
          0.794827026764421,
          0.7949087831083894,
          0.7949233034413218,
          0.7952482274664215,
          0.79541281786961,
          0.7955858532774751,
          0.7960012207059652,
          0.7968656802549254,
          0.797429313850055,
          0.8009202525051151
         ],
         "yaxis": "y"
        }
       ],
       "layout": {
        "height": 300,
        "legend": {
         "tracegroupgap": 0
        },
        "margin": {
         "t": 60
        },
        "template": {
         "data": {
          "bar": [
           {
            "error_x": {
             "color": "#2a3f5f"
            },
            "error_y": {
             "color": "#2a3f5f"
            },
            "marker": {
             "line": {
              "color": "#E5ECF6",
              "width": 0.5
             },
             "pattern": {
              "fillmode": "overlay",
              "size": 10,
              "solidity": 0.2
             }
            },
            "type": "bar"
           }
          ],
          "barpolar": [
           {
            "marker": {
             "line": {
              "color": "#E5ECF6",
              "width": 0.5
             },
             "pattern": {
              "fillmode": "overlay",
              "size": 10,
              "solidity": 0.2
             }
            },
            "type": "barpolar"
           }
          ],
          "carpet": [
           {
            "aaxis": {
             "endlinecolor": "#2a3f5f",
             "gridcolor": "white",
             "linecolor": "white",
             "minorgridcolor": "white",
             "startlinecolor": "#2a3f5f"
            },
            "baxis": {
             "endlinecolor": "#2a3f5f",
             "gridcolor": "white",
             "linecolor": "white",
             "minorgridcolor": "white",
             "startlinecolor": "#2a3f5f"
            },
            "type": "carpet"
           }
          ],
          "choropleth": [
           {
            "colorbar": {
             "outlinewidth": 0,
             "ticks": ""
            },
            "type": "choropleth"
           }
          ],
          "contour": [
           {
            "colorbar": {
             "outlinewidth": 0,
             "ticks": ""
            },
            "colorscale": [
             [
              0,
              "#0d0887"
             ],
             [
              0.1111111111111111,
              "#46039f"
             ],
             [
              0.2222222222222222,
              "#7201a8"
             ],
             [
              0.3333333333333333,
              "#9c179e"
             ],
             [
              0.4444444444444444,
              "#bd3786"
             ],
             [
              0.5555555555555556,
              "#d8576b"
             ],
             [
              0.6666666666666666,
              "#ed7953"
             ],
             [
              0.7777777777777778,
              "#fb9f3a"
             ],
             [
              0.8888888888888888,
              "#fdca26"
             ],
             [
              1,
              "#f0f921"
             ]
            ],
            "type": "contour"
           }
          ],
          "contourcarpet": [
           {
            "colorbar": {
             "outlinewidth": 0,
             "ticks": ""
            },
            "type": "contourcarpet"
           }
          ],
          "heatmap": [
           {
            "colorbar": {
             "outlinewidth": 0,
             "ticks": ""
            },
            "colorscale": [
             [
              0,
              "#0d0887"
             ],
             [
              0.1111111111111111,
              "#46039f"
             ],
             [
              0.2222222222222222,
              "#7201a8"
             ],
             [
              0.3333333333333333,
              "#9c179e"
             ],
             [
              0.4444444444444444,
              "#bd3786"
             ],
             [
              0.5555555555555556,
              "#d8576b"
             ],
             [
              0.6666666666666666,
              "#ed7953"
             ],
             [
              0.7777777777777778,
              "#fb9f3a"
             ],
             [
              0.8888888888888888,
              "#fdca26"
             ],
             [
              1,
              "#f0f921"
             ]
            ],
            "type": "heatmap"
           }
          ],
          "heatmapgl": [
           {
            "colorbar": {
             "outlinewidth": 0,
             "ticks": ""
            },
            "colorscale": [
             [
              0,
              "#0d0887"
             ],
             [
              0.1111111111111111,
              "#46039f"
             ],
             [
              0.2222222222222222,
              "#7201a8"
             ],
             [
              0.3333333333333333,
              "#9c179e"
             ],
             [
              0.4444444444444444,
              "#bd3786"
             ],
             [
              0.5555555555555556,
              "#d8576b"
             ],
             [
              0.6666666666666666,
              "#ed7953"
             ],
             [
              0.7777777777777778,
              "#fb9f3a"
             ],
             [
              0.8888888888888888,
              "#fdca26"
             ],
             [
              1,
              "#f0f921"
             ]
            ],
            "type": "heatmapgl"
           }
          ],
          "histogram": [
           {
            "marker": {
             "pattern": {
              "fillmode": "overlay",
              "size": 10,
              "solidity": 0.2
             }
            },
            "type": "histogram"
           }
          ],
          "histogram2d": [
           {
            "colorbar": {
             "outlinewidth": 0,
             "ticks": ""
            },
            "colorscale": [
             [
              0,
              "#0d0887"
             ],
             [
              0.1111111111111111,
              "#46039f"
             ],
             [
              0.2222222222222222,
              "#7201a8"
             ],
             [
              0.3333333333333333,
              "#9c179e"
             ],
             [
              0.4444444444444444,
              "#bd3786"
             ],
             [
              0.5555555555555556,
              "#d8576b"
             ],
             [
              0.6666666666666666,
              "#ed7953"
             ],
             [
              0.7777777777777778,
              "#fb9f3a"
             ],
             [
              0.8888888888888888,
              "#fdca26"
             ],
             [
              1,
              "#f0f921"
             ]
            ],
            "type": "histogram2d"
           }
          ],
          "histogram2dcontour": [
           {
            "colorbar": {
             "outlinewidth": 0,
             "ticks": ""
            },
            "colorscale": [
             [
              0,
              "#0d0887"
             ],
             [
              0.1111111111111111,
              "#46039f"
             ],
             [
              0.2222222222222222,
              "#7201a8"
             ],
             [
              0.3333333333333333,
              "#9c179e"
             ],
             [
              0.4444444444444444,
              "#bd3786"
             ],
             [
              0.5555555555555556,
              "#d8576b"
             ],
             [
              0.6666666666666666,
              "#ed7953"
             ],
             [
              0.7777777777777778,
              "#fb9f3a"
             ],
             [
              0.8888888888888888,
              "#fdca26"
             ],
             [
              1,
              "#f0f921"
             ]
            ],
            "type": "histogram2dcontour"
           }
          ],
          "mesh3d": [
           {
            "colorbar": {
             "outlinewidth": 0,
             "ticks": ""
            },
            "type": "mesh3d"
           }
          ],
          "parcoords": [
           {
            "line": {
             "colorbar": {
              "outlinewidth": 0,
              "ticks": ""
             }
            },
            "type": "parcoords"
           }
          ],
          "pie": [
           {
            "automargin": true,
            "type": "pie"
           }
          ],
          "scatter": [
           {
            "fillpattern": {
             "fillmode": "overlay",
             "size": 10,
             "solidity": 0.2
            },
            "type": "scatter"
           }
          ],
          "scatter3d": [
           {
            "line": {
             "colorbar": {
              "outlinewidth": 0,
              "ticks": ""
             }
            },
            "marker": {
             "colorbar": {
              "outlinewidth": 0,
              "ticks": ""
             }
            },
            "type": "scatter3d"
           }
          ],
          "scattercarpet": [
           {
            "marker": {
             "colorbar": {
              "outlinewidth": 0,
              "ticks": ""
             }
            },
            "type": "scattercarpet"
           }
          ],
          "scattergeo": [
           {
            "marker": {
             "colorbar": {
              "outlinewidth": 0,
              "ticks": ""
             }
            },
            "type": "scattergeo"
           }
          ],
          "scattergl": [
           {
            "marker": {
             "colorbar": {
              "outlinewidth": 0,
              "ticks": ""
             }
            },
            "type": "scattergl"
           }
          ],
          "scattermapbox": [
           {
            "marker": {
             "colorbar": {
              "outlinewidth": 0,
              "ticks": ""
             }
            },
            "type": "scattermapbox"
           }
          ],
          "scatterpolar": [
           {
            "marker": {
             "colorbar": {
              "outlinewidth": 0,
              "ticks": ""
             }
            },
            "type": "scatterpolar"
           }
          ],
          "scatterpolargl": [
           {
            "marker": {
             "colorbar": {
              "outlinewidth": 0,
              "ticks": ""
             }
            },
            "type": "scatterpolargl"
           }
          ],
          "scatterternary": [
           {
            "marker": {
             "colorbar": {
              "outlinewidth": 0,
              "ticks": ""
             }
            },
            "type": "scatterternary"
           }
          ],
          "surface": [
           {
            "colorbar": {
             "outlinewidth": 0,
             "ticks": ""
            },
            "colorscale": [
             [
              0,
              "#0d0887"
             ],
             [
              0.1111111111111111,
              "#46039f"
             ],
             [
              0.2222222222222222,
              "#7201a8"
             ],
             [
              0.3333333333333333,
              "#9c179e"
             ],
             [
              0.4444444444444444,
              "#bd3786"
             ],
             [
              0.5555555555555556,
              "#d8576b"
             ],
             [
              0.6666666666666666,
              "#ed7953"
             ],
             [
              0.7777777777777778,
              "#fb9f3a"
             ],
             [
              0.8888888888888888,
              "#fdca26"
             ],
             [
              1,
              "#f0f921"
             ]
            ],
            "type": "surface"
           }
          ],
          "table": [
           {
            "cells": {
             "fill": {
              "color": "#EBF0F8"
             },
             "line": {
              "color": "white"
             }
            },
            "header": {
             "fill": {
              "color": "#C8D4E3"
             },
             "line": {
              "color": "white"
             }
            },
            "type": "table"
           }
          ]
         },
         "layout": {
          "annotationdefaults": {
           "arrowcolor": "#2a3f5f",
           "arrowhead": 0,
           "arrowwidth": 1
          },
          "autotypenumbers": "strict",
          "coloraxis": {
           "colorbar": {
            "outlinewidth": 0,
            "ticks": ""
           }
          },
          "colorscale": {
           "diverging": [
            [
             0,
             "#8e0152"
            ],
            [
             0.1,
             "#c51b7d"
            ],
            [
             0.2,
             "#de77ae"
            ],
            [
             0.3,
             "#f1b6da"
            ],
            [
             0.4,
             "#fde0ef"
            ],
            [
             0.5,
             "#f7f7f7"
            ],
            [
             0.6,
             "#e6f5d0"
            ],
            [
             0.7,
             "#b8e186"
            ],
            [
             0.8,
             "#7fbc41"
            ],
            [
             0.9,
             "#4d9221"
            ],
            [
             1,
             "#276419"
            ]
           ],
           "sequential": [
            [
             0,
             "#0d0887"
            ],
            [
             0.1111111111111111,
             "#46039f"
            ],
            [
             0.2222222222222222,
             "#7201a8"
            ],
            [
             0.3333333333333333,
             "#9c179e"
            ],
            [
             0.4444444444444444,
             "#bd3786"
            ],
            [
             0.5555555555555556,
             "#d8576b"
            ],
            [
             0.6666666666666666,
             "#ed7953"
            ],
            [
             0.7777777777777778,
             "#fb9f3a"
            ],
            [
             0.8888888888888888,
             "#fdca26"
            ],
            [
             1,
             "#f0f921"
            ]
           ],
           "sequentialminus": [
            [
             0,
             "#0d0887"
            ],
            [
             0.1111111111111111,
             "#46039f"
            ],
            [
             0.2222222222222222,
             "#7201a8"
            ],
            [
             0.3333333333333333,
             "#9c179e"
            ],
            [
             0.4444444444444444,
             "#bd3786"
            ],
            [
             0.5555555555555556,
             "#d8576b"
            ],
            [
             0.6666666666666666,
             "#ed7953"
            ],
            [
             0.7777777777777778,
             "#fb9f3a"
            ],
            [
             0.8888888888888888,
             "#fdca26"
            ],
            [
             1,
             "#f0f921"
            ]
           ]
          },
          "colorway": [
           "#636efa",
           "#EF553B",
           "#00cc96",
           "#ab63fa",
           "#FFA15A",
           "#19d3f3",
           "#FF6692",
           "#B6E880",
           "#FF97FF",
           "#FECB52"
          ],
          "font": {
           "color": "#2a3f5f"
          },
          "geo": {
           "bgcolor": "white",
           "lakecolor": "white",
           "landcolor": "#E5ECF6",
           "showlakes": true,
           "showland": true,
           "subunitcolor": "white"
          },
          "hoverlabel": {
           "align": "left"
          },
          "hovermode": "closest",
          "mapbox": {
           "style": "light"
          },
          "paper_bgcolor": "white",
          "plot_bgcolor": "#E5ECF6",
          "polar": {
           "angularaxis": {
            "gridcolor": "white",
            "linecolor": "white",
            "ticks": ""
           },
           "bgcolor": "#E5ECF6",
           "radialaxis": {
            "gridcolor": "white",
            "linecolor": "white",
            "ticks": ""
           }
          },
          "scene": {
           "xaxis": {
            "backgroundcolor": "#E5ECF6",
            "gridcolor": "white",
            "gridwidth": 2,
            "linecolor": "white",
            "showbackground": true,
            "ticks": "",
            "zerolinecolor": "white"
           },
           "yaxis": {
            "backgroundcolor": "#E5ECF6",
            "gridcolor": "white",
            "gridwidth": 2,
            "linecolor": "white",
            "showbackground": true,
            "ticks": "",
            "zerolinecolor": "white"
           },
           "zaxis": {
            "backgroundcolor": "#E5ECF6",
            "gridcolor": "white",
            "gridwidth": 2,
            "linecolor": "white",
            "showbackground": true,
            "ticks": "",
            "zerolinecolor": "white"
           }
          },
          "shapedefaults": {
           "line": {
            "color": "#2a3f5f"
           }
          },
          "ternary": {
           "aaxis": {
            "gridcolor": "white",
            "linecolor": "white",
            "ticks": ""
           },
           "baxis": {
            "gridcolor": "white",
            "linecolor": "white",
            "ticks": ""
           },
           "bgcolor": "#E5ECF6",
           "caxis": {
            "gridcolor": "white",
            "linecolor": "white",
            "ticks": ""
           }
          },
          "title": {
           "x": 0.05
          },
          "xaxis": {
           "automargin": true,
           "gridcolor": "white",
           "linecolor": "white",
           "ticks": "",
           "title": {
            "standoff": 15
           },
           "zerolinecolor": "white",
           "zerolinewidth": 2
          },
          "yaxis": {
           "automargin": true,
           "gridcolor": "white",
           "linecolor": "white",
           "ticks": "",
           "title": {
            "standoff": 15
           },
           "zerolinecolor": "white",
           "zerolinewidth": 2
          }
         }
        },
        "title": {
         "text": "Scatterplot of Road Injury Death Rates and Freedom to make life choices",
         "x": 0.5,
         "y": 0.95
        },
        "width": 700,
        "xaxis": {
         "anchor": "y",
         "domain": [
          0,
          1
         ],
         "title": {
          "text": "Road Injuries"
         }
        },
        "yaxis": {
         "anchor": "x",
         "domain": [
          0,
          1
         ],
         "title": {
          "text": "Freedom to make life choices"
         }
        }
       }
      }
     },
     "metadata": {},
     "output_type": "display_data"
    },
    {
     "data": {
      "application/vnd.plotly.v1+json": {
       "config": {
        "plotlyServerURL": "https://plot.ly"
       },
       "data": [
        {
         "hovertemplate": "<b>%{hovertext}</b><br><br>Road Injuries=%{x}<br>Healthy life expectancy=%{y}<extra></extra>",
         "hovertext": [
          "Afghanistan",
          "Albania",
          "United Arab Emirates",
          "Argentina",
          "Armenia",
          "Australia",
          "Austria",
          "Azerbaijan",
          "Burundi",
          "Belgium",
          "Benin",
          "Burkina Faso",
          "Bangladesh",
          "Bulgaria",
          "Bahrain",
          "Bosnia and Herzegovina",
          "Belarus",
          "Brazil",
          "Botswana",
          "Central African Republic",
          "Canada",
          "Switzerland",
          "Chile",
          "Cameroon",
          "Colombia",
          "Comoros",
          "Costa Rica",
          "Cyprus",
          "Germany",
          "Denmark",
          "Dominican Republic",
          "Algeria",
          "Ecuador",
          "Spain",
          "Estonia",
          "Ethiopia",
          "Finland",
          "France",
          "Gabon",
          "United Kingdom",
          "Georgia",
          "Ghana",
          "Guinea",
          "Gambia",
          "Greece",
          "Guatemala",
          "Honduras",
          "Croatia",
          "Haiti",
          "Hungary",
          "Indonesia",
          "India",
          "Ireland",
          "Iraq",
          "Iceland",
          "Israel",
          "Italy",
          "Jamaica",
          "Jordan",
          "Japan",
          "Kazakhstan",
          "Kenya",
          "Kyrgyzstan",
          "Cambodia",
          "Kuwait",
          "Lebanon",
          "Liberia",
          "Libya",
          "Sri Lanka",
          "Lesotho",
          "Lithuania",
          "Luxembourg",
          "Latvia",
          "Morocco",
          "Madagascar",
          "Maldives",
          "Mexico",
          "Mali",
          "Malta",
          "Myanmar",
          "Montenegro",
          "Mongolia",
          "Mozambique",
          "Mauritania",
          "Mauritius",
          "Malawi",
          "Malaysia",
          "Namibia",
          "Niger",
          "Nigeria",
          "Nicaragua",
          "Netherlands",
          "Norway",
          "Nepal",
          "New Zealand",
          "Pakistan",
          "Panama",
          "Peru",
          "Philippines",
          "Poland",
          "Portugal",
          "Paraguay",
          "Romania",
          "Rwanda",
          "Saudi Arabia",
          "Senegal",
          "Singapore",
          "Sierra Leone",
          "El Salvador",
          "Serbia",
          "South Sudan",
          "Slovakia",
          "Slovenia",
          "Sweden",
          "Chad",
          "Togo",
          "Thailand",
          "Tajikistan",
          "Turkmenistan",
          "Trinidad and Tobago",
          "Tunisia",
          "Turkey",
          "Uganda",
          "Ukraine",
          "Uruguay",
          "Uzbekistan",
          "Yemen",
          "South Africa",
          "Zambia",
          "Zimbabwe",
          "Egypt",
          "China"
         ],
         "legendgroup": "",
         "marker": {
          "color": "#636efa",
          "symbol": "circle"
         },
         "mode": "markers",
         "name": "",
         "orientation": "v",
         "showlegend": false,
         "type": "scatter",
         "x": [
          0.066641327,
          0.06838024,
          0.15266505,
          0.079143662,
          0.048349224,
          0.059117539,
          0.050365923,
          0.038269098,
          0.041683861,
          0.06704812,
          0.042746516,
          0.055095026,
          0.028538244,
          0.037427134,
          0.097386102,
          0.033934445,
          0.037829355,
          0.086101656,
          0.034871225,
          0.071011947,
          0.055790023,
          0.0403709,
          0.083013317,
          0.050995562,
          0.080120402,
          0.055547256,
          0.107248144,
          0.098016312,
          0.045764327,
          0.044368224,
          0.096074618,
          0.162422905,
          0.127797705,
          0.050841039,
          0.028575966,
          0.031542352,
          0.034215758,
          0.05991004,
          0.083831834,
          0.034596084,
          0.075373431,
          0.051857603,
          0.035918195,
          0.030919251,
          0.09551369,
          0.056673057,
          0.051319469,
          0.064738773,
          0.02414776,
          0.03861593,
          0.055434579,
          0.057327416,
          0.034484986,
          0.068001274,
          0.037279889,
          0.068584453,
          0.073457327,
          0.028279817,
          0.099227476,
          0.033480451,
          0.053265494,
          0.022197937,
          0.076460344,
          0.067473322,
          0.123313694,
          0.05591117,
          0.027606643,
          0.138825952,
          0.06817149,
          0.036598253,
          0.032398383,
          0.061344137,
          0.036885324,
          0.122015526,
          0.031369023,
          0.041648061,
          0.070708359,
          0.028074999,
          0.03944543,
          0.03934312,
          0.051872551,
          0.054430782,
          0.026381939,
          0.092365235,
          0.050007614,
          0.028665512,
          0.120740453,
          0.050670244,
          0.034689248,
          0.022349721,
          0.068153456,
          0.039203014,
          0.037167955,
          0.034854646,
          0.071656423,
          0.028217442,
          0.076776355,
          0.087529891,
          0.039167153,
          0.053927231,
          0.058203554,
          0.123117025,
          0.046773143,
          0.059316307,
          0.238398398,
          0.04000284,
          0.037088719,
          0.038518187,
          0.065789602,
          0.045687711,
          0.024784755,
          0.044599815,
          0.055031062,
          0.036868105,
          0.035160523,
          0.050252846,
          0.107271644,
          0.039688764,
          0.021090614,
          0.048669873,
          0.13262982,
          0.074540364,
          0.039954147,
          0.03719242,
          0.080525145,
          0.055737907,
          0.121016778,
          0.055650828,
          0.026893337,
          0.030762777,
          0.130130931,
          0.097773854
         ],
         "xaxis": "x",
         "y": [
          52.59000015,
          68.70813751,
          67.08278656,
          68.80380249,
          66.75065613,
          73.60453796,
          73.00250244,
          65.50839996,
          53.40000153,
          72.00164795,
          54.31246567,
          53.88945389,
          64.50306702,
          66.80397797,
          68.5,
          67.80813599,
          66.10433197,
          66.48016357,
          58.92445374,
          45.20000076,
          73.60160065,
          74.10244751,
          69.90061951,
          52.7049408,
          67.69958496,
          57.34901047,
          71.29985046,
          73.70222473,
          72.20201874,
          72.40250397,
          65.80748749,
          65.90517426,
          68.50003815,
          74.40270996,
          68.60495758,
          58.63959122,
          71.9008255,
          73.80193329,
          59.71533966,
          72.30160522,
          64.49520874,
          57.20398712,
          54.46780014,
          55.0120163,
          72.40525818,
          64.8089447,
          67.19876862,
          70.21490479,
          55.59862518,
          67.60997009,
          62.15584946,
          60.21518707,
          72.30078888,
          59.90354919,
          73,
          73.20025635,
          73.60168457,
          67.09999847,
          66.79975128,
          75.00096893,
          64.60996246,
          60.09693146,
          64.10601044,
          61.52996826,
          66.76764679,
          67.10658264,
          56.09631348,
          62.29999924,
          67.20006561,
          48.00362396,
          67.29407501,
          72.59999847,
          66.8074646,
          65.89624023,
          59.10542679,
          70.59999847,
          68.29902649,
          51.72698212,
          72.19999695,
          58.96171188,
          68.50534821,
          62.30448532,
          54.20582199,
          57.01017761,
          66.40434265,
          57.59288788,
          67.10215759,
          56.50148773,
          53.50009537,
          49.86190796,
          67.50717926,
          72.30091858,
          73.20078278,
          63.77917862,
          73.20262909,
          58.25313568,
          69.60301208,
          68.10023499,
          61.92676163,
          69.31113434,
          72.40202332,
          65.63993835,
          67.20723724,
          61.09884644,
          66.30514526,
          59.59915161,
          76.80458069,
          50.86514282,
          66.10826111,
          68.21020508,
          51,
          68.90634155,
          71.1029892,
          72.60076904,
          48.22053909,
          54.71989822,
          67.25059509,
          64.10459137,
          62.21170807,
          63.5,
          66.89785767,
          66.90281677,
          55.70820236,
          64.60678101,
          69.00254822,
          65.10757446,
          56.72728348,
          56.50601196,
          55.29937744,
          55.61725998,
          61.78015137,
          69.2891922
         ],
         "yaxis": "y"
        },
        {
         "hovertemplate": "<b>OLS trendline</b><br>Healthy life expectancy = 9.07967 * log10(Road Injuries) + 76.0478<br>R<sup>2</sup>=0.073868<br><br>Road Injuries=%{x}<br>Healthy life expectancy=%{y} <b>(trend)</b><extra></extra>",
         "legendgroup": "",
         "marker": {
          "color": "#636efa",
          "symbol": "circle"
         },
         "mode": "lines",
         "name": "",
         "showlegend": false,
         "type": "scatter",
         "x": [
          0.021090614,
          0.022197937,
          0.022349721,
          0.02414776,
          0.024784755,
          0.026381939,
          0.026893337,
          0.027606643,
          0.028074999,
          0.028217442,
          0.028279817,
          0.028538244,
          0.028575966,
          0.028665512,
          0.030762777,
          0.030919251,
          0.031369023,
          0.031542352,
          0.032398383,
          0.033480451,
          0.033934445,
          0.034215758,
          0.034484986,
          0.034596084,
          0.034689248,
          0.034854646,
          0.034871225,
          0.035160523,
          0.035918195,
          0.036598253,
          0.036868105,
          0.036885324,
          0.037088719,
          0.037167955,
          0.03719242,
          0.037279889,
          0.037427134,
          0.037829355,
          0.038269098,
          0.038518187,
          0.03861593,
          0.039167153,
          0.039203014,
          0.03934312,
          0.03944543,
          0.039688764,
          0.039954147,
          0.04000284,
          0.0403709,
          0.041648061,
          0.041683861,
          0.042746516,
          0.044368224,
          0.044599815,
          0.045687711,
          0.045764327,
          0.046773143,
          0.048349224,
          0.048669873,
          0.050007614,
          0.050252846,
          0.050365923,
          0.050670244,
          0.050841039,
          0.050995562,
          0.051319469,
          0.051857603,
          0.051872551,
          0.053265494,
          0.053927231,
          0.054430782,
          0.055031062,
          0.055095026,
          0.055434579,
          0.055547256,
          0.055650828,
          0.055737907,
          0.055790023,
          0.05591117,
          0.056673057,
          0.057327416,
          0.058203554,
          0.059117539,
          0.059316307,
          0.05991004,
          0.061344137,
          0.064738773,
          0.065789602,
          0.066641327,
          0.06704812,
          0.067473322,
          0.068001274,
          0.068153456,
          0.06817149,
          0.06838024,
          0.068584453,
          0.070708359,
          0.071011947,
          0.071656423,
          0.073457327,
          0.074540364,
          0.075373431,
          0.076460344,
          0.076776355,
          0.079143662,
          0.080120402,
          0.080525145,
          0.083013317,
          0.083831834,
          0.086101656,
          0.087529891,
          0.092365235,
          0.09551369,
          0.096074618,
          0.097386102,
          0.097773854,
          0.098016312,
          0.099227476,
          0.107248144,
          0.107271644,
          0.120740453,
          0.121016778,
          0.122015526,
          0.123117025,
          0.123313694,
          0.127797705,
          0.130130931,
          0.13262982,
          0.138825952,
          0.15266505,
          0.162422905,
          0.238398398
         ],
         "xaxis": "x",
         "y": [
          60.8310774098692,
          61.03285844661943,
          61.05972965041637,
          61.364849611171536,
          61.46752050548879,
          61.71378003016399,
          61.78948614896039,
          61.892712044578346,
          61.95904947150379,
          61.97900559958669,
          61.98771258229722,
          62.02358319520694,
          62.02879196213755,
          62.04112925946766,
          62.319564883725135,
          62.33957127680516,
          62.39651921331313,
          62.418247599835695,
          62.52383744241679,
          62.65338583690328,
          62.706496917176494,
          62.7390512980542,
          62.76995747830523,
          62.78264076719887,
          62.79324529686467,
          62.81200199517836,
          62.81387720002541,
          62.8464561633216,
          62.930526430431186,
          63.00448806283159,
          63.0334563894698,
          63.03529762794932,
          63.056981974373436,
          63.06539731191601,
          63.0679920169223,
          63.077254850624186,
          63.092798894499076,
          63.13495002714007,
          63.18052351485211,
          63.20610649214615,
          63.21610013235782,
          63.27199008906791,
          63.275598832273765,
          63.28966632521581,
          63.299907258717184,
          63.32415796021867,
          63.35043714607833,
          63.35523994595795,
          63.391355294059316,
          63.51417012515025,
          63.51755822327684,
          63.61682429156665,
          63.763654533687806,
          63.78418377813806,
          63.87921470632793,
          63.88582180074668,
          63.97180148997559,
          64.10248474926077,
          64.12854979961355,
          64.23547126193856,
          64.25476128018978,
          64.26362426053568,
          64.28737847640593,
          64.30064770178988,
          64.31261438775735,
          64.33758140548659,
          64.37871488954751,
          64.37985137111096,
          64.48434340569544,
          64.53303006199378,
          64.56967971622859,
          64.61292908693736,
          64.61750976507035,
          64.64173760219406,
          64.6497445656926,
          64.6570902034764,
          64.66325553699272,
          64.66694082802768,
          64.67549423917022,
          64.72886507054665,
          64.77413382254244,
          64.83394285107688,
          64.89538354037956,
          64.9086194980073,
          64.94789365443269,
          65.04117319440945,
          65.25355939021911,
          65.31705165610443,
          65.36777411310909,
          65.39177139260882,
          65.41669951430367,
          65.44743379820602,
          65.45624865092128,
          65.45729193134623,
          65.46934822843015,
          65.48110693096824,
          65.60136786474247,
          65.61826205999876,
          65.65388799974076,
          65.75176679613546,
          65.80948069736881,
          65.85330622249798,
          65.90976326672214,
          65.9260271539097,
          66.0457757438875,
          66.09414294428329,
          66.11401285423446,
          66.23401204817442,
          66.27270233273467,
          66.37804952844037,
          66.44292270402724,
          66.6549525143623,
          66.78712601968938,
          66.81021600642987,
          66.86367997281121,
          66.87934922360685,
          66.88911552653724,
          66.93754273138657,
          67.24405275145607,
          67.24491669393886,
          67.71131990214269,
          67.72033406126758,
          67.75274403571458,
          67.7881821309338,
          67.79447611273507,
          67.93531764235324,
          68.00666097911765,
          68.08166488661365,
          68.26171000320412,
          68.63641853739517,
          68.88073108909975,
          70.39391294701542
         ],
         "yaxis": "y"
        }
       ],
       "layout": {
        "height": 300,
        "legend": {
         "tracegroupgap": 0
        },
        "margin": {
         "t": 60
        },
        "template": {
         "data": {
          "bar": [
           {
            "error_x": {
             "color": "#2a3f5f"
            },
            "error_y": {
             "color": "#2a3f5f"
            },
            "marker": {
             "line": {
              "color": "#E5ECF6",
              "width": 0.5
             },
             "pattern": {
              "fillmode": "overlay",
              "size": 10,
              "solidity": 0.2
             }
            },
            "type": "bar"
           }
          ],
          "barpolar": [
           {
            "marker": {
             "line": {
              "color": "#E5ECF6",
              "width": 0.5
             },
             "pattern": {
              "fillmode": "overlay",
              "size": 10,
              "solidity": 0.2
             }
            },
            "type": "barpolar"
           }
          ],
          "carpet": [
           {
            "aaxis": {
             "endlinecolor": "#2a3f5f",
             "gridcolor": "white",
             "linecolor": "white",
             "minorgridcolor": "white",
             "startlinecolor": "#2a3f5f"
            },
            "baxis": {
             "endlinecolor": "#2a3f5f",
             "gridcolor": "white",
             "linecolor": "white",
             "minorgridcolor": "white",
             "startlinecolor": "#2a3f5f"
            },
            "type": "carpet"
           }
          ],
          "choropleth": [
           {
            "colorbar": {
             "outlinewidth": 0,
             "ticks": ""
            },
            "type": "choropleth"
           }
          ],
          "contour": [
           {
            "colorbar": {
             "outlinewidth": 0,
             "ticks": ""
            },
            "colorscale": [
             [
              0,
              "#0d0887"
             ],
             [
              0.1111111111111111,
              "#46039f"
             ],
             [
              0.2222222222222222,
              "#7201a8"
             ],
             [
              0.3333333333333333,
              "#9c179e"
             ],
             [
              0.4444444444444444,
              "#bd3786"
             ],
             [
              0.5555555555555556,
              "#d8576b"
             ],
             [
              0.6666666666666666,
              "#ed7953"
             ],
             [
              0.7777777777777778,
              "#fb9f3a"
             ],
             [
              0.8888888888888888,
              "#fdca26"
             ],
             [
              1,
              "#f0f921"
             ]
            ],
            "type": "contour"
           }
          ],
          "contourcarpet": [
           {
            "colorbar": {
             "outlinewidth": 0,
             "ticks": ""
            },
            "type": "contourcarpet"
           }
          ],
          "heatmap": [
           {
            "colorbar": {
             "outlinewidth": 0,
             "ticks": ""
            },
            "colorscale": [
             [
              0,
              "#0d0887"
             ],
             [
              0.1111111111111111,
              "#46039f"
             ],
             [
              0.2222222222222222,
              "#7201a8"
             ],
             [
              0.3333333333333333,
              "#9c179e"
             ],
             [
              0.4444444444444444,
              "#bd3786"
             ],
             [
              0.5555555555555556,
              "#d8576b"
             ],
             [
              0.6666666666666666,
              "#ed7953"
             ],
             [
              0.7777777777777778,
              "#fb9f3a"
             ],
             [
              0.8888888888888888,
              "#fdca26"
             ],
             [
              1,
              "#f0f921"
             ]
            ],
            "type": "heatmap"
           }
          ],
          "heatmapgl": [
           {
            "colorbar": {
             "outlinewidth": 0,
             "ticks": ""
            },
            "colorscale": [
             [
              0,
              "#0d0887"
             ],
             [
              0.1111111111111111,
              "#46039f"
             ],
             [
              0.2222222222222222,
              "#7201a8"
             ],
             [
              0.3333333333333333,
              "#9c179e"
             ],
             [
              0.4444444444444444,
              "#bd3786"
             ],
             [
              0.5555555555555556,
              "#d8576b"
             ],
             [
              0.6666666666666666,
              "#ed7953"
             ],
             [
              0.7777777777777778,
              "#fb9f3a"
             ],
             [
              0.8888888888888888,
              "#fdca26"
             ],
             [
              1,
              "#f0f921"
             ]
            ],
            "type": "heatmapgl"
           }
          ],
          "histogram": [
           {
            "marker": {
             "pattern": {
              "fillmode": "overlay",
              "size": 10,
              "solidity": 0.2
             }
            },
            "type": "histogram"
           }
          ],
          "histogram2d": [
           {
            "colorbar": {
             "outlinewidth": 0,
             "ticks": ""
            },
            "colorscale": [
             [
              0,
              "#0d0887"
             ],
             [
              0.1111111111111111,
              "#46039f"
             ],
             [
              0.2222222222222222,
              "#7201a8"
             ],
             [
              0.3333333333333333,
              "#9c179e"
             ],
             [
              0.4444444444444444,
              "#bd3786"
             ],
             [
              0.5555555555555556,
              "#d8576b"
             ],
             [
              0.6666666666666666,
              "#ed7953"
             ],
             [
              0.7777777777777778,
              "#fb9f3a"
             ],
             [
              0.8888888888888888,
              "#fdca26"
             ],
             [
              1,
              "#f0f921"
             ]
            ],
            "type": "histogram2d"
           }
          ],
          "histogram2dcontour": [
           {
            "colorbar": {
             "outlinewidth": 0,
             "ticks": ""
            },
            "colorscale": [
             [
              0,
              "#0d0887"
             ],
             [
              0.1111111111111111,
              "#46039f"
             ],
             [
              0.2222222222222222,
              "#7201a8"
             ],
             [
              0.3333333333333333,
              "#9c179e"
             ],
             [
              0.4444444444444444,
              "#bd3786"
             ],
             [
              0.5555555555555556,
              "#d8576b"
             ],
             [
              0.6666666666666666,
              "#ed7953"
             ],
             [
              0.7777777777777778,
              "#fb9f3a"
             ],
             [
              0.8888888888888888,
              "#fdca26"
             ],
             [
              1,
              "#f0f921"
             ]
            ],
            "type": "histogram2dcontour"
           }
          ],
          "mesh3d": [
           {
            "colorbar": {
             "outlinewidth": 0,
             "ticks": ""
            },
            "type": "mesh3d"
           }
          ],
          "parcoords": [
           {
            "line": {
             "colorbar": {
              "outlinewidth": 0,
              "ticks": ""
             }
            },
            "type": "parcoords"
           }
          ],
          "pie": [
           {
            "automargin": true,
            "type": "pie"
           }
          ],
          "scatter": [
           {
            "fillpattern": {
             "fillmode": "overlay",
             "size": 10,
             "solidity": 0.2
            },
            "type": "scatter"
           }
          ],
          "scatter3d": [
           {
            "line": {
             "colorbar": {
              "outlinewidth": 0,
              "ticks": ""
             }
            },
            "marker": {
             "colorbar": {
              "outlinewidth": 0,
              "ticks": ""
             }
            },
            "type": "scatter3d"
           }
          ],
          "scattercarpet": [
           {
            "marker": {
             "colorbar": {
              "outlinewidth": 0,
              "ticks": ""
             }
            },
            "type": "scattercarpet"
           }
          ],
          "scattergeo": [
           {
            "marker": {
             "colorbar": {
              "outlinewidth": 0,
              "ticks": ""
             }
            },
            "type": "scattergeo"
           }
          ],
          "scattergl": [
           {
            "marker": {
             "colorbar": {
              "outlinewidth": 0,
              "ticks": ""
             }
            },
            "type": "scattergl"
           }
          ],
          "scattermapbox": [
           {
            "marker": {
             "colorbar": {
              "outlinewidth": 0,
              "ticks": ""
             }
            },
            "type": "scattermapbox"
           }
          ],
          "scatterpolar": [
           {
            "marker": {
             "colorbar": {
              "outlinewidth": 0,
              "ticks": ""
             }
            },
            "type": "scatterpolar"
           }
          ],
          "scatterpolargl": [
           {
            "marker": {
             "colorbar": {
              "outlinewidth": 0,
              "ticks": ""
             }
            },
            "type": "scatterpolargl"
           }
          ],
          "scatterternary": [
           {
            "marker": {
             "colorbar": {
              "outlinewidth": 0,
              "ticks": ""
             }
            },
            "type": "scatterternary"
           }
          ],
          "surface": [
           {
            "colorbar": {
             "outlinewidth": 0,
             "ticks": ""
            },
            "colorscale": [
             [
              0,
              "#0d0887"
             ],
             [
              0.1111111111111111,
              "#46039f"
             ],
             [
              0.2222222222222222,
              "#7201a8"
             ],
             [
              0.3333333333333333,
              "#9c179e"
             ],
             [
              0.4444444444444444,
              "#bd3786"
             ],
             [
              0.5555555555555556,
              "#d8576b"
             ],
             [
              0.6666666666666666,
              "#ed7953"
             ],
             [
              0.7777777777777778,
              "#fb9f3a"
             ],
             [
              0.8888888888888888,
              "#fdca26"
             ],
             [
              1,
              "#f0f921"
             ]
            ],
            "type": "surface"
           }
          ],
          "table": [
           {
            "cells": {
             "fill": {
              "color": "#EBF0F8"
             },
             "line": {
              "color": "white"
             }
            },
            "header": {
             "fill": {
              "color": "#C8D4E3"
             },
             "line": {
              "color": "white"
             }
            },
            "type": "table"
           }
          ]
         },
         "layout": {
          "annotationdefaults": {
           "arrowcolor": "#2a3f5f",
           "arrowhead": 0,
           "arrowwidth": 1
          },
          "autotypenumbers": "strict",
          "coloraxis": {
           "colorbar": {
            "outlinewidth": 0,
            "ticks": ""
           }
          },
          "colorscale": {
           "diverging": [
            [
             0,
             "#8e0152"
            ],
            [
             0.1,
             "#c51b7d"
            ],
            [
             0.2,
             "#de77ae"
            ],
            [
             0.3,
             "#f1b6da"
            ],
            [
             0.4,
             "#fde0ef"
            ],
            [
             0.5,
             "#f7f7f7"
            ],
            [
             0.6,
             "#e6f5d0"
            ],
            [
             0.7,
             "#b8e186"
            ],
            [
             0.8,
             "#7fbc41"
            ],
            [
             0.9,
             "#4d9221"
            ],
            [
             1,
             "#276419"
            ]
           ],
           "sequential": [
            [
             0,
             "#0d0887"
            ],
            [
             0.1111111111111111,
             "#46039f"
            ],
            [
             0.2222222222222222,
             "#7201a8"
            ],
            [
             0.3333333333333333,
             "#9c179e"
            ],
            [
             0.4444444444444444,
             "#bd3786"
            ],
            [
             0.5555555555555556,
             "#d8576b"
            ],
            [
             0.6666666666666666,
             "#ed7953"
            ],
            [
             0.7777777777777778,
             "#fb9f3a"
            ],
            [
             0.8888888888888888,
             "#fdca26"
            ],
            [
             1,
             "#f0f921"
            ]
           ],
           "sequentialminus": [
            [
             0,
             "#0d0887"
            ],
            [
             0.1111111111111111,
             "#46039f"
            ],
            [
             0.2222222222222222,
             "#7201a8"
            ],
            [
             0.3333333333333333,
             "#9c179e"
            ],
            [
             0.4444444444444444,
             "#bd3786"
            ],
            [
             0.5555555555555556,
             "#d8576b"
            ],
            [
             0.6666666666666666,
             "#ed7953"
            ],
            [
             0.7777777777777778,
             "#fb9f3a"
            ],
            [
             0.8888888888888888,
             "#fdca26"
            ],
            [
             1,
             "#f0f921"
            ]
           ]
          },
          "colorway": [
           "#636efa",
           "#EF553B",
           "#00cc96",
           "#ab63fa",
           "#FFA15A",
           "#19d3f3",
           "#FF6692",
           "#B6E880",
           "#FF97FF",
           "#FECB52"
          ],
          "font": {
           "color": "#2a3f5f"
          },
          "geo": {
           "bgcolor": "white",
           "lakecolor": "white",
           "landcolor": "#E5ECF6",
           "showlakes": true,
           "showland": true,
           "subunitcolor": "white"
          },
          "hoverlabel": {
           "align": "left"
          },
          "hovermode": "closest",
          "mapbox": {
           "style": "light"
          },
          "paper_bgcolor": "white",
          "plot_bgcolor": "#E5ECF6",
          "polar": {
           "angularaxis": {
            "gridcolor": "white",
            "linecolor": "white",
            "ticks": ""
           },
           "bgcolor": "#E5ECF6",
           "radialaxis": {
            "gridcolor": "white",
            "linecolor": "white",
            "ticks": ""
           }
          },
          "scene": {
           "xaxis": {
            "backgroundcolor": "#E5ECF6",
            "gridcolor": "white",
            "gridwidth": 2,
            "linecolor": "white",
            "showbackground": true,
            "ticks": "",
            "zerolinecolor": "white"
           },
           "yaxis": {
            "backgroundcolor": "#E5ECF6",
            "gridcolor": "white",
            "gridwidth": 2,
            "linecolor": "white",
            "showbackground": true,
            "ticks": "",
            "zerolinecolor": "white"
           },
           "zaxis": {
            "backgroundcolor": "#E5ECF6",
            "gridcolor": "white",
            "gridwidth": 2,
            "linecolor": "white",
            "showbackground": true,
            "ticks": "",
            "zerolinecolor": "white"
           }
          },
          "shapedefaults": {
           "line": {
            "color": "#2a3f5f"
           }
          },
          "ternary": {
           "aaxis": {
            "gridcolor": "white",
            "linecolor": "white",
            "ticks": ""
           },
           "baxis": {
            "gridcolor": "white",
            "linecolor": "white",
            "ticks": ""
           },
           "bgcolor": "#E5ECF6",
           "caxis": {
            "gridcolor": "white",
            "linecolor": "white",
            "ticks": ""
           }
          },
          "title": {
           "x": 0.05
          },
          "xaxis": {
           "automargin": true,
           "gridcolor": "white",
           "linecolor": "white",
           "ticks": "",
           "title": {
            "standoff": 15
           },
           "zerolinecolor": "white",
           "zerolinewidth": 2
          },
          "yaxis": {
           "automargin": true,
           "gridcolor": "white",
           "linecolor": "white",
           "ticks": "",
           "title": {
            "standoff": 15
           },
           "zerolinecolor": "white",
           "zerolinewidth": 2
          }
         }
        },
        "title": {
         "text": "Scatterplot of Road Injury Death Rates and Healthy life expectancy",
         "x": 0.5,
         "y": 0.95
        },
        "width": 700,
        "xaxis": {
         "anchor": "y",
         "domain": [
          0,
          1
         ],
         "title": {
          "text": "Road Injuries"
         }
        },
        "yaxis": {
         "anchor": "x",
         "domain": [
          0,
          1
         ],
         "title": {
          "text": "Healthy life expectancy"
         }
        }
       }
      }
     },
     "metadata": {},
     "output_type": "display_data"
    },
    {
     "data": {
      "application/vnd.plotly.v1+json": {
       "config": {
        "plotlyServerURL": "https://plot.ly"
       },
       "data": [
        {
         "hovertemplate": "<b>%{hovertext}</b><br><br>Road Injuries=%{x}<br>Social support=%{y}<extra></extra>",
         "hovertext": [
          "Afghanistan",
          "Albania",
          "United Arab Emirates",
          "Argentina",
          "Armenia",
          "Australia",
          "Austria",
          "Azerbaijan",
          "Burundi",
          "Belgium",
          "Benin",
          "Burkina Faso",
          "Bangladesh",
          "Bulgaria",
          "Bahrain",
          "Bosnia and Herzegovina",
          "Belarus",
          "Brazil",
          "Botswana",
          "Central African Republic",
          "Canada",
          "Switzerland",
          "Chile",
          "Cameroon",
          "Colombia",
          "Comoros",
          "Costa Rica",
          "Cyprus",
          "Germany",
          "Denmark",
          "Dominican Republic",
          "Algeria",
          "Ecuador",
          "Spain",
          "Estonia",
          "Ethiopia",
          "Finland",
          "France",
          "Gabon",
          "United Kingdom",
          "Georgia",
          "Ghana",
          "Guinea",
          "Gambia",
          "Greece",
          "Guatemala",
          "Honduras",
          "Croatia",
          "Haiti",
          "Hungary",
          "Indonesia",
          "India",
          "Ireland",
          "Iraq",
          "Iceland",
          "Israel",
          "Italy",
          "Jamaica",
          "Jordan",
          "Japan",
          "Kazakhstan",
          "Kenya",
          "Kyrgyzstan",
          "Cambodia",
          "Kuwait",
          "Lebanon",
          "Liberia",
          "Libya",
          "Sri Lanka",
          "Lesotho",
          "Lithuania",
          "Luxembourg",
          "Latvia",
          "Morocco",
          "Madagascar",
          "Maldives",
          "Mexico",
          "Mali",
          "Malta",
          "Myanmar",
          "Montenegro",
          "Mongolia",
          "Mozambique",
          "Mauritania",
          "Mauritius",
          "Malawi",
          "Malaysia",
          "Namibia",
          "Niger",
          "Nigeria",
          "Nicaragua",
          "Netherlands",
          "Norway",
          "Nepal",
          "New Zealand",
          "Pakistan",
          "Panama",
          "Peru",
          "Philippines",
          "Poland",
          "Portugal",
          "Paraguay",
          "Romania",
          "Rwanda",
          "Saudi Arabia",
          "Senegal",
          "Singapore",
          "Sierra Leone",
          "El Salvador",
          "Serbia",
          "South Sudan",
          "Slovakia",
          "Slovenia",
          "Sweden",
          "Chad",
          "Togo",
          "Thailand",
          "Tajikistan",
          "Turkmenistan",
          "Trinidad and Tobago",
          "Tunisia",
          "Turkey",
          "Uganda",
          "Ukraine",
          "Uruguay",
          "Uzbekistan",
          "Yemen",
          "South Africa",
          "Zambia",
          "Zimbabwe",
          "Egypt",
          "China"
         ],
         "legendgroup": "",
         "marker": {
          "color": "#636efa",
          "symbol": "circle"
         },
         "mode": "markers",
         "name": "",
         "orientation": "v",
         "showlegend": false,
         "type": "scatter",
         "x": [
          0.066641327,
          0.06838024,
          0.15266505,
          0.079143662,
          0.048349224,
          0.059117539,
          0.050365923,
          0.038269098,
          0.041683861,
          0.06704812,
          0.042746516,
          0.055095026,
          0.028538244,
          0.037427134,
          0.097386102,
          0.033934445,
          0.037829355,
          0.086101656,
          0.034871225,
          0.071011947,
          0.055790023,
          0.0403709,
          0.083013317,
          0.050995562,
          0.080120402,
          0.055547256,
          0.107248144,
          0.098016312,
          0.045764327,
          0.044368224,
          0.096074618,
          0.162422905,
          0.127797705,
          0.050841039,
          0.028575966,
          0.031542352,
          0.034215758,
          0.05991004,
          0.083831834,
          0.034596084,
          0.075373431,
          0.051857603,
          0.035918195,
          0.030919251,
          0.09551369,
          0.056673057,
          0.051319469,
          0.064738773,
          0.02414776,
          0.03861593,
          0.055434579,
          0.057327416,
          0.034484986,
          0.068001274,
          0.037279889,
          0.068584453,
          0.073457327,
          0.028279817,
          0.099227476,
          0.033480451,
          0.053265494,
          0.022197937,
          0.076460344,
          0.067473322,
          0.123313694,
          0.05591117,
          0.027606643,
          0.138825952,
          0.06817149,
          0.036598253,
          0.032398383,
          0.061344137,
          0.036885324,
          0.122015526,
          0.031369023,
          0.041648061,
          0.070708359,
          0.028074999,
          0.03944543,
          0.03934312,
          0.051872551,
          0.054430782,
          0.026381939,
          0.092365235,
          0.050007614,
          0.028665512,
          0.120740453,
          0.050670244,
          0.034689248,
          0.022349721,
          0.068153456,
          0.039203014,
          0.037167955,
          0.034854646,
          0.071656423,
          0.028217442,
          0.076776355,
          0.087529891,
          0.039167153,
          0.053927231,
          0.058203554,
          0.123117025,
          0.046773143,
          0.059316307,
          0.238398398,
          0.04000284,
          0.037088719,
          0.038518187,
          0.065789602,
          0.045687711,
          0.024784755,
          0.044599815,
          0.055031062,
          0.036868105,
          0.035160523,
          0.050252846,
          0.107271644,
          0.039688764,
          0.021090614,
          0.048669873,
          0.13262982,
          0.074540364,
          0.039954147,
          0.03719242,
          0.080525145,
          0.055737907,
          0.121016778,
          0.055650828,
          0.026893337,
          0.030762777,
          0.130130931,
          0.097773854
         ],
         "xaxis": "x",
         "y": [
          0.470366955,
          0.671070457,
          0.849181116,
          0.900567949,
          0.757479429,
          0.944854617,
          0.928045869,
          0.819308281,
          0.490325719,
          0.911632538,
          0.468671143,
          0.712943614,
          0.687292993,
          0.937840343,
          0.876342118,
          0.829204142,
          0.90674746,
          0.896723807,
          0.779121757,
          0.319459856,
          0.927176654,
          0.942846596,
          0.879713595,
          0.700386405,
          0.884440243,
          0.625662446,
          0.901545942,
          0.805996239,
          0.898874462,
          0.955990791,
          0.882085383,
          0.803385139,
          0.836418986,
          0.921125412,
          0.934729993,
          0.743307352,
          0.954329729,
          0.937103748,
          0.787886858,
          0.93668282,
          0.629033029,
          0.728601098,
          0.637573481,
          0.6931687,
          0.814380348,
          0.816621482,
          0.821870148,
          0.874623716,
          0.593247831,
          0.921934128,
          0.808379889,
          0.592200935,
          0.942081571,
          0.747694969,
          0.974669576,
          0.913571239,
          0.889878571,
          0.915701866,
          0.80216372,
          0.883545935,
          0.934744895,
          0.702652037,
          0.887228489,
          0.773080647,
          0.846475244,
          0.824338138,
          0.70928055,
          0.825942934,
          0.825374067,
          0.780495703,
          0.926107109,
          0.906912208,
          0.918288589,
          0.592628479,
          0.668195903,
          0.91316092,
          0.838665426,
          0.731468976,
          0.93037951,
          0.78440702,
          0.855314612,
          0.937142491,
          0.723874032,
          0.790819228,
          0.910357833,
          0.544007301,
          0.816509426,
          0.846880972,
          0.617435038,
          0.73721689,
          0.857497036,
          0.93913883,
          0.952486575,
          0.785512447,
          0.949118972,
          0.689062297,
          0.902094483,
          0.831075251,
          0.846730053,
          0.874257445,
          0.886590719,
          0.898727894,
          0.825161517,
          0.54083544,
          0.874067068,
          0.723616004,
          0.910268962,
          0.636142015,
          0.806092262,
          0.881475747,
          0.553707123,
          0.922493756,
          0.939575672,
          0.926311195,
          0.632388055,
          0.551312625,
          0.889973223,
          0.835297108,
          0.958966196,
          0.91529417,
          0.688718557,
          0.826313555,
          0.764994621,
          0.878879368,
          0.92281127,
          0.926595807,
          0.817980587,
          0.852532268,
          0.698824465,
          0.763092756,
          0.735447824,
          0.798760593
         ],
         "yaxis": "y"
        },
        {
         "hovertemplate": "<b>OLS trendline</b><br>Social support = 0.0623801 * log10(Road Injuries) + 0.889414<br>R<sup>2</sup>=0.010831<br><br>Road Injuries=%{x}<br>Social support=%{y} <b>(trend)</b><extra></extra>",
         "legendgroup": "",
         "marker": {
          "color": "#636efa",
          "symbol": "circle"
         },
         "mode": "lines",
         "name": "",
         "showlegend": false,
         "type": "scatter",
         "x": [
          0.021090614,
          0.022197937,
          0.022349721,
          0.02414776,
          0.024784755,
          0.026381939,
          0.026893337,
          0.027606643,
          0.028074999,
          0.028217442,
          0.028279817,
          0.028538244,
          0.028575966,
          0.028665512,
          0.030762777,
          0.030919251,
          0.031369023,
          0.031542352,
          0.032398383,
          0.033480451,
          0.033934445,
          0.034215758,
          0.034484986,
          0.034596084,
          0.034689248,
          0.034854646,
          0.034871225,
          0.035160523,
          0.035918195,
          0.036598253,
          0.036868105,
          0.036885324,
          0.037088719,
          0.037167955,
          0.03719242,
          0.037279889,
          0.037427134,
          0.037829355,
          0.038269098,
          0.038518187,
          0.03861593,
          0.039167153,
          0.039203014,
          0.03934312,
          0.03944543,
          0.039688764,
          0.039954147,
          0.04000284,
          0.0403709,
          0.041648061,
          0.041683861,
          0.042746516,
          0.044368224,
          0.044599815,
          0.045687711,
          0.045764327,
          0.046773143,
          0.048349224,
          0.048669873,
          0.050007614,
          0.050252846,
          0.050365923,
          0.050670244,
          0.050841039,
          0.050995562,
          0.051319469,
          0.051857603,
          0.051872551,
          0.053265494,
          0.053927231,
          0.054430782,
          0.055031062,
          0.055095026,
          0.055434579,
          0.055547256,
          0.055650828,
          0.055737907,
          0.055790023,
          0.05591117,
          0.056673057,
          0.057327416,
          0.058203554,
          0.059117539,
          0.059316307,
          0.05991004,
          0.061344137,
          0.064738773,
          0.065789602,
          0.066641327,
          0.06704812,
          0.067473322,
          0.068001274,
          0.068153456,
          0.06817149,
          0.06838024,
          0.068584453,
          0.070708359,
          0.071011947,
          0.071656423,
          0.073457327,
          0.074540364,
          0.075373431,
          0.076460344,
          0.076776355,
          0.079143662,
          0.080120402,
          0.080525145,
          0.083013317,
          0.083831834,
          0.086101656,
          0.087529891,
          0.092365235,
          0.09551369,
          0.096074618,
          0.097386102,
          0.097773854,
          0.098016312,
          0.099227476,
          0.107248144,
          0.107271644,
          0.120740453,
          0.121016778,
          0.122015526,
          0.123117025,
          0.123313694,
          0.127797705,
          0.130130931,
          0.13262982,
          0.138825952,
          0.15266505,
          0.162422905,
          0.238398398
         ],
         "xaxis": "x",
         "y": [
          0.7848703206787004,
          0.786256618582865,
          0.7864412320336929,
          0.7885375001911277,
          0.7892428808745806,
          0.7909347596974672,
          0.7914548840635135,
          0.7921640777769338,
          0.7926198363427313,
          0.7927569410924249,
          0.7928167607468266,
          0.7930632029115549,
          0.7930989887455235,
          0.7931837497800948,
          0.7950966883226334,
          0.7952341384083471,
          0.7956253882814718,
          0.7957746689927926,
          0.7965001037503334,
          0.7973901411426323,
          0.7977550306310424,
          0.7979786892597668,
          0.7981910242422695,
          0.7982781623455043,
          0.7983510187322447,
          0.7984798830298026,
          0.7984927662649728,
          0.7987165937824876,
          0.7992941824249765,
          0.7998023216318941,
          0.8000013429628997,
          0.8000139928386578,
          0.8001629709809306,
          0.8002207869431538,
          0.8002386133661421,
          0.8003022518881479,
          0.8004090442596861,
          0.8006986355303995,
          0.8010117394350984,
          0.801187502372866,
          0.8012561617608023,
          0.8016401429866841,
          0.8016649361645937,
          0.8017615841762031,
          0.8018319425452466,
          0.8019985523377596,
          0.8021790984429197,
          0.8022120951581436,
          0.8024602187290572,
          0.8033039944657853,
          0.8033272717440055,
          0.8040092602234045,
          0.8050180292346,
          0.8051590714703513,
          0.8058119632321451,
          0.8058573560068719,
          0.8064480629677361,
          0.8073458972309265,
          0.8075249721591654,
          0.8082595555547044,
          0.8083920839245833,
          0.8084529753308128,
          0.8086161741140402,
          0.8087073377815281,
          0.8087895526018287,
          0.8089610837075696,
          0.809243683418935,
          0.8092514913974989,
          0.8099693838757979,
          0.8103038762080517,
          0.8105556706267559,
          0.8108528071314327,
          0.8108842778018073,
          0.811050730508999,
          0.8111057408156934,
          0.8111562076109307,
          0.8111985653521229,
          0.8112238844372077,
          0.811282649007612,
          0.8116493230661475,
          0.8119603333425669,
          0.8123712397995997,
          0.8127933562689295,
          0.8128842913766804,
          0.8131541169342115,
          0.8137949761192662,
          0.8152541347342993,
          0.8156903461669743,
          0.8160388250774415,
          0.816203693782707,
          0.8163749576607051,
          0.8165861116623201,
          0.8166466724168959,
          0.816653840074917,
          0.8167366705512026,
          0.8168174564612504,
          0.817643686136393,
          0.8177597544639899,
          0.8180045156486564,
          0.8186769731426283,
          0.8190734854294593,
          0.8193745802925543,
          0.8197624575844139,
          0.8198741955013401,
          0.8206969052167153,
          0.8210292027884737,
          0.821165715193033,
          0.8219901466348555,
          0.8222559608127447,
          0.8229797285114766,
          0.8234254272193482,
          0.8248821373563456,
          0.8257902100690844,
          0.8259488453934988,
          0.8263161593182188,
          0.8264238118998868,
          0.8264909094106434,
          0.8268236192314888,
          0.8289294375247797,
          0.8289353730758726,
          0.8321397068450016,
          0.8322016368960307,
          0.8324243034080753,
          0.8326677740429833,
          0.8327110156375379,
          0.8336786403483312,
          0.8341687910573645,
          0.8346840910153808,
          0.8359210564498155,
          0.8384954195514616,
          0.8401739220700526,
          0.8505699477424008
         ],
         "yaxis": "y"
        }
       ],
       "layout": {
        "height": 300,
        "legend": {
         "tracegroupgap": 0
        },
        "margin": {
         "t": 60
        },
        "template": {
         "data": {
          "bar": [
           {
            "error_x": {
             "color": "#2a3f5f"
            },
            "error_y": {
             "color": "#2a3f5f"
            },
            "marker": {
             "line": {
              "color": "#E5ECF6",
              "width": 0.5
             },
             "pattern": {
              "fillmode": "overlay",
              "size": 10,
              "solidity": 0.2
             }
            },
            "type": "bar"
           }
          ],
          "barpolar": [
           {
            "marker": {
             "line": {
              "color": "#E5ECF6",
              "width": 0.5
             },
             "pattern": {
              "fillmode": "overlay",
              "size": 10,
              "solidity": 0.2
             }
            },
            "type": "barpolar"
           }
          ],
          "carpet": [
           {
            "aaxis": {
             "endlinecolor": "#2a3f5f",
             "gridcolor": "white",
             "linecolor": "white",
             "minorgridcolor": "white",
             "startlinecolor": "#2a3f5f"
            },
            "baxis": {
             "endlinecolor": "#2a3f5f",
             "gridcolor": "white",
             "linecolor": "white",
             "minorgridcolor": "white",
             "startlinecolor": "#2a3f5f"
            },
            "type": "carpet"
           }
          ],
          "choropleth": [
           {
            "colorbar": {
             "outlinewidth": 0,
             "ticks": ""
            },
            "type": "choropleth"
           }
          ],
          "contour": [
           {
            "colorbar": {
             "outlinewidth": 0,
             "ticks": ""
            },
            "colorscale": [
             [
              0,
              "#0d0887"
             ],
             [
              0.1111111111111111,
              "#46039f"
             ],
             [
              0.2222222222222222,
              "#7201a8"
             ],
             [
              0.3333333333333333,
              "#9c179e"
             ],
             [
              0.4444444444444444,
              "#bd3786"
             ],
             [
              0.5555555555555556,
              "#d8576b"
             ],
             [
              0.6666666666666666,
              "#ed7953"
             ],
             [
              0.7777777777777778,
              "#fb9f3a"
             ],
             [
              0.8888888888888888,
              "#fdca26"
             ],
             [
              1,
              "#f0f921"
             ]
            ],
            "type": "contour"
           }
          ],
          "contourcarpet": [
           {
            "colorbar": {
             "outlinewidth": 0,
             "ticks": ""
            },
            "type": "contourcarpet"
           }
          ],
          "heatmap": [
           {
            "colorbar": {
             "outlinewidth": 0,
             "ticks": ""
            },
            "colorscale": [
             [
              0,
              "#0d0887"
             ],
             [
              0.1111111111111111,
              "#46039f"
             ],
             [
              0.2222222222222222,
              "#7201a8"
             ],
             [
              0.3333333333333333,
              "#9c179e"
             ],
             [
              0.4444444444444444,
              "#bd3786"
             ],
             [
              0.5555555555555556,
              "#d8576b"
             ],
             [
              0.6666666666666666,
              "#ed7953"
             ],
             [
              0.7777777777777778,
              "#fb9f3a"
             ],
             [
              0.8888888888888888,
              "#fdca26"
             ],
             [
              1,
              "#f0f921"
             ]
            ],
            "type": "heatmap"
           }
          ],
          "heatmapgl": [
           {
            "colorbar": {
             "outlinewidth": 0,
             "ticks": ""
            },
            "colorscale": [
             [
              0,
              "#0d0887"
             ],
             [
              0.1111111111111111,
              "#46039f"
             ],
             [
              0.2222222222222222,
              "#7201a8"
             ],
             [
              0.3333333333333333,
              "#9c179e"
             ],
             [
              0.4444444444444444,
              "#bd3786"
             ],
             [
              0.5555555555555556,
              "#d8576b"
             ],
             [
              0.6666666666666666,
              "#ed7953"
             ],
             [
              0.7777777777777778,
              "#fb9f3a"
             ],
             [
              0.8888888888888888,
              "#fdca26"
             ],
             [
              1,
              "#f0f921"
             ]
            ],
            "type": "heatmapgl"
           }
          ],
          "histogram": [
           {
            "marker": {
             "pattern": {
              "fillmode": "overlay",
              "size": 10,
              "solidity": 0.2
             }
            },
            "type": "histogram"
           }
          ],
          "histogram2d": [
           {
            "colorbar": {
             "outlinewidth": 0,
             "ticks": ""
            },
            "colorscale": [
             [
              0,
              "#0d0887"
             ],
             [
              0.1111111111111111,
              "#46039f"
             ],
             [
              0.2222222222222222,
              "#7201a8"
             ],
             [
              0.3333333333333333,
              "#9c179e"
             ],
             [
              0.4444444444444444,
              "#bd3786"
             ],
             [
              0.5555555555555556,
              "#d8576b"
             ],
             [
              0.6666666666666666,
              "#ed7953"
             ],
             [
              0.7777777777777778,
              "#fb9f3a"
             ],
             [
              0.8888888888888888,
              "#fdca26"
             ],
             [
              1,
              "#f0f921"
             ]
            ],
            "type": "histogram2d"
           }
          ],
          "histogram2dcontour": [
           {
            "colorbar": {
             "outlinewidth": 0,
             "ticks": ""
            },
            "colorscale": [
             [
              0,
              "#0d0887"
             ],
             [
              0.1111111111111111,
              "#46039f"
             ],
             [
              0.2222222222222222,
              "#7201a8"
             ],
             [
              0.3333333333333333,
              "#9c179e"
             ],
             [
              0.4444444444444444,
              "#bd3786"
             ],
             [
              0.5555555555555556,
              "#d8576b"
             ],
             [
              0.6666666666666666,
              "#ed7953"
             ],
             [
              0.7777777777777778,
              "#fb9f3a"
             ],
             [
              0.8888888888888888,
              "#fdca26"
             ],
             [
              1,
              "#f0f921"
             ]
            ],
            "type": "histogram2dcontour"
           }
          ],
          "mesh3d": [
           {
            "colorbar": {
             "outlinewidth": 0,
             "ticks": ""
            },
            "type": "mesh3d"
           }
          ],
          "parcoords": [
           {
            "line": {
             "colorbar": {
              "outlinewidth": 0,
              "ticks": ""
             }
            },
            "type": "parcoords"
           }
          ],
          "pie": [
           {
            "automargin": true,
            "type": "pie"
           }
          ],
          "scatter": [
           {
            "fillpattern": {
             "fillmode": "overlay",
             "size": 10,
             "solidity": 0.2
            },
            "type": "scatter"
           }
          ],
          "scatter3d": [
           {
            "line": {
             "colorbar": {
              "outlinewidth": 0,
              "ticks": ""
             }
            },
            "marker": {
             "colorbar": {
              "outlinewidth": 0,
              "ticks": ""
             }
            },
            "type": "scatter3d"
           }
          ],
          "scattercarpet": [
           {
            "marker": {
             "colorbar": {
              "outlinewidth": 0,
              "ticks": ""
             }
            },
            "type": "scattercarpet"
           }
          ],
          "scattergeo": [
           {
            "marker": {
             "colorbar": {
              "outlinewidth": 0,
              "ticks": ""
             }
            },
            "type": "scattergeo"
           }
          ],
          "scattergl": [
           {
            "marker": {
             "colorbar": {
              "outlinewidth": 0,
              "ticks": ""
             }
            },
            "type": "scattergl"
           }
          ],
          "scattermapbox": [
           {
            "marker": {
             "colorbar": {
              "outlinewidth": 0,
              "ticks": ""
             }
            },
            "type": "scattermapbox"
           }
          ],
          "scatterpolar": [
           {
            "marker": {
             "colorbar": {
              "outlinewidth": 0,
              "ticks": ""
             }
            },
            "type": "scatterpolar"
           }
          ],
          "scatterpolargl": [
           {
            "marker": {
             "colorbar": {
              "outlinewidth": 0,
              "ticks": ""
             }
            },
            "type": "scatterpolargl"
           }
          ],
          "scatterternary": [
           {
            "marker": {
             "colorbar": {
              "outlinewidth": 0,
              "ticks": ""
             }
            },
            "type": "scatterternary"
           }
          ],
          "surface": [
           {
            "colorbar": {
             "outlinewidth": 0,
             "ticks": ""
            },
            "colorscale": [
             [
              0,
              "#0d0887"
             ],
             [
              0.1111111111111111,
              "#46039f"
             ],
             [
              0.2222222222222222,
              "#7201a8"
             ],
             [
              0.3333333333333333,
              "#9c179e"
             ],
             [
              0.4444444444444444,
              "#bd3786"
             ],
             [
              0.5555555555555556,
              "#d8576b"
             ],
             [
              0.6666666666666666,
              "#ed7953"
             ],
             [
              0.7777777777777778,
              "#fb9f3a"
             ],
             [
              0.8888888888888888,
              "#fdca26"
             ],
             [
              1,
              "#f0f921"
             ]
            ],
            "type": "surface"
           }
          ],
          "table": [
           {
            "cells": {
             "fill": {
              "color": "#EBF0F8"
             },
             "line": {
              "color": "white"
             }
            },
            "header": {
             "fill": {
              "color": "#C8D4E3"
             },
             "line": {
              "color": "white"
             }
            },
            "type": "table"
           }
          ]
         },
         "layout": {
          "annotationdefaults": {
           "arrowcolor": "#2a3f5f",
           "arrowhead": 0,
           "arrowwidth": 1
          },
          "autotypenumbers": "strict",
          "coloraxis": {
           "colorbar": {
            "outlinewidth": 0,
            "ticks": ""
           }
          },
          "colorscale": {
           "diverging": [
            [
             0,
             "#8e0152"
            ],
            [
             0.1,
             "#c51b7d"
            ],
            [
             0.2,
             "#de77ae"
            ],
            [
             0.3,
             "#f1b6da"
            ],
            [
             0.4,
             "#fde0ef"
            ],
            [
             0.5,
             "#f7f7f7"
            ],
            [
             0.6,
             "#e6f5d0"
            ],
            [
             0.7,
             "#b8e186"
            ],
            [
             0.8,
             "#7fbc41"
            ],
            [
             0.9,
             "#4d9221"
            ],
            [
             1,
             "#276419"
            ]
           ],
           "sequential": [
            [
             0,
             "#0d0887"
            ],
            [
             0.1111111111111111,
             "#46039f"
            ],
            [
             0.2222222222222222,
             "#7201a8"
            ],
            [
             0.3333333333333333,
             "#9c179e"
            ],
            [
             0.4444444444444444,
             "#bd3786"
            ],
            [
             0.5555555555555556,
             "#d8576b"
            ],
            [
             0.6666666666666666,
             "#ed7953"
            ],
            [
             0.7777777777777778,
             "#fb9f3a"
            ],
            [
             0.8888888888888888,
             "#fdca26"
            ],
            [
             1,
             "#f0f921"
            ]
           ],
           "sequentialminus": [
            [
             0,
             "#0d0887"
            ],
            [
             0.1111111111111111,
             "#46039f"
            ],
            [
             0.2222222222222222,
             "#7201a8"
            ],
            [
             0.3333333333333333,
             "#9c179e"
            ],
            [
             0.4444444444444444,
             "#bd3786"
            ],
            [
             0.5555555555555556,
             "#d8576b"
            ],
            [
             0.6666666666666666,
             "#ed7953"
            ],
            [
             0.7777777777777778,
             "#fb9f3a"
            ],
            [
             0.8888888888888888,
             "#fdca26"
            ],
            [
             1,
             "#f0f921"
            ]
           ]
          },
          "colorway": [
           "#636efa",
           "#EF553B",
           "#00cc96",
           "#ab63fa",
           "#FFA15A",
           "#19d3f3",
           "#FF6692",
           "#B6E880",
           "#FF97FF",
           "#FECB52"
          ],
          "font": {
           "color": "#2a3f5f"
          },
          "geo": {
           "bgcolor": "white",
           "lakecolor": "white",
           "landcolor": "#E5ECF6",
           "showlakes": true,
           "showland": true,
           "subunitcolor": "white"
          },
          "hoverlabel": {
           "align": "left"
          },
          "hovermode": "closest",
          "mapbox": {
           "style": "light"
          },
          "paper_bgcolor": "white",
          "plot_bgcolor": "#E5ECF6",
          "polar": {
           "angularaxis": {
            "gridcolor": "white",
            "linecolor": "white",
            "ticks": ""
           },
           "bgcolor": "#E5ECF6",
           "radialaxis": {
            "gridcolor": "white",
            "linecolor": "white",
            "ticks": ""
           }
          },
          "scene": {
           "xaxis": {
            "backgroundcolor": "#E5ECF6",
            "gridcolor": "white",
            "gridwidth": 2,
            "linecolor": "white",
            "showbackground": true,
            "ticks": "",
            "zerolinecolor": "white"
           },
           "yaxis": {
            "backgroundcolor": "#E5ECF6",
            "gridcolor": "white",
            "gridwidth": 2,
            "linecolor": "white",
            "showbackground": true,
            "ticks": "",
            "zerolinecolor": "white"
           },
           "zaxis": {
            "backgroundcolor": "#E5ECF6",
            "gridcolor": "white",
            "gridwidth": 2,
            "linecolor": "white",
            "showbackground": true,
            "ticks": "",
            "zerolinecolor": "white"
           }
          },
          "shapedefaults": {
           "line": {
            "color": "#2a3f5f"
           }
          },
          "ternary": {
           "aaxis": {
            "gridcolor": "white",
            "linecolor": "white",
            "ticks": ""
           },
           "baxis": {
            "gridcolor": "white",
            "linecolor": "white",
            "ticks": ""
           },
           "bgcolor": "#E5ECF6",
           "caxis": {
            "gridcolor": "white",
            "linecolor": "white",
            "ticks": ""
           }
          },
          "title": {
           "x": 0.05
          },
          "xaxis": {
           "automargin": true,
           "gridcolor": "white",
           "linecolor": "white",
           "ticks": "",
           "title": {
            "standoff": 15
           },
           "zerolinecolor": "white",
           "zerolinewidth": 2
          },
          "yaxis": {
           "automargin": true,
           "gridcolor": "white",
           "linecolor": "white",
           "ticks": "",
           "title": {
            "standoff": 15
           },
           "zerolinecolor": "white",
           "zerolinewidth": 2
          }
         }
        },
        "title": {
         "text": "Scatterplot of Road Injury Death Rates and Social support",
         "x": 0.5,
         "y": 0.95
        },
        "width": 700,
        "xaxis": {
         "anchor": "y",
         "domain": [
          0,
          1
         ],
         "title": {
          "text": "Road Injuries"
         }
        },
        "yaxis": {
         "anchor": "x",
         "domain": [
          0,
          1
         ],
         "title": {
          "text": "Social support"
         }
        }
       }
      }
     },
     "metadata": {},
     "output_type": "display_data"
    },
    {
     "data": {
      "application/vnd.plotly.v1+json": {
       "config": {
        "plotlyServerURL": "https://plot.ly"
       },
       "data": [
        {
         "hovertemplate": "<b>%{hovertext}</b><br><br>Road Injuries=%{x}<br>Logged GDP per capita=%{y}<extra></extra>",
         "hovertext": [
          "Afghanistan",
          "Albania",
          "United Arab Emirates",
          "Argentina",
          "Armenia",
          "Australia",
          "Austria",
          "Azerbaijan",
          "Burundi",
          "Belgium",
          "Benin",
          "Burkina Faso",
          "Bangladesh",
          "Bulgaria",
          "Bahrain",
          "Bosnia and Herzegovina",
          "Belarus",
          "Brazil",
          "Botswana",
          "Central African Republic",
          "Canada",
          "Switzerland",
          "Chile",
          "Cameroon",
          "Colombia",
          "Comoros",
          "Costa Rica",
          "Cyprus",
          "Germany",
          "Denmark",
          "Dominican Republic",
          "Algeria",
          "Ecuador",
          "Spain",
          "Estonia",
          "Ethiopia",
          "Finland",
          "France",
          "Gabon",
          "United Kingdom",
          "Georgia",
          "Ghana",
          "Guinea",
          "Gambia",
          "Greece",
          "Guatemala",
          "Honduras",
          "Croatia",
          "Haiti",
          "Hungary",
          "Indonesia",
          "India",
          "Ireland",
          "Iraq",
          "Iceland",
          "Israel",
          "Italy",
          "Jamaica",
          "Jordan",
          "Japan",
          "Kazakhstan",
          "Kenya",
          "Kyrgyzstan",
          "Cambodia",
          "Kuwait",
          "Lebanon",
          "Liberia",
          "Libya",
          "Sri Lanka",
          "Lesotho",
          "Lithuania",
          "Luxembourg",
          "Latvia",
          "Morocco",
          "Madagascar",
          "Maldives",
          "Mexico",
          "Mali",
          "Malta",
          "Myanmar",
          "Montenegro",
          "Mongolia",
          "Mozambique",
          "Mauritania",
          "Mauritius",
          "Malawi",
          "Malaysia",
          "Namibia",
          "Niger",
          "Nigeria",
          "Nicaragua",
          "Netherlands",
          "Norway",
          "Nepal",
          "New Zealand",
          "Pakistan",
          "Panama",
          "Peru",
          "Philippines",
          "Poland",
          "Portugal",
          "Paraguay",
          "Romania",
          "Rwanda",
          "Saudi Arabia",
          "Senegal",
          "Singapore",
          "Sierra Leone",
          "El Salvador",
          "Serbia",
          "South Sudan",
          "Slovakia",
          "Slovenia",
          "Sweden",
          "Chad",
          "Togo",
          "Thailand",
          "Tajikistan",
          "Turkmenistan",
          "Trinidad and Tobago",
          "Tunisia",
          "Turkey",
          "Uganda",
          "Ukraine",
          "Uruguay",
          "Uzbekistan",
          "Yemen",
          "South Africa",
          "Zambia",
          "Zimbabwe",
          "Egypt",
          "China"
         ],
         "legendgroup": "",
         "marker": {
          "color": "#636efa",
          "symbol": "circle"
         },
         "mode": "markers",
         "name": "",
         "orientation": "v",
         "showlegend": false,
         "type": "scatter",
         "x": [
          0.066641327,
          0.06838024,
          0.15266505,
          0.079143662,
          0.048349224,
          0.059117539,
          0.050365923,
          0.038269098,
          0.041683861,
          0.06704812,
          0.042746516,
          0.055095026,
          0.028538244,
          0.037427134,
          0.097386102,
          0.033934445,
          0.037829355,
          0.086101656,
          0.034871225,
          0.071011947,
          0.055790023,
          0.0403709,
          0.083013317,
          0.050995562,
          0.080120402,
          0.055547256,
          0.107248144,
          0.098016312,
          0.045764327,
          0.044368224,
          0.096074618,
          0.162422905,
          0.127797705,
          0.050841039,
          0.028575966,
          0.031542352,
          0.034215758,
          0.05991004,
          0.083831834,
          0.034596084,
          0.075373431,
          0.051857603,
          0.035918195,
          0.030919251,
          0.09551369,
          0.056673057,
          0.051319469,
          0.064738773,
          0.02414776,
          0.03861593,
          0.055434579,
          0.057327416,
          0.034484986,
          0.068001274,
          0.037279889,
          0.068584453,
          0.073457327,
          0.028279817,
          0.099227476,
          0.033480451,
          0.053265494,
          0.022197937,
          0.076460344,
          0.067473322,
          0.123313694,
          0.05591117,
          0.027606643,
          0.138825952,
          0.06817149,
          0.036598253,
          0.032398383,
          0.061344137,
          0.036885324,
          0.122015526,
          0.031369023,
          0.041648061,
          0.070708359,
          0.028074999,
          0.03944543,
          0.03934312,
          0.051872551,
          0.054430782,
          0.026381939,
          0.092365235,
          0.050007614,
          0.028665512,
          0.120740453,
          0.050670244,
          0.034689248,
          0.022349721,
          0.068153456,
          0.039203014,
          0.037167955,
          0.034854646,
          0.071656423,
          0.028217442,
          0.076776355,
          0.087529891,
          0.039167153,
          0.053927231,
          0.058203554,
          0.123117025,
          0.046773143,
          0.059316307,
          0.238398398,
          0.04000284,
          0.037088719,
          0.038518187,
          0.065789602,
          0.045687711,
          0.024784755,
          0.044599815,
          0.055031062,
          0.036868105,
          0.035160523,
          0.050252846,
          0.107271644,
          0.039688764,
          0.021090614,
          0.048669873,
          0.13262982,
          0.074540364,
          0.039954147,
          0.03719242,
          0.080525145,
          0.055737907,
          0.121016778,
          0.055650828,
          0.026893337,
          0.030762777,
          0.130130931,
          0.097773854
         ],
         "xaxis": "x",
         "y": [
          7.462860584,
          9.417930603,
          11.1099987,
          9.810955048,
          9.100476265,
          10.72059631,
          10.7428236,
          9.687726974,
          6.492642403,
          10.6736393,
          7.674319744,
          7.46854496,
          8.287063599,
          9.869318962,
          10.67638016,
          9.455817223,
          9.779945374,
          9.56643486,
          9.711203575,
          6.625160217,
          10.69236851,
          10.97993279,
          10.0320549,
          8.118647575,
          9.500369072,
          7.833630085,
          9.658156395,
          10.40570259,
          10.7328186,
          10.77400112,
          9.664880753,
          9.537964821,
          9.246058464,
          10.46292686,
          10.34001732,
          7.509385586,
          10.63926697,
          10.58422279,
          9.680537224,
          10.60013485,
          9.226100922,
          8.350645065,
          7.750990391,
          7.321814537,
          10.13232613,
          8.924805641,
          8.424534798,
          10.07087517,
          7.411329269,
          10.24924374,
          9.36975193,
          8.849823952,
          11.16097832,
          9.661095619,
          10.77255917,
          10.41752529,
          10.48183632,
          9.006250381,
          9.025999069,
          10.57968903,
          10.11465836,
          8.02977562,
          8.148405075,
          8.249890327,
          11.08982468,
          9.3617239,
          7.054380417,
          9.789815903,
          9.389969826,
          7.960488319,
          10.34362602,
          11.45068073,
          10.17531967,
          8.940313339,
          7.281685829,
          9.518632889,
          9.797797203,
          7.629852295,
          10.53383827,
          8.680481911,
          9.751860619,
          9.412186623,
          7.069345951,
          8.233919144,
          9.956786156,
          7.062226295,
          10.26251888,
          9.203141212,
          6.842166901,
          8.57662487,
          8.493160248,
          10.81271172,
          11.08780384,
          7.925357342,
          10.50094318,
          8.482727051,
          10.03423405,
          9.456313133,
          8.993545532,
          10.26512432,
          10.26374245,
          9.389982224,
          10.107584,
          7.600104332,
          10.79781246,
          8.118982315,
          11.39552116,
          7.26880312,
          8.909075737,
          9.680980682,
          7.425359726,
          10.34774971,
          10.39232254,
          10.75879383,
          7.467963696,
          7.357711315,
          9.741791725,
          8.024810791,
          9.74803257,
          10.26000214,
          9.314972878,
          10.12941933,
          7.500389576,
          9.010690689,
          9.948192596,
          8.740371704,
          7.759682655,
          9.403370857,
          8.224720001,
          7.865711689,
          9.316541672,
          9.688568115
         ],
         "yaxis": "y"
        },
        {
         "hovertemplate": "<b>OLS trendline</b><br>Logged GDP per capita = 1.68246 * log10(Road Injuries) + 11.4316<br>R<sup>2</sup>=0.084441<br><br>Road Injuries=%{x}<br>Logged GDP per capita=%{y} <b>(trend)</b><extra></extra>",
         "legendgroup": "",
         "marker": {
          "color": "#636efa",
          "symbol": "circle"
         },
         "mode": "lines",
         "name": "",
         "showlegend": false,
         "type": "scatter",
         "x": [
          0.021090614,
          0.022197937,
          0.022349721,
          0.02414776,
          0.024784755,
          0.026381939,
          0.026893337,
          0.027606643,
          0.028074999,
          0.028217442,
          0.028279817,
          0.028538244,
          0.028575966,
          0.028665512,
          0.030762777,
          0.030919251,
          0.031369023,
          0.031542352,
          0.032398383,
          0.033480451,
          0.033934445,
          0.034215758,
          0.034484986,
          0.034596084,
          0.034689248,
          0.034854646,
          0.034871225,
          0.035160523,
          0.035918195,
          0.036598253,
          0.036868105,
          0.036885324,
          0.037088719,
          0.037167955,
          0.03719242,
          0.037279889,
          0.037427134,
          0.037829355,
          0.038269098,
          0.038518187,
          0.03861593,
          0.039167153,
          0.039203014,
          0.03934312,
          0.03944543,
          0.039688764,
          0.039954147,
          0.04000284,
          0.0403709,
          0.041648061,
          0.041683861,
          0.042746516,
          0.044368224,
          0.044599815,
          0.045687711,
          0.045764327,
          0.046773143,
          0.048349224,
          0.048669873,
          0.050007614,
          0.050252846,
          0.050365923,
          0.050670244,
          0.050841039,
          0.050995562,
          0.051319469,
          0.051857603,
          0.051872551,
          0.053265494,
          0.053927231,
          0.054430782,
          0.055031062,
          0.055095026,
          0.055434579,
          0.055547256,
          0.055650828,
          0.055737907,
          0.055790023,
          0.05591117,
          0.056673057,
          0.057327416,
          0.058203554,
          0.059117539,
          0.059316307,
          0.05991004,
          0.061344137,
          0.064738773,
          0.065789602,
          0.066641327,
          0.06704812,
          0.067473322,
          0.068001274,
          0.068153456,
          0.06817149,
          0.06838024,
          0.068584453,
          0.070708359,
          0.071011947,
          0.071656423,
          0.073457327,
          0.074540364,
          0.075373431,
          0.076460344,
          0.076776355,
          0.079143662,
          0.080120402,
          0.080525145,
          0.083013317,
          0.083831834,
          0.086101656,
          0.087529891,
          0.092365235,
          0.09551369,
          0.096074618,
          0.097386102,
          0.097773854,
          0.098016312,
          0.099227476,
          0.107248144,
          0.107271644,
          0.120740453,
          0.121016778,
          0.122015526,
          0.123117025,
          0.123313694,
          0.127797705,
          0.130130931,
          0.13262982,
          0.138825952,
          0.15266505,
          0.162422905,
          0.238398398
         ],
         "xaxis": "x",
         "y": [
          8.61191328773614,
          8.649303174326334,
          8.654282389810064,
          8.710820907565637,
          8.729845753291789,
          8.775477472940244,
          8.789505764406925,
          8.808633451490348,
          8.820925730831235,
          8.824623587566517,
          8.826236985442415,
          8.832883785212186,
          8.833848966122872,
          8.836135058787633,
          8.88772898744082,
          8.891436158245314,
          8.901988571504118,
          8.90601482650286,
          8.925580551324023,
          8.949585779247336,
          8.9594272256988,
          8.965459529966015,
          8.97118642379674,
          8.973536628458989,
          8.97550164047366,
          8.97897724370204,
          8.979324717863605,
          8.985361577235967,
          9.000939739601769,
          9.014644778945481,
          9.020012589841661,
          9.02035377005881,
          9.024371864457759,
          9.02593122068569,
          9.026412017729271,
          9.028128414409531,
          9.031008714991763,
          9.038819290725131,
          9.04726402648681,
          9.052004534490282,
          9.053856349111495,
          9.064212719445283,
          9.064881417066097,
          9.067488113781419,
          9.069385751678226,
          9.07387938989853,
          9.078748904867826,
          9.079638860364668,
          9.086331009396229,
          9.109088512678206,
          9.109716324918395,
          9.128110258735898,
          9.15531780107654,
          9.159121855878418,
          9.176731021163748,
          9.17795531119113,
          9.19388728815539,
          9.218102805741209,
          9.222932641549143,
          9.242745114588116,
          9.246319541632163,
          9.247961845762033,
          9.25236348553816,
          9.254822263826922,
          9.257039682462441,
          9.261666053584456,
          9.26928805973958,
          9.269498648987476,
          9.288860950745937,
          9.297882554494084,
          9.304673710082731,
          9.31268778857069,
          9.313536585061467,
          9.318025986528376,
          9.319509671328316,
          9.320870812930579,
          9.322013244968193,
          9.32269612684881,
          9.324281068019346,
          9.334170646170634,
          9.342558914614795,
          9.353641486247831,
          9.365026403493022,
          9.367479017289565,
          9.374756491319438,
          9.392041125579864,
          9.43139614081093,
          9.443161213778342,
          9.452560049989737,
          9.45700672928834,
          9.46162589300208,
          9.467320934558249,
          9.468954320671438,
          9.469147639812816,
          9.471381663326252,
          9.473560542776115,
          9.495844810651175,
          9.49897529335083,
          9.505576755351797,
          9.523713628646352,
          9.534407974639151,
          9.542528814142834,
          9.552990265400874,
          9.556003952451213,
          9.578193283375052,
          9.587155692165341,
          9.59083757274043,
          9.613073340405176,
          9.620242623382152,
          9.63976338590508,
          9.651784340485374,
          9.691073317734418,
          9.715564976881385,
          9.719843535459042,
          9.729750371462343,
          9.732653872800416,
          9.734463561980597,
          9.743437089554638,
          9.800233184340012,
          9.80039327228471,
          9.886817464274715,
          9.888487781727802,
          9.894493327583257,
          9.901059982124035,
          9.902226252599895,
          9.928324090654577,
          9.941543961627335,
          9.95544213382559,
          9.988804369439281,
          10.058237601736153,
          10.103508548639368,
          10.383900100635614
         ],
         "yaxis": "y"
        }
       ],
       "layout": {
        "height": 300,
        "legend": {
         "tracegroupgap": 0
        },
        "margin": {
         "t": 60
        },
        "template": {
         "data": {
          "bar": [
           {
            "error_x": {
             "color": "#2a3f5f"
            },
            "error_y": {
             "color": "#2a3f5f"
            },
            "marker": {
             "line": {
              "color": "#E5ECF6",
              "width": 0.5
             },
             "pattern": {
              "fillmode": "overlay",
              "size": 10,
              "solidity": 0.2
             }
            },
            "type": "bar"
           }
          ],
          "barpolar": [
           {
            "marker": {
             "line": {
              "color": "#E5ECF6",
              "width": 0.5
             },
             "pattern": {
              "fillmode": "overlay",
              "size": 10,
              "solidity": 0.2
             }
            },
            "type": "barpolar"
           }
          ],
          "carpet": [
           {
            "aaxis": {
             "endlinecolor": "#2a3f5f",
             "gridcolor": "white",
             "linecolor": "white",
             "minorgridcolor": "white",
             "startlinecolor": "#2a3f5f"
            },
            "baxis": {
             "endlinecolor": "#2a3f5f",
             "gridcolor": "white",
             "linecolor": "white",
             "minorgridcolor": "white",
             "startlinecolor": "#2a3f5f"
            },
            "type": "carpet"
           }
          ],
          "choropleth": [
           {
            "colorbar": {
             "outlinewidth": 0,
             "ticks": ""
            },
            "type": "choropleth"
           }
          ],
          "contour": [
           {
            "colorbar": {
             "outlinewidth": 0,
             "ticks": ""
            },
            "colorscale": [
             [
              0,
              "#0d0887"
             ],
             [
              0.1111111111111111,
              "#46039f"
             ],
             [
              0.2222222222222222,
              "#7201a8"
             ],
             [
              0.3333333333333333,
              "#9c179e"
             ],
             [
              0.4444444444444444,
              "#bd3786"
             ],
             [
              0.5555555555555556,
              "#d8576b"
             ],
             [
              0.6666666666666666,
              "#ed7953"
             ],
             [
              0.7777777777777778,
              "#fb9f3a"
             ],
             [
              0.8888888888888888,
              "#fdca26"
             ],
             [
              1,
              "#f0f921"
             ]
            ],
            "type": "contour"
           }
          ],
          "contourcarpet": [
           {
            "colorbar": {
             "outlinewidth": 0,
             "ticks": ""
            },
            "type": "contourcarpet"
           }
          ],
          "heatmap": [
           {
            "colorbar": {
             "outlinewidth": 0,
             "ticks": ""
            },
            "colorscale": [
             [
              0,
              "#0d0887"
             ],
             [
              0.1111111111111111,
              "#46039f"
             ],
             [
              0.2222222222222222,
              "#7201a8"
             ],
             [
              0.3333333333333333,
              "#9c179e"
             ],
             [
              0.4444444444444444,
              "#bd3786"
             ],
             [
              0.5555555555555556,
              "#d8576b"
             ],
             [
              0.6666666666666666,
              "#ed7953"
             ],
             [
              0.7777777777777778,
              "#fb9f3a"
             ],
             [
              0.8888888888888888,
              "#fdca26"
             ],
             [
              1,
              "#f0f921"
             ]
            ],
            "type": "heatmap"
           }
          ],
          "heatmapgl": [
           {
            "colorbar": {
             "outlinewidth": 0,
             "ticks": ""
            },
            "colorscale": [
             [
              0,
              "#0d0887"
             ],
             [
              0.1111111111111111,
              "#46039f"
             ],
             [
              0.2222222222222222,
              "#7201a8"
             ],
             [
              0.3333333333333333,
              "#9c179e"
             ],
             [
              0.4444444444444444,
              "#bd3786"
             ],
             [
              0.5555555555555556,
              "#d8576b"
             ],
             [
              0.6666666666666666,
              "#ed7953"
             ],
             [
              0.7777777777777778,
              "#fb9f3a"
             ],
             [
              0.8888888888888888,
              "#fdca26"
             ],
             [
              1,
              "#f0f921"
             ]
            ],
            "type": "heatmapgl"
           }
          ],
          "histogram": [
           {
            "marker": {
             "pattern": {
              "fillmode": "overlay",
              "size": 10,
              "solidity": 0.2
             }
            },
            "type": "histogram"
           }
          ],
          "histogram2d": [
           {
            "colorbar": {
             "outlinewidth": 0,
             "ticks": ""
            },
            "colorscale": [
             [
              0,
              "#0d0887"
             ],
             [
              0.1111111111111111,
              "#46039f"
             ],
             [
              0.2222222222222222,
              "#7201a8"
             ],
             [
              0.3333333333333333,
              "#9c179e"
             ],
             [
              0.4444444444444444,
              "#bd3786"
             ],
             [
              0.5555555555555556,
              "#d8576b"
             ],
             [
              0.6666666666666666,
              "#ed7953"
             ],
             [
              0.7777777777777778,
              "#fb9f3a"
             ],
             [
              0.8888888888888888,
              "#fdca26"
             ],
             [
              1,
              "#f0f921"
             ]
            ],
            "type": "histogram2d"
           }
          ],
          "histogram2dcontour": [
           {
            "colorbar": {
             "outlinewidth": 0,
             "ticks": ""
            },
            "colorscale": [
             [
              0,
              "#0d0887"
             ],
             [
              0.1111111111111111,
              "#46039f"
             ],
             [
              0.2222222222222222,
              "#7201a8"
             ],
             [
              0.3333333333333333,
              "#9c179e"
             ],
             [
              0.4444444444444444,
              "#bd3786"
             ],
             [
              0.5555555555555556,
              "#d8576b"
             ],
             [
              0.6666666666666666,
              "#ed7953"
             ],
             [
              0.7777777777777778,
              "#fb9f3a"
             ],
             [
              0.8888888888888888,
              "#fdca26"
             ],
             [
              1,
              "#f0f921"
             ]
            ],
            "type": "histogram2dcontour"
           }
          ],
          "mesh3d": [
           {
            "colorbar": {
             "outlinewidth": 0,
             "ticks": ""
            },
            "type": "mesh3d"
           }
          ],
          "parcoords": [
           {
            "line": {
             "colorbar": {
              "outlinewidth": 0,
              "ticks": ""
             }
            },
            "type": "parcoords"
           }
          ],
          "pie": [
           {
            "automargin": true,
            "type": "pie"
           }
          ],
          "scatter": [
           {
            "fillpattern": {
             "fillmode": "overlay",
             "size": 10,
             "solidity": 0.2
            },
            "type": "scatter"
           }
          ],
          "scatter3d": [
           {
            "line": {
             "colorbar": {
              "outlinewidth": 0,
              "ticks": ""
             }
            },
            "marker": {
             "colorbar": {
              "outlinewidth": 0,
              "ticks": ""
             }
            },
            "type": "scatter3d"
           }
          ],
          "scattercarpet": [
           {
            "marker": {
             "colorbar": {
              "outlinewidth": 0,
              "ticks": ""
             }
            },
            "type": "scattercarpet"
           }
          ],
          "scattergeo": [
           {
            "marker": {
             "colorbar": {
              "outlinewidth": 0,
              "ticks": ""
             }
            },
            "type": "scattergeo"
           }
          ],
          "scattergl": [
           {
            "marker": {
             "colorbar": {
              "outlinewidth": 0,
              "ticks": ""
             }
            },
            "type": "scattergl"
           }
          ],
          "scattermapbox": [
           {
            "marker": {
             "colorbar": {
              "outlinewidth": 0,
              "ticks": ""
             }
            },
            "type": "scattermapbox"
           }
          ],
          "scatterpolar": [
           {
            "marker": {
             "colorbar": {
              "outlinewidth": 0,
              "ticks": ""
             }
            },
            "type": "scatterpolar"
           }
          ],
          "scatterpolargl": [
           {
            "marker": {
             "colorbar": {
              "outlinewidth": 0,
              "ticks": ""
             }
            },
            "type": "scatterpolargl"
           }
          ],
          "scatterternary": [
           {
            "marker": {
             "colorbar": {
              "outlinewidth": 0,
              "ticks": ""
             }
            },
            "type": "scatterternary"
           }
          ],
          "surface": [
           {
            "colorbar": {
             "outlinewidth": 0,
             "ticks": ""
            },
            "colorscale": [
             [
              0,
              "#0d0887"
             ],
             [
              0.1111111111111111,
              "#46039f"
             ],
             [
              0.2222222222222222,
              "#7201a8"
             ],
             [
              0.3333333333333333,
              "#9c179e"
             ],
             [
              0.4444444444444444,
              "#bd3786"
             ],
             [
              0.5555555555555556,
              "#d8576b"
             ],
             [
              0.6666666666666666,
              "#ed7953"
             ],
             [
              0.7777777777777778,
              "#fb9f3a"
             ],
             [
              0.8888888888888888,
              "#fdca26"
             ],
             [
              1,
              "#f0f921"
             ]
            ],
            "type": "surface"
           }
          ],
          "table": [
           {
            "cells": {
             "fill": {
              "color": "#EBF0F8"
             },
             "line": {
              "color": "white"
             }
            },
            "header": {
             "fill": {
              "color": "#C8D4E3"
             },
             "line": {
              "color": "white"
             }
            },
            "type": "table"
           }
          ]
         },
         "layout": {
          "annotationdefaults": {
           "arrowcolor": "#2a3f5f",
           "arrowhead": 0,
           "arrowwidth": 1
          },
          "autotypenumbers": "strict",
          "coloraxis": {
           "colorbar": {
            "outlinewidth": 0,
            "ticks": ""
           }
          },
          "colorscale": {
           "diverging": [
            [
             0,
             "#8e0152"
            ],
            [
             0.1,
             "#c51b7d"
            ],
            [
             0.2,
             "#de77ae"
            ],
            [
             0.3,
             "#f1b6da"
            ],
            [
             0.4,
             "#fde0ef"
            ],
            [
             0.5,
             "#f7f7f7"
            ],
            [
             0.6,
             "#e6f5d0"
            ],
            [
             0.7,
             "#b8e186"
            ],
            [
             0.8,
             "#7fbc41"
            ],
            [
             0.9,
             "#4d9221"
            ],
            [
             1,
             "#276419"
            ]
           ],
           "sequential": [
            [
             0,
             "#0d0887"
            ],
            [
             0.1111111111111111,
             "#46039f"
            ],
            [
             0.2222222222222222,
             "#7201a8"
            ],
            [
             0.3333333333333333,
             "#9c179e"
            ],
            [
             0.4444444444444444,
             "#bd3786"
            ],
            [
             0.5555555555555556,
             "#d8576b"
            ],
            [
             0.6666666666666666,
             "#ed7953"
            ],
            [
             0.7777777777777778,
             "#fb9f3a"
            ],
            [
             0.8888888888888888,
             "#fdca26"
            ],
            [
             1,
             "#f0f921"
            ]
           ],
           "sequentialminus": [
            [
             0,
             "#0d0887"
            ],
            [
             0.1111111111111111,
             "#46039f"
            ],
            [
             0.2222222222222222,
             "#7201a8"
            ],
            [
             0.3333333333333333,
             "#9c179e"
            ],
            [
             0.4444444444444444,
             "#bd3786"
            ],
            [
             0.5555555555555556,
             "#d8576b"
            ],
            [
             0.6666666666666666,
             "#ed7953"
            ],
            [
             0.7777777777777778,
             "#fb9f3a"
            ],
            [
             0.8888888888888888,
             "#fdca26"
            ],
            [
             1,
             "#f0f921"
            ]
           ]
          },
          "colorway": [
           "#636efa",
           "#EF553B",
           "#00cc96",
           "#ab63fa",
           "#FFA15A",
           "#19d3f3",
           "#FF6692",
           "#B6E880",
           "#FF97FF",
           "#FECB52"
          ],
          "font": {
           "color": "#2a3f5f"
          },
          "geo": {
           "bgcolor": "white",
           "lakecolor": "white",
           "landcolor": "#E5ECF6",
           "showlakes": true,
           "showland": true,
           "subunitcolor": "white"
          },
          "hoverlabel": {
           "align": "left"
          },
          "hovermode": "closest",
          "mapbox": {
           "style": "light"
          },
          "paper_bgcolor": "white",
          "plot_bgcolor": "#E5ECF6",
          "polar": {
           "angularaxis": {
            "gridcolor": "white",
            "linecolor": "white",
            "ticks": ""
           },
           "bgcolor": "#E5ECF6",
           "radialaxis": {
            "gridcolor": "white",
            "linecolor": "white",
            "ticks": ""
           }
          },
          "scene": {
           "xaxis": {
            "backgroundcolor": "#E5ECF6",
            "gridcolor": "white",
            "gridwidth": 2,
            "linecolor": "white",
            "showbackground": true,
            "ticks": "",
            "zerolinecolor": "white"
           },
           "yaxis": {
            "backgroundcolor": "#E5ECF6",
            "gridcolor": "white",
            "gridwidth": 2,
            "linecolor": "white",
            "showbackground": true,
            "ticks": "",
            "zerolinecolor": "white"
           },
           "zaxis": {
            "backgroundcolor": "#E5ECF6",
            "gridcolor": "white",
            "gridwidth": 2,
            "linecolor": "white",
            "showbackground": true,
            "ticks": "",
            "zerolinecolor": "white"
           }
          },
          "shapedefaults": {
           "line": {
            "color": "#2a3f5f"
           }
          },
          "ternary": {
           "aaxis": {
            "gridcolor": "white",
            "linecolor": "white",
            "ticks": ""
           },
           "baxis": {
            "gridcolor": "white",
            "linecolor": "white",
            "ticks": ""
           },
           "bgcolor": "#E5ECF6",
           "caxis": {
            "gridcolor": "white",
            "linecolor": "white",
            "ticks": ""
           }
          },
          "title": {
           "x": 0.05
          },
          "xaxis": {
           "automargin": true,
           "gridcolor": "white",
           "linecolor": "white",
           "ticks": "",
           "title": {
            "standoff": 15
           },
           "zerolinecolor": "white",
           "zerolinewidth": 2
          },
          "yaxis": {
           "automargin": true,
           "gridcolor": "white",
           "linecolor": "white",
           "ticks": "",
           "title": {
            "standoff": 15
           },
           "zerolinecolor": "white",
           "zerolinewidth": 2
          }
         }
        },
        "title": {
         "text": "Scatterplot of Road Injury Death Rates and Logged GDP per capita",
         "x": 0.5,
         "y": 0.95
        },
        "width": 700,
        "xaxis": {
         "anchor": "y",
         "domain": [
          0,
          1
         ],
         "title": {
          "text": "Road Injuries"
         }
        },
        "yaxis": {
         "anchor": "x",
         "domain": [
          0,
          1
         ],
         "title": {
          "text": "Logged GDP per capita"
         }
        }
       }
      }
     },
     "metadata": {},
     "output_type": "display_data"
    }
   ],
   "source": [
    "variables = [\"Freedom to make life choices\", \"Healthy life expectancy\", \"Social support\", \"Logged GDP per capita\"]\n",
    "\n",
    "# Store the figure objects\n",
    "figs = []\n",
    "\n",
    "# Iterate over each variable and create the scatter plot\n",
    "for variable in variables:\n",
    "    figAnalysis1 = px.scatter(GBDWHR_df, x=\"Road Injuries\", y=variable, hover_name=\"Location\", trendline=\"ols\",trendline_options=dict(log_x=True))\n",
    "    figAnalysis1.update_layout(\n",
    "        title=f\"Scatterplot of Road Injury Death Rates and {variable}\",\n",
    "        xaxis_title=\"Road Injuries\",\n",
    "        yaxis_title=variable,\n",
    "        title_x=0.5,  # Center the title horizontally\n",
    "        title_y=.95,\n",
    "        width=700,   # Set the width of the plot\n",
    "        height=300   # Set the height of the plot\n",
    "    )\n",
    "    figs.append(figAnalysis1)\n",
    "\n",
    "# Show the plots\n",
    "for figAnalysis1 in figs:\n",
    "    figAnalysis1.show()"
   ]
  },
  {
   "cell_type": "code",
   "execution_count": 236,
   "id": "7c6f24c0",
   "metadata": {},
   "outputs": [
    {
     "data": {
      "application/vnd.plotly.v1+json": {
       "config": {
        "plotlyServerURL": "https://plot.ly"
       },
       "data": [
        {
         "hovertemplate": "<b>%{hovertext}</b><br><br>HIV=%{x}<br>Freedom to make life choices=%{y}<extra></extra>",
         "hovertext": [
          "Afghanistan",
          "Albania",
          "United Arab Emirates",
          "Argentina",
          "Armenia",
          "Australia",
          "Austria",
          "Azerbaijan",
          "Burundi",
          "Belgium",
          "Benin",
          "Burkina Faso",
          "Bangladesh",
          "Bulgaria",
          "Bahrain",
          "Bosnia and Herzegovina",
          "Belarus",
          "Brazil",
          "Botswana",
          "Central African Republic",
          "Canada",
          "Switzerland",
          "Chile",
          "Cameroon",
          "Colombia",
          "Comoros",
          "Costa Rica",
          "Cyprus",
          "Germany",
          "Denmark",
          "Dominican Republic",
          "Algeria",
          "Ecuador",
          "Spain",
          "Estonia",
          "Ethiopia",
          "Finland",
          "France",
          "Gabon",
          "United Kingdom",
          "Georgia",
          "Ghana",
          "Guinea",
          "Gambia",
          "Greece",
          "Guatemala",
          "Honduras",
          "Croatia",
          "Haiti",
          "Hungary",
          "Indonesia",
          "India",
          "Ireland",
          "Iraq",
          "Iceland",
          "Israel",
          "Italy",
          "Jamaica",
          "Jordan",
          "Japan",
          "Kazakhstan",
          "Kenya",
          "Kyrgyzstan",
          "Cambodia",
          "Kuwait",
          "Lebanon",
          "Liberia",
          "Libya",
          "Sri Lanka",
          "Lesotho",
          "Lithuania",
          "Luxembourg",
          "Latvia",
          "Morocco",
          "Madagascar",
          "Maldives",
          "Mexico",
          "Mali",
          "Malta",
          "Myanmar",
          "Montenegro",
          "Mongolia",
          "Mozambique",
          "Mauritania",
          "Mauritius",
          "Malawi",
          "Malaysia",
          "Namibia",
          "Niger",
          "Nigeria",
          "Nicaragua",
          "Netherlands",
          "Norway",
          "Nepal",
          "New Zealand",
          "Pakistan",
          "Panama",
          "Peru",
          "Philippines",
          "Poland",
          "Portugal",
          "Paraguay",
          "Romania",
          "Rwanda",
          "Saudi Arabia",
          "Senegal",
          "Singapore",
          "Sierra Leone",
          "El Salvador",
          "Serbia",
          "South Sudan",
          "Slovakia",
          "Slovenia",
          "Sweden",
          "Chad",
          "Togo",
          "Thailand",
          "Tajikistan",
          "Turkmenistan",
          "Trinidad and Tobago",
          "Tunisia",
          "Turkey",
          "Uganda",
          "Ukraine",
          "Uruguay",
          "Uzbekistan",
          "Yemen",
          "South Africa",
          "Zambia",
          "Zimbabwe",
          "Egypt",
          "China"
         ],
         "legendgroup": "",
         "marker": {
          "color": "#636efa",
          "symbol": "circle"
         },
         "mode": "markers",
         "name": "",
         "orientation": "v",
         "showlegend": false,
         "type": "scatter",
         "x": [
          0.002163739,
          0.000502499,
          0.0053842,
          0.026741034,
          0.005419346,
          0.002883772,
          0.004875665,
          0.002342432,
          0.051661858,
          0.004199578,
          0.06452762,
          0.043668807,
          0.00154532,
          0.003013197,
          0.004204352,
          0.000321274,
          0.015899724,
          0.032291519,
          0.407560319,
          0.17121064,
          0.00702363,
          0.006131304,
          0.024019906,
          0.24407306,
          0.031848471,
          0.001183901,
          0.02109365,
          0.003539115,
          0.004614943,
          0.004120078,
          0.052635665,
          0.004090408,
          0.041168267,
          0.018652727,
          0.020385401,
          0.116508934,
          0.000782991,
          0.006500853,
          0.197340737,
          0.003553172,
          0.003174671,
          0.157467854,
          0.107592871,
          0.183163471,
          0.002384857,
          0.014439536,
          0.005467102,
          0.001376084,
          0.128451108,
          0.001870226,
          0.010196381,
          0.015410431,
          0.002683637,
          0.000850623,
          0.00403136,
          0.005491826,
          0.012414017,
          0.088095271,
          0.00222151,
          0.000842329,
          0.0067177,
          0.305973662,
          0.014557418,
          0.034849137,
          0.000675286,
          0.006715114,
          0.127374574,
          0.006021968,
          0.001055111,
          0.451738626,
          0.010500185,
          0.005019126,
          0.033754018,
          0.007385679,
          0.035414208,
          0.001683667,
          0.020663671,
          0.084714686,
          0.004694468,
          0.037329977,
          0.001294604,
          0.001047892,
          0.39005817,
          0.003171153,
          0.037756732,
          0.2415567,
          0.022782755,
          0.352518799,
          0.02980367,
          0.170834924,
          0.068278136,
          0.003214369,
          0.003292387,
          0.025657325,
          0.002139059,
          0.00638473,
          0.096265519,
          0.045313,
          0.019214993,
          0.002616519,
          0.046495941,
          0.041785546,
          0.004689288,
          0.104096265,
          0.007718808,
          0.049555475,
          0.008936079,
          0.11763992,
          0.038926097,
          0.00401256,
          0.184243097,
          0.000515274,
          0.001186897,
          0.002482691,
          0.105230349,
          0.140861224,
          0.097873109,
          0.0040251,
          0.010039227,
          0.068789928,
          0.010316137,
          0.002498374,
          0.201332285,
          0.043163931,
          0.031035518,
          0.00851732,
          0.003649288,
          0.428854527,
          0.299726216,
          0.266964611,
          0.000338142,
          0.01381587
         ],
         "xaxis": "x",
         "y": [
          0.396573007,
          0.781994224,
          0.941345513,
          0.831132412,
          0.712017834,
          0.915431738,
          0.899989486,
          0.786824107,
          0.626350224,
          0.813582063,
          0.735182583,
          0.665563583,
          0.90062499,
          0.745178163,
          0.905855775,
          0.651352704,
          0.639163077,
          0.799804807,
          0.821328104,
          0.640880644,
          0.933913231,
          0.921336651,
          0.744896293,
          0.763051808,
          0.836179912,
          0.547612607,
          0.934738934,
          0.779858291,
          0.867371082,
          0.951444268,
          0.866202772,
          0.466610909,
          0.859828949,
          0.751989543,
          0.87770915,
          0.740795195,
          0.949172199,
          0.825467646,
          0.704829216,
          0.834743679,
          0.801641524,
          0.794796526,
          0.706846774,
          0.733163178,
          0.541345119,
          0.908147573,
          0.870603263,
          0.714838803,
          0.537825167,
          0.718964577,
          0.870614409,
          0.881444871,
          0.886982977,
          0.633182645,
          0.948891878,
          0.747580588,
          0.66465199,
          0.858068526,
          0.75104779,
          0.809961379,
          0.811601937,
          0.829747558,
          0.909374893,
          0.959704638,
          0.872366488,
          0.551357508,
          0.735268712,
          0.773157001,
          0.837633669,
          0.738125861,
          0.747381449,
          0.90563643,
          0.671237648,
          0.772072434,
          0.557574093,
          0.853962779,
          0.858709276,
          0.71156615,
          0.924911439,
          0.895075202,
          0.649565637,
          0.693351328,
          0.864451885,
          0.551522553,
          0.889534533,
          0.803223193,
          0.894626856,
          0.767520964,
          0.759772122,
          0.759578407,
          0.863902867,
          0.908547819,
          0.955750287,
          0.797565043,
          0.936217487,
          0.734833717,
          0.880366504,
          0.824766099,
          0.915463448,
          0.862055779,
          0.888747811,
          0.885923445,
          0.842823207,
          0.900589406,
          0.854191244,
          0.690596163,
          0.926645339,
          0.715315044,
          0.833805263,
          0.726495862,
          0.451313615,
          0.749952674,
          0.936142623,
          0.939144194,
          0.587305248,
          0.649828613,
          0.905063033,
          0.831383407,
          0.826457024,
          0.857907116,
          0.593361557,
          0.608830452,
          0.731713951,
          0.663081884,
          0.892395437,
          0.974998116,
          0.599920273,
          0.759330094,
          0.806500256,
          0.711457908,
          0.708354175,
          0.898517907
         ],
         "yaxis": "y"
        },
        {
         "hovertemplate": "<b>OLS trendline</b><br>Freedom to make life choices = -0.141543 * HIV + 0.795333<br>R<sup>2</sup>=0.012666<br><br>HIV=%{x}<br>Freedom to make life choices=%{y} <b>(trend)</b><extra></extra>",
         "legendgroup": "",
         "marker": {
          "color": "#636efa",
          "symbol": "circle"
         },
         "mode": "lines",
         "name": "",
         "showlegend": false,
         "type": "scatter",
         "x": [
          0.000321274,
          0.000338142,
          0.000502499,
          0.000515274,
          0.000675286,
          0.000782991,
          0.000842329,
          0.000850623,
          0.001047892,
          0.001055111,
          0.001183901,
          0.001186897,
          0.001294604,
          0.001376084,
          0.00154532,
          0.001683667,
          0.001870226,
          0.002139059,
          0.002163739,
          0.00222151,
          0.002342432,
          0.002384857,
          0.002482691,
          0.002498374,
          0.002616519,
          0.002683637,
          0.002883772,
          0.003013197,
          0.003171153,
          0.003174671,
          0.003214369,
          0.003292387,
          0.003539115,
          0.003553172,
          0.003649288,
          0.00401256,
          0.0040251,
          0.00403136,
          0.004090408,
          0.004120078,
          0.004199578,
          0.004204352,
          0.004614943,
          0.004689288,
          0.004694468,
          0.004875665,
          0.005019126,
          0.0053842,
          0.005419346,
          0.005467102,
          0.005491826,
          0.006021968,
          0.006131304,
          0.00638473,
          0.006500853,
          0.006715114,
          0.0067177,
          0.00702363,
          0.007385679,
          0.007718808,
          0.00851732,
          0.008936079,
          0.010039227,
          0.010196381,
          0.010316137,
          0.010500185,
          0.012414017,
          0.01381587,
          0.014439536,
          0.014557418,
          0.015410431,
          0.015899724,
          0.018652727,
          0.019214993,
          0.020385401,
          0.020663671,
          0.02109365,
          0.022782755,
          0.024019906,
          0.025657325,
          0.026741034,
          0.02980367,
          0.031035518,
          0.031848471,
          0.032291519,
          0.033754018,
          0.034849137,
          0.035414208,
          0.037329977,
          0.037756732,
          0.038926097,
          0.041168267,
          0.041785546,
          0.043163931,
          0.043668807,
          0.045313,
          0.046495941,
          0.049555475,
          0.051661858,
          0.052635665,
          0.06452762,
          0.068278136,
          0.068789928,
          0.084714686,
          0.088095271,
          0.096265519,
          0.097873109,
          0.104096265,
          0.105230349,
          0.107592871,
          0.116508934,
          0.11763992,
          0.127374574,
          0.128451108,
          0.140861224,
          0.157467854,
          0.170834924,
          0.17121064,
          0.183163471,
          0.184243097,
          0.197340737,
          0.201332285,
          0.2415567,
          0.24407306,
          0.266964611,
          0.299726216,
          0.305973662,
          0.352518799,
          0.39005817,
          0.407560319,
          0.428854527,
          0.451738626
         ],
         "xaxis": "x",
         "y": [
          0.7952876270994292,
          0.7952852395545376,
          0.7952619759953863,
          0.7952601677854034,
          0.7952375192299606,
          0.7952222743566763,
          0.7952138754866985,
          0.7952127015302525,
          0.795184779512631,
          0.795183757714755,
          0.795165528410356,
          0.7951651043479601,
          0.79514985919159,
          0.7951383262796992,
          0.7951143721329544,
          0.7950947901034826,
          0.7950683840098467,
          0.7950303326192925,
          0.7950268393416112,
          0.7950186622692886,
          0.7950015466240792,
          0.7949955416684217,
          0.794981693964667,
          0.7949794741480595,
          0.7949627515673605,
          0.7949532514939648,
          0.7949249238145185,
          0.7949066046304061,
          0.7948842470870748,
          0.7948837491393081,
          0.7948781301710184,
          0.7948670872804944,
          0.7948321646947677,
          0.7948301750268436,
          0.7948165704937152,
          0.7947651519374018,
          0.79476337698999,
          0.7947624909317127,
          0.7947541331091632,
          0.7947499335326315,
          0.7947386808755951,
          0.7947380051500015,
          0.7946798889272944,
          0.7946693659236795,
          0.7946686327316865,
          0.7946429855908435,
          0.794622679711207,
          0.7945710060946675,
          0.7945660314294574,
          0.7945592719088357,
          0.7945557724032688,
          0.7944807345906074,
          0.7944652588609252,
          0.7944293882211504,
          0.794412951840106,
          0.7943826247262786,
          0.7943822586964535,
          0.7943389564905775,
          0.7942877110411767,
          0.7942405590111657,
          0.7941275353422924,
          0.794068262997539,
          0.7939121202792451,
          0.7938898762532841,
          0.7938729256470445,
          0.7938468749675196,
          0.7935759857207114,
          0.7933775634436747,
          0.7932892879769672,
          0.7932726026220394,
          0.7931518647259819,
          0.7930826087974372,
          0.7926929408907816,
          0.7926133561554204,
          0.7924476932646451,
          0.7924083061341607,
          0.7923474456785652,
          0.7921083649331132,
          0.791933255047513,
          0.7917014900861061,
          0.7915480988193861,
          0.7911146045736596,
          0.7909402452898238,
          0.7908251776005697,
          0.7907624673213917,
          0.7905554610363219,
          0.7904004547656173,
          0.7903204730025455,
          0.7900493095872257,
          0.7899889054657973,
          0.7898233902042207,
          0.7895060270592237,
          0.7894186556267362,
          0.7892235550774395,
          0.7891520934865728,
          0.7889193697138607,
          0.7887519328664736,
          0.7883188776866857,
          0.7880207342214498,
          0.7878828987976684,
          0.7861996775258816,
          0.7856688187805049,
          0.7855963782792476,
          0.7833423425539479,
          0.7828638448987615,
          0.7817074046642186,
          0.7814798617846574,
          0.7805990185123067,
          0.7804384970242257,
          0.7801040989134471,
          0.7788420938939032,
          0.7786820109055894,
          0.7773041401781705,
          0.7771517644814409,
          0.7753952012219482,
          0.7730446513864762,
          0.7711526381249508,
          0.7710994582093398,
          0.7694076203746631,
          0.7692548070274234,
          0.7674009296575373,
          0.7668359545545406,
          0.7611424759824155,
          0.7607863032017858,
          0.7575461676994742,
          0.7529089965670681,
          0.7520247152187499,
          0.7454365836040048,
          0.7401231538275976,
          0.7376458496754393,
          0.7346318066630456,
          0.7313927259380956
         ],
         "yaxis": "y"
        }
       ],
       "layout": {
        "height": 300,
        "legend": {
         "tracegroupgap": 0
        },
        "margin": {
         "t": 60
        },
        "template": {
         "data": {
          "bar": [
           {
            "error_x": {
             "color": "#2a3f5f"
            },
            "error_y": {
             "color": "#2a3f5f"
            },
            "marker": {
             "line": {
              "color": "#E5ECF6",
              "width": 0.5
             },
             "pattern": {
              "fillmode": "overlay",
              "size": 10,
              "solidity": 0.2
             }
            },
            "type": "bar"
           }
          ],
          "barpolar": [
           {
            "marker": {
             "line": {
              "color": "#E5ECF6",
              "width": 0.5
             },
             "pattern": {
              "fillmode": "overlay",
              "size": 10,
              "solidity": 0.2
             }
            },
            "type": "barpolar"
           }
          ],
          "carpet": [
           {
            "aaxis": {
             "endlinecolor": "#2a3f5f",
             "gridcolor": "white",
             "linecolor": "white",
             "minorgridcolor": "white",
             "startlinecolor": "#2a3f5f"
            },
            "baxis": {
             "endlinecolor": "#2a3f5f",
             "gridcolor": "white",
             "linecolor": "white",
             "minorgridcolor": "white",
             "startlinecolor": "#2a3f5f"
            },
            "type": "carpet"
           }
          ],
          "choropleth": [
           {
            "colorbar": {
             "outlinewidth": 0,
             "ticks": ""
            },
            "type": "choropleth"
           }
          ],
          "contour": [
           {
            "colorbar": {
             "outlinewidth": 0,
             "ticks": ""
            },
            "colorscale": [
             [
              0,
              "#0d0887"
             ],
             [
              0.1111111111111111,
              "#46039f"
             ],
             [
              0.2222222222222222,
              "#7201a8"
             ],
             [
              0.3333333333333333,
              "#9c179e"
             ],
             [
              0.4444444444444444,
              "#bd3786"
             ],
             [
              0.5555555555555556,
              "#d8576b"
             ],
             [
              0.6666666666666666,
              "#ed7953"
             ],
             [
              0.7777777777777778,
              "#fb9f3a"
             ],
             [
              0.8888888888888888,
              "#fdca26"
             ],
             [
              1,
              "#f0f921"
             ]
            ],
            "type": "contour"
           }
          ],
          "contourcarpet": [
           {
            "colorbar": {
             "outlinewidth": 0,
             "ticks": ""
            },
            "type": "contourcarpet"
           }
          ],
          "heatmap": [
           {
            "colorbar": {
             "outlinewidth": 0,
             "ticks": ""
            },
            "colorscale": [
             [
              0,
              "#0d0887"
             ],
             [
              0.1111111111111111,
              "#46039f"
             ],
             [
              0.2222222222222222,
              "#7201a8"
             ],
             [
              0.3333333333333333,
              "#9c179e"
             ],
             [
              0.4444444444444444,
              "#bd3786"
             ],
             [
              0.5555555555555556,
              "#d8576b"
             ],
             [
              0.6666666666666666,
              "#ed7953"
             ],
             [
              0.7777777777777778,
              "#fb9f3a"
             ],
             [
              0.8888888888888888,
              "#fdca26"
             ],
             [
              1,
              "#f0f921"
             ]
            ],
            "type": "heatmap"
           }
          ],
          "heatmapgl": [
           {
            "colorbar": {
             "outlinewidth": 0,
             "ticks": ""
            },
            "colorscale": [
             [
              0,
              "#0d0887"
             ],
             [
              0.1111111111111111,
              "#46039f"
             ],
             [
              0.2222222222222222,
              "#7201a8"
             ],
             [
              0.3333333333333333,
              "#9c179e"
             ],
             [
              0.4444444444444444,
              "#bd3786"
             ],
             [
              0.5555555555555556,
              "#d8576b"
             ],
             [
              0.6666666666666666,
              "#ed7953"
             ],
             [
              0.7777777777777778,
              "#fb9f3a"
             ],
             [
              0.8888888888888888,
              "#fdca26"
             ],
             [
              1,
              "#f0f921"
             ]
            ],
            "type": "heatmapgl"
           }
          ],
          "histogram": [
           {
            "marker": {
             "pattern": {
              "fillmode": "overlay",
              "size": 10,
              "solidity": 0.2
             }
            },
            "type": "histogram"
           }
          ],
          "histogram2d": [
           {
            "colorbar": {
             "outlinewidth": 0,
             "ticks": ""
            },
            "colorscale": [
             [
              0,
              "#0d0887"
             ],
             [
              0.1111111111111111,
              "#46039f"
             ],
             [
              0.2222222222222222,
              "#7201a8"
             ],
             [
              0.3333333333333333,
              "#9c179e"
             ],
             [
              0.4444444444444444,
              "#bd3786"
             ],
             [
              0.5555555555555556,
              "#d8576b"
             ],
             [
              0.6666666666666666,
              "#ed7953"
             ],
             [
              0.7777777777777778,
              "#fb9f3a"
             ],
             [
              0.8888888888888888,
              "#fdca26"
             ],
             [
              1,
              "#f0f921"
             ]
            ],
            "type": "histogram2d"
           }
          ],
          "histogram2dcontour": [
           {
            "colorbar": {
             "outlinewidth": 0,
             "ticks": ""
            },
            "colorscale": [
             [
              0,
              "#0d0887"
             ],
             [
              0.1111111111111111,
              "#46039f"
             ],
             [
              0.2222222222222222,
              "#7201a8"
             ],
             [
              0.3333333333333333,
              "#9c179e"
             ],
             [
              0.4444444444444444,
              "#bd3786"
             ],
             [
              0.5555555555555556,
              "#d8576b"
             ],
             [
              0.6666666666666666,
              "#ed7953"
             ],
             [
              0.7777777777777778,
              "#fb9f3a"
             ],
             [
              0.8888888888888888,
              "#fdca26"
             ],
             [
              1,
              "#f0f921"
             ]
            ],
            "type": "histogram2dcontour"
           }
          ],
          "mesh3d": [
           {
            "colorbar": {
             "outlinewidth": 0,
             "ticks": ""
            },
            "type": "mesh3d"
           }
          ],
          "parcoords": [
           {
            "line": {
             "colorbar": {
              "outlinewidth": 0,
              "ticks": ""
             }
            },
            "type": "parcoords"
           }
          ],
          "pie": [
           {
            "automargin": true,
            "type": "pie"
           }
          ],
          "scatter": [
           {
            "fillpattern": {
             "fillmode": "overlay",
             "size": 10,
             "solidity": 0.2
            },
            "type": "scatter"
           }
          ],
          "scatter3d": [
           {
            "line": {
             "colorbar": {
              "outlinewidth": 0,
              "ticks": ""
             }
            },
            "marker": {
             "colorbar": {
              "outlinewidth": 0,
              "ticks": ""
             }
            },
            "type": "scatter3d"
           }
          ],
          "scattercarpet": [
           {
            "marker": {
             "colorbar": {
              "outlinewidth": 0,
              "ticks": ""
             }
            },
            "type": "scattercarpet"
           }
          ],
          "scattergeo": [
           {
            "marker": {
             "colorbar": {
              "outlinewidth": 0,
              "ticks": ""
             }
            },
            "type": "scattergeo"
           }
          ],
          "scattergl": [
           {
            "marker": {
             "colorbar": {
              "outlinewidth": 0,
              "ticks": ""
             }
            },
            "type": "scattergl"
           }
          ],
          "scattermapbox": [
           {
            "marker": {
             "colorbar": {
              "outlinewidth": 0,
              "ticks": ""
             }
            },
            "type": "scattermapbox"
           }
          ],
          "scatterpolar": [
           {
            "marker": {
             "colorbar": {
              "outlinewidth": 0,
              "ticks": ""
             }
            },
            "type": "scatterpolar"
           }
          ],
          "scatterpolargl": [
           {
            "marker": {
             "colorbar": {
              "outlinewidth": 0,
              "ticks": ""
             }
            },
            "type": "scatterpolargl"
           }
          ],
          "scatterternary": [
           {
            "marker": {
             "colorbar": {
              "outlinewidth": 0,
              "ticks": ""
             }
            },
            "type": "scatterternary"
           }
          ],
          "surface": [
           {
            "colorbar": {
             "outlinewidth": 0,
             "ticks": ""
            },
            "colorscale": [
             [
              0,
              "#0d0887"
             ],
             [
              0.1111111111111111,
              "#46039f"
             ],
             [
              0.2222222222222222,
              "#7201a8"
             ],
             [
              0.3333333333333333,
              "#9c179e"
             ],
             [
              0.4444444444444444,
              "#bd3786"
             ],
             [
              0.5555555555555556,
              "#d8576b"
             ],
             [
              0.6666666666666666,
              "#ed7953"
             ],
             [
              0.7777777777777778,
              "#fb9f3a"
             ],
             [
              0.8888888888888888,
              "#fdca26"
             ],
             [
              1,
              "#f0f921"
             ]
            ],
            "type": "surface"
           }
          ],
          "table": [
           {
            "cells": {
             "fill": {
              "color": "#EBF0F8"
             },
             "line": {
              "color": "white"
             }
            },
            "header": {
             "fill": {
              "color": "#C8D4E3"
             },
             "line": {
              "color": "white"
             }
            },
            "type": "table"
           }
          ]
         },
         "layout": {
          "annotationdefaults": {
           "arrowcolor": "#2a3f5f",
           "arrowhead": 0,
           "arrowwidth": 1
          },
          "autotypenumbers": "strict",
          "coloraxis": {
           "colorbar": {
            "outlinewidth": 0,
            "ticks": ""
           }
          },
          "colorscale": {
           "diverging": [
            [
             0,
             "#8e0152"
            ],
            [
             0.1,
             "#c51b7d"
            ],
            [
             0.2,
             "#de77ae"
            ],
            [
             0.3,
             "#f1b6da"
            ],
            [
             0.4,
             "#fde0ef"
            ],
            [
             0.5,
             "#f7f7f7"
            ],
            [
             0.6,
             "#e6f5d0"
            ],
            [
             0.7,
             "#b8e186"
            ],
            [
             0.8,
             "#7fbc41"
            ],
            [
             0.9,
             "#4d9221"
            ],
            [
             1,
             "#276419"
            ]
           ],
           "sequential": [
            [
             0,
             "#0d0887"
            ],
            [
             0.1111111111111111,
             "#46039f"
            ],
            [
             0.2222222222222222,
             "#7201a8"
            ],
            [
             0.3333333333333333,
             "#9c179e"
            ],
            [
             0.4444444444444444,
             "#bd3786"
            ],
            [
             0.5555555555555556,
             "#d8576b"
            ],
            [
             0.6666666666666666,
             "#ed7953"
            ],
            [
             0.7777777777777778,
             "#fb9f3a"
            ],
            [
             0.8888888888888888,
             "#fdca26"
            ],
            [
             1,
             "#f0f921"
            ]
           ],
           "sequentialminus": [
            [
             0,
             "#0d0887"
            ],
            [
             0.1111111111111111,
             "#46039f"
            ],
            [
             0.2222222222222222,
             "#7201a8"
            ],
            [
             0.3333333333333333,
             "#9c179e"
            ],
            [
             0.4444444444444444,
             "#bd3786"
            ],
            [
             0.5555555555555556,
             "#d8576b"
            ],
            [
             0.6666666666666666,
             "#ed7953"
            ],
            [
             0.7777777777777778,
             "#fb9f3a"
            ],
            [
             0.8888888888888888,
             "#fdca26"
            ],
            [
             1,
             "#f0f921"
            ]
           ]
          },
          "colorway": [
           "#636efa",
           "#EF553B",
           "#00cc96",
           "#ab63fa",
           "#FFA15A",
           "#19d3f3",
           "#FF6692",
           "#B6E880",
           "#FF97FF",
           "#FECB52"
          ],
          "font": {
           "color": "#2a3f5f"
          },
          "geo": {
           "bgcolor": "white",
           "lakecolor": "white",
           "landcolor": "#E5ECF6",
           "showlakes": true,
           "showland": true,
           "subunitcolor": "white"
          },
          "hoverlabel": {
           "align": "left"
          },
          "hovermode": "closest",
          "mapbox": {
           "style": "light"
          },
          "paper_bgcolor": "white",
          "plot_bgcolor": "#E5ECF6",
          "polar": {
           "angularaxis": {
            "gridcolor": "white",
            "linecolor": "white",
            "ticks": ""
           },
           "bgcolor": "#E5ECF6",
           "radialaxis": {
            "gridcolor": "white",
            "linecolor": "white",
            "ticks": ""
           }
          },
          "scene": {
           "xaxis": {
            "backgroundcolor": "#E5ECF6",
            "gridcolor": "white",
            "gridwidth": 2,
            "linecolor": "white",
            "showbackground": true,
            "ticks": "",
            "zerolinecolor": "white"
           },
           "yaxis": {
            "backgroundcolor": "#E5ECF6",
            "gridcolor": "white",
            "gridwidth": 2,
            "linecolor": "white",
            "showbackground": true,
            "ticks": "",
            "zerolinecolor": "white"
           },
           "zaxis": {
            "backgroundcolor": "#E5ECF6",
            "gridcolor": "white",
            "gridwidth": 2,
            "linecolor": "white",
            "showbackground": true,
            "ticks": "",
            "zerolinecolor": "white"
           }
          },
          "shapedefaults": {
           "line": {
            "color": "#2a3f5f"
           }
          },
          "ternary": {
           "aaxis": {
            "gridcolor": "white",
            "linecolor": "white",
            "ticks": ""
           },
           "baxis": {
            "gridcolor": "white",
            "linecolor": "white",
            "ticks": ""
           },
           "bgcolor": "#E5ECF6",
           "caxis": {
            "gridcolor": "white",
            "linecolor": "white",
            "ticks": ""
           }
          },
          "title": {
           "x": 0.05
          },
          "xaxis": {
           "automargin": true,
           "gridcolor": "white",
           "linecolor": "white",
           "ticks": "",
           "title": {
            "standoff": 15
           },
           "zerolinecolor": "white",
           "zerolinewidth": 2
          },
          "yaxis": {
           "automargin": true,
           "gridcolor": "white",
           "linecolor": "white",
           "ticks": "",
           "title": {
            "standoff": 15
           },
           "zerolinecolor": "white",
           "zerolinewidth": 2
          }
         }
        },
        "title": {
         "text": "Scatterplot HIV death rates and Freedom to make life choices",
         "x": 0.5,
         "y": 0.95
        },
        "width": 600,
        "xaxis": {
         "anchor": "y",
         "domain": [
          0,
          1
         ],
         "title": {
          "text": "Road Injuries"
         }
        },
        "yaxis": {
         "anchor": "x",
         "domain": [
          0,
          1
         ],
         "title": {
          "text": "Freedom to make life choices"
         }
        }
       }
      }
     },
     "metadata": {},
     "output_type": "display_data"
    },
    {
     "data": {
      "application/vnd.plotly.v1+json": {
       "config": {
        "plotlyServerURL": "https://plot.ly"
       },
       "data": [
        {
         "hovertemplate": "<b>%{hovertext}</b><br><br>HIV=%{x}<br>Healthy life expectancy=%{y}<extra></extra>",
         "hovertext": [
          "Afghanistan",
          "Albania",
          "United Arab Emirates",
          "Argentina",
          "Armenia",
          "Australia",
          "Austria",
          "Azerbaijan",
          "Burundi",
          "Belgium",
          "Benin",
          "Burkina Faso",
          "Bangladesh",
          "Bulgaria",
          "Bahrain",
          "Bosnia and Herzegovina",
          "Belarus",
          "Brazil",
          "Botswana",
          "Central African Republic",
          "Canada",
          "Switzerland",
          "Chile",
          "Cameroon",
          "Colombia",
          "Comoros",
          "Costa Rica",
          "Cyprus",
          "Germany",
          "Denmark",
          "Dominican Republic",
          "Algeria",
          "Ecuador",
          "Spain",
          "Estonia",
          "Ethiopia",
          "Finland",
          "France",
          "Gabon",
          "United Kingdom",
          "Georgia",
          "Ghana",
          "Guinea",
          "Gambia",
          "Greece",
          "Guatemala",
          "Honduras",
          "Croatia",
          "Haiti",
          "Hungary",
          "Indonesia",
          "India",
          "Ireland",
          "Iraq",
          "Iceland",
          "Israel",
          "Italy",
          "Jamaica",
          "Jordan",
          "Japan",
          "Kazakhstan",
          "Kenya",
          "Kyrgyzstan",
          "Cambodia",
          "Kuwait",
          "Lebanon",
          "Liberia",
          "Libya",
          "Sri Lanka",
          "Lesotho",
          "Lithuania",
          "Luxembourg",
          "Latvia",
          "Morocco",
          "Madagascar",
          "Maldives",
          "Mexico",
          "Mali",
          "Malta",
          "Myanmar",
          "Montenegro",
          "Mongolia",
          "Mozambique",
          "Mauritania",
          "Mauritius",
          "Malawi",
          "Malaysia",
          "Namibia",
          "Niger",
          "Nigeria",
          "Nicaragua",
          "Netherlands",
          "Norway",
          "Nepal",
          "New Zealand",
          "Pakistan",
          "Panama",
          "Peru",
          "Philippines",
          "Poland",
          "Portugal",
          "Paraguay",
          "Romania",
          "Rwanda",
          "Saudi Arabia",
          "Senegal",
          "Singapore",
          "Sierra Leone",
          "El Salvador",
          "Serbia",
          "South Sudan",
          "Slovakia",
          "Slovenia",
          "Sweden",
          "Chad",
          "Togo",
          "Thailand",
          "Tajikistan",
          "Turkmenistan",
          "Trinidad and Tobago",
          "Tunisia",
          "Turkey",
          "Uganda",
          "Ukraine",
          "Uruguay",
          "Uzbekistan",
          "Yemen",
          "South Africa",
          "Zambia",
          "Zimbabwe",
          "Egypt",
          "China"
         ],
         "legendgroup": "",
         "marker": {
          "color": "#636efa",
          "symbol": "circle"
         },
         "mode": "markers",
         "name": "",
         "orientation": "v",
         "showlegend": false,
         "type": "scatter",
         "x": [
          0.002163739,
          0.000502499,
          0.0053842,
          0.026741034,
          0.005419346,
          0.002883772,
          0.004875665,
          0.002342432,
          0.051661858,
          0.004199578,
          0.06452762,
          0.043668807,
          0.00154532,
          0.003013197,
          0.004204352,
          0.000321274,
          0.015899724,
          0.032291519,
          0.407560319,
          0.17121064,
          0.00702363,
          0.006131304,
          0.024019906,
          0.24407306,
          0.031848471,
          0.001183901,
          0.02109365,
          0.003539115,
          0.004614943,
          0.004120078,
          0.052635665,
          0.004090408,
          0.041168267,
          0.018652727,
          0.020385401,
          0.116508934,
          0.000782991,
          0.006500853,
          0.197340737,
          0.003553172,
          0.003174671,
          0.157467854,
          0.107592871,
          0.183163471,
          0.002384857,
          0.014439536,
          0.005467102,
          0.001376084,
          0.128451108,
          0.001870226,
          0.010196381,
          0.015410431,
          0.002683637,
          0.000850623,
          0.00403136,
          0.005491826,
          0.012414017,
          0.088095271,
          0.00222151,
          0.000842329,
          0.0067177,
          0.305973662,
          0.014557418,
          0.034849137,
          0.000675286,
          0.006715114,
          0.127374574,
          0.006021968,
          0.001055111,
          0.451738626,
          0.010500185,
          0.005019126,
          0.033754018,
          0.007385679,
          0.035414208,
          0.001683667,
          0.020663671,
          0.084714686,
          0.004694468,
          0.037329977,
          0.001294604,
          0.001047892,
          0.39005817,
          0.003171153,
          0.037756732,
          0.2415567,
          0.022782755,
          0.352518799,
          0.02980367,
          0.170834924,
          0.068278136,
          0.003214369,
          0.003292387,
          0.025657325,
          0.002139059,
          0.00638473,
          0.096265519,
          0.045313,
          0.019214993,
          0.002616519,
          0.046495941,
          0.041785546,
          0.004689288,
          0.104096265,
          0.007718808,
          0.049555475,
          0.008936079,
          0.11763992,
          0.038926097,
          0.00401256,
          0.184243097,
          0.000515274,
          0.001186897,
          0.002482691,
          0.105230349,
          0.140861224,
          0.097873109,
          0.0040251,
          0.010039227,
          0.068789928,
          0.010316137,
          0.002498374,
          0.201332285,
          0.043163931,
          0.031035518,
          0.00851732,
          0.003649288,
          0.428854527,
          0.299726216,
          0.266964611,
          0.000338142,
          0.01381587
         ],
         "xaxis": "x",
         "y": [
          52.59000015,
          68.70813751,
          67.08278656,
          68.80380249,
          66.75065613,
          73.60453796,
          73.00250244,
          65.50839996,
          53.40000153,
          72.00164795,
          54.31246567,
          53.88945389,
          64.50306702,
          66.80397797,
          68.5,
          67.80813599,
          66.10433197,
          66.48016357,
          58.92445374,
          45.20000076,
          73.60160065,
          74.10244751,
          69.90061951,
          52.7049408,
          67.69958496,
          57.34901047,
          71.29985046,
          73.70222473,
          72.20201874,
          72.40250397,
          65.80748749,
          65.90517426,
          68.50003815,
          74.40270996,
          68.60495758,
          58.63959122,
          71.9008255,
          73.80193329,
          59.71533966,
          72.30160522,
          64.49520874,
          57.20398712,
          54.46780014,
          55.0120163,
          72.40525818,
          64.8089447,
          67.19876862,
          70.21490479,
          55.59862518,
          67.60997009,
          62.15584946,
          60.21518707,
          72.30078888,
          59.90354919,
          73,
          73.20025635,
          73.60168457,
          67.09999847,
          66.79975128,
          75.00096893,
          64.60996246,
          60.09693146,
          64.10601044,
          61.52996826,
          66.76764679,
          67.10658264,
          56.09631348,
          62.29999924,
          67.20006561,
          48.00362396,
          67.29407501,
          72.59999847,
          66.8074646,
          65.89624023,
          59.10542679,
          70.59999847,
          68.29902649,
          51.72698212,
          72.19999695,
          58.96171188,
          68.50534821,
          62.30448532,
          54.20582199,
          57.01017761,
          66.40434265,
          57.59288788,
          67.10215759,
          56.50148773,
          53.50009537,
          49.86190796,
          67.50717926,
          72.30091858,
          73.20078278,
          63.77917862,
          73.20262909,
          58.25313568,
          69.60301208,
          68.10023499,
          61.92676163,
          69.31113434,
          72.40202332,
          65.63993835,
          67.20723724,
          61.09884644,
          66.30514526,
          59.59915161,
          76.80458069,
          50.86514282,
          66.10826111,
          68.21020508,
          51,
          68.90634155,
          71.1029892,
          72.60076904,
          48.22053909,
          54.71989822,
          67.25059509,
          64.10459137,
          62.21170807,
          63.5,
          66.89785767,
          66.90281677,
          55.70820236,
          64.60678101,
          69.00254822,
          65.10757446,
          56.72728348,
          56.50601196,
          55.29937744,
          55.61725998,
          61.78015137,
          69.2891922
         ],
         "yaxis": "y"
        },
        {
         "hovertemplate": "<b>OLS trendline</b><br>Healthy life expectancy = -44.2685 * HIV + 67.0044<br>R<sup>2</sup>=0.365315<br><br>HIV=%{x}<br>Healthy life expectancy=%{y} <b>(trend)</b><extra></extra>",
         "legendgroup": "",
         "marker": {
          "color": "#636efa",
          "symbol": "circle"
         },
         "mode": "lines",
         "name": "",
         "showlegend": false,
         "type": "scatter",
         "x": [
          0.000321274,
          0.000338142,
          0.000502499,
          0.000515274,
          0.000675286,
          0.000782991,
          0.000842329,
          0.000850623,
          0.001047892,
          0.001055111,
          0.001183901,
          0.001186897,
          0.001294604,
          0.001376084,
          0.00154532,
          0.001683667,
          0.001870226,
          0.002139059,
          0.002163739,
          0.00222151,
          0.002342432,
          0.002384857,
          0.002482691,
          0.002498374,
          0.002616519,
          0.002683637,
          0.002883772,
          0.003013197,
          0.003171153,
          0.003174671,
          0.003214369,
          0.003292387,
          0.003539115,
          0.003553172,
          0.003649288,
          0.00401256,
          0.0040251,
          0.00403136,
          0.004090408,
          0.004120078,
          0.004199578,
          0.004204352,
          0.004614943,
          0.004689288,
          0.004694468,
          0.004875665,
          0.005019126,
          0.0053842,
          0.005419346,
          0.005467102,
          0.005491826,
          0.006021968,
          0.006131304,
          0.00638473,
          0.006500853,
          0.006715114,
          0.0067177,
          0.00702363,
          0.007385679,
          0.007718808,
          0.00851732,
          0.008936079,
          0.010039227,
          0.010196381,
          0.010316137,
          0.010500185,
          0.012414017,
          0.01381587,
          0.014439536,
          0.014557418,
          0.015410431,
          0.015899724,
          0.018652727,
          0.019214993,
          0.020385401,
          0.020663671,
          0.02109365,
          0.022782755,
          0.024019906,
          0.025657325,
          0.026741034,
          0.02980367,
          0.031035518,
          0.031848471,
          0.032291519,
          0.033754018,
          0.034849137,
          0.035414208,
          0.037329977,
          0.037756732,
          0.038926097,
          0.041168267,
          0.041785546,
          0.043163931,
          0.043668807,
          0.045313,
          0.046495941,
          0.049555475,
          0.051661858,
          0.052635665,
          0.06452762,
          0.068278136,
          0.068789928,
          0.084714686,
          0.088095271,
          0.096265519,
          0.097873109,
          0.104096265,
          0.105230349,
          0.107592871,
          0.116508934,
          0.11763992,
          0.127374574,
          0.128451108,
          0.140861224,
          0.157467854,
          0.170834924,
          0.17121064,
          0.183163471,
          0.184243097,
          0.197340737,
          0.201332285,
          0.2415567,
          0.24407306,
          0.266964611,
          0.299726216,
          0.305973662,
          0.352518799,
          0.39005817,
          0.407560319,
          0.428854527,
          0.451738626
         ],
         "xaxis": "x",
         "y": [
          66.99018487027628,
          66.98943814963978,
          66.98216231589232,
          66.98159678612404,
          66.9745132989005,
          66.9697453627994,
          66.96711856002916,
          66.96675139729741,
          66.95801859950038,
          66.95769902537927,
          66.95199768848254,
          66.9518650601314,
          66.94709703549334,
          66.9434900401494,
          66.93599822051236,
          66.92987380979994,
          66.92161512737027,
          66.90971430042751,
          66.90862175446424,
          66.90606432039434,
          66.900711287859,
          66.89883319780664,
          66.89450223582236,
          66.89380797332876,
          66.88857787434853,
          66.8856066628427,
          66.87674699159628,
          66.87101754421792,
          66.864025072979,
          66.86386933648392,
          66.8621119665629,
          66.85865822867946,
          66.84773595637682,
          66.84711367442358,
          66.84285876567938,
          66.82677726822502,
          66.82622214154837,
          66.82594502089479,
          66.82333105598232,
          66.82201761032873,
          66.81849826656531,
          66.8182869288656,
          66.80011069144216,
          66.79681955166744,
          66.79659024096688,
          66.78856892610021,
          66.78221812640659,
          66.76605685716025,
          66.76450099733749,
          66.76238691204485,
          66.76129241826867,
          66.73782384038913,
          66.73298370240526,
          66.72176491985701,
          66.71662433173324,
          66.7071393240088,
          66.70702484573242,
          66.69348179117216,
          66.67745443406272,
          66.66270732125062,
          66.62735841273225,
          66.60882059040492,
          66.55998591073293,
          66.55302894281098,
          66.5477275273175,
          66.53958000302859,
          66.4548575789604,
          66.39279968446012,
          66.3651909417236,
          66.3599724853523,
          66.32221090067732,
          66.30055064573352,
          66.17867940122146,
          66.15378874285065,
          66.1019765655494,
          66.08965797700796,
          66.07062346239098,
          65.9958493599067,
          65.94108257177777,
          65.86859652969292,
          65.8206223849067,
          65.6850441596714,
          65.63051212726545,
          65.59452393769944,
          65.57491087838255,
          65.51016827794672,
          65.46168902986061,
          65.43667419841739,
          65.3518660263131,
          65.33297423325958,
          65.28120822797776,
          65.18195078136125,
          65.15462478137464,
          65.09360577944592,
          65.07125568885601,
          64.99846977212145,
          64.94610277802288,
          64.81066187359707,
          64.71741551039695,
          64.67430655955143,
          64.14786784679616,
          63.98183822296997,
          63.95918197160689,
          63.254217220019854,
          63.10456387742313,
          62.742879457997454,
          62.671713900253735,
          62.39622427437512,
          62.34602010516019,
          62.241434859039096,
          61.84673434692272,
          61.79666732144338,
          61.36572903409887,
          61.31807251562085,
          60.76869560558515,
          60.03354542040508,
          59.44180561613324,
          59.42517324177582,
          58.896039641335754,
          58.848246244733,
          58.2684336956835,
          58.09173395278833,
          56.31106044250901,
          56.1996650227291,
          55.18629096931134,
          53.73598467703252,
          53.45941976989588,
          51.39893753570498,
          49.737126828644406,
          48.96233338299052,
          48.01967126825305,
          47.00662710351107
         ],
         "yaxis": "y"
        }
       ],
       "layout": {
        "height": 300,
        "legend": {
         "tracegroupgap": 0
        },
        "margin": {
         "t": 60
        },
        "template": {
         "data": {
          "bar": [
           {
            "error_x": {
             "color": "#2a3f5f"
            },
            "error_y": {
             "color": "#2a3f5f"
            },
            "marker": {
             "line": {
              "color": "#E5ECF6",
              "width": 0.5
             },
             "pattern": {
              "fillmode": "overlay",
              "size": 10,
              "solidity": 0.2
             }
            },
            "type": "bar"
           }
          ],
          "barpolar": [
           {
            "marker": {
             "line": {
              "color": "#E5ECF6",
              "width": 0.5
             },
             "pattern": {
              "fillmode": "overlay",
              "size": 10,
              "solidity": 0.2
             }
            },
            "type": "barpolar"
           }
          ],
          "carpet": [
           {
            "aaxis": {
             "endlinecolor": "#2a3f5f",
             "gridcolor": "white",
             "linecolor": "white",
             "minorgridcolor": "white",
             "startlinecolor": "#2a3f5f"
            },
            "baxis": {
             "endlinecolor": "#2a3f5f",
             "gridcolor": "white",
             "linecolor": "white",
             "minorgridcolor": "white",
             "startlinecolor": "#2a3f5f"
            },
            "type": "carpet"
           }
          ],
          "choropleth": [
           {
            "colorbar": {
             "outlinewidth": 0,
             "ticks": ""
            },
            "type": "choropleth"
           }
          ],
          "contour": [
           {
            "colorbar": {
             "outlinewidth": 0,
             "ticks": ""
            },
            "colorscale": [
             [
              0,
              "#0d0887"
             ],
             [
              0.1111111111111111,
              "#46039f"
             ],
             [
              0.2222222222222222,
              "#7201a8"
             ],
             [
              0.3333333333333333,
              "#9c179e"
             ],
             [
              0.4444444444444444,
              "#bd3786"
             ],
             [
              0.5555555555555556,
              "#d8576b"
             ],
             [
              0.6666666666666666,
              "#ed7953"
             ],
             [
              0.7777777777777778,
              "#fb9f3a"
             ],
             [
              0.8888888888888888,
              "#fdca26"
             ],
             [
              1,
              "#f0f921"
             ]
            ],
            "type": "contour"
           }
          ],
          "contourcarpet": [
           {
            "colorbar": {
             "outlinewidth": 0,
             "ticks": ""
            },
            "type": "contourcarpet"
           }
          ],
          "heatmap": [
           {
            "colorbar": {
             "outlinewidth": 0,
             "ticks": ""
            },
            "colorscale": [
             [
              0,
              "#0d0887"
             ],
             [
              0.1111111111111111,
              "#46039f"
             ],
             [
              0.2222222222222222,
              "#7201a8"
             ],
             [
              0.3333333333333333,
              "#9c179e"
             ],
             [
              0.4444444444444444,
              "#bd3786"
             ],
             [
              0.5555555555555556,
              "#d8576b"
             ],
             [
              0.6666666666666666,
              "#ed7953"
             ],
             [
              0.7777777777777778,
              "#fb9f3a"
             ],
             [
              0.8888888888888888,
              "#fdca26"
             ],
             [
              1,
              "#f0f921"
             ]
            ],
            "type": "heatmap"
           }
          ],
          "heatmapgl": [
           {
            "colorbar": {
             "outlinewidth": 0,
             "ticks": ""
            },
            "colorscale": [
             [
              0,
              "#0d0887"
             ],
             [
              0.1111111111111111,
              "#46039f"
             ],
             [
              0.2222222222222222,
              "#7201a8"
             ],
             [
              0.3333333333333333,
              "#9c179e"
             ],
             [
              0.4444444444444444,
              "#bd3786"
             ],
             [
              0.5555555555555556,
              "#d8576b"
             ],
             [
              0.6666666666666666,
              "#ed7953"
             ],
             [
              0.7777777777777778,
              "#fb9f3a"
             ],
             [
              0.8888888888888888,
              "#fdca26"
             ],
             [
              1,
              "#f0f921"
             ]
            ],
            "type": "heatmapgl"
           }
          ],
          "histogram": [
           {
            "marker": {
             "pattern": {
              "fillmode": "overlay",
              "size": 10,
              "solidity": 0.2
             }
            },
            "type": "histogram"
           }
          ],
          "histogram2d": [
           {
            "colorbar": {
             "outlinewidth": 0,
             "ticks": ""
            },
            "colorscale": [
             [
              0,
              "#0d0887"
             ],
             [
              0.1111111111111111,
              "#46039f"
             ],
             [
              0.2222222222222222,
              "#7201a8"
             ],
             [
              0.3333333333333333,
              "#9c179e"
             ],
             [
              0.4444444444444444,
              "#bd3786"
             ],
             [
              0.5555555555555556,
              "#d8576b"
             ],
             [
              0.6666666666666666,
              "#ed7953"
             ],
             [
              0.7777777777777778,
              "#fb9f3a"
             ],
             [
              0.8888888888888888,
              "#fdca26"
             ],
             [
              1,
              "#f0f921"
             ]
            ],
            "type": "histogram2d"
           }
          ],
          "histogram2dcontour": [
           {
            "colorbar": {
             "outlinewidth": 0,
             "ticks": ""
            },
            "colorscale": [
             [
              0,
              "#0d0887"
             ],
             [
              0.1111111111111111,
              "#46039f"
             ],
             [
              0.2222222222222222,
              "#7201a8"
             ],
             [
              0.3333333333333333,
              "#9c179e"
             ],
             [
              0.4444444444444444,
              "#bd3786"
             ],
             [
              0.5555555555555556,
              "#d8576b"
             ],
             [
              0.6666666666666666,
              "#ed7953"
             ],
             [
              0.7777777777777778,
              "#fb9f3a"
             ],
             [
              0.8888888888888888,
              "#fdca26"
             ],
             [
              1,
              "#f0f921"
             ]
            ],
            "type": "histogram2dcontour"
           }
          ],
          "mesh3d": [
           {
            "colorbar": {
             "outlinewidth": 0,
             "ticks": ""
            },
            "type": "mesh3d"
           }
          ],
          "parcoords": [
           {
            "line": {
             "colorbar": {
              "outlinewidth": 0,
              "ticks": ""
             }
            },
            "type": "parcoords"
           }
          ],
          "pie": [
           {
            "automargin": true,
            "type": "pie"
           }
          ],
          "scatter": [
           {
            "fillpattern": {
             "fillmode": "overlay",
             "size": 10,
             "solidity": 0.2
            },
            "type": "scatter"
           }
          ],
          "scatter3d": [
           {
            "line": {
             "colorbar": {
              "outlinewidth": 0,
              "ticks": ""
             }
            },
            "marker": {
             "colorbar": {
              "outlinewidth": 0,
              "ticks": ""
             }
            },
            "type": "scatter3d"
           }
          ],
          "scattercarpet": [
           {
            "marker": {
             "colorbar": {
              "outlinewidth": 0,
              "ticks": ""
             }
            },
            "type": "scattercarpet"
           }
          ],
          "scattergeo": [
           {
            "marker": {
             "colorbar": {
              "outlinewidth": 0,
              "ticks": ""
             }
            },
            "type": "scattergeo"
           }
          ],
          "scattergl": [
           {
            "marker": {
             "colorbar": {
              "outlinewidth": 0,
              "ticks": ""
             }
            },
            "type": "scattergl"
           }
          ],
          "scattermapbox": [
           {
            "marker": {
             "colorbar": {
              "outlinewidth": 0,
              "ticks": ""
             }
            },
            "type": "scattermapbox"
           }
          ],
          "scatterpolar": [
           {
            "marker": {
             "colorbar": {
              "outlinewidth": 0,
              "ticks": ""
             }
            },
            "type": "scatterpolar"
           }
          ],
          "scatterpolargl": [
           {
            "marker": {
             "colorbar": {
              "outlinewidth": 0,
              "ticks": ""
             }
            },
            "type": "scatterpolargl"
           }
          ],
          "scatterternary": [
           {
            "marker": {
             "colorbar": {
              "outlinewidth": 0,
              "ticks": ""
             }
            },
            "type": "scatterternary"
           }
          ],
          "surface": [
           {
            "colorbar": {
             "outlinewidth": 0,
             "ticks": ""
            },
            "colorscale": [
             [
              0,
              "#0d0887"
             ],
             [
              0.1111111111111111,
              "#46039f"
             ],
             [
              0.2222222222222222,
              "#7201a8"
             ],
             [
              0.3333333333333333,
              "#9c179e"
             ],
             [
              0.4444444444444444,
              "#bd3786"
             ],
             [
              0.5555555555555556,
              "#d8576b"
             ],
             [
              0.6666666666666666,
              "#ed7953"
             ],
             [
              0.7777777777777778,
              "#fb9f3a"
             ],
             [
              0.8888888888888888,
              "#fdca26"
             ],
             [
              1,
              "#f0f921"
             ]
            ],
            "type": "surface"
           }
          ],
          "table": [
           {
            "cells": {
             "fill": {
              "color": "#EBF0F8"
             },
             "line": {
              "color": "white"
             }
            },
            "header": {
             "fill": {
              "color": "#C8D4E3"
             },
             "line": {
              "color": "white"
             }
            },
            "type": "table"
           }
          ]
         },
         "layout": {
          "annotationdefaults": {
           "arrowcolor": "#2a3f5f",
           "arrowhead": 0,
           "arrowwidth": 1
          },
          "autotypenumbers": "strict",
          "coloraxis": {
           "colorbar": {
            "outlinewidth": 0,
            "ticks": ""
           }
          },
          "colorscale": {
           "diverging": [
            [
             0,
             "#8e0152"
            ],
            [
             0.1,
             "#c51b7d"
            ],
            [
             0.2,
             "#de77ae"
            ],
            [
             0.3,
             "#f1b6da"
            ],
            [
             0.4,
             "#fde0ef"
            ],
            [
             0.5,
             "#f7f7f7"
            ],
            [
             0.6,
             "#e6f5d0"
            ],
            [
             0.7,
             "#b8e186"
            ],
            [
             0.8,
             "#7fbc41"
            ],
            [
             0.9,
             "#4d9221"
            ],
            [
             1,
             "#276419"
            ]
           ],
           "sequential": [
            [
             0,
             "#0d0887"
            ],
            [
             0.1111111111111111,
             "#46039f"
            ],
            [
             0.2222222222222222,
             "#7201a8"
            ],
            [
             0.3333333333333333,
             "#9c179e"
            ],
            [
             0.4444444444444444,
             "#bd3786"
            ],
            [
             0.5555555555555556,
             "#d8576b"
            ],
            [
             0.6666666666666666,
             "#ed7953"
            ],
            [
             0.7777777777777778,
             "#fb9f3a"
            ],
            [
             0.8888888888888888,
             "#fdca26"
            ],
            [
             1,
             "#f0f921"
            ]
           ],
           "sequentialminus": [
            [
             0,
             "#0d0887"
            ],
            [
             0.1111111111111111,
             "#46039f"
            ],
            [
             0.2222222222222222,
             "#7201a8"
            ],
            [
             0.3333333333333333,
             "#9c179e"
            ],
            [
             0.4444444444444444,
             "#bd3786"
            ],
            [
             0.5555555555555556,
             "#d8576b"
            ],
            [
             0.6666666666666666,
             "#ed7953"
            ],
            [
             0.7777777777777778,
             "#fb9f3a"
            ],
            [
             0.8888888888888888,
             "#fdca26"
            ],
            [
             1,
             "#f0f921"
            ]
           ]
          },
          "colorway": [
           "#636efa",
           "#EF553B",
           "#00cc96",
           "#ab63fa",
           "#FFA15A",
           "#19d3f3",
           "#FF6692",
           "#B6E880",
           "#FF97FF",
           "#FECB52"
          ],
          "font": {
           "color": "#2a3f5f"
          },
          "geo": {
           "bgcolor": "white",
           "lakecolor": "white",
           "landcolor": "#E5ECF6",
           "showlakes": true,
           "showland": true,
           "subunitcolor": "white"
          },
          "hoverlabel": {
           "align": "left"
          },
          "hovermode": "closest",
          "mapbox": {
           "style": "light"
          },
          "paper_bgcolor": "white",
          "plot_bgcolor": "#E5ECF6",
          "polar": {
           "angularaxis": {
            "gridcolor": "white",
            "linecolor": "white",
            "ticks": ""
           },
           "bgcolor": "#E5ECF6",
           "radialaxis": {
            "gridcolor": "white",
            "linecolor": "white",
            "ticks": ""
           }
          },
          "scene": {
           "xaxis": {
            "backgroundcolor": "#E5ECF6",
            "gridcolor": "white",
            "gridwidth": 2,
            "linecolor": "white",
            "showbackground": true,
            "ticks": "",
            "zerolinecolor": "white"
           },
           "yaxis": {
            "backgroundcolor": "#E5ECF6",
            "gridcolor": "white",
            "gridwidth": 2,
            "linecolor": "white",
            "showbackground": true,
            "ticks": "",
            "zerolinecolor": "white"
           },
           "zaxis": {
            "backgroundcolor": "#E5ECF6",
            "gridcolor": "white",
            "gridwidth": 2,
            "linecolor": "white",
            "showbackground": true,
            "ticks": "",
            "zerolinecolor": "white"
           }
          },
          "shapedefaults": {
           "line": {
            "color": "#2a3f5f"
           }
          },
          "ternary": {
           "aaxis": {
            "gridcolor": "white",
            "linecolor": "white",
            "ticks": ""
           },
           "baxis": {
            "gridcolor": "white",
            "linecolor": "white",
            "ticks": ""
           },
           "bgcolor": "#E5ECF6",
           "caxis": {
            "gridcolor": "white",
            "linecolor": "white",
            "ticks": ""
           }
          },
          "title": {
           "x": 0.05
          },
          "xaxis": {
           "automargin": true,
           "gridcolor": "white",
           "linecolor": "white",
           "ticks": "",
           "title": {
            "standoff": 15
           },
           "zerolinecolor": "white",
           "zerolinewidth": 2
          },
          "yaxis": {
           "automargin": true,
           "gridcolor": "white",
           "linecolor": "white",
           "ticks": "",
           "title": {
            "standoff": 15
           },
           "zerolinecolor": "white",
           "zerolinewidth": 2
          }
         }
        },
        "title": {
         "text": "Scatterplot HIV death rates and Healthy life expectancy",
         "x": 0.5,
         "y": 0.95
        },
        "width": 600,
        "xaxis": {
         "anchor": "y",
         "domain": [
          0,
          1
         ],
         "title": {
          "text": "Road Injuries"
         }
        },
        "yaxis": {
         "anchor": "x",
         "domain": [
          0,
          1
         ],
         "title": {
          "text": "Healthy life expectancy"
         }
        }
       }
      }
     },
     "metadata": {},
     "output_type": "display_data"
    },
    {
     "data": {
      "application/vnd.plotly.v1+json": {
       "config": {
        "plotlyServerURL": "https://plot.ly"
       },
       "data": [
        {
         "hovertemplate": "<b>%{hovertext}</b><br><br>HIV=%{x}<br>Social support=%{y}<extra></extra>",
         "hovertext": [
          "Afghanistan",
          "Albania",
          "United Arab Emirates",
          "Argentina",
          "Armenia",
          "Australia",
          "Austria",
          "Azerbaijan",
          "Burundi",
          "Belgium",
          "Benin",
          "Burkina Faso",
          "Bangladesh",
          "Bulgaria",
          "Bahrain",
          "Bosnia and Herzegovina",
          "Belarus",
          "Brazil",
          "Botswana",
          "Central African Republic",
          "Canada",
          "Switzerland",
          "Chile",
          "Cameroon",
          "Colombia",
          "Comoros",
          "Costa Rica",
          "Cyprus",
          "Germany",
          "Denmark",
          "Dominican Republic",
          "Algeria",
          "Ecuador",
          "Spain",
          "Estonia",
          "Ethiopia",
          "Finland",
          "France",
          "Gabon",
          "United Kingdom",
          "Georgia",
          "Ghana",
          "Guinea",
          "Gambia",
          "Greece",
          "Guatemala",
          "Honduras",
          "Croatia",
          "Haiti",
          "Hungary",
          "Indonesia",
          "India",
          "Ireland",
          "Iraq",
          "Iceland",
          "Israel",
          "Italy",
          "Jamaica",
          "Jordan",
          "Japan",
          "Kazakhstan",
          "Kenya",
          "Kyrgyzstan",
          "Cambodia",
          "Kuwait",
          "Lebanon",
          "Liberia",
          "Libya",
          "Sri Lanka",
          "Lesotho",
          "Lithuania",
          "Luxembourg",
          "Latvia",
          "Morocco",
          "Madagascar",
          "Maldives",
          "Mexico",
          "Mali",
          "Malta",
          "Myanmar",
          "Montenegro",
          "Mongolia",
          "Mozambique",
          "Mauritania",
          "Mauritius",
          "Malawi",
          "Malaysia",
          "Namibia",
          "Niger",
          "Nigeria",
          "Nicaragua",
          "Netherlands",
          "Norway",
          "Nepal",
          "New Zealand",
          "Pakistan",
          "Panama",
          "Peru",
          "Philippines",
          "Poland",
          "Portugal",
          "Paraguay",
          "Romania",
          "Rwanda",
          "Saudi Arabia",
          "Senegal",
          "Singapore",
          "Sierra Leone",
          "El Salvador",
          "Serbia",
          "South Sudan",
          "Slovakia",
          "Slovenia",
          "Sweden",
          "Chad",
          "Togo",
          "Thailand",
          "Tajikistan",
          "Turkmenistan",
          "Trinidad and Tobago",
          "Tunisia",
          "Turkey",
          "Uganda",
          "Ukraine",
          "Uruguay",
          "Uzbekistan",
          "Yemen",
          "South Africa",
          "Zambia",
          "Zimbabwe",
          "Egypt",
          "China"
         ],
         "legendgroup": "",
         "marker": {
          "color": "#636efa",
          "symbol": "circle"
         },
         "mode": "markers",
         "name": "",
         "orientation": "v",
         "showlegend": false,
         "type": "scatter",
         "x": [
          0.002163739,
          0.000502499,
          0.0053842,
          0.026741034,
          0.005419346,
          0.002883772,
          0.004875665,
          0.002342432,
          0.051661858,
          0.004199578,
          0.06452762,
          0.043668807,
          0.00154532,
          0.003013197,
          0.004204352,
          0.000321274,
          0.015899724,
          0.032291519,
          0.407560319,
          0.17121064,
          0.00702363,
          0.006131304,
          0.024019906,
          0.24407306,
          0.031848471,
          0.001183901,
          0.02109365,
          0.003539115,
          0.004614943,
          0.004120078,
          0.052635665,
          0.004090408,
          0.041168267,
          0.018652727,
          0.020385401,
          0.116508934,
          0.000782991,
          0.006500853,
          0.197340737,
          0.003553172,
          0.003174671,
          0.157467854,
          0.107592871,
          0.183163471,
          0.002384857,
          0.014439536,
          0.005467102,
          0.001376084,
          0.128451108,
          0.001870226,
          0.010196381,
          0.015410431,
          0.002683637,
          0.000850623,
          0.00403136,
          0.005491826,
          0.012414017,
          0.088095271,
          0.00222151,
          0.000842329,
          0.0067177,
          0.305973662,
          0.014557418,
          0.034849137,
          0.000675286,
          0.006715114,
          0.127374574,
          0.006021968,
          0.001055111,
          0.451738626,
          0.010500185,
          0.005019126,
          0.033754018,
          0.007385679,
          0.035414208,
          0.001683667,
          0.020663671,
          0.084714686,
          0.004694468,
          0.037329977,
          0.001294604,
          0.001047892,
          0.39005817,
          0.003171153,
          0.037756732,
          0.2415567,
          0.022782755,
          0.352518799,
          0.02980367,
          0.170834924,
          0.068278136,
          0.003214369,
          0.003292387,
          0.025657325,
          0.002139059,
          0.00638473,
          0.096265519,
          0.045313,
          0.019214993,
          0.002616519,
          0.046495941,
          0.041785546,
          0.004689288,
          0.104096265,
          0.007718808,
          0.049555475,
          0.008936079,
          0.11763992,
          0.038926097,
          0.00401256,
          0.184243097,
          0.000515274,
          0.001186897,
          0.002482691,
          0.105230349,
          0.140861224,
          0.097873109,
          0.0040251,
          0.010039227,
          0.068789928,
          0.010316137,
          0.002498374,
          0.201332285,
          0.043163931,
          0.031035518,
          0.00851732,
          0.003649288,
          0.428854527,
          0.299726216,
          0.266964611,
          0.000338142,
          0.01381587
         ],
         "xaxis": "x",
         "y": [
          0.470366955,
          0.671070457,
          0.849181116,
          0.900567949,
          0.757479429,
          0.944854617,
          0.928045869,
          0.819308281,
          0.490325719,
          0.911632538,
          0.468671143,
          0.712943614,
          0.687292993,
          0.937840343,
          0.876342118,
          0.829204142,
          0.90674746,
          0.896723807,
          0.779121757,
          0.319459856,
          0.927176654,
          0.942846596,
          0.879713595,
          0.700386405,
          0.884440243,
          0.625662446,
          0.901545942,
          0.805996239,
          0.898874462,
          0.955990791,
          0.882085383,
          0.803385139,
          0.836418986,
          0.921125412,
          0.934729993,
          0.743307352,
          0.954329729,
          0.937103748,
          0.787886858,
          0.93668282,
          0.629033029,
          0.728601098,
          0.637573481,
          0.6931687,
          0.814380348,
          0.816621482,
          0.821870148,
          0.874623716,
          0.593247831,
          0.921934128,
          0.808379889,
          0.592200935,
          0.942081571,
          0.747694969,
          0.974669576,
          0.913571239,
          0.889878571,
          0.915701866,
          0.80216372,
          0.883545935,
          0.934744895,
          0.702652037,
          0.887228489,
          0.773080647,
          0.846475244,
          0.824338138,
          0.70928055,
          0.825942934,
          0.825374067,
          0.780495703,
          0.926107109,
          0.906912208,
          0.918288589,
          0.592628479,
          0.668195903,
          0.91316092,
          0.838665426,
          0.731468976,
          0.93037951,
          0.78440702,
          0.855314612,
          0.937142491,
          0.723874032,
          0.790819228,
          0.910357833,
          0.544007301,
          0.816509426,
          0.846880972,
          0.617435038,
          0.73721689,
          0.857497036,
          0.93913883,
          0.952486575,
          0.785512447,
          0.949118972,
          0.689062297,
          0.902094483,
          0.831075251,
          0.846730053,
          0.874257445,
          0.886590719,
          0.898727894,
          0.825161517,
          0.54083544,
          0.874067068,
          0.723616004,
          0.910268962,
          0.636142015,
          0.806092262,
          0.881475747,
          0.553707123,
          0.922493756,
          0.939575672,
          0.926311195,
          0.632388055,
          0.551312625,
          0.889973223,
          0.835297108,
          0.958966196,
          0.91529417,
          0.688718557,
          0.826313555,
          0.764994621,
          0.878879368,
          0.92281127,
          0.926595807,
          0.817980587,
          0.852532268,
          0.698824465,
          0.763092756,
          0.735447824,
          0.798760593
         ],
         "yaxis": "y"
        },
        {
         "hovertemplate": "<b>OLS trendline</b><br>Social support = -0.441911 * HIV + 0.835087<br>R<sup>2</sup>=0.113091<br><br>HIV=%{x}<br>Social support=%{y} <b>(trend)</b><extra></extra>",
         "legendgroup": "",
         "marker": {
          "color": "#636efa",
          "symbol": "circle"
         },
         "mode": "lines",
         "name": "",
         "showlegend": false,
         "type": "scatter",
         "x": [
          0.000321274,
          0.000338142,
          0.000502499,
          0.000515274,
          0.000675286,
          0.000782991,
          0.000842329,
          0.000850623,
          0.001047892,
          0.001055111,
          0.001183901,
          0.001186897,
          0.001294604,
          0.001376084,
          0.00154532,
          0.001683667,
          0.001870226,
          0.002139059,
          0.002163739,
          0.00222151,
          0.002342432,
          0.002384857,
          0.002482691,
          0.002498374,
          0.002616519,
          0.002683637,
          0.002883772,
          0.003013197,
          0.003171153,
          0.003174671,
          0.003214369,
          0.003292387,
          0.003539115,
          0.003553172,
          0.003649288,
          0.00401256,
          0.0040251,
          0.00403136,
          0.004090408,
          0.004120078,
          0.004199578,
          0.004204352,
          0.004614943,
          0.004689288,
          0.004694468,
          0.004875665,
          0.005019126,
          0.0053842,
          0.005419346,
          0.005467102,
          0.005491826,
          0.006021968,
          0.006131304,
          0.00638473,
          0.006500853,
          0.006715114,
          0.0067177,
          0.00702363,
          0.007385679,
          0.007718808,
          0.00851732,
          0.008936079,
          0.010039227,
          0.010196381,
          0.010316137,
          0.010500185,
          0.012414017,
          0.01381587,
          0.014439536,
          0.014557418,
          0.015410431,
          0.015899724,
          0.018652727,
          0.019214993,
          0.020385401,
          0.020663671,
          0.02109365,
          0.022782755,
          0.024019906,
          0.025657325,
          0.026741034,
          0.02980367,
          0.031035518,
          0.031848471,
          0.032291519,
          0.033754018,
          0.034849137,
          0.035414208,
          0.037329977,
          0.037756732,
          0.038926097,
          0.041168267,
          0.041785546,
          0.043163931,
          0.043668807,
          0.045313,
          0.046495941,
          0.049555475,
          0.051661858,
          0.052635665,
          0.06452762,
          0.068278136,
          0.068789928,
          0.084714686,
          0.088095271,
          0.096265519,
          0.097873109,
          0.104096265,
          0.105230349,
          0.107592871,
          0.116508934,
          0.11763992,
          0.127374574,
          0.128451108,
          0.140861224,
          0.157467854,
          0.170834924,
          0.17121064,
          0.183163471,
          0.184243097,
          0.197340737,
          0.201332285,
          0.2415567,
          0.24407306,
          0.266964611,
          0.299726216,
          0.305973662,
          0.352518799,
          0.39005817,
          0.407560319,
          0.428854527,
          0.451738626
         ],
         "xaxis": "x",
         "y": [
          0.8349446534067416,
          0.8349371992585337,
          0.834864568156031,
          0.8348589227479591,
          0.834788211747067,
          0.8347406157645713,
          0.8347143936726598,
          0.8347107284660416,
          0.8346235532014675,
          0.8346203630487575,
          0.8345634493810019,
          0.8345621254168075,
          0.8345145285504906,
          0.834478521673802,
          0.8344037344894221,
          0.8343425974819448,
          0.8342601550800284,
          0.8341413549243972,
          0.8341304485704861,
          0.834104918952504,
          0.8340514822374459,
          0.8340327341797199,
          0.833989500296878,
          0.8339825698127455,
          0.8339303602834577,
          0.8339007001269827,
          0.8338122583465939,
          0.8337550640655995,
          0.8336852616329261,
          0.833683706991392,
          0.8336661640239058,
          0.8336316870417568,
          0.8335226553202101,
          0.8335164433827333,
          0.8334739687023234,
          0.8333134349503789,
          0.833307893391301,
          0.8333051270308681,
          0.8332790330930341,
          0.8332659216051678,
          0.8332307897114914,
          0.8332286800302284,
          0.8330472355100216,
          0.8330143816655515,
          0.8330120925685799,
          0.8329320196913665,
          0.8328686227530181,
          0.8327072926781505,
          0.8326917612877712,
          0.8326706574045711,
          0.8326597316065931,
          0.8324254562307775,
          0.8323771394920731,
          0.8322651478532453,
          0.8322138318672155,
          0.8321191476575177,
          0.8321180048766743,
          0.8319828111630593,
          0.8318228178677938,
          0.8316756046274353,
          0.831322733700602,
          0.831137679654514,
          0.8306501868463979,
          0.8305807388260356,
          0.8305278173787513,
          0.8304464846143823,
          0.8296007419434601,
          0.8289812482259028,
          0.8287056436019842,
          0.8286535502951874,
          0.828276594798074,
          0.8280603710288594,
          0.8268437897875193,
          0.8265953184751947,
          0.8260781027592966,
          0.8259551322932174,
          0.8257651200100595,
          0.8250186865853034,
          0.8244719764294098,
          0.8237483835965601,
          0.8232694810888361,
          0.8219160697388836,
          0.821371703034967,
          0.8210124504769817,
          0.820816662864032,
          0.8201703690354823,
          0.8196864243276722,
          0.8194367134560803,
          0.8185901148043021,
          0.8184015272409584,
          0.8178847724378289,
          0.8168939337202917,
          0.8166211515794538,
          0.8160120286201455,
          0.8157889185578597,
          0.8150623322225223,
          0.8145395780409206,
          0.8131875374976874,
          0.8122567044964599,
          0.8118263688488468,
          0.8065711877335839,
          0.8049137949116559,
          0.8046876285955756,
          0.7976503090373759,
          0.7961563926501594,
          0.7925458733539954,
          0.7918354622727992,
          0.7890853835945217,
          0.7885842198397042,
          0.7875401962961579,
          0.7836000934366958,
          0.7831002987209551,
          0.7787984518114757,
          0.7783227200123948,
          0.772838558052362,
          0.7654999120211453,
          0.7595928619330481,
          0.7594268290454446,
          0.7541447461797485,
          0.7536676479930544,
          0.747879661881224,
          0.7461157544605967,
          0.7283401585993193,
          0.727228152411001,
          0.7171121330925393,
          0.7026344321676954,
          0.6998736194806456,
          0.679304829490293,
          0.6627157830670558,
          0.6549813976862402,
          0.6455712611909306,
          0.6354585349903517
         ],
         "yaxis": "y"
        }
       ],
       "layout": {
        "height": 300,
        "legend": {
         "tracegroupgap": 0
        },
        "margin": {
         "t": 60
        },
        "template": {
         "data": {
          "bar": [
           {
            "error_x": {
             "color": "#2a3f5f"
            },
            "error_y": {
             "color": "#2a3f5f"
            },
            "marker": {
             "line": {
              "color": "#E5ECF6",
              "width": 0.5
             },
             "pattern": {
              "fillmode": "overlay",
              "size": 10,
              "solidity": 0.2
             }
            },
            "type": "bar"
           }
          ],
          "barpolar": [
           {
            "marker": {
             "line": {
              "color": "#E5ECF6",
              "width": 0.5
             },
             "pattern": {
              "fillmode": "overlay",
              "size": 10,
              "solidity": 0.2
             }
            },
            "type": "barpolar"
           }
          ],
          "carpet": [
           {
            "aaxis": {
             "endlinecolor": "#2a3f5f",
             "gridcolor": "white",
             "linecolor": "white",
             "minorgridcolor": "white",
             "startlinecolor": "#2a3f5f"
            },
            "baxis": {
             "endlinecolor": "#2a3f5f",
             "gridcolor": "white",
             "linecolor": "white",
             "minorgridcolor": "white",
             "startlinecolor": "#2a3f5f"
            },
            "type": "carpet"
           }
          ],
          "choropleth": [
           {
            "colorbar": {
             "outlinewidth": 0,
             "ticks": ""
            },
            "type": "choropleth"
           }
          ],
          "contour": [
           {
            "colorbar": {
             "outlinewidth": 0,
             "ticks": ""
            },
            "colorscale": [
             [
              0,
              "#0d0887"
             ],
             [
              0.1111111111111111,
              "#46039f"
             ],
             [
              0.2222222222222222,
              "#7201a8"
             ],
             [
              0.3333333333333333,
              "#9c179e"
             ],
             [
              0.4444444444444444,
              "#bd3786"
             ],
             [
              0.5555555555555556,
              "#d8576b"
             ],
             [
              0.6666666666666666,
              "#ed7953"
             ],
             [
              0.7777777777777778,
              "#fb9f3a"
             ],
             [
              0.8888888888888888,
              "#fdca26"
             ],
             [
              1,
              "#f0f921"
             ]
            ],
            "type": "contour"
           }
          ],
          "contourcarpet": [
           {
            "colorbar": {
             "outlinewidth": 0,
             "ticks": ""
            },
            "type": "contourcarpet"
           }
          ],
          "heatmap": [
           {
            "colorbar": {
             "outlinewidth": 0,
             "ticks": ""
            },
            "colorscale": [
             [
              0,
              "#0d0887"
             ],
             [
              0.1111111111111111,
              "#46039f"
             ],
             [
              0.2222222222222222,
              "#7201a8"
             ],
             [
              0.3333333333333333,
              "#9c179e"
             ],
             [
              0.4444444444444444,
              "#bd3786"
             ],
             [
              0.5555555555555556,
              "#d8576b"
             ],
             [
              0.6666666666666666,
              "#ed7953"
             ],
             [
              0.7777777777777778,
              "#fb9f3a"
             ],
             [
              0.8888888888888888,
              "#fdca26"
             ],
             [
              1,
              "#f0f921"
             ]
            ],
            "type": "heatmap"
           }
          ],
          "heatmapgl": [
           {
            "colorbar": {
             "outlinewidth": 0,
             "ticks": ""
            },
            "colorscale": [
             [
              0,
              "#0d0887"
             ],
             [
              0.1111111111111111,
              "#46039f"
             ],
             [
              0.2222222222222222,
              "#7201a8"
             ],
             [
              0.3333333333333333,
              "#9c179e"
             ],
             [
              0.4444444444444444,
              "#bd3786"
             ],
             [
              0.5555555555555556,
              "#d8576b"
             ],
             [
              0.6666666666666666,
              "#ed7953"
             ],
             [
              0.7777777777777778,
              "#fb9f3a"
             ],
             [
              0.8888888888888888,
              "#fdca26"
             ],
             [
              1,
              "#f0f921"
             ]
            ],
            "type": "heatmapgl"
           }
          ],
          "histogram": [
           {
            "marker": {
             "pattern": {
              "fillmode": "overlay",
              "size": 10,
              "solidity": 0.2
             }
            },
            "type": "histogram"
           }
          ],
          "histogram2d": [
           {
            "colorbar": {
             "outlinewidth": 0,
             "ticks": ""
            },
            "colorscale": [
             [
              0,
              "#0d0887"
             ],
             [
              0.1111111111111111,
              "#46039f"
             ],
             [
              0.2222222222222222,
              "#7201a8"
             ],
             [
              0.3333333333333333,
              "#9c179e"
             ],
             [
              0.4444444444444444,
              "#bd3786"
             ],
             [
              0.5555555555555556,
              "#d8576b"
             ],
             [
              0.6666666666666666,
              "#ed7953"
             ],
             [
              0.7777777777777778,
              "#fb9f3a"
             ],
             [
              0.8888888888888888,
              "#fdca26"
             ],
             [
              1,
              "#f0f921"
             ]
            ],
            "type": "histogram2d"
           }
          ],
          "histogram2dcontour": [
           {
            "colorbar": {
             "outlinewidth": 0,
             "ticks": ""
            },
            "colorscale": [
             [
              0,
              "#0d0887"
             ],
             [
              0.1111111111111111,
              "#46039f"
             ],
             [
              0.2222222222222222,
              "#7201a8"
             ],
             [
              0.3333333333333333,
              "#9c179e"
             ],
             [
              0.4444444444444444,
              "#bd3786"
             ],
             [
              0.5555555555555556,
              "#d8576b"
             ],
             [
              0.6666666666666666,
              "#ed7953"
             ],
             [
              0.7777777777777778,
              "#fb9f3a"
             ],
             [
              0.8888888888888888,
              "#fdca26"
             ],
             [
              1,
              "#f0f921"
             ]
            ],
            "type": "histogram2dcontour"
           }
          ],
          "mesh3d": [
           {
            "colorbar": {
             "outlinewidth": 0,
             "ticks": ""
            },
            "type": "mesh3d"
           }
          ],
          "parcoords": [
           {
            "line": {
             "colorbar": {
              "outlinewidth": 0,
              "ticks": ""
             }
            },
            "type": "parcoords"
           }
          ],
          "pie": [
           {
            "automargin": true,
            "type": "pie"
           }
          ],
          "scatter": [
           {
            "fillpattern": {
             "fillmode": "overlay",
             "size": 10,
             "solidity": 0.2
            },
            "type": "scatter"
           }
          ],
          "scatter3d": [
           {
            "line": {
             "colorbar": {
              "outlinewidth": 0,
              "ticks": ""
             }
            },
            "marker": {
             "colorbar": {
              "outlinewidth": 0,
              "ticks": ""
             }
            },
            "type": "scatter3d"
           }
          ],
          "scattercarpet": [
           {
            "marker": {
             "colorbar": {
              "outlinewidth": 0,
              "ticks": ""
             }
            },
            "type": "scattercarpet"
           }
          ],
          "scattergeo": [
           {
            "marker": {
             "colorbar": {
              "outlinewidth": 0,
              "ticks": ""
             }
            },
            "type": "scattergeo"
           }
          ],
          "scattergl": [
           {
            "marker": {
             "colorbar": {
              "outlinewidth": 0,
              "ticks": ""
             }
            },
            "type": "scattergl"
           }
          ],
          "scattermapbox": [
           {
            "marker": {
             "colorbar": {
              "outlinewidth": 0,
              "ticks": ""
             }
            },
            "type": "scattermapbox"
           }
          ],
          "scatterpolar": [
           {
            "marker": {
             "colorbar": {
              "outlinewidth": 0,
              "ticks": ""
             }
            },
            "type": "scatterpolar"
           }
          ],
          "scatterpolargl": [
           {
            "marker": {
             "colorbar": {
              "outlinewidth": 0,
              "ticks": ""
             }
            },
            "type": "scatterpolargl"
           }
          ],
          "scatterternary": [
           {
            "marker": {
             "colorbar": {
              "outlinewidth": 0,
              "ticks": ""
             }
            },
            "type": "scatterternary"
           }
          ],
          "surface": [
           {
            "colorbar": {
             "outlinewidth": 0,
             "ticks": ""
            },
            "colorscale": [
             [
              0,
              "#0d0887"
             ],
             [
              0.1111111111111111,
              "#46039f"
             ],
             [
              0.2222222222222222,
              "#7201a8"
             ],
             [
              0.3333333333333333,
              "#9c179e"
             ],
             [
              0.4444444444444444,
              "#bd3786"
             ],
             [
              0.5555555555555556,
              "#d8576b"
             ],
             [
              0.6666666666666666,
              "#ed7953"
             ],
             [
              0.7777777777777778,
              "#fb9f3a"
             ],
             [
              0.8888888888888888,
              "#fdca26"
             ],
             [
              1,
              "#f0f921"
             ]
            ],
            "type": "surface"
           }
          ],
          "table": [
           {
            "cells": {
             "fill": {
              "color": "#EBF0F8"
             },
             "line": {
              "color": "white"
             }
            },
            "header": {
             "fill": {
              "color": "#C8D4E3"
             },
             "line": {
              "color": "white"
             }
            },
            "type": "table"
           }
          ]
         },
         "layout": {
          "annotationdefaults": {
           "arrowcolor": "#2a3f5f",
           "arrowhead": 0,
           "arrowwidth": 1
          },
          "autotypenumbers": "strict",
          "coloraxis": {
           "colorbar": {
            "outlinewidth": 0,
            "ticks": ""
           }
          },
          "colorscale": {
           "diverging": [
            [
             0,
             "#8e0152"
            ],
            [
             0.1,
             "#c51b7d"
            ],
            [
             0.2,
             "#de77ae"
            ],
            [
             0.3,
             "#f1b6da"
            ],
            [
             0.4,
             "#fde0ef"
            ],
            [
             0.5,
             "#f7f7f7"
            ],
            [
             0.6,
             "#e6f5d0"
            ],
            [
             0.7,
             "#b8e186"
            ],
            [
             0.8,
             "#7fbc41"
            ],
            [
             0.9,
             "#4d9221"
            ],
            [
             1,
             "#276419"
            ]
           ],
           "sequential": [
            [
             0,
             "#0d0887"
            ],
            [
             0.1111111111111111,
             "#46039f"
            ],
            [
             0.2222222222222222,
             "#7201a8"
            ],
            [
             0.3333333333333333,
             "#9c179e"
            ],
            [
             0.4444444444444444,
             "#bd3786"
            ],
            [
             0.5555555555555556,
             "#d8576b"
            ],
            [
             0.6666666666666666,
             "#ed7953"
            ],
            [
             0.7777777777777778,
             "#fb9f3a"
            ],
            [
             0.8888888888888888,
             "#fdca26"
            ],
            [
             1,
             "#f0f921"
            ]
           ],
           "sequentialminus": [
            [
             0,
             "#0d0887"
            ],
            [
             0.1111111111111111,
             "#46039f"
            ],
            [
             0.2222222222222222,
             "#7201a8"
            ],
            [
             0.3333333333333333,
             "#9c179e"
            ],
            [
             0.4444444444444444,
             "#bd3786"
            ],
            [
             0.5555555555555556,
             "#d8576b"
            ],
            [
             0.6666666666666666,
             "#ed7953"
            ],
            [
             0.7777777777777778,
             "#fb9f3a"
            ],
            [
             0.8888888888888888,
             "#fdca26"
            ],
            [
             1,
             "#f0f921"
            ]
           ]
          },
          "colorway": [
           "#636efa",
           "#EF553B",
           "#00cc96",
           "#ab63fa",
           "#FFA15A",
           "#19d3f3",
           "#FF6692",
           "#B6E880",
           "#FF97FF",
           "#FECB52"
          ],
          "font": {
           "color": "#2a3f5f"
          },
          "geo": {
           "bgcolor": "white",
           "lakecolor": "white",
           "landcolor": "#E5ECF6",
           "showlakes": true,
           "showland": true,
           "subunitcolor": "white"
          },
          "hoverlabel": {
           "align": "left"
          },
          "hovermode": "closest",
          "mapbox": {
           "style": "light"
          },
          "paper_bgcolor": "white",
          "plot_bgcolor": "#E5ECF6",
          "polar": {
           "angularaxis": {
            "gridcolor": "white",
            "linecolor": "white",
            "ticks": ""
           },
           "bgcolor": "#E5ECF6",
           "radialaxis": {
            "gridcolor": "white",
            "linecolor": "white",
            "ticks": ""
           }
          },
          "scene": {
           "xaxis": {
            "backgroundcolor": "#E5ECF6",
            "gridcolor": "white",
            "gridwidth": 2,
            "linecolor": "white",
            "showbackground": true,
            "ticks": "",
            "zerolinecolor": "white"
           },
           "yaxis": {
            "backgroundcolor": "#E5ECF6",
            "gridcolor": "white",
            "gridwidth": 2,
            "linecolor": "white",
            "showbackground": true,
            "ticks": "",
            "zerolinecolor": "white"
           },
           "zaxis": {
            "backgroundcolor": "#E5ECF6",
            "gridcolor": "white",
            "gridwidth": 2,
            "linecolor": "white",
            "showbackground": true,
            "ticks": "",
            "zerolinecolor": "white"
           }
          },
          "shapedefaults": {
           "line": {
            "color": "#2a3f5f"
           }
          },
          "ternary": {
           "aaxis": {
            "gridcolor": "white",
            "linecolor": "white",
            "ticks": ""
           },
           "baxis": {
            "gridcolor": "white",
            "linecolor": "white",
            "ticks": ""
           },
           "bgcolor": "#E5ECF6",
           "caxis": {
            "gridcolor": "white",
            "linecolor": "white",
            "ticks": ""
           }
          },
          "title": {
           "x": 0.05
          },
          "xaxis": {
           "automargin": true,
           "gridcolor": "white",
           "linecolor": "white",
           "ticks": "",
           "title": {
            "standoff": 15
           },
           "zerolinecolor": "white",
           "zerolinewidth": 2
          },
          "yaxis": {
           "automargin": true,
           "gridcolor": "white",
           "linecolor": "white",
           "ticks": "",
           "title": {
            "standoff": 15
           },
           "zerolinecolor": "white",
           "zerolinewidth": 2
          }
         }
        },
        "title": {
         "text": "Scatterplot HIV death rates and Social support",
         "x": 0.5,
         "y": 0.95
        },
        "width": 600,
        "xaxis": {
         "anchor": "y",
         "domain": [
          0,
          1
         ],
         "title": {
          "text": "Road Injuries"
         }
        },
        "yaxis": {
         "anchor": "x",
         "domain": [
          0,
          1
         ],
         "title": {
          "text": "Social support"
         }
        }
       }
      }
     },
     "metadata": {},
     "output_type": "display_data"
    },
    {
     "data": {
      "application/vnd.plotly.v1+json": {
       "config": {
        "plotlyServerURL": "https://plot.ly"
       },
       "data": [
        {
         "hovertemplate": "<b>%{hovertext}</b><br><br>HIV=%{x}<br>Logged GDP per capita=%{y}<extra></extra>",
         "hovertext": [
          "Afghanistan",
          "Albania",
          "United Arab Emirates",
          "Argentina",
          "Armenia",
          "Australia",
          "Austria",
          "Azerbaijan",
          "Burundi",
          "Belgium",
          "Benin",
          "Burkina Faso",
          "Bangladesh",
          "Bulgaria",
          "Bahrain",
          "Bosnia and Herzegovina",
          "Belarus",
          "Brazil",
          "Botswana",
          "Central African Republic",
          "Canada",
          "Switzerland",
          "Chile",
          "Cameroon",
          "Colombia",
          "Comoros",
          "Costa Rica",
          "Cyprus",
          "Germany",
          "Denmark",
          "Dominican Republic",
          "Algeria",
          "Ecuador",
          "Spain",
          "Estonia",
          "Ethiopia",
          "Finland",
          "France",
          "Gabon",
          "United Kingdom",
          "Georgia",
          "Ghana",
          "Guinea",
          "Gambia",
          "Greece",
          "Guatemala",
          "Honduras",
          "Croatia",
          "Haiti",
          "Hungary",
          "Indonesia",
          "India",
          "Ireland",
          "Iraq",
          "Iceland",
          "Israel",
          "Italy",
          "Jamaica",
          "Jordan",
          "Japan",
          "Kazakhstan",
          "Kenya",
          "Kyrgyzstan",
          "Cambodia",
          "Kuwait",
          "Lebanon",
          "Liberia",
          "Libya",
          "Sri Lanka",
          "Lesotho",
          "Lithuania",
          "Luxembourg",
          "Latvia",
          "Morocco",
          "Madagascar",
          "Maldives",
          "Mexico",
          "Mali",
          "Malta",
          "Myanmar",
          "Montenegro",
          "Mongolia",
          "Mozambique",
          "Mauritania",
          "Mauritius",
          "Malawi",
          "Malaysia",
          "Namibia",
          "Niger",
          "Nigeria",
          "Nicaragua",
          "Netherlands",
          "Norway",
          "Nepal",
          "New Zealand",
          "Pakistan",
          "Panama",
          "Peru",
          "Philippines",
          "Poland",
          "Portugal",
          "Paraguay",
          "Romania",
          "Rwanda",
          "Saudi Arabia",
          "Senegal",
          "Singapore",
          "Sierra Leone",
          "El Salvador",
          "Serbia",
          "South Sudan",
          "Slovakia",
          "Slovenia",
          "Sweden",
          "Chad",
          "Togo",
          "Thailand",
          "Tajikistan",
          "Turkmenistan",
          "Trinidad and Tobago",
          "Tunisia",
          "Turkey",
          "Uganda",
          "Ukraine",
          "Uruguay",
          "Uzbekistan",
          "Yemen",
          "South Africa",
          "Zambia",
          "Zimbabwe",
          "Egypt",
          "China"
         ],
         "legendgroup": "",
         "marker": {
          "color": "#636efa",
          "symbol": "circle"
         },
         "mode": "markers",
         "name": "",
         "orientation": "v",
         "showlegend": false,
         "type": "scatter",
         "x": [
          0.002163739,
          0.000502499,
          0.0053842,
          0.026741034,
          0.005419346,
          0.002883772,
          0.004875665,
          0.002342432,
          0.051661858,
          0.004199578,
          0.06452762,
          0.043668807,
          0.00154532,
          0.003013197,
          0.004204352,
          0.000321274,
          0.015899724,
          0.032291519,
          0.407560319,
          0.17121064,
          0.00702363,
          0.006131304,
          0.024019906,
          0.24407306,
          0.031848471,
          0.001183901,
          0.02109365,
          0.003539115,
          0.004614943,
          0.004120078,
          0.052635665,
          0.004090408,
          0.041168267,
          0.018652727,
          0.020385401,
          0.116508934,
          0.000782991,
          0.006500853,
          0.197340737,
          0.003553172,
          0.003174671,
          0.157467854,
          0.107592871,
          0.183163471,
          0.002384857,
          0.014439536,
          0.005467102,
          0.001376084,
          0.128451108,
          0.001870226,
          0.010196381,
          0.015410431,
          0.002683637,
          0.000850623,
          0.00403136,
          0.005491826,
          0.012414017,
          0.088095271,
          0.00222151,
          0.000842329,
          0.0067177,
          0.305973662,
          0.014557418,
          0.034849137,
          0.000675286,
          0.006715114,
          0.127374574,
          0.006021968,
          0.001055111,
          0.451738626,
          0.010500185,
          0.005019126,
          0.033754018,
          0.007385679,
          0.035414208,
          0.001683667,
          0.020663671,
          0.084714686,
          0.004694468,
          0.037329977,
          0.001294604,
          0.001047892,
          0.39005817,
          0.003171153,
          0.037756732,
          0.2415567,
          0.022782755,
          0.352518799,
          0.02980367,
          0.170834924,
          0.068278136,
          0.003214369,
          0.003292387,
          0.025657325,
          0.002139059,
          0.00638473,
          0.096265519,
          0.045313,
          0.019214993,
          0.002616519,
          0.046495941,
          0.041785546,
          0.004689288,
          0.104096265,
          0.007718808,
          0.049555475,
          0.008936079,
          0.11763992,
          0.038926097,
          0.00401256,
          0.184243097,
          0.000515274,
          0.001186897,
          0.002482691,
          0.105230349,
          0.140861224,
          0.097873109,
          0.0040251,
          0.010039227,
          0.068789928,
          0.010316137,
          0.002498374,
          0.201332285,
          0.043163931,
          0.031035518,
          0.00851732,
          0.003649288,
          0.428854527,
          0.299726216,
          0.266964611,
          0.000338142,
          0.01381587
         ],
         "xaxis": "x",
         "y": [
          7.462860584,
          9.417930603,
          11.1099987,
          9.810955048,
          9.100476265,
          10.72059631,
          10.7428236,
          9.687726974,
          6.492642403,
          10.6736393,
          7.674319744,
          7.46854496,
          8.287063599,
          9.869318962,
          10.67638016,
          9.455817223,
          9.779945374,
          9.56643486,
          9.711203575,
          6.625160217,
          10.69236851,
          10.97993279,
          10.0320549,
          8.118647575,
          9.500369072,
          7.833630085,
          9.658156395,
          10.40570259,
          10.7328186,
          10.77400112,
          9.664880753,
          9.537964821,
          9.246058464,
          10.46292686,
          10.34001732,
          7.509385586,
          10.63926697,
          10.58422279,
          9.680537224,
          10.60013485,
          9.226100922,
          8.350645065,
          7.750990391,
          7.321814537,
          10.13232613,
          8.924805641,
          8.424534798,
          10.07087517,
          7.411329269,
          10.24924374,
          9.36975193,
          8.849823952,
          11.16097832,
          9.661095619,
          10.77255917,
          10.41752529,
          10.48183632,
          9.006250381,
          9.025999069,
          10.57968903,
          10.11465836,
          8.02977562,
          8.148405075,
          8.249890327,
          11.08982468,
          9.3617239,
          7.054380417,
          9.789815903,
          9.389969826,
          7.960488319,
          10.34362602,
          11.45068073,
          10.17531967,
          8.940313339,
          7.281685829,
          9.518632889,
          9.797797203,
          7.629852295,
          10.53383827,
          8.680481911,
          9.751860619,
          9.412186623,
          7.069345951,
          8.233919144,
          9.956786156,
          7.062226295,
          10.26251888,
          9.203141212,
          6.842166901,
          8.57662487,
          8.493160248,
          10.81271172,
          11.08780384,
          7.925357342,
          10.50094318,
          8.482727051,
          10.03423405,
          9.456313133,
          8.993545532,
          10.26512432,
          10.26374245,
          9.389982224,
          10.107584,
          7.600104332,
          10.79781246,
          8.118982315,
          11.39552116,
          7.26880312,
          8.909075737,
          9.680980682,
          7.425359726,
          10.34774971,
          10.39232254,
          10.75879383,
          7.467963696,
          7.357711315,
          9.741791725,
          8.024810791,
          9.74803257,
          10.26000214,
          9.314972878,
          10.12941933,
          7.500389576,
          9.010690689,
          9.948192596,
          8.740371704,
          7.759682655,
          9.403370857,
          8.224720001,
          7.865711689,
          9.316541672,
          9.688568115
         ],
         "yaxis": "y"
        },
        {
         "hovertemplate": "<b>OLS trendline</b><br>Logged GDP per capita = -5.72622 * HIV + 9.61554<br>R<sup>2</sup>=0.203500<br><br>HIV=%{x}<br>Logged GDP per capita=%{y} <b>(trend)</b><extra></extra>",
         "legendgroup": "",
         "marker": {
          "color": "#636efa",
          "symbol": "circle"
         },
         "mode": "lines",
         "name": "",
         "showlegend": false,
         "type": "scatter",
         "x": [
          0.000321274,
          0.000338142,
          0.000502499,
          0.000515274,
          0.000675286,
          0.000782991,
          0.000842329,
          0.000850623,
          0.001047892,
          0.001055111,
          0.001183901,
          0.001186897,
          0.001294604,
          0.001376084,
          0.00154532,
          0.001683667,
          0.001870226,
          0.002139059,
          0.002163739,
          0.00222151,
          0.002342432,
          0.002384857,
          0.002482691,
          0.002498374,
          0.002616519,
          0.002683637,
          0.002883772,
          0.003013197,
          0.003171153,
          0.003174671,
          0.003214369,
          0.003292387,
          0.003539115,
          0.003553172,
          0.003649288,
          0.00401256,
          0.0040251,
          0.00403136,
          0.004090408,
          0.004120078,
          0.004199578,
          0.004204352,
          0.004614943,
          0.004689288,
          0.004694468,
          0.004875665,
          0.005019126,
          0.0053842,
          0.005419346,
          0.005467102,
          0.005491826,
          0.006021968,
          0.006131304,
          0.00638473,
          0.006500853,
          0.006715114,
          0.0067177,
          0.00702363,
          0.007385679,
          0.007718808,
          0.00851732,
          0.008936079,
          0.010039227,
          0.010196381,
          0.010316137,
          0.010500185,
          0.012414017,
          0.01381587,
          0.014439536,
          0.014557418,
          0.015410431,
          0.015899724,
          0.018652727,
          0.019214993,
          0.020385401,
          0.020663671,
          0.02109365,
          0.022782755,
          0.024019906,
          0.025657325,
          0.026741034,
          0.02980367,
          0.031035518,
          0.031848471,
          0.032291519,
          0.033754018,
          0.034849137,
          0.035414208,
          0.037329977,
          0.037756732,
          0.038926097,
          0.041168267,
          0.041785546,
          0.043163931,
          0.043668807,
          0.045313,
          0.046495941,
          0.049555475,
          0.051661858,
          0.052635665,
          0.06452762,
          0.068278136,
          0.068789928,
          0.084714686,
          0.088095271,
          0.096265519,
          0.097873109,
          0.104096265,
          0.105230349,
          0.107592871,
          0.116508934,
          0.11763992,
          0.127374574,
          0.128451108,
          0.140861224,
          0.157467854,
          0.170834924,
          0.17121064,
          0.183163471,
          0.184243097,
          0.197340737,
          0.201332285,
          0.2415567,
          0.24407306,
          0.266964611,
          0.299726216,
          0.305973662,
          0.352518799,
          0.39005817,
          0.407560319,
          0.428854527,
          0.451738626
         ],
         "xaxis": "x",
         "y": [
          9.613703755778326,
          9.6136071658893,
          9.61266602145068,
          9.612592868982556,
          9.611676604972429,
          9.611059862383055,
          9.610720079905285,
          9.610672586631654,
          9.609542980820754,
          9.609501643234266,
          9.60876416328361,
          9.608747007526702,
          9.608130253484887,
          9.607663681030663,
          9.606694598361752,
          9.605902392920854,
          9.604834114932544,
          9.603294717870856,
          9.603153394746528,
          9.602822585256433,
          9.602130159209432,
          9.601887224300615,
          9.601327005234753,
          9.601237200917133,
          9.60056067658473,
          9.600176344110716,
          9.599030326951585,
          9.59828921085085,
          9.59738471995027,
          9.59736457510621,
          9.59713725560096,
          9.596690507322442,
          9.595277688367046,
          9.595197194884118,
          9.594646813465241,
          9.592566637856617,
          9.592494831050333,
          9.592458984909397,
          9.5921208630356,
          9.591950966070495,
          9.591495731533053,
          9.591468394555925,
          9.589117259914882,
          9.588691544044616,
          9.588661882221926,
          9.587624308228456,
          9.586802818895425,
          9.584712324637286,
          9.584511070888192,
          9.584237609497373,
          9.584096034419339,
          9.581060324379735,
          9.580434242324568,
          9.578983069143614,
          9.578318123229257,
          9.577091217477976,
          9.577076409471513,
          9.575324586804348,
          9.573251414363515,
          9.571343844222339,
          9.566771388361182,
          9.564373481950307,
          9.55805661315144,
          9.557156714679776,
          9.55647096540599,
          9.5554170659576,
          9.544458041740473,
          9.536430722218252,
          9.532859473123557,
          9.53218445478717,
          9.527299914177272,
          9.524498114522823,
          9.508733812041298,
          9.505514152891243,
          9.498812138495037,
          9.49721870308958,
          9.494756548483608,
          9.485084360642526,
          9.478000161105031,
          9.468623938701716,
          9.462418381905028,
          9.444881052561467,
          9.437827219171798,
          9.433172070959005,
          9.430635080376053,
          9.422260488479521,
          9.415989595505824,
          9.412753874306997,
          9.401783758400573,
          9.399340065129806,
          9.392644023181683,
          9.379804863146258,
          9.376270187422515,
          9.368377250845258,
          9.365486219495251,
          9.356071207673612,
          9.349297426554667,
          9.331777859947398,
          9.319716246228145,
          9.314140012527483,
          9.24604405487081,
          9.224567772903155,
          9.2216371390115,
          9.130448461753577,
          9.111090486297499,
          9.06430584391931,
          9.055100428950174,
          9.019465264886161,
          9.012971249726913,
          8.999442927590227,
          8.948387583997672,
          8.94191130866983,
          8.886168532432757,
          8.880004061268851,
          8.808940999421544,
          8.713847772672871,
          8.637304981120618,
          8.635153548422888,
          8.566709001361167,
          8.560526824723176,
          8.485526848786307,
          8.462670364415775,
          8.232336490750392,
          8.217927258289544,
          8.086845187461698,
          7.899245010127979,
          7.86347075616567,
          7.5969430339975315,
          7.3819843145881405,
          7.281763148496882,
          7.159827816055717,
          7.02878841702376
         ],
         "yaxis": "y"
        }
       ],
       "layout": {
        "height": 300,
        "legend": {
         "tracegroupgap": 0
        },
        "margin": {
         "t": 60
        },
        "template": {
         "data": {
          "bar": [
           {
            "error_x": {
             "color": "#2a3f5f"
            },
            "error_y": {
             "color": "#2a3f5f"
            },
            "marker": {
             "line": {
              "color": "#E5ECF6",
              "width": 0.5
             },
             "pattern": {
              "fillmode": "overlay",
              "size": 10,
              "solidity": 0.2
             }
            },
            "type": "bar"
           }
          ],
          "barpolar": [
           {
            "marker": {
             "line": {
              "color": "#E5ECF6",
              "width": 0.5
             },
             "pattern": {
              "fillmode": "overlay",
              "size": 10,
              "solidity": 0.2
             }
            },
            "type": "barpolar"
           }
          ],
          "carpet": [
           {
            "aaxis": {
             "endlinecolor": "#2a3f5f",
             "gridcolor": "white",
             "linecolor": "white",
             "minorgridcolor": "white",
             "startlinecolor": "#2a3f5f"
            },
            "baxis": {
             "endlinecolor": "#2a3f5f",
             "gridcolor": "white",
             "linecolor": "white",
             "minorgridcolor": "white",
             "startlinecolor": "#2a3f5f"
            },
            "type": "carpet"
           }
          ],
          "choropleth": [
           {
            "colorbar": {
             "outlinewidth": 0,
             "ticks": ""
            },
            "type": "choropleth"
           }
          ],
          "contour": [
           {
            "colorbar": {
             "outlinewidth": 0,
             "ticks": ""
            },
            "colorscale": [
             [
              0,
              "#0d0887"
             ],
             [
              0.1111111111111111,
              "#46039f"
             ],
             [
              0.2222222222222222,
              "#7201a8"
             ],
             [
              0.3333333333333333,
              "#9c179e"
             ],
             [
              0.4444444444444444,
              "#bd3786"
             ],
             [
              0.5555555555555556,
              "#d8576b"
             ],
             [
              0.6666666666666666,
              "#ed7953"
             ],
             [
              0.7777777777777778,
              "#fb9f3a"
             ],
             [
              0.8888888888888888,
              "#fdca26"
             ],
             [
              1,
              "#f0f921"
             ]
            ],
            "type": "contour"
           }
          ],
          "contourcarpet": [
           {
            "colorbar": {
             "outlinewidth": 0,
             "ticks": ""
            },
            "type": "contourcarpet"
           }
          ],
          "heatmap": [
           {
            "colorbar": {
             "outlinewidth": 0,
             "ticks": ""
            },
            "colorscale": [
             [
              0,
              "#0d0887"
             ],
             [
              0.1111111111111111,
              "#46039f"
             ],
             [
              0.2222222222222222,
              "#7201a8"
             ],
             [
              0.3333333333333333,
              "#9c179e"
             ],
             [
              0.4444444444444444,
              "#bd3786"
             ],
             [
              0.5555555555555556,
              "#d8576b"
             ],
             [
              0.6666666666666666,
              "#ed7953"
             ],
             [
              0.7777777777777778,
              "#fb9f3a"
             ],
             [
              0.8888888888888888,
              "#fdca26"
             ],
             [
              1,
              "#f0f921"
             ]
            ],
            "type": "heatmap"
           }
          ],
          "heatmapgl": [
           {
            "colorbar": {
             "outlinewidth": 0,
             "ticks": ""
            },
            "colorscale": [
             [
              0,
              "#0d0887"
             ],
             [
              0.1111111111111111,
              "#46039f"
             ],
             [
              0.2222222222222222,
              "#7201a8"
             ],
             [
              0.3333333333333333,
              "#9c179e"
             ],
             [
              0.4444444444444444,
              "#bd3786"
             ],
             [
              0.5555555555555556,
              "#d8576b"
             ],
             [
              0.6666666666666666,
              "#ed7953"
             ],
             [
              0.7777777777777778,
              "#fb9f3a"
             ],
             [
              0.8888888888888888,
              "#fdca26"
             ],
             [
              1,
              "#f0f921"
             ]
            ],
            "type": "heatmapgl"
           }
          ],
          "histogram": [
           {
            "marker": {
             "pattern": {
              "fillmode": "overlay",
              "size": 10,
              "solidity": 0.2
             }
            },
            "type": "histogram"
           }
          ],
          "histogram2d": [
           {
            "colorbar": {
             "outlinewidth": 0,
             "ticks": ""
            },
            "colorscale": [
             [
              0,
              "#0d0887"
             ],
             [
              0.1111111111111111,
              "#46039f"
             ],
             [
              0.2222222222222222,
              "#7201a8"
             ],
             [
              0.3333333333333333,
              "#9c179e"
             ],
             [
              0.4444444444444444,
              "#bd3786"
             ],
             [
              0.5555555555555556,
              "#d8576b"
             ],
             [
              0.6666666666666666,
              "#ed7953"
             ],
             [
              0.7777777777777778,
              "#fb9f3a"
             ],
             [
              0.8888888888888888,
              "#fdca26"
             ],
             [
              1,
              "#f0f921"
             ]
            ],
            "type": "histogram2d"
           }
          ],
          "histogram2dcontour": [
           {
            "colorbar": {
             "outlinewidth": 0,
             "ticks": ""
            },
            "colorscale": [
             [
              0,
              "#0d0887"
             ],
             [
              0.1111111111111111,
              "#46039f"
             ],
             [
              0.2222222222222222,
              "#7201a8"
             ],
             [
              0.3333333333333333,
              "#9c179e"
             ],
             [
              0.4444444444444444,
              "#bd3786"
             ],
             [
              0.5555555555555556,
              "#d8576b"
             ],
             [
              0.6666666666666666,
              "#ed7953"
             ],
             [
              0.7777777777777778,
              "#fb9f3a"
             ],
             [
              0.8888888888888888,
              "#fdca26"
             ],
             [
              1,
              "#f0f921"
             ]
            ],
            "type": "histogram2dcontour"
           }
          ],
          "mesh3d": [
           {
            "colorbar": {
             "outlinewidth": 0,
             "ticks": ""
            },
            "type": "mesh3d"
           }
          ],
          "parcoords": [
           {
            "line": {
             "colorbar": {
              "outlinewidth": 0,
              "ticks": ""
             }
            },
            "type": "parcoords"
           }
          ],
          "pie": [
           {
            "automargin": true,
            "type": "pie"
           }
          ],
          "scatter": [
           {
            "fillpattern": {
             "fillmode": "overlay",
             "size": 10,
             "solidity": 0.2
            },
            "type": "scatter"
           }
          ],
          "scatter3d": [
           {
            "line": {
             "colorbar": {
              "outlinewidth": 0,
              "ticks": ""
             }
            },
            "marker": {
             "colorbar": {
              "outlinewidth": 0,
              "ticks": ""
             }
            },
            "type": "scatter3d"
           }
          ],
          "scattercarpet": [
           {
            "marker": {
             "colorbar": {
              "outlinewidth": 0,
              "ticks": ""
             }
            },
            "type": "scattercarpet"
           }
          ],
          "scattergeo": [
           {
            "marker": {
             "colorbar": {
              "outlinewidth": 0,
              "ticks": ""
             }
            },
            "type": "scattergeo"
           }
          ],
          "scattergl": [
           {
            "marker": {
             "colorbar": {
              "outlinewidth": 0,
              "ticks": ""
             }
            },
            "type": "scattergl"
           }
          ],
          "scattermapbox": [
           {
            "marker": {
             "colorbar": {
              "outlinewidth": 0,
              "ticks": ""
             }
            },
            "type": "scattermapbox"
           }
          ],
          "scatterpolar": [
           {
            "marker": {
             "colorbar": {
              "outlinewidth": 0,
              "ticks": ""
             }
            },
            "type": "scatterpolar"
           }
          ],
          "scatterpolargl": [
           {
            "marker": {
             "colorbar": {
              "outlinewidth": 0,
              "ticks": ""
             }
            },
            "type": "scatterpolargl"
           }
          ],
          "scatterternary": [
           {
            "marker": {
             "colorbar": {
              "outlinewidth": 0,
              "ticks": ""
             }
            },
            "type": "scatterternary"
           }
          ],
          "surface": [
           {
            "colorbar": {
             "outlinewidth": 0,
             "ticks": ""
            },
            "colorscale": [
             [
              0,
              "#0d0887"
             ],
             [
              0.1111111111111111,
              "#46039f"
             ],
             [
              0.2222222222222222,
              "#7201a8"
             ],
             [
              0.3333333333333333,
              "#9c179e"
             ],
             [
              0.4444444444444444,
              "#bd3786"
             ],
             [
              0.5555555555555556,
              "#d8576b"
             ],
             [
              0.6666666666666666,
              "#ed7953"
             ],
             [
              0.7777777777777778,
              "#fb9f3a"
             ],
             [
              0.8888888888888888,
              "#fdca26"
             ],
             [
              1,
              "#f0f921"
             ]
            ],
            "type": "surface"
           }
          ],
          "table": [
           {
            "cells": {
             "fill": {
              "color": "#EBF0F8"
             },
             "line": {
              "color": "white"
             }
            },
            "header": {
             "fill": {
              "color": "#C8D4E3"
             },
             "line": {
              "color": "white"
             }
            },
            "type": "table"
           }
          ]
         },
         "layout": {
          "annotationdefaults": {
           "arrowcolor": "#2a3f5f",
           "arrowhead": 0,
           "arrowwidth": 1
          },
          "autotypenumbers": "strict",
          "coloraxis": {
           "colorbar": {
            "outlinewidth": 0,
            "ticks": ""
           }
          },
          "colorscale": {
           "diverging": [
            [
             0,
             "#8e0152"
            ],
            [
             0.1,
             "#c51b7d"
            ],
            [
             0.2,
             "#de77ae"
            ],
            [
             0.3,
             "#f1b6da"
            ],
            [
             0.4,
             "#fde0ef"
            ],
            [
             0.5,
             "#f7f7f7"
            ],
            [
             0.6,
             "#e6f5d0"
            ],
            [
             0.7,
             "#b8e186"
            ],
            [
             0.8,
             "#7fbc41"
            ],
            [
             0.9,
             "#4d9221"
            ],
            [
             1,
             "#276419"
            ]
           ],
           "sequential": [
            [
             0,
             "#0d0887"
            ],
            [
             0.1111111111111111,
             "#46039f"
            ],
            [
             0.2222222222222222,
             "#7201a8"
            ],
            [
             0.3333333333333333,
             "#9c179e"
            ],
            [
             0.4444444444444444,
             "#bd3786"
            ],
            [
             0.5555555555555556,
             "#d8576b"
            ],
            [
             0.6666666666666666,
             "#ed7953"
            ],
            [
             0.7777777777777778,
             "#fb9f3a"
            ],
            [
             0.8888888888888888,
             "#fdca26"
            ],
            [
             1,
             "#f0f921"
            ]
           ],
           "sequentialminus": [
            [
             0,
             "#0d0887"
            ],
            [
             0.1111111111111111,
             "#46039f"
            ],
            [
             0.2222222222222222,
             "#7201a8"
            ],
            [
             0.3333333333333333,
             "#9c179e"
            ],
            [
             0.4444444444444444,
             "#bd3786"
            ],
            [
             0.5555555555555556,
             "#d8576b"
            ],
            [
             0.6666666666666666,
             "#ed7953"
            ],
            [
             0.7777777777777778,
             "#fb9f3a"
            ],
            [
             0.8888888888888888,
             "#fdca26"
            ],
            [
             1,
             "#f0f921"
            ]
           ]
          },
          "colorway": [
           "#636efa",
           "#EF553B",
           "#00cc96",
           "#ab63fa",
           "#FFA15A",
           "#19d3f3",
           "#FF6692",
           "#B6E880",
           "#FF97FF",
           "#FECB52"
          ],
          "font": {
           "color": "#2a3f5f"
          },
          "geo": {
           "bgcolor": "white",
           "lakecolor": "white",
           "landcolor": "#E5ECF6",
           "showlakes": true,
           "showland": true,
           "subunitcolor": "white"
          },
          "hoverlabel": {
           "align": "left"
          },
          "hovermode": "closest",
          "mapbox": {
           "style": "light"
          },
          "paper_bgcolor": "white",
          "plot_bgcolor": "#E5ECF6",
          "polar": {
           "angularaxis": {
            "gridcolor": "white",
            "linecolor": "white",
            "ticks": ""
           },
           "bgcolor": "#E5ECF6",
           "radialaxis": {
            "gridcolor": "white",
            "linecolor": "white",
            "ticks": ""
           }
          },
          "scene": {
           "xaxis": {
            "backgroundcolor": "#E5ECF6",
            "gridcolor": "white",
            "gridwidth": 2,
            "linecolor": "white",
            "showbackground": true,
            "ticks": "",
            "zerolinecolor": "white"
           },
           "yaxis": {
            "backgroundcolor": "#E5ECF6",
            "gridcolor": "white",
            "gridwidth": 2,
            "linecolor": "white",
            "showbackground": true,
            "ticks": "",
            "zerolinecolor": "white"
           },
           "zaxis": {
            "backgroundcolor": "#E5ECF6",
            "gridcolor": "white",
            "gridwidth": 2,
            "linecolor": "white",
            "showbackground": true,
            "ticks": "",
            "zerolinecolor": "white"
           }
          },
          "shapedefaults": {
           "line": {
            "color": "#2a3f5f"
           }
          },
          "ternary": {
           "aaxis": {
            "gridcolor": "white",
            "linecolor": "white",
            "ticks": ""
           },
           "baxis": {
            "gridcolor": "white",
            "linecolor": "white",
            "ticks": ""
           },
           "bgcolor": "#E5ECF6",
           "caxis": {
            "gridcolor": "white",
            "linecolor": "white",
            "ticks": ""
           }
          },
          "title": {
           "x": 0.05
          },
          "xaxis": {
           "automargin": true,
           "gridcolor": "white",
           "linecolor": "white",
           "ticks": "",
           "title": {
            "standoff": 15
           },
           "zerolinecolor": "white",
           "zerolinewidth": 2
          },
          "yaxis": {
           "automargin": true,
           "gridcolor": "white",
           "linecolor": "white",
           "ticks": "",
           "title": {
            "standoff": 15
           },
           "zerolinecolor": "white",
           "zerolinewidth": 2
          }
         }
        },
        "title": {
         "text": "Scatterplot HIV death rates and Logged GDP per capita",
         "x": 0.5,
         "y": 0.95
        },
        "width": 600,
        "xaxis": {
         "anchor": "y",
         "domain": [
          0,
          1
         ],
         "title": {
          "text": "Road Injuries"
         }
        },
        "yaxis": {
         "anchor": "x",
         "domain": [
          0,
          1
         ],
         "title": {
          "text": "Logged GDP per capita"
         }
        }
       }
      }
     },
     "metadata": {},
     "output_type": "display_data"
    }
   ],
   "source": [
    "variables = [\"Freedom to make life choices\", \"Healthy life expectancy\", \"Social support\", \"Logged GDP per capita\"]\n",
    "\n",
    "# Store the figure objects\n",
    "figs = []\n",
    "\n",
    "# Iterate over each variable and create the scatter plot\n",
    "for variable in variables:\n",
    "    figAnalysis2 = px.scatter(GBDWHR_df, x=\"HIV\", y=variable, hover_name=\"Location\", trendline=\"ols\",)\n",
    "    figAnalysis2.update_layout(\n",
    "        title=f\"Scatterplot HIV death rates and {variable}\",\n",
    "        xaxis_title=\"Road Injuries\",\n",
    "        yaxis_title=variable,\n",
    "        title_x=0.5,  # Center the title horizontally\n",
    "        title_y=.95,\n",
    "        width=600,   # Set the width of the plot\n",
    "        height=300   # Set the height of the plot\n",
    "    )\n",
    "    figs.append(figAnalysis2)\n",
    "\n",
    "# Show the plots\n",
    "for figAnalysis2 in figs:\n",
    "    figAnalysis2.show()"
   ]
  },
  {
   "cell_type": "code",
   "execution_count": 237,
   "id": "8e90a1bd",
   "metadata": {},
   "outputs": [
    {
     "data": {
      "application/vnd.plotly.v1+json": {
       "config": {
        "plotlyServerURL": "https://plot.ly"
       },
       "data": [
        {
         "hovertemplate": "<b>%{hovertext}</b><br><br>Ischemic Heart Disease=%{x}<br>Freedom to make life choices=%{y}<extra></extra>",
         "hovertext": [
          "Afghanistan",
          "Albania",
          "United Arab Emirates",
          "Argentina",
          "Armenia",
          "Australia",
          "Austria",
          "Azerbaijan",
          "Burundi",
          "Belgium",
          "Benin",
          "Burkina Faso",
          "Bangladesh",
          "Bulgaria",
          "Bahrain",
          "Bosnia and Herzegovina",
          "Belarus",
          "Brazil",
          "Botswana",
          "Central African Republic",
          "Canada",
          "Switzerland",
          "Chile",
          "Cameroon",
          "Colombia",
          "Comoros",
          "Costa Rica",
          "Cyprus",
          "Germany",
          "Denmark",
          "Dominican Republic",
          "Algeria",
          "Ecuador",
          "Spain",
          "Estonia",
          "Ethiopia",
          "Finland",
          "France",
          "Gabon",
          "United Kingdom",
          "Georgia",
          "Ghana",
          "Guinea",
          "Gambia",
          "Greece",
          "Guatemala",
          "Honduras",
          "Croatia",
          "Haiti",
          "Hungary",
          "Indonesia",
          "India",
          "Ireland",
          "Iraq",
          "Iceland",
          "Israel",
          "Italy",
          "Jamaica",
          "Jordan",
          "Japan",
          "Kazakhstan",
          "Kenya",
          "Kyrgyzstan",
          "Cambodia",
          "Kuwait",
          "Lebanon",
          "Liberia",
          "Libya",
          "Sri Lanka",
          "Lesotho",
          "Lithuania",
          "Luxembourg",
          "Latvia",
          "Morocco",
          "Madagascar",
          "Maldives",
          "Mexico",
          "Mali",
          "Malta",
          "Myanmar",
          "Montenegro",
          "Mongolia",
          "Mozambique",
          "Mauritania",
          "Mauritius",
          "Malawi",
          "Malaysia",
          "Namibia",
          "Niger",
          "Nigeria",
          "Nicaragua",
          "Netherlands",
          "Norway",
          "Nepal",
          "New Zealand",
          "Pakistan",
          "Panama",
          "Peru",
          "Philippines",
          "Poland",
          "Portugal",
          "Paraguay",
          "Romania",
          "Rwanda",
          "Saudi Arabia",
          "Senegal",
          "Singapore",
          "Sierra Leone",
          "El Salvador",
          "Serbia",
          "South Sudan",
          "Slovakia",
          "Slovenia",
          "Sweden",
          "Chad",
          "Togo",
          "Thailand",
          "Tajikistan",
          "Turkmenistan",
          "Trinidad and Tobago",
          "Tunisia",
          "Turkey",
          "Uganda",
          "Ukraine",
          "Uruguay",
          "Uzbekistan",
          "Yemen",
          "South Africa",
          "Zambia",
          "Zimbabwe",
          "Egypt",
          "China"
         ],
         "legendgroup": "",
         "marker": {
          "color": "#636efa",
          "symbol": "circle"
         },
         "mode": "markers",
         "name": "",
         "orientation": "v",
         "showlegend": false,
         "type": "scatter",
         "x": [
          0.179838083,
          0.173300847,
          0.156872548,
          0.078702551,
          0.198225059,
          0.08148769,
          0.092532788,
          0.228278271,
          0.053175034,
          0.069938826,
          0.053680666,
          0.055825361,
          0.14971722,
          0.17166366,
          0.174308426,
          0.141959703,
          0.2030117,
          0.088641179,
          0.046974311,
          0.043417196,
          0.09065454,
          0.077152232,
          0.068722474,
          0.04592324,
          0.087044567,
          0.064909698,
          0.088896329,
          0.156020621,
          0.091977881,
          0.05920077,
          0.160446304,
          0.219362051,
          0.076873004,
          0.088053439,
          0.091774431,
          0.049216867,
          0.096270079,
          0.057504294,
          0.054179701,
          0.100793704,
          0.162714398,
          0.056500109,
          0.051007457,
          0.064076835,
          0.180655916,
          0.057894517,
          0.081005494,
          0.125202126,
          0.096957022,
          0.135943858,
          0.134798277,
          0.14989065,
          0.101490053,
          0.187718993,
          0.106520109,
          0.067289585,
          0.088498166,
          0.061232126,
          0.177381829,
          0.074844264,
          0.114954415,
          0.034703763,
          0.155967626,
          0.077870834,
          0.297418737,
          0.283547644,
          0.056067781,
          0.193379593,
          0.118869641,
          0.028205829,
          0.136723146,
          0.071885398,
          0.129452534,
          0.232556337,
          0.068841296,
          0.171758723,
          0.081116074,
          0.044685563,
          0.138743495,
          0.074296407,
          0.138848919,
          0.135299299,
          0.033514468,
          0.059453101,
          0.108332629,
          0.044797722,
          0.150764737,
          0.043950508,
          0.051839003,
          0.048129985,
          0.089336821,
          0.070493275,
          0.076863307,
          0.108394074,
          0.098293008,
          0.153878137,
          0.069004033,
          0.060526684,
          0.138698717,
          0.098647527,
          0.071254268,
          0.092071598,
          0.134097292,
          0.042211242,
          0.200012811,
          0.059152147,
          0.143168452,
          0.057906065,
          0.077575788,
          0.128039467,
          0.039444365,
          0.139230717,
          0.07195228,
          0.087553881,
          0.048078671,
          0.062197999,
          0.061612522,
          0.195622617,
          0.203623009,
          0.112233146,
          0.217742047,
          0.159126961,
          0.040224443,
          0.201914435,
          0.066344157,
          0.239302594,
          0.189278911,
          0.034259257,
          0.037536953,
          0.051815546,
          0.270220273,
          0.116200299
         ],
         "xaxis": "x",
         "y": [
          0.396573007,
          0.781994224,
          0.941345513,
          0.831132412,
          0.712017834,
          0.915431738,
          0.899989486,
          0.786824107,
          0.626350224,
          0.813582063,
          0.735182583,
          0.665563583,
          0.90062499,
          0.745178163,
          0.905855775,
          0.651352704,
          0.639163077,
          0.799804807,
          0.821328104,
          0.640880644,
          0.933913231,
          0.921336651,
          0.744896293,
          0.763051808,
          0.836179912,
          0.547612607,
          0.934738934,
          0.779858291,
          0.867371082,
          0.951444268,
          0.866202772,
          0.466610909,
          0.859828949,
          0.751989543,
          0.87770915,
          0.740795195,
          0.949172199,
          0.825467646,
          0.704829216,
          0.834743679,
          0.801641524,
          0.794796526,
          0.706846774,
          0.733163178,
          0.541345119,
          0.908147573,
          0.870603263,
          0.714838803,
          0.537825167,
          0.718964577,
          0.870614409,
          0.881444871,
          0.886982977,
          0.633182645,
          0.948891878,
          0.747580588,
          0.66465199,
          0.858068526,
          0.75104779,
          0.809961379,
          0.811601937,
          0.829747558,
          0.909374893,
          0.959704638,
          0.872366488,
          0.551357508,
          0.735268712,
          0.773157001,
          0.837633669,
          0.738125861,
          0.747381449,
          0.90563643,
          0.671237648,
          0.772072434,
          0.557574093,
          0.853962779,
          0.858709276,
          0.71156615,
          0.924911439,
          0.895075202,
          0.649565637,
          0.693351328,
          0.864451885,
          0.551522553,
          0.889534533,
          0.803223193,
          0.894626856,
          0.767520964,
          0.759772122,
          0.759578407,
          0.863902867,
          0.908547819,
          0.955750287,
          0.797565043,
          0.936217487,
          0.734833717,
          0.880366504,
          0.824766099,
          0.915463448,
          0.862055779,
          0.888747811,
          0.885923445,
          0.842823207,
          0.900589406,
          0.854191244,
          0.690596163,
          0.926645339,
          0.715315044,
          0.833805263,
          0.726495862,
          0.451313615,
          0.749952674,
          0.936142623,
          0.939144194,
          0.587305248,
          0.649828613,
          0.905063033,
          0.831383407,
          0.826457024,
          0.857907116,
          0.593361557,
          0.608830452,
          0.731713951,
          0.663081884,
          0.892395437,
          0.974998116,
          0.599920273,
          0.759330094,
          0.806500256,
          0.711457908,
          0.708354175,
          0.898517907
         ],
         "yaxis": "y"
        },
        {
         "hovertemplate": "<b>OLS trendline</b><br>Freedom to make life choices = -0.0202002 * log10(Ischemic Heart Disease) + 0.766599<br>R<sup>2</sup>=0.001549<br><br>Ischemic Heart Disease=%{x}<br>Freedom to make life choices=%{y} <b>(trend)</b><extra></extra>",
         "legendgroup": "",
         "marker": {
          "color": "#636efa",
          "symbol": "circle"
         },
         "mode": "lines",
         "name": "",
         "showlegend": false,
         "type": "scatter",
         "x": [
          0.028205829,
          0.033514468,
          0.034259257,
          0.034703763,
          0.037536953,
          0.039444365,
          0.040224443,
          0.042211242,
          0.043417196,
          0.043950508,
          0.044685563,
          0.044797722,
          0.04592324,
          0.046974311,
          0.048078671,
          0.048129985,
          0.049216867,
          0.051007457,
          0.051815546,
          0.051839003,
          0.053175034,
          0.053680666,
          0.054179701,
          0.055825361,
          0.056067781,
          0.056500109,
          0.057504294,
          0.057894517,
          0.057906065,
          0.059152147,
          0.05920077,
          0.059453101,
          0.060526684,
          0.061232126,
          0.061612522,
          0.062197999,
          0.064076835,
          0.064909698,
          0.066344157,
          0.067289585,
          0.068722474,
          0.068841296,
          0.069004033,
          0.069938826,
          0.070493275,
          0.071254268,
          0.071885398,
          0.07195228,
          0.074296407,
          0.074844264,
          0.076863307,
          0.076873004,
          0.077152232,
          0.077575788,
          0.077870834,
          0.078702551,
          0.081005494,
          0.081116074,
          0.08148769,
          0.087044567,
          0.087553881,
          0.088053439,
          0.088498166,
          0.088641179,
          0.088896329,
          0.089336821,
          0.09065454,
          0.091774431,
          0.091977881,
          0.092071598,
          0.092532788,
          0.096270079,
          0.096957022,
          0.098293008,
          0.098647527,
          0.100793704,
          0.101490053,
          0.106520109,
          0.108332629,
          0.108394074,
          0.112233146,
          0.114954415,
          0.116200299,
          0.118869641,
          0.125202126,
          0.128039467,
          0.129452534,
          0.134097292,
          0.134798277,
          0.135299299,
          0.135943858,
          0.136723146,
          0.138698717,
          0.138743495,
          0.138848919,
          0.139230717,
          0.141959703,
          0.143168452,
          0.14971722,
          0.14989065,
          0.150764737,
          0.153878137,
          0.155967626,
          0.156020621,
          0.156872548,
          0.159126961,
          0.160446304,
          0.162714398,
          0.17166366,
          0.171758723,
          0.173300847,
          0.174308426,
          0.177381829,
          0.179838083,
          0.180655916,
          0.187718993,
          0.189278911,
          0.193379593,
          0.195622617,
          0.198225059,
          0.200012811,
          0.201914435,
          0.2030117,
          0.203623009,
          0.217742047,
          0.219362051,
          0.228278271,
          0.232556337,
          0.239302594,
          0.270220273,
          0.283547644,
          0.297418737
         ],
         "xaxis": "x",
         "y": [
          0.7979026031636945,
          0.7963897381455958,
          0.796196914643358,
          0.7960838210623927,
          0.7953953478348254,
          0.7949605186827634,
          0.7947887143248414,
          0.7943657600901929,
          0.7941186377420019,
          0.7940115335639241,
          0.7938660245555557,
          0.7938440326418674,
          0.7936263430491,
          0.7934278172710032,
          0.7932239558487257,
          0.7932145976481618,
          0.793018691025772,
          0.7927051893850848,
          0.7925672944107047,
          0.792563323823906,
          0.7923400883545891,
          0.792257063010414,
          0.7921758841787254,
          0.7919133835006683,
          0.7918753701420619,
          0.7918079838501583,
          0.7916534321016859,
          0.7915941008145496,
          0.7915923511023497,
          0.791405570519333,
          0.7913983622103469,
          0.7913610492301519,
          0.7912040455894261,
          0.791102388806254,
          0.7910480573088176,
          0.7909650863497165,
          0.7907040056886262,
          0.7905907119729582,
          0.7903989493554592,
          0.7902748155235053,
          0.7900899645310294,
          0.7900748092678624,
          0.7900540952169866,
          0.7899360478352812,
          0.7898667741881275,
          0.7897725765789482,
          0.7896952137709655,
          0.7896870553294484,
          0.789405802472746,
          0.7893413493948919,
          0.7891078237704282,
          0.7891067170663102,
          0.7890749089358513,
          0.7890268788303718,
          0.7889935761223856,
          0.7889003726038106,
          0.7886473513029729,
          0.7886353837201183,
          0.7885952845715427,
          0.7880165548459289,
          0.7879653728694946,
          0.787915459710158,
          0.7878712626552544,
          0.7878570971795913,
          0.7878318811713664,
          0.7877885180024423,
          0.7876600634525404,
          0.7875523529661885,
          0.7875329264177672,
          0.7875239922437272,
          0.7874801584201173,
          0.7871328017456197,
          0.7870704246600708,
          0.7869503674736951,
          0.7869187828681982,
          0.7867299672390559,
          0.786669567057223,
          0.7862451981784976,
          0.7860971773593599,
          0.7860922029133528,
          0.7857868643989417,
          0.7855766907414917,
          0.7854821215567919,
          0.7852828724528794,
          0.7848275441075797,
          0.7846309523723903,
          0.7845346639752627,
          0.7842254095570587,
          0.7841796695056573,
          0.7841471227882425,
          0.7841054286224249,
          0.7840552825215011,
          0.7839294270026006,
          0.783926595201522,
          0.7839199316999749,
          0.7838958417820084,
          0.7837255534041242,
          0.7836511711712854,
          0.783258793347306,
          0.7832486369041789,
          0.7831976266508377,
          0.7830183062903336,
          0.7828999826026634,
          0.7828970022527774,
          0.7828492297538597,
          0.7827240526134893,
          0.7826516156343929,
          0.7825284696588871,
          0.7820587661925689,
          0.7820539093557218,
          0.7819754944370753,
          0.7819246364044963,
          0.7817713015739344,
          0.7816506549854709,
          0.7816108499585944,
          0.7812743943961284,
          0.7812017945169848,
          0.7810137624442258,
          0.7809125911628713,
          0.7807966521286319,
          0.7807178862323972,
          0.7806348722920565,
          0.7805873270167195,
          0.780560949903924,
          0.7799728111546933,
          0.7799077826477601,
          0.7795582565525313,
          0.7793953699160189,
          0.7791444986730346,
          0.7780785220777079,
          0.7776561733873795,
          0.7772371745556046
         ],
         "yaxis": "y"
        }
       ],
       "layout": {
        "height": 300,
        "legend": {
         "tracegroupgap": 0
        },
        "margin": {
         "t": 60
        },
        "template": {
         "data": {
          "bar": [
           {
            "error_x": {
             "color": "#2a3f5f"
            },
            "error_y": {
             "color": "#2a3f5f"
            },
            "marker": {
             "line": {
              "color": "#E5ECF6",
              "width": 0.5
             },
             "pattern": {
              "fillmode": "overlay",
              "size": 10,
              "solidity": 0.2
             }
            },
            "type": "bar"
           }
          ],
          "barpolar": [
           {
            "marker": {
             "line": {
              "color": "#E5ECF6",
              "width": 0.5
             },
             "pattern": {
              "fillmode": "overlay",
              "size": 10,
              "solidity": 0.2
             }
            },
            "type": "barpolar"
           }
          ],
          "carpet": [
           {
            "aaxis": {
             "endlinecolor": "#2a3f5f",
             "gridcolor": "white",
             "linecolor": "white",
             "minorgridcolor": "white",
             "startlinecolor": "#2a3f5f"
            },
            "baxis": {
             "endlinecolor": "#2a3f5f",
             "gridcolor": "white",
             "linecolor": "white",
             "minorgridcolor": "white",
             "startlinecolor": "#2a3f5f"
            },
            "type": "carpet"
           }
          ],
          "choropleth": [
           {
            "colorbar": {
             "outlinewidth": 0,
             "ticks": ""
            },
            "type": "choropleth"
           }
          ],
          "contour": [
           {
            "colorbar": {
             "outlinewidth": 0,
             "ticks": ""
            },
            "colorscale": [
             [
              0,
              "#0d0887"
             ],
             [
              0.1111111111111111,
              "#46039f"
             ],
             [
              0.2222222222222222,
              "#7201a8"
             ],
             [
              0.3333333333333333,
              "#9c179e"
             ],
             [
              0.4444444444444444,
              "#bd3786"
             ],
             [
              0.5555555555555556,
              "#d8576b"
             ],
             [
              0.6666666666666666,
              "#ed7953"
             ],
             [
              0.7777777777777778,
              "#fb9f3a"
             ],
             [
              0.8888888888888888,
              "#fdca26"
             ],
             [
              1,
              "#f0f921"
             ]
            ],
            "type": "contour"
           }
          ],
          "contourcarpet": [
           {
            "colorbar": {
             "outlinewidth": 0,
             "ticks": ""
            },
            "type": "contourcarpet"
           }
          ],
          "heatmap": [
           {
            "colorbar": {
             "outlinewidth": 0,
             "ticks": ""
            },
            "colorscale": [
             [
              0,
              "#0d0887"
             ],
             [
              0.1111111111111111,
              "#46039f"
             ],
             [
              0.2222222222222222,
              "#7201a8"
             ],
             [
              0.3333333333333333,
              "#9c179e"
             ],
             [
              0.4444444444444444,
              "#bd3786"
             ],
             [
              0.5555555555555556,
              "#d8576b"
             ],
             [
              0.6666666666666666,
              "#ed7953"
             ],
             [
              0.7777777777777778,
              "#fb9f3a"
             ],
             [
              0.8888888888888888,
              "#fdca26"
             ],
             [
              1,
              "#f0f921"
             ]
            ],
            "type": "heatmap"
           }
          ],
          "heatmapgl": [
           {
            "colorbar": {
             "outlinewidth": 0,
             "ticks": ""
            },
            "colorscale": [
             [
              0,
              "#0d0887"
             ],
             [
              0.1111111111111111,
              "#46039f"
             ],
             [
              0.2222222222222222,
              "#7201a8"
             ],
             [
              0.3333333333333333,
              "#9c179e"
             ],
             [
              0.4444444444444444,
              "#bd3786"
             ],
             [
              0.5555555555555556,
              "#d8576b"
             ],
             [
              0.6666666666666666,
              "#ed7953"
             ],
             [
              0.7777777777777778,
              "#fb9f3a"
             ],
             [
              0.8888888888888888,
              "#fdca26"
             ],
             [
              1,
              "#f0f921"
             ]
            ],
            "type": "heatmapgl"
           }
          ],
          "histogram": [
           {
            "marker": {
             "pattern": {
              "fillmode": "overlay",
              "size": 10,
              "solidity": 0.2
             }
            },
            "type": "histogram"
           }
          ],
          "histogram2d": [
           {
            "colorbar": {
             "outlinewidth": 0,
             "ticks": ""
            },
            "colorscale": [
             [
              0,
              "#0d0887"
             ],
             [
              0.1111111111111111,
              "#46039f"
             ],
             [
              0.2222222222222222,
              "#7201a8"
             ],
             [
              0.3333333333333333,
              "#9c179e"
             ],
             [
              0.4444444444444444,
              "#bd3786"
             ],
             [
              0.5555555555555556,
              "#d8576b"
             ],
             [
              0.6666666666666666,
              "#ed7953"
             ],
             [
              0.7777777777777778,
              "#fb9f3a"
             ],
             [
              0.8888888888888888,
              "#fdca26"
             ],
             [
              1,
              "#f0f921"
             ]
            ],
            "type": "histogram2d"
           }
          ],
          "histogram2dcontour": [
           {
            "colorbar": {
             "outlinewidth": 0,
             "ticks": ""
            },
            "colorscale": [
             [
              0,
              "#0d0887"
             ],
             [
              0.1111111111111111,
              "#46039f"
             ],
             [
              0.2222222222222222,
              "#7201a8"
             ],
             [
              0.3333333333333333,
              "#9c179e"
             ],
             [
              0.4444444444444444,
              "#bd3786"
             ],
             [
              0.5555555555555556,
              "#d8576b"
             ],
             [
              0.6666666666666666,
              "#ed7953"
             ],
             [
              0.7777777777777778,
              "#fb9f3a"
             ],
             [
              0.8888888888888888,
              "#fdca26"
             ],
             [
              1,
              "#f0f921"
             ]
            ],
            "type": "histogram2dcontour"
           }
          ],
          "mesh3d": [
           {
            "colorbar": {
             "outlinewidth": 0,
             "ticks": ""
            },
            "type": "mesh3d"
           }
          ],
          "parcoords": [
           {
            "line": {
             "colorbar": {
              "outlinewidth": 0,
              "ticks": ""
             }
            },
            "type": "parcoords"
           }
          ],
          "pie": [
           {
            "automargin": true,
            "type": "pie"
           }
          ],
          "scatter": [
           {
            "fillpattern": {
             "fillmode": "overlay",
             "size": 10,
             "solidity": 0.2
            },
            "type": "scatter"
           }
          ],
          "scatter3d": [
           {
            "line": {
             "colorbar": {
              "outlinewidth": 0,
              "ticks": ""
             }
            },
            "marker": {
             "colorbar": {
              "outlinewidth": 0,
              "ticks": ""
             }
            },
            "type": "scatter3d"
           }
          ],
          "scattercarpet": [
           {
            "marker": {
             "colorbar": {
              "outlinewidth": 0,
              "ticks": ""
             }
            },
            "type": "scattercarpet"
           }
          ],
          "scattergeo": [
           {
            "marker": {
             "colorbar": {
              "outlinewidth": 0,
              "ticks": ""
             }
            },
            "type": "scattergeo"
           }
          ],
          "scattergl": [
           {
            "marker": {
             "colorbar": {
              "outlinewidth": 0,
              "ticks": ""
             }
            },
            "type": "scattergl"
           }
          ],
          "scattermapbox": [
           {
            "marker": {
             "colorbar": {
              "outlinewidth": 0,
              "ticks": ""
             }
            },
            "type": "scattermapbox"
           }
          ],
          "scatterpolar": [
           {
            "marker": {
             "colorbar": {
              "outlinewidth": 0,
              "ticks": ""
             }
            },
            "type": "scatterpolar"
           }
          ],
          "scatterpolargl": [
           {
            "marker": {
             "colorbar": {
              "outlinewidth": 0,
              "ticks": ""
             }
            },
            "type": "scatterpolargl"
           }
          ],
          "scatterternary": [
           {
            "marker": {
             "colorbar": {
              "outlinewidth": 0,
              "ticks": ""
             }
            },
            "type": "scatterternary"
           }
          ],
          "surface": [
           {
            "colorbar": {
             "outlinewidth": 0,
             "ticks": ""
            },
            "colorscale": [
             [
              0,
              "#0d0887"
             ],
             [
              0.1111111111111111,
              "#46039f"
             ],
             [
              0.2222222222222222,
              "#7201a8"
             ],
             [
              0.3333333333333333,
              "#9c179e"
             ],
             [
              0.4444444444444444,
              "#bd3786"
             ],
             [
              0.5555555555555556,
              "#d8576b"
             ],
             [
              0.6666666666666666,
              "#ed7953"
             ],
             [
              0.7777777777777778,
              "#fb9f3a"
             ],
             [
              0.8888888888888888,
              "#fdca26"
             ],
             [
              1,
              "#f0f921"
             ]
            ],
            "type": "surface"
           }
          ],
          "table": [
           {
            "cells": {
             "fill": {
              "color": "#EBF0F8"
             },
             "line": {
              "color": "white"
             }
            },
            "header": {
             "fill": {
              "color": "#C8D4E3"
             },
             "line": {
              "color": "white"
             }
            },
            "type": "table"
           }
          ]
         },
         "layout": {
          "annotationdefaults": {
           "arrowcolor": "#2a3f5f",
           "arrowhead": 0,
           "arrowwidth": 1
          },
          "autotypenumbers": "strict",
          "coloraxis": {
           "colorbar": {
            "outlinewidth": 0,
            "ticks": ""
           }
          },
          "colorscale": {
           "diverging": [
            [
             0,
             "#8e0152"
            ],
            [
             0.1,
             "#c51b7d"
            ],
            [
             0.2,
             "#de77ae"
            ],
            [
             0.3,
             "#f1b6da"
            ],
            [
             0.4,
             "#fde0ef"
            ],
            [
             0.5,
             "#f7f7f7"
            ],
            [
             0.6,
             "#e6f5d0"
            ],
            [
             0.7,
             "#b8e186"
            ],
            [
             0.8,
             "#7fbc41"
            ],
            [
             0.9,
             "#4d9221"
            ],
            [
             1,
             "#276419"
            ]
           ],
           "sequential": [
            [
             0,
             "#0d0887"
            ],
            [
             0.1111111111111111,
             "#46039f"
            ],
            [
             0.2222222222222222,
             "#7201a8"
            ],
            [
             0.3333333333333333,
             "#9c179e"
            ],
            [
             0.4444444444444444,
             "#bd3786"
            ],
            [
             0.5555555555555556,
             "#d8576b"
            ],
            [
             0.6666666666666666,
             "#ed7953"
            ],
            [
             0.7777777777777778,
             "#fb9f3a"
            ],
            [
             0.8888888888888888,
             "#fdca26"
            ],
            [
             1,
             "#f0f921"
            ]
           ],
           "sequentialminus": [
            [
             0,
             "#0d0887"
            ],
            [
             0.1111111111111111,
             "#46039f"
            ],
            [
             0.2222222222222222,
             "#7201a8"
            ],
            [
             0.3333333333333333,
             "#9c179e"
            ],
            [
             0.4444444444444444,
             "#bd3786"
            ],
            [
             0.5555555555555556,
             "#d8576b"
            ],
            [
             0.6666666666666666,
             "#ed7953"
            ],
            [
             0.7777777777777778,
             "#fb9f3a"
            ],
            [
             0.8888888888888888,
             "#fdca26"
            ],
            [
             1,
             "#f0f921"
            ]
           ]
          },
          "colorway": [
           "#636efa",
           "#EF553B",
           "#00cc96",
           "#ab63fa",
           "#FFA15A",
           "#19d3f3",
           "#FF6692",
           "#B6E880",
           "#FF97FF",
           "#FECB52"
          ],
          "font": {
           "color": "#2a3f5f"
          },
          "geo": {
           "bgcolor": "white",
           "lakecolor": "white",
           "landcolor": "#E5ECF6",
           "showlakes": true,
           "showland": true,
           "subunitcolor": "white"
          },
          "hoverlabel": {
           "align": "left"
          },
          "hovermode": "closest",
          "mapbox": {
           "style": "light"
          },
          "paper_bgcolor": "white",
          "plot_bgcolor": "#E5ECF6",
          "polar": {
           "angularaxis": {
            "gridcolor": "white",
            "linecolor": "white",
            "ticks": ""
           },
           "bgcolor": "#E5ECF6",
           "radialaxis": {
            "gridcolor": "white",
            "linecolor": "white",
            "ticks": ""
           }
          },
          "scene": {
           "xaxis": {
            "backgroundcolor": "#E5ECF6",
            "gridcolor": "white",
            "gridwidth": 2,
            "linecolor": "white",
            "showbackground": true,
            "ticks": "",
            "zerolinecolor": "white"
           },
           "yaxis": {
            "backgroundcolor": "#E5ECF6",
            "gridcolor": "white",
            "gridwidth": 2,
            "linecolor": "white",
            "showbackground": true,
            "ticks": "",
            "zerolinecolor": "white"
           },
           "zaxis": {
            "backgroundcolor": "#E5ECF6",
            "gridcolor": "white",
            "gridwidth": 2,
            "linecolor": "white",
            "showbackground": true,
            "ticks": "",
            "zerolinecolor": "white"
           }
          },
          "shapedefaults": {
           "line": {
            "color": "#2a3f5f"
           }
          },
          "ternary": {
           "aaxis": {
            "gridcolor": "white",
            "linecolor": "white",
            "ticks": ""
           },
           "baxis": {
            "gridcolor": "white",
            "linecolor": "white",
            "ticks": ""
           },
           "bgcolor": "#E5ECF6",
           "caxis": {
            "gridcolor": "white",
            "linecolor": "white",
            "ticks": ""
           }
          },
          "title": {
           "x": 0.05
          },
          "xaxis": {
           "automargin": true,
           "gridcolor": "white",
           "linecolor": "white",
           "ticks": "",
           "title": {
            "standoff": 15
           },
           "zerolinecolor": "white",
           "zerolinewidth": 2
          },
          "yaxis": {
           "automargin": true,
           "gridcolor": "white",
           "linecolor": "white",
           "ticks": "",
           "title": {
            "standoff": 15
           },
           "zerolinecolor": "white",
           "zerolinewidth": 2
          }
         }
        },
        "title": {
         "text": "Scatterplot IHD death rates and Freedom to make life choices",
         "x": 0.5,
         "y": 0.95
        },
        "width": 600,
        "xaxis": {
         "anchor": "y",
         "domain": [
          0,
          1
         ],
         "title": {
          "text": "Ischemic Heart Disease"
         }
        },
        "yaxis": {
         "anchor": "x",
         "domain": [
          0,
          1
         ],
         "title": {
          "text": "Freedom to make life choices"
         }
        }
       }
      }
     },
     "metadata": {},
     "output_type": "display_data"
    },
    {
     "data": {
      "application/vnd.plotly.v1+json": {
       "config": {
        "plotlyServerURL": "https://plot.ly"
       },
       "data": [
        {
         "hovertemplate": "<b>%{hovertext}</b><br><br>Ischemic Heart Disease=%{x}<br>Healthy life expectancy=%{y}<extra></extra>",
         "hovertext": [
          "Afghanistan",
          "Albania",
          "United Arab Emirates",
          "Argentina",
          "Armenia",
          "Australia",
          "Austria",
          "Azerbaijan",
          "Burundi",
          "Belgium",
          "Benin",
          "Burkina Faso",
          "Bangladesh",
          "Bulgaria",
          "Bahrain",
          "Bosnia and Herzegovina",
          "Belarus",
          "Brazil",
          "Botswana",
          "Central African Republic",
          "Canada",
          "Switzerland",
          "Chile",
          "Cameroon",
          "Colombia",
          "Comoros",
          "Costa Rica",
          "Cyprus",
          "Germany",
          "Denmark",
          "Dominican Republic",
          "Algeria",
          "Ecuador",
          "Spain",
          "Estonia",
          "Ethiopia",
          "Finland",
          "France",
          "Gabon",
          "United Kingdom",
          "Georgia",
          "Ghana",
          "Guinea",
          "Gambia",
          "Greece",
          "Guatemala",
          "Honduras",
          "Croatia",
          "Haiti",
          "Hungary",
          "Indonesia",
          "India",
          "Ireland",
          "Iraq",
          "Iceland",
          "Israel",
          "Italy",
          "Jamaica",
          "Jordan",
          "Japan",
          "Kazakhstan",
          "Kenya",
          "Kyrgyzstan",
          "Cambodia",
          "Kuwait",
          "Lebanon",
          "Liberia",
          "Libya",
          "Sri Lanka",
          "Lesotho",
          "Lithuania",
          "Luxembourg",
          "Latvia",
          "Morocco",
          "Madagascar",
          "Maldives",
          "Mexico",
          "Mali",
          "Malta",
          "Myanmar",
          "Montenegro",
          "Mongolia",
          "Mozambique",
          "Mauritania",
          "Mauritius",
          "Malawi",
          "Malaysia",
          "Namibia",
          "Niger",
          "Nigeria",
          "Nicaragua",
          "Netherlands",
          "Norway",
          "Nepal",
          "New Zealand",
          "Pakistan",
          "Panama",
          "Peru",
          "Philippines",
          "Poland",
          "Portugal",
          "Paraguay",
          "Romania",
          "Rwanda",
          "Saudi Arabia",
          "Senegal",
          "Singapore",
          "Sierra Leone",
          "El Salvador",
          "Serbia",
          "South Sudan",
          "Slovakia",
          "Slovenia",
          "Sweden",
          "Chad",
          "Togo",
          "Thailand",
          "Tajikistan",
          "Turkmenistan",
          "Trinidad and Tobago",
          "Tunisia",
          "Turkey",
          "Uganda",
          "Ukraine",
          "Uruguay",
          "Uzbekistan",
          "Yemen",
          "South Africa",
          "Zambia",
          "Zimbabwe",
          "Egypt",
          "China"
         ],
         "legendgroup": "",
         "marker": {
          "color": "#636efa",
          "symbol": "circle"
         },
         "mode": "markers",
         "name": "",
         "orientation": "v",
         "showlegend": false,
         "type": "scatter",
         "x": [
          0.179838083,
          0.173300847,
          0.156872548,
          0.078702551,
          0.198225059,
          0.08148769,
          0.092532788,
          0.228278271,
          0.053175034,
          0.069938826,
          0.053680666,
          0.055825361,
          0.14971722,
          0.17166366,
          0.174308426,
          0.141959703,
          0.2030117,
          0.088641179,
          0.046974311,
          0.043417196,
          0.09065454,
          0.077152232,
          0.068722474,
          0.04592324,
          0.087044567,
          0.064909698,
          0.088896329,
          0.156020621,
          0.091977881,
          0.05920077,
          0.160446304,
          0.219362051,
          0.076873004,
          0.088053439,
          0.091774431,
          0.049216867,
          0.096270079,
          0.057504294,
          0.054179701,
          0.100793704,
          0.162714398,
          0.056500109,
          0.051007457,
          0.064076835,
          0.180655916,
          0.057894517,
          0.081005494,
          0.125202126,
          0.096957022,
          0.135943858,
          0.134798277,
          0.14989065,
          0.101490053,
          0.187718993,
          0.106520109,
          0.067289585,
          0.088498166,
          0.061232126,
          0.177381829,
          0.074844264,
          0.114954415,
          0.034703763,
          0.155967626,
          0.077870834,
          0.297418737,
          0.283547644,
          0.056067781,
          0.193379593,
          0.118869641,
          0.028205829,
          0.136723146,
          0.071885398,
          0.129452534,
          0.232556337,
          0.068841296,
          0.171758723,
          0.081116074,
          0.044685563,
          0.138743495,
          0.074296407,
          0.138848919,
          0.135299299,
          0.033514468,
          0.059453101,
          0.108332629,
          0.044797722,
          0.150764737,
          0.043950508,
          0.051839003,
          0.048129985,
          0.089336821,
          0.070493275,
          0.076863307,
          0.108394074,
          0.098293008,
          0.153878137,
          0.069004033,
          0.060526684,
          0.138698717,
          0.098647527,
          0.071254268,
          0.092071598,
          0.134097292,
          0.042211242,
          0.200012811,
          0.059152147,
          0.143168452,
          0.057906065,
          0.077575788,
          0.128039467,
          0.039444365,
          0.139230717,
          0.07195228,
          0.087553881,
          0.048078671,
          0.062197999,
          0.061612522,
          0.195622617,
          0.203623009,
          0.112233146,
          0.217742047,
          0.159126961,
          0.040224443,
          0.201914435,
          0.066344157,
          0.239302594,
          0.189278911,
          0.034259257,
          0.037536953,
          0.051815546,
          0.270220273,
          0.116200299
         ],
         "xaxis": "x",
         "y": [
          52.59000015,
          68.70813751,
          67.08278656,
          68.80380249,
          66.75065613,
          73.60453796,
          73.00250244,
          65.50839996,
          53.40000153,
          72.00164795,
          54.31246567,
          53.88945389,
          64.50306702,
          66.80397797,
          68.5,
          67.80813599,
          66.10433197,
          66.48016357,
          58.92445374,
          45.20000076,
          73.60160065,
          74.10244751,
          69.90061951,
          52.7049408,
          67.69958496,
          57.34901047,
          71.29985046,
          73.70222473,
          72.20201874,
          72.40250397,
          65.80748749,
          65.90517426,
          68.50003815,
          74.40270996,
          68.60495758,
          58.63959122,
          71.9008255,
          73.80193329,
          59.71533966,
          72.30160522,
          64.49520874,
          57.20398712,
          54.46780014,
          55.0120163,
          72.40525818,
          64.8089447,
          67.19876862,
          70.21490479,
          55.59862518,
          67.60997009,
          62.15584946,
          60.21518707,
          72.30078888,
          59.90354919,
          73,
          73.20025635,
          73.60168457,
          67.09999847,
          66.79975128,
          75.00096893,
          64.60996246,
          60.09693146,
          64.10601044,
          61.52996826,
          66.76764679,
          67.10658264,
          56.09631348,
          62.29999924,
          67.20006561,
          48.00362396,
          67.29407501,
          72.59999847,
          66.8074646,
          65.89624023,
          59.10542679,
          70.59999847,
          68.29902649,
          51.72698212,
          72.19999695,
          58.96171188,
          68.50534821,
          62.30448532,
          54.20582199,
          57.01017761,
          66.40434265,
          57.59288788,
          67.10215759,
          56.50148773,
          53.50009537,
          49.86190796,
          67.50717926,
          72.30091858,
          73.20078278,
          63.77917862,
          73.20262909,
          58.25313568,
          69.60301208,
          68.10023499,
          61.92676163,
          69.31113434,
          72.40202332,
          65.63993835,
          67.20723724,
          61.09884644,
          66.30514526,
          59.59915161,
          76.80458069,
          50.86514282,
          66.10826111,
          68.21020508,
          51,
          68.90634155,
          71.1029892,
          72.60076904,
          48.22053909,
          54.71989822,
          67.25059509,
          64.10459137,
          62.21170807,
          63.5,
          66.89785767,
          66.90281677,
          55.70820236,
          64.60678101,
          69.00254822,
          65.10757446,
          56.72728348,
          56.50601196,
          55.29937744,
          55.61725998,
          61.78015137,
          69.2891922
         ],
         "yaxis": "y"
        },
        {
         "hovertemplate": "<b>OLS trendline</b><br>Healthy life expectancy = 12.4832 * log10(Ischemic Heart Disease) + 77.2994<br>R<sup>2</sup>=0.174471<br><br>Ischemic Heart Disease=%{x}<br>Healthy life expectancy=%{y} <b>(trend)</b><extra></extra>",
         "legendgroup": "",
         "marker": {
          "color": "#636efa",
          "symbol": "circle"
         },
         "mode": "lines",
         "name": "",
         "showlegend": false,
         "type": "scatter",
         "x": [
          0.028205829,
          0.033514468,
          0.034259257,
          0.034703763,
          0.037536953,
          0.039444365,
          0.040224443,
          0.042211242,
          0.043417196,
          0.043950508,
          0.044685563,
          0.044797722,
          0.04592324,
          0.046974311,
          0.048078671,
          0.048129985,
          0.049216867,
          0.051007457,
          0.051815546,
          0.051839003,
          0.053175034,
          0.053680666,
          0.054179701,
          0.055825361,
          0.056067781,
          0.056500109,
          0.057504294,
          0.057894517,
          0.057906065,
          0.059152147,
          0.05920077,
          0.059453101,
          0.060526684,
          0.061232126,
          0.061612522,
          0.062197999,
          0.064076835,
          0.064909698,
          0.066344157,
          0.067289585,
          0.068722474,
          0.068841296,
          0.069004033,
          0.069938826,
          0.070493275,
          0.071254268,
          0.071885398,
          0.07195228,
          0.074296407,
          0.074844264,
          0.076863307,
          0.076873004,
          0.077152232,
          0.077575788,
          0.077870834,
          0.078702551,
          0.081005494,
          0.081116074,
          0.08148769,
          0.087044567,
          0.087553881,
          0.088053439,
          0.088498166,
          0.088641179,
          0.088896329,
          0.089336821,
          0.09065454,
          0.091774431,
          0.091977881,
          0.092071598,
          0.092532788,
          0.096270079,
          0.096957022,
          0.098293008,
          0.098647527,
          0.100793704,
          0.101490053,
          0.106520109,
          0.108332629,
          0.108394074,
          0.112233146,
          0.114954415,
          0.116200299,
          0.118869641,
          0.125202126,
          0.128039467,
          0.129452534,
          0.134097292,
          0.134798277,
          0.135299299,
          0.135943858,
          0.136723146,
          0.138698717,
          0.138743495,
          0.138848919,
          0.139230717,
          0.141959703,
          0.143168452,
          0.14971722,
          0.14989065,
          0.150764737,
          0.153878137,
          0.155967626,
          0.156020621,
          0.156872548,
          0.159126961,
          0.160446304,
          0.162714398,
          0.17166366,
          0.171758723,
          0.173300847,
          0.174308426,
          0.177381829,
          0.179838083,
          0.180655916,
          0.187718993,
          0.189278911,
          0.193379593,
          0.195622617,
          0.198225059,
          0.200012811,
          0.201914435,
          0.2030117,
          0.203623009,
          0.217742047,
          0.219362051,
          0.228278271,
          0.232556337,
          0.239302594,
          0.270220273,
          0.283547644,
          0.297418737
         ],
         "xaxis": "x",
         "y": [
          57.95467970410621,
          58.88959125746473,
          59.00875120752279,
          59.078640123050775,
          59.50409881693982,
          59.772812015497834,
          59.87898267660579,
          60.14035748254307,
          60.29307271863679,
          60.35926033769073,
          60.44918115112347,
          60.462771586450856,
          60.59729813897832,
          60.71998194841392,
          60.84596304830798,
          60.85174617484017,
          60.97281141361599,
          61.16654734006609,
          61.25176287691552,
          61.254216597126714,
          61.39217035829311,
          61.44347787916399,
          61.49364430295318,
          61.65586295018487,
          61.67935422516179,
          61.72099721517405,
          61.81650620871281,
          61.85317141357626,
          61.854252690577965,
          61.96967827244837,
          61.97413282144691,
          61.99719128063338,
          62.094215480332544,
          62.157036749862826,
          62.19061221367284,
          62.24188612597091,
          62.40322723934969,
          62.47323983296099,
          62.5917441836184,
          62.66845568944871,
          62.78268883414306,
          62.79205439581547,
          62.804855144890226,
          62.87780538148098,
          62.920614708349184,
          62.97882640077836,
          63.02663462036041,
          63.031676326752255,
          63.20548333663118,
          63.24531367602996,
          63.38962648761888,
          63.3903104022138,
          63.40996700627362,
          63.43964837241313,
          63.46022858682876,
          63.517825956909384,
          63.67418659356174,
          63.68158225103463,
          63.70636249040471,
          64.06400253117211,
          64.09563167225194,
          64.12647671709745,
          64.1537893568633,
          64.16254325539215,
          64.17812609797036,
          64.20492341771289,
          64.28430501577233,
          64.35086731769844,
          64.36287242347039,
          64.3683935125496,
          64.39548168474643,
          64.610139148723,
          64.64868657843213,
          64.72287882246158,
          64.74239729386125,
          64.85908048173852,
          64.89640623594988,
          65.15865525543266,
          65.25012830312286,
          65.25320238242801,
          65.44189370742609,
          65.57177560581817,
          65.63021692233343,
          65.75334772846325,
          66.03472889961846,
          66.15621752043036,
          66.21572126587492,
          66.40683251839728,
          66.43509869019373,
          66.45521172193877,
          66.48097764081731,
          66.51196663755442,
          66.58974210150289,
          66.59149208151663,
          66.59560995357242,
          66.61049690142099,
          66.71573072597377,
          66.76169702700767,
          67.00417639994016,
          67.01045281978391,
          67.04197584042217,
          67.1527911972333,
          67.22591218378237,
          67.2277539631269,
          67.25727613505671,
          67.3346323785739,
          67.3793965629773,
          67.45549759900673,
          67.74576222411216,
          67.74876362399036,
          67.79722202082107,
          67.82865097295516,
          67.92340794261845,
          67.99796442193315,
          68.02256290168073,
          68.23048375964102,
          68.27534861207126,
          68.39154758231726,
          68.4540688242489,
          68.52571615649524,
          68.57439144842115,
          68.62569192201653,
          68.65507367563526,
          68.67137405088475,
          69.03482862551998,
          69.07501456524514,
          69.29101267526836,
          69.39167241459829,
          69.54670437096291,
          70.20545040756122,
          70.46645100273007,
          70.72538147173012
         ],
         "yaxis": "y"
        }
       ],
       "layout": {
        "height": 300,
        "legend": {
         "tracegroupgap": 0
        },
        "margin": {
         "t": 60
        },
        "template": {
         "data": {
          "bar": [
           {
            "error_x": {
             "color": "#2a3f5f"
            },
            "error_y": {
             "color": "#2a3f5f"
            },
            "marker": {
             "line": {
              "color": "#E5ECF6",
              "width": 0.5
             },
             "pattern": {
              "fillmode": "overlay",
              "size": 10,
              "solidity": 0.2
             }
            },
            "type": "bar"
           }
          ],
          "barpolar": [
           {
            "marker": {
             "line": {
              "color": "#E5ECF6",
              "width": 0.5
             },
             "pattern": {
              "fillmode": "overlay",
              "size": 10,
              "solidity": 0.2
             }
            },
            "type": "barpolar"
           }
          ],
          "carpet": [
           {
            "aaxis": {
             "endlinecolor": "#2a3f5f",
             "gridcolor": "white",
             "linecolor": "white",
             "minorgridcolor": "white",
             "startlinecolor": "#2a3f5f"
            },
            "baxis": {
             "endlinecolor": "#2a3f5f",
             "gridcolor": "white",
             "linecolor": "white",
             "minorgridcolor": "white",
             "startlinecolor": "#2a3f5f"
            },
            "type": "carpet"
           }
          ],
          "choropleth": [
           {
            "colorbar": {
             "outlinewidth": 0,
             "ticks": ""
            },
            "type": "choropleth"
           }
          ],
          "contour": [
           {
            "colorbar": {
             "outlinewidth": 0,
             "ticks": ""
            },
            "colorscale": [
             [
              0,
              "#0d0887"
             ],
             [
              0.1111111111111111,
              "#46039f"
             ],
             [
              0.2222222222222222,
              "#7201a8"
             ],
             [
              0.3333333333333333,
              "#9c179e"
             ],
             [
              0.4444444444444444,
              "#bd3786"
             ],
             [
              0.5555555555555556,
              "#d8576b"
             ],
             [
              0.6666666666666666,
              "#ed7953"
             ],
             [
              0.7777777777777778,
              "#fb9f3a"
             ],
             [
              0.8888888888888888,
              "#fdca26"
             ],
             [
              1,
              "#f0f921"
             ]
            ],
            "type": "contour"
           }
          ],
          "contourcarpet": [
           {
            "colorbar": {
             "outlinewidth": 0,
             "ticks": ""
            },
            "type": "contourcarpet"
           }
          ],
          "heatmap": [
           {
            "colorbar": {
             "outlinewidth": 0,
             "ticks": ""
            },
            "colorscale": [
             [
              0,
              "#0d0887"
             ],
             [
              0.1111111111111111,
              "#46039f"
             ],
             [
              0.2222222222222222,
              "#7201a8"
             ],
             [
              0.3333333333333333,
              "#9c179e"
             ],
             [
              0.4444444444444444,
              "#bd3786"
             ],
             [
              0.5555555555555556,
              "#d8576b"
             ],
             [
              0.6666666666666666,
              "#ed7953"
             ],
             [
              0.7777777777777778,
              "#fb9f3a"
             ],
             [
              0.8888888888888888,
              "#fdca26"
             ],
             [
              1,
              "#f0f921"
             ]
            ],
            "type": "heatmap"
           }
          ],
          "heatmapgl": [
           {
            "colorbar": {
             "outlinewidth": 0,
             "ticks": ""
            },
            "colorscale": [
             [
              0,
              "#0d0887"
             ],
             [
              0.1111111111111111,
              "#46039f"
             ],
             [
              0.2222222222222222,
              "#7201a8"
             ],
             [
              0.3333333333333333,
              "#9c179e"
             ],
             [
              0.4444444444444444,
              "#bd3786"
             ],
             [
              0.5555555555555556,
              "#d8576b"
             ],
             [
              0.6666666666666666,
              "#ed7953"
             ],
             [
              0.7777777777777778,
              "#fb9f3a"
             ],
             [
              0.8888888888888888,
              "#fdca26"
             ],
             [
              1,
              "#f0f921"
             ]
            ],
            "type": "heatmapgl"
           }
          ],
          "histogram": [
           {
            "marker": {
             "pattern": {
              "fillmode": "overlay",
              "size": 10,
              "solidity": 0.2
             }
            },
            "type": "histogram"
           }
          ],
          "histogram2d": [
           {
            "colorbar": {
             "outlinewidth": 0,
             "ticks": ""
            },
            "colorscale": [
             [
              0,
              "#0d0887"
             ],
             [
              0.1111111111111111,
              "#46039f"
             ],
             [
              0.2222222222222222,
              "#7201a8"
             ],
             [
              0.3333333333333333,
              "#9c179e"
             ],
             [
              0.4444444444444444,
              "#bd3786"
             ],
             [
              0.5555555555555556,
              "#d8576b"
             ],
             [
              0.6666666666666666,
              "#ed7953"
             ],
             [
              0.7777777777777778,
              "#fb9f3a"
             ],
             [
              0.8888888888888888,
              "#fdca26"
             ],
             [
              1,
              "#f0f921"
             ]
            ],
            "type": "histogram2d"
           }
          ],
          "histogram2dcontour": [
           {
            "colorbar": {
             "outlinewidth": 0,
             "ticks": ""
            },
            "colorscale": [
             [
              0,
              "#0d0887"
             ],
             [
              0.1111111111111111,
              "#46039f"
             ],
             [
              0.2222222222222222,
              "#7201a8"
             ],
             [
              0.3333333333333333,
              "#9c179e"
             ],
             [
              0.4444444444444444,
              "#bd3786"
             ],
             [
              0.5555555555555556,
              "#d8576b"
             ],
             [
              0.6666666666666666,
              "#ed7953"
             ],
             [
              0.7777777777777778,
              "#fb9f3a"
             ],
             [
              0.8888888888888888,
              "#fdca26"
             ],
             [
              1,
              "#f0f921"
             ]
            ],
            "type": "histogram2dcontour"
           }
          ],
          "mesh3d": [
           {
            "colorbar": {
             "outlinewidth": 0,
             "ticks": ""
            },
            "type": "mesh3d"
           }
          ],
          "parcoords": [
           {
            "line": {
             "colorbar": {
              "outlinewidth": 0,
              "ticks": ""
             }
            },
            "type": "parcoords"
           }
          ],
          "pie": [
           {
            "automargin": true,
            "type": "pie"
           }
          ],
          "scatter": [
           {
            "fillpattern": {
             "fillmode": "overlay",
             "size": 10,
             "solidity": 0.2
            },
            "type": "scatter"
           }
          ],
          "scatter3d": [
           {
            "line": {
             "colorbar": {
              "outlinewidth": 0,
              "ticks": ""
             }
            },
            "marker": {
             "colorbar": {
              "outlinewidth": 0,
              "ticks": ""
             }
            },
            "type": "scatter3d"
           }
          ],
          "scattercarpet": [
           {
            "marker": {
             "colorbar": {
              "outlinewidth": 0,
              "ticks": ""
             }
            },
            "type": "scattercarpet"
           }
          ],
          "scattergeo": [
           {
            "marker": {
             "colorbar": {
              "outlinewidth": 0,
              "ticks": ""
             }
            },
            "type": "scattergeo"
           }
          ],
          "scattergl": [
           {
            "marker": {
             "colorbar": {
              "outlinewidth": 0,
              "ticks": ""
             }
            },
            "type": "scattergl"
           }
          ],
          "scattermapbox": [
           {
            "marker": {
             "colorbar": {
              "outlinewidth": 0,
              "ticks": ""
             }
            },
            "type": "scattermapbox"
           }
          ],
          "scatterpolar": [
           {
            "marker": {
             "colorbar": {
              "outlinewidth": 0,
              "ticks": ""
             }
            },
            "type": "scatterpolar"
           }
          ],
          "scatterpolargl": [
           {
            "marker": {
             "colorbar": {
              "outlinewidth": 0,
              "ticks": ""
             }
            },
            "type": "scatterpolargl"
           }
          ],
          "scatterternary": [
           {
            "marker": {
             "colorbar": {
              "outlinewidth": 0,
              "ticks": ""
             }
            },
            "type": "scatterternary"
           }
          ],
          "surface": [
           {
            "colorbar": {
             "outlinewidth": 0,
             "ticks": ""
            },
            "colorscale": [
             [
              0,
              "#0d0887"
             ],
             [
              0.1111111111111111,
              "#46039f"
             ],
             [
              0.2222222222222222,
              "#7201a8"
             ],
             [
              0.3333333333333333,
              "#9c179e"
             ],
             [
              0.4444444444444444,
              "#bd3786"
             ],
             [
              0.5555555555555556,
              "#d8576b"
             ],
             [
              0.6666666666666666,
              "#ed7953"
             ],
             [
              0.7777777777777778,
              "#fb9f3a"
             ],
             [
              0.8888888888888888,
              "#fdca26"
             ],
             [
              1,
              "#f0f921"
             ]
            ],
            "type": "surface"
           }
          ],
          "table": [
           {
            "cells": {
             "fill": {
              "color": "#EBF0F8"
             },
             "line": {
              "color": "white"
             }
            },
            "header": {
             "fill": {
              "color": "#C8D4E3"
             },
             "line": {
              "color": "white"
             }
            },
            "type": "table"
           }
          ]
         },
         "layout": {
          "annotationdefaults": {
           "arrowcolor": "#2a3f5f",
           "arrowhead": 0,
           "arrowwidth": 1
          },
          "autotypenumbers": "strict",
          "coloraxis": {
           "colorbar": {
            "outlinewidth": 0,
            "ticks": ""
           }
          },
          "colorscale": {
           "diverging": [
            [
             0,
             "#8e0152"
            ],
            [
             0.1,
             "#c51b7d"
            ],
            [
             0.2,
             "#de77ae"
            ],
            [
             0.3,
             "#f1b6da"
            ],
            [
             0.4,
             "#fde0ef"
            ],
            [
             0.5,
             "#f7f7f7"
            ],
            [
             0.6,
             "#e6f5d0"
            ],
            [
             0.7,
             "#b8e186"
            ],
            [
             0.8,
             "#7fbc41"
            ],
            [
             0.9,
             "#4d9221"
            ],
            [
             1,
             "#276419"
            ]
           ],
           "sequential": [
            [
             0,
             "#0d0887"
            ],
            [
             0.1111111111111111,
             "#46039f"
            ],
            [
             0.2222222222222222,
             "#7201a8"
            ],
            [
             0.3333333333333333,
             "#9c179e"
            ],
            [
             0.4444444444444444,
             "#bd3786"
            ],
            [
             0.5555555555555556,
             "#d8576b"
            ],
            [
             0.6666666666666666,
             "#ed7953"
            ],
            [
             0.7777777777777778,
             "#fb9f3a"
            ],
            [
             0.8888888888888888,
             "#fdca26"
            ],
            [
             1,
             "#f0f921"
            ]
           ],
           "sequentialminus": [
            [
             0,
             "#0d0887"
            ],
            [
             0.1111111111111111,
             "#46039f"
            ],
            [
             0.2222222222222222,
             "#7201a8"
            ],
            [
             0.3333333333333333,
             "#9c179e"
            ],
            [
             0.4444444444444444,
             "#bd3786"
            ],
            [
             0.5555555555555556,
             "#d8576b"
            ],
            [
             0.6666666666666666,
             "#ed7953"
            ],
            [
             0.7777777777777778,
             "#fb9f3a"
            ],
            [
             0.8888888888888888,
             "#fdca26"
            ],
            [
             1,
             "#f0f921"
            ]
           ]
          },
          "colorway": [
           "#636efa",
           "#EF553B",
           "#00cc96",
           "#ab63fa",
           "#FFA15A",
           "#19d3f3",
           "#FF6692",
           "#B6E880",
           "#FF97FF",
           "#FECB52"
          ],
          "font": {
           "color": "#2a3f5f"
          },
          "geo": {
           "bgcolor": "white",
           "lakecolor": "white",
           "landcolor": "#E5ECF6",
           "showlakes": true,
           "showland": true,
           "subunitcolor": "white"
          },
          "hoverlabel": {
           "align": "left"
          },
          "hovermode": "closest",
          "mapbox": {
           "style": "light"
          },
          "paper_bgcolor": "white",
          "plot_bgcolor": "#E5ECF6",
          "polar": {
           "angularaxis": {
            "gridcolor": "white",
            "linecolor": "white",
            "ticks": ""
           },
           "bgcolor": "#E5ECF6",
           "radialaxis": {
            "gridcolor": "white",
            "linecolor": "white",
            "ticks": ""
           }
          },
          "scene": {
           "xaxis": {
            "backgroundcolor": "#E5ECF6",
            "gridcolor": "white",
            "gridwidth": 2,
            "linecolor": "white",
            "showbackground": true,
            "ticks": "",
            "zerolinecolor": "white"
           },
           "yaxis": {
            "backgroundcolor": "#E5ECF6",
            "gridcolor": "white",
            "gridwidth": 2,
            "linecolor": "white",
            "showbackground": true,
            "ticks": "",
            "zerolinecolor": "white"
           },
           "zaxis": {
            "backgroundcolor": "#E5ECF6",
            "gridcolor": "white",
            "gridwidth": 2,
            "linecolor": "white",
            "showbackground": true,
            "ticks": "",
            "zerolinecolor": "white"
           }
          },
          "shapedefaults": {
           "line": {
            "color": "#2a3f5f"
           }
          },
          "ternary": {
           "aaxis": {
            "gridcolor": "white",
            "linecolor": "white",
            "ticks": ""
           },
           "baxis": {
            "gridcolor": "white",
            "linecolor": "white",
            "ticks": ""
           },
           "bgcolor": "#E5ECF6",
           "caxis": {
            "gridcolor": "white",
            "linecolor": "white",
            "ticks": ""
           }
          },
          "title": {
           "x": 0.05
          },
          "xaxis": {
           "automargin": true,
           "gridcolor": "white",
           "linecolor": "white",
           "ticks": "",
           "title": {
            "standoff": 15
           },
           "zerolinecolor": "white",
           "zerolinewidth": 2
          },
          "yaxis": {
           "automargin": true,
           "gridcolor": "white",
           "linecolor": "white",
           "ticks": "",
           "title": {
            "standoff": 15
           },
           "zerolinecolor": "white",
           "zerolinewidth": 2
          }
         }
        },
        "title": {
         "text": "Scatterplot IHD death rates and Healthy life expectancy",
         "x": 0.5,
         "y": 0.95
        },
        "width": 600,
        "xaxis": {
         "anchor": "y",
         "domain": [
          0,
          1
         ],
         "title": {
          "text": "Ischemic Heart Disease"
         }
        },
        "yaxis": {
         "anchor": "x",
         "domain": [
          0,
          1
         ],
         "title": {
          "text": "Healthy life expectancy"
         }
        }
       }
      }
     },
     "metadata": {},
     "output_type": "display_data"
    },
    {
     "data": {
      "application/vnd.plotly.v1+json": {
       "config": {
        "plotlyServerURL": "https://plot.ly"
       },
       "data": [
        {
         "hovertemplate": "<b>%{hovertext}</b><br><br>Ischemic Heart Disease=%{x}<br>Social support=%{y}<extra></extra>",
         "hovertext": [
          "Afghanistan",
          "Albania",
          "United Arab Emirates",
          "Argentina",
          "Armenia",
          "Australia",
          "Austria",
          "Azerbaijan",
          "Burundi",
          "Belgium",
          "Benin",
          "Burkina Faso",
          "Bangladesh",
          "Bulgaria",
          "Bahrain",
          "Bosnia and Herzegovina",
          "Belarus",
          "Brazil",
          "Botswana",
          "Central African Republic",
          "Canada",
          "Switzerland",
          "Chile",
          "Cameroon",
          "Colombia",
          "Comoros",
          "Costa Rica",
          "Cyprus",
          "Germany",
          "Denmark",
          "Dominican Republic",
          "Algeria",
          "Ecuador",
          "Spain",
          "Estonia",
          "Ethiopia",
          "Finland",
          "France",
          "Gabon",
          "United Kingdom",
          "Georgia",
          "Ghana",
          "Guinea",
          "Gambia",
          "Greece",
          "Guatemala",
          "Honduras",
          "Croatia",
          "Haiti",
          "Hungary",
          "Indonesia",
          "India",
          "Ireland",
          "Iraq",
          "Iceland",
          "Israel",
          "Italy",
          "Jamaica",
          "Jordan",
          "Japan",
          "Kazakhstan",
          "Kenya",
          "Kyrgyzstan",
          "Cambodia",
          "Kuwait",
          "Lebanon",
          "Liberia",
          "Libya",
          "Sri Lanka",
          "Lesotho",
          "Lithuania",
          "Luxembourg",
          "Latvia",
          "Morocco",
          "Madagascar",
          "Maldives",
          "Mexico",
          "Mali",
          "Malta",
          "Myanmar",
          "Montenegro",
          "Mongolia",
          "Mozambique",
          "Mauritania",
          "Mauritius",
          "Malawi",
          "Malaysia",
          "Namibia",
          "Niger",
          "Nigeria",
          "Nicaragua",
          "Netherlands",
          "Norway",
          "Nepal",
          "New Zealand",
          "Pakistan",
          "Panama",
          "Peru",
          "Philippines",
          "Poland",
          "Portugal",
          "Paraguay",
          "Romania",
          "Rwanda",
          "Saudi Arabia",
          "Senegal",
          "Singapore",
          "Sierra Leone",
          "El Salvador",
          "Serbia",
          "South Sudan",
          "Slovakia",
          "Slovenia",
          "Sweden",
          "Chad",
          "Togo",
          "Thailand",
          "Tajikistan",
          "Turkmenistan",
          "Trinidad and Tobago",
          "Tunisia",
          "Turkey",
          "Uganda",
          "Ukraine",
          "Uruguay",
          "Uzbekistan",
          "Yemen",
          "South Africa",
          "Zambia",
          "Zimbabwe",
          "Egypt",
          "China"
         ],
         "legendgroup": "",
         "marker": {
          "color": "#636efa",
          "symbol": "circle"
         },
         "mode": "markers",
         "name": "",
         "orientation": "v",
         "showlegend": false,
         "type": "scatter",
         "x": [
          0.179838083,
          0.173300847,
          0.156872548,
          0.078702551,
          0.198225059,
          0.08148769,
          0.092532788,
          0.228278271,
          0.053175034,
          0.069938826,
          0.053680666,
          0.055825361,
          0.14971722,
          0.17166366,
          0.174308426,
          0.141959703,
          0.2030117,
          0.088641179,
          0.046974311,
          0.043417196,
          0.09065454,
          0.077152232,
          0.068722474,
          0.04592324,
          0.087044567,
          0.064909698,
          0.088896329,
          0.156020621,
          0.091977881,
          0.05920077,
          0.160446304,
          0.219362051,
          0.076873004,
          0.088053439,
          0.091774431,
          0.049216867,
          0.096270079,
          0.057504294,
          0.054179701,
          0.100793704,
          0.162714398,
          0.056500109,
          0.051007457,
          0.064076835,
          0.180655916,
          0.057894517,
          0.081005494,
          0.125202126,
          0.096957022,
          0.135943858,
          0.134798277,
          0.14989065,
          0.101490053,
          0.187718993,
          0.106520109,
          0.067289585,
          0.088498166,
          0.061232126,
          0.177381829,
          0.074844264,
          0.114954415,
          0.034703763,
          0.155967626,
          0.077870834,
          0.297418737,
          0.283547644,
          0.056067781,
          0.193379593,
          0.118869641,
          0.028205829,
          0.136723146,
          0.071885398,
          0.129452534,
          0.232556337,
          0.068841296,
          0.171758723,
          0.081116074,
          0.044685563,
          0.138743495,
          0.074296407,
          0.138848919,
          0.135299299,
          0.033514468,
          0.059453101,
          0.108332629,
          0.044797722,
          0.150764737,
          0.043950508,
          0.051839003,
          0.048129985,
          0.089336821,
          0.070493275,
          0.076863307,
          0.108394074,
          0.098293008,
          0.153878137,
          0.069004033,
          0.060526684,
          0.138698717,
          0.098647527,
          0.071254268,
          0.092071598,
          0.134097292,
          0.042211242,
          0.200012811,
          0.059152147,
          0.143168452,
          0.057906065,
          0.077575788,
          0.128039467,
          0.039444365,
          0.139230717,
          0.07195228,
          0.087553881,
          0.048078671,
          0.062197999,
          0.061612522,
          0.195622617,
          0.203623009,
          0.112233146,
          0.217742047,
          0.159126961,
          0.040224443,
          0.201914435,
          0.066344157,
          0.239302594,
          0.189278911,
          0.034259257,
          0.037536953,
          0.051815546,
          0.270220273,
          0.116200299
         ],
         "xaxis": "x",
         "y": [
          0.470366955,
          0.671070457,
          0.849181116,
          0.900567949,
          0.757479429,
          0.944854617,
          0.928045869,
          0.819308281,
          0.490325719,
          0.911632538,
          0.468671143,
          0.712943614,
          0.687292993,
          0.937840343,
          0.876342118,
          0.829204142,
          0.90674746,
          0.896723807,
          0.779121757,
          0.319459856,
          0.927176654,
          0.942846596,
          0.879713595,
          0.700386405,
          0.884440243,
          0.625662446,
          0.901545942,
          0.805996239,
          0.898874462,
          0.955990791,
          0.882085383,
          0.803385139,
          0.836418986,
          0.921125412,
          0.934729993,
          0.743307352,
          0.954329729,
          0.937103748,
          0.787886858,
          0.93668282,
          0.629033029,
          0.728601098,
          0.637573481,
          0.6931687,
          0.814380348,
          0.816621482,
          0.821870148,
          0.874623716,
          0.593247831,
          0.921934128,
          0.808379889,
          0.592200935,
          0.942081571,
          0.747694969,
          0.974669576,
          0.913571239,
          0.889878571,
          0.915701866,
          0.80216372,
          0.883545935,
          0.934744895,
          0.702652037,
          0.887228489,
          0.773080647,
          0.846475244,
          0.824338138,
          0.70928055,
          0.825942934,
          0.825374067,
          0.780495703,
          0.926107109,
          0.906912208,
          0.918288589,
          0.592628479,
          0.668195903,
          0.91316092,
          0.838665426,
          0.731468976,
          0.93037951,
          0.78440702,
          0.855314612,
          0.937142491,
          0.723874032,
          0.790819228,
          0.910357833,
          0.544007301,
          0.816509426,
          0.846880972,
          0.617435038,
          0.73721689,
          0.857497036,
          0.93913883,
          0.952486575,
          0.785512447,
          0.949118972,
          0.689062297,
          0.902094483,
          0.831075251,
          0.846730053,
          0.874257445,
          0.886590719,
          0.898727894,
          0.825161517,
          0.54083544,
          0.874067068,
          0.723616004,
          0.910268962,
          0.636142015,
          0.806092262,
          0.881475747,
          0.553707123,
          0.922493756,
          0.939575672,
          0.926311195,
          0.632388055,
          0.551312625,
          0.889973223,
          0.835297108,
          0.958966196,
          0.91529417,
          0.688718557,
          0.826313555,
          0.764994621,
          0.878879368,
          0.92281127,
          0.926595807,
          0.817980587,
          0.852532268,
          0.698824465,
          0.763092756,
          0.735447824,
          0.798760593
         ],
         "yaxis": "y"
        },
        {
         "hovertemplate": "<b>OLS trendline</b><br>Social support = 0.143022 * log10(Ischemic Heart Disease) + 0.956736<br>R<sup>2</sup>=0.071147<br><br>Ischemic Heart Disease=%{x}<br>Social support=%{y} <b>(trend)</b><extra></extra>",
         "legendgroup": "",
         "marker": {
          "color": "#636efa",
          "symbol": "circle"
         },
         "mode": "lines",
         "name": "",
         "showlegend": false,
         "type": "scatter",
         "x": [
          0.028205829,
          0.033514468,
          0.034259257,
          0.034703763,
          0.037536953,
          0.039444365,
          0.040224443,
          0.042211242,
          0.043417196,
          0.043950508,
          0.044685563,
          0.044797722,
          0.04592324,
          0.046974311,
          0.048078671,
          0.048129985,
          0.049216867,
          0.051007457,
          0.051815546,
          0.051839003,
          0.053175034,
          0.053680666,
          0.054179701,
          0.055825361,
          0.056067781,
          0.056500109,
          0.057504294,
          0.057894517,
          0.057906065,
          0.059152147,
          0.05920077,
          0.059453101,
          0.060526684,
          0.061232126,
          0.061612522,
          0.062197999,
          0.064076835,
          0.064909698,
          0.066344157,
          0.067289585,
          0.068722474,
          0.068841296,
          0.069004033,
          0.069938826,
          0.070493275,
          0.071254268,
          0.071885398,
          0.07195228,
          0.074296407,
          0.074844264,
          0.076863307,
          0.076873004,
          0.077152232,
          0.077575788,
          0.077870834,
          0.078702551,
          0.081005494,
          0.081116074,
          0.08148769,
          0.087044567,
          0.087553881,
          0.088053439,
          0.088498166,
          0.088641179,
          0.088896329,
          0.089336821,
          0.09065454,
          0.091774431,
          0.091977881,
          0.092071598,
          0.092532788,
          0.096270079,
          0.096957022,
          0.098293008,
          0.098647527,
          0.100793704,
          0.101490053,
          0.106520109,
          0.108332629,
          0.108394074,
          0.112233146,
          0.114954415,
          0.116200299,
          0.118869641,
          0.125202126,
          0.128039467,
          0.129452534,
          0.134097292,
          0.134798277,
          0.135299299,
          0.135943858,
          0.136723146,
          0.138698717,
          0.138743495,
          0.138848919,
          0.139230717,
          0.141959703,
          0.143168452,
          0.14971722,
          0.14989065,
          0.150764737,
          0.153878137,
          0.155967626,
          0.156020621,
          0.156872548,
          0.159126961,
          0.160446304,
          0.162714398,
          0.17166366,
          0.171758723,
          0.173300847,
          0.174308426,
          0.177381829,
          0.179838083,
          0.180655916,
          0.187718993,
          0.189278911,
          0.193379593,
          0.195622617,
          0.198225059,
          0.200012811,
          0.201914435,
          0.2030117,
          0.203623009,
          0.217742047,
          0.219362051,
          0.228278271,
          0.232556337,
          0.239302594,
          0.270220273,
          0.283547644,
          0.297418737
         ],
         "xaxis": "x",
         "y": [
          0.7351000027399709,
          0.7458114370893767,
          0.7471766720974801,
          0.7479774008164052,
          0.7528519505549395,
          0.7559306415549951,
          0.7571470561582863,
          0.7601416699956363,
          0.7618913533958419,
          0.7626496757565967,
          0.7636799132012725,
          0.7638356210383038,
          0.7653769137204548,
          0.7667825221609362,
          0.7682259081966885,
          0.7682921664218236,
          0.7696792306339236,
          0.7718988947827264,
          0.7728752231051577,
          0.77290333577834,
          0.7744838945495726,
          0.7750717331953406,
          0.7756464981054886,
          0.777505063639126,
          0.7777742070129513,
          0.7782513175503352,
          0.7793455796871044,
          0.7797656589271046,
          0.779778047294299,
          0.7811004970362081,
          0.7811515335315671,
          0.7814157180641971,
          0.7825273401653977,
          0.7832470937098935,
          0.7836317732820519,
          0.7842192268689125,
          0.7860677383538852,
          0.7868698840728092,
          0.7882276077715118,
          0.789106504021744,
          0.7904152918161873,
          0.7905225945857797,
          0.7906692548584492,
          0.791505057632742,
          0.7919955310819616,
          0.7926624719488093,
          0.7932102185282324,
          0.7932679821817364,
          0.7952593174787458,
          0.7957156601820228,
          0.7973690756324574,
          0.7973769113536631,
          0.7976021202765422,
          0.7979421845357354,
          0.7981779754132979,
          0.7988378778886719,
          0.8006293272384166,
          0.8007140604938855,
          0.8009979717432669,
          0.8050955120973647,
          0.8054578923321448,
          0.8058112890483158,
          0.8061242144226038,
          0.8062245092676683,
          0.8064030444399571,
          0.8067100657085797,
          0.8076195536415398,
          0.8083821688051515,
          0.8085197132625624,
          0.8085829692818047,
          0.8088933228944961,
          0.8113526885154846,
          0.8117943327129324,
          0.8126443653692856,
          0.8128679916837185,
          0.8142048500230308,
          0.8146324972847859,
          0.8176371271294967,
          0.8186851487755591,
          0.8187203690041932,
          0.8208822363303148,
          0.8223703144515073,
          0.8230398861590098,
          0.824450615913617,
          0.8276744459445549,
          0.8290663609137856,
          0.8297481050430389,
          0.8319376978740101,
          0.832261548020496,
          0.832491986309905,
          0.8327871906503885,
          0.8331422366468905,
          0.8340333228390397,
          0.8340533726458504,
          0.834100551778493,
          0.834271113971216,
          0.8354767950850974,
          0.8360034385029063,
          0.8387815642784634,
          0.8388534742456298,
          0.8392146386411801,
          0.8404842682816785,
          0.8413220273661295,
          0.8413431289328649,
          0.8416813692779993,
          0.8425676523932035,
          0.8430805229644561,
          0.8439524249624824,
          0.8472780341761051,
          0.8473124217046754,
          0.8478676174710181,
          0.8482277041083536,
          0.8493133501847667,
          0.850167555944267,
          0.8504493847439699,
          0.8528315679696591,
          0.8533455919109355,
          0.8546769024897678,
          0.8553932185690678,
          0.8562140937555063,
          0.8567717745243765,
          0.8573595324283582,
          0.8576961639779705,
          0.8578829200392559,
          0.8620470784574625,
          0.8625074953317529,
          0.8649822209534419,
          0.8661354960259207,
          0.867911722468619,
          0.8754590833912709,
          0.8784494098347339,
          0.8814160185046037
         ],
         "yaxis": "y"
        }
       ],
       "layout": {
        "height": 300,
        "legend": {
         "tracegroupgap": 0
        },
        "margin": {
         "t": 60
        },
        "template": {
         "data": {
          "bar": [
           {
            "error_x": {
             "color": "#2a3f5f"
            },
            "error_y": {
             "color": "#2a3f5f"
            },
            "marker": {
             "line": {
              "color": "#E5ECF6",
              "width": 0.5
             },
             "pattern": {
              "fillmode": "overlay",
              "size": 10,
              "solidity": 0.2
             }
            },
            "type": "bar"
           }
          ],
          "barpolar": [
           {
            "marker": {
             "line": {
              "color": "#E5ECF6",
              "width": 0.5
             },
             "pattern": {
              "fillmode": "overlay",
              "size": 10,
              "solidity": 0.2
             }
            },
            "type": "barpolar"
           }
          ],
          "carpet": [
           {
            "aaxis": {
             "endlinecolor": "#2a3f5f",
             "gridcolor": "white",
             "linecolor": "white",
             "minorgridcolor": "white",
             "startlinecolor": "#2a3f5f"
            },
            "baxis": {
             "endlinecolor": "#2a3f5f",
             "gridcolor": "white",
             "linecolor": "white",
             "minorgridcolor": "white",
             "startlinecolor": "#2a3f5f"
            },
            "type": "carpet"
           }
          ],
          "choropleth": [
           {
            "colorbar": {
             "outlinewidth": 0,
             "ticks": ""
            },
            "type": "choropleth"
           }
          ],
          "contour": [
           {
            "colorbar": {
             "outlinewidth": 0,
             "ticks": ""
            },
            "colorscale": [
             [
              0,
              "#0d0887"
             ],
             [
              0.1111111111111111,
              "#46039f"
             ],
             [
              0.2222222222222222,
              "#7201a8"
             ],
             [
              0.3333333333333333,
              "#9c179e"
             ],
             [
              0.4444444444444444,
              "#bd3786"
             ],
             [
              0.5555555555555556,
              "#d8576b"
             ],
             [
              0.6666666666666666,
              "#ed7953"
             ],
             [
              0.7777777777777778,
              "#fb9f3a"
             ],
             [
              0.8888888888888888,
              "#fdca26"
             ],
             [
              1,
              "#f0f921"
             ]
            ],
            "type": "contour"
           }
          ],
          "contourcarpet": [
           {
            "colorbar": {
             "outlinewidth": 0,
             "ticks": ""
            },
            "type": "contourcarpet"
           }
          ],
          "heatmap": [
           {
            "colorbar": {
             "outlinewidth": 0,
             "ticks": ""
            },
            "colorscale": [
             [
              0,
              "#0d0887"
             ],
             [
              0.1111111111111111,
              "#46039f"
             ],
             [
              0.2222222222222222,
              "#7201a8"
             ],
             [
              0.3333333333333333,
              "#9c179e"
             ],
             [
              0.4444444444444444,
              "#bd3786"
             ],
             [
              0.5555555555555556,
              "#d8576b"
             ],
             [
              0.6666666666666666,
              "#ed7953"
             ],
             [
              0.7777777777777778,
              "#fb9f3a"
             ],
             [
              0.8888888888888888,
              "#fdca26"
             ],
             [
              1,
              "#f0f921"
             ]
            ],
            "type": "heatmap"
           }
          ],
          "heatmapgl": [
           {
            "colorbar": {
             "outlinewidth": 0,
             "ticks": ""
            },
            "colorscale": [
             [
              0,
              "#0d0887"
             ],
             [
              0.1111111111111111,
              "#46039f"
             ],
             [
              0.2222222222222222,
              "#7201a8"
             ],
             [
              0.3333333333333333,
              "#9c179e"
             ],
             [
              0.4444444444444444,
              "#bd3786"
             ],
             [
              0.5555555555555556,
              "#d8576b"
             ],
             [
              0.6666666666666666,
              "#ed7953"
             ],
             [
              0.7777777777777778,
              "#fb9f3a"
             ],
             [
              0.8888888888888888,
              "#fdca26"
             ],
             [
              1,
              "#f0f921"
             ]
            ],
            "type": "heatmapgl"
           }
          ],
          "histogram": [
           {
            "marker": {
             "pattern": {
              "fillmode": "overlay",
              "size": 10,
              "solidity": 0.2
             }
            },
            "type": "histogram"
           }
          ],
          "histogram2d": [
           {
            "colorbar": {
             "outlinewidth": 0,
             "ticks": ""
            },
            "colorscale": [
             [
              0,
              "#0d0887"
             ],
             [
              0.1111111111111111,
              "#46039f"
             ],
             [
              0.2222222222222222,
              "#7201a8"
             ],
             [
              0.3333333333333333,
              "#9c179e"
             ],
             [
              0.4444444444444444,
              "#bd3786"
             ],
             [
              0.5555555555555556,
              "#d8576b"
             ],
             [
              0.6666666666666666,
              "#ed7953"
             ],
             [
              0.7777777777777778,
              "#fb9f3a"
             ],
             [
              0.8888888888888888,
              "#fdca26"
             ],
             [
              1,
              "#f0f921"
             ]
            ],
            "type": "histogram2d"
           }
          ],
          "histogram2dcontour": [
           {
            "colorbar": {
             "outlinewidth": 0,
             "ticks": ""
            },
            "colorscale": [
             [
              0,
              "#0d0887"
             ],
             [
              0.1111111111111111,
              "#46039f"
             ],
             [
              0.2222222222222222,
              "#7201a8"
             ],
             [
              0.3333333333333333,
              "#9c179e"
             ],
             [
              0.4444444444444444,
              "#bd3786"
             ],
             [
              0.5555555555555556,
              "#d8576b"
             ],
             [
              0.6666666666666666,
              "#ed7953"
             ],
             [
              0.7777777777777778,
              "#fb9f3a"
             ],
             [
              0.8888888888888888,
              "#fdca26"
             ],
             [
              1,
              "#f0f921"
             ]
            ],
            "type": "histogram2dcontour"
           }
          ],
          "mesh3d": [
           {
            "colorbar": {
             "outlinewidth": 0,
             "ticks": ""
            },
            "type": "mesh3d"
           }
          ],
          "parcoords": [
           {
            "line": {
             "colorbar": {
              "outlinewidth": 0,
              "ticks": ""
             }
            },
            "type": "parcoords"
           }
          ],
          "pie": [
           {
            "automargin": true,
            "type": "pie"
           }
          ],
          "scatter": [
           {
            "fillpattern": {
             "fillmode": "overlay",
             "size": 10,
             "solidity": 0.2
            },
            "type": "scatter"
           }
          ],
          "scatter3d": [
           {
            "line": {
             "colorbar": {
              "outlinewidth": 0,
              "ticks": ""
             }
            },
            "marker": {
             "colorbar": {
              "outlinewidth": 0,
              "ticks": ""
             }
            },
            "type": "scatter3d"
           }
          ],
          "scattercarpet": [
           {
            "marker": {
             "colorbar": {
              "outlinewidth": 0,
              "ticks": ""
             }
            },
            "type": "scattercarpet"
           }
          ],
          "scattergeo": [
           {
            "marker": {
             "colorbar": {
              "outlinewidth": 0,
              "ticks": ""
             }
            },
            "type": "scattergeo"
           }
          ],
          "scattergl": [
           {
            "marker": {
             "colorbar": {
              "outlinewidth": 0,
              "ticks": ""
             }
            },
            "type": "scattergl"
           }
          ],
          "scattermapbox": [
           {
            "marker": {
             "colorbar": {
              "outlinewidth": 0,
              "ticks": ""
             }
            },
            "type": "scattermapbox"
           }
          ],
          "scatterpolar": [
           {
            "marker": {
             "colorbar": {
              "outlinewidth": 0,
              "ticks": ""
             }
            },
            "type": "scatterpolar"
           }
          ],
          "scatterpolargl": [
           {
            "marker": {
             "colorbar": {
              "outlinewidth": 0,
              "ticks": ""
             }
            },
            "type": "scatterpolargl"
           }
          ],
          "scatterternary": [
           {
            "marker": {
             "colorbar": {
              "outlinewidth": 0,
              "ticks": ""
             }
            },
            "type": "scatterternary"
           }
          ],
          "surface": [
           {
            "colorbar": {
             "outlinewidth": 0,
             "ticks": ""
            },
            "colorscale": [
             [
              0,
              "#0d0887"
             ],
             [
              0.1111111111111111,
              "#46039f"
             ],
             [
              0.2222222222222222,
              "#7201a8"
             ],
             [
              0.3333333333333333,
              "#9c179e"
             ],
             [
              0.4444444444444444,
              "#bd3786"
             ],
             [
              0.5555555555555556,
              "#d8576b"
             ],
             [
              0.6666666666666666,
              "#ed7953"
             ],
             [
              0.7777777777777778,
              "#fb9f3a"
             ],
             [
              0.8888888888888888,
              "#fdca26"
             ],
             [
              1,
              "#f0f921"
             ]
            ],
            "type": "surface"
           }
          ],
          "table": [
           {
            "cells": {
             "fill": {
              "color": "#EBF0F8"
             },
             "line": {
              "color": "white"
             }
            },
            "header": {
             "fill": {
              "color": "#C8D4E3"
             },
             "line": {
              "color": "white"
             }
            },
            "type": "table"
           }
          ]
         },
         "layout": {
          "annotationdefaults": {
           "arrowcolor": "#2a3f5f",
           "arrowhead": 0,
           "arrowwidth": 1
          },
          "autotypenumbers": "strict",
          "coloraxis": {
           "colorbar": {
            "outlinewidth": 0,
            "ticks": ""
           }
          },
          "colorscale": {
           "diverging": [
            [
             0,
             "#8e0152"
            ],
            [
             0.1,
             "#c51b7d"
            ],
            [
             0.2,
             "#de77ae"
            ],
            [
             0.3,
             "#f1b6da"
            ],
            [
             0.4,
             "#fde0ef"
            ],
            [
             0.5,
             "#f7f7f7"
            ],
            [
             0.6,
             "#e6f5d0"
            ],
            [
             0.7,
             "#b8e186"
            ],
            [
             0.8,
             "#7fbc41"
            ],
            [
             0.9,
             "#4d9221"
            ],
            [
             1,
             "#276419"
            ]
           ],
           "sequential": [
            [
             0,
             "#0d0887"
            ],
            [
             0.1111111111111111,
             "#46039f"
            ],
            [
             0.2222222222222222,
             "#7201a8"
            ],
            [
             0.3333333333333333,
             "#9c179e"
            ],
            [
             0.4444444444444444,
             "#bd3786"
            ],
            [
             0.5555555555555556,
             "#d8576b"
            ],
            [
             0.6666666666666666,
             "#ed7953"
            ],
            [
             0.7777777777777778,
             "#fb9f3a"
            ],
            [
             0.8888888888888888,
             "#fdca26"
            ],
            [
             1,
             "#f0f921"
            ]
           ],
           "sequentialminus": [
            [
             0,
             "#0d0887"
            ],
            [
             0.1111111111111111,
             "#46039f"
            ],
            [
             0.2222222222222222,
             "#7201a8"
            ],
            [
             0.3333333333333333,
             "#9c179e"
            ],
            [
             0.4444444444444444,
             "#bd3786"
            ],
            [
             0.5555555555555556,
             "#d8576b"
            ],
            [
             0.6666666666666666,
             "#ed7953"
            ],
            [
             0.7777777777777778,
             "#fb9f3a"
            ],
            [
             0.8888888888888888,
             "#fdca26"
            ],
            [
             1,
             "#f0f921"
            ]
           ]
          },
          "colorway": [
           "#636efa",
           "#EF553B",
           "#00cc96",
           "#ab63fa",
           "#FFA15A",
           "#19d3f3",
           "#FF6692",
           "#B6E880",
           "#FF97FF",
           "#FECB52"
          ],
          "font": {
           "color": "#2a3f5f"
          },
          "geo": {
           "bgcolor": "white",
           "lakecolor": "white",
           "landcolor": "#E5ECF6",
           "showlakes": true,
           "showland": true,
           "subunitcolor": "white"
          },
          "hoverlabel": {
           "align": "left"
          },
          "hovermode": "closest",
          "mapbox": {
           "style": "light"
          },
          "paper_bgcolor": "white",
          "plot_bgcolor": "#E5ECF6",
          "polar": {
           "angularaxis": {
            "gridcolor": "white",
            "linecolor": "white",
            "ticks": ""
           },
           "bgcolor": "#E5ECF6",
           "radialaxis": {
            "gridcolor": "white",
            "linecolor": "white",
            "ticks": ""
           }
          },
          "scene": {
           "xaxis": {
            "backgroundcolor": "#E5ECF6",
            "gridcolor": "white",
            "gridwidth": 2,
            "linecolor": "white",
            "showbackground": true,
            "ticks": "",
            "zerolinecolor": "white"
           },
           "yaxis": {
            "backgroundcolor": "#E5ECF6",
            "gridcolor": "white",
            "gridwidth": 2,
            "linecolor": "white",
            "showbackground": true,
            "ticks": "",
            "zerolinecolor": "white"
           },
           "zaxis": {
            "backgroundcolor": "#E5ECF6",
            "gridcolor": "white",
            "gridwidth": 2,
            "linecolor": "white",
            "showbackground": true,
            "ticks": "",
            "zerolinecolor": "white"
           }
          },
          "shapedefaults": {
           "line": {
            "color": "#2a3f5f"
           }
          },
          "ternary": {
           "aaxis": {
            "gridcolor": "white",
            "linecolor": "white",
            "ticks": ""
           },
           "baxis": {
            "gridcolor": "white",
            "linecolor": "white",
            "ticks": ""
           },
           "bgcolor": "#E5ECF6",
           "caxis": {
            "gridcolor": "white",
            "linecolor": "white",
            "ticks": ""
           }
          },
          "title": {
           "x": 0.05
          },
          "xaxis": {
           "automargin": true,
           "gridcolor": "white",
           "linecolor": "white",
           "ticks": "",
           "title": {
            "standoff": 15
           },
           "zerolinecolor": "white",
           "zerolinewidth": 2
          },
          "yaxis": {
           "automargin": true,
           "gridcolor": "white",
           "linecolor": "white",
           "ticks": "",
           "title": {
            "standoff": 15
           },
           "zerolinecolor": "white",
           "zerolinewidth": 2
          }
         }
        },
        "title": {
         "text": "Scatterplot IHD death rates and Social support",
         "x": 0.5,
         "y": 0.95
        },
        "width": 600,
        "xaxis": {
         "anchor": "y",
         "domain": [
          0,
          1
         ],
         "title": {
          "text": "Ischemic Heart Disease"
         }
        },
        "yaxis": {
         "anchor": "x",
         "domain": [
          0,
          1
         ],
         "title": {
          "text": "Social support"
         }
        }
       }
      }
     },
     "metadata": {},
     "output_type": "display_data"
    },
    {
     "data": {
      "application/vnd.plotly.v1+json": {
       "config": {
        "plotlyServerURL": "https://plot.ly"
       },
       "data": [
        {
         "hovertemplate": "<b>%{hovertext}</b><br><br>Ischemic Heart Disease=%{x}<br>Logged GDP per capita=%{y}<extra></extra>",
         "hovertext": [
          "Afghanistan",
          "Albania",
          "United Arab Emirates",
          "Argentina",
          "Armenia",
          "Australia",
          "Austria",
          "Azerbaijan",
          "Burundi",
          "Belgium",
          "Benin",
          "Burkina Faso",
          "Bangladesh",
          "Bulgaria",
          "Bahrain",
          "Bosnia and Herzegovina",
          "Belarus",
          "Brazil",
          "Botswana",
          "Central African Republic",
          "Canada",
          "Switzerland",
          "Chile",
          "Cameroon",
          "Colombia",
          "Comoros",
          "Costa Rica",
          "Cyprus",
          "Germany",
          "Denmark",
          "Dominican Republic",
          "Algeria",
          "Ecuador",
          "Spain",
          "Estonia",
          "Ethiopia",
          "Finland",
          "France",
          "Gabon",
          "United Kingdom",
          "Georgia",
          "Ghana",
          "Guinea",
          "Gambia",
          "Greece",
          "Guatemala",
          "Honduras",
          "Croatia",
          "Haiti",
          "Hungary",
          "Indonesia",
          "India",
          "Ireland",
          "Iraq",
          "Iceland",
          "Israel",
          "Italy",
          "Jamaica",
          "Jordan",
          "Japan",
          "Kazakhstan",
          "Kenya",
          "Kyrgyzstan",
          "Cambodia",
          "Kuwait",
          "Lebanon",
          "Liberia",
          "Libya",
          "Sri Lanka",
          "Lesotho",
          "Lithuania",
          "Luxembourg",
          "Latvia",
          "Morocco",
          "Madagascar",
          "Maldives",
          "Mexico",
          "Mali",
          "Malta",
          "Myanmar",
          "Montenegro",
          "Mongolia",
          "Mozambique",
          "Mauritania",
          "Mauritius",
          "Malawi",
          "Malaysia",
          "Namibia",
          "Niger",
          "Nigeria",
          "Nicaragua",
          "Netherlands",
          "Norway",
          "Nepal",
          "New Zealand",
          "Pakistan",
          "Panama",
          "Peru",
          "Philippines",
          "Poland",
          "Portugal",
          "Paraguay",
          "Romania",
          "Rwanda",
          "Saudi Arabia",
          "Senegal",
          "Singapore",
          "Sierra Leone",
          "El Salvador",
          "Serbia",
          "South Sudan",
          "Slovakia",
          "Slovenia",
          "Sweden",
          "Chad",
          "Togo",
          "Thailand",
          "Tajikistan",
          "Turkmenistan",
          "Trinidad and Tobago",
          "Tunisia",
          "Turkey",
          "Uganda",
          "Ukraine",
          "Uruguay",
          "Uzbekistan",
          "Yemen",
          "South Africa",
          "Zambia",
          "Zimbabwe",
          "Egypt",
          "China"
         ],
         "legendgroup": "",
         "marker": {
          "color": "#636efa",
          "symbol": "circle"
         },
         "mode": "markers",
         "name": "",
         "orientation": "v",
         "showlegend": false,
         "type": "scatter",
         "x": [
          0.179838083,
          0.173300847,
          0.156872548,
          0.078702551,
          0.198225059,
          0.08148769,
          0.092532788,
          0.228278271,
          0.053175034,
          0.069938826,
          0.053680666,
          0.055825361,
          0.14971722,
          0.17166366,
          0.174308426,
          0.141959703,
          0.2030117,
          0.088641179,
          0.046974311,
          0.043417196,
          0.09065454,
          0.077152232,
          0.068722474,
          0.04592324,
          0.087044567,
          0.064909698,
          0.088896329,
          0.156020621,
          0.091977881,
          0.05920077,
          0.160446304,
          0.219362051,
          0.076873004,
          0.088053439,
          0.091774431,
          0.049216867,
          0.096270079,
          0.057504294,
          0.054179701,
          0.100793704,
          0.162714398,
          0.056500109,
          0.051007457,
          0.064076835,
          0.180655916,
          0.057894517,
          0.081005494,
          0.125202126,
          0.096957022,
          0.135943858,
          0.134798277,
          0.14989065,
          0.101490053,
          0.187718993,
          0.106520109,
          0.067289585,
          0.088498166,
          0.061232126,
          0.177381829,
          0.074844264,
          0.114954415,
          0.034703763,
          0.155967626,
          0.077870834,
          0.297418737,
          0.283547644,
          0.056067781,
          0.193379593,
          0.118869641,
          0.028205829,
          0.136723146,
          0.071885398,
          0.129452534,
          0.232556337,
          0.068841296,
          0.171758723,
          0.081116074,
          0.044685563,
          0.138743495,
          0.074296407,
          0.138848919,
          0.135299299,
          0.033514468,
          0.059453101,
          0.108332629,
          0.044797722,
          0.150764737,
          0.043950508,
          0.051839003,
          0.048129985,
          0.089336821,
          0.070493275,
          0.076863307,
          0.108394074,
          0.098293008,
          0.153878137,
          0.069004033,
          0.060526684,
          0.138698717,
          0.098647527,
          0.071254268,
          0.092071598,
          0.134097292,
          0.042211242,
          0.200012811,
          0.059152147,
          0.143168452,
          0.057906065,
          0.077575788,
          0.128039467,
          0.039444365,
          0.139230717,
          0.07195228,
          0.087553881,
          0.048078671,
          0.062197999,
          0.061612522,
          0.195622617,
          0.203623009,
          0.112233146,
          0.217742047,
          0.159126961,
          0.040224443,
          0.201914435,
          0.066344157,
          0.239302594,
          0.189278911,
          0.034259257,
          0.037536953,
          0.051815546,
          0.270220273,
          0.116200299
         ],
         "xaxis": "x",
         "y": [
          7.462860584,
          9.417930603,
          11.1099987,
          9.810955048,
          9.100476265,
          10.72059631,
          10.7428236,
          9.687726974,
          6.492642403,
          10.6736393,
          7.674319744,
          7.46854496,
          8.287063599,
          9.869318962,
          10.67638016,
          9.455817223,
          9.779945374,
          9.56643486,
          9.711203575,
          6.625160217,
          10.69236851,
          10.97993279,
          10.0320549,
          8.118647575,
          9.500369072,
          7.833630085,
          9.658156395,
          10.40570259,
          10.7328186,
          10.77400112,
          9.664880753,
          9.537964821,
          9.246058464,
          10.46292686,
          10.34001732,
          7.509385586,
          10.63926697,
          10.58422279,
          9.680537224,
          10.60013485,
          9.226100922,
          8.350645065,
          7.750990391,
          7.321814537,
          10.13232613,
          8.924805641,
          8.424534798,
          10.07087517,
          7.411329269,
          10.24924374,
          9.36975193,
          8.849823952,
          11.16097832,
          9.661095619,
          10.77255917,
          10.41752529,
          10.48183632,
          9.006250381,
          9.025999069,
          10.57968903,
          10.11465836,
          8.02977562,
          8.148405075,
          8.249890327,
          11.08982468,
          9.3617239,
          7.054380417,
          9.789815903,
          9.389969826,
          7.960488319,
          10.34362602,
          11.45068073,
          10.17531967,
          8.940313339,
          7.281685829,
          9.518632889,
          9.797797203,
          7.629852295,
          10.53383827,
          8.680481911,
          9.751860619,
          9.412186623,
          7.069345951,
          8.233919144,
          9.956786156,
          7.062226295,
          10.26251888,
          9.203141212,
          6.842166901,
          8.57662487,
          8.493160248,
          10.81271172,
          11.08780384,
          7.925357342,
          10.50094318,
          8.482727051,
          10.03423405,
          9.456313133,
          8.993545532,
          10.26512432,
          10.26374245,
          9.389982224,
          10.107584,
          7.600104332,
          10.79781246,
          8.118982315,
          11.39552116,
          7.26880312,
          8.909075737,
          9.680980682,
          7.425359726,
          10.34774971,
          10.39232254,
          10.75879383,
          7.467963696,
          7.357711315,
          9.741791725,
          8.024810791,
          9.74803257,
          10.26000214,
          9.314972878,
          10.12941933,
          7.500389576,
          9.010690689,
          9.948192596,
          8.740371704,
          7.759682655,
          9.403370857,
          8.224720001,
          7.865711689,
          9.316541672,
          9.688568115
         ],
         "yaxis": "y"
        },
        {
         "hovertemplate": "<b>OLS trendline</b><br>Logged GDP per capita = 2.05059 * log10(Ischemic Heart Disease) + 11.3942<br>R<sup>2</sup>=0.156739<br><br>Ischemic Heart Disease=%{x}<br>Logged GDP per capita=%{y} <b>(trend)</b><extra></extra>",
         "legendgroup": "",
         "marker": {
          "color": "#636efa",
          "symbol": "circle"
         },
         "mode": "lines",
         "name": "",
         "showlegend": false,
         "type": "scatter",
         "x": [
          0.028205829,
          0.033514468,
          0.034259257,
          0.034703763,
          0.037536953,
          0.039444365,
          0.040224443,
          0.042211242,
          0.043417196,
          0.043950508,
          0.044685563,
          0.044797722,
          0.04592324,
          0.046974311,
          0.048078671,
          0.048129985,
          0.049216867,
          0.051007457,
          0.051815546,
          0.051839003,
          0.053175034,
          0.053680666,
          0.054179701,
          0.055825361,
          0.056067781,
          0.056500109,
          0.057504294,
          0.057894517,
          0.057906065,
          0.059152147,
          0.05920077,
          0.059453101,
          0.060526684,
          0.061232126,
          0.061612522,
          0.062197999,
          0.064076835,
          0.064909698,
          0.066344157,
          0.067289585,
          0.068722474,
          0.068841296,
          0.069004033,
          0.069938826,
          0.070493275,
          0.071254268,
          0.071885398,
          0.07195228,
          0.074296407,
          0.074844264,
          0.076863307,
          0.076873004,
          0.077152232,
          0.077575788,
          0.077870834,
          0.078702551,
          0.081005494,
          0.081116074,
          0.08148769,
          0.087044567,
          0.087553881,
          0.088053439,
          0.088498166,
          0.088641179,
          0.088896329,
          0.089336821,
          0.09065454,
          0.091774431,
          0.091977881,
          0.092071598,
          0.092532788,
          0.096270079,
          0.096957022,
          0.098293008,
          0.098647527,
          0.100793704,
          0.101490053,
          0.106520109,
          0.108332629,
          0.108394074,
          0.112233146,
          0.114954415,
          0.116200299,
          0.118869641,
          0.125202126,
          0.128039467,
          0.129452534,
          0.134097292,
          0.134798277,
          0.135299299,
          0.135943858,
          0.136723146,
          0.138698717,
          0.138743495,
          0.138848919,
          0.139230717,
          0.141959703,
          0.143168452,
          0.14971722,
          0.14989065,
          0.150764737,
          0.153878137,
          0.155967626,
          0.156020621,
          0.156872548,
          0.159126961,
          0.160446304,
          0.162714398,
          0.17166366,
          0.171758723,
          0.173300847,
          0.174308426,
          0.177381829,
          0.179838083,
          0.180655916,
          0.187718993,
          0.189278911,
          0.193379593,
          0.195622617,
          0.198225059,
          0.200012811,
          0.201914435,
          0.2030117,
          0.203623009,
          0.217742047,
          0.219362051,
          0.228278271,
          0.232556337,
          0.239302594,
          0.270220273,
          0.283547644,
          0.297418737
         ],
         "xaxis": "x",
         "y": [
          8.21651492561626,
          8.370090543911243,
          8.38966465543059,
          8.401145135456337,
          8.471034187247668,
          8.515175042566357,
          8.532615435580933,
          8.575550831217395,
          8.60063698693117,
          8.611509464100978,
          8.626280534659378,
          8.628513001998991,
          8.650611347459886,
          8.670764314680337,
          8.69145891968357,
          8.692408899635863,
          8.71229598824038,
          8.744120511729946,
          8.758118658092537,
          8.75852172466841,
          8.781183049251617,
          8.789611209340794,
          8.79785192422275,
          8.824499181878393,
          8.828358035762655,
          8.83519862717027,
          8.850887654311666,
          8.856910557212574,
          8.857088175922588,
          8.876048851977052,
          8.876780589770021,
          8.880568346070358,
          8.896506272395952,
          8.906825767620425,
          8.91234112636815,
          8.920763765659846,
          8.947266872990733,
          8.958767669310626,
          8.97823408713109,
          8.990835297262581,
          9.009600094598964,
          9.011138552348633,
          9.01324129987243,
          9.025224655569495,
          9.032256838259888,
          9.0418191296068,
          9.049672468091623,
          9.050500656783491,
          9.079051506230446,
          9.085594337986127,
          9.109300248120661,
          9.10941259308677,
          9.112641535023814,
          9.1175172199379,
          9.120897881073352,
          9.13035925920107,
          9.156044235886425,
          9.157259102324875,
          9.161329691215435,
          9.220078339887696,
          9.225273980994091,
          9.230340820543212,
          9.234827400609786,
          9.236265381961317,
          9.238825137132965,
          9.243227066848478,
          9.25626688645433,
          9.267200911856753,
          9.269172961014773,
          9.270079896720032,
          9.27452960405188,
          9.309790856983676,
          9.316122948324292,
          9.328310325524397,
          9.33151657674956,
          9.35068383664544,
          9.356815246360876,
          9.399894246903376,
          9.41492029916028,
          9.415425270596646,
          9.44642112982994,
          9.46775650939524,
          9.477356520525237,
          9.49758291479175,
          9.54380470676928,
          9.563761343298122,
          9.5735358770117,
          9.604929251779414,
          9.609572466204218,
          9.612876384392989,
          9.617108888428794,
          9.622199374600608,
          9.634975358511769,
          9.635262823418634,
          9.635939256119412,
          9.638384698377726,
          9.6556711995587,
          9.663221970620045,
          9.703053460014,
          9.704084472043661,
          9.709262681006482,
          9.72746604674489,
          9.739477451117072,
          9.739779995673915,
          9.74462953014725,
          9.757336649750652,
          9.764689952073773,
          9.777190881834589,
          9.824871936913635,
          9.825364969479539,
          9.83332511097969,
          9.83848786754101,
          9.854053361572529,
          9.86630057080587,
          9.870341302490896,
          9.904495949743852,
          9.911865788555808,
          9.93095350721397,
          9.941223717643744,
          9.952993048453049,
          9.960988818776302,
          9.96941582122689,
          9.9742422895301,
          9.97691991202646,
          10.036623699856687,
          10.04322494520218,
          10.078706422758211,
          10.095241550225051,
          10.12070826787192,
          10.228918856891303,
          10.271792781846475,
          10.314326652274369
         ],
         "yaxis": "y"
        }
       ],
       "layout": {
        "height": 300,
        "legend": {
         "tracegroupgap": 0
        },
        "margin": {
         "t": 60
        },
        "template": {
         "data": {
          "bar": [
           {
            "error_x": {
             "color": "#2a3f5f"
            },
            "error_y": {
             "color": "#2a3f5f"
            },
            "marker": {
             "line": {
              "color": "#E5ECF6",
              "width": 0.5
             },
             "pattern": {
              "fillmode": "overlay",
              "size": 10,
              "solidity": 0.2
             }
            },
            "type": "bar"
           }
          ],
          "barpolar": [
           {
            "marker": {
             "line": {
              "color": "#E5ECF6",
              "width": 0.5
             },
             "pattern": {
              "fillmode": "overlay",
              "size": 10,
              "solidity": 0.2
             }
            },
            "type": "barpolar"
           }
          ],
          "carpet": [
           {
            "aaxis": {
             "endlinecolor": "#2a3f5f",
             "gridcolor": "white",
             "linecolor": "white",
             "minorgridcolor": "white",
             "startlinecolor": "#2a3f5f"
            },
            "baxis": {
             "endlinecolor": "#2a3f5f",
             "gridcolor": "white",
             "linecolor": "white",
             "minorgridcolor": "white",
             "startlinecolor": "#2a3f5f"
            },
            "type": "carpet"
           }
          ],
          "choropleth": [
           {
            "colorbar": {
             "outlinewidth": 0,
             "ticks": ""
            },
            "type": "choropleth"
           }
          ],
          "contour": [
           {
            "colorbar": {
             "outlinewidth": 0,
             "ticks": ""
            },
            "colorscale": [
             [
              0,
              "#0d0887"
             ],
             [
              0.1111111111111111,
              "#46039f"
             ],
             [
              0.2222222222222222,
              "#7201a8"
             ],
             [
              0.3333333333333333,
              "#9c179e"
             ],
             [
              0.4444444444444444,
              "#bd3786"
             ],
             [
              0.5555555555555556,
              "#d8576b"
             ],
             [
              0.6666666666666666,
              "#ed7953"
             ],
             [
              0.7777777777777778,
              "#fb9f3a"
             ],
             [
              0.8888888888888888,
              "#fdca26"
             ],
             [
              1,
              "#f0f921"
             ]
            ],
            "type": "contour"
           }
          ],
          "contourcarpet": [
           {
            "colorbar": {
             "outlinewidth": 0,
             "ticks": ""
            },
            "type": "contourcarpet"
           }
          ],
          "heatmap": [
           {
            "colorbar": {
             "outlinewidth": 0,
             "ticks": ""
            },
            "colorscale": [
             [
              0,
              "#0d0887"
             ],
             [
              0.1111111111111111,
              "#46039f"
             ],
             [
              0.2222222222222222,
              "#7201a8"
             ],
             [
              0.3333333333333333,
              "#9c179e"
             ],
             [
              0.4444444444444444,
              "#bd3786"
             ],
             [
              0.5555555555555556,
              "#d8576b"
             ],
             [
              0.6666666666666666,
              "#ed7953"
             ],
             [
              0.7777777777777778,
              "#fb9f3a"
             ],
             [
              0.8888888888888888,
              "#fdca26"
             ],
             [
              1,
              "#f0f921"
             ]
            ],
            "type": "heatmap"
           }
          ],
          "heatmapgl": [
           {
            "colorbar": {
             "outlinewidth": 0,
             "ticks": ""
            },
            "colorscale": [
             [
              0,
              "#0d0887"
             ],
             [
              0.1111111111111111,
              "#46039f"
             ],
             [
              0.2222222222222222,
              "#7201a8"
             ],
             [
              0.3333333333333333,
              "#9c179e"
             ],
             [
              0.4444444444444444,
              "#bd3786"
             ],
             [
              0.5555555555555556,
              "#d8576b"
             ],
             [
              0.6666666666666666,
              "#ed7953"
             ],
             [
              0.7777777777777778,
              "#fb9f3a"
             ],
             [
              0.8888888888888888,
              "#fdca26"
             ],
             [
              1,
              "#f0f921"
             ]
            ],
            "type": "heatmapgl"
           }
          ],
          "histogram": [
           {
            "marker": {
             "pattern": {
              "fillmode": "overlay",
              "size": 10,
              "solidity": 0.2
             }
            },
            "type": "histogram"
           }
          ],
          "histogram2d": [
           {
            "colorbar": {
             "outlinewidth": 0,
             "ticks": ""
            },
            "colorscale": [
             [
              0,
              "#0d0887"
             ],
             [
              0.1111111111111111,
              "#46039f"
             ],
             [
              0.2222222222222222,
              "#7201a8"
             ],
             [
              0.3333333333333333,
              "#9c179e"
             ],
             [
              0.4444444444444444,
              "#bd3786"
             ],
             [
              0.5555555555555556,
              "#d8576b"
             ],
             [
              0.6666666666666666,
              "#ed7953"
             ],
             [
              0.7777777777777778,
              "#fb9f3a"
             ],
             [
              0.8888888888888888,
              "#fdca26"
             ],
             [
              1,
              "#f0f921"
             ]
            ],
            "type": "histogram2d"
           }
          ],
          "histogram2dcontour": [
           {
            "colorbar": {
             "outlinewidth": 0,
             "ticks": ""
            },
            "colorscale": [
             [
              0,
              "#0d0887"
             ],
             [
              0.1111111111111111,
              "#46039f"
             ],
             [
              0.2222222222222222,
              "#7201a8"
             ],
             [
              0.3333333333333333,
              "#9c179e"
             ],
             [
              0.4444444444444444,
              "#bd3786"
             ],
             [
              0.5555555555555556,
              "#d8576b"
             ],
             [
              0.6666666666666666,
              "#ed7953"
             ],
             [
              0.7777777777777778,
              "#fb9f3a"
             ],
             [
              0.8888888888888888,
              "#fdca26"
             ],
             [
              1,
              "#f0f921"
             ]
            ],
            "type": "histogram2dcontour"
           }
          ],
          "mesh3d": [
           {
            "colorbar": {
             "outlinewidth": 0,
             "ticks": ""
            },
            "type": "mesh3d"
           }
          ],
          "parcoords": [
           {
            "line": {
             "colorbar": {
              "outlinewidth": 0,
              "ticks": ""
             }
            },
            "type": "parcoords"
           }
          ],
          "pie": [
           {
            "automargin": true,
            "type": "pie"
           }
          ],
          "scatter": [
           {
            "fillpattern": {
             "fillmode": "overlay",
             "size": 10,
             "solidity": 0.2
            },
            "type": "scatter"
           }
          ],
          "scatter3d": [
           {
            "line": {
             "colorbar": {
              "outlinewidth": 0,
              "ticks": ""
             }
            },
            "marker": {
             "colorbar": {
              "outlinewidth": 0,
              "ticks": ""
             }
            },
            "type": "scatter3d"
           }
          ],
          "scattercarpet": [
           {
            "marker": {
             "colorbar": {
              "outlinewidth": 0,
              "ticks": ""
             }
            },
            "type": "scattercarpet"
           }
          ],
          "scattergeo": [
           {
            "marker": {
             "colorbar": {
              "outlinewidth": 0,
              "ticks": ""
             }
            },
            "type": "scattergeo"
           }
          ],
          "scattergl": [
           {
            "marker": {
             "colorbar": {
              "outlinewidth": 0,
              "ticks": ""
             }
            },
            "type": "scattergl"
           }
          ],
          "scattermapbox": [
           {
            "marker": {
             "colorbar": {
              "outlinewidth": 0,
              "ticks": ""
             }
            },
            "type": "scattermapbox"
           }
          ],
          "scatterpolar": [
           {
            "marker": {
             "colorbar": {
              "outlinewidth": 0,
              "ticks": ""
             }
            },
            "type": "scatterpolar"
           }
          ],
          "scatterpolargl": [
           {
            "marker": {
             "colorbar": {
              "outlinewidth": 0,
              "ticks": ""
             }
            },
            "type": "scatterpolargl"
           }
          ],
          "scatterternary": [
           {
            "marker": {
             "colorbar": {
              "outlinewidth": 0,
              "ticks": ""
             }
            },
            "type": "scatterternary"
           }
          ],
          "surface": [
           {
            "colorbar": {
             "outlinewidth": 0,
             "ticks": ""
            },
            "colorscale": [
             [
              0,
              "#0d0887"
             ],
             [
              0.1111111111111111,
              "#46039f"
             ],
             [
              0.2222222222222222,
              "#7201a8"
             ],
             [
              0.3333333333333333,
              "#9c179e"
             ],
             [
              0.4444444444444444,
              "#bd3786"
             ],
             [
              0.5555555555555556,
              "#d8576b"
             ],
             [
              0.6666666666666666,
              "#ed7953"
             ],
             [
              0.7777777777777778,
              "#fb9f3a"
             ],
             [
              0.8888888888888888,
              "#fdca26"
             ],
             [
              1,
              "#f0f921"
             ]
            ],
            "type": "surface"
           }
          ],
          "table": [
           {
            "cells": {
             "fill": {
              "color": "#EBF0F8"
             },
             "line": {
              "color": "white"
             }
            },
            "header": {
             "fill": {
              "color": "#C8D4E3"
             },
             "line": {
              "color": "white"
             }
            },
            "type": "table"
           }
          ]
         },
         "layout": {
          "annotationdefaults": {
           "arrowcolor": "#2a3f5f",
           "arrowhead": 0,
           "arrowwidth": 1
          },
          "autotypenumbers": "strict",
          "coloraxis": {
           "colorbar": {
            "outlinewidth": 0,
            "ticks": ""
           }
          },
          "colorscale": {
           "diverging": [
            [
             0,
             "#8e0152"
            ],
            [
             0.1,
             "#c51b7d"
            ],
            [
             0.2,
             "#de77ae"
            ],
            [
             0.3,
             "#f1b6da"
            ],
            [
             0.4,
             "#fde0ef"
            ],
            [
             0.5,
             "#f7f7f7"
            ],
            [
             0.6,
             "#e6f5d0"
            ],
            [
             0.7,
             "#b8e186"
            ],
            [
             0.8,
             "#7fbc41"
            ],
            [
             0.9,
             "#4d9221"
            ],
            [
             1,
             "#276419"
            ]
           ],
           "sequential": [
            [
             0,
             "#0d0887"
            ],
            [
             0.1111111111111111,
             "#46039f"
            ],
            [
             0.2222222222222222,
             "#7201a8"
            ],
            [
             0.3333333333333333,
             "#9c179e"
            ],
            [
             0.4444444444444444,
             "#bd3786"
            ],
            [
             0.5555555555555556,
             "#d8576b"
            ],
            [
             0.6666666666666666,
             "#ed7953"
            ],
            [
             0.7777777777777778,
             "#fb9f3a"
            ],
            [
             0.8888888888888888,
             "#fdca26"
            ],
            [
             1,
             "#f0f921"
            ]
           ],
           "sequentialminus": [
            [
             0,
             "#0d0887"
            ],
            [
             0.1111111111111111,
             "#46039f"
            ],
            [
             0.2222222222222222,
             "#7201a8"
            ],
            [
             0.3333333333333333,
             "#9c179e"
            ],
            [
             0.4444444444444444,
             "#bd3786"
            ],
            [
             0.5555555555555556,
             "#d8576b"
            ],
            [
             0.6666666666666666,
             "#ed7953"
            ],
            [
             0.7777777777777778,
             "#fb9f3a"
            ],
            [
             0.8888888888888888,
             "#fdca26"
            ],
            [
             1,
             "#f0f921"
            ]
           ]
          },
          "colorway": [
           "#636efa",
           "#EF553B",
           "#00cc96",
           "#ab63fa",
           "#FFA15A",
           "#19d3f3",
           "#FF6692",
           "#B6E880",
           "#FF97FF",
           "#FECB52"
          ],
          "font": {
           "color": "#2a3f5f"
          },
          "geo": {
           "bgcolor": "white",
           "lakecolor": "white",
           "landcolor": "#E5ECF6",
           "showlakes": true,
           "showland": true,
           "subunitcolor": "white"
          },
          "hoverlabel": {
           "align": "left"
          },
          "hovermode": "closest",
          "mapbox": {
           "style": "light"
          },
          "paper_bgcolor": "white",
          "plot_bgcolor": "#E5ECF6",
          "polar": {
           "angularaxis": {
            "gridcolor": "white",
            "linecolor": "white",
            "ticks": ""
           },
           "bgcolor": "#E5ECF6",
           "radialaxis": {
            "gridcolor": "white",
            "linecolor": "white",
            "ticks": ""
           }
          },
          "scene": {
           "xaxis": {
            "backgroundcolor": "#E5ECF6",
            "gridcolor": "white",
            "gridwidth": 2,
            "linecolor": "white",
            "showbackground": true,
            "ticks": "",
            "zerolinecolor": "white"
           },
           "yaxis": {
            "backgroundcolor": "#E5ECF6",
            "gridcolor": "white",
            "gridwidth": 2,
            "linecolor": "white",
            "showbackground": true,
            "ticks": "",
            "zerolinecolor": "white"
           },
           "zaxis": {
            "backgroundcolor": "#E5ECF6",
            "gridcolor": "white",
            "gridwidth": 2,
            "linecolor": "white",
            "showbackground": true,
            "ticks": "",
            "zerolinecolor": "white"
           }
          },
          "shapedefaults": {
           "line": {
            "color": "#2a3f5f"
           }
          },
          "ternary": {
           "aaxis": {
            "gridcolor": "white",
            "linecolor": "white",
            "ticks": ""
           },
           "baxis": {
            "gridcolor": "white",
            "linecolor": "white",
            "ticks": ""
           },
           "bgcolor": "#E5ECF6",
           "caxis": {
            "gridcolor": "white",
            "linecolor": "white",
            "ticks": ""
           }
          },
          "title": {
           "x": 0.05
          },
          "xaxis": {
           "automargin": true,
           "gridcolor": "white",
           "linecolor": "white",
           "ticks": "",
           "title": {
            "standoff": 15
           },
           "zerolinecolor": "white",
           "zerolinewidth": 2
          },
          "yaxis": {
           "automargin": true,
           "gridcolor": "white",
           "linecolor": "white",
           "ticks": "",
           "title": {
            "standoff": 15
           },
           "zerolinecolor": "white",
           "zerolinewidth": 2
          }
         }
        },
        "title": {
         "text": "Scatterplot IHD death rates and Logged GDP per capita",
         "x": 0.5,
         "y": 0.95
        },
        "width": 600,
        "xaxis": {
         "anchor": "y",
         "domain": [
          0,
          1
         ],
         "title": {
          "text": "Ischemic Heart Disease"
         }
        },
        "yaxis": {
         "anchor": "x",
         "domain": [
          0,
          1
         ],
         "title": {
          "text": "Logged GDP per capita"
         }
        }
       }
      }
     },
     "metadata": {},
     "output_type": "display_data"
    }
   ],
   "source": [
    "variables = [\"Freedom to make life choices\", \"Healthy life expectancy\", \"Social support\", \"Logged GDP per capita\"]\n",
    "\n",
    "# Store the figure objects\n",
    "figs = []\n",
    "\n",
    "# Iterate over each variable and create the scatter plot\n",
    "for variable in variables:\n",
    "    figAnalysis3 = px.scatter(GBDWHR_df, x=\"Ischemic Heart Disease\", y=variable, hover_name=\"Location\", trendline=\"ols\", trendline_options=dict(log_x=True))\n",
    "    figAnalysis3.update_layout(\n",
    "        title=f\"Scatterplot IHD death rates and {variable}\",\n",
    "        xaxis_title=\"Ischemic Heart Disease\",\n",
    "        yaxis_title=variable,\n",
    "        title_x=0.5,  # Center the title horizontally\n",
    "        title_y=.95,\n",
    "        width=600,   # Set the width of the plot\n",
    "        height=300   # Set the height of the plot\n",
    "    )\n",
    "    figs.append(figAnalysis3)\n",
    "\n",
    "# Show the plots\n",
    "for figAnalysis3 in figs:\n",
    "    figAnalysis3.show()"
   ]
  },
  {
   "cell_type": "code",
   "execution_count": 238,
   "id": "ba8e727f",
   "metadata": {},
   "outputs": [
    {
     "data": {
      "application/vnd.plotly.v1+json": {
       "config": {
        "plotlyServerURL": "https://plot.ly"
       },
       "data": [
        {
         "hoverinfo": "text",
         "mode": "markers",
         "text": [
          "Freedom to make life choices: 0.396573007<br>Location: Afghanistan",
          "Freedom to make life choices: 0.781994224<br>Location: Albania",
          "Freedom to make life choices: 0.941345513<br>Location: United Arab Emirates",
          "Freedom to make life choices: 0.831132412<br>Location: Argentina",
          "Freedom to make life choices: 0.712017834<br>Location: Armenia",
          "Freedom to make life choices: 0.915431738<br>Location: Australia",
          "Freedom to make life choices: 0.899989486<br>Location: Austria",
          "Freedom to make life choices: 0.786824107<br>Location: Azerbaijan",
          "Freedom to make life choices: 0.626350224<br>Location: Burundi",
          "Freedom to make life choices: 0.813582063<br>Location: Belgium",
          "Freedom to make life choices: 0.735182583<br>Location: Benin",
          "Freedom to make life choices: 0.665563583<br>Location: Burkina Faso",
          "Freedom to make life choices: 0.90062499<br>Location: Bangladesh",
          "Freedom to make life choices: 0.745178163<br>Location: Bulgaria",
          "Freedom to make life choices: 0.905855775<br>Location: Bahrain",
          "Freedom to make life choices: 0.651352704<br>Location: Bosnia and Herzegovina",
          "Freedom to make life choices: 0.639163077<br>Location: Belarus",
          "Freedom to make life choices: 0.799804807<br>Location: Brazil",
          "Freedom to make life choices: 0.821328104<br>Location: Botswana",
          "Freedom to make life choices: 0.640880644<br>Location: Central African Republic",
          "Freedom to make life choices: 0.933913231<br>Location: Canada",
          "Freedom to make life choices: 0.921336651<br>Location: Switzerland",
          "Freedom to make life choices: 0.744896293<br>Location: Chile",
          "Freedom to make life choices: 0.763051808<br>Location: Cameroon",
          "Freedom to make life choices: 0.836179912<br>Location: Colombia",
          "Freedom to make life choices: 0.547612607<br>Location: Comoros",
          "Freedom to make life choices: 0.934738934<br>Location: Costa Rica",
          "Freedom to make life choices: 0.779858291<br>Location: Cyprus",
          "Freedom to make life choices: 0.867371082<br>Location: Germany",
          "Freedom to make life choices: 0.951444268<br>Location: Denmark",
          "Freedom to make life choices: 0.866202772<br>Location: Dominican Republic",
          "Freedom to make life choices: 0.466610909<br>Location: Algeria",
          "Freedom to make life choices: 0.859828949<br>Location: Ecuador",
          "Freedom to make life choices: 0.751989543<br>Location: Spain",
          "Freedom to make life choices: 0.87770915<br>Location: Estonia",
          "Freedom to make life choices: 0.740795195<br>Location: Ethiopia",
          "Freedom to make life choices: 0.949172199<br>Location: Finland",
          "Freedom to make life choices: 0.825467646<br>Location: France",
          "Freedom to make life choices: 0.704829216<br>Location: Gabon",
          "Freedom to make life choices: 0.834743679<br>Location: United Kingdom",
          "Freedom to make life choices: 0.801641524<br>Location: Georgia",
          "Freedom to make life choices: 0.794796526<br>Location: Ghana",
          "Freedom to make life choices: 0.706846774<br>Location: Guinea",
          "Freedom to make life choices: 0.733163178<br>Location: Gambia",
          "Freedom to make life choices: 0.541345119<br>Location: Greece",
          "Freedom to make life choices: 0.908147573<br>Location: Guatemala",
          "Freedom to make life choices: 0.870603263<br>Location: Honduras",
          "Freedom to make life choices: 0.714838803<br>Location: Croatia",
          "Freedom to make life choices: 0.537825167<br>Location: Haiti",
          "Freedom to make life choices: 0.718964577<br>Location: Hungary",
          "Freedom to make life choices: 0.870614409<br>Location: Indonesia",
          "Freedom to make life choices: 0.881444871<br>Location: India",
          "Freedom to make life choices: 0.886982977<br>Location: Ireland",
          "Freedom to make life choices: 0.633182645<br>Location: Iraq",
          "Freedom to make life choices: 0.948891878<br>Location: Iceland",
          "Freedom to make life choices: 0.747580588<br>Location: Israel",
          "Freedom to make life choices: 0.66465199<br>Location: Italy",
          "Freedom to make life choices: 0.858068526<br>Location: Jamaica",
          "Freedom to make life choices: 0.75104779<br>Location: Jordan",
          "Freedom to make life choices: 0.809961379<br>Location: Japan",
          "Freedom to make life choices: 0.811601937<br>Location: Kazakhstan",
          "Freedom to make life choices: 0.829747558<br>Location: Kenya",
          "Freedom to make life choices: 0.909374893<br>Location: Kyrgyzstan",
          "Freedom to make life choices: 0.959704638<br>Location: Cambodia",
          "Freedom to make life choices: 0.872366488<br>Location: Kuwait",
          "Freedom to make life choices: 0.551357508<br>Location: Lebanon",
          "Freedom to make life choices: 0.735268712<br>Location: Liberia",
          "Freedom to make life choices: 0.773157001<br>Location: Libya",
          "Freedom to make life choices: 0.837633669<br>Location: Sri Lanka",
          "Freedom to make life choices: 0.738125861<br>Location: Lesotho",
          "Freedom to make life choices: 0.747381449<br>Location: Lithuania",
          "Freedom to make life choices: 0.90563643<br>Location: Luxembourg",
          "Freedom to make life choices: 0.671237648<br>Location: Latvia",
          "Freedom to make life choices: 0.772072434<br>Location: Morocco",
          "Freedom to make life choices: 0.557574093<br>Location: Madagascar",
          "Freedom to make life choices: 0.853962779<br>Location: Maldives",
          "Freedom to make life choices: 0.858709276<br>Location: Mexico",
          "Freedom to make life choices: 0.71156615<br>Location: Mali",
          "Freedom to make life choices: 0.924911439<br>Location: Malta",
          "Freedom to make life choices: 0.895075202<br>Location: Myanmar",
          "Freedom to make life choices: 0.649565637<br>Location: Montenegro",
          "Freedom to make life choices: 0.693351328<br>Location: Mongolia",
          "Freedom to make life choices: 0.864451885<br>Location: Mozambique",
          "Freedom to make life choices: 0.551522553<br>Location: Mauritania",
          "Freedom to make life choices: 0.889534533<br>Location: Mauritius",
          "Freedom to make life choices: 0.803223193<br>Location: Malawi",
          "Freedom to make life choices: 0.894626856<br>Location: Malaysia",
          "Freedom to make life choices: 0.767520964<br>Location: Namibia",
          "Freedom to make life choices: 0.759772122<br>Location: Niger",
          "Freedom to make life choices: 0.759578407<br>Location: Nigeria",
          "Freedom to make life choices: 0.863902867<br>Location: Nicaragua",
          "Freedom to make life choices: 0.908547819<br>Location: Netherlands",
          "Freedom to make life choices: 0.955750287<br>Location: Norway",
          "Freedom to make life choices: 0.797565043<br>Location: Nepal",
          "Freedom to make life choices: 0.936217487<br>Location: New Zealand",
          "Freedom to make life choices: 0.734833717<br>Location: Pakistan",
          "Freedom to make life choices: 0.880366504<br>Location: Panama",
          "Freedom to make life choices: 0.824766099<br>Location: Peru",
          "Freedom to make life choices: 0.915463448<br>Location: Philippines",
          "Freedom to make life choices: 0.862055779<br>Location: Poland",
          "Freedom to make life choices: 0.888747811<br>Location: Portugal",
          "Freedom to make life choices: 0.885923445<br>Location: Paraguay",
          "Freedom to make life choices: 0.842823207<br>Location: Romania",
          "Freedom to make life choices: 0.900589406<br>Location: Rwanda",
          "Freedom to make life choices: 0.854191244<br>Location: Saudi Arabia",
          "Freedom to make life choices: 0.690596163<br>Location: Senegal",
          "Freedom to make life choices: 0.926645339<br>Location: Singapore",
          "Freedom to make life choices: 0.715315044<br>Location: Sierra Leone",
          "Freedom to make life choices: 0.833805263<br>Location: El Salvador",
          "Freedom to make life choices: 0.726495862<br>Location: Serbia",
          "Freedom to make life choices: 0.451313615<br>Location: South Sudan",
          "Freedom to make life choices: 0.749952674<br>Location: Slovakia",
          "Freedom to make life choices: 0.936142623<br>Location: Slovenia",
          "Freedom to make life choices: 0.939144194<br>Location: Sweden",
          "Freedom to make life choices: 0.587305248<br>Location: Chad",
          "Freedom to make life choices: 0.649828613<br>Location: Togo",
          "Freedom to make life choices: 0.905063033<br>Location: Thailand",
          "Freedom to make life choices: 0.831383407<br>Location: Tajikistan",
          "Freedom to make life choices: 0.826457024<br>Location: Turkmenistan",
          "Freedom to make life choices: 0.857907116<br>Location: Trinidad and Tobago",
          "Freedom to make life choices: 0.593361557<br>Location: Tunisia",
          "Freedom to make life choices: 0.608830452<br>Location: Turkey",
          "Freedom to make life choices: 0.731713951<br>Location: Uganda",
          "Freedom to make life choices: 0.663081884<br>Location: Ukraine",
          "Freedom to make life choices: 0.892395437<br>Location: Uruguay",
          "Freedom to make life choices: 0.974998116<br>Location: Uzbekistan",
          "Freedom to make life choices: 0.599920273<br>Location: Yemen",
          "Freedom to make life choices: 0.759330094<br>Location: South Africa",
          "Freedom to make life choices: 0.806500256<br>Location: Zambia",
          "Freedom to make life choices: 0.711457908<br>Location: Zimbabwe",
          "Freedom to make life choices: 0.708354175<br>Location: Egypt",
          "Freedom to make life choices: 0.898517907<br>Location: China"
         ],
         "type": "scatter",
         "x": [
          0.066641327,
          0.06838024,
          0.15266505,
          0.079143662,
          0.048349224,
          0.059117539,
          0.050365923,
          0.038269098,
          0.041683861,
          0.06704812,
          0.042746516,
          0.055095026,
          0.028538244,
          0.037427134,
          0.097386102,
          0.033934445,
          0.037829355,
          0.086101656,
          0.034871225,
          0.071011947,
          0.055790023,
          0.0403709,
          0.083013317,
          0.050995562,
          0.080120402,
          0.055547256,
          0.107248144,
          0.098016312,
          0.045764327,
          0.044368224,
          0.096074618,
          0.162422905,
          0.127797705,
          0.050841039,
          0.028575966,
          0.031542352,
          0.034215758,
          0.05991004,
          0.083831834,
          0.034596084,
          0.075373431,
          0.051857603,
          0.035918195,
          0.030919251,
          0.09551369,
          0.056673057,
          0.051319469,
          0.064738773,
          0.02414776,
          0.03861593,
          0.055434579,
          0.057327416,
          0.034484986,
          0.068001274,
          0.037279889,
          0.068584453,
          0.073457327,
          0.028279817,
          0.099227476,
          0.033480451,
          0.053265494,
          0.022197937,
          0.076460344,
          0.067473322,
          0.123313694,
          0.05591117,
          0.027606643,
          0.138825952,
          0.06817149,
          0.036598253,
          0.032398383,
          0.061344137,
          0.036885324,
          0.122015526,
          0.031369023,
          0.041648061,
          0.070708359,
          0.028074999,
          0.03944543,
          0.03934312,
          0.051872551,
          0.054430782,
          0.026381939,
          0.092365235,
          0.050007614,
          0.028665512,
          0.120740453,
          0.050670244,
          0.034689248,
          0.022349721,
          0.068153456,
          0.039203014,
          0.037167955,
          0.034854646,
          0.071656423,
          0.028217442,
          0.076776355,
          0.087529891,
          0.039167153,
          0.053927231,
          0.058203554,
          0.123117025,
          0.046773143,
          0.059316307,
          0.238398398,
          0.04000284,
          0.037088719,
          0.038518187,
          0.065789602,
          0.045687711,
          0.024784755,
          0.044599815,
          0.055031062,
          0.036868105,
          0.035160523,
          0.050252846,
          0.107271644,
          0.039688764,
          0.021090614,
          0.048669873,
          0.13262982,
          0.074540364,
          0.039954147,
          0.03719242,
          0.080525145,
          0.055737907,
          0.121016778,
          0.055650828,
          0.026893337,
          0.030762777,
          0.130130931,
          0.097773854
         ],
         "xaxis": "x",
         "y": [
          0.396573007,
          0.781994224,
          0.941345513,
          0.831132412,
          0.712017834,
          0.915431738,
          0.899989486,
          0.786824107,
          0.626350224,
          0.813582063,
          0.735182583,
          0.665563583,
          0.90062499,
          0.745178163,
          0.905855775,
          0.651352704,
          0.639163077,
          0.799804807,
          0.821328104,
          0.640880644,
          0.933913231,
          0.921336651,
          0.744896293,
          0.763051808,
          0.836179912,
          0.547612607,
          0.934738934,
          0.779858291,
          0.867371082,
          0.951444268,
          0.866202772,
          0.466610909,
          0.859828949,
          0.751989543,
          0.87770915,
          0.740795195,
          0.949172199,
          0.825467646,
          0.704829216,
          0.834743679,
          0.801641524,
          0.794796526,
          0.706846774,
          0.733163178,
          0.541345119,
          0.908147573,
          0.870603263,
          0.714838803,
          0.537825167,
          0.718964577,
          0.870614409,
          0.881444871,
          0.886982977,
          0.633182645,
          0.948891878,
          0.747580588,
          0.66465199,
          0.858068526,
          0.75104779,
          0.809961379,
          0.811601937,
          0.829747558,
          0.909374893,
          0.959704638,
          0.872366488,
          0.551357508,
          0.735268712,
          0.773157001,
          0.837633669,
          0.738125861,
          0.747381449,
          0.90563643,
          0.671237648,
          0.772072434,
          0.557574093,
          0.853962779,
          0.858709276,
          0.71156615,
          0.924911439,
          0.895075202,
          0.649565637,
          0.693351328,
          0.864451885,
          0.551522553,
          0.889534533,
          0.803223193,
          0.894626856,
          0.767520964,
          0.759772122,
          0.759578407,
          0.863902867,
          0.908547819,
          0.955750287,
          0.797565043,
          0.936217487,
          0.734833717,
          0.880366504,
          0.824766099,
          0.915463448,
          0.862055779,
          0.888747811,
          0.885923445,
          0.842823207,
          0.900589406,
          0.854191244,
          0.690596163,
          0.926645339,
          0.715315044,
          0.833805263,
          0.726495862,
          0.451313615,
          0.749952674,
          0.936142623,
          0.939144194,
          0.587305248,
          0.649828613,
          0.905063033,
          0.831383407,
          0.826457024,
          0.857907116,
          0.593361557,
          0.608830452,
          0.731713951,
          0.663081884,
          0.892395437,
          0.974998116,
          0.599920273,
          0.759330094,
          0.806500256,
          0.711457908,
          0.708354175,
          0.898517907
         ],
         "yaxis": "y"
        },
        {
         "hoverinfo": "text",
         "mode": "markers",
         "text": [
          "Healthy life expectancy: 52.59000015<br>Location: Afghanistan",
          "Healthy life expectancy: 68.70813751<br>Location: Albania",
          "Healthy life expectancy: 67.08278656<br>Location: United Arab Emirates",
          "Healthy life expectancy: 68.80380249<br>Location: Argentina",
          "Healthy life expectancy: 66.75065613<br>Location: Armenia",
          "Healthy life expectancy: 73.60453796<br>Location: Australia",
          "Healthy life expectancy: 73.00250244<br>Location: Austria",
          "Healthy life expectancy: 65.50839996<br>Location: Azerbaijan",
          "Healthy life expectancy: 53.40000153<br>Location: Burundi",
          "Healthy life expectancy: 72.00164795<br>Location: Belgium",
          "Healthy life expectancy: 54.31246567<br>Location: Benin",
          "Healthy life expectancy: 53.88945389<br>Location: Burkina Faso",
          "Healthy life expectancy: 64.50306702<br>Location: Bangladesh",
          "Healthy life expectancy: 66.80397797<br>Location: Bulgaria",
          "Healthy life expectancy: 68.5<br>Location: Bahrain",
          "Healthy life expectancy: 67.80813599<br>Location: Bosnia and Herzegovina",
          "Healthy life expectancy: 66.10433197<br>Location: Belarus",
          "Healthy life expectancy: 66.48016357<br>Location: Brazil",
          "Healthy life expectancy: 58.92445374<br>Location: Botswana",
          "Healthy life expectancy: 45.20000076<br>Location: Central African Republic",
          "Healthy life expectancy: 73.60160065<br>Location: Canada",
          "Healthy life expectancy: 74.10244751<br>Location: Switzerland",
          "Healthy life expectancy: 69.90061951<br>Location: Chile",
          "Healthy life expectancy: 52.7049408<br>Location: Cameroon",
          "Healthy life expectancy: 67.69958496<br>Location: Colombia",
          "Healthy life expectancy: 57.34901047<br>Location: Comoros",
          "Healthy life expectancy: 71.29985046<br>Location: Costa Rica",
          "Healthy life expectancy: 73.70222473<br>Location: Cyprus",
          "Healthy life expectancy: 72.20201874<br>Location: Germany",
          "Healthy life expectancy: 72.40250397<br>Location: Denmark",
          "Healthy life expectancy: 65.80748749<br>Location: Dominican Republic",
          "Healthy life expectancy: 65.90517426<br>Location: Algeria",
          "Healthy life expectancy: 68.50003815<br>Location: Ecuador",
          "Healthy life expectancy: 74.40270996<br>Location: Spain",
          "Healthy life expectancy: 68.60495758<br>Location: Estonia",
          "Healthy life expectancy: 58.63959122<br>Location: Ethiopia",
          "Healthy life expectancy: 71.9008255<br>Location: Finland",
          "Healthy life expectancy: 73.80193329<br>Location: France",
          "Healthy life expectancy: 59.71533966<br>Location: Gabon",
          "Healthy life expectancy: 72.30160522<br>Location: United Kingdom",
          "Healthy life expectancy: 64.49520874<br>Location: Georgia",
          "Healthy life expectancy: 57.20398712<br>Location: Ghana",
          "Healthy life expectancy: 54.46780014<br>Location: Guinea",
          "Healthy life expectancy: 55.0120163<br>Location: Gambia",
          "Healthy life expectancy: 72.40525818<br>Location: Greece",
          "Healthy life expectancy: 64.8089447<br>Location: Guatemala",
          "Healthy life expectancy: 67.19876862<br>Location: Honduras",
          "Healthy life expectancy: 70.21490479<br>Location: Croatia",
          "Healthy life expectancy: 55.59862518<br>Location: Haiti",
          "Healthy life expectancy: 67.60997009<br>Location: Hungary",
          "Healthy life expectancy: 62.15584946<br>Location: Indonesia",
          "Healthy life expectancy: 60.21518707<br>Location: India",
          "Healthy life expectancy: 72.30078888<br>Location: Ireland",
          "Healthy life expectancy: 59.90354919<br>Location: Iraq",
          "Healthy life expectancy: 73.0<br>Location: Iceland",
          "Healthy life expectancy: 73.20025635<br>Location: Israel",
          "Healthy life expectancy: 73.60168457<br>Location: Italy",
          "Healthy life expectancy: 67.09999847<br>Location: Jamaica",
          "Healthy life expectancy: 66.79975128<br>Location: Jordan",
          "Healthy life expectancy: 75.00096893<br>Location: Japan",
          "Healthy life expectancy: 64.60996246<br>Location: Kazakhstan",
          "Healthy life expectancy: 60.09693146<br>Location: Kenya",
          "Healthy life expectancy: 64.10601044<br>Location: Kyrgyzstan",
          "Healthy life expectancy: 61.52996826<br>Location: Cambodia",
          "Healthy life expectancy: 66.76764679<br>Location: Kuwait",
          "Healthy life expectancy: 67.10658264<br>Location: Lebanon",
          "Healthy life expectancy: 56.09631348<br>Location: Liberia",
          "Healthy life expectancy: 62.29999924<br>Location: Libya",
          "Healthy life expectancy: 67.20006561<br>Location: Sri Lanka",
          "Healthy life expectancy: 48.00362396<br>Location: Lesotho",
          "Healthy life expectancy: 67.29407501<br>Location: Lithuania",
          "Healthy life expectancy: 72.59999847<br>Location: Luxembourg",
          "Healthy life expectancy: 66.8074646<br>Location: Latvia",
          "Healthy life expectancy: 65.89624023<br>Location: Morocco",
          "Healthy life expectancy: 59.10542679<br>Location: Madagascar",
          "Healthy life expectancy: 70.59999847<br>Location: Maldives",
          "Healthy life expectancy: 68.29902649<br>Location: Mexico",
          "Healthy life expectancy: 51.72698212<br>Location: Mali",
          "Healthy life expectancy: 72.19999695<br>Location: Malta",
          "Healthy life expectancy: 58.96171188<br>Location: Myanmar",
          "Healthy life expectancy: 68.50534821<br>Location: Montenegro",
          "Healthy life expectancy: 62.30448532<br>Location: Mongolia",
          "Healthy life expectancy: 54.20582199<br>Location: Mozambique",
          "Healthy life expectancy: 57.01017761<br>Location: Mauritania",
          "Healthy life expectancy: 66.40434265<br>Location: Mauritius",
          "Healthy life expectancy: 57.59288788<br>Location: Malawi",
          "Healthy life expectancy: 67.10215759<br>Location: Malaysia",
          "Healthy life expectancy: 56.50148773<br>Location: Namibia",
          "Healthy life expectancy: 53.50009537<br>Location: Niger",
          "Healthy life expectancy: 49.86190796<br>Location: Nigeria",
          "Healthy life expectancy: 67.50717926<br>Location: Nicaragua",
          "Healthy life expectancy: 72.30091858<br>Location: Netherlands",
          "Healthy life expectancy: 73.20078278<br>Location: Norway",
          "Healthy life expectancy: 63.77917862<br>Location: Nepal",
          "Healthy life expectancy: 73.20262909<br>Location: New Zealand",
          "Healthy life expectancy: 58.25313568<br>Location: Pakistan",
          "Healthy life expectancy: 69.60301208<br>Location: Panama",
          "Healthy life expectancy: 68.10023499<br>Location: Peru",
          "Healthy life expectancy: 61.92676163<br>Location: Philippines",
          "Healthy life expectancy: 69.31113434<br>Location: Poland",
          "Healthy life expectancy: 72.40202332<br>Location: Portugal",
          "Healthy life expectancy: 65.63993835<br>Location: Paraguay",
          "Healthy life expectancy: 67.20723724<br>Location: Romania",
          "Healthy life expectancy: 61.09884644<br>Location: Rwanda",
          "Healthy life expectancy: 66.30514526<br>Location: Saudi Arabia",
          "Healthy life expectancy: 59.59915161<br>Location: Senegal",
          "Healthy life expectancy: 76.80458069<br>Location: Singapore",
          "Healthy life expectancy: 50.86514282<br>Location: Sierra Leone",
          "Healthy life expectancy: 66.10826111<br>Location: El Salvador",
          "Healthy life expectancy: 68.21020508<br>Location: Serbia",
          "Healthy life expectancy: 51.0<br>Location: South Sudan",
          "Healthy life expectancy: 68.90634155<br>Location: Slovakia",
          "Healthy life expectancy: 71.1029892<br>Location: Slovenia",
          "Healthy life expectancy: 72.60076904<br>Location: Sweden",
          "Healthy life expectancy: 48.22053909<br>Location: Chad",
          "Healthy life expectancy: 54.71989822<br>Location: Togo",
          "Healthy life expectancy: 67.25059509<br>Location: Thailand",
          "Healthy life expectancy: 64.10459137<br>Location: Tajikistan",
          "Healthy life expectancy: 62.21170807<br>Location: Turkmenistan",
          "Healthy life expectancy: 63.5<br>Location: Trinidad and Tobago",
          "Healthy life expectancy: 66.89785767<br>Location: Tunisia",
          "Healthy life expectancy: 66.90281677<br>Location: Turkey",
          "Healthy life expectancy: 55.70820236<br>Location: Uganda",
          "Healthy life expectancy: 64.60678101<br>Location: Ukraine",
          "Healthy life expectancy: 69.00254822<br>Location: Uruguay",
          "Healthy life expectancy: 65.10757446<br>Location: Uzbekistan",
          "Healthy life expectancy: 56.72728348<br>Location: Yemen",
          "Healthy life expectancy: 56.50601196<br>Location: South Africa",
          "Healthy life expectancy: 55.29937744<br>Location: Zambia",
          "Healthy life expectancy: 55.61725998<br>Location: Zimbabwe",
          "Healthy life expectancy: 61.78015137<br>Location: Egypt",
          "Healthy life expectancy: 69.2891922<br>Location: China"
         ],
         "type": "scatter",
         "x": [
          0.066641327,
          0.06838024,
          0.15266505,
          0.079143662,
          0.048349224,
          0.059117539,
          0.050365923,
          0.038269098,
          0.041683861,
          0.06704812,
          0.042746516,
          0.055095026,
          0.028538244,
          0.037427134,
          0.097386102,
          0.033934445,
          0.037829355,
          0.086101656,
          0.034871225,
          0.071011947,
          0.055790023,
          0.0403709,
          0.083013317,
          0.050995562,
          0.080120402,
          0.055547256,
          0.107248144,
          0.098016312,
          0.045764327,
          0.044368224,
          0.096074618,
          0.162422905,
          0.127797705,
          0.050841039,
          0.028575966,
          0.031542352,
          0.034215758,
          0.05991004,
          0.083831834,
          0.034596084,
          0.075373431,
          0.051857603,
          0.035918195,
          0.030919251,
          0.09551369,
          0.056673057,
          0.051319469,
          0.064738773,
          0.02414776,
          0.03861593,
          0.055434579,
          0.057327416,
          0.034484986,
          0.068001274,
          0.037279889,
          0.068584453,
          0.073457327,
          0.028279817,
          0.099227476,
          0.033480451,
          0.053265494,
          0.022197937,
          0.076460344,
          0.067473322,
          0.123313694,
          0.05591117,
          0.027606643,
          0.138825952,
          0.06817149,
          0.036598253,
          0.032398383,
          0.061344137,
          0.036885324,
          0.122015526,
          0.031369023,
          0.041648061,
          0.070708359,
          0.028074999,
          0.03944543,
          0.03934312,
          0.051872551,
          0.054430782,
          0.026381939,
          0.092365235,
          0.050007614,
          0.028665512,
          0.120740453,
          0.050670244,
          0.034689248,
          0.022349721,
          0.068153456,
          0.039203014,
          0.037167955,
          0.034854646,
          0.071656423,
          0.028217442,
          0.076776355,
          0.087529891,
          0.039167153,
          0.053927231,
          0.058203554,
          0.123117025,
          0.046773143,
          0.059316307,
          0.238398398,
          0.04000284,
          0.037088719,
          0.038518187,
          0.065789602,
          0.045687711,
          0.024784755,
          0.044599815,
          0.055031062,
          0.036868105,
          0.035160523,
          0.050252846,
          0.107271644,
          0.039688764,
          0.021090614,
          0.048669873,
          0.13262982,
          0.074540364,
          0.039954147,
          0.03719242,
          0.080525145,
          0.055737907,
          0.121016778,
          0.055650828,
          0.026893337,
          0.030762777,
          0.130130931,
          0.097773854
         ],
         "xaxis": "x2",
         "y": [
          52.59000015,
          68.70813751,
          67.08278656,
          68.80380249,
          66.75065613,
          73.60453796,
          73.00250244,
          65.50839996,
          53.40000153,
          72.00164795,
          54.31246567,
          53.88945389,
          64.50306702,
          66.80397797,
          68.5,
          67.80813599,
          66.10433197,
          66.48016357,
          58.92445374,
          45.20000076,
          73.60160065,
          74.10244751,
          69.90061951,
          52.7049408,
          67.69958496,
          57.34901047,
          71.29985046,
          73.70222473,
          72.20201874,
          72.40250397,
          65.80748749,
          65.90517426,
          68.50003815,
          74.40270996,
          68.60495758,
          58.63959122,
          71.9008255,
          73.80193329,
          59.71533966,
          72.30160522,
          64.49520874,
          57.20398712,
          54.46780014,
          55.0120163,
          72.40525818,
          64.8089447,
          67.19876862,
          70.21490479,
          55.59862518,
          67.60997009,
          62.15584946,
          60.21518707,
          72.30078888,
          59.90354919,
          73,
          73.20025635,
          73.60168457,
          67.09999847,
          66.79975128,
          75.00096893,
          64.60996246,
          60.09693146,
          64.10601044,
          61.52996826,
          66.76764679,
          67.10658264,
          56.09631348,
          62.29999924,
          67.20006561,
          48.00362396,
          67.29407501,
          72.59999847,
          66.8074646,
          65.89624023,
          59.10542679,
          70.59999847,
          68.29902649,
          51.72698212,
          72.19999695,
          58.96171188,
          68.50534821,
          62.30448532,
          54.20582199,
          57.01017761,
          66.40434265,
          57.59288788,
          67.10215759,
          56.50148773,
          53.50009537,
          49.86190796,
          67.50717926,
          72.30091858,
          73.20078278,
          63.77917862,
          73.20262909,
          58.25313568,
          69.60301208,
          68.10023499,
          61.92676163,
          69.31113434,
          72.40202332,
          65.63993835,
          67.20723724,
          61.09884644,
          66.30514526,
          59.59915161,
          76.80458069,
          50.86514282,
          66.10826111,
          68.21020508,
          51,
          68.90634155,
          71.1029892,
          72.60076904,
          48.22053909,
          54.71989822,
          67.25059509,
          64.10459137,
          62.21170807,
          63.5,
          66.89785767,
          66.90281677,
          55.70820236,
          64.60678101,
          69.00254822,
          65.10757446,
          56.72728348,
          56.50601196,
          55.29937744,
          55.61725998,
          61.78015137,
          69.2891922
         ],
         "yaxis": "y2"
        },
        {
         "hoverinfo": "text",
         "mode": "markers",
         "text": [
          "Social support: 0.470366955<br>Location: Afghanistan",
          "Social support: 0.671070457<br>Location: Albania",
          "Social support: 0.849181116<br>Location: United Arab Emirates",
          "Social support: 0.900567949<br>Location: Argentina",
          "Social support: 0.757479429<br>Location: Armenia",
          "Social support: 0.944854617<br>Location: Australia",
          "Social support: 0.928045869<br>Location: Austria",
          "Social support: 0.819308281<br>Location: Azerbaijan",
          "Social support: 0.490325719<br>Location: Burundi",
          "Social support: 0.911632538<br>Location: Belgium",
          "Social support: 0.468671143<br>Location: Benin",
          "Social support: 0.712943614<br>Location: Burkina Faso",
          "Social support: 0.687292993<br>Location: Bangladesh",
          "Social support: 0.937840343<br>Location: Bulgaria",
          "Social support: 0.876342118<br>Location: Bahrain",
          "Social support: 0.829204142<br>Location: Bosnia and Herzegovina",
          "Social support: 0.90674746<br>Location: Belarus",
          "Social support: 0.896723807<br>Location: Brazil",
          "Social support: 0.779121757<br>Location: Botswana",
          "Social support: 0.319459856<br>Location: Central African Republic",
          "Social support: 0.927176654<br>Location: Canada",
          "Social support: 0.942846596<br>Location: Switzerland",
          "Social support: 0.879713595<br>Location: Chile",
          "Social support: 0.700386405<br>Location: Cameroon",
          "Social support: 0.884440243<br>Location: Colombia",
          "Social support: 0.625662446<br>Location: Comoros",
          "Social support: 0.901545942<br>Location: Costa Rica",
          "Social support: 0.805996239<br>Location: Cyprus",
          "Social support: 0.898874462<br>Location: Germany",
          "Social support: 0.955990791<br>Location: Denmark",
          "Social support: 0.882085383<br>Location: Dominican Republic",
          "Social support: 0.803385139<br>Location: Algeria",
          "Social support: 0.836418986<br>Location: Ecuador",
          "Social support: 0.921125412<br>Location: Spain",
          "Social support: 0.934729993<br>Location: Estonia",
          "Social support: 0.743307352<br>Location: Ethiopia",
          "Social support: 0.954329729<br>Location: Finland",
          "Social support: 0.937103748<br>Location: France",
          "Social support: 0.787886858<br>Location: Gabon",
          "Social support: 0.93668282<br>Location: United Kingdom",
          "Social support: 0.629033029<br>Location: Georgia",
          "Social support: 0.728601098<br>Location: Ghana",
          "Social support: 0.637573481<br>Location: Guinea",
          "Social support: 0.6931687<br>Location: Gambia",
          "Social support: 0.814380348<br>Location: Greece",
          "Social support: 0.816621482<br>Location: Guatemala",
          "Social support: 0.821870148<br>Location: Honduras",
          "Social support: 0.874623716<br>Location: Croatia",
          "Social support: 0.593247831<br>Location: Haiti",
          "Social support: 0.921934128<br>Location: Hungary",
          "Social support: 0.808379889<br>Location: Indonesia",
          "Social support: 0.592200935<br>Location: India",
          "Social support: 0.942081571<br>Location: Ireland",
          "Social support: 0.747694969<br>Location: Iraq",
          "Social support: 0.974669576<br>Location: Iceland",
          "Social support: 0.913571239<br>Location: Israel",
          "Social support: 0.889878571<br>Location: Italy",
          "Social support: 0.915701866<br>Location: Jamaica",
          "Social support: 0.80216372<br>Location: Jordan",
          "Social support: 0.883545935<br>Location: Japan",
          "Social support: 0.934744895<br>Location: Kazakhstan",
          "Social support: 0.702652037<br>Location: Kenya",
          "Social support: 0.887228489<br>Location: Kyrgyzstan",
          "Social support: 0.773080647<br>Location: Cambodia",
          "Social support: 0.846475244<br>Location: Kuwait",
          "Social support: 0.824338138<br>Location: Lebanon",
          "Social support: 0.70928055<br>Location: Liberia",
          "Social support: 0.825942934<br>Location: Libya",
          "Social support: 0.825374067<br>Location: Sri Lanka",
          "Social support: 0.780495703<br>Location: Lesotho",
          "Social support: 0.926107109<br>Location: Lithuania",
          "Social support: 0.906912208<br>Location: Luxembourg",
          "Social support: 0.918288589<br>Location: Latvia",
          "Social support: 0.592628479<br>Location: Morocco",
          "Social support: 0.668195903<br>Location: Madagascar",
          "Social support: 0.91316092<br>Location: Maldives",
          "Social support: 0.838665426<br>Location: Mexico",
          "Social support: 0.731468976<br>Location: Mali",
          "Social support: 0.93037951<br>Location: Malta",
          "Social support: 0.78440702<br>Location: Myanmar",
          "Social support: 0.855314612<br>Location: Montenegro",
          "Social support: 0.937142491<br>Location: Mongolia",
          "Social support: 0.723874032<br>Location: Mozambique",
          "Social support: 0.790819228<br>Location: Mauritania",
          "Social support: 0.910357833<br>Location: Mauritius",
          "Social support: 0.544007301<br>Location: Malawi",
          "Social support: 0.816509426<br>Location: Malaysia",
          "Social support: 0.846880972<br>Location: Namibia",
          "Social support: 0.617435038<br>Location: Niger",
          "Social support: 0.73721689<br>Location: Nigeria",
          "Social support: 0.857497036<br>Location: Nicaragua",
          "Social support: 0.93913883<br>Location: Netherlands",
          "Social support: 0.952486575<br>Location: Norway",
          "Social support: 0.785512447<br>Location: Nepal",
          "Social support: 0.949118972<br>Location: New Zealand",
          "Social support: 0.689062297<br>Location: Pakistan",
          "Social support: 0.902094483<br>Location: Panama",
          "Social support: 0.831075251<br>Location: Peru",
          "Social support: 0.846730053<br>Location: Philippines",
          "Social support: 0.874257445<br>Location: Poland",
          "Social support: 0.886590719<br>Location: Portugal",
          "Social support: 0.898727894<br>Location: Paraguay",
          "Social support: 0.825161517<br>Location: Romania",
          "Social support: 0.54083544<br>Location: Rwanda",
          "Social support: 0.874067068<br>Location: Saudi Arabia",
          "Social support: 0.723616004<br>Location: Senegal",
          "Social support: 0.910268962<br>Location: Singapore",
          "Social support: 0.636142015<br>Location: Sierra Leone",
          "Social support: 0.806092262<br>Location: El Salvador",
          "Social support: 0.881475747<br>Location: Serbia",
          "Social support: 0.553707123<br>Location: South Sudan",
          "Social support: 0.922493756<br>Location: Slovakia",
          "Social support: 0.939575672<br>Location: Slovenia",
          "Social support: 0.926311195<br>Location: Sweden",
          "Social support: 0.632388055<br>Location: Chad",
          "Social support: 0.551312625<br>Location: Togo",
          "Social support: 0.889973223<br>Location: Thailand",
          "Social support: 0.835297108<br>Location: Tajikistan",
          "Social support: 0.958966196<br>Location: Turkmenistan",
          "Social support: 0.91529417<br>Location: Trinidad and Tobago",
          "Social support: 0.688718557<br>Location: Tunisia",
          "Social support: 0.826313555<br>Location: Turkey",
          "Social support: 0.764994621<br>Location: Uganda",
          "Social support: 0.878879368<br>Location: Ukraine",
          "Social support: 0.92281127<br>Location: Uruguay",
          "Social support: 0.926595807<br>Location: Uzbekistan",
          "Social support: 0.817980587<br>Location: Yemen",
          "Social support: 0.852532268<br>Location: South Africa",
          "Social support: 0.698824465<br>Location: Zambia",
          "Social support: 0.763092756<br>Location: Zimbabwe",
          "Social support: 0.735447824<br>Location: Egypt",
          "Social support: 0.798760593<br>Location: China"
         ],
         "type": "scatter",
         "x": [
          0.066641327,
          0.06838024,
          0.15266505,
          0.079143662,
          0.048349224,
          0.059117539,
          0.050365923,
          0.038269098,
          0.041683861,
          0.06704812,
          0.042746516,
          0.055095026,
          0.028538244,
          0.037427134,
          0.097386102,
          0.033934445,
          0.037829355,
          0.086101656,
          0.034871225,
          0.071011947,
          0.055790023,
          0.0403709,
          0.083013317,
          0.050995562,
          0.080120402,
          0.055547256,
          0.107248144,
          0.098016312,
          0.045764327,
          0.044368224,
          0.096074618,
          0.162422905,
          0.127797705,
          0.050841039,
          0.028575966,
          0.031542352,
          0.034215758,
          0.05991004,
          0.083831834,
          0.034596084,
          0.075373431,
          0.051857603,
          0.035918195,
          0.030919251,
          0.09551369,
          0.056673057,
          0.051319469,
          0.064738773,
          0.02414776,
          0.03861593,
          0.055434579,
          0.057327416,
          0.034484986,
          0.068001274,
          0.037279889,
          0.068584453,
          0.073457327,
          0.028279817,
          0.099227476,
          0.033480451,
          0.053265494,
          0.022197937,
          0.076460344,
          0.067473322,
          0.123313694,
          0.05591117,
          0.027606643,
          0.138825952,
          0.06817149,
          0.036598253,
          0.032398383,
          0.061344137,
          0.036885324,
          0.122015526,
          0.031369023,
          0.041648061,
          0.070708359,
          0.028074999,
          0.03944543,
          0.03934312,
          0.051872551,
          0.054430782,
          0.026381939,
          0.092365235,
          0.050007614,
          0.028665512,
          0.120740453,
          0.050670244,
          0.034689248,
          0.022349721,
          0.068153456,
          0.039203014,
          0.037167955,
          0.034854646,
          0.071656423,
          0.028217442,
          0.076776355,
          0.087529891,
          0.039167153,
          0.053927231,
          0.058203554,
          0.123117025,
          0.046773143,
          0.059316307,
          0.238398398,
          0.04000284,
          0.037088719,
          0.038518187,
          0.065789602,
          0.045687711,
          0.024784755,
          0.044599815,
          0.055031062,
          0.036868105,
          0.035160523,
          0.050252846,
          0.107271644,
          0.039688764,
          0.021090614,
          0.048669873,
          0.13262982,
          0.074540364,
          0.039954147,
          0.03719242,
          0.080525145,
          0.055737907,
          0.121016778,
          0.055650828,
          0.026893337,
          0.030762777,
          0.130130931,
          0.097773854
         ],
         "xaxis": "x3",
         "y": [
          0.470366955,
          0.671070457,
          0.849181116,
          0.900567949,
          0.757479429,
          0.944854617,
          0.928045869,
          0.819308281,
          0.490325719,
          0.911632538,
          0.468671143,
          0.712943614,
          0.687292993,
          0.937840343,
          0.876342118,
          0.829204142,
          0.90674746,
          0.896723807,
          0.779121757,
          0.319459856,
          0.927176654,
          0.942846596,
          0.879713595,
          0.700386405,
          0.884440243,
          0.625662446,
          0.901545942,
          0.805996239,
          0.898874462,
          0.955990791,
          0.882085383,
          0.803385139,
          0.836418986,
          0.921125412,
          0.934729993,
          0.743307352,
          0.954329729,
          0.937103748,
          0.787886858,
          0.93668282,
          0.629033029,
          0.728601098,
          0.637573481,
          0.6931687,
          0.814380348,
          0.816621482,
          0.821870148,
          0.874623716,
          0.593247831,
          0.921934128,
          0.808379889,
          0.592200935,
          0.942081571,
          0.747694969,
          0.974669576,
          0.913571239,
          0.889878571,
          0.915701866,
          0.80216372,
          0.883545935,
          0.934744895,
          0.702652037,
          0.887228489,
          0.773080647,
          0.846475244,
          0.824338138,
          0.70928055,
          0.825942934,
          0.825374067,
          0.780495703,
          0.926107109,
          0.906912208,
          0.918288589,
          0.592628479,
          0.668195903,
          0.91316092,
          0.838665426,
          0.731468976,
          0.93037951,
          0.78440702,
          0.855314612,
          0.937142491,
          0.723874032,
          0.790819228,
          0.910357833,
          0.544007301,
          0.816509426,
          0.846880972,
          0.617435038,
          0.73721689,
          0.857497036,
          0.93913883,
          0.952486575,
          0.785512447,
          0.949118972,
          0.689062297,
          0.902094483,
          0.831075251,
          0.846730053,
          0.874257445,
          0.886590719,
          0.898727894,
          0.825161517,
          0.54083544,
          0.874067068,
          0.723616004,
          0.910268962,
          0.636142015,
          0.806092262,
          0.881475747,
          0.553707123,
          0.922493756,
          0.939575672,
          0.926311195,
          0.632388055,
          0.551312625,
          0.889973223,
          0.835297108,
          0.958966196,
          0.91529417,
          0.688718557,
          0.826313555,
          0.764994621,
          0.878879368,
          0.92281127,
          0.926595807,
          0.817980587,
          0.852532268,
          0.698824465,
          0.763092756,
          0.735447824,
          0.798760593
         ],
         "yaxis": "y3"
        },
        {
         "hoverinfo": "text",
         "mode": "markers",
         "text": [
          "Logged GDP per capita: 7.462860584<br>Location: Afghanistan",
          "Logged GDP per capita: 9.417930603<br>Location: Albania",
          "Logged GDP per capita: 11.1099987<br>Location: United Arab Emirates",
          "Logged GDP per capita: 9.810955048<br>Location: Argentina",
          "Logged GDP per capita: 9.100476265<br>Location: Armenia",
          "Logged GDP per capita: 10.72059631<br>Location: Australia",
          "Logged GDP per capita: 10.7428236<br>Location: Austria",
          "Logged GDP per capita: 9.687726974<br>Location: Azerbaijan",
          "Logged GDP per capita: 6.492642403<br>Location: Burundi",
          "Logged GDP per capita: 10.6736393<br>Location: Belgium",
          "Logged GDP per capita: 7.674319744<br>Location: Benin",
          "Logged GDP per capita: 7.46854496<br>Location: Burkina Faso",
          "Logged GDP per capita: 8.287063599<br>Location: Bangladesh",
          "Logged GDP per capita: 9.869318962<br>Location: Bulgaria",
          "Logged GDP per capita: 10.67638016<br>Location: Bahrain",
          "Logged GDP per capita: 9.455817223<br>Location: Bosnia and Herzegovina",
          "Logged GDP per capita: 9.779945374<br>Location: Belarus",
          "Logged GDP per capita: 9.56643486<br>Location: Brazil",
          "Logged GDP per capita: 9.711203575<br>Location: Botswana",
          "Logged GDP per capita: 6.625160217<br>Location: Central African Republic",
          "Logged GDP per capita: 10.69236851<br>Location: Canada",
          "Logged GDP per capita: 10.97993279<br>Location: Switzerland",
          "Logged GDP per capita: 10.0320549<br>Location: Chile",
          "Logged GDP per capita: 8.118647575<br>Location: Cameroon",
          "Logged GDP per capita: 9.500369072<br>Location: Colombia",
          "Logged GDP per capita: 7.833630085<br>Location: Comoros",
          "Logged GDP per capita: 9.658156395<br>Location: Costa Rica",
          "Logged GDP per capita: 10.40570259<br>Location: Cyprus",
          "Logged GDP per capita: 10.7328186<br>Location: Germany",
          "Logged GDP per capita: 10.77400112<br>Location: Denmark",
          "Logged GDP per capita: 9.664880753<br>Location: Dominican Republic",
          "Logged GDP per capita: 9.537964821<br>Location: Algeria",
          "Logged GDP per capita: 9.246058464<br>Location: Ecuador",
          "Logged GDP per capita: 10.46292686<br>Location: Spain",
          "Logged GDP per capita: 10.34001732<br>Location: Estonia",
          "Logged GDP per capita: 7.509385586<br>Location: Ethiopia",
          "Logged GDP per capita: 10.63926697<br>Location: Finland",
          "Logged GDP per capita: 10.58422279<br>Location: France",
          "Logged GDP per capita: 9.680537224<br>Location: Gabon",
          "Logged GDP per capita: 10.60013485<br>Location: United Kingdom",
          "Logged GDP per capita: 9.226100922<br>Location: Georgia",
          "Logged GDP per capita: 8.350645065<br>Location: Ghana",
          "Logged GDP per capita: 7.750990391<br>Location: Guinea",
          "Logged GDP per capita: 7.321814537<br>Location: Gambia",
          "Logged GDP per capita: 10.13232613<br>Location: Greece",
          "Logged GDP per capita: 8.924805641<br>Location: Guatemala",
          "Logged GDP per capita: 8.424534798<br>Location: Honduras",
          "Logged GDP per capita: 10.07087517<br>Location: Croatia",
          "Logged GDP per capita: 7.411329269<br>Location: Haiti",
          "Logged GDP per capita: 10.24924374<br>Location: Hungary",
          "Logged GDP per capita: 9.36975193<br>Location: Indonesia",
          "Logged GDP per capita: 8.849823952<br>Location: India",
          "Logged GDP per capita: 11.16097832<br>Location: Ireland",
          "Logged GDP per capita: 9.661095619<br>Location: Iraq",
          "Logged GDP per capita: 10.77255917<br>Location: Iceland",
          "Logged GDP per capita: 10.41752529<br>Location: Israel",
          "Logged GDP per capita: 10.48183632<br>Location: Italy",
          "Logged GDP per capita: 9.006250381<br>Location: Jamaica",
          "Logged GDP per capita: 9.025999069<br>Location: Jordan",
          "Logged GDP per capita: 10.57968903<br>Location: Japan",
          "Logged GDP per capita: 10.11465836<br>Location: Kazakhstan",
          "Logged GDP per capita: 8.02977562<br>Location: Kenya",
          "Logged GDP per capita: 8.148405075<br>Location: Kyrgyzstan",
          "Logged GDP per capita: 8.249890327<br>Location: Cambodia",
          "Logged GDP per capita: 11.08982468<br>Location: Kuwait",
          "Logged GDP per capita: 9.3617239<br>Location: Lebanon",
          "Logged GDP per capita: 7.054380417<br>Location: Liberia",
          "Logged GDP per capita: 9.789815903<br>Location: Libya",
          "Logged GDP per capita: 9.389969826<br>Location: Sri Lanka",
          "Logged GDP per capita: 7.960488319<br>Location: Lesotho",
          "Logged GDP per capita: 10.34362602<br>Location: Lithuania",
          "Logged GDP per capita: 11.45068073<br>Location: Luxembourg",
          "Logged GDP per capita: 10.17531967<br>Location: Latvia",
          "Logged GDP per capita: 8.940313339<br>Location: Morocco",
          "Logged GDP per capita: 7.281685829<br>Location: Madagascar",
          "Logged GDP per capita: 9.518632889<br>Location: Maldives",
          "Logged GDP per capita: 9.797797203<br>Location: Mexico",
          "Logged GDP per capita: 7.629852295<br>Location: Mali",
          "Logged GDP per capita: 10.53383827<br>Location: Malta",
          "Logged GDP per capita: 8.680481911<br>Location: Myanmar",
          "Logged GDP per capita: 9.751860619<br>Location: Montenegro",
          "Logged GDP per capita: 9.412186623<br>Location: Mongolia",
          "Logged GDP per capita: 7.069345951<br>Location: Mozambique",
          "Logged GDP per capita: 8.233919144<br>Location: Mauritania",
          "Logged GDP per capita: 9.956786156<br>Location: Mauritius",
          "Logged GDP per capita: 7.062226295<br>Location: Malawi",
          "Logged GDP per capita: 10.26251888<br>Location: Malaysia",
          "Logged GDP per capita: 9.203141212<br>Location: Namibia",
          "Logged GDP per capita: 6.842166901<br>Location: Niger",
          "Logged GDP per capita: 8.57662487<br>Location: Nigeria",
          "Logged GDP per capita: 8.493160248<br>Location: Nicaragua",
          "Logged GDP per capita: 10.81271172<br>Location: Netherlands",
          "Logged GDP per capita: 11.08780384<br>Location: Norway",
          "Logged GDP per capita: 7.925357342<br>Location: Nepal",
          "Logged GDP per capita: 10.50094318<br>Location: New Zealand",
          "Logged GDP per capita: 8.482727051<br>Location: Pakistan",
          "Logged GDP per capita: 10.03423405<br>Location: Panama",
          "Logged GDP per capita: 9.456313133<br>Location: Peru",
          "Logged GDP per capita: 8.993545532<br>Location: Philippines",
          "Logged GDP per capita: 10.26512432<br>Location: Poland",
          "Logged GDP per capita: 10.26374245<br>Location: Portugal",
          "Logged GDP per capita: 9.389982224<br>Location: Paraguay",
          "Logged GDP per capita: 10.107584<br>Location: Romania",
          "Logged GDP per capita: 7.600104332<br>Location: Rwanda",
          "Logged GDP per capita: 10.79781246<br>Location: Saudi Arabia",
          "Logged GDP per capita: 8.118982315<br>Location: Senegal",
          "Logged GDP per capita: 11.39552116<br>Location: Singapore",
          "Logged GDP per capita: 7.26880312<br>Location: Sierra Leone",
          "Logged GDP per capita: 8.909075737<br>Location: El Salvador",
          "Logged GDP per capita: 9.680980682<br>Location: Serbia",
          "Logged GDP per capita: 7.425359726<br>Location: South Sudan",
          "Logged GDP per capita: 10.34774971<br>Location: Slovakia",
          "Logged GDP per capita: 10.39232254<br>Location: Slovenia",
          "Logged GDP per capita: 10.75879383<br>Location: Sweden",
          "Logged GDP per capita: 7.467963696<br>Location: Chad",
          "Logged GDP per capita: 7.357711315<br>Location: Togo",
          "Logged GDP per capita: 9.741791725<br>Location: Thailand",
          "Logged GDP per capita: 8.024810791<br>Location: Tajikistan",
          "Logged GDP per capita: 9.74803257<br>Location: Turkmenistan",
          "Logged GDP per capita: 10.26000214<br>Location: Trinidad and Tobago",
          "Logged GDP per capita: 9.314972878<br>Location: Tunisia",
          "Logged GDP per capita: 10.12941933<br>Location: Turkey",
          "Logged GDP per capita: 7.500389576<br>Location: Uganda",
          "Logged GDP per capita: 9.010690689<br>Location: Ukraine",
          "Logged GDP per capita: 9.948192596<br>Location: Uruguay",
          "Logged GDP per capita: 8.740371704<br>Location: Uzbekistan",
          "Logged GDP per capita: 7.759682655<br>Location: Yemen",
          "Logged GDP per capita: 9.403370857<br>Location: South Africa",
          "Logged GDP per capita: 8.224720001<br>Location: Zambia",
          "Logged GDP per capita: 7.865711689<br>Location: Zimbabwe",
          "Logged GDP per capita: 9.316541672<br>Location: Egypt",
          "Logged GDP per capita: 9.688568115<br>Location: China"
         ],
         "type": "scatter",
         "x": [
          0.066641327,
          0.06838024,
          0.15266505,
          0.079143662,
          0.048349224,
          0.059117539,
          0.050365923,
          0.038269098,
          0.041683861,
          0.06704812,
          0.042746516,
          0.055095026,
          0.028538244,
          0.037427134,
          0.097386102,
          0.033934445,
          0.037829355,
          0.086101656,
          0.034871225,
          0.071011947,
          0.055790023,
          0.0403709,
          0.083013317,
          0.050995562,
          0.080120402,
          0.055547256,
          0.107248144,
          0.098016312,
          0.045764327,
          0.044368224,
          0.096074618,
          0.162422905,
          0.127797705,
          0.050841039,
          0.028575966,
          0.031542352,
          0.034215758,
          0.05991004,
          0.083831834,
          0.034596084,
          0.075373431,
          0.051857603,
          0.035918195,
          0.030919251,
          0.09551369,
          0.056673057,
          0.051319469,
          0.064738773,
          0.02414776,
          0.03861593,
          0.055434579,
          0.057327416,
          0.034484986,
          0.068001274,
          0.037279889,
          0.068584453,
          0.073457327,
          0.028279817,
          0.099227476,
          0.033480451,
          0.053265494,
          0.022197937,
          0.076460344,
          0.067473322,
          0.123313694,
          0.05591117,
          0.027606643,
          0.138825952,
          0.06817149,
          0.036598253,
          0.032398383,
          0.061344137,
          0.036885324,
          0.122015526,
          0.031369023,
          0.041648061,
          0.070708359,
          0.028074999,
          0.03944543,
          0.03934312,
          0.051872551,
          0.054430782,
          0.026381939,
          0.092365235,
          0.050007614,
          0.028665512,
          0.120740453,
          0.050670244,
          0.034689248,
          0.022349721,
          0.068153456,
          0.039203014,
          0.037167955,
          0.034854646,
          0.071656423,
          0.028217442,
          0.076776355,
          0.087529891,
          0.039167153,
          0.053927231,
          0.058203554,
          0.123117025,
          0.046773143,
          0.059316307,
          0.238398398,
          0.04000284,
          0.037088719,
          0.038518187,
          0.065789602,
          0.045687711,
          0.024784755,
          0.044599815,
          0.055031062,
          0.036868105,
          0.035160523,
          0.050252846,
          0.107271644,
          0.039688764,
          0.021090614,
          0.048669873,
          0.13262982,
          0.074540364,
          0.039954147,
          0.03719242,
          0.080525145,
          0.055737907,
          0.121016778,
          0.055650828,
          0.026893337,
          0.030762777,
          0.130130931,
          0.097773854
         ],
         "xaxis": "x4",
         "y": [
          7.462860584,
          9.417930603,
          11.1099987,
          9.810955048,
          9.100476265,
          10.72059631,
          10.7428236,
          9.687726974,
          6.492642403,
          10.6736393,
          7.674319744,
          7.46854496,
          8.287063599,
          9.869318962,
          10.67638016,
          9.455817223,
          9.779945374,
          9.56643486,
          9.711203575,
          6.625160217,
          10.69236851,
          10.97993279,
          10.0320549,
          8.118647575,
          9.500369072,
          7.833630085,
          9.658156395,
          10.40570259,
          10.7328186,
          10.77400112,
          9.664880753,
          9.537964821,
          9.246058464,
          10.46292686,
          10.34001732,
          7.509385586,
          10.63926697,
          10.58422279,
          9.680537224,
          10.60013485,
          9.226100922,
          8.350645065,
          7.750990391,
          7.321814537,
          10.13232613,
          8.924805641,
          8.424534798,
          10.07087517,
          7.411329269,
          10.24924374,
          9.36975193,
          8.849823952,
          11.16097832,
          9.661095619,
          10.77255917,
          10.41752529,
          10.48183632,
          9.006250381,
          9.025999069,
          10.57968903,
          10.11465836,
          8.02977562,
          8.148405075,
          8.249890327,
          11.08982468,
          9.3617239,
          7.054380417,
          9.789815903,
          9.389969826,
          7.960488319,
          10.34362602,
          11.45068073,
          10.17531967,
          8.940313339,
          7.281685829,
          9.518632889,
          9.797797203,
          7.629852295,
          10.53383827,
          8.680481911,
          9.751860619,
          9.412186623,
          7.069345951,
          8.233919144,
          9.956786156,
          7.062226295,
          10.26251888,
          9.203141212,
          6.842166901,
          8.57662487,
          8.493160248,
          10.81271172,
          11.08780384,
          7.925357342,
          10.50094318,
          8.482727051,
          10.03423405,
          9.456313133,
          8.993545532,
          10.26512432,
          10.26374245,
          9.389982224,
          10.107584,
          7.600104332,
          10.79781246,
          8.118982315,
          11.39552116,
          7.26880312,
          8.909075737,
          9.680980682,
          7.425359726,
          10.34774971,
          10.39232254,
          10.75879383,
          7.467963696,
          7.357711315,
          9.741791725,
          8.024810791,
          9.74803257,
          10.26000214,
          9.314972878,
          10.12941933,
          7.500389576,
          9.010690689,
          9.948192596,
          8.740371704,
          7.759682655,
          9.403370857,
          8.224720001,
          7.865711689,
          9.316541672,
          9.688568115
         ],
         "yaxis": "y4"
        }
       ],
       "layout": {
        "annotations": [
         {
          "font": {
           "size": 16
          },
          "showarrow": false,
          "text": "Road-Injury Death Rates and Freedom to make life choices",
          "x": 0.225,
          "xanchor": "center",
          "xref": "paper",
          "y": 1,
          "yanchor": "bottom",
          "yref": "paper"
         },
         {
          "font": {
           "size": 16
          },
          "showarrow": false,
          "text": "Road-Injury Death Rates and Healthy life expectancy",
          "x": 0.775,
          "xanchor": "center",
          "xref": "paper",
          "y": 1,
          "yanchor": "bottom",
          "yref": "paper"
         },
         {
          "font": {
           "size": 16
          },
          "showarrow": false,
          "text": "Road-Injury Death Rates and Social support",
          "x": 0.225,
          "xanchor": "center",
          "xref": "paper",
          "y": 0.375,
          "yanchor": "bottom",
          "yref": "paper"
         },
         {
          "font": {
           "size": 16
          },
          "showarrow": false,
          "text": "Road-Injury Death Rates and Logged GDP per capita",
          "x": 0.775,
          "xanchor": "center",
          "xref": "paper",
          "y": 0.375,
          "yanchor": "bottom",
          "yref": "paper"
         }
        ],
        "height": 600,
        "showlegend": false,
        "template": {
         "data": {
          "bar": [
           {
            "error_x": {
             "color": "#2a3f5f"
            },
            "error_y": {
             "color": "#2a3f5f"
            },
            "marker": {
             "line": {
              "color": "#E5ECF6",
              "width": 0.5
             },
             "pattern": {
              "fillmode": "overlay",
              "size": 10,
              "solidity": 0.2
             }
            },
            "type": "bar"
           }
          ],
          "barpolar": [
           {
            "marker": {
             "line": {
              "color": "#E5ECF6",
              "width": 0.5
             },
             "pattern": {
              "fillmode": "overlay",
              "size": 10,
              "solidity": 0.2
             }
            },
            "type": "barpolar"
           }
          ],
          "carpet": [
           {
            "aaxis": {
             "endlinecolor": "#2a3f5f",
             "gridcolor": "white",
             "linecolor": "white",
             "minorgridcolor": "white",
             "startlinecolor": "#2a3f5f"
            },
            "baxis": {
             "endlinecolor": "#2a3f5f",
             "gridcolor": "white",
             "linecolor": "white",
             "minorgridcolor": "white",
             "startlinecolor": "#2a3f5f"
            },
            "type": "carpet"
           }
          ],
          "choropleth": [
           {
            "colorbar": {
             "outlinewidth": 0,
             "ticks": ""
            },
            "type": "choropleth"
           }
          ],
          "contour": [
           {
            "colorbar": {
             "outlinewidth": 0,
             "ticks": ""
            },
            "colorscale": [
             [
              0,
              "#0d0887"
             ],
             [
              0.1111111111111111,
              "#46039f"
             ],
             [
              0.2222222222222222,
              "#7201a8"
             ],
             [
              0.3333333333333333,
              "#9c179e"
             ],
             [
              0.4444444444444444,
              "#bd3786"
             ],
             [
              0.5555555555555556,
              "#d8576b"
             ],
             [
              0.6666666666666666,
              "#ed7953"
             ],
             [
              0.7777777777777778,
              "#fb9f3a"
             ],
             [
              0.8888888888888888,
              "#fdca26"
             ],
             [
              1,
              "#f0f921"
             ]
            ],
            "type": "contour"
           }
          ],
          "contourcarpet": [
           {
            "colorbar": {
             "outlinewidth": 0,
             "ticks": ""
            },
            "type": "contourcarpet"
           }
          ],
          "heatmap": [
           {
            "colorbar": {
             "outlinewidth": 0,
             "ticks": ""
            },
            "colorscale": [
             [
              0,
              "#0d0887"
             ],
             [
              0.1111111111111111,
              "#46039f"
             ],
             [
              0.2222222222222222,
              "#7201a8"
             ],
             [
              0.3333333333333333,
              "#9c179e"
             ],
             [
              0.4444444444444444,
              "#bd3786"
             ],
             [
              0.5555555555555556,
              "#d8576b"
             ],
             [
              0.6666666666666666,
              "#ed7953"
             ],
             [
              0.7777777777777778,
              "#fb9f3a"
             ],
             [
              0.8888888888888888,
              "#fdca26"
             ],
             [
              1,
              "#f0f921"
             ]
            ],
            "type": "heatmap"
           }
          ],
          "heatmapgl": [
           {
            "colorbar": {
             "outlinewidth": 0,
             "ticks": ""
            },
            "colorscale": [
             [
              0,
              "#0d0887"
             ],
             [
              0.1111111111111111,
              "#46039f"
             ],
             [
              0.2222222222222222,
              "#7201a8"
             ],
             [
              0.3333333333333333,
              "#9c179e"
             ],
             [
              0.4444444444444444,
              "#bd3786"
             ],
             [
              0.5555555555555556,
              "#d8576b"
             ],
             [
              0.6666666666666666,
              "#ed7953"
             ],
             [
              0.7777777777777778,
              "#fb9f3a"
             ],
             [
              0.8888888888888888,
              "#fdca26"
             ],
             [
              1,
              "#f0f921"
             ]
            ],
            "type": "heatmapgl"
           }
          ],
          "histogram": [
           {
            "marker": {
             "pattern": {
              "fillmode": "overlay",
              "size": 10,
              "solidity": 0.2
             }
            },
            "type": "histogram"
           }
          ],
          "histogram2d": [
           {
            "colorbar": {
             "outlinewidth": 0,
             "ticks": ""
            },
            "colorscale": [
             [
              0,
              "#0d0887"
             ],
             [
              0.1111111111111111,
              "#46039f"
             ],
             [
              0.2222222222222222,
              "#7201a8"
             ],
             [
              0.3333333333333333,
              "#9c179e"
             ],
             [
              0.4444444444444444,
              "#bd3786"
             ],
             [
              0.5555555555555556,
              "#d8576b"
             ],
             [
              0.6666666666666666,
              "#ed7953"
             ],
             [
              0.7777777777777778,
              "#fb9f3a"
             ],
             [
              0.8888888888888888,
              "#fdca26"
             ],
             [
              1,
              "#f0f921"
             ]
            ],
            "type": "histogram2d"
           }
          ],
          "histogram2dcontour": [
           {
            "colorbar": {
             "outlinewidth": 0,
             "ticks": ""
            },
            "colorscale": [
             [
              0,
              "#0d0887"
             ],
             [
              0.1111111111111111,
              "#46039f"
             ],
             [
              0.2222222222222222,
              "#7201a8"
             ],
             [
              0.3333333333333333,
              "#9c179e"
             ],
             [
              0.4444444444444444,
              "#bd3786"
             ],
             [
              0.5555555555555556,
              "#d8576b"
             ],
             [
              0.6666666666666666,
              "#ed7953"
             ],
             [
              0.7777777777777778,
              "#fb9f3a"
             ],
             [
              0.8888888888888888,
              "#fdca26"
             ],
             [
              1,
              "#f0f921"
             ]
            ],
            "type": "histogram2dcontour"
           }
          ],
          "mesh3d": [
           {
            "colorbar": {
             "outlinewidth": 0,
             "ticks": ""
            },
            "type": "mesh3d"
           }
          ],
          "parcoords": [
           {
            "line": {
             "colorbar": {
              "outlinewidth": 0,
              "ticks": ""
             }
            },
            "type": "parcoords"
           }
          ],
          "pie": [
           {
            "automargin": true,
            "type": "pie"
           }
          ],
          "scatter": [
           {
            "fillpattern": {
             "fillmode": "overlay",
             "size": 10,
             "solidity": 0.2
            },
            "type": "scatter"
           }
          ],
          "scatter3d": [
           {
            "line": {
             "colorbar": {
              "outlinewidth": 0,
              "ticks": ""
             }
            },
            "marker": {
             "colorbar": {
              "outlinewidth": 0,
              "ticks": ""
             }
            },
            "type": "scatter3d"
           }
          ],
          "scattercarpet": [
           {
            "marker": {
             "colorbar": {
              "outlinewidth": 0,
              "ticks": ""
             }
            },
            "type": "scattercarpet"
           }
          ],
          "scattergeo": [
           {
            "marker": {
             "colorbar": {
              "outlinewidth": 0,
              "ticks": ""
             }
            },
            "type": "scattergeo"
           }
          ],
          "scattergl": [
           {
            "marker": {
             "colorbar": {
              "outlinewidth": 0,
              "ticks": ""
             }
            },
            "type": "scattergl"
           }
          ],
          "scattermapbox": [
           {
            "marker": {
             "colorbar": {
              "outlinewidth": 0,
              "ticks": ""
             }
            },
            "type": "scattermapbox"
           }
          ],
          "scatterpolar": [
           {
            "marker": {
             "colorbar": {
              "outlinewidth": 0,
              "ticks": ""
             }
            },
            "type": "scatterpolar"
           }
          ],
          "scatterpolargl": [
           {
            "marker": {
             "colorbar": {
              "outlinewidth": 0,
              "ticks": ""
             }
            },
            "type": "scatterpolargl"
           }
          ],
          "scatterternary": [
           {
            "marker": {
             "colorbar": {
              "outlinewidth": 0,
              "ticks": ""
             }
            },
            "type": "scatterternary"
           }
          ],
          "surface": [
           {
            "colorbar": {
             "outlinewidth": 0,
             "ticks": ""
            },
            "colorscale": [
             [
              0,
              "#0d0887"
             ],
             [
              0.1111111111111111,
              "#46039f"
             ],
             [
              0.2222222222222222,
              "#7201a8"
             ],
             [
              0.3333333333333333,
              "#9c179e"
             ],
             [
              0.4444444444444444,
              "#bd3786"
             ],
             [
              0.5555555555555556,
              "#d8576b"
             ],
             [
              0.6666666666666666,
              "#ed7953"
             ],
             [
              0.7777777777777778,
              "#fb9f3a"
             ],
             [
              0.8888888888888888,
              "#fdca26"
             ],
             [
              1,
              "#f0f921"
             ]
            ],
            "type": "surface"
           }
          ],
          "table": [
           {
            "cells": {
             "fill": {
              "color": "#EBF0F8"
             },
             "line": {
              "color": "white"
             }
            },
            "header": {
             "fill": {
              "color": "#C8D4E3"
             },
             "line": {
              "color": "white"
             }
            },
            "type": "table"
           }
          ]
         },
         "layout": {
          "annotationdefaults": {
           "arrowcolor": "#2a3f5f",
           "arrowhead": 0,
           "arrowwidth": 1
          },
          "autotypenumbers": "strict",
          "coloraxis": {
           "colorbar": {
            "outlinewidth": 0,
            "ticks": ""
           }
          },
          "colorscale": {
           "diverging": [
            [
             0,
             "#8e0152"
            ],
            [
             0.1,
             "#c51b7d"
            ],
            [
             0.2,
             "#de77ae"
            ],
            [
             0.3,
             "#f1b6da"
            ],
            [
             0.4,
             "#fde0ef"
            ],
            [
             0.5,
             "#f7f7f7"
            ],
            [
             0.6,
             "#e6f5d0"
            ],
            [
             0.7,
             "#b8e186"
            ],
            [
             0.8,
             "#7fbc41"
            ],
            [
             0.9,
             "#4d9221"
            ],
            [
             1,
             "#276419"
            ]
           ],
           "sequential": [
            [
             0,
             "#0d0887"
            ],
            [
             0.1111111111111111,
             "#46039f"
            ],
            [
             0.2222222222222222,
             "#7201a8"
            ],
            [
             0.3333333333333333,
             "#9c179e"
            ],
            [
             0.4444444444444444,
             "#bd3786"
            ],
            [
             0.5555555555555556,
             "#d8576b"
            ],
            [
             0.6666666666666666,
             "#ed7953"
            ],
            [
             0.7777777777777778,
             "#fb9f3a"
            ],
            [
             0.8888888888888888,
             "#fdca26"
            ],
            [
             1,
             "#f0f921"
            ]
           ],
           "sequentialminus": [
            [
             0,
             "#0d0887"
            ],
            [
             0.1111111111111111,
             "#46039f"
            ],
            [
             0.2222222222222222,
             "#7201a8"
            ],
            [
             0.3333333333333333,
             "#9c179e"
            ],
            [
             0.4444444444444444,
             "#bd3786"
            ],
            [
             0.5555555555555556,
             "#d8576b"
            ],
            [
             0.6666666666666666,
             "#ed7953"
            ],
            [
             0.7777777777777778,
             "#fb9f3a"
            ],
            [
             0.8888888888888888,
             "#fdca26"
            ],
            [
             1,
             "#f0f921"
            ]
           ]
          },
          "colorway": [
           "#636efa",
           "#EF553B",
           "#00cc96",
           "#ab63fa",
           "#FFA15A",
           "#19d3f3",
           "#FF6692",
           "#B6E880",
           "#FF97FF",
           "#FECB52"
          ],
          "font": {
           "color": "#2a3f5f"
          },
          "geo": {
           "bgcolor": "white",
           "lakecolor": "white",
           "landcolor": "#E5ECF6",
           "showlakes": true,
           "showland": true,
           "subunitcolor": "white"
          },
          "hoverlabel": {
           "align": "left"
          },
          "hovermode": "closest",
          "mapbox": {
           "style": "light"
          },
          "paper_bgcolor": "white",
          "plot_bgcolor": "#E5ECF6",
          "polar": {
           "angularaxis": {
            "gridcolor": "white",
            "linecolor": "white",
            "ticks": ""
           },
           "bgcolor": "#E5ECF6",
           "radialaxis": {
            "gridcolor": "white",
            "linecolor": "white",
            "ticks": ""
           }
          },
          "scene": {
           "xaxis": {
            "backgroundcolor": "#E5ECF6",
            "gridcolor": "white",
            "gridwidth": 2,
            "linecolor": "white",
            "showbackground": true,
            "ticks": "",
            "zerolinecolor": "white"
           },
           "yaxis": {
            "backgroundcolor": "#E5ECF6",
            "gridcolor": "white",
            "gridwidth": 2,
            "linecolor": "white",
            "showbackground": true,
            "ticks": "",
            "zerolinecolor": "white"
           },
           "zaxis": {
            "backgroundcolor": "#E5ECF6",
            "gridcolor": "white",
            "gridwidth": 2,
            "linecolor": "white",
            "showbackground": true,
            "ticks": "",
            "zerolinecolor": "white"
           }
          },
          "shapedefaults": {
           "line": {
            "color": "#2a3f5f"
           }
          },
          "ternary": {
           "aaxis": {
            "gridcolor": "white",
            "linecolor": "white",
            "ticks": ""
           },
           "baxis": {
            "gridcolor": "white",
            "linecolor": "white",
            "ticks": ""
           },
           "bgcolor": "#E5ECF6",
           "caxis": {
            "gridcolor": "white",
            "linecolor": "white",
            "ticks": ""
           }
          },
          "title": {
           "x": 0.05
          },
          "xaxis": {
           "automargin": true,
           "gridcolor": "white",
           "linecolor": "white",
           "ticks": "",
           "title": {
            "standoff": 15
           },
           "zerolinecolor": "white",
           "zerolinewidth": 2
          },
          "yaxis": {
           "automargin": true,
           "gridcolor": "white",
           "linecolor": "white",
           "ticks": "",
           "title": {
            "standoff": 15
           },
           "zerolinecolor": "white",
           "zerolinewidth": 2
          }
         }
        },
        "title": {
         "text": "Scatterplots of Road-Injury Death Rates and WHR Measurements of Happiness (y-axis)",
         "x": 0.5,
         "xanchor": "center"
        },
        "width": 1000,
        "xaxis": {
         "anchor": "y",
         "domain": [
          0,
          0.45
         ],
         "title": {
          "text": "Road Injuries"
         }
        },
        "xaxis2": {
         "anchor": "y2",
         "domain": [
          0.55,
          1
         ]
        },
        "xaxis3": {
         "anchor": "y3",
         "domain": [
          0,
          0.45
         ]
        },
        "xaxis4": {
         "anchor": "y4",
         "domain": [
          0.55,
          1
         ]
        },
        "yaxis": {
         "anchor": "x",
         "domain": [
          0.625,
          1
         ]
        },
        "yaxis2": {
         "anchor": "x2",
         "domain": [
          0.625,
          1
         ]
        },
        "yaxis3": {
         "anchor": "x3",
         "domain": [
          0,
          0.375
         ]
        },
        "yaxis4": {
         "anchor": "x4",
         "domain": [
          0,
          0.375
         ]
        }
       }
      }
     },
     "metadata": {},
     "output_type": "display_data"
    }
   ],
   "source": [
    "variables = [\"Freedom to make life choices\", \"Healthy life expectancy\", \"Social support\", \"Logged GDP per capita\"]\n",
    "\n",
    "# Set the width and height of each subplot\n",
    "width = 500\n",
    "height = 400\n",
    "\n",
    "# Create subplots with adjustable width and height\n",
    "figCompare1 = make_subplots(\n",
    "    rows=2, \n",
    "    cols=2, \n",
    "    subplot_titles=[f\"Road-Injury Death Rates and {var}\" for var in variables],\n",
    "    column_widths=[width] * 2,  # Width of each column\n",
    "    row_heights=[height] * 2      # Height of each row\n",
    ")\n",
    "\n",
    "# Iterate over each variable and create the scatter plot\n",
    "for i, variable in enumerate(variables):\n",
    "    hover_text = [f\"{variable}: {y}<br>Location: {location}\" for y, location in zip(GBDWHR_df[variable], GBDWHR_df['Location'])]\n",
    "    scatter = go.Scatter(\n",
    "        x=GBDWHR_df[\"Road Injuries\"],\n",
    "        y=GBDWHR_df[variable],\n",
    "        mode=\"markers\",\n",
    "        hoverinfo=\"text\",\n",
    "        text=hover_text\n",
    "    )\n",
    "    figCompare1.add_trace(scatter, row=i // 2 + 1, col=i % 2 + 1)\n",
    "\n",
    "# Update layout properties\n",
    "figCompare1.update_layout(\n",
    "    title_text=\"Scatterplots of Road-Injury Death Rates and WHR Measurements of Happiness (y-axis)\",\n",
    "    xaxis_title=\"Road Injuries\",\n",
    "    showlegend=False,\n",
    "    width=2 * width,   # Total width of the figure\n",
    "    height=1.5 * height,  # Total height of the figure\n",
    "    title_x=0.5,  # Center the title horizontally\n",
    "    title_xanchor=\"center\"  # Anchor the title to the center\n",
    ")\n",
    "\n",
    "# Show the plot\n",
    "figCompare1.show()"
   ]
  },
  {
   "cell_type": "code",
   "execution_count": 239,
   "id": "e36a5b23",
   "metadata": {},
   "outputs": [
    {
     "data": {
      "application/vnd.plotly.v1+json": {
       "config": {
        "plotlyServerURL": "https://plot.ly"
       },
       "data": [
        {
         "hoverinfo": "text",
         "mode": "markers",
         "text": [
          "Freedom to make life choices: 0.396573007<br>Location: Afghanistan",
          "Freedom to make life choices: 0.781994224<br>Location: Albania",
          "Freedom to make life choices: 0.941345513<br>Location: United Arab Emirates",
          "Freedom to make life choices: 0.831132412<br>Location: Argentina",
          "Freedom to make life choices: 0.712017834<br>Location: Armenia",
          "Freedom to make life choices: 0.915431738<br>Location: Australia",
          "Freedom to make life choices: 0.899989486<br>Location: Austria",
          "Freedom to make life choices: 0.786824107<br>Location: Azerbaijan",
          "Freedom to make life choices: 0.626350224<br>Location: Burundi",
          "Freedom to make life choices: 0.813582063<br>Location: Belgium",
          "Freedom to make life choices: 0.735182583<br>Location: Benin",
          "Freedom to make life choices: 0.665563583<br>Location: Burkina Faso",
          "Freedom to make life choices: 0.90062499<br>Location: Bangladesh",
          "Freedom to make life choices: 0.745178163<br>Location: Bulgaria",
          "Freedom to make life choices: 0.905855775<br>Location: Bahrain",
          "Freedom to make life choices: 0.651352704<br>Location: Bosnia and Herzegovina",
          "Freedom to make life choices: 0.639163077<br>Location: Belarus",
          "Freedom to make life choices: 0.799804807<br>Location: Brazil",
          "Freedom to make life choices: 0.821328104<br>Location: Botswana",
          "Freedom to make life choices: 0.640880644<br>Location: Central African Republic",
          "Freedom to make life choices: 0.933913231<br>Location: Canada",
          "Freedom to make life choices: 0.921336651<br>Location: Switzerland",
          "Freedom to make life choices: 0.744896293<br>Location: Chile",
          "Freedom to make life choices: 0.763051808<br>Location: Cameroon",
          "Freedom to make life choices: 0.836179912<br>Location: Colombia",
          "Freedom to make life choices: 0.547612607<br>Location: Comoros",
          "Freedom to make life choices: 0.934738934<br>Location: Costa Rica",
          "Freedom to make life choices: 0.779858291<br>Location: Cyprus",
          "Freedom to make life choices: 0.867371082<br>Location: Germany",
          "Freedom to make life choices: 0.951444268<br>Location: Denmark",
          "Freedom to make life choices: 0.866202772<br>Location: Dominican Republic",
          "Freedom to make life choices: 0.466610909<br>Location: Algeria",
          "Freedom to make life choices: 0.859828949<br>Location: Ecuador",
          "Freedom to make life choices: 0.751989543<br>Location: Spain",
          "Freedom to make life choices: 0.87770915<br>Location: Estonia",
          "Freedom to make life choices: 0.740795195<br>Location: Ethiopia",
          "Freedom to make life choices: 0.949172199<br>Location: Finland",
          "Freedom to make life choices: 0.825467646<br>Location: France",
          "Freedom to make life choices: 0.704829216<br>Location: Gabon",
          "Freedom to make life choices: 0.834743679<br>Location: United Kingdom",
          "Freedom to make life choices: 0.801641524<br>Location: Georgia",
          "Freedom to make life choices: 0.794796526<br>Location: Ghana",
          "Freedom to make life choices: 0.706846774<br>Location: Guinea",
          "Freedom to make life choices: 0.733163178<br>Location: Gambia",
          "Freedom to make life choices: 0.541345119<br>Location: Greece",
          "Freedom to make life choices: 0.908147573<br>Location: Guatemala",
          "Freedom to make life choices: 0.870603263<br>Location: Honduras",
          "Freedom to make life choices: 0.714838803<br>Location: Croatia",
          "Freedom to make life choices: 0.537825167<br>Location: Haiti",
          "Freedom to make life choices: 0.718964577<br>Location: Hungary",
          "Freedom to make life choices: 0.870614409<br>Location: Indonesia",
          "Freedom to make life choices: 0.881444871<br>Location: India",
          "Freedom to make life choices: 0.886982977<br>Location: Ireland",
          "Freedom to make life choices: 0.633182645<br>Location: Iraq",
          "Freedom to make life choices: 0.948891878<br>Location: Iceland",
          "Freedom to make life choices: 0.747580588<br>Location: Israel",
          "Freedom to make life choices: 0.66465199<br>Location: Italy",
          "Freedom to make life choices: 0.858068526<br>Location: Jamaica",
          "Freedom to make life choices: 0.75104779<br>Location: Jordan",
          "Freedom to make life choices: 0.809961379<br>Location: Japan",
          "Freedom to make life choices: 0.811601937<br>Location: Kazakhstan",
          "Freedom to make life choices: 0.829747558<br>Location: Kenya",
          "Freedom to make life choices: 0.909374893<br>Location: Kyrgyzstan",
          "Freedom to make life choices: 0.959704638<br>Location: Cambodia",
          "Freedom to make life choices: 0.872366488<br>Location: Kuwait",
          "Freedom to make life choices: 0.551357508<br>Location: Lebanon",
          "Freedom to make life choices: 0.735268712<br>Location: Liberia",
          "Freedom to make life choices: 0.773157001<br>Location: Libya",
          "Freedom to make life choices: 0.837633669<br>Location: Sri Lanka",
          "Freedom to make life choices: 0.738125861<br>Location: Lesotho",
          "Freedom to make life choices: 0.747381449<br>Location: Lithuania",
          "Freedom to make life choices: 0.90563643<br>Location: Luxembourg",
          "Freedom to make life choices: 0.671237648<br>Location: Latvia",
          "Freedom to make life choices: 0.772072434<br>Location: Morocco",
          "Freedom to make life choices: 0.557574093<br>Location: Madagascar",
          "Freedom to make life choices: 0.853962779<br>Location: Maldives",
          "Freedom to make life choices: 0.858709276<br>Location: Mexico",
          "Freedom to make life choices: 0.71156615<br>Location: Mali",
          "Freedom to make life choices: 0.924911439<br>Location: Malta",
          "Freedom to make life choices: 0.895075202<br>Location: Myanmar",
          "Freedom to make life choices: 0.649565637<br>Location: Montenegro",
          "Freedom to make life choices: 0.693351328<br>Location: Mongolia",
          "Freedom to make life choices: 0.864451885<br>Location: Mozambique",
          "Freedom to make life choices: 0.551522553<br>Location: Mauritania",
          "Freedom to make life choices: 0.889534533<br>Location: Mauritius",
          "Freedom to make life choices: 0.803223193<br>Location: Malawi",
          "Freedom to make life choices: 0.894626856<br>Location: Malaysia",
          "Freedom to make life choices: 0.767520964<br>Location: Namibia",
          "Freedom to make life choices: 0.759772122<br>Location: Niger",
          "Freedom to make life choices: 0.759578407<br>Location: Nigeria",
          "Freedom to make life choices: 0.863902867<br>Location: Nicaragua",
          "Freedom to make life choices: 0.908547819<br>Location: Netherlands",
          "Freedom to make life choices: 0.955750287<br>Location: Norway",
          "Freedom to make life choices: 0.797565043<br>Location: Nepal",
          "Freedom to make life choices: 0.936217487<br>Location: New Zealand",
          "Freedom to make life choices: 0.734833717<br>Location: Pakistan",
          "Freedom to make life choices: 0.880366504<br>Location: Panama",
          "Freedom to make life choices: 0.824766099<br>Location: Peru",
          "Freedom to make life choices: 0.915463448<br>Location: Philippines",
          "Freedom to make life choices: 0.862055779<br>Location: Poland",
          "Freedom to make life choices: 0.888747811<br>Location: Portugal",
          "Freedom to make life choices: 0.885923445<br>Location: Paraguay",
          "Freedom to make life choices: 0.842823207<br>Location: Romania",
          "Freedom to make life choices: 0.900589406<br>Location: Rwanda",
          "Freedom to make life choices: 0.854191244<br>Location: Saudi Arabia",
          "Freedom to make life choices: 0.690596163<br>Location: Senegal",
          "Freedom to make life choices: 0.926645339<br>Location: Singapore",
          "Freedom to make life choices: 0.715315044<br>Location: Sierra Leone",
          "Freedom to make life choices: 0.833805263<br>Location: El Salvador",
          "Freedom to make life choices: 0.726495862<br>Location: Serbia",
          "Freedom to make life choices: 0.451313615<br>Location: South Sudan",
          "Freedom to make life choices: 0.749952674<br>Location: Slovakia",
          "Freedom to make life choices: 0.936142623<br>Location: Slovenia",
          "Freedom to make life choices: 0.939144194<br>Location: Sweden",
          "Freedom to make life choices: 0.587305248<br>Location: Chad",
          "Freedom to make life choices: 0.649828613<br>Location: Togo",
          "Freedom to make life choices: 0.905063033<br>Location: Thailand",
          "Freedom to make life choices: 0.831383407<br>Location: Tajikistan",
          "Freedom to make life choices: 0.826457024<br>Location: Turkmenistan",
          "Freedom to make life choices: 0.857907116<br>Location: Trinidad and Tobago",
          "Freedom to make life choices: 0.593361557<br>Location: Tunisia",
          "Freedom to make life choices: 0.608830452<br>Location: Turkey",
          "Freedom to make life choices: 0.731713951<br>Location: Uganda",
          "Freedom to make life choices: 0.663081884<br>Location: Ukraine",
          "Freedom to make life choices: 0.892395437<br>Location: Uruguay",
          "Freedom to make life choices: 0.974998116<br>Location: Uzbekistan",
          "Freedom to make life choices: 0.599920273<br>Location: Yemen",
          "Freedom to make life choices: 0.759330094<br>Location: South Africa",
          "Freedom to make life choices: 0.806500256<br>Location: Zambia",
          "Freedom to make life choices: 0.711457908<br>Location: Zimbabwe",
          "Freedom to make life choices: 0.708354175<br>Location: Egypt",
          "Freedom to make life choices: 0.898517907<br>Location: China"
         ],
         "type": "scatter",
         "x": [
          0.002163739,
          0.000502499,
          0.0053842,
          0.026741034,
          0.005419346,
          0.002883772,
          0.004875665,
          0.002342432,
          0.051661858,
          0.004199578,
          0.06452762,
          0.043668807,
          0.00154532,
          0.003013197,
          0.004204352,
          0.000321274,
          0.015899724,
          0.032291519,
          0.407560319,
          0.17121064,
          0.00702363,
          0.006131304,
          0.024019906,
          0.24407306,
          0.031848471,
          0.001183901,
          0.02109365,
          0.003539115,
          0.004614943,
          0.004120078,
          0.052635665,
          0.004090408,
          0.041168267,
          0.018652727,
          0.020385401,
          0.116508934,
          0.000782991,
          0.006500853,
          0.197340737,
          0.003553172,
          0.003174671,
          0.157467854,
          0.107592871,
          0.183163471,
          0.002384857,
          0.014439536,
          0.005467102,
          0.001376084,
          0.128451108,
          0.001870226,
          0.010196381,
          0.015410431,
          0.002683637,
          0.000850623,
          0.00403136,
          0.005491826,
          0.012414017,
          0.088095271,
          0.00222151,
          0.000842329,
          0.0067177,
          0.305973662,
          0.014557418,
          0.034849137,
          0.000675286,
          0.006715114,
          0.127374574,
          0.006021968,
          0.001055111,
          0.451738626,
          0.010500185,
          0.005019126,
          0.033754018,
          0.007385679,
          0.035414208,
          0.001683667,
          0.020663671,
          0.084714686,
          0.004694468,
          0.037329977,
          0.001294604,
          0.001047892,
          0.39005817,
          0.003171153,
          0.037756732,
          0.2415567,
          0.022782755,
          0.352518799,
          0.02980367,
          0.170834924,
          0.068278136,
          0.003214369,
          0.003292387,
          0.025657325,
          0.002139059,
          0.00638473,
          0.096265519,
          0.045313,
          0.019214993,
          0.002616519,
          0.046495941,
          0.041785546,
          0.004689288,
          0.104096265,
          0.007718808,
          0.049555475,
          0.008936079,
          0.11763992,
          0.038926097,
          0.00401256,
          0.184243097,
          0.000515274,
          0.001186897,
          0.002482691,
          0.105230349,
          0.140861224,
          0.097873109,
          0.0040251,
          0.010039227,
          0.068789928,
          0.010316137,
          0.002498374,
          0.201332285,
          0.043163931,
          0.031035518,
          0.00851732,
          0.003649288,
          0.428854527,
          0.299726216,
          0.266964611,
          0.000338142,
          0.01381587
         ],
         "xaxis": "x",
         "y": [
          0.396573007,
          0.781994224,
          0.941345513,
          0.831132412,
          0.712017834,
          0.915431738,
          0.899989486,
          0.786824107,
          0.626350224,
          0.813582063,
          0.735182583,
          0.665563583,
          0.90062499,
          0.745178163,
          0.905855775,
          0.651352704,
          0.639163077,
          0.799804807,
          0.821328104,
          0.640880644,
          0.933913231,
          0.921336651,
          0.744896293,
          0.763051808,
          0.836179912,
          0.547612607,
          0.934738934,
          0.779858291,
          0.867371082,
          0.951444268,
          0.866202772,
          0.466610909,
          0.859828949,
          0.751989543,
          0.87770915,
          0.740795195,
          0.949172199,
          0.825467646,
          0.704829216,
          0.834743679,
          0.801641524,
          0.794796526,
          0.706846774,
          0.733163178,
          0.541345119,
          0.908147573,
          0.870603263,
          0.714838803,
          0.537825167,
          0.718964577,
          0.870614409,
          0.881444871,
          0.886982977,
          0.633182645,
          0.948891878,
          0.747580588,
          0.66465199,
          0.858068526,
          0.75104779,
          0.809961379,
          0.811601937,
          0.829747558,
          0.909374893,
          0.959704638,
          0.872366488,
          0.551357508,
          0.735268712,
          0.773157001,
          0.837633669,
          0.738125861,
          0.747381449,
          0.90563643,
          0.671237648,
          0.772072434,
          0.557574093,
          0.853962779,
          0.858709276,
          0.71156615,
          0.924911439,
          0.895075202,
          0.649565637,
          0.693351328,
          0.864451885,
          0.551522553,
          0.889534533,
          0.803223193,
          0.894626856,
          0.767520964,
          0.759772122,
          0.759578407,
          0.863902867,
          0.908547819,
          0.955750287,
          0.797565043,
          0.936217487,
          0.734833717,
          0.880366504,
          0.824766099,
          0.915463448,
          0.862055779,
          0.888747811,
          0.885923445,
          0.842823207,
          0.900589406,
          0.854191244,
          0.690596163,
          0.926645339,
          0.715315044,
          0.833805263,
          0.726495862,
          0.451313615,
          0.749952674,
          0.936142623,
          0.939144194,
          0.587305248,
          0.649828613,
          0.905063033,
          0.831383407,
          0.826457024,
          0.857907116,
          0.593361557,
          0.608830452,
          0.731713951,
          0.663081884,
          0.892395437,
          0.974998116,
          0.599920273,
          0.759330094,
          0.806500256,
          0.711457908,
          0.708354175,
          0.898517907
         ],
         "yaxis": "y"
        },
        {
         "hoverinfo": "text",
         "mode": "markers",
         "text": [
          "Healthy life expectancy: 52.59000015<br>Location: Afghanistan",
          "Healthy life expectancy: 68.70813751<br>Location: Albania",
          "Healthy life expectancy: 67.08278656<br>Location: United Arab Emirates",
          "Healthy life expectancy: 68.80380249<br>Location: Argentina",
          "Healthy life expectancy: 66.75065613<br>Location: Armenia",
          "Healthy life expectancy: 73.60453796<br>Location: Australia",
          "Healthy life expectancy: 73.00250244<br>Location: Austria",
          "Healthy life expectancy: 65.50839996<br>Location: Azerbaijan",
          "Healthy life expectancy: 53.40000153<br>Location: Burundi",
          "Healthy life expectancy: 72.00164795<br>Location: Belgium",
          "Healthy life expectancy: 54.31246567<br>Location: Benin",
          "Healthy life expectancy: 53.88945389<br>Location: Burkina Faso",
          "Healthy life expectancy: 64.50306702<br>Location: Bangladesh",
          "Healthy life expectancy: 66.80397797<br>Location: Bulgaria",
          "Healthy life expectancy: 68.5<br>Location: Bahrain",
          "Healthy life expectancy: 67.80813599<br>Location: Bosnia and Herzegovina",
          "Healthy life expectancy: 66.10433197<br>Location: Belarus",
          "Healthy life expectancy: 66.48016357<br>Location: Brazil",
          "Healthy life expectancy: 58.92445374<br>Location: Botswana",
          "Healthy life expectancy: 45.20000076<br>Location: Central African Republic",
          "Healthy life expectancy: 73.60160065<br>Location: Canada",
          "Healthy life expectancy: 74.10244751<br>Location: Switzerland",
          "Healthy life expectancy: 69.90061951<br>Location: Chile",
          "Healthy life expectancy: 52.7049408<br>Location: Cameroon",
          "Healthy life expectancy: 67.69958496<br>Location: Colombia",
          "Healthy life expectancy: 57.34901047<br>Location: Comoros",
          "Healthy life expectancy: 71.29985046<br>Location: Costa Rica",
          "Healthy life expectancy: 73.70222473<br>Location: Cyprus",
          "Healthy life expectancy: 72.20201874<br>Location: Germany",
          "Healthy life expectancy: 72.40250397<br>Location: Denmark",
          "Healthy life expectancy: 65.80748749<br>Location: Dominican Republic",
          "Healthy life expectancy: 65.90517426<br>Location: Algeria",
          "Healthy life expectancy: 68.50003815<br>Location: Ecuador",
          "Healthy life expectancy: 74.40270996<br>Location: Spain",
          "Healthy life expectancy: 68.60495758<br>Location: Estonia",
          "Healthy life expectancy: 58.63959122<br>Location: Ethiopia",
          "Healthy life expectancy: 71.9008255<br>Location: Finland",
          "Healthy life expectancy: 73.80193329<br>Location: France",
          "Healthy life expectancy: 59.71533966<br>Location: Gabon",
          "Healthy life expectancy: 72.30160522<br>Location: United Kingdom",
          "Healthy life expectancy: 64.49520874<br>Location: Georgia",
          "Healthy life expectancy: 57.20398712<br>Location: Ghana",
          "Healthy life expectancy: 54.46780014<br>Location: Guinea",
          "Healthy life expectancy: 55.0120163<br>Location: Gambia",
          "Healthy life expectancy: 72.40525818<br>Location: Greece",
          "Healthy life expectancy: 64.8089447<br>Location: Guatemala",
          "Healthy life expectancy: 67.19876862<br>Location: Honduras",
          "Healthy life expectancy: 70.21490479<br>Location: Croatia",
          "Healthy life expectancy: 55.59862518<br>Location: Haiti",
          "Healthy life expectancy: 67.60997009<br>Location: Hungary",
          "Healthy life expectancy: 62.15584946<br>Location: Indonesia",
          "Healthy life expectancy: 60.21518707<br>Location: India",
          "Healthy life expectancy: 72.30078888<br>Location: Ireland",
          "Healthy life expectancy: 59.90354919<br>Location: Iraq",
          "Healthy life expectancy: 73.0<br>Location: Iceland",
          "Healthy life expectancy: 73.20025635<br>Location: Israel",
          "Healthy life expectancy: 73.60168457<br>Location: Italy",
          "Healthy life expectancy: 67.09999847<br>Location: Jamaica",
          "Healthy life expectancy: 66.79975128<br>Location: Jordan",
          "Healthy life expectancy: 75.00096893<br>Location: Japan",
          "Healthy life expectancy: 64.60996246<br>Location: Kazakhstan",
          "Healthy life expectancy: 60.09693146<br>Location: Kenya",
          "Healthy life expectancy: 64.10601044<br>Location: Kyrgyzstan",
          "Healthy life expectancy: 61.52996826<br>Location: Cambodia",
          "Healthy life expectancy: 66.76764679<br>Location: Kuwait",
          "Healthy life expectancy: 67.10658264<br>Location: Lebanon",
          "Healthy life expectancy: 56.09631348<br>Location: Liberia",
          "Healthy life expectancy: 62.29999924<br>Location: Libya",
          "Healthy life expectancy: 67.20006561<br>Location: Sri Lanka",
          "Healthy life expectancy: 48.00362396<br>Location: Lesotho",
          "Healthy life expectancy: 67.29407501<br>Location: Lithuania",
          "Healthy life expectancy: 72.59999847<br>Location: Luxembourg",
          "Healthy life expectancy: 66.8074646<br>Location: Latvia",
          "Healthy life expectancy: 65.89624023<br>Location: Morocco",
          "Healthy life expectancy: 59.10542679<br>Location: Madagascar",
          "Healthy life expectancy: 70.59999847<br>Location: Maldives",
          "Healthy life expectancy: 68.29902649<br>Location: Mexico",
          "Healthy life expectancy: 51.72698212<br>Location: Mali",
          "Healthy life expectancy: 72.19999695<br>Location: Malta",
          "Healthy life expectancy: 58.96171188<br>Location: Myanmar",
          "Healthy life expectancy: 68.50534821<br>Location: Montenegro",
          "Healthy life expectancy: 62.30448532<br>Location: Mongolia",
          "Healthy life expectancy: 54.20582199<br>Location: Mozambique",
          "Healthy life expectancy: 57.01017761<br>Location: Mauritania",
          "Healthy life expectancy: 66.40434265<br>Location: Mauritius",
          "Healthy life expectancy: 57.59288788<br>Location: Malawi",
          "Healthy life expectancy: 67.10215759<br>Location: Malaysia",
          "Healthy life expectancy: 56.50148773<br>Location: Namibia",
          "Healthy life expectancy: 53.50009537<br>Location: Niger",
          "Healthy life expectancy: 49.86190796<br>Location: Nigeria",
          "Healthy life expectancy: 67.50717926<br>Location: Nicaragua",
          "Healthy life expectancy: 72.30091858<br>Location: Netherlands",
          "Healthy life expectancy: 73.20078278<br>Location: Norway",
          "Healthy life expectancy: 63.77917862<br>Location: Nepal",
          "Healthy life expectancy: 73.20262909<br>Location: New Zealand",
          "Healthy life expectancy: 58.25313568<br>Location: Pakistan",
          "Healthy life expectancy: 69.60301208<br>Location: Panama",
          "Healthy life expectancy: 68.10023499<br>Location: Peru",
          "Healthy life expectancy: 61.92676163<br>Location: Philippines",
          "Healthy life expectancy: 69.31113434<br>Location: Poland",
          "Healthy life expectancy: 72.40202332<br>Location: Portugal",
          "Healthy life expectancy: 65.63993835<br>Location: Paraguay",
          "Healthy life expectancy: 67.20723724<br>Location: Romania",
          "Healthy life expectancy: 61.09884644<br>Location: Rwanda",
          "Healthy life expectancy: 66.30514526<br>Location: Saudi Arabia",
          "Healthy life expectancy: 59.59915161<br>Location: Senegal",
          "Healthy life expectancy: 76.80458069<br>Location: Singapore",
          "Healthy life expectancy: 50.86514282<br>Location: Sierra Leone",
          "Healthy life expectancy: 66.10826111<br>Location: El Salvador",
          "Healthy life expectancy: 68.21020508<br>Location: Serbia",
          "Healthy life expectancy: 51.0<br>Location: South Sudan",
          "Healthy life expectancy: 68.90634155<br>Location: Slovakia",
          "Healthy life expectancy: 71.1029892<br>Location: Slovenia",
          "Healthy life expectancy: 72.60076904<br>Location: Sweden",
          "Healthy life expectancy: 48.22053909<br>Location: Chad",
          "Healthy life expectancy: 54.71989822<br>Location: Togo",
          "Healthy life expectancy: 67.25059509<br>Location: Thailand",
          "Healthy life expectancy: 64.10459137<br>Location: Tajikistan",
          "Healthy life expectancy: 62.21170807<br>Location: Turkmenistan",
          "Healthy life expectancy: 63.5<br>Location: Trinidad and Tobago",
          "Healthy life expectancy: 66.89785767<br>Location: Tunisia",
          "Healthy life expectancy: 66.90281677<br>Location: Turkey",
          "Healthy life expectancy: 55.70820236<br>Location: Uganda",
          "Healthy life expectancy: 64.60678101<br>Location: Ukraine",
          "Healthy life expectancy: 69.00254822<br>Location: Uruguay",
          "Healthy life expectancy: 65.10757446<br>Location: Uzbekistan",
          "Healthy life expectancy: 56.72728348<br>Location: Yemen",
          "Healthy life expectancy: 56.50601196<br>Location: South Africa",
          "Healthy life expectancy: 55.29937744<br>Location: Zambia",
          "Healthy life expectancy: 55.61725998<br>Location: Zimbabwe",
          "Healthy life expectancy: 61.78015137<br>Location: Egypt",
          "Healthy life expectancy: 69.2891922<br>Location: China"
         ],
         "type": "scatter",
         "x": [
          0.002163739,
          0.000502499,
          0.0053842,
          0.026741034,
          0.005419346,
          0.002883772,
          0.004875665,
          0.002342432,
          0.051661858,
          0.004199578,
          0.06452762,
          0.043668807,
          0.00154532,
          0.003013197,
          0.004204352,
          0.000321274,
          0.015899724,
          0.032291519,
          0.407560319,
          0.17121064,
          0.00702363,
          0.006131304,
          0.024019906,
          0.24407306,
          0.031848471,
          0.001183901,
          0.02109365,
          0.003539115,
          0.004614943,
          0.004120078,
          0.052635665,
          0.004090408,
          0.041168267,
          0.018652727,
          0.020385401,
          0.116508934,
          0.000782991,
          0.006500853,
          0.197340737,
          0.003553172,
          0.003174671,
          0.157467854,
          0.107592871,
          0.183163471,
          0.002384857,
          0.014439536,
          0.005467102,
          0.001376084,
          0.128451108,
          0.001870226,
          0.010196381,
          0.015410431,
          0.002683637,
          0.000850623,
          0.00403136,
          0.005491826,
          0.012414017,
          0.088095271,
          0.00222151,
          0.000842329,
          0.0067177,
          0.305973662,
          0.014557418,
          0.034849137,
          0.000675286,
          0.006715114,
          0.127374574,
          0.006021968,
          0.001055111,
          0.451738626,
          0.010500185,
          0.005019126,
          0.033754018,
          0.007385679,
          0.035414208,
          0.001683667,
          0.020663671,
          0.084714686,
          0.004694468,
          0.037329977,
          0.001294604,
          0.001047892,
          0.39005817,
          0.003171153,
          0.037756732,
          0.2415567,
          0.022782755,
          0.352518799,
          0.02980367,
          0.170834924,
          0.068278136,
          0.003214369,
          0.003292387,
          0.025657325,
          0.002139059,
          0.00638473,
          0.096265519,
          0.045313,
          0.019214993,
          0.002616519,
          0.046495941,
          0.041785546,
          0.004689288,
          0.104096265,
          0.007718808,
          0.049555475,
          0.008936079,
          0.11763992,
          0.038926097,
          0.00401256,
          0.184243097,
          0.000515274,
          0.001186897,
          0.002482691,
          0.105230349,
          0.140861224,
          0.097873109,
          0.0040251,
          0.010039227,
          0.068789928,
          0.010316137,
          0.002498374,
          0.201332285,
          0.043163931,
          0.031035518,
          0.00851732,
          0.003649288,
          0.428854527,
          0.299726216,
          0.266964611,
          0.000338142,
          0.01381587
         ],
         "xaxis": "x2",
         "y": [
          52.59000015,
          68.70813751,
          67.08278656,
          68.80380249,
          66.75065613,
          73.60453796,
          73.00250244,
          65.50839996,
          53.40000153,
          72.00164795,
          54.31246567,
          53.88945389,
          64.50306702,
          66.80397797,
          68.5,
          67.80813599,
          66.10433197,
          66.48016357,
          58.92445374,
          45.20000076,
          73.60160065,
          74.10244751,
          69.90061951,
          52.7049408,
          67.69958496,
          57.34901047,
          71.29985046,
          73.70222473,
          72.20201874,
          72.40250397,
          65.80748749,
          65.90517426,
          68.50003815,
          74.40270996,
          68.60495758,
          58.63959122,
          71.9008255,
          73.80193329,
          59.71533966,
          72.30160522,
          64.49520874,
          57.20398712,
          54.46780014,
          55.0120163,
          72.40525818,
          64.8089447,
          67.19876862,
          70.21490479,
          55.59862518,
          67.60997009,
          62.15584946,
          60.21518707,
          72.30078888,
          59.90354919,
          73,
          73.20025635,
          73.60168457,
          67.09999847,
          66.79975128,
          75.00096893,
          64.60996246,
          60.09693146,
          64.10601044,
          61.52996826,
          66.76764679,
          67.10658264,
          56.09631348,
          62.29999924,
          67.20006561,
          48.00362396,
          67.29407501,
          72.59999847,
          66.8074646,
          65.89624023,
          59.10542679,
          70.59999847,
          68.29902649,
          51.72698212,
          72.19999695,
          58.96171188,
          68.50534821,
          62.30448532,
          54.20582199,
          57.01017761,
          66.40434265,
          57.59288788,
          67.10215759,
          56.50148773,
          53.50009537,
          49.86190796,
          67.50717926,
          72.30091858,
          73.20078278,
          63.77917862,
          73.20262909,
          58.25313568,
          69.60301208,
          68.10023499,
          61.92676163,
          69.31113434,
          72.40202332,
          65.63993835,
          67.20723724,
          61.09884644,
          66.30514526,
          59.59915161,
          76.80458069,
          50.86514282,
          66.10826111,
          68.21020508,
          51,
          68.90634155,
          71.1029892,
          72.60076904,
          48.22053909,
          54.71989822,
          67.25059509,
          64.10459137,
          62.21170807,
          63.5,
          66.89785767,
          66.90281677,
          55.70820236,
          64.60678101,
          69.00254822,
          65.10757446,
          56.72728348,
          56.50601196,
          55.29937744,
          55.61725998,
          61.78015137,
          69.2891922
         ],
         "yaxis": "y2"
        },
        {
         "hoverinfo": "text",
         "mode": "markers",
         "text": [
          "Social support: 0.470366955<br>Location: Afghanistan",
          "Social support: 0.671070457<br>Location: Albania",
          "Social support: 0.849181116<br>Location: United Arab Emirates",
          "Social support: 0.900567949<br>Location: Argentina",
          "Social support: 0.757479429<br>Location: Armenia",
          "Social support: 0.944854617<br>Location: Australia",
          "Social support: 0.928045869<br>Location: Austria",
          "Social support: 0.819308281<br>Location: Azerbaijan",
          "Social support: 0.490325719<br>Location: Burundi",
          "Social support: 0.911632538<br>Location: Belgium",
          "Social support: 0.468671143<br>Location: Benin",
          "Social support: 0.712943614<br>Location: Burkina Faso",
          "Social support: 0.687292993<br>Location: Bangladesh",
          "Social support: 0.937840343<br>Location: Bulgaria",
          "Social support: 0.876342118<br>Location: Bahrain",
          "Social support: 0.829204142<br>Location: Bosnia and Herzegovina",
          "Social support: 0.90674746<br>Location: Belarus",
          "Social support: 0.896723807<br>Location: Brazil",
          "Social support: 0.779121757<br>Location: Botswana",
          "Social support: 0.319459856<br>Location: Central African Republic",
          "Social support: 0.927176654<br>Location: Canada",
          "Social support: 0.942846596<br>Location: Switzerland",
          "Social support: 0.879713595<br>Location: Chile",
          "Social support: 0.700386405<br>Location: Cameroon",
          "Social support: 0.884440243<br>Location: Colombia",
          "Social support: 0.625662446<br>Location: Comoros",
          "Social support: 0.901545942<br>Location: Costa Rica",
          "Social support: 0.805996239<br>Location: Cyprus",
          "Social support: 0.898874462<br>Location: Germany",
          "Social support: 0.955990791<br>Location: Denmark",
          "Social support: 0.882085383<br>Location: Dominican Republic",
          "Social support: 0.803385139<br>Location: Algeria",
          "Social support: 0.836418986<br>Location: Ecuador",
          "Social support: 0.921125412<br>Location: Spain",
          "Social support: 0.934729993<br>Location: Estonia",
          "Social support: 0.743307352<br>Location: Ethiopia",
          "Social support: 0.954329729<br>Location: Finland",
          "Social support: 0.937103748<br>Location: France",
          "Social support: 0.787886858<br>Location: Gabon",
          "Social support: 0.93668282<br>Location: United Kingdom",
          "Social support: 0.629033029<br>Location: Georgia",
          "Social support: 0.728601098<br>Location: Ghana",
          "Social support: 0.637573481<br>Location: Guinea",
          "Social support: 0.6931687<br>Location: Gambia",
          "Social support: 0.814380348<br>Location: Greece",
          "Social support: 0.816621482<br>Location: Guatemala",
          "Social support: 0.821870148<br>Location: Honduras",
          "Social support: 0.874623716<br>Location: Croatia",
          "Social support: 0.593247831<br>Location: Haiti",
          "Social support: 0.921934128<br>Location: Hungary",
          "Social support: 0.808379889<br>Location: Indonesia",
          "Social support: 0.592200935<br>Location: India",
          "Social support: 0.942081571<br>Location: Ireland",
          "Social support: 0.747694969<br>Location: Iraq",
          "Social support: 0.974669576<br>Location: Iceland",
          "Social support: 0.913571239<br>Location: Israel",
          "Social support: 0.889878571<br>Location: Italy",
          "Social support: 0.915701866<br>Location: Jamaica",
          "Social support: 0.80216372<br>Location: Jordan",
          "Social support: 0.883545935<br>Location: Japan",
          "Social support: 0.934744895<br>Location: Kazakhstan",
          "Social support: 0.702652037<br>Location: Kenya",
          "Social support: 0.887228489<br>Location: Kyrgyzstan",
          "Social support: 0.773080647<br>Location: Cambodia",
          "Social support: 0.846475244<br>Location: Kuwait",
          "Social support: 0.824338138<br>Location: Lebanon",
          "Social support: 0.70928055<br>Location: Liberia",
          "Social support: 0.825942934<br>Location: Libya",
          "Social support: 0.825374067<br>Location: Sri Lanka",
          "Social support: 0.780495703<br>Location: Lesotho",
          "Social support: 0.926107109<br>Location: Lithuania",
          "Social support: 0.906912208<br>Location: Luxembourg",
          "Social support: 0.918288589<br>Location: Latvia",
          "Social support: 0.592628479<br>Location: Morocco",
          "Social support: 0.668195903<br>Location: Madagascar",
          "Social support: 0.91316092<br>Location: Maldives",
          "Social support: 0.838665426<br>Location: Mexico",
          "Social support: 0.731468976<br>Location: Mali",
          "Social support: 0.93037951<br>Location: Malta",
          "Social support: 0.78440702<br>Location: Myanmar",
          "Social support: 0.855314612<br>Location: Montenegro",
          "Social support: 0.937142491<br>Location: Mongolia",
          "Social support: 0.723874032<br>Location: Mozambique",
          "Social support: 0.790819228<br>Location: Mauritania",
          "Social support: 0.910357833<br>Location: Mauritius",
          "Social support: 0.544007301<br>Location: Malawi",
          "Social support: 0.816509426<br>Location: Malaysia",
          "Social support: 0.846880972<br>Location: Namibia",
          "Social support: 0.617435038<br>Location: Niger",
          "Social support: 0.73721689<br>Location: Nigeria",
          "Social support: 0.857497036<br>Location: Nicaragua",
          "Social support: 0.93913883<br>Location: Netherlands",
          "Social support: 0.952486575<br>Location: Norway",
          "Social support: 0.785512447<br>Location: Nepal",
          "Social support: 0.949118972<br>Location: New Zealand",
          "Social support: 0.689062297<br>Location: Pakistan",
          "Social support: 0.902094483<br>Location: Panama",
          "Social support: 0.831075251<br>Location: Peru",
          "Social support: 0.846730053<br>Location: Philippines",
          "Social support: 0.874257445<br>Location: Poland",
          "Social support: 0.886590719<br>Location: Portugal",
          "Social support: 0.898727894<br>Location: Paraguay",
          "Social support: 0.825161517<br>Location: Romania",
          "Social support: 0.54083544<br>Location: Rwanda",
          "Social support: 0.874067068<br>Location: Saudi Arabia",
          "Social support: 0.723616004<br>Location: Senegal",
          "Social support: 0.910268962<br>Location: Singapore",
          "Social support: 0.636142015<br>Location: Sierra Leone",
          "Social support: 0.806092262<br>Location: El Salvador",
          "Social support: 0.881475747<br>Location: Serbia",
          "Social support: 0.553707123<br>Location: South Sudan",
          "Social support: 0.922493756<br>Location: Slovakia",
          "Social support: 0.939575672<br>Location: Slovenia",
          "Social support: 0.926311195<br>Location: Sweden",
          "Social support: 0.632388055<br>Location: Chad",
          "Social support: 0.551312625<br>Location: Togo",
          "Social support: 0.889973223<br>Location: Thailand",
          "Social support: 0.835297108<br>Location: Tajikistan",
          "Social support: 0.958966196<br>Location: Turkmenistan",
          "Social support: 0.91529417<br>Location: Trinidad and Tobago",
          "Social support: 0.688718557<br>Location: Tunisia",
          "Social support: 0.826313555<br>Location: Turkey",
          "Social support: 0.764994621<br>Location: Uganda",
          "Social support: 0.878879368<br>Location: Ukraine",
          "Social support: 0.92281127<br>Location: Uruguay",
          "Social support: 0.926595807<br>Location: Uzbekistan",
          "Social support: 0.817980587<br>Location: Yemen",
          "Social support: 0.852532268<br>Location: South Africa",
          "Social support: 0.698824465<br>Location: Zambia",
          "Social support: 0.763092756<br>Location: Zimbabwe",
          "Social support: 0.735447824<br>Location: Egypt",
          "Social support: 0.798760593<br>Location: China"
         ],
         "type": "scatter",
         "x": [
          0.002163739,
          0.000502499,
          0.0053842,
          0.026741034,
          0.005419346,
          0.002883772,
          0.004875665,
          0.002342432,
          0.051661858,
          0.004199578,
          0.06452762,
          0.043668807,
          0.00154532,
          0.003013197,
          0.004204352,
          0.000321274,
          0.015899724,
          0.032291519,
          0.407560319,
          0.17121064,
          0.00702363,
          0.006131304,
          0.024019906,
          0.24407306,
          0.031848471,
          0.001183901,
          0.02109365,
          0.003539115,
          0.004614943,
          0.004120078,
          0.052635665,
          0.004090408,
          0.041168267,
          0.018652727,
          0.020385401,
          0.116508934,
          0.000782991,
          0.006500853,
          0.197340737,
          0.003553172,
          0.003174671,
          0.157467854,
          0.107592871,
          0.183163471,
          0.002384857,
          0.014439536,
          0.005467102,
          0.001376084,
          0.128451108,
          0.001870226,
          0.010196381,
          0.015410431,
          0.002683637,
          0.000850623,
          0.00403136,
          0.005491826,
          0.012414017,
          0.088095271,
          0.00222151,
          0.000842329,
          0.0067177,
          0.305973662,
          0.014557418,
          0.034849137,
          0.000675286,
          0.006715114,
          0.127374574,
          0.006021968,
          0.001055111,
          0.451738626,
          0.010500185,
          0.005019126,
          0.033754018,
          0.007385679,
          0.035414208,
          0.001683667,
          0.020663671,
          0.084714686,
          0.004694468,
          0.037329977,
          0.001294604,
          0.001047892,
          0.39005817,
          0.003171153,
          0.037756732,
          0.2415567,
          0.022782755,
          0.352518799,
          0.02980367,
          0.170834924,
          0.068278136,
          0.003214369,
          0.003292387,
          0.025657325,
          0.002139059,
          0.00638473,
          0.096265519,
          0.045313,
          0.019214993,
          0.002616519,
          0.046495941,
          0.041785546,
          0.004689288,
          0.104096265,
          0.007718808,
          0.049555475,
          0.008936079,
          0.11763992,
          0.038926097,
          0.00401256,
          0.184243097,
          0.000515274,
          0.001186897,
          0.002482691,
          0.105230349,
          0.140861224,
          0.097873109,
          0.0040251,
          0.010039227,
          0.068789928,
          0.010316137,
          0.002498374,
          0.201332285,
          0.043163931,
          0.031035518,
          0.00851732,
          0.003649288,
          0.428854527,
          0.299726216,
          0.266964611,
          0.000338142,
          0.01381587
         ],
         "xaxis": "x3",
         "y": [
          0.470366955,
          0.671070457,
          0.849181116,
          0.900567949,
          0.757479429,
          0.944854617,
          0.928045869,
          0.819308281,
          0.490325719,
          0.911632538,
          0.468671143,
          0.712943614,
          0.687292993,
          0.937840343,
          0.876342118,
          0.829204142,
          0.90674746,
          0.896723807,
          0.779121757,
          0.319459856,
          0.927176654,
          0.942846596,
          0.879713595,
          0.700386405,
          0.884440243,
          0.625662446,
          0.901545942,
          0.805996239,
          0.898874462,
          0.955990791,
          0.882085383,
          0.803385139,
          0.836418986,
          0.921125412,
          0.934729993,
          0.743307352,
          0.954329729,
          0.937103748,
          0.787886858,
          0.93668282,
          0.629033029,
          0.728601098,
          0.637573481,
          0.6931687,
          0.814380348,
          0.816621482,
          0.821870148,
          0.874623716,
          0.593247831,
          0.921934128,
          0.808379889,
          0.592200935,
          0.942081571,
          0.747694969,
          0.974669576,
          0.913571239,
          0.889878571,
          0.915701866,
          0.80216372,
          0.883545935,
          0.934744895,
          0.702652037,
          0.887228489,
          0.773080647,
          0.846475244,
          0.824338138,
          0.70928055,
          0.825942934,
          0.825374067,
          0.780495703,
          0.926107109,
          0.906912208,
          0.918288589,
          0.592628479,
          0.668195903,
          0.91316092,
          0.838665426,
          0.731468976,
          0.93037951,
          0.78440702,
          0.855314612,
          0.937142491,
          0.723874032,
          0.790819228,
          0.910357833,
          0.544007301,
          0.816509426,
          0.846880972,
          0.617435038,
          0.73721689,
          0.857497036,
          0.93913883,
          0.952486575,
          0.785512447,
          0.949118972,
          0.689062297,
          0.902094483,
          0.831075251,
          0.846730053,
          0.874257445,
          0.886590719,
          0.898727894,
          0.825161517,
          0.54083544,
          0.874067068,
          0.723616004,
          0.910268962,
          0.636142015,
          0.806092262,
          0.881475747,
          0.553707123,
          0.922493756,
          0.939575672,
          0.926311195,
          0.632388055,
          0.551312625,
          0.889973223,
          0.835297108,
          0.958966196,
          0.91529417,
          0.688718557,
          0.826313555,
          0.764994621,
          0.878879368,
          0.92281127,
          0.926595807,
          0.817980587,
          0.852532268,
          0.698824465,
          0.763092756,
          0.735447824,
          0.798760593
         ],
         "yaxis": "y3"
        },
        {
         "hoverinfo": "text",
         "mode": "markers",
         "text": [
          "Logged GDP per capita: 7.462860584<br>Location: Afghanistan",
          "Logged GDP per capita: 9.417930603<br>Location: Albania",
          "Logged GDP per capita: 11.1099987<br>Location: United Arab Emirates",
          "Logged GDP per capita: 9.810955048<br>Location: Argentina",
          "Logged GDP per capita: 9.100476265<br>Location: Armenia",
          "Logged GDP per capita: 10.72059631<br>Location: Australia",
          "Logged GDP per capita: 10.7428236<br>Location: Austria",
          "Logged GDP per capita: 9.687726974<br>Location: Azerbaijan",
          "Logged GDP per capita: 6.492642403<br>Location: Burundi",
          "Logged GDP per capita: 10.6736393<br>Location: Belgium",
          "Logged GDP per capita: 7.674319744<br>Location: Benin",
          "Logged GDP per capita: 7.46854496<br>Location: Burkina Faso",
          "Logged GDP per capita: 8.287063599<br>Location: Bangladesh",
          "Logged GDP per capita: 9.869318962<br>Location: Bulgaria",
          "Logged GDP per capita: 10.67638016<br>Location: Bahrain",
          "Logged GDP per capita: 9.455817223<br>Location: Bosnia and Herzegovina",
          "Logged GDP per capita: 9.779945374<br>Location: Belarus",
          "Logged GDP per capita: 9.56643486<br>Location: Brazil",
          "Logged GDP per capita: 9.711203575<br>Location: Botswana",
          "Logged GDP per capita: 6.625160217<br>Location: Central African Republic",
          "Logged GDP per capita: 10.69236851<br>Location: Canada",
          "Logged GDP per capita: 10.97993279<br>Location: Switzerland",
          "Logged GDP per capita: 10.0320549<br>Location: Chile",
          "Logged GDP per capita: 8.118647575<br>Location: Cameroon",
          "Logged GDP per capita: 9.500369072<br>Location: Colombia",
          "Logged GDP per capita: 7.833630085<br>Location: Comoros",
          "Logged GDP per capita: 9.658156395<br>Location: Costa Rica",
          "Logged GDP per capita: 10.40570259<br>Location: Cyprus",
          "Logged GDP per capita: 10.7328186<br>Location: Germany",
          "Logged GDP per capita: 10.77400112<br>Location: Denmark",
          "Logged GDP per capita: 9.664880753<br>Location: Dominican Republic",
          "Logged GDP per capita: 9.537964821<br>Location: Algeria",
          "Logged GDP per capita: 9.246058464<br>Location: Ecuador",
          "Logged GDP per capita: 10.46292686<br>Location: Spain",
          "Logged GDP per capita: 10.34001732<br>Location: Estonia",
          "Logged GDP per capita: 7.509385586<br>Location: Ethiopia",
          "Logged GDP per capita: 10.63926697<br>Location: Finland",
          "Logged GDP per capita: 10.58422279<br>Location: France",
          "Logged GDP per capita: 9.680537224<br>Location: Gabon",
          "Logged GDP per capita: 10.60013485<br>Location: United Kingdom",
          "Logged GDP per capita: 9.226100922<br>Location: Georgia",
          "Logged GDP per capita: 8.350645065<br>Location: Ghana",
          "Logged GDP per capita: 7.750990391<br>Location: Guinea",
          "Logged GDP per capita: 7.321814537<br>Location: Gambia",
          "Logged GDP per capita: 10.13232613<br>Location: Greece",
          "Logged GDP per capita: 8.924805641<br>Location: Guatemala",
          "Logged GDP per capita: 8.424534798<br>Location: Honduras",
          "Logged GDP per capita: 10.07087517<br>Location: Croatia",
          "Logged GDP per capita: 7.411329269<br>Location: Haiti",
          "Logged GDP per capita: 10.24924374<br>Location: Hungary",
          "Logged GDP per capita: 9.36975193<br>Location: Indonesia",
          "Logged GDP per capita: 8.849823952<br>Location: India",
          "Logged GDP per capita: 11.16097832<br>Location: Ireland",
          "Logged GDP per capita: 9.661095619<br>Location: Iraq",
          "Logged GDP per capita: 10.77255917<br>Location: Iceland",
          "Logged GDP per capita: 10.41752529<br>Location: Israel",
          "Logged GDP per capita: 10.48183632<br>Location: Italy",
          "Logged GDP per capita: 9.006250381<br>Location: Jamaica",
          "Logged GDP per capita: 9.025999069<br>Location: Jordan",
          "Logged GDP per capita: 10.57968903<br>Location: Japan",
          "Logged GDP per capita: 10.11465836<br>Location: Kazakhstan",
          "Logged GDP per capita: 8.02977562<br>Location: Kenya",
          "Logged GDP per capita: 8.148405075<br>Location: Kyrgyzstan",
          "Logged GDP per capita: 8.249890327<br>Location: Cambodia",
          "Logged GDP per capita: 11.08982468<br>Location: Kuwait",
          "Logged GDP per capita: 9.3617239<br>Location: Lebanon",
          "Logged GDP per capita: 7.054380417<br>Location: Liberia",
          "Logged GDP per capita: 9.789815903<br>Location: Libya",
          "Logged GDP per capita: 9.389969826<br>Location: Sri Lanka",
          "Logged GDP per capita: 7.960488319<br>Location: Lesotho",
          "Logged GDP per capita: 10.34362602<br>Location: Lithuania",
          "Logged GDP per capita: 11.45068073<br>Location: Luxembourg",
          "Logged GDP per capita: 10.17531967<br>Location: Latvia",
          "Logged GDP per capita: 8.940313339<br>Location: Morocco",
          "Logged GDP per capita: 7.281685829<br>Location: Madagascar",
          "Logged GDP per capita: 9.518632889<br>Location: Maldives",
          "Logged GDP per capita: 9.797797203<br>Location: Mexico",
          "Logged GDP per capita: 7.629852295<br>Location: Mali",
          "Logged GDP per capita: 10.53383827<br>Location: Malta",
          "Logged GDP per capita: 8.680481911<br>Location: Myanmar",
          "Logged GDP per capita: 9.751860619<br>Location: Montenegro",
          "Logged GDP per capita: 9.412186623<br>Location: Mongolia",
          "Logged GDP per capita: 7.069345951<br>Location: Mozambique",
          "Logged GDP per capita: 8.233919144<br>Location: Mauritania",
          "Logged GDP per capita: 9.956786156<br>Location: Mauritius",
          "Logged GDP per capita: 7.062226295<br>Location: Malawi",
          "Logged GDP per capita: 10.26251888<br>Location: Malaysia",
          "Logged GDP per capita: 9.203141212<br>Location: Namibia",
          "Logged GDP per capita: 6.842166901<br>Location: Niger",
          "Logged GDP per capita: 8.57662487<br>Location: Nigeria",
          "Logged GDP per capita: 8.493160248<br>Location: Nicaragua",
          "Logged GDP per capita: 10.81271172<br>Location: Netherlands",
          "Logged GDP per capita: 11.08780384<br>Location: Norway",
          "Logged GDP per capita: 7.925357342<br>Location: Nepal",
          "Logged GDP per capita: 10.50094318<br>Location: New Zealand",
          "Logged GDP per capita: 8.482727051<br>Location: Pakistan",
          "Logged GDP per capita: 10.03423405<br>Location: Panama",
          "Logged GDP per capita: 9.456313133<br>Location: Peru",
          "Logged GDP per capita: 8.993545532<br>Location: Philippines",
          "Logged GDP per capita: 10.26512432<br>Location: Poland",
          "Logged GDP per capita: 10.26374245<br>Location: Portugal",
          "Logged GDP per capita: 9.389982224<br>Location: Paraguay",
          "Logged GDP per capita: 10.107584<br>Location: Romania",
          "Logged GDP per capita: 7.600104332<br>Location: Rwanda",
          "Logged GDP per capita: 10.79781246<br>Location: Saudi Arabia",
          "Logged GDP per capita: 8.118982315<br>Location: Senegal",
          "Logged GDP per capita: 11.39552116<br>Location: Singapore",
          "Logged GDP per capita: 7.26880312<br>Location: Sierra Leone",
          "Logged GDP per capita: 8.909075737<br>Location: El Salvador",
          "Logged GDP per capita: 9.680980682<br>Location: Serbia",
          "Logged GDP per capita: 7.425359726<br>Location: South Sudan",
          "Logged GDP per capita: 10.34774971<br>Location: Slovakia",
          "Logged GDP per capita: 10.39232254<br>Location: Slovenia",
          "Logged GDP per capita: 10.75879383<br>Location: Sweden",
          "Logged GDP per capita: 7.467963696<br>Location: Chad",
          "Logged GDP per capita: 7.357711315<br>Location: Togo",
          "Logged GDP per capita: 9.741791725<br>Location: Thailand",
          "Logged GDP per capita: 8.024810791<br>Location: Tajikistan",
          "Logged GDP per capita: 9.74803257<br>Location: Turkmenistan",
          "Logged GDP per capita: 10.26000214<br>Location: Trinidad and Tobago",
          "Logged GDP per capita: 9.314972878<br>Location: Tunisia",
          "Logged GDP per capita: 10.12941933<br>Location: Turkey",
          "Logged GDP per capita: 7.500389576<br>Location: Uganda",
          "Logged GDP per capita: 9.010690689<br>Location: Ukraine",
          "Logged GDP per capita: 9.948192596<br>Location: Uruguay",
          "Logged GDP per capita: 8.740371704<br>Location: Uzbekistan",
          "Logged GDP per capita: 7.759682655<br>Location: Yemen",
          "Logged GDP per capita: 9.403370857<br>Location: South Africa",
          "Logged GDP per capita: 8.224720001<br>Location: Zambia",
          "Logged GDP per capita: 7.865711689<br>Location: Zimbabwe",
          "Logged GDP per capita: 9.316541672<br>Location: Egypt",
          "Logged GDP per capita: 9.688568115<br>Location: China"
         ],
         "type": "scatter",
         "x": [
          0.002163739,
          0.000502499,
          0.0053842,
          0.026741034,
          0.005419346,
          0.002883772,
          0.004875665,
          0.002342432,
          0.051661858,
          0.004199578,
          0.06452762,
          0.043668807,
          0.00154532,
          0.003013197,
          0.004204352,
          0.000321274,
          0.015899724,
          0.032291519,
          0.407560319,
          0.17121064,
          0.00702363,
          0.006131304,
          0.024019906,
          0.24407306,
          0.031848471,
          0.001183901,
          0.02109365,
          0.003539115,
          0.004614943,
          0.004120078,
          0.052635665,
          0.004090408,
          0.041168267,
          0.018652727,
          0.020385401,
          0.116508934,
          0.000782991,
          0.006500853,
          0.197340737,
          0.003553172,
          0.003174671,
          0.157467854,
          0.107592871,
          0.183163471,
          0.002384857,
          0.014439536,
          0.005467102,
          0.001376084,
          0.128451108,
          0.001870226,
          0.010196381,
          0.015410431,
          0.002683637,
          0.000850623,
          0.00403136,
          0.005491826,
          0.012414017,
          0.088095271,
          0.00222151,
          0.000842329,
          0.0067177,
          0.305973662,
          0.014557418,
          0.034849137,
          0.000675286,
          0.006715114,
          0.127374574,
          0.006021968,
          0.001055111,
          0.451738626,
          0.010500185,
          0.005019126,
          0.033754018,
          0.007385679,
          0.035414208,
          0.001683667,
          0.020663671,
          0.084714686,
          0.004694468,
          0.037329977,
          0.001294604,
          0.001047892,
          0.39005817,
          0.003171153,
          0.037756732,
          0.2415567,
          0.022782755,
          0.352518799,
          0.02980367,
          0.170834924,
          0.068278136,
          0.003214369,
          0.003292387,
          0.025657325,
          0.002139059,
          0.00638473,
          0.096265519,
          0.045313,
          0.019214993,
          0.002616519,
          0.046495941,
          0.041785546,
          0.004689288,
          0.104096265,
          0.007718808,
          0.049555475,
          0.008936079,
          0.11763992,
          0.038926097,
          0.00401256,
          0.184243097,
          0.000515274,
          0.001186897,
          0.002482691,
          0.105230349,
          0.140861224,
          0.097873109,
          0.0040251,
          0.010039227,
          0.068789928,
          0.010316137,
          0.002498374,
          0.201332285,
          0.043163931,
          0.031035518,
          0.00851732,
          0.003649288,
          0.428854527,
          0.299726216,
          0.266964611,
          0.000338142,
          0.01381587
         ],
         "xaxis": "x4",
         "y": [
          7.462860584,
          9.417930603,
          11.1099987,
          9.810955048,
          9.100476265,
          10.72059631,
          10.7428236,
          9.687726974,
          6.492642403,
          10.6736393,
          7.674319744,
          7.46854496,
          8.287063599,
          9.869318962,
          10.67638016,
          9.455817223,
          9.779945374,
          9.56643486,
          9.711203575,
          6.625160217,
          10.69236851,
          10.97993279,
          10.0320549,
          8.118647575,
          9.500369072,
          7.833630085,
          9.658156395,
          10.40570259,
          10.7328186,
          10.77400112,
          9.664880753,
          9.537964821,
          9.246058464,
          10.46292686,
          10.34001732,
          7.509385586,
          10.63926697,
          10.58422279,
          9.680537224,
          10.60013485,
          9.226100922,
          8.350645065,
          7.750990391,
          7.321814537,
          10.13232613,
          8.924805641,
          8.424534798,
          10.07087517,
          7.411329269,
          10.24924374,
          9.36975193,
          8.849823952,
          11.16097832,
          9.661095619,
          10.77255917,
          10.41752529,
          10.48183632,
          9.006250381,
          9.025999069,
          10.57968903,
          10.11465836,
          8.02977562,
          8.148405075,
          8.249890327,
          11.08982468,
          9.3617239,
          7.054380417,
          9.789815903,
          9.389969826,
          7.960488319,
          10.34362602,
          11.45068073,
          10.17531967,
          8.940313339,
          7.281685829,
          9.518632889,
          9.797797203,
          7.629852295,
          10.53383827,
          8.680481911,
          9.751860619,
          9.412186623,
          7.069345951,
          8.233919144,
          9.956786156,
          7.062226295,
          10.26251888,
          9.203141212,
          6.842166901,
          8.57662487,
          8.493160248,
          10.81271172,
          11.08780384,
          7.925357342,
          10.50094318,
          8.482727051,
          10.03423405,
          9.456313133,
          8.993545532,
          10.26512432,
          10.26374245,
          9.389982224,
          10.107584,
          7.600104332,
          10.79781246,
          8.118982315,
          11.39552116,
          7.26880312,
          8.909075737,
          9.680980682,
          7.425359726,
          10.34774971,
          10.39232254,
          10.75879383,
          7.467963696,
          7.357711315,
          9.741791725,
          8.024810791,
          9.74803257,
          10.26000214,
          9.314972878,
          10.12941933,
          7.500389576,
          9.010690689,
          9.948192596,
          8.740371704,
          7.759682655,
          9.403370857,
          8.224720001,
          7.865711689,
          9.316541672,
          9.688568115
         ],
         "yaxis": "y4"
        }
       ],
       "layout": {
        "annotations": [
         {
          "font": {
           "size": 16
          },
          "showarrow": false,
          "text": "HIV death rates and Freedom to make life choices",
          "x": 0.225,
          "xanchor": "center",
          "xref": "paper",
          "y": 1,
          "yanchor": "bottom",
          "yref": "paper"
         },
         {
          "font": {
           "size": 16
          },
          "showarrow": false,
          "text": "HIV death rates and Healthy life expectancy",
          "x": 0.775,
          "xanchor": "center",
          "xref": "paper",
          "y": 1,
          "yanchor": "bottom",
          "yref": "paper"
         },
         {
          "font": {
           "size": 16
          },
          "showarrow": false,
          "text": "HIV death rates and Social support",
          "x": 0.225,
          "xanchor": "center",
          "xref": "paper",
          "y": 0.375,
          "yanchor": "bottom",
          "yref": "paper"
         },
         {
          "font": {
           "size": 16
          },
          "showarrow": false,
          "text": "HIV death rates and Logged GDP per capita",
          "x": 0.775,
          "xanchor": "center",
          "xref": "paper",
          "y": 0.375,
          "yanchor": "bottom",
          "yref": "paper"
         }
        ],
        "height": 600,
        "showlegend": false,
        "template": {
         "data": {
          "bar": [
           {
            "error_x": {
             "color": "#2a3f5f"
            },
            "error_y": {
             "color": "#2a3f5f"
            },
            "marker": {
             "line": {
              "color": "#E5ECF6",
              "width": 0.5
             },
             "pattern": {
              "fillmode": "overlay",
              "size": 10,
              "solidity": 0.2
             }
            },
            "type": "bar"
           }
          ],
          "barpolar": [
           {
            "marker": {
             "line": {
              "color": "#E5ECF6",
              "width": 0.5
             },
             "pattern": {
              "fillmode": "overlay",
              "size": 10,
              "solidity": 0.2
             }
            },
            "type": "barpolar"
           }
          ],
          "carpet": [
           {
            "aaxis": {
             "endlinecolor": "#2a3f5f",
             "gridcolor": "white",
             "linecolor": "white",
             "minorgridcolor": "white",
             "startlinecolor": "#2a3f5f"
            },
            "baxis": {
             "endlinecolor": "#2a3f5f",
             "gridcolor": "white",
             "linecolor": "white",
             "minorgridcolor": "white",
             "startlinecolor": "#2a3f5f"
            },
            "type": "carpet"
           }
          ],
          "choropleth": [
           {
            "colorbar": {
             "outlinewidth": 0,
             "ticks": ""
            },
            "type": "choropleth"
           }
          ],
          "contour": [
           {
            "colorbar": {
             "outlinewidth": 0,
             "ticks": ""
            },
            "colorscale": [
             [
              0,
              "#0d0887"
             ],
             [
              0.1111111111111111,
              "#46039f"
             ],
             [
              0.2222222222222222,
              "#7201a8"
             ],
             [
              0.3333333333333333,
              "#9c179e"
             ],
             [
              0.4444444444444444,
              "#bd3786"
             ],
             [
              0.5555555555555556,
              "#d8576b"
             ],
             [
              0.6666666666666666,
              "#ed7953"
             ],
             [
              0.7777777777777778,
              "#fb9f3a"
             ],
             [
              0.8888888888888888,
              "#fdca26"
             ],
             [
              1,
              "#f0f921"
             ]
            ],
            "type": "contour"
           }
          ],
          "contourcarpet": [
           {
            "colorbar": {
             "outlinewidth": 0,
             "ticks": ""
            },
            "type": "contourcarpet"
           }
          ],
          "heatmap": [
           {
            "colorbar": {
             "outlinewidth": 0,
             "ticks": ""
            },
            "colorscale": [
             [
              0,
              "#0d0887"
             ],
             [
              0.1111111111111111,
              "#46039f"
             ],
             [
              0.2222222222222222,
              "#7201a8"
             ],
             [
              0.3333333333333333,
              "#9c179e"
             ],
             [
              0.4444444444444444,
              "#bd3786"
             ],
             [
              0.5555555555555556,
              "#d8576b"
             ],
             [
              0.6666666666666666,
              "#ed7953"
             ],
             [
              0.7777777777777778,
              "#fb9f3a"
             ],
             [
              0.8888888888888888,
              "#fdca26"
             ],
             [
              1,
              "#f0f921"
             ]
            ],
            "type": "heatmap"
           }
          ],
          "heatmapgl": [
           {
            "colorbar": {
             "outlinewidth": 0,
             "ticks": ""
            },
            "colorscale": [
             [
              0,
              "#0d0887"
             ],
             [
              0.1111111111111111,
              "#46039f"
             ],
             [
              0.2222222222222222,
              "#7201a8"
             ],
             [
              0.3333333333333333,
              "#9c179e"
             ],
             [
              0.4444444444444444,
              "#bd3786"
             ],
             [
              0.5555555555555556,
              "#d8576b"
             ],
             [
              0.6666666666666666,
              "#ed7953"
             ],
             [
              0.7777777777777778,
              "#fb9f3a"
             ],
             [
              0.8888888888888888,
              "#fdca26"
             ],
             [
              1,
              "#f0f921"
             ]
            ],
            "type": "heatmapgl"
           }
          ],
          "histogram": [
           {
            "marker": {
             "pattern": {
              "fillmode": "overlay",
              "size": 10,
              "solidity": 0.2
             }
            },
            "type": "histogram"
           }
          ],
          "histogram2d": [
           {
            "colorbar": {
             "outlinewidth": 0,
             "ticks": ""
            },
            "colorscale": [
             [
              0,
              "#0d0887"
             ],
             [
              0.1111111111111111,
              "#46039f"
             ],
             [
              0.2222222222222222,
              "#7201a8"
             ],
             [
              0.3333333333333333,
              "#9c179e"
             ],
             [
              0.4444444444444444,
              "#bd3786"
             ],
             [
              0.5555555555555556,
              "#d8576b"
             ],
             [
              0.6666666666666666,
              "#ed7953"
             ],
             [
              0.7777777777777778,
              "#fb9f3a"
             ],
             [
              0.8888888888888888,
              "#fdca26"
             ],
             [
              1,
              "#f0f921"
             ]
            ],
            "type": "histogram2d"
           }
          ],
          "histogram2dcontour": [
           {
            "colorbar": {
             "outlinewidth": 0,
             "ticks": ""
            },
            "colorscale": [
             [
              0,
              "#0d0887"
             ],
             [
              0.1111111111111111,
              "#46039f"
             ],
             [
              0.2222222222222222,
              "#7201a8"
             ],
             [
              0.3333333333333333,
              "#9c179e"
             ],
             [
              0.4444444444444444,
              "#bd3786"
             ],
             [
              0.5555555555555556,
              "#d8576b"
             ],
             [
              0.6666666666666666,
              "#ed7953"
             ],
             [
              0.7777777777777778,
              "#fb9f3a"
             ],
             [
              0.8888888888888888,
              "#fdca26"
             ],
             [
              1,
              "#f0f921"
             ]
            ],
            "type": "histogram2dcontour"
           }
          ],
          "mesh3d": [
           {
            "colorbar": {
             "outlinewidth": 0,
             "ticks": ""
            },
            "type": "mesh3d"
           }
          ],
          "parcoords": [
           {
            "line": {
             "colorbar": {
              "outlinewidth": 0,
              "ticks": ""
             }
            },
            "type": "parcoords"
           }
          ],
          "pie": [
           {
            "automargin": true,
            "type": "pie"
           }
          ],
          "scatter": [
           {
            "fillpattern": {
             "fillmode": "overlay",
             "size": 10,
             "solidity": 0.2
            },
            "type": "scatter"
           }
          ],
          "scatter3d": [
           {
            "line": {
             "colorbar": {
              "outlinewidth": 0,
              "ticks": ""
             }
            },
            "marker": {
             "colorbar": {
              "outlinewidth": 0,
              "ticks": ""
             }
            },
            "type": "scatter3d"
           }
          ],
          "scattercarpet": [
           {
            "marker": {
             "colorbar": {
              "outlinewidth": 0,
              "ticks": ""
             }
            },
            "type": "scattercarpet"
           }
          ],
          "scattergeo": [
           {
            "marker": {
             "colorbar": {
              "outlinewidth": 0,
              "ticks": ""
             }
            },
            "type": "scattergeo"
           }
          ],
          "scattergl": [
           {
            "marker": {
             "colorbar": {
              "outlinewidth": 0,
              "ticks": ""
             }
            },
            "type": "scattergl"
           }
          ],
          "scattermapbox": [
           {
            "marker": {
             "colorbar": {
              "outlinewidth": 0,
              "ticks": ""
             }
            },
            "type": "scattermapbox"
           }
          ],
          "scatterpolar": [
           {
            "marker": {
             "colorbar": {
              "outlinewidth": 0,
              "ticks": ""
             }
            },
            "type": "scatterpolar"
           }
          ],
          "scatterpolargl": [
           {
            "marker": {
             "colorbar": {
              "outlinewidth": 0,
              "ticks": ""
             }
            },
            "type": "scatterpolargl"
           }
          ],
          "scatterternary": [
           {
            "marker": {
             "colorbar": {
              "outlinewidth": 0,
              "ticks": ""
             }
            },
            "type": "scatterternary"
           }
          ],
          "surface": [
           {
            "colorbar": {
             "outlinewidth": 0,
             "ticks": ""
            },
            "colorscale": [
             [
              0,
              "#0d0887"
             ],
             [
              0.1111111111111111,
              "#46039f"
             ],
             [
              0.2222222222222222,
              "#7201a8"
             ],
             [
              0.3333333333333333,
              "#9c179e"
             ],
             [
              0.4444444444444444,
              "#bd3786"
             ],
             [
              0.5555555555555556,
              "#d8576b"
             ],
             [
              0.6666666666666666,
              "#ed7953"
             ],
             [
              0.7777777777777778,
              "#fb9f3a"
             ],
             [
              0.8888888888888888,
              "#fdca26"
             ],
             [
              1,
              "#f0f921"
             ]
            ],
            "type": "surface"
           }
          ],
          "table": [
           {
            "cells": {
             "fill": {
              "color": "#EBF0F8"
             },
             "line": {
              "color": "white"
             }
            },
            "header": {
             "fill": {
              "color": "#C8D4E3"
             },
             "line": {
              "color": "white"
             }
            },
            "type": "table"
           }
          ]
         },
         "layout": {
          "annotationdefaults": {
           "arrowcolor": "#2a3f5f",
           "arrowhead": 0,
           "arrowwidth": 1
          },
          "autotypenumbers": "strict",
          "coloraxis": {
           "colorbar": {
            "outlinewidth": 0,
            "ticks": ""
           }
          },
          "colorscale": {
           "diverging": [
            [
             0,
             "#8e0152"
            ],
            [
             0.1,
             "#c51b7d"
            ],
            [
             0.2,
             "#de77ae"
            ],
            [
             0.3,
             "#f1b6da"
            ],
            [
             0.4,
             "#fde0ef"
            ],
            [
             0.5,
             "#f7f7f7"
            ],
            [
             0.6,
             "#e6f5d0"
            ],
            [
             0.7,
             "#b8e186"
            ],
            [
             0.8,
             "#7fbc41"
            ],
            [
             0.9,
             "#4d9221"
            ],
            [
             1,
             "#276419"
            ]
           ],
           "sequential": [
            [
             0,
             "#0d0887"
            ],
            [
             0.1111111111111111,
             "#46039f"
            ],
            [
             0.2222222222222222,
             "#7201a8"
            ],
            [
             0.3333333333333333,
             "#9c179e"
            ],
            [
             0.4444444444444444,
             "#bd3786"
            ],
            [
             0.5555555555555556,
             "#d8576b"
            ],
            [
             0.6666666666666666,
             "#ed7953"
            ],
            [
             0.7777777777777778,
             "#fb9f3a"
            ],
            [
             0.8888888888888888,
             "#fdca26"
            ],
            [
             1,
             "#f0f921"
            ]
           ],
           "sequentialminus": [
            [
             0,
             "#0d0887"
            ],
            [
             0.1111111111111111,
             "#46039f"
            ],
            [
             0.2222222222222222,
             "#7201a8"
            ],
            [
             0.3333333333333333,
             "#9c179e"
            ],
            [
             0.4444444444444444,
             "#bd3786"
            ],
            [
             0.5555555555555556,
             "#d8576b"
            ],
            [
             0.6666666666666666,
             "#ed7953"
            ],
            [
             0.7777777777777778,
             "#fb9f3a"
            ],
            [
             0.8888888888888888,
             "#fdca26"
            ],
            [
             1,
             "#f0f921"
            ]
           ]
          },
          "colorway": [
           "#636efa",
           "#EF553B",
           "#00cc96",
           "#ab63fa",
           "#FFA15A",
           "#19d3f3",
           "#FF6692",
           "#B6E880",
           "#FF97FF",
           "#FECB52"
          ],
          "font": {
           "color": "#2a3f5f"
          },
          "geo": {
           "bgcolor": "white",
           "lakecolor": "white",
           "landcolor": "#E5ECF6",
           "showlakes": true,
           "showland": true,
           "subunitcolor": "white"
          },
          "hoverlabel": {
           "align": "left"
          },
          "hovermode": "closest",
          "mapbox": {
           "style": "light"
          },
          "paper_bgcolor": "white",
          "plot_bgcolor": "#E5ECF6",
          "polar": {
           "angularaxis": {
            "gridcolor": "white",
            "linecolor": "white",
            "ticks": ""
           },
           "bgcolor": "#E5ECF6",
           "radialaxis": {
            "gridcolor": "white",
            "linecolor": "white",
            "ticks": ""
           }
          },
          "scene": {
           "xaxis": {
            "backgroundcolor": "#E5ECF6",
            "gridcolor": "white",
            "gridwidth": 2,
            "linecolor": "white",
            "showbackground": true,
            "ticks": "",
            "zerolinecolor": "white"
           },
           "yaxis": {
            "backgroundcolor": "#E5ECF6",
            "gridcolor": "white",
            "gridwidth": 2,
            "linecolor": "white",
            "showbackground": true,
            "ticks": "",
            "zerolinecolor": "white"
           },
           "zaxis": {
            "backgroundcolor": "#E5ECF6",
            "gridcolor": "white",
            "gridwidth": 2,
            "linecolor": "white",
            "showbackground": true,
            "ticks": "",
            "zerolinecolor": "white"
           }
          },
          "shapedefaults": {
           "line": {
            "color": "#2a3f5f"
           }
          },
          "ternary": {
           "aaxis": {
            "gridcolor": "white",
            "linecolor": "white",
            "ticks": ""
           },
           "baxis": {
            "gridcolor": "white",
            "linecolor": "white",
            "ticks": ""
           },
           "bgcolor": "#E5ECF6",
           "caxis": {
            "gridcolor": "white",
            "linecolor": "white",
            "ticks": ""
           }
          },
          "title": {
           "x": 0.05
          },
          "xaxis": {
           "automargin": true,
           "gridcolor": "white",
           "linecolor": "white",
           "ticks": "",
           "title": {
            "standoff": 15
           },
           "zerolinecolor": "white",
           "zerolinewidth": 2
          },
          "yaxis": {
           "automargin": true,
           "gridcolor": "white",
           "linecolor": "white",
           "ticks": "",
           "title": {
            "standoff": 15
           },
           "zerolinecolor": "white",
           "zerolinewidth": 2
          }
         }
        },
        "title": {
         "text": "Scatterplots of HIV death rates and WHR Measurements of Happiness (y-axis)",
         "x": 0.5,
         "xanchor": "center"
        },
        "width": 900,
        "xaxis": {
         "anchor": "y",
         "domain": [
          0,
          0.45
         ],
         "title": {
          "text": "HIV"
         }
        },
        "xaxis2": {
         "anchor": "y2",
         "domain": [
          0.55,
          1
         ]
        },
        "xaxis3": {
         "anchor": "y3",
         "domain": [
          0,
          0.45
         ]
        },
        "xaxis4": {
         "anchor": "y4",
         "domain": [
          0.55,
          1
         ]
        },
        "yaxis": {
         "anchor": "x",
         "domain": [
          0.625,
          1
         ]
        },
        "yaxis2": {
         "anchor": "x2",
         "domain": [
          0.625,
          1
         ]
        },
        "yaxis3": {
         "anchor": "x3",
         "domain": [
          0,
          0.375
         ]
        },
        "yaxis4": {
         "anchor": "x4",
         "domain": [
          0,
          0.375
         ]
        }
       }
      }
     },
     "metadata": {},
     "output_type": "display_data"
    }
   ],
   "source": [
    "variables = [\"Freedom to make life choices\", \"Healthy life expectancy\", \"Social support\", \"Logged GDP per capita\"]\n",
    "\n",
    "# Set the width and height of each subplot\n",
    "width = 450\n",
    "height = 400\n",
    "\n",
    "# Create subplots with adjustable width and height\n",
    "figCompare2 = make_subplots(\n",
    "    rows=2, \n",
    "    cols=2, \n",
    "    subplot_titles=[f\"HIV death rates and {var}\" for var in variables],\n",
    "    column_widths=[width] * 2,  # Width of each column\n",
    "    row_heights=[height] * 2      # Height of each row\n",
    ")\n",
    "\n",
    "# Iterate over each variable and create the scatter plot\n",
    "for i, variable in enumerate(variables):\n",
    "    hover_text = [f\"{variable}: {y}<br>Location: {location}\" for y, location in zip(GBDWHR_df[variable], GBDWHR_df['Location'])]\n",
    "    scatter = go.Scatter(\n",
    "        x=GBDWHR_df[\"HIV\"],\n",
    "        y=GBDWHR_df[variable],\n",
    "        mode=\"markers\",\n",
    "        hoverinfo=\"text\",\n",
    "        text=hover_text\n",
    "    )\n",
    "    figCompare2.add_trace(scatter, row=i // 2 + 1, col=i % 2 + 1)\n",
    "\n",
    "# Update layout properties\n",
    "figCompare2.update_layout(\n",
    "    title_text=\"Scatterplots of HIV death rates and WHR Measurements of Happiness (y-axis)\",\n",
    "    xaxis_title=\"HIV\",\n",
    "    showlegend=False,\n",
    "    width=2 * width,   # Total width of the figure\n",
    "    height=1.5 * height,  # Total height of the figure\n",
    "    title_x=0.5,  # Center the title horizontally\n",
    "    title_xanchor=\"center\"  # Anchor the title to the center\n",
    ")\n",
    "\n",
    "# Show the plot\n",
    "figCompare2.show()"
   ]
  },
  {
   "cell_type": "code",
   "execution_count": 240,
   "id": "3a71ce72",
   "metadata": {},
   "outputs": [
    {
     "data": {
      "application/vnd.plotly.v1+json": {
       "config": {
        "plotlyServerURL": "https://plot.ly"
       },
       "data": [
        {
         "hoverinfo": "text",
         "mode": "markers",
         "text": [
          "Freedom to make life choices: 0.396573007<br>Location: Afghanistan",
          "Freedom to make life choices: 0.781994224<br>Location: Albania",
          "Freedom to make life choices: 0.941345513<br>Location: United Arab Emirates",
          "Freedom to make life choices: 0.831132412<br>Location: Argentina",
          "Freedom to make life choices: 0.712017834<br>Location: Armenia",
          "Freedom to make life choices: 0.915431738<br>Location: Australia",
          "Freedom to make life choices: 0.899989486<br>Location: Austria",
          "Freedom to make life choices: 0.786824107<br>Location: Azerbaijan",
          "Freedom to make life choices: 0.626350224<br>Location: Burundi",
          "Freedom to make life choices: 0.813582063<br>Location: Belgium",
          "Freedom to make life choices: 0.735182583<br>Location: Benin",
          "Freedom to make life choices: 0.665563583<br>Location: Burkina Faso",
          "Freedom to make life choices: 0.90062499<br>Location: Bangladesh",
          "Freedom to make life choices: 0.745178163<br>Location: Bulgaria",
          "Freedom to make life choices: 0.905855775<br>Location: Bahrain",
          "Freedom to make life choices: 0.651352704<br>Location: Bosnia and Herzegovina",
          "Freedom to make life choices: 0.639163077<br>Location: Belarus",
          "Freedom to make life choices: 0.799804807<br>Location: Brazil",
          "Freedom to make life choices: 0.821328104<br>Location: Botswana",
          "Freedom to make life choices: 0.640880644<br>Location: Central African Republic",
          "Freedom to make life choices: 0.933913231<br>Location: Canada",
          "Freedom to make life choices: 0.921336651<br>Location: Switzerland",
          "Freedom to make life choices: 0.744896293<br>Location: Chile",
          "Freedom to make life choices: 0.763051808<br>Location: Cameroon",
          "Freedom to make life choices: 0.836179912<br>Location: Colombia",
          "Freedom to make life choices: 0.547612607<br>Location: Comoros",
          "Freedom to make life choices: 0.934738934<br>Location: Costa Rica",
          "Freedom to make life choices: 0.779858291<br>Location: Cyprus",
          "Freedom to make life choices: 0.867371082<br>Location: Germany",
          "Freedom to make life choices: 0.951444268<br>Location: Denmark",
          "Freedom to make life choices: 0.866202772<br>Location: Dominican Republic",
          "Freedom to make life choices: 0.466610909<br>Location: Algeria",
          "Freedom to make life choices: 0.859828949<br>Location: Ecuador",
          "Freedom to make life choices: 0.751989543<br>Location: Spain",
          "Freedom to make life choices: 0.87770915<br>Location: Estonia",
          "Freedom to make life choices: 0.740795195<br>Location: Ethiopia",
          "Freedom to make life choices: 0.949172199<br>Location: Finland",
          "Freedom to make life choices: 0.825467646<br>Location: France",
          "Freedom to make life choices: 0.704829216<br>Location: Gabon",
          "Freedom to make life choices: 0.834743679<br>Location: United Kingdom",
          "Freedom to make life choices: 0.801641524<br>Location: Georgia",
          "Freedom to make life choices: 0.794796526<br>Location: Ghana",
          "Freedom to make life choices: 0.706846774<br>Location: Guinea",
          "Freedom to make life choices: 0.733163178<br>Location: Gambia",
          "Freedom to make life choices: 0.541345119<br>Location: Greece",
          "Freedom to make life choices: 0.908147573<br>Location: Guatemala",
          "Freedom to make life choices: 0.870603263<br>Location: Honduras",
          "Freedom to make life choices: 0.714838803<br>Location: Croatia",
          "Freedom to make life choices: 0.537825167<br>Location: Haiti",
          "Freedom to make life choices: 0.718964577<br>Location: Hungary",
          "Freedom to make life choices: 0.870614409<br>Location: Indonesia",
          "Freedom to make life choices: 0.881444871<br>Location: India",
          "Freedom to make life choices: 0.886982977<br>Location: Ireland",
          "Freedom to make life choices: 0.633182645<br>Location: Iraq",
          "Freedom to make life choices: 0.948891878<br>Location: Iceland",
          "Freedom to make life choices: 0.747580588<br>Location: Israel",
          "Freedom to make life choices: 0.66465199<br>Location: Italy",
          "Freedom to make life choices: 0.858068526<br>Location: Jamaica",
          "Freedom to make life choices: 0.75104779<br>Location: Jordan",
          "Freedom to make life choices: 0.809961379<br>Location: Japan",
          "Freedom to make life choices: 0.811601937<br>Location: Kazakhstan",
          "Freedom to make life choices: 0.829747558<br>Location: Kenya",
          "Freedom to make life choices: 0.909374893<br>Location: Kyrgyzstan",
          "Freedom to make life choices: 0.959704638<br>Location: Cambodia",
          "Freedom to make life choices: 0.872366488<br>Location: Kuwait",
          "Freedom to make life choices: 0.551357508<br>Location: Lebanon",
          "Freedom to make life choices: 0.735268712<br>Location: Liberia",
          "Freedom to make life choices: 0.773157001<br>Location: Libya",
          "Freedom to make life choices: 0.837633669<br>Location: Sri Lanka",
          "Freedom to make life choices: 0.738125861<br>Location: Lesotho",
          "Freedom to make life choices: 0.747381449<br>Location: Lithuania",
          "Freedom to make life choices: 0.90563643<br>Location: Luxembourg",
          "Freedom to make life choices: 0.671237648<br>Location: Latvia",
          "Freedom to make life choices: 0.772072434<br>Location: Morocco",
          "Freedom to make life choices: 0.557574093<br>Location: Madagascar",
          "Freedom to make life choices: 0.853962779<br>Location: Maldives",
          "Freedom to make life choices: 0.858709276<br>Location: Mexico",
          "Freedom to make life choices: 0.71156615<br>Location: Mali",
          "Freedom to make life choices: 0.924911439<br>Location: Malta",
          "Freedom to make life choices: 0.895075202<br>Location: Myanmar",
          "Freedom to make life choices: 0.649565637<br>Location: Montenegro",
          "Freedom to make life choices: 0.693351328<br>Location: Mongolia",
          "Freedom to make life choices: 0.864451885<br>Location: Mozambique",
          "Freedom to make life choices: 0.551522553<br>Location: Mauritania",
          "Freedom to make life choices: 0.889534533<br>Location: Mauritius",
          "Freedom to make life choices: 0.803223193<br>Location: Malawi",
          "Freedom to make life choices: 0.894626856<br>Location: Malaysia",
          "Freedom to make life choices: 0.767520964<br>Location: Namibia",
          "Freedom to make life choices: 0.759772122<br>Location: Niger",
          "Freedom to make life choices: 0.759578407<br>Location: Nigeria",
          "Freedom to make life choices: 0.863902867<br>Location: Nicaragua",
          "Freedom to make life choices: 0.908547819<br>Location: Netherlands",
          "Freedom to make life choices: 0.955750287<br>Location: Norway",
          "Freedom to make life choices: 0.797565043<br>Location: Nepal",
          "Freedom to make life choices: 0.936217487<br>Location: New Zealand",
          "Freedom to make life choices: 0.734833717<br>Location: Pakistan",
          "Freedom to make life choices: 0.880366504<br>Location: Panama",
          "Freedom to make life choices: 0.824766099<br>Location: Peru",
          "Freedom to make life choices: 0.915463448<br>Location: Philippines",
          "Freedom to make life choices: 0.862055779<br>Location: Poland",
          "Freedom to make life choices: 0.888747811<br>Location: Portugal",
          "Freedom to make life choices: 0.885923445<br>Location: Paraguay",
          "Freedom to make life choices: 0.842823207<br>Location: Romania",
          "Freedom to make life choices: 0.900589406<br>Location: Rwanda",
          "Freedom to make life choices: 0.854191244<br>Location: Saudi Arabia",
          "Freedom to make life choices: 0.690596163<br>Location: Senegal",
          "Freedom to make life choices: 0.926645339<br>Location: Singapore",
          "Freedom to make life choices: 0.715315044<br>Location: Sierra Leone",
          "Freedom to make life choices: 0.833805263<br>Location: El Salvador",
          "Freedom to make life choices: 0.726495862<br>Location: Serbia",
          "Freedom to make life choices: 0.451313615<br>Location: South Sudan",
          "Freedom to make life choices: 0.749952674<br>Location: Slovakia",
          "Freedom to make life choices: 0.936142623<br>Location: Slovenia",
          "Freedom to make life choices: 0.939144194<br>Location: Sweden",
          "Freedom to make life choices: 0.587305248<br>Location: Chad",
          "Freedom to make life choices: 0.649828613<br>Location: Togo",
          "Freedom to make life choices: 0.905063033<br>Location: Thailand",
          "Freedom to make life choices: 0.831383407<br>Location: Tajikistan",
          "Freedom to make life choices: 0.826457024<br>Location: Turkmenistan",
          "Freedom to make life choices: 0.857907116<br>Location: Trinidad and Tobago",
          "Freedom to make life choices: 0.593361557<br>Location: Tunisia",
          "Freedom to make life choices: 0.608830452<br>Location: Turkey",
          "Freedom to make life choices: 0.731713951<br>Location: Uganda",
          "Freedom to make life choices: 0.663081884<br>Location: Ukraine",
          "Freedom to make life choices: 0.892395437<br>Location: Uruguay",
          "Freedom to make life choices: 0.974998116<br>Location: Uzbekistan",
          "Freedom to make life choices: 0.599920273<br>Location: Yemen",
          "Freedom to make life choices: 0.759330094<br>Location: South Africa",
          "Freedom to make life choices: 0.806500256<br>Location: Zambia",
          "Freedom to make life choices: 0.711457908<br>Location: Zimbabwe",
          "Freedom to make life choices: 0.708354175<br>Location: Egypt",
          "Freedom to make life choices: 0.898517907<br>Location: China"
         ],
         "type": "scatter",
         "x": [
          0.179838083,
          0.173300847,
          0.156872548,
          0.078702551,
          0.198225059,
          0.08148769,
          0.092532788,
          0.228278271,
          0.053175034,
          0.069938826,
          0.053680666,
          0.055825361,
          0.14971722,
          0.17166366,
          0.174308426,
          0.141959703,
          0.2030117,
          0.088641179,
          0.046974311,
          0.043417196,
          0.09065454,
          0.077152232,
          0.068722474,
          0.04592324,
          0.087044567,
          0.064909698,
          0.088896329,
          0.156020621,
          0.091977881,
          0.05920077,
          0.160446304,
          0.219362051,
          0.076873004,
          0.088053439,
          0.091774431,
          0.049216867,
          0.096270079,
          0.057504294,
          0.054179701,
          0.100793704,
          0.162714398,
          0.056500109,
          0.051007457,
          0.064076835,
          0.180655916,
          0.057894517,
          0.081005494,
          0.125202126,
          0.096957022,
          0.135943858,
          0.134798277,
          0.14989065,
          0.101490053,
          0.187718993,
          0.106520109,
          0.067289585,
          0.088498166,
          0.061232126,
          0.177381829,
          0.074844264,
          0.114954415,
          0.034703763,
          0.155967626,
          0.077870834,
          0.297418737,
          0.283547644,
          0.056067781,
          0.193379593,
          0.118869641,
          0.028205829,
          0.136723146,
          0.071885398,
          0.129452534,
          0.232556337,
          0.068841296,
          0.171758723,
          0.081116074,
          0.044685563,
          0.138743495,
          0.074296407,
          0.138848919,
          0.135299299,
          0.033514468,
          0.059453101,
          0.108332629,
          0.044797722,
          0.150764737,
          0.043950508,
          0.051839003,
          0.048129985,
          0.089336821,
          0.070493275,
          0.076863307,
          0.108394074,
          0.098293008,
          0.153878137,
          0.069004033,
          0.060526684,
          0.138698717,
          0.098647527,
          0.071254268,
          0.092071598,
          0.134097292,
          0.042211242,
          0.200012811,
          0.059152147,
          0.143168452,
          0.057906065,
          0.077575788,
          0.128039467,
          0.039444365,
          0.139230717,
          0.07195228,
          0.087553881,
          0.048078671,
          0.062197999,
          0.061612522,
          0.195622617,
          0.203623009,
          0.112233146,
          0.217742047,
          0.159126961,
          0.040224443,
          0.201914435,
          0.066344157,
          0.239302594,
          0.189278911,
          0.034259257,
          0.037536953,
          0.051815546,
          0.270220273,
          0.116200299
         ],
         "xaxis": "x",
         "y": [
          0.396573007,
          0.781994224,
          0.941345513,
          0.831132412,
          0.712017834,
          0.915431738,
          0.899989486,
          0.786824107,
          0.626350224,
          0.813582063,
          0.735182583,
          0.665563583,
          0.90062499,
          0.745178163,
          0.905855775,
          0.651352704,
          0.639163077,
          0.799804807,
          0.821328104,
          0.640880644,
          0.933913231,
          0.921336651,
          0.744896293,
          0.763051808,
          0.836179912,
          0.547612607,
          0.934738934,
          0.779858291,
          0.867371082,
          0.951444268,
          0.866202772,
          0.466610909,
          0.859828949,
          0.751989543,
          0.87770915,
          0.740795195,
          0.949172199,
          0.825467646,
          0.704829216,
          0.834743679,
          0.801641524,
          0.794796526,
          0.706846774,
          0.733163178,
          0.541345119,
          0.908147573,
          0.870603263,
          0.714838803,
          0.537825167,
          0.718964577,
          0.870614409,
          0.881444871,
          0.886982977,
          0.633182645,
          0.948891878,
          0.747580588,
          0.66465199,
          0.858068526,
          0.75104779,
          0.809961379,
          0.811601937,
          0.829747558,
          0.909374893,
          0.959704638,
          0.872366488,
          0.551357508,
          0.735268712,
          0.773157001,
          0.837633669,
          0.738125861,
          0.747381449,
          0.90563643,
          0.671237648,
          0.772072434,
          0.557574093,
          0.853962779,
          0.858709276,
          0.71156615,
          0.924911439,
          0.895075202,
          0.649565637,
          0.693351328,
          0.864451885,
          0.551522553,
          0.889534533,
          0.803223193,
          0.894626856,
          0.767520964,
          0.759772122,
          0.759578407,
          0.863902867,
          0.908547819,
          0.955750287,
          0.797565043,
          0.936217487,
          0.734833717,
          0.880366504,
          0.824766099,
          0.915463448,
          0.862055779,
          0.888747811,
          0.885923445,
          0.842823207,
          0.900589406,
          0.854191244,
          0.690596163,
          0.926645339,
          0.715315044,
          0.833805263,
          0.726495862,
          0.451313615,
          0.749952674,
          0.936142623,
          0.939144194,
          0.587305248,
          0.649828613,
          0.905063033,
          0.831383407,
          0.826457024,
          0.857907116,
          0.593361557,
          0.608830452,
          0.731713951,
          0.663081884,
          0.892395437,
          0.974998116,
          0.599920273,
          0.759330094,
          0.806500256,
          0.711457908,
          0.708354175,
          0.898517907
         ],
         "yaxis": "y"
        },
        {
         "hoverinfo": "text",
         "mode": "markers",
         "text": [
          "Healthy life expectancy: 52.59000015<br>Location: Afghanistan",
          "Healthy life expectancy: 68.70813751<br>Location: Albania",
          "Healthy life expectancy: 67.08278656<br>Location: United Arab Emirates",
          "Healthy life expectancy: 68.80380249<br>Location: Argentina",
          "Healthy life expectancy: 66.75065613<br>Location: Armenia",
          "Healthy life expectancy: 73.60453796<br>Location: Australia",
          "Healthy life expectancy: 73.00250244<br>Location: Austria",
          "Healthy life expectancy: 65.50839996<br>Location: Azerbaijan",
          "Healthy life expectancy: 53.40000153<br>Location: Burundi",
          "Healthy life expectancy: 72.00164795<br>Location: Belgium",
          "Healthy life expectancy: 54.31246567<br>Location: Benin",
          "Healthy life expectancy: 53.88945389<br>Location: Burkina Faso",
          "Healthy life expectancy: 64.50306702<br>Location: Bangladesh",
          "Healthy life expectancy: 66.80397797<br>Location: Bulgaria",
          "Healthy life expectancy: 68.5<br>Location: Bahrain",
          "Healthy life expectancy: 67.80813599<br>Location: Bosnia and Herzegovina",
          "Healthy life expectancy: 66.10433197<br>Location: Belarus",
          "Healthy life expectancy: 66.48016357<br>Location: Brazil",
          "Healthy life expectancy: 58.92445374<br>Location: Botswana",
          "Healthy life expectancy: 45.20000076<br>Location: Central African Republic",
          "Healthy life expectancy: 73.60160065<br>Location: Canada",
          "Healthy life expectancy: 74.10244751<br>Location: Switzerland",
          "Healthy life expectancy: 69.90061951<br>Location: Chile",
          "Healthy life expectancy: 52.7049408<br>Location: Cameroon",
          "Healthy life expectancy: 67.69958496<br>Location: Colombia",
          "Healthy life expectancy: 57.34901047<br>Location: Comoros",
          "Healthy life expectancy: 71.29985046<br>Location: Costa Rica",
          "Healthy life expectancy: 73.70222473<br>Location: Cyprus",
          "Healthy life expectancy: 72.20201874<br>Location: Germany",
          "Healthy life expectancy: 72.40250397<br>Location: Denmark",
          "Healthy life expectancy: 65.80748749<br>Location: Dominican Republic",
          "Healthy life expectancy: 65.90517426<br>Location: Algeria",
          "Healthy life expectancy: 68.50003815<br>Location: Ecuador",
          "Healthy life expectancy: 74.40270996<br>Location: Spain",
          "Healthy life expectancy: 68.60495758<br>Location: Estonia",
          "Healthy life expectancy: 58.63959122<br>Location: Ethiopia",
          "Healthy life expectancy: 71.9008255<br>Location: Finland",
          "Healthy life expectancy: 73.80193329<br>Location: France",
          "Healthy life expectancy: 59.71533966<br>Location: Gabon",
          "Healthy life expectancy: 72.30160522<br>Location: United Kingdom",
          "Healthy life expectancy: 64.49520874<br>Location: Georgia",
          "Healthy life expectancy: 57.20398712<br>Location: Ghana",
          "Healthy life expectancy: 54.46780014<br>Location: Guinea",
          "Healthy life expectancy: 55.0120163<br>Location: Gambia",
          "Healthy life expectancy: 72.40525818<br>Location: Greece",
          "Healthy life expectancy: 64.8089447<br>Location: Guatemala",
          "Healthy life expectancy: 67.19876862<br>Location: Honduras",
          "Healthy life expectancy: 70.21490479<br>Location: Croatia",
          "Healthy life expectancy: 55.59862518<br>Location: Haiti",
          "Healthy life expectancy: 67.60997009<br>Location: Hungary",
          "Healthy life expectancy: 62.15584946<br>Location: Indonesia",
          "Healthy life expectancy: 60.21518707<br>Location: India",
          "Healthy life expectancy: 72.30078888<br>Location: Ireland",
          "Healthy life expectancy: 59.90354919<br>Location: Iraq",
          "Healthy life expectancy: 73.0<br>Location: Iceland",
          "Healthy life expectancy: 73.20025635<br>Location: Israel",
          "Healthy life expectancy: 73.60168457<br>Location: Italy",
          "Healthy life expectancy: 67.09999847<br>Location: Jamaica",
          "Healthy life expectancy: 66.79975128<br>Location: Jordan",
          "Healthy life expectancy: 75.00096893<br>Location: Japan",
          "Healthy life expectancy: 64.60996246<br>Location: Kazakhstan",
          "Healthy life expectancy: 60.09693146<br>Location: Kenya",
          "Healthy life expectancy: 64.10601044<br>Location: Kyrgyzstan",
          "Healthy life expectancy: 61.52996826<br>Location: Cambodia",
          "Healthy life expectancy: 66.76764679<br>Location: Kuwait",
          "Healthy life expectancy: 67.10658264<br>Location: Lebanon",
          "Healthy life expectancy: 56.09631348<br>Location: Liberia",
          "Healthy life expectancy: 62.29999924<br>Location: Libya",
          "Healthy life expectancy: 67.20006561<br>Location: Sri Lanka",
          "Healthy life expectancy: 48.00362396<br>Location: Lesotho",
          "Healthy life expectancy: 67.29407501<br>Location: Lithuania",
          "Healthy life expectancy: 72.59999847<br>Location: Luxembourg",
          "Healthy life expectancy: 66.8074646<br>Location: Latvia",
          "Healthy life expectancy: 65.89624023<br>Location: Morocco",
          "Healthy life expectancy: 59.10542679<br>Location: Madagascar",
          "Healthy life expectancy: 70.59999847<br>Location: Maldives",
          "Healthy life expectancy: 68.29902649<br>Location: Mexico",
          "Healthy life expectancy: 51.72698212<br>Location: Mali",
          "Healthy life expectancy: 72.19999695<br>Location: Malta",
          "Healthy life expectancy: 58.96171188<br>Location: Myanmar",
          "Healthy life expectancy: 68.50534821<br>Location: Montenegro",
          "Healthy life expectancy: 62.30448532<br>Location: Mongolia",
          "Healthy life expectancy: 54.20582199<br>Location: Mozambique",
          "Healthy life expectancy: 57.01017761<br>Location: Mauritania",
          "Healthy life expectancy: 66.40434265<br>Location: Mauritius",
          "Healthy life expectancy: 57.59288788<br>Location: Malawi",
          "Healthy life expectancy: 67.10215759<br>Location: Malaysia",
          "Healthy life expectancy: 56.50148773<br>Location: Namibia",
          "Healthy life expectancy: 53.50009537<br>Location: Niger",
          "Healthy life expectancy: 49.86190796<br>Location: Nigeria",
          "Healthy life expectancy: 67.50717926<br>Location: Nicaragua",
          "Healthy life expectancy: 72.30091858<br>Location: Netherlands",
          "Healthy life expectancy: 73.20078278<br>Location: Norway",
          "Healthy life expectancy: 63.77917862<br>Location: Nepal",
          "Healthy life expectancy: 73.20262909<br>Location: New Zealand",
          "Healthy life expectancy: 58.25313568<br>Location: Pakistan",
          "Healthy life expectancy: 69.60301208<br>Location: Panama",
          "Healthy life expectancy: 68.10023499<br>Location: Peru",
          "Healthy life expectancy: 61.92676163<br>Location: Philippines",
          "Healthy life expectancy: 69.31113434<br>Location: Poland",
          "Healthy life expectancy: 72.40202332<br>Location: Portugal",
          "Healthy life expectancy: 65.63993835<br>Location: Paraguay",
          "Healthy life expectancy: 67.20723724<br>Location: Romania",
          "Healthy life expectancy: 61.09884644<br>Location: Rwanda",
          "Healthy life expectancy: 66.30514526<br>Location: Saudi Arabia",
          "Healthy life expectancy: 59.59915161<br>Location: Senegal",
          "Healthy life expectancy: 76.80458069<br>Location: Singapore",
          "Healthy life expectancy: 50.86514282<br>Location: Sierra Leone",
          "Healthy life expectancy: 66.10826111<br>Location: El Salvador",
          "Healthy life expectancy: 68.21020508<br>Location: Serbia",
          "Healthy life expectancy: 51.0<br>Location: South Sudan",
          "Healthy life expectancy: 68.90634155<br>Location: Slovakia",
          "Healthy life expectancy: 71.1029892<br>Location: Slovenia",
          "Healthy life expectancy: 72.60076904<br>Location: Sweden",
          "Healthy life expectancy: 48.22053909<br>Location: Chad",
          "Healthy life expectancy: 54.71989822<br>Location: Togo",
          "Healthy life expectancy: 67.25059509<br>Location: Thailand",
          "Healthy life expectancy: 64.10459137<br>Location: Tajikistan",
          "Healthy life expectancy: 62.21170807<br>Location: Turkmenistan",
          "Healthy life expectancy: 63.5<br>Location: Trinidad and Tobago",
          "Healthy life expectancy: 66.89785767<br>Location: Tunisia",
          "Healthy life expectancy: 66.90281677<br>Location: Turkey",
          "Healthy life expectancy: 55.70820236<br>Location: Uganda",
          "Healthy life expectancy: 64.60678101<br>Location: Ukraine",
          "Healthy life expectancy: 69.00254822<br>Location: Uruguay",
          "Healthy life expectancy: 65.10757446<br>Location: Uzbekistan",
          "Healthy life expectancy: 56.72728348<br>Location: Yemen",
          "Healthy life expectancy: 56.50601196<br>Location: South Africa",
          "Healthy life expectancy: 55.29937744<br>Location: Zambia",
          "Healthy life expectancy: 55.61725998<br>Location: Zimbabwe",
          "Healthy life expectancy: 61.78015137<br>Location: Egypt",
          "Healthy life expectancy: 69.2891922<br>Location: China"
         ],
         "type": "scatter",
         "x": [
          0.179838083,
          0.173300847,
          0.156872548,
          0.078702551,
          0.198225059,
          0.08148769,
          0.092532788,
          0.228278271,
          0.053175034,
          0.069938826,
          0.053680666,
          0.055825361,
          0.14971722,
          0.17166366,
          0.174308426,
          0.141959703,
          0.2030117,
          0.088641179,
          0.046974311,
          0.043417196,
          0.09065454,
          0.077152232,
          0.068722474,
          0.04592324,
          0.087044567,
          0.064909698,
          0.088896329,
          0.156020621,
          0.091977881,
          0.05920077,
          0.160446304,
          0.219362051,
          0.076873004,
          0.088053439,
          0.091774431,
          0.049216867,
          0.096270079,
          0.057504294,
          0.054179701,
          0.100793704,
          0.162714398,
          0.056500109,
          0.051007457,
          0.064076835,
          0.180655916,
          0.057894517,
          0.081005494,
          0.125202126,
          0.096957022,
          0.135943858,
          0.134798277,
          0.14989065,
          0.101490053,
          0.187718993,
          0.106520109,
          0.067289585,
          0.088498166,
          0.061232126,
          0.177381829,
          0.074844264,
          0.114954415,
          0.034703763,
          0.155967626,
          0.077870834,
          0.297418737,
          0.283547644,
          0.056067781,
          0.193379593,
          0.118869641,
          0.028205829,
          0.136723146,
          0.071885398,
          0.129452534,
          0.232556337,
          0.068841296,
          0.171758723,
          0.081116074,
          0.044685563,
          0.138743495,
          0.074296407,
          0.138848919,
          0.135299299,
          0.033514468,
          0.059453101,
          0.108332629,
          0.044797722,
          0.150764737,
          0.043950508,
          0.051839003,
          0.048129985,
          0.089336821,
          0.070493275,
          0.076863307,
          0.108394074,
          0.098293008,
          0.153878137,
          0.069004033,
          0.060526684,
          0.138698717,
          0.098647527,
          0.071254268,
          0.092071598,
          0.134097292,
          0.042211242,
          0.200012811,
          0.059152147,
          0.143168452,
          0.057906065,
          0.077575788,
          0.128039467,
          0.039444365,
          0.139230717,
          0.07195228,
          0.087553881,
          0.048078671,
          0.062197999,
          0.061612522,
          0.195622617,
          0.203623009,
          0.112233146,
          0.217742047,
          0.159126961,
          0.040224443,
          0.201914435,
          0.066344157,
          0.239302594,
          0.189278911,
          0.034259257,
          0.037536953,
          0.051815546,
          0.270220273,
          0.116200299
         ],
         "xaxis": "x2",
         "y": [
          52.59000015,
          68.70813751,
          67.08278656,
          68.80380249,
          66.75065613,
          73.60453796,
          73.00250244,
          65.50839996,
          53.40000153,
          72.00164795,
          54.31246567,
          53.88945389,
          64.50306702,
          66.80397797,
          68.5,
          67.80813599,
          66.10433197,
          66.48016357,
          58.92445374,
          45.20000076,
          73.60160065,
          74.10244751,
          69.90061951,
          52.7049408,
          67.69958496,
          57.34901047,
          71.29985046,
          73.70222473,
          72.20201874,
          72.40250397,
          65.80748749,
          65.90517426,
          68.50003815,
          74.40270996,
          68.60495758,
          58.63959122,
          71.9008255,
          73.80193329,
          59.71533966,
          72.30160522,
          64.49520874,
          57.20398712,
          54.46780014,
          55.0120163,
          72.40525818,
          64.8089447,
          67.19876862,
          70.21490479,
          55.59862518,
          67.60997009,
          62.15584946,
          60.21518707,
          72.30078888,
          59.90354919,
          73,
          73.20025635,
          73.60168457,
          67.09999847,
          66.79975128,
          75.00096893,
          64.60996246,
          60.09693146,
          64.10601044,
          61.52996826,
          66.76764679,
          67.10658264,
          56.09631348,
          62.29999924,
          67.20006561,
          48.00362396,
          67.29407501,
          72.59999847,
          66.8074646,
          65.89624023,
          59.10542679,
          70.59999847,
          68.29902649,
          51.72698212,
          72.19999695,
          58.96171188,
          68.50534821,
          62.30448532,
          54.20582199,
          57.01017761,
          66.40434265,
          57.59288788,
          67.10215759,
          56.50148773,
          53.50009537,
          49.86190796,
          67.50717926,
          72.30091858,
          73.20078278,
          63.77917862,
          73.20262909,
          58.25313568,
          69.60301208,
          68.10023499,
          61.92676163,
          69.31113434,
          72.40202332,
          65.63993835,
          67.20723724,
          61.09884644,
          66.30514526,
          59.59915161,
          76.80458069,
          50.86514282,
          66.10826111,
          68.21020508,
          51,
          68.90634155,
          71.1029892,
          72.60076904,
          48.22053909,
          54.71989822,
          67.25059509,
          64.10459137,
          62.21170807,
          63.5,
          66.89785767,
          66.90281677,
          55.70820236,
          64.60678101,
          69.00254822,
          65.10757446,
          56.72728348,
          56.50601196,
          55.29937744,
          55.61725998,
          61.78015137,
          69.2891922
         ],
         "yaxis": "y2"
        },
        {
         "hoverinfo": "text",
         "mode": "markers",
         "text": [
          "Social support: 0.470366955<br>Location: Afghanistan",
          "Social support: 0.671070457<br>Location: Albania",
          "Social support: 0.849181116<br>Location: United Arab Emirates",
          "Social support: 0.900567949<br>Location: Argentina",
          "Social support: 0.757479429<br>Location: Armenia",
          "Social support: 0.944854617<br>Location: Australia",
          "Social support: 0.928045869<br>Location: Austria",
          "Social support: 0.819308281<br>Location: Azerbaijan",
          "Social support: 0.490325719<br>Location: Burundi",
          "Social support: 0.911632538<br>Location: Belgium",
          "Social support: 0.468671143<br>Location: Benin",
          "Social support: 0.712943614<br>Location: Burkina Faso",
          "Social support: 0.687292993<br>Location: Bangladesh",
          "Social support: 0.937840343<br>Location: Bulgaria",
          "Social support: 0.876342118<br>Location: Bahrain",
          "Social support: 0.829204142<br>Location: Bosnia and Herzegovina",
          "Social support: 0.90674746<br>Location: Belarus",
          "Social support: 0.896723807<br>Location: Brazil",
          "Social support: 0.779121757<br>Location: Botswana",
          "Social support: 0.319459856<br>Location: Central African Republic",
          "Social support: 0.927176654<br>Location: Canada",
          "Social support: 0.942846596<br>Location: Switzerland",
          "Social support: 0.879713595<br>Location: Chile",
          "Social support: 0.700386405<br>Location: Cameroon",
          "Social support: 0.884440243<br>Location: Colombia",
          "Social support: 0.625662446<br>Location: Comoros",
          "Social support: 0.901545942<br>Location: Costa Rica",
          "Social support: 0.805996239<br>Location: Cyprus",
          "Social support: 0.898874462<br>Location: Germany",
          "Social support: 0.955990791<br>Location: Denmark",
          "Social support: 0.882085383<br>Location: Dominican Republic",
          "Social support: 0.803385139<br>Location: Algeria",
          "Social support: 0.836418986<br>Location: Ecuador",
          "Social support: 0.921125412<br>Location: Spain",
          "Social support: 0.934729993<br>Location: Estonia",
          "Social support: 0.743307352<br>Location: Ethiopia",
          "Social support: 0.954329729<br>Location: Finland",
          "Social support: 0.937103748<br>Location: France",
          "Social support: 0.787886858<br>Location: Gabon",
          "Social support: 0.93668282<br>Location: United Kingdom",
          "Social support: 0.629033029<br>Location: Georgia",
          "Social support: 0.728601098<br>Location: Ghana",
          "Social support: 0.637573481<br>Location: Guinea",
          "Social support: 0.6931687<br>Location: Gambia",
          "Social support: 0.814380348<br>Location: Greece",
          "Social support: 0.816621482<br>Location: Guatemala",
          "Social support: 0.821870148<br>Location: Honduras",
          "Social support: 0.874623716<br>Location: Croatia",
          "Social support: 0.593247831<br>Location: Haiti",
          "Social support: 0.921934128<br>Location: Hungary",
          "Social support: 0.808379889<br>Location: Indonesia",
          "Social support: 0.592200935<br>Location: India",
          "Social support: 0.942081571<br>Location: Ireland",
          "Social support: 0.747694969<br>Location: Iraq",
          "Social support: 0.974669576<br>Location: Iceland",
          "Social support: 0.913571239<br>Location: Israel",
          "Social support: 0.889878571<br>Location: Italy",
          "Social support: 0.915701866<br>Location: Jamaica",
          "Social support: 0.80216372<br>Location: Jordan",
          "Social support: 0.883545935<br>Location: Japan",
          "Social support: 0.934744895<br>Location: Kazakhstan",
          "Social support: 0.702652037<br>Location: Kenya",
          "Social support: 0.887228489<br>Location: Kyrgyzstan",
          "Social support: 0.773080647<br>Location: Cambodia",
          "Social support: 0.846475244<br>Location: Kuwait",
          "Social support: 0.824338138<br>Location: Lebanon",
          "Social support: 0.70928055<br>Location: Liberia",
          "Social support: 0.825942934<br>Location: Libya",
          "Social support: 0.825374067<br>Location: Sri Lanka",
          "Social support: 0.780495703<br>Location: Lesotho",
          "Social support: 0.926107109<br>Location: Lithuania",
          "Social support: 0.906912208<br>Location: Luxembourg",
          "Social support: 0.918288589<br>Location: Latvia",
          "Social support: 0.592628479<br>Location: Morocco",
          "Social support: 0.668195903<br>Location: Madagascar",
          "Social support: 0.91316092<br>Location: Maldives",
          "Social support: 0.838665426<br>Location: Mexico",
          "Social support: 0.731468976<br>Location: Mali",
          "Social support: 0.93037951<br>Location: Malta",
          "Social support: 0.78440702<br>Location: Myanmar",
          "Social support: 0.855314612<br>Location: Montenegro",
          "Social support: 0.937142491<br>Location: Mongolia",
          "Social support: 0.723874032<br>Location: Mozambique",
          "Social support: 0.790819228<br>Location: Mauritania",
          "Social support: 0.910357833<br>Location: Mauritius",
          "Social support: 0.544007301<br>Location: Malawi",
          "Social support: 0.816509426<br>Location: Malaysia",
          "Social support: 0.846880972<br>Location: Namibia",
          "Social support: 0.617435038<br>Location: Niger",
          "Social support: 0.73721689<br>Location: Nigeria",
          "Social support: 0.857497036<br>Location: Nicaragua",
          "Social support: 0.93913883<br>Location: Netherlands",
          "Social support: 0.952486575<br>Location: Norway",
          "Social support: 0.785512447<br>Location: Nepal",
          "Social support: 0.949118972<br>Location: New Zealand",
          "Social support: 0.689062297<br>Location: Pakistan",
          "Social support: 0.902094483<br>Location: Panama",
          "Social support: 0.831075251<br>Location: Peru",
          "Social support: 0.846730053<br>Location: Philippines",
          "Social support: 0.874257445<br>Location: Poland",
          "Social support: 0.886590719<br>Location: Portugal",
          "Social support: 0.898727894<br>Location: Paraguay",
          "Social support: 0.825161517<br>Location: Romania",
          "Social support: 0.54083544<br>Location: Rwanda",
          "Social support: 0.874067068<br>Location: Saudi Arabia",
          "Social support: 0.723616004<br>Location: Senegal",
          "Social support: 0.910268962<br>Location: Singapore",
          "Social support: 0.636142015<br>Location: Sierra Leone",
          "Social support: 0.806092262<br>Location: El Salvador",
          "Social support: 0.881475747<br>Location: Serbia",
          "Social support: 0.553707123<br>Location: South Sudan",
          "Social support: 0.922493756<br>Location: Slovakia",
          "Social support: 0.939575672<br>Location: Slovenia",
          "Social support: 0.926311195<br>Location: Sweden",
          "Social support: 0.632388055<br>Location: Chad",
          "Social support: 0.551312625<br>Location: Togo",
          "Social support: 0.889973223<br>Location: Thailand",
          "Social support: 0.835297108<br>Location: Tajikistan",
          "Social support: 0.958966196<br>Location: Turkmenistan",
          "Social support: 0.91529417<br>Location: Trinidad and Tobago",
          "Social support: 0.688718557<br>Location: Tunisia",
          "Social support: 0.826313555<br>Location: Turkey",
          "Social support: 0.764994621<br>Location: Uganda",
          "Social support: 0.878879368<br>Location: Ukraine",
          "Social support: 0.92281127<br>Location: Uruguay",
          "Social support: 0.926595807<br>Location: Uzbekistan",
          "Social support: 0.817980587<br>Location: Yemen",
          "Social support: 0.852532268<br>Location: South Africa",
          "Social support: 0.698824465<br>Location: Zambia",
          "Social support: 0.763092756<br>Location: Zimbabwe",
          "Social support: 0.735447824<br>Location: Egypt",
          "Social support: 0.798760593<br>Location: China"
         ],
         "type": "scatter",
         "x": [
          0.179838083,
          0.173300847,
          0.156872548,
          0.078702551,
          0.198225059,
          0.08148769,
          0.092532788,
          0.228278271,
          0.053175034,
          0.069938826,
          0.053680666,
          0.055825361,
          0.14971722,
          0.17166366,
          0.174308426,
          0.141959703,
          0.2030117,
          0.088641179,
          0.046974311,
          0.043417196,
          0.09065454,
          0.077152232,
          0.068722474,
          0.04592324,
          0.087044567,
          0.064909698,
          0.088896329,
          0.156020621,
          0.091977881,
          0.05920077,
          0.160446304,
          0.219362051,
          0.076873004,
          0.088053439,
          0.091774431,
          0.049216867,
          0.096270079,
          0.057504294,
          0.054179701,
          0.100793704,
          0.162714398,
          0.056500109,
          0.051007457,
          0.064076835,
          0.180655916,
          0.057894517,
          0.081005494,
          0.125202126,
          0.096957022,
          0.135943858,
          0.134798277,
          0.14989065,
          0.101490053,
          0.187718993,
          0.106520109,
          0.067289585,
          0.088498166,
          0.061232126,
          0.177381829,
          0.074844264,
          0.114954415,
          0.034703763,
          0.155967626,
          0.077870834,
          0.297418737,
          0.283547644,
          0.056067781,
          0.193379593,
          0.118869641,
          0.028205829,
          0.136723146,
          0.071885398,
          0.129452534,
          0.232556337,
          0.068841296,
          0.171758723,
          0.081116074,
          0.044685563,
          0.138743495,
          0.074296407,
          0.138848919,
          0.135299299,
          0.033514468,
          0.059453101,
          0.108332629,
          0.044797722,
          0.150764737,
          0.043950508,
          0.051839003,
          0.048129985,
          0.089336821,
          0.070493275,
          0.076863307,
          0.108394074,
          0.098293008,
          0.153878137,
          0.069004033,
          0.060526684,
          0.138698717,
          0.098647527,
          0.071254268,
          0.092071598,
          0.134097292,
          0.042211242,
          0.200012811,
          0.059152147,
          0.143168452,
          0.057906065,
          0.077575788,
          0.128039467,
          0.039444365,
          0.139230717,
          0.07195228,
          0.087553881,
          0.048078671,
          0.062197999,
          0.061612522,
          0.195622617,
          0.203623009,
          0.112233146,
          0.217742047,
          0.159126961,
          0.040224443,
          0.201914435,
          0.066344157,
          0.239302594,
          0.189278911,
          0.034259257,
          0.037536953,
          0.051815546,
          0.270220273,
          0.116200299
         ],
         "xaxis": "x3",
         "y": [
          0.470366955,
          0.671070457,
          0.849181116,
          0.900567949,
          0.757479429,
          0.944854617,
          0.928045869,
          0.819308281,
          0.490325719,
          0.911632538,
          0.468671143,
          0.712943614,
          0.687292993,
          0.937840343,
          0.876342118,
          0.829204142,
          0.90674746,
          0.896723807,
          0.779121757,
          0.319459856,
          0.927176654,
          0.942846596,
          0.879713595,
          0.700386405,
          0.884440243,
          0.625662446,
          0.901545942,
          0.805996239,
          0.898874462,
          0.955990791,
          0.882085383,
          0.803385139,
          0.836418986,
          0.921125412,
          0.934729993,
          0.743307352,
          0.954329729,
          0.937103748,
          0.787886858,
          0.93668282,
          0.629033029,
          0.728601098,
          0.637573481,
          0.6931687,
          0.814380348,
          0.816621482,
          0.821870148,
          0.874623716,
          0.593247831,
          0.921934128,
          0.808379889,
          0.592200935,
          0.942081571,
          0.747694969,
          0.974669576,
          0.913571239,
          0.889878571,
          0.915701866,
          0.80216372,
          0.883545935,
          0.934744895,
          0.702652037,
          0.887228489,
          0.773080647,
          0.846475244,
          0.824338138,
          0.70928055,
          0.825942934,
          0.825374067,
          0.780495703,
          0.926107109,
          0.906912208,
          0.918288589,
          0.592628479,
          0.668195903,
          0.91316092,
          0.838665426,
          0.731468976,
          0.93037951,
          0.78440702,
          0.855314612,
          0.937142491,
          0.723874032,
          0.790819228,
          0.910357833,
          0.544007301,
          0.816509426,
          0.846880972,
          0.617435038,
          0.73721689,
          0.857497036,
          0.93913883,
          0.952486575,
          0.785512447,
          0.949118972,
          0.689062297,
          0.902094483,
          0.831075251,
          0.846730053,
          0.874257445,
          0.886590719,
          0.898727894,
          0.825161517,
          0.54083544,
          0.874067068,
          0.723616004,
          0.910268962,
          0.636142015,
          0.806092262,
          0.881475747,
          0.553707123,
          0.922493756,
          0.939575672,
          0.926311195,
          0.632388055,
          0.551312625,
          0.889973223,
          0.835297108,
          0.958966196,
          0.91529417,
          0.688718557,
          0.826313555,
          0.764994621,
          0.878879368,
          0.92281127,
          0.926595807,
          0.817980587,
          0.852532268,
          0.698824465,
          0.763092756,
          0.735447824,
          0.798760593
         ],
         "yaxis": "y3"
        },
        {
         "hoverinfo": "text",
         "mode": "markers",
         "text": [
          "Logged GDP per capita: 7.462860584<br>Location: Afghanistan",
          "Logged GDP per capita: 9.417930603<br>Location: Albania",
          "Logged GDP per capita: 11.1099987<br>Location: United Arab Emirates",
          "Logged GDP per capita: 9.810955048<br>Location: Argentina",
          "Logged GDP per capita: 9.100476265<br>Location: Armenia",
          "Logged GDP per capita: 10.72059631<br>Location: Australia",
          "Logged GDP per capita: 10.7428236<br>Location: Austria",
          "Logged GDP per capita: 9.687726974<br>Location: Azerbaijan",
          "Logged GDP per capita: 6.492642403<br>Location: Burundi",
          "Logged GDP per capita: 10.6736393<br>Location: Belgium",
          "Logged GDP per capita: 7.674319744<br>Location: Benin",
          "Logged GDP per capita: 7.46854496<br>Location: Burkina Faso",
          "Logged GDP per capita: 8.287063599<br>Location: Bangladesh",
          "Logged GDP per capita: 9.869318962<br>Location: Bulgaria",
          "Logged GDP per capita: 10.67638016<br>Location: Bahrain",
          "Logged GDP per capita: 9.455817223<br>Location: Bosnia and Herzegovina",
          "Logged GDP per capita: 9.779945374<br>Location: Belarus",
          "Logged GDP per capita: 9.56643486<br>Location: Brazil",
          "Logged GDP per capita: 9.711203575<br>Location: Botswana",
          "Logged GDP per capita: 6.625160217<br>Location: Central African Republic",
          "Logged GDP per capita: 10.69236851<br>Location: Canada",
          "Logged GDP per capita: 10.97993279<br>Location: Switzerland",
          "Logged GDP per capita: 10.0320549<br>Location: Chile",
          "Logged GDP per capita: 8.118647575<br>Location: Cameroon",
          "Logged GDP per capita: 9.500369072<br>Location: Colombia",
          "Logged GDP per capita: 7.833630085<br>Location: Comoros",
          "Logged GDP per capita: 9.658156395<br>Location: Costa Rica",
          "Logged GDP per capita: 10.40570259<br>Location: Cyprus",
          "Logged GDP per capita: 10.7328186<br>Location: Germany",
          "Logged GDP per capita: 10.77400112<br>Location: Denmark",
          "Logged GDP per capita: 9.664880753<br>Location: Dominican Republic",
          "Logged GDP per capita: 9.537964821<br>Location: Algeria",
          "Logged GDP per capita: 9.246058464<br>Location: Ecuador",
          "Logged GDP per capita: 10.46292686<br>Location: Spain",
          "Logged GDP per capita: 10.34001732<br>Location: Estonia",
          "Logged GDP per capita: 7.509385586<br>Location: Ethiopia",
          "Logged GDP per capita: 10.63926697<br>Location: Finland",
          "Logged GDP per capita: 10.58422279<br>Location: France",
          "Logged GDP per capita: 9.680537224<br>Location: Gabon",
          "Logged GDP per capita: 10.60013485<br>Location: United Kingdom",
          "Logged GDP per capita: 9.226100922<br>Location: Georgia",
          "Logged GDP per capita: 8.350645065<br>Location: Ghana",
          "Logged GDP per capita: 7.750990391<br>Location: Guinea",
          "Logged GDP per capita: 7.321814537<br>Location: Gambia",
          "Logged GDP per capita: 10.13232613<br>Location: Greece",
          "Logged GDP per capita: 8.924805641<br>Location: Guatemala",
          "Logged GDP per capita: 8.424534798<br>Location: Honduras",
          "Logged GDP per capita: 10.07087517<br>Location: Croatia",
          "Logged GDP per capita: 7.411329269<br>Location: Haiti",
          "Logged GDP per capita: 10.24924374<br>Location: Hungary",
          "Logged GDP per capita: 9.36975193<br>Location: Indonesia",
          "Logged GDP per capita: 8.849823952<br>Location: India",
          "Logged GDP per capita: 11.16097832<br>Location: Ireland",
          "Logged GDP per capita: 9.661095619<br>Location: Iraq",
          "Logged GDP per capita: 10.77255917<br>Location: Iceland",
          "Logged GDP per capita: 10.41752529<br>Location: Israel",
          "Logged GDP per capita: 10.48183632<br>Location: Italy",
          "Logged GDP per capita: 9.006250381<br>Location: Jamaica",
          "Logged GDP per capita: 9.025999069<br>Location: Jordan",
          "Logged GDP per capita: 10.57968903<br>Location: Japan",
          "Logged GDP per capita: 10.11465836<br>Location: Kazakhstan",
          "Logged GDP per capita: 8.02977562<br>Location: Kenya",
          "Logged GDP per capita: 8.148405075<br>Location: Kyrgyzstan",
          "Logged GDP per capita: 8.249890327<br>Location: Cambodia",
          "Logged GDP per capita: 11.08982468<br>Location: Kuwait",
          "Logged GDP per capita: 9.3617239<br>Location: Lebanon",
          "Logged GDP per capita: 7.054380417<br>Location: Liberia",
          "Logged GDP per capita: 9.789815903<br>Location: Libya",
          "Logged GDP per capita: 9.389969826<br>Location: Sri Lanka",
          "Logged GDP per capita: 7.960488319<br>Location: Lesotho",
          "Logged GDP per capita: 10.34362602<br>Location: Lithuania",
          "Logged GDP per capita: 11.45068073<br>Location: Luxembourg",
          "Logged GDP per capita: 10.17531967<br>Location: Latvia",
          "Logged GDP per capita: 8.940313339<br>Location: Morocco",
          "Logged GDP per capita: 7.281685829<br>Location: Madagascar",
          "Logged GDP per capita: 9.518632889<br>Location: Maldives",
          "Logged GDP per capita: 9.797797203<br>Location: Mexico",
          "Logged GDP per capita: 7.629852295<br>Location: Mali",
          "Logged GDP per capita: 10.53383827<br>Location: Malta",
          "Logged GDP per capita: 8.680481911<br>Location: Myanmar",
          "Logged GDP per capita: 9.751860619<br>Location: Montenegro",
          "Logged GDP per capita: 9.412186623<br>Location: Mongolia",
          "Logged GDP per capita: 7.069345951<br>Location: Mozambique",
          "Logged GDP per capita: 8.233919144<br>Location: Mauritania",
          "Logged GDP per capita: 9.956786156<br>Location: Mauritius",
          "Logged GDP per capita: 7.062226295<br>Location: Malawi",
          "Logged GDP per capita: 10.26251888<br>Location: Malaysia",
          "Logged GDP per capita: 9.203141212<br>Location: Namibia",
          "Logged GDP per capita: 6.842166901<br>Location: Niger",
          "Logged GDP per capita: 8.57662487<br>Location: Nigeria",
          "Logged GDP per capita: 8.493160248<br>Location: Nicaragua",
          "Logged GDP per capita: 10.81271172<br>Location: Netherlands",
          "Logged GDP per capita: 11.08780384<br>Location: Norway",
          "Logged GDP per capita: 7.925357342<br>Location: Nepal",
          "Logged GDP per capita: 10.50094318<br>Location: New Zealand",
          "Logged GDP per capita: 8.482727051<br>Location: Pakistan",
          "Logged GDP per capita: 10.03423405<br>Location: Panama",
          "Logged GDP per capita: 9.456313133<br>Location: Peru",
          "Logged GDP per capita: 8.993545532<br>Location: Philippines",
          "Logged GDP per capita: 10.26512432<br>Location: Poland",
          "Logged GDP per capita: 10.26374245<br>Location: Portugal",
          "Logged GDP per capita: 9.389982224<br>Location: Paraguay",
          "Logged GDP per capita: 10.107584<br>Location: Romania",
          "Logged GDP per capita: 7.600104332<br>Location: Rwanda",
          "Logged GDP per capita: 10.79781246<br>Location: Saudi Arabia",
          "Logged GDP per capita: 8.118982315<br>Location: Senegal",
          "Logged GDP per capita: 11.39552116<br>Location: Singapore",
          "Logged GDP per capita: 7.26880312<br>Location: Sierra Leone",
          "Logged GDP per capita: 8.909075737<br>Location: El Salvador",
          "Logged GDP per capita: 9.680980682<br>Location: Serbia",
          "Logged GDP per capita: 7.425359726<br>Location: South Sudan",
          "Logged GDP per capita: 10.34774971<br>Location: Slovakia",
          "Logged GDP per capita: 10.39232254<br>Location: Slovenia",
          "Logged GDP per capita: 10.75879383<br>Location: Sweden",
          "Logged GDP per capita: 7.467963696<br>Location: Chad",
          "Logged GDP per capita: 7.357711315<br>Location: Togo",
          "Logged GDP per capita: 9.741791725<br>Location: Thailand",
          "Logged GDP per capita: 8.024810791<br>Location: Tajikistan",
          "Logged GDP per capita: 9.74803257<br>Location: Turkmenistan",
          "Logged GDP per capita: 10.26000214<br>Location: Trinidad and Tobago",
          "Logged GDP per capita: 9.314972878<br>Location: Tunisia",
          "Logged GDP per capita: 10.12941933<br>Location: Turkey",
          "Logged GDP per capita: 7.500389576<br>Location: Uganda",
          "Logged GDP per capita: 9.010690689<br>Location: Ukraine",
          "Logged GDP per capita: 9.948192596<br>Location: Uruguay",
          "Logged GDP per capita: 8.740371704<br>Location: Uzbekistan",
          "Logged GDP per capita: 7.759682655<br>Location: Yemen",
          "Logged GDP per capita: 9.403370857<br>Location: South Africa",
          "Logged GDP per capita: 8.224720001<br>Location: Zambia",
          "Logged GDP per capita: 7.865711689<br>Location: Zimbabwe",
          "Logged GDP per capita: 9.316541672<br>Location: Egypt",
          "Logged GDP per capita: 9.688568115<br>Location: China"
         ],
         "type": "scatter",
         "x": [
          0.179838083,
          0.173300847,
          0.156872548,
          0.078702551,
          0.198225059,
          0.08148769,
          0.092532788,
          0.228278271,
          0.053175034,
          0.069938826,
          0.053680666,
          0.055825361,
          0.14971722,
          0.17166366,
          0.174308426,
          0.141959703,
          0.2030117,
          0.088641179,
          0.046974311,
          0.043417196,
          0.09065454,
          0.077152232,
          0.068722474,
          0.04592324,
          0.087044567,
          0.064909698,
          0.088896329,
          0.156020621,
          0.091977881,
          0.05920077,
          0.160446304,
          0.219362051,
          0.076873004,
          0.088053439,
          0.091774431,
          0.049216867,
          0.096270079,
          0.057504294,
          0.054179701,
          0.100793704,
          0.162714398,
          0.056500109,
          0.051007457,
          0.064076835,
          0.180655916,
          0.057894517,
          0.081005494,
          0.125202126,
          0.096957022,
          0.135943858,
          0.134798277,
          0.14989065,
          0.101490053,
          0.187718993,
          0.106520109,
          0.067289585,
          0.088498166,
          0.061232126,
          0.177381829,
          0.074844264,
          0.114954415,
          0.034703763,
          0.155967626,
          0.077870834,
          0.297418737,
          0.283547644,
          0.056067781,
          0.193379593,
          0.118869641,
          0.028205829,
          0.136723146,
          0.071885398,
          0.129452534,
          0.232556337,
          0.068841296,
          0.171758723,
          0.081116074,
          0.044685563,
          0.138743495,
          0.074296407,
          0.138848919,
          0.135299299,
          0.033514468,
          0.059453101,
          0.108332629,
          0.044797722,
          0.150764737,
          0.043950508,
          0.051839003,
          0.048129985,
          0.089336821,
          0.070493275,
          0.076863307,
          0.108394074,
          0.098293008,
          0.153878137,
          0.069004033,
          0.060526684,
          0.138698717,
          0.098647527,
          0.071254268,
          0.092071598,
          0.134097292,
          0.042211242,
          0.200012811,
          0.059152147,
          0.143168452,
          0.057906065,
          0.077575788,
          0.128039467,
          0.039444365,
          0.139230717,
          0.07195228,
          0.087553881,
          0.048078671,
          0.062197999,
          0.061612522,
          0.195622617,
          0.203623009,
          0.112233146,
          0.217742047,
          0.159126961,
          0.040224443,
          0.201914435,
          0.066344157,
          0.239302594,
          0.189278911,
          0.034259257,
          0.037536953,
          0.051815546,
          0.270220273,
          0.116200299
         ],
         "xaxis": "x4",
         "y": [
          7.462860584,
          9.417930603,
          11.1099987,
          9.810955048,
          9.100476265,
          10.72059631,
          10.7428236,
          9.687726974,
          6.492642403,
          10.6736393,
          7.674319744,
          7.46854496,
          8.287063599,
          9.869318962,
          10.67638016,
          9.455817223,
          9.779945374,
          9.56643486,
          9.711203575,
          6.625160217,
          10.69236851,
          10.97993279,
          10.0320549,
          8.118647575,
          9.500369072,
          7.833630085,
          9.658156395,
          10.40570259,
          10.7328186,
          10.77400112,
          9.664880753,
          9.537964821,
          9.246058464,
          10.46292686,
          10.34001732,
          7.509385586,
          10.63926697,
          10.58422279,
          9.680537224,
          10.60013485,
          9.226100922,
          8.350645065,
          7.750990391,
          7.321814537,
          10.13232613,
          8.924805641,
          8.424534798,
          10.07087517,
          7.411329269,
          10.24924374,
          9.36975193,
          8.849823952,
          11.16097832,
          9.661095619,
          10.77255917,
          10.41752529,
          10.48183632,
          9.006250381,
          9.025999069,
          10.57968903,
          10.11465836,
          8.02977562,
          8.148405075,
          8.249890327,
          11.08982468,
          9.3617239,
          7.054380417,
          9.789815903,
          9.389969826,
          7.960488319,
          10.34362602,
          11.45068073,
          10.17531967,
          8.940313339,
          7.281685829,
          9.518632889,
          9.797797203,
          7.629852295,
          10.53383827,
          8.680481911,
          9.751860619,
          9.412186623,
          7.069345951,
          8.233919144,
          9.956786156,
          7.062226295,
          10.26251888,
          9.203141212,
          6.842166901,
          8.57662487,
          8.493160248,
          10.81271172,
          11.08780384,
          7.925357342,
          10.50094318,
          8.482727051,
          10.03423405,
          9.456313133,
          8.993545532,
          10.26512432,
          10.26374245,
          9.389982224,
          10.107584,
          7.600104332,
          10.79781246,
          8.118982315,
          11.39552116,
          7.26880312,
          8.909075737,
          9.680980682,
          7.425359726,
          10.34774971,
          10.39232254,
          10.75879383,
          7.467963696,
          7.357711315,
          9.741791725,
          8.024810791,
          9.74803257,
          10.26000214,
          9.314972878,
          10.12941933,
          7.500389576,
          9.010690689,
          9.948192596,
          8.740371704,
          7.759682655,
          9.403370857,
          8.224720001,
          7.865711689,
          9.316541672,
          9.688568115
         ],
         "yaxis": "y4"
        }
       ],
       "layout": {
        "annotations": [
         {
          "font": {
           "size": 16
          },
          "showarrow": false,
          "text": "IHD death rates and Freedom to make life choices",
          "x": 0.225,
          "xanchor": "center",
          "xref": "paper",
          "y": 1,
          "yanchor": "bottom",
          "yref": "paper"
         },
         {
          "font": {
           "size": 16
          },
          "showarrow": false,
          "text": "IHD death rates and Healthy life expectancy",
          "x": 0.775,
          "xanchor": "center",
          "xref": "paper",
          "y": 1,
          "yanchor": "bottom",
          "yref": "paper"
         },
         {
          "font": {
           "size": 16
          },
          "showarrow": false,
          "text": "IHD death rates and Social support",
          "x": 0.225,
          "xanchor": "center",
          "xref": "paper",
          "y": 0.375,
          "yanchor": "bottom",
          "yref": "paper"
         },
         {
          "font": {
           "size": 16
          },
          "showarrow": false,
          "text": "IHD death rates and Logged GDP per capita",
          "x": 0.775,
          "xanchor": "center",
          "xref": "paper",
          "y": 0.375,
          "yanchor": "bottom",
          "yref": "paper"
         }
        ],
        "height": 600,
        "showlegend": false,
        "template": {
         "data": {
          "bar": [
           {
            "error_x": {
             "color": "#2a3f5f"
            },
            "error_y": {
             "color": "#2a3f5f"
            },
            "marker": {
             "line": {
              "color": "#E5ECF6",
              "width": 0.5
             },
             "pattern": {
              "fillmode": "overlay",
              "size": 10,
              "solidity": 0.2
             }
            },
            "type": "bar"
           }
          ],
          "barpolar": [
           {
            "marker": {
             "line": {
              "color": "#E5ECF6",
              "width": 0.5
             },
             "pattern": {
              "fillmode": "overlay",
              "size": 10,
              "solidity": 0.2
             }
            },
            "type": "barpolar"
           }
          ],
          "carpet": [
           {
            "aaxis": {
             "endlinecolor": "#2a3f5f",
             "gridcolor": "white",
             "linecolor": "white",
             "minorgridcolor": "white",
             "startlinecolor": "#2a3f5f"
            },
            "baxis": {
             "endlinecolor": "#2a3f5f",
             "gridcolor": "white",
             "linecolor": "white",
             "minorgridcolor": "white",
             "startlinecolor": "#2a3f5f"
            },
            "type": "carpet"
           }
          ],
          "choropleth": [
           {
            "colorbar": {
             "outlinewidth": 0,
             "ticks": ""
            },
            "type": "choropleth"
           }
          ],
          "contour": [
           {
            "colorbar": {
             "outlinewidth": 0,
             "ticks": ""
            },
            "colorscale": [
             [
              0,
              "#0d0887"
             ],
             [
              0.1111111111111111,
              "#46039f"
             ],
             [
              0.2222222222222222,
              "#7201a8"
             ],
             [
              0.3333333333333333,
              "#9c179e"
             ],
             [
              0.4444444444444444,
              "#bd3786"
             ],
             [
              0.5555555555555556,
              "#d8576b"
             ],
             [
              0.6666666666666666,
              "#ed7953"
             ],
             [
              0.7777777777777778,
              "#fb9f3a"
             ],
             [
              0.8888888888888888,
              "#fdca26"
             ],
             [
              1,
              "#f0f921"
             ]
            ],
            "type": "contour"
           }
          ],
          "contourcarpet": [
           {
            "colorbar": {
             "outlinewidth": 0,
             "ticks": ""
            },
            "type": "contourcarpet"
           }
          ],
          "heatmap": [
           {
            "colorbar": {
             "outlinewidth": 0,
             "ticks": ""
            },
            "colorscale": [
             [
              0,
              "#0d0887"
             ],
             [
              0.1111111111111111,
              "#46039f"
             ],
             [
              0.2222222222222222,
              "#7201a8"
             ],
             [
              0.3333333333333333,
              "#9c179e"
             ],
             [
              0.4444444444444444,
              "#bd3786"
             ],
             [
              0.5555555555555556,
              "#d8576b"
             ],
             [
              0.6666666666666666,
              "#ed7953"
             ],
             [
              0.7777777777777778,
              "#fb9f3a"
             ],
             [
              0.8888888888888888,
              "#fdca26"
             ],
             [
              1,
              "#f0f921"
             ]
            ],
            "type": "heatmap"
           }
          ],
          "heatmapgl": [
           {
            "colorbar": {
             "outlinewidth": 0,
             "ticks": ""
            },
            "colorscale": [
             [
              0,
              "#0d0887"
             ],
             [
              0.1111111111111111,
              "#46039f"
             ],
             [
              0.2222222222222222,
              "#7201a8"
             ],
             [
              0.3333333333333333,
              "#9c179e"
             ],
             [
              0.4444444444444444,
              "#bd3786"
             ],
             [
              0.5555555555555556,
              "#d8576b"
             ],
             [
              0.6666666666666666,
              "#ed7953"
             ],
             [
              0.7777777777777778,
              "#fb9f3a"
             ],
             [
              0.8888888888888888,
              "#fdca26"
             ],
             [
              1,
              "#f0f921"
             ]
            ],
            "type": "heatmapgl"
           }
          ],
          "histogram": [
           {
            "marker": {
             "pattern": {
              "fillmode": "overlay",
              "size": 10,
              "solidity": 0.2
             }
            },
            "type": "histogram"
           }
          ],
          "histogram2d": [
           {
            "colorbar": {
             "outlinewidth": 0,
             "ticks": ""
            },
            "colorscale": [
             [
              0,
              "#0d0887"
             ],
             [
              0.1111111111111111,
              "#46039f"
             ],
             [
              0.2222222222222222,
              "#7201a8"
             ],
             [
              0.3333333333333333,
              "#9c179e"
             ],
             [
              0.4444444444444444,
              "#bd3786"
             ],
             [
              0.5555555555555556,
              "#d8576b"
             ],
             [
              0.6666666666666666,
              "#ed7953"
             ],
             [
              0.7777777777777778,
              "#fb9f3a"
             ],
             [
              0.8888888888888888,
              "#fdca26"
             ],
             [
              1,
              "#f0f921"
             ]
            ],
            "type": "histogram2d"
           }
          ],
          "histogram2dcontour": [
           {
            "colorbar": {
             "outlinewidth": 0,
             "ticks": ""
            },
            "colorscale": [
             [
              0,
              "#0d0887"
             ],
             [
              0.1111111111111111,
              "#46039f"
             ],
             [
              0.2222222222222222,
              "#7201a8"
             ],
             [
              0.3333333333333333,
              "#9c179e"
             ],
             [
              0.4444444444444444,
              "#bd3786"
             ],
             [
              0.5555555555555556,
              "#d8576b"
             ],
             [
              0.6666666666666666,
              "#ed7953"
             ],
             [
              0.7777777777777778,
              "#fb9f3a"
             ],
             [
              0.8888888888888888,
              "#fdca26"
             ],
             [
              1,
              "#f0f921"
             ]
            ],
            "type": "histogram2dcontour"
           }
          ],
          "mesh3d": [
           {
            "colorbar": {
             "outlinewidth": 0,
             "ticks": ""
            },
            "type": "mesh3d"
           }
          ],
          "parcoords": [
           {
            "line": {
             "colorbar": {
              "outlinewidth": 0,
              "ticks": ""
             }
            },
            "type": "parcoords"
           }
          ],
          "pie": [
           {
            "automargin": true,
            "type": "pie"
           }
          ],
          "scatter": [
           {
            "fillpattern": {
             "fillmode": "overlay",
             "size": 10,
             "solidity": 0.2
            },
            "type": "scatter"
           }
          ],
          "scatter3d": [
           {
            "line": {
             "colorbar": {
              "outlinewidth": 0,
              "ticks": ""
             }
            },
            "marker": {
             "colorbar": {
              "outlinewidth": 0,
              "ticks": ""
             }
            },
            "type": "scatter3d"
           }
          ],
          "scattercarpet": [
           {
            "marker": {
             "colorbar": {
              "outlinewidth": 0,
              "ticks": ""
             }
            },
            "type": "scattercarpet"
           }
          ],
          "scattergeo": [
           {
            "marker": {
             "colorbar": {
              "outlinewidth": 0,
              "ticks": ""
             }
            },
            "type": "scattergeo"
           }
          ],
          "scattergl": [
           {
            "marker": {
             "colorbar": {
              "outlinewidth": 0,
              "ticks": ""
             }
            },
            "type": "scattergl"
           }
          ],
          "scattermapbox": [
           {
            "marker": {
             "colorbar": {
              "outlinewidth": 0,
              "ticks": ""
             }
            },
            "type": "scattermapbox"
           }
          ],
          "scatterpolar": [
           {
            "marker": {
             "colorbar": {
              "outlinewidth": 0,
              "ticks": ""
             }
            },
            "type": "scatterpolar"
           }
          ],
          "scatterpolargl": [
           {
            "marker": {
             "colorbar": {
              "outlinewidth": 0,
              "ticks": ""
             }
            },
            "type": "scatterpolargl"
           }
          ],
          "scatterternary": [
           {
            "marker": {
             "colorbar": {
              "outlinewidth": 0,
              "ticks": ""
             }
            },
            "type": "scatterternary"
           }
          ],
          "surface": [
           {
            "colorbar": {
             "outlinewidth": 0,
             "ticks": ""
            },
            "colorscale": [
             [
              0,
              "#0d0887"
             ],
             [
              0.1111111111111111,
              "#46039f"
             ],
             [
              0.2222222222222222,
              "#7201a8"
             ],
             [
              0.3333333333333333,
              "#9c179e"
             ],
             [
              0.4444444444444444,
              "#bd3786"
             ],
             [
              0.5555555555555556,
              "#d8576b"
             ],
             [
              0.6666666666666666,
              "#ed7953"
             ],
             [
              0.7777777777777778,
              "#fb9f3a"
             ],
             [
              0.8888888888888888,
              "#fdca26"
             ],
             [
              1,
              "#f0f921"
             ]
            ],
            "type": "surface"
           }
          ],
          "table": [
           {
            "cells": {
             "fill": {
              "color": "#EBF0F8"
             },
             "line": {
              "color": "white"
             }
            },
            "header": {
             "fill": {
              "color": "#C8D4E3"
             },
             "line": {
              "color": "white"
             }
            },
            "type": "table"
           }
          ]
         },
         "layout": {
          "annotationdefaults": {
           "arrowcolor": "#2a3f5f",
           "arrowhead": 0,
           "arrowwidth": 1
          },
          "autotypenumbers": "strict",
          "coloraxis": {
           "colorbar": {
            "outlinewidth": 0,
            "ticks": ""
           }
          },
          "colorscale": {
           "diverging": [
            [
             0,
             "#8e0152"
            ],
            [
             0.1,
             "#c51b7d"
            ],
            [
             0.2,
             "#de77ae"
            ],
            [
             0.3,
             "#f1b6da"
            ],
            [
             0.4,
             "#fde0ef"
            ],
            [
             0.5,
             "#f7f7f7"
            ],
            [
             0.6,
             "#e6f5d0"
            ],
            [
             0.7,
             "#b8e186"
            ],
            [
             0.8,
             "#7fbc41"
            ],
            [
             0.9,
             "#4d9221"
            ],
            [
             1,
             "#276419"
            ]
           ],
           "sequential": [
            [
             0,
             "#0d0887"
            ],
            [
             0.1111111111111111,
             "#46039f"
            ],
            [
             0.2222222222222222,
             "#7201a8"
            ],
            [
             0.3333333333333333,
             "#9c179e"
            ],
            [
             0.4444444444444444,
             "#bd3786"
            ],
            [
             0.5555555555555556,
             "#d8576b"
            ],
            [
             0.6666666666666666,
             "#ed7953"
            ],
            [
             0.7777777777777778,
             "#fb9f3a"
            ],
            [
             0.8888888888888888,
             "#fdca26"
            ],
            [
             1,
             "#f0f921"
            ]
           ],
           "sequentialminus": [
            [
             0,
             "#0d0887"
            ],
            [
             0.1111111111111111,
             "#46039f"
            ],
            [
             0.2222222222222222,
             "#7201a8"
            ],
            [
             0.3333333333333333,
             "#9c179e"
            ],
            [
             0.4444444444444444,
             "#bd3786"
            ],
            [
             0.5555555555555556,
             "#d8576b"
            ],
            [
             0.6666666666666666,
             "#ed7953"
            ],
            [
             0.7777777777777778,
             "#fb9f3a"
            ],
            [
             0.8888888888888888,
             "#fdca26"
            ],
            [
             1,
             "#f0f921"
            ]
           ]
          },
          "colorway": [
           "#636efa",
           "#EF553B",
           "#00cc96",
           "#ab63fa",
           "#FFA15A",
           "#19d3f3",
           "#FF6692",
           "#B6E880",
           "#FF97FF",
           "#FECB52"
          ],
          "font": {
           "color": "#2a3f5f"
          },
          "geo": {
           "bgcolor": "white",
           "lakecolor": "white",
           "landcolor": "#E5ECF6",
           "showlakes": true,
           "showland": true,
           "subunitcolor": "white"
          },
          "hoverlabel": {
           "align": "left"
          },
          "hovermode": "closest",
          "mapbox": {
           "style": "light"
          },
          "paper_bgcolor": "white",
          "plot_bgcolor": "#E5ECF6",
          "polar": {
           "angularaxis": {
            "gridcolor": "white",
            "linecolor": "white",
            "ticks": ""
           },
           "bgcolor": "#E5ECF6",
           "radialaxis": {
            "gridcolor": "white",
            "linecolor": "white",
            "ticks": ""
           }
          },
          "scene": {
           "xaxis": {
            "backgroundcolor": "#E5ECF6",
            "gridcolor": "white",
            "gridwidth": 2,
            "linecolor": "white",
            "showbackground": true,
            "ticks": "",
            "zerolinecolor": "white"
           },
           "yaxis": {
            "backgroundcolor": "#E5ECF6",
            "gridcolor": "white",
            "gridwidth": 2,
            "linecolor": "white",
            "showbackground": true,
            "ticks": "",
            "zerolinecolor": "white"
           },
           "zaxis": {
            "backgroundcolor": "#E5ECF6",
            "gridcolor": "white",
            "gridwidth": 2,
            "linecolor": "white",
            "showbackground": true,
            "ticks": "",
            "zerolinecolor": "white"
           }
          },
          "shapedefaults": {
           "line": {
            "color": "#2a3f5f"
           }
          },
          "ternary": {
           "aaxis": {
            "gridcolor": "white",
            "linecolor": "white",
            "ticks": ""
           },
           "baxis": {
            "gridcolor": "white",
            "linecolor": "white",
            "ticks": ""
           },
           "bgcolor": "#E5ECF6",
           "caxis": {
            "gridcolor": "white",
            "linecolor": "white",
            "ticks": ""
           }
          },
          "title": {
           "x": 0.05
          },
          "xaxis": {
           "automargin": true,
           "gridcolor": "white",
           "linecolor": "white",
           "ticks": "",
           "title": {
            "standoff": 15
           },
           "zerolinecolor": "white",
           "zerolinewidth": 2
          },
          "yaxis": {
           "automargin": true,
           "gridcolor": "white",
           "linecolor": "white",
           "ticks": "",
           "title": {
            "standoff": 15
           },
           "zerolinecolor": "white",
           "zerolinewidth": 2
          }
         }
        },
        "title": {
         "text": "Scatterplots of Ischemic Heart Disease death rates and WHR Measurements of Happiness (y-axis)",
         "x": 0.5,
         "xanchor": "center"
        },
        "width": 900,
        "xaxis": {
         "anchor": "y",
         "domain": [
          0,
          0.45
         ],
         "title": {
          "text": "Ischemic Heart Disease"
         }
        },
        "xaxis2": {
         "anchor": "y2",
         "domain": [
          0.55,
          1
         ]
        },
        "xaxis3": {
         "anchor": "y3",
         "domain": [
          0,
          0.45
         ]
        },
        "xaxis4": {
         "anchor": "y4",
         "domain": [
          0.55,
          1
         ]
        },
        "yaxis": {
         "anchor": "x",
         "domain": [
          0.625,
          1
         ]
        },
        "yaxis2": {
         "anchor": "x2",
         "domain": [
          0.625,
          1
         ]
        },
        "yaxis3": {
         "anchor": "x3",
         "domain": [
          0,
          0.375
         ]
        },
        "yaxis4": {
         "anchor": "x4",
         "domain": [
          0,
          0.375
         ]
        }
       }
      }
     },
     "metadata": {},
     "output_type": "display_data"
    }
   ],
   "source": [
    "variables = [\"Freedom to make life choices\", \"Healthy life expectancy\", \"Social support\", \"Logged GDP per capita\"]\n",
    "\n",
    "# Set the width and height of each subplot\n",
    "width = 450\n",
    "height = 400\n",
    "\n",
    "# Create subplots with adjustable width and height\n",
    "figCompare3 = make_subplots(\n",
    "    rows=2, \n",
    "    cols=2, \n",
    "    subplot_titles=[f\"IHD death rates and {var}\" for var in variables],\n",
    "    column_widths=[width] * 2,  # Width of each column\n",
    "    row_heights=[height] * 2      # Height of each row\n",
    ")\n",
    "\n",
    "# Iterate over each variable and create the scatter plot\n",
    "for i, variable in enumerate(variables):\n",
    "    hover_text = [f\"{variable}: {y}<br>Location: {location}\" for y, location in zip(GBDWHR_df[variable], GBDWHR_df['Location'])]\n",
    "    scatter = go.Scatter(\n",
    "        x=GBDWHR_df[\"Ischemic Heart Disease\"],\n",
    "        y=GBDWHR_df[variable],\n",
    "        mode=\"markers\",\n",
    "        hoverinfo=\"text\",\n",
    "        text=hover_text\n",
    "    )\n",
    "    figCompare3.add_trace(scatter, row=i // 2 + 1, col=i % 2 + 1)\n",
    "\n",
    "# Update layout properties\n",
    "figCompare3.update_layout(\n",
    "    title_text=\"Scatterplots of Ischemic Heart Disease death rates and WHR Measurements of Happiness (y-axis)\",\n",
    "    xaxis_title=\"Ischemic Heart Disease\",\n",
    "    showlegend=False,\n",
    "    width=2 * width,   # Total width of the figure\n",
    "    height=1.5 * height,  # Total height of the figure\n",
    "    title_x=0.5,  # Center the title horizontally\n",
    "    title_xanchor=\"center\"  # Anchor the title to the center\n",
    ")\n",
    "\n",
    "# Show the plot\n",
    "figCompare3.show()"
   ]
  },
  {
   "cell_type": "code",
   "execution_count": 241,
   "id": "75261280",
   "metadata": {},
   "outputs": [
    {
     "data": {
      "application/vnd.plotly.v1+json": {
       "config": {
        "plotlyServerURL": "https://plot.ly"
       },
       "data": [
        {
         "diagonal": {
          "visible": false
         },
         "dimensions": [
          {
           "label": "Road Injuries",
           "values": [
            0.066641327,
            0.06838024,
            0.15266505,
            0.079143662,
            0.048349224,
            0.059117539,
            0.050365923,
            0.038269098,
            0.041683861,
            0.06704812,
            0.042746516,
            0.055095026,
            0.028538244,
            0.037427134,
            0.097386102,
            0.033934445,
            0.037829355,
            0.086101656,
            0.034871225,
            0.071011947,
            0.055790023,
            0.0403709,
            0.083013317,
            0.050995562,
            0.080120402,
            0.055547256,
            0.107248144,
            0.098016312,
            0.045764327,
            0.044368224,
            0.096074618,
            0.162422905,
            0.127797705,
            0.050841039,
            0.028575966,
            0.031542352,
            0.034215758,
            0.05991004,
            0.083831834,
            0.034596084,
            0.075373431,
            0.051857603,
            0.035918195,
            0.030919251,
            0.09551369,
            0.056673057,
            0.051319469,
            0.064738773,
            0.02414776,
            0.03861593,
            0.055434579,
            0.057327416,
            0.034484986,
            0.068001274,
            0.037279889,
            0.068584453,
            0.073457327,
            0.028279817,
            0.099227476,
            0.033480451,
            0.053265494,
            0.022197937,
            0.076460344,
            0.067473322,
            0.123313694,
            0.05591117,
            0.027606643,
            0.138825952,
            0.06817149,
            0.036598253,
            0.032398383,
            0.061344137,
            0.036885324,
            0.122015526,
            0.031369023,
            0.041648061,
            0.070708359,
            0.028074999,
            0.03944543,
            0.03934312,
            0.051872551,
            0.054430782,
            0.026381939,
            0.092365235,
            0.050007614,
            0.028665512,
            0.120740453,
            0.050670244,
            0.034689248,
            0.022349721,
            0.068153456,
            0.039203014,
            0.037167955,
            0.034854646,
            0.071656423,
            0.028217442,
            0.076776355,
            0.087529891,
            0.039167153,
            0.053927231,
            0.058203554,
            0.123117025,
            0.046773143,
            0.059316307,
            0.238398398,
            0.04000284,
            0.037088719,
            0.038518187,
            0.065789602,
            0.045687711,
            0.024784755,
            0.044599815,
            0.055031062,
            0.036868105,
            0.035160523,
            0.050252846,
            0.107271644,
            0.039688764,
            0.021090614,
            0.048669873,
            0.13262982,
            0.074540364,
            0.039954147,
            0.03719242,
            0.080525145,
            0.055737907,
            0.121016778,
            0.055650828,
            0.026893337,
            0.030762777,
            0.130130931,
            0.097773854
           ]
          },
          {
           "label": "HIV",
           "values": [
            0.002163739,
            0.000502499,
            0.0053842,
            0.026741034,
            0.005419346,
            0.002883772,
            0.004875665,
            0.002342432,
            0.051661858,
            0.004199578,
            0.06452762,
            0.043668807,
            0.00154532,
            0.003013197,
            0.004204352,
            0.000321274,
            0.015899724,
            0.032291519,
            0.407560319,
            0.17121064,
            0.00702363,
            0.006131304,
            0.024019906,
            0.24407306,
            0.031848471,
            0.001183901,
            0.02109365,
            0.003539115,
            0.004614943,
            0.004120078,
            0.052635665,
            0.004090408,
            0.041168267,
            0.018652727,
            0.020385401,
            0.116508934,
            0.000782991,
            0.006500853,
            0.197340737,
            0.003553172,
            0.003174671,
            0.157467854,
            0.107592871,
            0.183163471,
            0.002384857,
            0.014439536,
            0.005467102,
            0.001376084,
            0.128451108,
            0.001870226,
            0.010196381,
            0.015410431,
            0.002683637,
            0.000850623,
            0.00403136,
            0.005491826,
            0.012414017,
            0.088095271,
            0.00222151,
            0.000842329,
            0.0067177,
            0.305973662,
            0.014557418,
            0.034849137,
            0.000675286,
            0.006715114,
            0.127374574,
            0.006021968,
            0.001055111,
            0.451738626,
            0.010500185,
            0.005019126,
            0.033754018,
            0.007385679,
            0.035414208,
            0.001683667,
            0.020663671,
            0.084714686,
            0.004694468,
            0.037329977,
            0.001294604,
            0.001047892,
            0.39005817,
            0.003171153,
            0.037756732,
            0.2415567,
            0.022782755,
            0.352518799,
            0.02980367,
            0.170834924,
            0.068278136,
            0.003214369,
            0.003292387,
            0.025657325,
            0.002139059,
            0.00638473,
            0.096265519,
            0.045313,
            0.019214993,
            0.002616519,
            0.046495941,
            0.041785546,
            0.004689288,
            0.104096265,
            0.007718808,
            0.049555475,
            0.008936079,
            0.11763992,
            0.038926097,
            0.00401256,
            0.184243097,
            0.000515274,
            0.001186897,
            0.002482691,
            0.105230349,
            0.140861224,
            0.097873109,
            0.0040251,
            0.010039227,
            0.068789928,
            0.010316137,
            0.002498374,
            0.201332285,
            0.043163931,
            0.031035518,
            0.00851732,
            0.003649288,
            0.428854527,
            0.299726216,
            0.266964611,
            0.000338142,
            0.01381587
           ]
          },
          {
           "label": "Ischemic Heart Disease",
           "values": [
            0.179838083,
            0.173300847,
            0.156872548,
            0.078702551,
            0.198225059,
            0.08148769,
            0.092532788,
            0.228278271,
            0.053175034,
            0.069938826,
            0.053680666,
            0.055825361,
            0.14971722,
            0.17166366,
            0.174308426,
            0.141959703,
            0.2030117,
            0.088641179,
            0.046974311,
            0.043417196,
            0.09065454,
            0.077152232,
            0.068722474,
            0.04592324,
            0.087044567,
            0.064909698,
            0.088896329,
            0.156020621,
            0.091977881,
            0.05920077,
            0.160446304,
            0.219362051,
            0.076873004,
            0.088053439,
            0.091774431,
            0.049216867,
            0.096270079,
            0.057504294,
            0.054179701,
            0.100793704,
            0.162714398,
            0.056500109,
            0.051007457,
            0.064076835,
            0.180655916,
            0.057894517,
            0.081005494,
            0.125202126,
            0.096957022,
            0.135943858,
            0.134798277,
            0.14989065,
            0.101490053,
            0.187718993,
            0.106520109,
            0.067289585,
            0.088498166,
            0.061232126,
            0.177381829,
            0.074844264,
            0.114954415,
            0.034703763,
            0.155967626,
            0.077870834,
            0.297418737,
            0.283547644,
            0.056067781,
            0.193379593,
            0.118869641,
            0.028205829,
            0.136723146,
            0.071885398,
            0.129452534,
            0.232556337,
            0.068841296,
            0.171758723,
            0.081116074,
            0.044685563,
            0.138743495,
            0.074296407,
            0.138848919,
            0.135299299,
            0.033514468,
            0.059453101,
            0.108332629,
            0.044797722,
            0.150764737,
            0.043950508,
            0.051839003,
            0.048129985,
            0.089336821,
            0.070493275,
            0.076863307,
            0.108394074,
            0.098293008,
            0.153878137,
            0.069004033,
            0.060526684,
            0.138698717,
            0.098647527,
            0.071254268,
            0.092071598,
            0.134097292,
            0.042211242,
            0.200012811,
            0.059152147,
            0.143168452,
            0.057906065,
            0.077575788,
            0.128039467,
            0.039444365,
            0.139230717,
            0.07195228,
            0.087553881,
            0.048078671,
            0.062197999,
            0.061612522,
            0.195622617,
            0.203623009,
            0.112233146,
            0.217742047,
            0.159126961,
            0.040224443,
            0.201914435,
            0.066344157,
            0.239302594,
            0.189278911,
            0.034259257,
            0.037536953,
            0.051815546,
            0.270220273,
            0.116200299
           ]
          },
          {
           "label": "Logged GDP per capita",
           "values": [
            7.462860584,
            9.417930603,
            11.1099987,
            9.810955048,
            9.100476265,
            10.72059631,
            10.7428236,
            9.687726974,
            6.492642403,
            10.6736393,
            7.674319744,
            7.46854496,
            8.287063599,
            9.869318962,
            10.67638016,
            9.455817223,
            9.779945374,
            9.56643486,
            9.711203575,
            6.625160217,
            10.69236851,
            10.97993279,
            10.0320549,
            8.118647575,
            9.500369072,
            7.833630085,
            9.658156395,
            10.40570259,
            10.7328186,
            10.77400112,
            9.664880753,
            9.537964821,
            9.246058464,
            10.46292686,
            10.34001732,
            7.509385586,
            10.63926697,
            10.58422279,
            9.680537224,
            10.60013485,
            9.226100922,
            8.350645065,
            7.750990391,
            7.321814537,
            10.13232613,
            8.924805641,
            8.424534798,
            10.07087517,
            7.411329269,
            10.24924374,
            9.36975193,
            8.849823952,
            11.16097832,
            9.661095619,
            10.77255917,
            10.41752529,
            10.48183632,
            9.006250381,
            9.025999069,
            10.57968903,
            10.11465836,
            8.02977562,
            8.148405075,
            8.249890327,
            11.08982468,
            9.3617239,
            7.054380417,
            9.789815903,
            9.389969826,
            7.960488319,
            10.34362602,
            11.45068073,
            10.17531967,
            8.940313339,
            7.281685829,
            9.518632889,
            9.797797203,
            7.629852295,
            10.53383827,
            8.680481911,
            9.751860619,
            9.412186623,
            7.069345951,
            8.233919144,
            9.956786156,
            7.062226295,
            10.26251888,
            9.203141212,
            6.842166901,
            8.57662487,
            8.493160248,
            10.81271172,
            11.08780384,
            7.925357342,
            10.50094318,
            8.482727051,
            10.03423405,
            9.456313133,
            8.993545532,
            10.26512432,
            10.26374245,
            9.389982224,
            10.107584,
            7.600104332,
            10.79781246,
            8.118982315,
            11.39552116,
            7.26880312,
            8.909075737,
            9.680980682,
            7.425359726,
            10.34774971,
            10.39232254,
            10.75879383,
            7.467963696,
            7.357711315,
            9.741791725,
            8.024810791,
            9.74803257,
            10.26000214,
            9.314972878,
            10.12941933,
            7.500389576,
            9.010690689,
            9.948192596,
            8.740371704,
            7.759682655,
            9.403370857,
            8.224720001,
            7.865711689,
            9.316541672,
            9.688568115
           ]
          },
          {
           "label": "Social support",
           "values": [
            0.470366955,
            0.671070457,
            0.849181116,
            0.900567949,
            0.757479429,
            0.944854617,
            0.928045869,
            0.819308281,
            0.490325719,
            0.911632538,
            0.468671143,
            0.712943614,
            0.687292993,
            0.937840343,
            0.876342118,
            0.829204142,
            0.90674746,
            0.896723807,
            0.779121757,
            0.319459856,
            0.927176654,
            0.942846596,
            0.879713595,
            0.700386405,
            0.884440243,
            0.625662446,
            0.901545942,
            0.805996239,
            0.898874462,
            0.955990791,
            0.882085383,
            0.803385139,
            0.836418986,
            0.921125412,
            0.934729993,
            0.743307352,
            0.954329729,
            0.937103748,
            0.787886858,
            0.93668282,
            0.629033029,
            0.728601098,
            0.637573481,
            0.6931687,
            0.814380348,
            0.816621482,
            0.821870148,
            0.874623716,
            0.593247831,
            0.921934128,
            0.808379889,
            0.592200935,
            0.942081571,
            0.747694969,
            0.974669576,
            0.913571239,
            0.889878571,
            0.915701866,
            0.80216372,
            0.883545935,
            0.934744895,
            0.702652037,
            0.887228489,
            0.773080647,
            0.846475244,
            0.824338138,
            0.70928055,
            0.825942934,
            0.825374067,
            0.780495703,
            0.926107109,
            0.906912208,
            0.918288589,
            0.592628479,
            0.668195903,
            0.91316092,
            0.838665426,
            0.731468976,
            0.93037951,
            0.78440702,
            0.855314612,
            0.937142491,
            0.723874032,
            0.790819228,
            0.910357833,
            0.544007301,
            0.816509426,
            0.846880972,
            0.617435038,
            0.73721689,
            0.857497036,
            0.93913883,
            0.952486575,
            0.785512447,
            0.949118972,
            0.689062297,
            0.902094483,
            0.831075251,
            0.846730053,
            0.874257445,
            0.886590719,
            0.898727894,
            0.825161517,
            0.54083544,
            0.874067068,
            0.723616004,
            0.910268962,
            0.636142015,
            0.806092262,
            0.881475747,
            0.553707123,
            0.922493756,
            0.939575672,
            0.926311195,
            0.632388055,
            0.551312625,
            0.889973223,
            0.835297108,
            0.958966196,
            0.91529417,
            0.688718557,
            0.826313555,
            0.764994621,
            0.878879368,
            0.92281127,
            0.926595807,
            0.817980587,
            0.852532268,
            0.698824465,
            0.763092756,
            0.735447824,
            0.798760593
           ]
          },
          {
           "label": "Healthy life expectancy",
           "values": [
            52.59000015,
            68.70813751,
            67.08278656,
            68.80380249,
            66.75065613,
            73.60453796,
            73.00250244,
            65.50839996,
            53.40000153,
            72.00164795,
            54.31246567,
            53.88945389,
            64.50306702,
            66.80397797,
            68.5,
            67.80813599,
            66.10433197,
            66.48016357,
            58.92445374,
            45.20000076,
            73.60160065,
            74.10244751,
            69.90061951,
            52.7049408,
            67.69958496,
            57.34901047,
            71.29985046,
            73.70222473,
            72.20201874,
            72.40250397,
            65.80748749,
            65.90517426,
            68.50003815,
            74.40270996,
            68.60495758,
            58.63959122,
            71.9008255,
            73.80193329,
            59.71533966,
            72.30160522,
            64.49520874,
            57.20398712,
            54.46780014,
            55.0120163,
            72.40525818,
            64.8089447,
            67.19876862,
            70.21490479,
            55.59862518,
            67.60997009,
            62.15584946,
            60.21518707,
            72.30078888,
            59.90354919,
            73,
            73.20025635,
            73.60168457,
            67.09999847,
            66.79975128,
            75.00096893,
            64.60996246,
            60.09693146,
            64.10601044,
            61.52996826,
            66.76764679,
            67.10658264,
            56.09631348,
            62.29999924,
            67.20006561,
            48.00362396,
            67.29407501,
            72.59999847,
            66.8074646,
            65.89624023,
            59.10542679,
            70.59999847,
            68.29902649,
            51.72698212,
            72.19999695,
            58.96171188,
            68.50534821,
            62.30448532,
            54.20582199,
            57.01017761,
            66.40434265,
            57.59288788,
            67.10215759,
            56.50148773,
            53.50009537,
            49.86190796,
            67.50717926,
            72.30091858,
            73.20078278,
            63.77917862,
            73.20262909,
            58.25313568,
            69.60301208,
            68.10023499,
            61.92676163,
            69.31113434,
            72.40202332,
            65.63993835,
            67.20723724,
            61.09884644,
            66.30514526,
            59.59915161,
            76.80458069,
            50.86514282,
            66.10826111,
            68.21020508,
            51,
            68.90634155,
            71.1029892,
            72.60076904,
            48.22053909,
            54.71989822,
            67.25059509,
            64.10459137,
            62.21170807,
            63.5,
            66.89785767,
            66.90281677,
            55.70820236,
            64.60678101,
            69.00254822,
            65.10757446,
            56.72728348,
            56.50601196,
            55.29937744,
            55.61725998,
            61.78015137,
            69.2891922
           ]
          },
          {
           "label": "Freedom to make life choices",
           "values": [
            0.396573007,
            0.781994224,
            0.941345513,
            0.831132412,
            0.712017834,
            0.915431738,
            0.899989486,
            0.786824107,
            0.626350224,
            0.813582063,
            0.735182583,
            0.665563583,
            0.90062499,
            0.745178163,
            0.905855775,
            0.651352704,
            0.639163077,
            0.799804807,
            0.821328104,
            0.640880644,
            0.933913231,
            0.921336651,
            0.744896293,
            0.763051808,
            0.836179912,
            0.547612607,
            0.934738934,
            0.779858291,
            0.867371082,
            0.951444268,
            0.866202772,
            0.466610909,
            0.859828949,
            0.751989543,
            0.87770915,
            0.740795195,
            0.949172199,
            0.825467646,
            0.704829216,
            0.834743679,
            0.801641524,
            0.794796526,
            0.706846774,
            0.733163178,
            0.541345119,
            0.908147573,
            0.870603263,
            0.714838803,
            0.537825167,
            0.718964577,
            0.870614409,
            0.881444871,
            0.886982977,
            0.633182645,
            0.948891878,
            0.747580588,
            0.66465199,
            0.858068526,
            0.75104779,
            0.809961379,
            0.811601937,
            0.829747558,
            0.909374893,
            0.959704638,
            0.872366488,
            0.551357508,
            0.735268712,
            0.773157001,
            0.837633669,
            0.738125861,
            0.747381449,
            0.90563643,
            0.671237648,
            0.772072434,
            0.557574093,
            0.853962779,
            0.858709276,
            0.71156615,
            0.924911439,
            0.895075202,
            0.649565637,
            0.693351328,
            0.864451885,
            0.551522553,
            0.889534533,
            0.803223193,
            0.894626856,
            0.767520964,
            0.759772122,
            0.759578407,
            0.863902867,
            0.908547819,
            0.955750287,
            0.797565043,
            0.936217487,
            0.734833717,
            0.880366504,
            0.824766099,
            0.915463448,
            0.862055779,
            0.888747811,
            0.885923445,
            0.842823207,
            0.900589406,
            0.854191244,
            0.690596163,
            0.926645339,
            0.715315044,
            0.833805263,
            0.726495862,
            0.451313615,
            0.749952674,
            0.936142623,
            0.939144194,
            0.587305248,
            0.649828613,
            0.905063033,
            0.831383407,
            0.826457024,
            0.857907116,
            0.593361557,
            0.608830452,
            0.731713951,
            0.663081884,
            0.892395437,
            0.974998116,
            0.599920273,
            0.759330094,
            0.806500256,
            0.711457908,
            0.708354175,
            0.898517907
           ]
          }
         ],
         "marker": {
          "color": "blue",
          "showscale": false
         },
         "showlowerhalf": true,
         "showupperhalf": false,
         "text": [
          "Road Injuries: 0.066641327<br>HIV: 0.002163739<br>Ischemic Heart Disease: 0.179838083<br>Logged GDP per capita: 7.462860584<br>Social support: 0.470366955<br>Healthy life expectancy: 52.59000015<br>Freedom to make life choices: 0.396573007<br>Location: Afghanistan",
          "Road Injuries: 0.06838024<br>HIV: 0.000502499<br>Ischemic Heart Disease: 0.173300847<br>Logged GDP per capita: 9.417930603<br>Social support: 0.671070457<br>Healthy life expectancy: 68.70813751<br>Freedom to make life choices: 0.781994224<br>Location: Albania",
          "Road Injuries: 0.15266505<br>HIV: 0.0053842<br>Ischemic Heart Disease: 0.156872548<br>Logged GDP per capita: 11.1099987<br>Social support: 0.849181116<br>Healthy life expectancy: 67.08278656<br>Freedom to make life choices: 0.941345513<br>Location: United Arab Emirates",
          "Road Injuries: 0.079143662<br>HIV: 0.026741034<br>Ischemic Heart Disease: 0.078702551<br>Logged GDP per capita: 9.810955048<br>Social support: 0.900567949<br>Healthy life expectancy: 68.80380249<br>Freedom to make life choices: 0.831132412<br>Location: Argentina",
          "Road Injuries: 0.048349224<br>HIV: 0.005419346<br>Ischemic Heart Disease: 0.198225059<br>Logged GDP per capita: 9.100476265<br>Social support: 0.757479429<br>Healthy life expectancy: 66.75065613<br>Freedom to make life choices: 0.712017834<br>Location: Armenia",
          "Road Injuries: 0.059117539<br>HIV: 0.002883772<br>Ischemic Heart Disease: 0.08148769<br>Logged GDP per capita: 10.72059631<br>Social support: 0.944854617<br>Healthy life expectancy: 73.60453796<br>Freedom to make life choices: 0.915431738<br>Location: Australia",
          "Road Injuries: 0.050365923<br>HIV: 0.004875665<br>Ischemic Heart Disease: 0.092532788<br>Logged GDP per capita: 10.7428236<br>Social support: 0.928045869<br>Healthy life expectancy: 73.00250244<br>Freedom to make life choices: 0.899989486<br>Location: Austria",
          "Road Injuries: 0.038269098<br>HIV: 0.002342432<br>Ischemic Heart Disease: 0.228278271<br>Logged GDP per capita: 9.687726974<br>Social support: 0.819308281<br>Healthy life expectancy: 65.50839996<br>Freedom to make life choices: 0.786824107<br>Location: Azerbaijan",
          "Road Injuries: 0.041683861<br>HIV: 0.051661858<br>Ischemic Heart Disease: 0.053175034<br>Logged GDP per capita: 6.492642403<br>Social support: 0.490325719<br>Healthy life expectancy: 53.40000153<br>Freedom to make life choices: 0.626350224<br>Location: Burundi",
          "Road Injuries: 0.06704812<br>HIV: 0.004199578<br>Ischemic Heart Disease: 0.069938826<br>Logged GDP per capita: 10.6736393<br>Social support: 0.911632538<br>Healthy life expectancy: 72.00164795<br>Freedom to make life choices: 0.813582063<br>Location: Belgium",
          "Road Injuries: 0.042746516<br>HIV: 0.06452762<br>Ischemic Heart Disease: 0.053680666<br>Logged GDP per capita: 7.674319744<br>Social support: 0.468671143<br>Healthy life expectancy: 54.31246567<br>Freedom to make life choices: 0.735182583<br>Location: Benin",
          "Road Injuries: 0.055095026<br>HIV: 0.043668807<br>Ischemic Heart Disease: 0.055825361<br>Logged GDP per capita: 7.46854496<br>Social support: 0.712943614<br>Healthy life expectancy: 53.88945389<br>Freedom to make life choices: 0.665563583<br>Location: Burkina Faso",
          "Road Injuries: 0.028538244<br>HIV: 0.00154532<br>Ischemic Heart Disease: 0.14971722<br>Logged GDP per capita: 8.287063599<br>Social support: 0.687292993<br>Healthy life expectancy: 64.50306702<br>Freedom to make life choices: 0.90062499<br>Location: Bangladesh",
          "Road Injuries: 0.037427134<br>HIV: 0.003013197<br>Ischemic Heart Disease: 0.17166366<br>Logged GDP per capita: 9.869318962<br>Social support: 0.937840343<br>Healthy life expectancy: 66.80397797<br>Freedom to make life choices: 0.745178163<br>Location: Bulgaria",
          "Road Injuries: 0.097386102<br>HIV: 0.004204352<br>Ischemic Heart Disease: 0.174308426<br>Logged GDP per capita: 10.67638016<br>Social support: 0.876342118<br>Healthy life expectancy: 68.5<br>Freedom to make life choices: 0.905855775<br>Location: Bahrain",
          "Road Injuries: 0.033934445<br>HIV: 0.000321274<br>Ischemic Heart Disease: 0.141959703<br>Logged GDP per capita: 9.455817223<br>Social support: 0.829204142<br>Healthy life expectancy: 67.80813599<br>Freedom to make life choices: 0.651352704<br>Location: Bosnia and Herzegovina",
          "Road Injuries: 0.037829355<br>HIV: 0.015899724<br>Ischemic Heart Disease: 0.2030117<br>Logged GDP per capita: 9.779945374<br>Social support: 0.90674746<br>Healthy life expectancy: 66.10433197<br>Freedom to make life choices: 0.639163077<br>Location: Belarus",
          "Road Injuries: 0.086101656<br>HIV: 0.032291519<br>Ischemic Heart Disease: 0.088641179<br>Logged GDP per capita: 9.56643486<br>Social support: 0.896723807<br>Healthy life expectancy: 66.48016357<br>Freedom to make life choices: 0.799804807<br>Location: Brazil",
          "Road Injuries: 0.034871225<br>HIV: 0.407560319<br>Ischemic Heart Disease: 0.046974311<br>Logged GDP per capita: 9.711203575<br>Social support: 0.779121757<br>Healthy life expectancy: 58.92445374<br>Freedom to make life choices: 0.821328104<br>Location: Botswana",
          "Road Injuries: 0.071011947<br>HIV: 0.17121064<br>Ischemic Heart Disease: 0.043417196<br>Logged GDP per capita: 6.625160217<br>Social support: 0.319459856<br>Healthy life expectancy: 45.20000076<br>Freedom to make life choices: 0.640880644<br>Location: Central African Republic",
          "Road Injuries: 0.055790023<br>HIV: 0.00702363<br>Ischemic Heart Disease: 0.09065454<br>Logged GDP per capita: 10.69236851<br>Social support: 0.927176654<br>Healthy life expectancy: 73.60160065<br>Freedom to make life choices: 0.933913231<br>Location: Canada",
          "Road Injuries: 0.0403709<br>HIV: 0.006131304<br>Ischemic Heart Disease: 0.077152232<br>Logged GDP per capita: 10.97993279<br>Social support: 0.942846596<br>Healthy life expectancy: 74.10244751<br>Freedom to make life choices: 0.921336651<br>Location: Switzerland",
          "Road Injuries: 0.083013317<br>HIV: 0.024019906<br>Ischemic Heart Disease: 0.068722474<br>Logged GDP per capita: 10.0320549<br>Social support: 0.879713595<br>Healthy life expectancy: 69.90061951<br>Freedom to make life choices: 0.744896293<br>Location: Chile",
          "Road Injuries: 0.050995562<br>HIV: 0.24407306<br>Ischemic Heart Disease: 0.04592324<br>Logged GDP per capita: 8.118647575<br>Social support: 0.700386405<br>Healthy life expectancy: 52.7049408<br>Freedom to make life choices: 0.763051808<br>Location: Cameroon",
          "Road Injuries: 0.080120402<br>HIV: 0.031848471<br>Ischemic Heart Disease: 0.087044567<br>Logged GDP per capita: 9.500369072<br>Social support: 0.884440243<br>Healthy life expectancy: 67.69958496<br>Freedom to make life choices: 0.836179912<br>Location: Colombia",
          "Road Injuries: 0.055547256<br>HIV: 0.001183901<br>Ischemic Heart Disease: 0.064909698<br>Logged GDP per capita: 7.833630085<br>Social support: 0.625662446<br>Healthy life expectancy: 57.34901047<br>Freedom to make life choices: 0.547612607<br>Location: Comoros",
          "Road Injuries: 0.107248144<br>HIV: 0.02109365<br>Ischemic Heart Disease: 0.088896329<br>Logged GDP per capita: 9.658156395<br>Social support: 0.901545942<br>Healthy life expectancy: 71.29985046<br>Freedom to make life choices: 0.934738934<br>Location: Costa Rica",
          "Road Injuries: 0.098016312<br>HIV: 0.003539115<br>Ischemic Heart Disease: 0.156020621<br>Logged GDP per capita: 10.40570259<br>Social support: 0.805996239<br>Healthy life expectancy: 73.70222473<br>Freedom to make life choices: 0.779858291<br>Location: Cyprus",
          "Road Injuries: 0.045764327<br>HIV: 0.004614943<br>Ischemic Heart Disease: 0.091977881<br>Logged GDP per capita: 10.7328186<br>Social support: 0.898874462<br>Healthy life expectancy: 72.20201874<br>Freedom to make life choices: 0.867371082<br>Location: Germany",
          "Road Injuries: 0.044368224<br>HIV: 0.004120078<br>Ischemic Heart Disease: 0.05920077<br>Logged GDP per capita: 10.77400112<br>Social support: 0.955990791<br>Healthy life expectancy: 72.40250397<br>Freedom to make life choices: 0.951444268<br>Location: Denmark",
          "Road Injuries: 0.096074618<br>HIV: 0.052635665<br>Ischemic Heart Disease: 0.160446304<br>Logged GDP per capita: 9.664880753<br>Social support: 0.882085383<br>Healthy life expectancy: 65.80748749<br>Freedom to make life choices: 0.866202772<br>Location: Dominican Republic",
          "Road Injuries: 0.162422905<br>HIV: 0.004090408<br>Ischemic Heart Disease: 0.219362051<br>Logged GDP per capita: 9.537964821<br>Social support: 0.803385139<br>Healthy life expectancy: 65.90517426<br>Freedom to make life choices: 0.466610909<br>Location: Algeria",
          "Road Injuries: 0.127797705<br>HIV: 0.041168267<br>Ischemic Heart Disease: 0.076873004<br>Logged GDP per capita: 9.246058464<br>Social support: 0.836418986<br>Healthy life expectancy: 68.50003815<br>Freedom to make life choices: 0.859828949<br>Location: Ecuador",
          "Road Injuries: 0.050841039<br>HIV: 0.018652727<br>Ischemic Heart Disease: 0.088053439<br>Logged GDP per capita: 10.46292686<br>Social support: 0.921125412<br>Healthy life expectancy: 74.40270996<br>Freedom to make life choices: 0.751989543<br>Location: Spain",
          "Road Injuries: 0.028575966<br>HIV: 0.020385401<br>Ischemic Heart Disease: 0.091774431<br>Logged GDP per capita: 10.34001732<br>Social support: 0.934729993<br>Healthy life expectancy: 68.60495758<br>Freedom to make life choices: 0.87770915<br>Location: Estonia",
          "Road Injuries: 0.031542352<br>HIV: 0.116508934<br>Ischemic Heart Disease: 0.049216867<br>Logged GDP per capita: 7.509385586<br>Social support: 0.743307352<br>Healthy life expectancy: 58.63959122<br>Freedom to make life choices: 0.740795195<br>Location: Ethiopia",
          "Road Injuries: 0.034215758<br>HIV: 0.000782991<br>Ischemic Heart Disease: 0.096270079<br>Logged GDP per capita: 10.63926697<br>Social support: 0.954329729<br>Healthy life expectancy: 71.9008255<br>Freedom to make life choices: 0.949172199<br>Location: Finland",
          "Road Injuries: 0.05991004<br>HIV: 0.006500853<br>Ischemic Heart Disease: 0.057504294<br>Logged GDP per capita: 10.58422279<br>Social support: 0.937103748<br>Healthy life expectancy: 73.80193329<br>Freedom to make life choices: 0.825467646<br>Location: France",
          "Road Injuries: 0.083831834<br>HIV: 0.197340737<br>Ischemic Heart Disease: 0.054179701<br>Logged GDP per capita: 9.680537224<br>Social support: 0.787886858<br>Healthy life expectancy: 59.71533966<br>Freedom to make life choices: 0.704829216<br>Location: Gabon",
          "Road Injuries: 0.034596084<br>HIV: 0.003553172<br>Ischemic Heart Disease: 0.100793704<br>Logged GDP per capita: 10.60013485<br>Social support: 0.93668282<br>Healthy life expectancy: 72.30160522<br>Freedom to make life choices: 0.834743679<br>Location: United Kingdom",
          "Road Injuries: 0.075373431<br>HIV: 0.003174671<br>Ischemic Heart Disease: 0.162714398<br>Logged GDP per capita: 9.226100922<br>Social support: 0.629033029<br>Healthy life expectancy: 64.49520874<br>Freedom to make life choices: 0.801641524<br>Location: Georgia",
          "Road Injuries: 0.051857603<br>HIV: 0.157467854<br>Ischemic Heart Disease: 0.056500109<br>Logged GDP per capita: 8.350645065<br>Social support: 0.728601098<br>Healthy life expectancy: 57.20398712<br>Freedom to make life choices: 0.794796526<br>Location: Ghana",
          "Road Injuries: 0.035918195<br>HIV: 0.107592871<br>Ischemic Heart Disease: 0.051007457<br>Logged GDP per capita: 7.750990391<br>Social support: 0.637573481<br>Healthy life expectancy: 54.46780014<br>Freedom to make life choices: 0.706846774<br>Location: Guinea",
          "Road Injuries: 0.030919251<br>HIV: 0.183163471<br>Ischemic Heart Disease: 0.064076835<br>Logged GDP per capita: 7.321814537<br>Social support: 0.6931687<br>Healthy life expectancy: 55.0120163<br>Freedom to make life choices: 0.733163178<br>Location: Gambia",
          "Road Injuries: 0.09551369<br>HIV: 0.002384857<br>Ischemic Heart Disease: 0.180655916<br>Logged GDP per capita: 10.13232613<br>Social support: 0.814380348<br>Healthy life expectancy: 72.40525818<br>Freedom to make life choices: 0.541345119<br>Location: Greece",
          "Road Injuries: 0.056673057<br>HIV: 0.014439536<br>Ischemic Heart Disease: 0.057894517<br>Logged GDP per capita: 8.924805641<br>Social support: 0.816621482<br>Healthy life expectancy: 64.8089447<br>Freedom to make life choices: 0.908147573<br>Location: Guatemala",
          "Road Injuries: 0.051319469<br>HIV: 0.005467102<br>Ischemic Heart Disease: 0.081005494<br>Logged GDP per capita: 8.424534798<br>Social support: 0.821870148<br>Healthy life expectancy: 67.19876862<br>Freedom to make life choices: 0.870603263<br>Location: Honduras",
          "Road Injuries: 0.064738773<br>HIV: 0.001376084<br>Ischemic Heart Disease: 0.125202126<br>Logged GDP per capita: 10.07087517<br>Social support: 0.874623716<br>Healthy life expectancy: 70.21490479<br>Freedom to make life choices: 0.714838803<br>Location: Croatia",
          "Road Injuries: 0.02414776<br>HIV: 0.128451108<br>Ischemic Heart Disease: 0.096957022<br>Logged GDP per capita: 7.411329269<br>Social support: 0.593247831<br>Healthy life expectancy: 55.59862518<br>Freedom to make life choices: 0.537825167<br>Location: Haiti",
          "Road Injuries: 0.03861593<br>HIV: 0.001870226<br>Ischemic Heart Disease: 0.135943858<br>Logged GDP per capita: 10.24924374<br>Social support: 0.921934128<br>Healthy life expectancy: 67.60997009<br>Freedom to make life choices: 0.718964577<br>Location: Hungary",
          "Road Injuries: 0.055434579<br>HIV: 0.010196381<br>Ischemic Heart Disease: 0.134798277<br>Logged GDP per capita: 9.36975193<br>Social support: 0.808379889<br>Healthy life expectancy: 62.15584946<br>Freedom to make life choices: 0.870614409<br>Location: Indonesia",
          "Road Injuries: 0.057327416<br>HIV: 0.015410431<br>Ischemic Heart Disease: 0.14989065<br>Logged GDP per capita: 8.849823952<br>Social support: 0.592200935<br>Healthy life expectancy: 60.21518707<br>Freedom to make life choices: 0.881444871<br>Location: India",
          "Road Injuries: 0.034484986<br>HIV: 0.002683637<br>Ischemic Heart Disease: 0.101490053<br>Logged GDP per capita: 11.16097832<br>Social support: 0.942081571<br>Healthy life expectancy: 72.30078888<br>Freedom to make life choices: 0.886982977<br>Location: Ireland",
          "Road Injuries: 0.068001274<br>HIV: 0.000850623<br>Ischemic Heart Disease: 0.187718993<br>Logged GDP per capita: 9.661095619<br>Social support: 0.747694969<br>Healthy life expectancy: 59.90354919<br>Freedom to make life choices: 0.633182645<br>Location: Iraq",
          "Road Injuries: 0.037279889<br>HIV: 0.00403136<br>Ischemic Heart Disease: 0.106520109<br>Logged GDP per capita: 10.77255917<br>Social support: 0.974669576<br>Healthy life expectancy: 73.0<br>Freedom to make life choices: 0.948891878<br>Location: Iceland",
          "Road Injuries: 0.068584453<br>HIV: 0.005491826<br>Ischemic Heart Disease: 0.067289585<br>Logged GDP per capita: 10.41752529<br>Social support: 0.913571239<br>Healthy life expectancy: 73.20025635<br>Freedom to make life choices: 0.747580588<br>Location: Israel",
          "Road Injuries: 0.073457327<br>HIV: 0.012414017<br>Ischemic Heart Disease: 0.088498166<br>Logged GDP per capita: 10.48183632<br>Social support: 0.889878571<br>Healthy life expectancy: 73.60168457<br>Freedom to make life choices: 0.66465199<br>Location: Italy",
          "Road Injuries: 0.028279817<br>HIV: 0.088095271<br>Ischemic Heart Disease: 0.061232126<br>Logged GDP per capita: 9.006250381<br>Social support: 0.915701866<br>Healthy life expectancy: 67.09999847<br>Freedom to make life choices: 0.858068526<br>Location: Jamaica",
          "Road Injuries: 0.099227476<br>HIV: 0.00222151<br>Ischemic Heart Disease: 0.177381829<br>Logged GDP per capita: 9.025999069<br>Social support: 0.80216372<br>Healthy life expectancy: 66.79975128<br>Freedom to make life choices: 0.75104779<br>Location: Jordan",
          "Road Injuries: 0.033480451<br>HIV: 0.000842329<br>Ischemic Heart Disease: 0.074844264<br>Logged GDP per capita: 10.57968903<br>Social support: 0.883545935<br>Healthy life expectancy: 75.00096893<br>Freedom to make life choices: 0.809961379<br>Location: Japan",
          "Road Injuries: 0.053265494<br>HIV: 0.0067177<br>Ischemic Heart Disease: 0.114954415<br>Logged GDP per capita: 10.11465836<br>Social support: 0.934744895<br>Healthy life expectancy: 64.60996246<br>Freedom to make life choices: 0.811601937<br>Location: Kazakhstan",
          "Road Injuries: 0.022197937<br>HIV: 0.305973662<br>Ischemic Heart Disease: 0.034703763<br>Logged GDP per capita: 8.02977562<br>Social support: 0.702652037<br>Healthy life expectancy: 60.09693146<br>Freedom to make life choices: 0.829747558<br>Location: Kenya",
          "Road Injuries: 0.076460344<br>HIV: 0.014557418<br>Ischemic Heart Disease: 0.155967626<br>Logged GDP per capita: 8.148405075<br>Social support: 0.887228489<br>Healthy life expectancy: 64.10601044<br>Freedom to make life choices: 0.909374893<br>Location: Kyrgyzstan",
          "Road Injuries: 0.067473322<br>HIV: 0.034849137<br>Ischemic Heart Disease: 0.077870834<br>Logged GDP per capita: 8.249890327<br>Social support: 0.773080647<br>Healthy life expectancy: 61.52996826<br>Freedom to make life choices: 0.959704638<br>Location: Cambodia",
          "Road Injuries: 0.123313694<br>HIV: 0.000675286<br>Ischemic Heart Disease: 0.297418737<br>Logged GDP per capita: 11.08982468<br>Social support: 0.846475244<br>Healthy life expectancy: 66.76764679<br>Freedom to make life choices: 0.872366488<br>Location: Kuwait",
          "Road Injuries: 0.05591117<br>HIV: 0.006715114<br>Ischemic Heart Disease: 0.283547644<br>Logged GDP per capita: 9.3617239<br>Social support: 0.824338138<br>Healthy life expectancy: 67.10658264<br>Freedom to make life choices: 0.551357508<br>Location: Lebanon",
          "Road Injuries: 0.027606643<br>HIV: 0.127374574<br>Ischemic Heart Disease: 0.056067781<br>Logged GDP per capita: 7.054380417<br>Social support: 0.70928055<br>Healthy life expectancy: 56.09631348<br>Freedom to make life choices: 0.735268712<br>Location: Liberia",
          "Road Injuries: 0.138825952<br>HIV: 0.006021968<br>Ischemic Heart Disease: 0.193379593<br>Logged GDP per capita: 9.789815903<br>Social support: 0.825942934<br>Healthy life expectancy: 62.29999924<br>Freedom to make life choices: 0.773157001<br>Location: Libya",
          "Road Injuries: 0.06817149<br>HIV: 0.001055111<br>Ischemic Heart Disease: 0.118869641<br>Logged GDP per capita: 9.389969826<br>Social support: 0.825374067<br>Healthy life expectancy: 67.20006561<br>Freedom to make life choices: 0.837633669<br>Location: Sri Lanka",
          "Road Injuries: 0.036598253<br>HIV: 0.451738626<br>Ischemic Heart Disease: 0.028205829<br>Logged GDP per capita: 7.960488319<br>Social support: 0.780495703<br>Healthy life expectancy: 48.00362396<br>Freedom to make life choices: 0.738125861<br>Location: Lesotho",
          "Road Injuries: 0.032398383<br>HIV: 0.010500185<br>Ischemic Heart Disease: 0.136723146<br>Logged GDP per capita: 10.34362602<br>Social support: 0.926107109<br>Healthy life expectancy: 67.29407501<br>Freedom to make life choices: 0.747381449<br>Location: Lithuania",
          "Road Injuries: 0.061344137<br>HIV: 0.005019126<br>Ischemic Heart Disease: 0.071885398<br>Logged GDP per capita: 11.45068073<br>Social support: 0.906912208<br>Healthy life expectancy: 72.59999847<br>Freedom to make life choices: 0.90563643<br>Location: Luxembourg",
          "Road Injuries: 0.036885324<br>HIV: 0.033754018<br>Ischemic Heart Disease: 0.129452534<br>Logged GDP per capita: 10.17531967<br>Social support: 0.918288589<br>Healthy life expectancy: 66.8074646<br>Freedom to make life choices: 0.671237648<br>Location: Latvia",
          "Road Injuries: 0.122015526<br>HIV: 0.007385679<br>Ischemic Heart Disease: 0.232556337<br>Logged GDP per capita: 8.940313339<br>Social support: 0.592628479<br>Healthy life expectancy: 65.89624023<br>Freedom to make life choices: 0.772072434<br>Location: Morocco",
          "Road Injuries: 0.031369023<br>HIV: 0.035414208<br>Ischemic Heart Disease: 0.068841296<br>Logged GDP per capita: 7.281685829<br>Social support: 0.668195903<br>Healthy life expectancy: 59.10542679<br>Freedom to make life choices: 0.557574093<br>Location: Madagascar",
          "Road Injuries: 0.041648061<br>HIV: 0.001683667<br>Ischemic Heart Disease: 0.171758723<br>Logged GDP per capita: 9.518632889<br>Social support: 0.91316092<br>Healthy life expectancy: 70.59999847<br>Freedom to make life choices: 0.853962779<br>Location: Maldives",
          "Road Injuries: 0.070708359<br>HIV: 0.020663671<br>Ischemic Heart Disease: 0.081116074<br>Logged GDP per capita: 9.797797203<br>Social support: 0.838665426<br>Healthy life expectancy: 68.29902649<br>Freedom to make life choices: 0.858709276<br>Location: Mexico",
          "Road Injuries: 0.028074999<br>HIV: 0.084714686<br>Ischemic Heart Disease: 0.044685563<br>Logged GDP per capita: 7.629852295<br>Social support: 0.731468976<br>Healthy life expectancy: 51.72698212<br>Freedom to make life choices: 0.71156615<br>Location: Mali",
          "Road Injuries: 0.03944543<br>HIV: 0.004694468<br>Ischemic Heart Disease: 0.138743495<br>Logged GDP per capita: 10.53383827<br>Social support: 0.93037951<br>Healthy life expectancy: 72.19999695<br>Freedom to make life choices: 0.924911439<br>Location: Malta",
          "Road Injuries: 0.03934312<br>HIV: 0.037329977<br>Ischemic Heart Disease: 0.074296407<br>Logged GDP per capita: 8.680481911<br>Social support: 0.78440702<br>Healthy life expectancy: 58.96171188<br>Freedom to make life choices: 0.895075202<br>Location: Myanmar",
          "Road Injuries: 0.051872551<br>HIV: 0.001294604<br>Ischemic Heart Disease: 0.138848919<br>Logged GDP per capita: 9.751860619<br>Social support: 0.855314612<br>Healthy life expectancy: 68.50534821<br>Freedom to make life choices: 0.649565637<br>Location: Montenegro",
          "Road Injuries: 0.054430782<br>HIV: 0.001047892<br>Ischemic Heart Disease: 0.135299299<br>Logged GDP per capita: 9.412186623<br>Social support: 0.937142491<br>Healthy life expectancy: 62.30448532<br>Freedom to make life choices: 0.693351328<br>Location: Mongolia",
          "Road Injuries: 0.026381939<br>HIV: 0.39005817<br>Ischemic Heart Disease: 0.033514468<br>Logged GDP per capita: 7.069345951<br>Social support: 0.723874032<br>Healthy life expectancy: 54.20582199<br>Freedom to make life choices: 0.864451885<br>Location: Mozambique",
          "Road Injuries: 0.092365235<br>HIV: 0.003171153<br>Ischemic Heart Disease: 0.059453101<br>Logged GDP per capita: 8.233919144<br>Social support: 0.790819228<br>Healthy life expectancy: 57.01017761<br>Freedom to make life choices: 0.551522553<br>Location: Mauritania",
          "Road Injuries: 0.050007614<br>HIV: 0.037756732<br>Ischemic Heart Disease: 0.108332629<br>Logged GDP per capita: 9.956786156<br>Social support: 0.910357833<br>Healthy life expectancy: 66.40434265<br>Freedom to make life choices: 0.889534533<br>Location: Mauritius",
          "Road Injuries: 0.028665512<br>HIV: 0.2415567<br>Ischemic Heart Disease: 0.044797722<br>Logged GDP per capita: 7.062226295<br>Social support: 0.544007301<br>Healthy life expectancy: 57.59288788<br>Freedom to make life choices: 0.803223193<br>Location: Malawi",
          "Road Injuries: 0.120740453<br>HIV: 0.022782755<br>Ischemic Heart Disease: 0.150764737<br>Logged GDP per capita: 10.26251888<br>Social support: 0.816509426<br>Healthy life expectancy: 67.10215759<br>Freedom to make life choices: 0.894626856<br>Location: Malaysia",
          "Road Injuries: 0.050670244<br>HIV: 0.352518799<br>Ischemic Heart Disease: 0.043950508<br>Logged GDP per capita: 9.203141212<br>Social support: 0.846880972<br>Healthy life expectancy: 56.50148773<br>Freedom to make life choices: 0.767520964<br>Location: Namibia",
          "Road Injuries: 0.034689248<br>HIV: 0.02980367<br>Ischemic Heart Disease: 0.051839003<br>Logged GDP per capita: 6.842166901<br>Social support: 0.617435038<br>Healthy life expectancy: 53.50009537<br>Freedom to make life choices: 0.759772122<br>Location: Niger",
          "Road Injuries: 0.022349721<br>HIV: 0.170834924<br>Ischemic Heart Disease: 0.048129985<br>Logged GDP per capita: 8.57662487<br>Social support: 0.73721689<br>Healthy life expectancy: 49.86190796<br>Freedom to make life choices: 0.759578407<br>Location: Nigeria",
          "Road Injuries: 0.068153456<br>HIV: 0.068278136<br>Ischemic Heart Disease: 0.089336821<br>Logged GDP per capita: 8.493160248<br>Social support: 0.857497036<br>Healthy life expectancy: 67.50717926<br>Freedom to make life choices: 0.863902867<br>Location: Nicaragua",
          "Road Injuries: 0.039203014<br>HIV: 0.003214369<br>Ischemic Heart Disease: 0.070493275<br>Logged GDP per capita: 10.81271172<br>Social support: 0.93913883<br>Healthy life expectancy: 72.30091858<br>Freedom to make life choices: 0.908547819<br>Location: Netherlands",
          "Road Injuries: 0.037167955<br>HIV: 0.003292387<br>Ischemic Heart Disease: 0.076863307<br>Logged GDP per capita: 11.08780384<br>Social support: 0.952486575<br>Healthy life expectancy: 73.20078278<br>Freedom to make life choices: 0.955750287<br>Location: Norway",
          "Road Injuries: 0.034854646<br>HIV: 0.025657325<br>Ischemic Heart Disease: 0.108394074<br>Logged GDP per capita: 7.925357342<br>Social support: 0.785512447<br>Healthy life expectancy: 63.77917862<br>Freedom to make life choices: 0.797565043<br>Location: Nepal",
          "Road Injuries: 0.071656423<br>HIV: 0.002139059<br>Ischemic Heart Disease: 0.098293008<br>Logged GDP per capita: 10.50094318<br>Social support: 0.949118972<br>Healthy life expectancy: 73.20262909<br>Freedom to make life choices: 0.936217487<br>Location: New Zealand",
          "Road Injuries: 0.028217442<br>HIV: 0.00638473<br>Ischemic Heart Disease: 0.153878137<br>Logged GDP per capita: 8.482727051<br>Social support: 0.689062297<br>Healthy life expectancy: 58.25313568<br>Freedom to make life choices: 0.734833717<br>Location: Pakistan",
          "Road Injuries: 0.076776355<br>HIV: 0.096265519<br>Ischemic Heart Disease: 0.069004033<br>Logged GDP per capita: 10.03423405<br>Social support: 0.902094483<br>Healthy life expectancy: 69.60301208<br>Freedom to make life choices: 0.880366504<br>Location: Panama",
          "Road Injuries: 0.087529891<br>HIV: 0.045313<br>Ischemic Heart Disease: 0.060526684<br>Logged GDP per capita: 9.456313133<br>Social support: 0.831075251<br>Healthy life expectancy: 68.10023499<br>Freedom to make life choices: 0.824766099<br>Location: Peru",
          "Road Injuries: 0.039167153<br>HIV: 0.019214993<br>Ischemic Heart Disease: 0.138698717<br>Logged GDP per capita: 8.993545532<br>Social support: 0.846730053<br>Healthy life expectancy: 61.92676163<br>Freedom to make life choices: 0.915463448<br>Location: Philippines",
          "Road Injuries: 0.053927231<br>HIV: 0.002616519<br>Ischemic Heart Disease: 0.098647527<br>Logged GDP per capita: 10.26512432<br>Social support: 0.874257445<br>Healthy life expectancy: 69.31113434<br>Freedom to make life choices: 0.862055779<br>Location: Poland",
          "Road Injuries: 0.058203554<br>HIV: 0.046495941<br>Ischemic Heart Disease: 0.071254268<br>Logged GDP per capita: 10.26374245<br>Social support: 0.886590719<br>Healthy life expectancy: 72.40202332<br>Freedom to make life choices: 0.888747811<br>Location: Portugal",
          "Road Injuries: 0.123117025<br>HIV: 0.041785546<br>Ischemic Heart Disease: 0.092071598<br>Logged GDP per capita: 9.389982224<br>Social support: 0.898727894<br>Healthy life expectancy: 65.63993835<br>Freedom to make life choices: 0.885923445<br>Location: Paraguay",
          "Road Injuries: 0.046773143<br>HIV: 0.004689288<br>Ischemic Heart Disease: 0.134097292<br>Logged GDP per capita: 10.107584<br>Social support: 0.825161517<br>Healthy life expectancy: 67.20723724<br>Freedom to make life choices: 0.842823207<br>Location: Romania",
          "Road Injuries: 0.059316307<br>HIV: 0.104096265<br>Ischemic Heart Disease: 0.042211242<br>Logged GDP per capita: 7.600104332<br>Social support: 0.54083544<br>Healthy life expectancy: 61.09884644<br>Freedom to make life choices: 0.900589406<br>Location: Rwanda",
          "Road Injuries: 0.238398398<br>HIV: 0.007718808<br>Ischemic Heart Disease: 0.200012811<br>Logged GDP per capita: 10.79781246<br>Social support: 0.874067068<br>Healthy life expectancy: 66.30514526<br>Freedom to make life choices: 0.854191244<br>Location: Saudi Arabia",
          "Road Injuries: 0.04000284<br>HIV: 0.049555475<br>Ischemic Heart Disease: 0.059152147<br>Logged GDP per capita: 8.118982315<br>Social support: 0.723616004<br>Healthy life expectancy: 59.59915161<br>Freedom to make life choices: 0.690596163<br>Location: Senegal",
          "Road Injuries: 0.037088719<br>HIV: 0.008936079<br>Ischemic Heart Disease: 0.143168452<br>Logged GDP per capita: 11.39552116<br>Social support: 0.910268962<br>Healthy life expectancy: 76.80458069<br>Freedom to make life choices: 0.926645339<br>Location: Singapore",
          "Road Injuries: 0.038518187<br>HIV: 0.11763992<br>Ischemic Heart Disease: 0.057906065<br>Logged GDP per capita: 7.26880312<br>Social support: 0.636142015<br>Healthy life expectancy: 50.86514282<br>Freedom to make life choices: 0.715315044<br>Location: Sierra Leone",
          "Road Injuries: 0.065789602<br>HIV: 0.038926097<br>Ischemic Heart Disease: 0.077575788<br>Logged GDP per capita: 8.909075737<br>Social support: 0.806092262<br>Healthy life expectancy: 66.10826111<br>Freedom to make life choices: 0.833805263<br>Location: El Salvador",
          "Road Injuries: 0.045687711<br>HIV: 0.00401256<br>Ischemic Heart Disease: 0.128039467<br>Logged GDP per capita: 9.680980682<br>Social support: 0.881475747<br>Healthy life expectancy: 68.21020508<br>Freedom to make life choices: 0.726495862<br>Location: Serbia",
          "Road Injuries: 0.024784755<br>HIV: 0.184243097<br>Ischemic Heart Disease: 0.039444365<br>Logged GDP per capita: 7.425359726<br>Social support: 0.553707123<br>Healthy life expectancy: 51.0<br>Freedom to make life choices: 0.451313615<br>Location: South Sudan",
          "Road Injuries: 0.044599815<br>HIV: 0.000515274<br>Ischemic Heart Disease: 0.139230717<br>Logged GDP per capita: 10.34774971<br>Social support: 0.922493756<br>Healthy life expectancy: 68.90634155<br>Freedom to make life choices: 0.749952674<br>Location: Slovakia",
          "Road Injuries: 0.055031062<br>HIV: 0.001186897<br>Ischemic Heart Disease: 0.07195228<br>Logged GDP per capita: 10.39232254<br>Social support: 0.939575672<br>Healthy life expectancy: 71.1029892<br>Freedom to make life choices: 0.936142623<br>Location: Slovenia",
          "Road Injuries: 0.036868105<br>HIV: 0.002482691<br>Ischemic Heart Disease: 0.087553881<br>Logged GDP per capita: 10.75879383<br>Social support: 0.926311195<br>Healthy life expectancy: 72.60076904<br>Freedom to make life choices: 0.939144194<br>Location: Sweden",
          "Road Injuries: 0.035160523<br>HIV: 0.105230349<br>Ischemic Heart Disease: 0.048078671<br>Logged GDP per capita: 7.467963696<br>Social support: 0.632388055<br>Healthy life expectancy: 48.22053909<br>Freedom to make life choices: 0.587305248<br>Location: Chad",
          "Road Injuries: 0.050252846<br>HIV: 0.140861224<br>Ischemic Heart Disease: 0.062197999<br>Logged GDP per capita: 7.357711315<br>Social support: 0.551312625<br>Healthy life expectancy: 54.71989822<br>Freedom to make life choices: 0.649828613<br>Location: Togo",
          "Road Injuries: 0.107271644<br>HIV: 0.097873109<br>Ischemic Heart Disease: 0.061612522<br>Logged GDP per capita: 9.741791725<br>Social support: 0.889973223<br>Healthy life expectancy: 67.25059509<br>Freedom to make life choices: 0.905063033<br>Location: Thailand",
          "Road Injuries: 0.039688764<br>HIV: 0.0040251<br>Ischemic Heart Disease: 0.195622617<br>Logged GDP per capita: 8.024810791<br>Social support: 0.835297108<br>Healthy life expectancy: 64.10459137<br>Freedom to make life choices: 0.831383407<br>Location: Tajikistan",
          "Road Injuries: 0.021090614<br>HIV: 0.010039227<br>Ischemic Heart Disease: 0.203623009<br>Logged GDP per capita: 9.74803257<br>Social support: 0.958966196<br>Healthy life expectancy: 62.21170807<br>Freedom to make life choices: 0.826457024<br>Location: Turkmenistan",
          "Road Injuries: 0.048669873<br>HIV: 0.068789928<br>Ischemic Heart Disease: 0.112233146<br>Logged GDP per capita: 10.26000214<br>Social support: 0.91529417<br>Healthy life expectancy: 63.5<br>Freedom to make life choices: 0.857907116<br>Location: Trinidad and Tobago",
          "Road Injuries: 0.13262982<br>HIV: 0.010316137<br>Ischemic Heart Disease: 0.217742047<br>Logged GDP per capita: 9.314972878<br>Social support: 0.688718557<br>Healthy life expectancy: 66.89785767<br>Freedom to make life choices: 0.593361557<br>Location: Tunisia",
          "Road Injuries: 0.074540364<br>HIV: 0.002498374<br>Ischemic Heart Disease: 0.159126961<br>Logged GDP per capita: 10.12941933<br>Social support: 0.826313555<br>Healthy life expectancy: 66.90281677<br>Freedom to make life choices: 0.608830452<br>Location: Turkey",
          "Road Injuries: 0.039954147<br>HIV: 0.201332285<br>Ischemic Heart Disease: 0.040224443<br>Logged GDP per capita: 7.500389576<br>Social support: 0.764994621<br>Healthy life expectancy: 55.70820236<br>Freedom to make life choices: 0.731713951<br>Location: Uganda",
          "Road Injuries: 0.03719242<br>HIV: 0.043163931<br>Ischemic Heart Disease: 0.201914435<br>Logged GDP per capita: 9.010690689<br>Social support: 0.878879368<br>Healthy life expectancy: 64.60678101<br>Freedom to make life choices: 0.663081884<br>Location: Ukraine",
          "Road Injuries: 0.080525145<br>HIV: 0.031035518<br>Ischemic Heart Disease: 0.066344157<br>Logged GDP per capita: 9.948192596<br>Social support: 0.92281127<br>Healthy life expectancy: 69.00254822<br>Freedom to make life choices: 0.892395437<br>Location: Uruguay",
          "Road Injuries: 0.055737907<br>HIV: 0.00851732<br>Ischemic Heart Disease: 0.239302594<br>Logged GDP per capita: 8.740371704<br>Social support: 0.926595807<br>Healthy life expectancy: 65.10757446<br>Freedom to make life choices: 0.974998116<br>Location: Uzbekistan",
          "Road Injuries: 0.121016778<br>HIV: 0.003649288<br>Ischemic Heart Disease: 0.189278911<br>Logged GDP per capita: 7.759682655<br>Social support: 0.817980587<br>Healthy life expectancy: 56.72728348<br>Freedom to make life choices: 0.599920273<br>Location: Yemen",
          "Road Injuries: 0.055650828<br>HIV: 0.428854527<br>Ischemic Heart Disease: 0.034259257<br>Logged GDP per capita: 9.403370857<br>Social support: 0.852532268<br>Healthy life expectancy: 56.50601196<br>Freedom to make life choices: 0.759330094<br>Location: South Africa",
          "Road Injuries: 0.026893337<br>HIV: 0.299726216<br>Ischemic Heart Disease: 0.037536953<br>Logged GDP per capita: 8.224720001<br>Social support: 0.698824465<br>Healthy life expectancy: 55.29937744<br>Freedom to make life choices: 0.806500256<br>Location: Zambia",
          "Road Injuries: 0.030762777<br>HIV: 0.266964611<br>Ischemic Heart Disease: 0.051815546<br>Logged GDP per capita: 7.865711689<br>Social support: 0.763092756<br>Healthy life expectancy: 55.61725998<br>Freedom to make life choices: 0.711457908<br>Location: Zimbabwe",
          "Road Injuries: 0.130130931<br>HIV: 0.000338142<br>Ischemic Heart Disease: 0.270220273<br>Logged GDP per capita: 9.316541672<br>Social support: 0.735447824<br>Healthy life expectancy: 61.78015137<br>Freedom to make life choices: 0.708354175<br>Location: Egypt",
          "Road Injuries: 0.097773854<br>HIV: 0.01381587<br>Ischemic Heart Disease: 0.116200299<br>Logged GDP per capita: 9.688568115<br>Social support: 0.798760593<br>Healthy life expectancy: 69.2891922<br>Freedom to make life choices: 0.898517907<br>Location: China"
         ],
         "type": "splom"
        }
       ],
       "layout": {
        "dragmode": "select",
        "height": 1345,
        "hovermode": "closest",
        "template": {
         "data": {
          "bar": [
           {
            "error_x": {
             "color": "#2a3f5f"
            },
            "error_y": {
             "color": "#2a3f5f"
            },
            "marker": {
             "line": {
              "color": "#E5ECF6",
              "width": 0.5
             },
             "pattern": {
              "fillmode": "overlay",
              "size": 10,
              "solidity": 0.2
             }
            },
            "type": "bar"
           }
          ],
          "barpolar": [
           {
            "marker": {
             "line": {
              "color": "#E5ECF6",
              "width": 0.5
             },
             "pattern": {
              "fillmode": "overlay",
              "size": 10,
              "solidity": 0.2
             }
            },
            "type": "barpolar"
           }
          ],
          "carpet": [
           {
            "aaxis": {
             "endlinecolor": "#2a3f5f",
             "gridcolor": "white",
             "linecolor": "white",
             "minorgridcolor": "white",
             "startlinecolor": "#2a3f5f"
            },
            "baxis": {
             "endlinecolor": "#2a3f5f",
             "gridcolor": "white",
             "linecolor": "white",
             "minorgridcolor": "white",
             "startlinecolor": "#2a3f5f"
            },
            "type": "carpet"
           }
          ],
          "choropleth": [
           {
            "colorbar": {
             "outlinewidth": 0,
             "ticks": ""
            },
            "type": "choropleth"
           }
          ],
          "contour": [
           {
            "colorbar": {
             "outlinewidth": 0,
             "ticks": ""
            },
            "colorscale": [
             [
              0,
              "#0d0887"
             ],
             [
              0.1111111111111111,
              "#46039f"
             ],
             [
              0.2222222222222222,
              "#7201a8"
             ],
             [
              0.3333333333333333,
              "#9c179e"
             ],
             [
              0.4444444444444444,
              "#bd3786"
             ],
             [
              0.5555555555555556,
              "#d8576b"
             ],
             [
              0.6666666666666666,
              "#ed7953"
             ],
             [
              0.7777777777777778,
              "#fb9f3a"
             ],
             [
              0.8888888888888888,
              "#fdca26"
             ],
             [
              1,
              "#f0f921"
             ]
            ],
            "type": "contour"
           }
          ],
          "contourcarpet": [
           {
            "colorbar": {
             "outlinewidth": 0,
             "ticks": ""
            },
            "type": "contourcarpet"
           }
          ],
          "heatmap": [
           {
            "colorbar": {
             "outlinewidth": 0,
             "ticks": ""
            },
            "colorscale": [
             [
              0,
              "#0d0887"
             ],
             [
              0.1111111111111111,
              "#46039f"
             ],
             [
              0.2222222222222222,
              "#7201a8"
             ],
             [
              0.3333333333333333,
              "#9c179e"
             ],
             [
              0.4444444444444444,
              "#bd3786"
             ],
             [
              0.5555555555555556,
              "#d8576b"
             ],
             [
              0.6666666666666666,
              "#ed7953"
             ],
             [
              0.7777777777777778,
              "#fb9f3a"
             ],
             [
              0.8888888888888888,
              "#fdca26"
             ],
             [
              1,
              "#f0f921"
             ]
            ],
            "type": "heatmap"
           }
          ],
          "heatmapgl": [
           {
            "colorbar": {
             "outlinewidth": 0,
             "ticks": ""
            },
            "colorscale": [
             [
              0,
              "#0d0887"
             ],
             [
              0.1111111111111111,
              "#46039f"
             ],
             [
              0.2222222222222222,
              "#7201a8"
             ],
             [
              0.3333333333333333,
              "#9c179e"
             ],
             [
              0.4444444444444444,
              "#bd3786"
             ],
             [
              0.5555555555555556,
              "#d8576b"
             ],
             [
              0.6666666666666666,
              "#ed7953"
             ],
             [
              0.7777777777777778,
              "#fb9f3a"
             ],
             [
              0.8888888888888888,
              "#fdca26"
             ],
             [
              1,
              "#f0f921"
             ]
            ],
            "type": "heatmapgl"
           }
          ],
          "histogram": [
           {
            "marker": {
             "pattern": {
              "fillmode": "overlay",
              "size": 10,
              "solidity": 0.2
             }
            },
            "type": "histogram"
           }
          ],
          "histogram2d": [
           {
            "colorbar": {
             "outlinewidth": 0,
             "ticks": ""
            },
            "colorscale": [
             [
              0,
              "#0d0887"
             ],
             [
              0.1111111111111111,
              "#46039f"
             ],
             [
              0.2222222222222222,
              "#7201a8"
             ],
             [
              0.3333333333333333,
              "#9c179e"
             ],
             [
              0.4444444444444444,
              "#bd3786"
             ],
             [
              0.5555555555555556,
              "#d8576b"
             ],
             [
              0.6666666666666666,
              "#ed7953"
             ],
             [
              0.7777777777777778,
              "#fb9f3a"
             ],
             [
              0.8888888888888888,
              "#fdca26"
             ],
             [
              1,
              "#f0f921"
             ]
            ],
            "type": "histogram2d"
           }
          ],
          "histogram2dcontour": [
           {
            "colorbar": {
             "outlinewidth": 0,
             "ticks": ""
            },
            "colorscale": [
             [
              0,
              "#0d0887"
             ],
             [
              0.1111111111111111,
              "#46039f"
             ],
             [
              0.2222222222222222,
              "#7201a8"
             ],
             [
              0.3333333333333333,
              "#9c179e"
             ],
             [
              0.4444444444444444,
              "#bd3786"
             ],
             [
              0.5555555555555556,
              "#d8576b"
             ],
             [
              0.6666666666666666,
              "#ed7953"
             ],
             [
              0.7777777777777778,
              "#fb9f3a"
             ],
             [
              0.8888888888888888,
              "#fdca26"
             ],
             [
              1,
              "#f0f921"
             ]
            ],
            "type": "histogram2dcontour"
           }
          ],
          "mesh3d": [
           {
            "colorbar": {
             "outlinewidth": 0,
             "ticks": ""
            },
            "type": "mesh3d"
           }
          ],
          "parcoords": [
           {
            "line": {
             "colorbar": {
              "outlinewidth": 0,
              "ticks": ""
             }
            },
            "type": "parcoords"
           }
          ],
          "pie": [
           {
            "automargin": true,
            "type": "pie"
           }
          ],
          "scatter": [
           {
            "fillpattern": {
             "fillmode": "overlay",
             "size": 10,
             "solidity": 0.2
            },
            "type": "scatter"
           }
          ],
          "scatter3d": [
           {
            "line": {
             "colorbar": {
              "outlinewidth": 0,
              "ticks": ""
             }
            },
            "marker": {
             "colorbar": {
              "outlinewidth": 0,
              "ticks": ""
             }
            },
            "type": "scatter3d"
           }
          ],
          "scattercarpet": [
           {
            "marker": {
             "colorbar": {
              "outlinewidth": 0,
              "ticks": ""
             }
            },
            "type": "scattercarpet"
           }
          ],
          "scattergeo": [
           {
            "marker": {
             "colorbar": {
              "outlinewidth": 0,
              "ticks": ""
             }
            },
            "type": "scattergeo"
           }
          ],
          "scattergl": [
           {
            "marker": {
             "colorbar": {
              "outlinewidth": 0,
              "ticks": ""
             }
            },
            "type": "scattergl"
           }
          ],
          "scattermapbox": [
           {
            "marker": {
             "colorbar": {
              "outlinewidth": 0,
              "ticks": ""
             }
            },
            "type": "scattermapbox"
           }
          ],
          "scatterpolar": [
           {
            "marker": {
             "colorbar": {
              "outlinewidth": 0,
              "ticks": ""
             }
            },
            "type": "scatterpolar"
           }
          ],
          "scatterpolargl": [
           {
            "marker": {
             "colorbar": {
              "outlinewidth": 0,
              "ticks": ""
             }
            },
            "type": "scatterpolargl"
           }
          ],
          "scatterternary": [
           {
            "marker": {
             "colorbar": {
              "outlinewidth": 0,
              "ticks": ""
             }
            },
            "type": "scatterternary"
           }
          ],
          "surface": [
           {
            "colorbar": {
             "outlinewidth": 0,
             "ticks": ""
            },
            "colorscale": [
             [
              0,
              "#0d0887"
             ],
             [
              0.1111111111111111,
              "#46039f"
             ],
             [
              0.2222222222222222,
              "#7201a8"
             ],
             [
              0.3333333333333333,
              "#9c179e"
             ],
             [
              0.4444444444444444,
              "#bd3786"
             ],
             [
              0.5555555555555556,
              "#d8576b"
             ],
             [
              0.6666666666666666,
              "#ed7953"
             ],
             [
              0.7777777777777778,
              "#fb9f3a"
             ],
             [
              0.8888888888888888,
              "#fdca26"
             ],
             [
              1,
              "#f0f921"
             ]
            ],
            "type": "surface"
           }
          ],
          "table": [
           {
            "cells": {
             "fill": {
              "color": "#EBF0F8"
             },
             "line": {
              "color": "white"
             }
            },
            "header": {
             "fill": {
              "color": "#C8D4E3"
             },
             "line": {
              "color": "white"
             }
            },
            "type": "table"
           }
          ]
         },
         "layout": {
          "annotationdefaults": {
           "arrowcolor": "#2a3f5f",
           "arrowhead": 0,
           "arrowwidth": 1
          },
          "autotypenumbers": "strict",
          "coloraxis": {
           "colorbar": {
            "outlinewidth": 0,
            "ticks": ""
           }
          },
          "colorscale": {
           "diverging": [
            [
             0,
             "#8e0152"
            ],
            [
             0.1,
             "#c51b7d"
            ],
            [
             0.2,
             "#de77ae"
            ],
            [
             0.3,
             "#f1b6da"
            ],
            [
             0.4,
             "#fde0ef"
            ],
            [
             0.5,
             "#f7f7f7"
            ],
            [
             0.6,
             "#e6f5d0"
            ],
            [
             0.7,
             "#b8e186"
            ],
            [
             0.8,
             "#7fbc41"
            ],
            [
             0.9,
             "#4d9221"
            ],
            [
             1,
             "#276419"
            ]
           ],
           "sequential": [
            [
             0,
             "#0d0887"
            ],
            [
             0.1111111111111111,
             "#46039f"
            ],
            [
             0.2222222222222222,
             "#7201a8"
            ],
            [
             0.3333333333333333,
             "#9c179e"
            ],
            [
             0.4444444444444444,
             "#bd3786"
            ],
            [
             0.5555555555555556,
             "#d8576b"
            ],
            [
             0.6666666666666666,
             "#ed7953"
            ],
            [
             0.7777777777777778,
             "#fb9f3a"
            ],
            [
             0.8888888888888888,
             "#fdca26"
            ],
            [
             1,
             "#f0f921"
            ]
           ],
           "sequentialminus": [
            [
             0,
             "#0d0887"
            ],
            [
             0.1111111111111111,
             "#46039f"
            ],
            [
             0.2222222222222222,
             "#7201a8"
            ],
            [
             0.3333333333333333,
             "#9c179e"
            ],
            [
             0.4444444444444444,
             "#bd3786"
            ],
            [
             0.5555555555555556,
             "#d8576b"
            ],
            [
             0.6666666666666666,
             "#ed7953"
            ],
            [
             0.7777777777777778,
             "#fb9f3a"
            ],
            [
             0.8888888888888888,
             "#fdca26"
            ],
            [
             1,
             "#f0f921"
            ]
           ]
          },
          "colorway": [
           "#636efa",
           "#EF553B",
           "#00cc96",
           "#ab63fa",
           "#FFA15A",
           "#19d3f3",
           "#FF6692",
           "#B6E880",
           "#FF97FF",
           "#FECB52"
          ],
          "font": {
           "color": "#2a3f5f"
          },
          "geo": {
           "bgcolor": "white",
           "lakecolor": "white",
           "landcolor": "#E5ECF6",
           "showlakes": true,
           "showland": true,
           "subunitcolor": "white"
          },
          "hoverlabel": {
           "align": "left"
          },
          "hovermode": "closest",
          "mapbox": {
           "style": "light"
          },
          "paper_bgcolor": "white",
          "plot_bgcolor": "#E5ECF6",
          "polar": {
           "angularaxis": {
            "gridcolor": "white",
            "linecolor": "white",
            "ticks": ""
           },
           "bgcolor": "#E5ECF6",
           "radialaxis": {
            "gridcolor": "white",
            "linecolor": "white",
            "ticks": ""
           }
          },
          "scene": {
           "xaxis": {
            "backgroundcolor": "#E5ECF6",
            "gridcolor": "white",
            "gridwidth": 2,
            "linecolor": "white",
            "showbackground": true,
            "ticks": "",
            "zerolinecolor": "white"
           },
           "yaxis": {
            "backgroundcolor": "#E5ECF6",
            "gridcolor": "white",
            "gridwidth": 2,
            "linecolor": "white",
            "showbackground": true,
            "ticks": "",
            "zerolinecolor": "white"
           },
           "zaxis": {
            "backgroundcolor": "#E5ECF6",
            "gridcolor": "white",
            "gridwidth": 2,
            "linecolor": "white",
            "showbackground": true,
            "ticks": "",
            "zerolinecolor": "white"
           }
          },
          "shapedefaults": {
           "line": {
            "color": "#2a3f5f"
           }
          },
          "ternary": {
           "aaxis": {
            "gridcolor": "white",
            "linecolor": "white",
            "ticks": ""
           },
           "baxis": {
            "gridcolor": "white",
            "linecolor": "white",
            "ticks": ""
           },
           "bgcolor": "#E5ECF6",
           "caxis": {
            "gridcolor": "white",
            "linecolor": "white",
            "ticks": ""
           }
          },
          "title": {
           "x": 0.05
          },
          "xaxis": {
           "automargin": true,
           "gridcolor": "white",
           "linecolor": "white",
           "ticks": "",
           "title": {
            "standoff": 15
           },
           "zerolinecolor": "white",
           "zerolinewidth": 2
          },
          "yaxis": {
           "automargin": true,
           "gridcolor": "white",
           "linecolor": "white",
           "ticks": "",
           "title": {
            "standoff": 15
           },
           "zerolinecolor": "white",
           "zerolinewidth": 2
          }
         }
        },
        "title": {
         "text": "Top 3 Risks of Death (rates) against WHR Measurements of Happiness",
         "x": 0.5,
         "xanchor": "center"
        },
        "width": 1150
       }
      }
     },
     "metadata": {},
     "output_type": "display_data"
    }
   ],
   "source": [
    "numeric_cols = [\"Road Injuries\", \"HIV\", \"Ischemic Heart Disease\", \"Logged GDP per capita\", \n",
    "                \"Social support\",\"Healthy life expectancy\",\"Freedom to make life choices\"]\n",
    "\n",
    "# Convert the data in these columns to numeric if they're not already\n",
    "GBDWHR_df[numeric_cols] = GBDWHR_df[numeric_cols].apply(pd.to_numeric, errors='coerce')\n",
    "\n",
    "# Create a list to store hover text for each data point\n",
    "hover_text = []\n",
    "for index, row in GBDWHR_df.iterrows():\n",
    "    text = \"\"\n",
    "    for col in numeric_cols:\n",
    "        text += f\"{col}: {row[col]}<br>\"\n",
    "    text += f\"Location: {row['Location']}\"\n",
    "    hover_text.append(text)\n",
    "\n",
    "# Create a scatter matrix using Plotly\n",
    "figScatter = go.Figure(data=go.Splom(\n",
    "                  dimensions=[dict(label=col, values=GBDWHR_df[col]) for col in numeric_cols],\n",
    "                  text=hover_text,  # Use hover text generated above\n",
    "                  marker=dict(color='blue', showscale=False),\n",
    "                  showupperhalf=False,  # Do not show the upper half of the scatter matrix\n",
    "                  showlowerhalf=True,\n",
    "))\n",
    "\n",
    "# Update layout properties for better visualization\n",
    "figScatter.update_layout(\n",
    "    title='Top 3 Risks of Death (rates) against WHR Measurements of Happiness',\n",
    "    hovermode='closest',  # Show information from the nearest point\n",
    "    dragmode='select',  # Enable selection box for zooming\n",
    "    width=1150,\n",
    "    height=1345,\n",
    "    title_x=0.5,  # Center the title horizontally\n",
    "    title_xanchor='center'\n",
    ")\n",
    "figScatter.update_traces(diagonal_visible=False)\n",
    "# Show plot\n",
    "figScatter.show()"
   ]
  },
  {
   "cell_type": "code",
   "execution_count": 242,
   "id": "5d522640",
   "metadata": {},
   "outputs": [],
   "source": [
    "# Save chosen graphs as html\n",
    "pio.write_html(figScatter,\"3 Risks v WHR Scatter Matrix.html\")\n",
    "pio.write_html(figCompare1,\"Comparison 1.html\")\n",
    "pio.write_html(figCompare2,\"Comparison 2.html\")\n",
    "pio.write_html(figCompare3,\"Comparison 3.html\")"
   ]
  },
  {
   "cell_type": "code",
   "execution_count": 243,
   "id": "4cfb87af",
   "metadata": {},
   "outputs": [
    {
     "data": {
      "text/plain": [
       "'{\"data\":[{\"dimensions\":[{\"label\":\"Road Injuries\",\"values\":[0.066641327,0.06838024,0.15266505,0.079143662,0.048349224,0.059117539,0.050365923,0.038269098,0.041683861,0.06704812,0.042746516,0.055095026,0.028538244,0.037427134,0.097386102,0.033934445,0.037829355,0.086101656,0.034871225,0.071011947,0.055790023,0.0403709,0.083013317,0.050995562,0.080120402,0.055547256,0.107248144,0.098016312,0.045764327,0.044368224,0.096074618,0.162422905,0.127797705,0.050841039,0.028575966,0.031542352,0.034215758,0.05991004,0.083831834,0.034596084,0.075373431,0.051857603,0.035918195,0.030919251,0.09551369,0.056673057,0.051319469,0.064738773,0.02414776,0.03861593,0.055434579,0.057327416,0.034484986,0.068001274,0.037279889,0.068584453,0.073457327,0.028279817,0.099227476,0.033480451,0.053265494,0.022197937,0.076460344,0.067473322,0.123313694,0.05591117,0.027606643,0.138825952,0.06817149,0.036598253,0.032398383,0.061344137,0.036885324,0.122015526,0.031369023,0.041648061,0.070708359,0.028074999,0.03944543,0.03934312,0.051872551,0.054430782,0.026381939,0.092365235,0.050007614,0.028665512,0.120740453,0.050670244,0.034689248,0.022349721,0.068153456,0.039203014,0.037167955,0.034854646,0.071656423,0.028217442,0.076776355,0.087529891,0.039167153,0.053927231,0.058203554,0.123117025,0.046773143,0.059316307,0.238398398,0.04000284,0.037088719,0.038518187,0.065789602,0.045687711,0.024784755,0.044599815,0.055031062,0.036868105,0.035160523,0.050252846,0.107271644,0.039688764,0.021090614,0.048669873,0.13262982,0.074540364,0.039954147,0.03719242,0.080525145,0.055737907,0.121016778,0.055650828,0.026893337,0.030762777,0.130130931,0.097773854]},{\"label\":\"HIV\",\"values\":[0.002163739,0.000502499,0.0053842,0.026741034,0.005419346,0.002883772,0.004875665,0.002342432,0.051661858,0.004199578,0.06452762,0.043668807,0.00154532,0.003013197,0.004204352,0.000321274,0.015899724,0.032291519,0.407560319,0.17121064,0.00702363,0.006131304,0.024019906,0.24407306,0.031848471,0.001183901,0.02109365,0.003539115,0.004614943,0.004120078,0.052635665,0.004090408,0.041168267,0.018652727,0.020385401,0.116508934,0.000782991,0.006500853,0.197340737,0.003553172,0.003174671,0.157467854,0.107592871,0.183163471,0.002384857,0.014439536,0.005467102,0.001376084,0.128451108,0.001870226,0.010196381,0.015410431,0.002683637,0.000850623,0.00403136,0.005491826,0.012414017,0.088095271,0.00222151,0.000842329,0.0067177,0.305973662,0.014557418,0.034849137,0.000675286,0.006715114,0.127374574,0.006021968,0.001055111,0.451738626,0.010500185,0.005019126,0.033754018,0.007385679,0.035414208,0.001683667,0.020663671,0.084714686,0.004694468,0.037329977,0.001294604,0.001047892,0.39005817,0.003171153,0.037756732,0.2415567,0.022782755,0.352518799,0.02980367,0.170834924,0.068278136,0.003214369,0.003292387,0.025657325,0.002139059,0.00638473,0.096265519,0.045313,0.019214993,0.002616519,0.046495941,0.041785546,0.004689288,0.104096265,0.007718808,0.049555475,0.008936079,0.11763992,0.038926097,0.00401256,0.184243097,0.000515274,0.001186897,0.002482691,0.105230349,0.140861224,0.097873109,0.0040251,0.010039227,0.068789928,0.010316137,0.002498374,0.201332285,0.043163931,0.031035518,0.00851732,0.003649288,0.428854527,0.299726216,0.266964611,0.000338142,0.01381587]},{\"label\":\"Ischemic Heart Disease\",\"values\":[0.179838083,0.173300847,0.156872548,0.078702551,0.198225059,0.08148769,0.092532788,0.228278271,0.053175034,0.069938826,0.053680666,0.055825361,0.14971722,0.17166366,0.174308426,0.141959703,0.2030117,0.088641179,0.046974311,0.043417196,0.09065454,0.077152232,0.068722474,0.04592324,0.087044567,0.064909698,0.088896329,0.156020621,0.091977881,0.05920077,0.160446304,0.219362051,0.076873004,0.088053439,0.091774431,0.049216867,0.096270079,0.057504294,0.054179701,0.100793704,0.162714398,0.056500109,0.051007457,0.064076835,0.180655916,0.057894517,0.081005494,0.125202126,0.096957022,0.135943858,0.134798277,0.14989065,0.101490053,0.187718993,0.106520109,0.067289585,0.088498166,0.061232126,0.177381829,0.074844264,0.114954415,0.034703763,0.155967626,0.077870834,0.297418737,0.283547644,0.056067781,0.193379593,0.118869641,0.028205829,0.136723146,0.071885398,0.129452534,0.232556337,0.068841296,0.171758723,0.081116074,0.044685563,0.138743495,0.074296407,0.138848919,0.135299299,0.033514468,0.059453101,0.108332629,0.044797722,0.150764737,0.043950508,0.051839003,0.048129985,0.089336821,0.070493275,0.076863307,0.108394074,0.098293008,0.153878137,0.069004033,0.060526684,0.138698717,0.098647527,0.071254268,0.092071598,0.134097292,0.042211242,0.200012811,0.059152147,0.143168452,0.057906065,0.077575788,0.128039467,0.039444365,0.139230717,0.07195228,0.087553881,0.048078671,0.062197999,0.061612522,0.195622617,0.203623009,0.112233146,0.217742047,0.159126961,0.040224443,0.201914435,0.066344157,0.239302594,0.189278911,0.034259257,0.037536953,0.051815546,0.270220273,0.116200299]},{\"label\":\"Logged GDP per capita\",\"values\":[7.462860584,9.417930603,11.1099987,9.810955048,9.100476265,10.72059631,10.7428236,9.687726974,6.492642403,10.6736393,7.674319744,7.46854496,8.287063599,9.869318962,10.67638016,9.455817223,9.779945374,9.56643486,9.711203575,6.625160217,10.69236851,10.97993279,10.0320549,8.118647575,9.500369072,7.833630085,9.658156395,10.40570259,10.7328186,10.77400112,9.664880753,9.537964821,9.246058464,10.46292686,10.34001732,7.509385586,10.63926697,10.58422279,9.680537224,10.60013485,9.226100922,8.350645065,7.750990391,7.321814537,10.13232613,8.924805641,8.424534798,10.07087517,7.411329269,10.24924374,9.36975193,8.849823952,11.16097832,9.661095619,10.77255917,10.41752529,10.48183632,9.006250381,9.025999069,10.57968903,10.11465836,8.02977562,8.148405075,8.249890327,11.08982468,9.3617239,7.054380417,9.789815903,9.389969826,7.960488319,10.34362602,11.45068073,10.17531967,8.940313339,7.281685829,9.518632889,9.797797203,7.629852295,10.53383827,8.680481911,9.751860619,9.412186623,7.069345951,8.233919144,9.956786156,7.062226295,10.26251888,9.203141212,6.842166901,8.57662487,8.493160248,10.81271172,11.08780384,7.925357342,10.50094318,8.482727051,10.03423405,9.456313133,8.993545532,10.26512432,10.26374245,9.389982224,10.107584,7.600104332,10.79781246,8.118982315,11.39552116,7.26880312,8.909075737,9.680980682,7.425359726,10.34774971,10.39232254,10.75879383,7.467963696,7.357711315,9.741791725,8.024810791,9.74803257,10.26000214,9.314972878,10.12941933,7.500389576,9.010690689,9.948192596,8.740371704,7.759682655,9.403370857,8.224720001,7.865711689,9.316541672,9.688568115]},{\"label\":\"Social support\",\"values\":[0.470366955,0.671070457,0.849181116,0.900567949,0.757479429,0.944854617,0.928045869,0.819308281,0.490325719,0.911632538,0.468671143,0.712943614,0.687292993,0.937840343,0.876342118,0.829204142,0.90674746,0.896723807,0.779121757,0.319459856,0.927176654,0.942846596,0.879713595,0.700386405,0.884440243,0.625662446,0.901545942,0.805996239,0.898874462,0.955990791,0.882085383,0.803385139,0.836418986,0.921125412,0.934729993,0.743307352,0.954329729,0.937103748,0.787886858,0.93668282,0.629033029,0.728601098,0.637573481,0.6931687,0.814380348,0.816621482,0.821870148,0.874623716,0.593247831,0.921934128,0.808379889,0.592200935,0.942081571,0.747694969,0.974669576,0.913571239,0.889878571,0.915701866,0.80216372,0.883545935,0.934744895,0.702652037,0.887228489,0.773080647,0.846475244,0.824338138,0.70928055,0.825942934,0.825374067,0.780495703,0.926107109,0.906912208,0.918288589,0.592628479,0.668195903,0.91316092,0.838665426,0.731468976,0.93037951,0.78440702,0.855314612,0.937142491,0.723874032,0.790819228,0.910357833,0.544007301,0.816509426,0.846880972,0.617435038,0.73721689,0.857497036,0.93913883,0.952486575,0.785512447,0.949118972,0.689062297,0.902094483,0.831075251,0.846730053,0.874257445,0.886590719,0.898727894,0.825161517,0.54083544,0.874067068,0.723616004,0.910268962,0.636142015,0.806092262,0.881475747,0.553707123,0.922493756,0.939575672,0.926311195,0.632388055,0.551312625,0.889973223,0.835297108,0.958966196,0.91529417,0.688718557,0.826313555,0.764994621,0.878879368,0.92281127,0.926595807,0.817980587,0.852532268,0.698824465,0.763092756,0.735447824,0.798760593]},{\"label\":\"Healthy life expectancy\",\"values\":[52.59000015,68.70813751,67.08278656,68.80380249,66.75065613,73.60453796,73.00250244,65.50839996,53.40000153,72.00164795,54.31246567,53.88945389,64.50306702,66.80397797,68.5,67.80813599,66.10433197,66.48016357,58.92445374,45.20000076,73.60160065,74.10244751,69.90061951,52.7049408,67.69958496,57.34901047,71.29985046,73.70222473,72.20201874,72.40250397,65.80748749,65.90517426,68.50003815,74.40270996,68.60495758,58.63959122,71.9008255,73.80193329,59.71533966,72.30160522,64.49520874,57.20398712,54.46780014,55.0120163,72.40525818,64.8089447,67.19876862,70.21490479,55.59862518,67.60997009,62.15584946,60.21518707,72.30078888,59.90354919,73.0,73.20025635,73.60168457,67.09999847,66.79975128,75.00096893,64.60996246,60.09693146,64.10601044,61.52996826,66.76764679,67.10658264,56.09631348,62.29999924,67.20006561,48.00362396,67.29407501,72.59999847,66.8074646,65.89624023,59.10542679,70.59999847,68.29902649,51.72698212,72.19999695,58.96171188,68.50534821,62.30448532,54.20582199,57.01017761,66.40434265,57.59288788,67.10215759,56.50148773,53.50009537,49.86190796,67.50717926,72.30091858,73.20078278,63.77917862,73.20262909,58.25313568,69.60301208,68.10023499,61.92676163,69.31113434,72.40202332,65.63993835,67.20723724,61.09884644,66.30514526,59.59915161,76.80458069,50.86514282,66.10826111,68.21020508,51.0,68.90634155,71.1029892,72.60076904,48.22053909,54.71989822,67.25059509,64.10459137,62.21170807,63.5,66.89785767,66.90281677,55.70820236,64.60678101,69.00254822,65.10757446,56.72728348,56.50601196,55.29937744,55.61725998,61.78015137,69.2891922]},{\"label\":\"Freedom to make life choices\",\"values\":[0.396573007,0.781994224,0.941345513,0.831132412,0.712017834,0.915431738,0.899989486,0.786824107,0.626350224,0.813582063,0.735182583,0.665563583,0.90062499,0.745178163,0.905855775,0.651352704,0.639163077,0.799804807,0.821328104,0.640880644,0.933913231,0.921336651,0.744896293,0.763051808,0.836179912,0.547612607,0.934738934,0.779858291,0.867371082,0.951444268,0.866202772,0.466610909,0.859828949,0.751989543,0.87770915,0.740795195,0.949172199,0.825467646,0.704829216,0.834743679,0.801641524,0.794796526,0.706846774,0.733163178,0.541345119,0.908147573,0.870603263,0.714838803,0.537825167,0.718964577,0.870614409,0.881444871,0.886982977,0.633182645,0.948891878,0.747580588,0.66465199,0.858068526,0.75104779,0.809961379,0.811601937,0.829747558,0.909374893,0.959704638,0.872366488,0.551357508,0.735268712,0.773157001,0.837633669,0.738125861,0.747381449,0.90563643,0.671237648,0.772072434,0.557574093,0.853962779,0.858709276,0.71156615,0.924911439,0.895075202,0.649565637,0.693351328,0.864451885,0.551522553,0.889534533,0.803223193,0.894626856,0.767520964,0.759772122,0.759578407,0.863902867,0.908547819,0.955750287,0.797565043,0.936217487,0.734833717,0.880366504,0.824766099,0.915463448,0.862055779,0.888747811,0.885923445,0.842823207,0.900589406,0.854191244,0.690596163,0.926645339,0.715315044,0.833805263,0.726495862,0.451313615,0.749952674,0.936142623,0.939144194,0.587305248,0.649828613,0.905063033,0.831383407,0.826457024,0.857907116,0.593361557,0.608830452,0.731713951,0.663081884,0.892395437,0.974998116,0.599920273,0.759330094,0.806500256,0.711457908,0.708354175,0.898517907]}],\"marker\":{\"color\":\"blue\",\"showscale\":false},\"showlowerhalf\":true,\"showupperhalf\":false,\"text\":[\"Road Injuries: 0.066641327<br>HIV: 0.002163739<br>Ischemic Heart Disease: 0.179838083<br>Logged GDP per capita: 7.462860584<br>Social support: 0.470366955<br>Healthy life expectancy: 52.59000015<br>Freedom to make life choices: 0.396573007<br>Location: Afghanistan\",\"Road Injuries: 0.06838024<br>HIV: 0.000502499<br>Ischemic Heart Disease: 0.173300847<br>Logged GDP per capita: 9.417930603<br>Social support: 0.671070457<br>Healthy life expectancy: 68.70813751<br>Freedom to make life choices: 0.781994224<br>Location: Albania\",\"Road Injuries: 0.15266505<br>HIV: 0.0053842<br>Ischemic Heart Disease: 0.156872548<br>Logged GDP per capita: 11.1099987<br>Social support: 0.849181116<br>Healthy life expectancy: 67.08278656<br>Freedom to make life choices: 0.941345513<br>Location: United Arab Emirates\",\"Road Injuries: 0.079143662<br>HIV: 0.026741034<br>Ischemic Heart Disease: 0.078702551<br>Logged GDP per capita: 9.810955048<br>Social support: 0.900567949<br>Healthy life expectancy: 68.80380249<br>Freedom to make life choices: 0.831132412<br>Location: Argentina\",\"Road Injuries: 0.048349224<br>HIV: 0.005419346<br>Ischemic Heart Disease: 0.198225059<br>Logged GDP per capita: 9.100476265<br>Social support: 0.757479429<br>Healthy life expectancy: 66.75065613<br>Freedom to make life choices: 0.712017834<br>Location: Armenia\",\"Road Injuries: 0.059117539<br>HIV: 0.002883772<br>Ischemic Heart Disease: 0.08148769<br>Logged GDP per capita: 10.72059631<br>Social support: 0.944854617<br>Healthy life expectancy: 73.60453796<br>Freedom to make life choices: 0.915431738<br>Location: Australia\",\"Road Injuries: 0.050365923<br>HIV: 0.004875665<br>Ischemic Heart Disease: 0.092532788<br>Logged GDP per capita: 10.7428236<br>Social support: 0.928045869<br>Healthy life expectancy: 73.00250244<br>Freedom to make life choices: 0.899989486<br>Location: Austria\",\"Road Injuries: 0.038269098<br>HIV: 0.002342432<br>Ischemic Heart Disease: 0.228278271<br>Logged GDP per capita: 9.687726974<br>Social support: 0.819308281<br>Healthy life expectancy: 65.50839996<br>Freedom to make life choices: 0.786824107<br>Location: Azerbaijan\",\"Road Injuries: 0.041683861<br>HIV: 0.051661858<br>Ischemic Heart Disease: 0.053175034<br>Logged GDP per capita: 6.492642403<br>Social support: 0.490325719<br>Healthy life expectancy: 53.40000153<br>Freedom to make life choices: 0.626350224<br>Location: Burundi\",\"Road Injuries: 0.06704812<br>HIV: 0.004199578<br>Ischemic Heart Disease: 0.069938826<br>Logged GDP per capita: 10.6736393<br>Social support: 0.911632538<br>Healthy life expectancy: 72.00164795<br>Freedom to make life choices: 0.813582063<br>Location: Belgium\",\"Road Injuries: 0.042746516<br>HIV: 0.06452762<br>Ischemic Heart Disease: 0.053680666<br>Logged GDP per capita: 7.674319744<br>Social support: 0.468671143<br>Healthy life expectancy: 54.31246567<br>Freedom to make life choices: 0.735182583<br>Location: Benin\",\"Road Injuries: 0.055095026<br>HIV: 0.043668807<br>Ischemic Heart Disease: 0.055825361<br>Logged GDP per capita: 7.46854496<br>Social support: 0.712943614<br>Healthy life expectancy: 53.88945389<br>Freedom to make life choices: 0.665563583<br>Location: Burkina Faso\",\"Road Injuries: 0.028538244<br>HIV: 0.00154532<br>Ischemic Heart Disease: 0.14971722<br>Logged GDP per capita: 8.287063599<br>Social support: 0.687292993<br>Healthy life expectancy: 64.50306702<br>Freedom to make life choices: 0.90062499<br>Location: Bangladesh\",\"Road Injuries: 0.037427134<br>HIV: 0.003013197<br>Ischemic Heart Disease: 0.17166366<br>Logged GDP per capita: 9.869318962<br>Social support: 0.937840343<br>Healthy life expectancy: 66.80397797<br>Freedom to make life choices: 0.745178163<br>Location: Bulgaria\",\"Road Injuries: 0.097386102<br>HIV: 0.004204352<br>Ischemic Heart Disease: 0.174308426<br>Logged GDP per capita: 10.67638016<br>Social support: 0.876342118<br>Healthy life expectancy: 68.5<br>Freedom to make life choices: 0.905855775<br>Location: Bahrain\",\"Road Injuries: 0.033934445<br>HIV: 0.000321274<br>Ischemic Heart Disease: 0.141959703<br>Logged GDP per capita: 9.455817223<br>Social support: 0.829204142<br>Healthy life expectancy: 67.80813599<br>Freedom to make life choices: 0.651352704<br>Location: Bosnia and Herzegovina\",\"Road Injuries: 0.037829355<br>HIV: 0.015899724<br>Ischemic Heart Disease: 0.2030117<br>Logged GDP per capita: 9.779945374<br>Social support: 0.90674746<br>Healthy life expectancy: 66.10433197<br>Freedom to make life choices: 0.639163077<br>Location: Belarus\",\"Road Injuries: 0.086101656<br>HIV: 0.032291519<br>Ischemic Heart Disease: 0.088641179<br>Logged GDP per capita: 9.56643486<br>Social support: 0.896723807<br>Healthy life expectancy: 66.48016357<br>Freedom to make life choices: 0.799804807<br>Location: Brazil\",\"Road Injuries: 0.034871225<br>HIV: 0.407560319<br>Ischemic Heart Disease: 0.046974311<br>Logged GDP per capita: 9.711203575<br>Social support: 0.779121757<br>Healthy life expectancy: 58.92445374<br>Freedom to make life choices: 0.821328104<br>Location: Botswana\",\"Road Injuries: 0.071011947<br>HIV: 0.17121064<br>Ischemic Heart Disease: 0.043417196<br>Logged GDP per capita: 6.625160217<br>Social support: 0.319459856<br>Healthy life expectancy: 45.20000076<br>Freedom to make life choices: 0.640880644<br>Location: Central African Republic\",\"Road Injuries: 0.055790023<br>HIV: 0.00702363<br>Ischemic Heart Disease: 0.09065454<br>Logged GDP per capita: 10.69236851<br>Social support: 0.927176654<br>Healthy life expectancy: 73.60160065<br>Freedom to make life choices: 0.933913231<br>Location: Canada\",\"Road Injuries: 0.0403709<br>HIV: 0.006131304<br>Ischemic Heart Disease: 0.077152232<br>Logged GDP per capita: 10.97993279<br>Social support: 0.942846596<br>Healthy life expectancy: 74.10244751<br>Freedom to make life choices: 0.921336651<br>Location: Switzerland\",\"Road Injuries: 0.083013317<br>HIV: 0.024019906<br>Ischemic Heart Disease: 0.068722474<br>Logged GDP per capita: 10.0320549<br>Social support: 0.879713595<br>Healthy life expectancy: 69.90061951<br>Freedom to make life choices: 0.744896293<br>Location: Chile\",\"Road Injuries: 0.050995562<br>HIV: 0.24407306<br>Ischemic Heart Disease: 0.04592324<br>Logged GDP per capita: 8.118647575<br>Social support: 0.700386405<br>Healthy life expectancy: 52.7049408<br>Freedom to make life choices: 0.763051808<br>Location: Cameroon\",\"Road Injuries: 0.080120402<br>HIV: 0.031848471<br>Ischemic Heart Disease: 0.087044567<br>Logged GDP per capita: 9.500369072<br>Social support: 0.884440243<br>Healthy life expectancy: 67.69958496<br>Freedom to make life choices: 0.836179912<br>Location: Colombia\",\"Road Injuries: 0.055547256<br>HIV: 0.001183901<br>Ischemic Heart Disease: 0.064909698<br>Logged GDP per capita: 7.833630085<br>Social support: 0.625662446<br>Healthy life expectancy: 57.34901047<br>Freedom to make life choices: 0.547612607<br>Location: Comoros\",\"Road Injuries: 0.107248144<br>HIV: 0.02109365<br>Ischemic Heart Disease: 0.088896329<br>Logged GDP per capita: 9.658156395<br>Social support: 0.901545942<br>Healthy life expectancy: 71.29985046<br>Freedom to make life choices: 0.934738934<br>Location: Costa Rica\",\"Road Injuries: 0.098016312<br>HIV: 0.003539115<br>Ischemic Heart Disease: 0.156020621<br>Logged GDP per capita: 10.40570259<br>Social support: 0.805996239<br>Healthy life expectancy: 73.70222473<br>Freedom to make life choices: 0.779858291<br>Location: Cyprus\",\"Road Injuries: 0.045764327<br>HIV: 0.004614943<br>Ischemic Heart Disease: 0.091977881<br>Logged GDP per capita: 10.7328186<br>Social support: 0.898874462<br>Healthy life expectancy: 72.20201874<br>Freedom to make life choices: 0.867371082<br>Location: Germany\",\"Road Injuries: 0.044368224<br>HIV: 0.004120078<br>Ischemic Heart Disease: 0.05920077<br>Logged GDP per capita: 10.77400112<br>Social support: 0.955990791<br>Healthy life expectancy: 72.40250397<br>Freedom to make life choices: 0.951444268<br>Location: Denmark\",\"Road Injuries: 0.096074618<br>HIV: 0.052635665<br>Ischemic Heart Disease: 0.160446304<br>Logged GDP per capita: 9.664880753<br>Social support: 0.882085383<br>Healthy life expectancy: 65.80748749<br>Freedom to make life choices: 0.866202772<br>Location: Dominican Republic\",\"Road Injuries: 0.162422905<br>HIV: 0.004090408<br>Ischemic Heart Disease: 0.219362051<br>Logged GDP per capita: 9.537964821<br>Social support: 0.803385139<br>Healthy life expectancy: 65.90517426<br>Freedom to make life choices: 0.466610909<br>Location: Algeria\",\"Road Injuries: 0.127797705<br>HIV: 0.041168267<br>Ischemic Heart Disease: 0.076873004<br>Logged GDP per capita: 9.246058464<br>Social support: 0.836418986<br>Healthy life expectancy: 68.50003815<br>Freedom to make life choices: 0.859828949<br>Location: Ecuador\",\"Road Injuries: 0.050841039<br>HIV: 0.018652727<br>Ischemic Heart Disease: 0.088053439<br>Logged GDP per capita: 10.46292686<br>Social support: 0.921125412<br>Healthy life expectancy: 74.40270996<br>Freedom to make life choices: 0.751989543<br>Location: Spain\",\"Road Injuries: 0.028575966<br>HIV: 0.020385401<br>Ischemic Heart Disease: 0.091774431<br>Logged GDP per capita: 10.34001732<br>Social support: 0.934729993<br>Healthy life expectancy: 68.60495758<br>Freedom to make life choices: 0.87770915<br>Location: Estonia\",\"Road Injuries: 0.031542352<br>HIV: 0.116508934<br>Ischemic Heart Disease: 0.049216867<br>Logged GDP per capita: 7.509385586<br>Social support: 0.743307352<br>Healthy life expectancy: 58.63959122<br>Freedom to make life choices: 0.740795195<br>Location: Ethiopia\",\"Road Injuries: 0.034215758<br>HIV: 0.000782991<br>Ischemic Heart Disease: 0.096270079<br>Logged GDP per capita: 10.63926697<br>Social support: 0.954329729<br>Healthy life expectancy: 71.9008255<br>Freedom to make life choices: 0.949172199<br>Location: Finland\",\"Road Injuries: 0.05991004<br>HIV: 0.006500853<br>Ischemic Heart Disease: 0.057504294<br>Logged GDP per capita: 10.58422279<br>Social support: 0.937103748<br>Healthy life expectancy: 73.80193329<br>Freedom to make life choices: 0.825467646<br>Location: France\",\"Road Injuries: 0.083831834<br>HIV: 0.197340737<br>Ischemic Heart Disease: 0.054179701<br>Logged GDP per capita: 9.680537224<br>Social support: 0.787886858<br>Healthy life expectancy: 59.71533966<br>Freedom to make life choices: 0.704829216<br>Location: Gabon\",\"Road Injuries: 0.034596084<br>HIV: 0.003553172<br>Ischemic Heart Disease: 0.100793704<br>Logged GDP per capita: 10.60013485<br>Social support: 0.93668282<br>Healthy life expectancy: 72.30160522<br>Freedom to make life choices: 0.834743679<br>Location: United Kingdom\",\"Road Injuries: 0.075373431<br>HIV: 0.003174671<br>Ischemic Heart Disease: 0.162714398<br>Logged GDP per capita: 9.226100922<br>Social support: 0.629033029<br>Healthy life expectancy: 64.49520874<br>Freedom to make life choices: 0.801641524<br>Location: Georgia\",\"Road Injuries: 0.051857603<br>HIV: 0.157467854<br>Ischemic Heart Disease: 0.056500109<br>Logged GDP per capita: 8.350645065<br>Social support: 0.728601098<br>Healthy life expectancy: 57.20398712<br>Freedom to make life choices: 0.794796526<br>Location: Ghana\",\"Road Injuries: 0.035918195<br>HIV: 0.107592871<br>Ischemic Heart Disease: 0.051007457<br>Logged GDP per capita: 7.750990391<br>Social support: 0.637573481<br>Healthy life expectancy: 54.46780014<br>Freedom to make life choices: 0.706846774<br>Location: Guinea\",\"Road Injuries: 0.030919251<br>HIV: 0.183163471<br>Ischemic Heart Disease: 0.064076835<br>Logged GDP per capita: 7.321814537<br>Social support: 0.6931687<br>Healthy life expectancy: 55.0120163<br>Freedom to make life choices: 0.733163178<br>Location: Gambia\",\"Road Injuries: 0.09551369<br>HIV: 0.002384857<br>Ischemic Heart Disease: 0.180655916<br>Logged GDP per capita: 10.13232613<br>Social support: 0.814380348<br>Healthy life expectancy: 72.40525818<br>Freedom to make life choices: 0.541345119<br>Location: Greece\",\"Road Injuries: 0.056673057<br>HIV: 0.014439536<br>Ischemic Heart Disease: 0.057894517<br>Logged GDP per capita: 8.924805641<br>Social support: 0.816621482<br>Healthy life expectancy: 64.8089447<br>Freedom to make life choices: 0.908147573<br>Location: Guatemala\",\"Road Injuries: 0.051319469<br>HIV: 0.005467102<br>Ischemic Heart Disease: 0.081005494<br>Logged GDP per capita: 8.424534798<br>Social support: 0.821870148<br>Healthy life expectancy: 67.19876862<br>Freedom to make life choices: 0.870603263<br>Location: Honduras\",\"Road Injuries: 0.064738773<br>HIV: 0.001376084<br>Ischemic Heart Disease: 0.125202126<br>Logged GDP per capita: 10.07087517<br>Social support: 0.874623716<br>Healthy life expectancy: 70.21490479<br>Freedom to make life choices: 0.714838803<br>Location: Croatia\",\"Road Injuries: 0.02414776<br>HIV: 0.128451108<br>Ischemic Heart Disease: 0.096957022<br>Logged GDP per capita: 7.411329269<br>Social support: 0.593247831<br>Healthy life expectancy: 55.59862518<br>Freedom to make life choices: 0.537825167<br>Location: Haiti\",\"Road Injuries: 0.03861593<br>HIV: 0.001870226<br>Ischemic Heart Disease: 0.135943858<br>Logged GDP per capita: 10.24924374<br>Social support: 0.921934128<br>Healthy life expectancy: 67.60997009<br>Freedom to make life choices: 0.718964577<br>Location: Hungary\",\"Road Injuries: 0.055434579<br>HIV: 0.010196381<br>Ischemic Heart Disease: 0.134798277<br>Logged GDP per capita: 9.36975193<br>Social support: 0.808379889<br>Healthy life expectancy: 62.15584946<br>Freedom to make life choices: 0.870614409<br>Location: Indonesia\",\"Road Injuries: 0.057327416<br>HIV: 0.015410431<br>Ischemic Heart Disease: 0.14989065<br>Logged GDP per capita: 8.849823952<br>Social support: 0.592200935<br>Healthy life expectancy: 60.21518707<br>Freedom to make life choices: 0.881444871<br>Location: India\",\"Road Injuries: 0.034484986<br>HIV: 0.002683637<br>Ischemic Heart Disease: 0.101490053<br>Logged GDP per capita: 11.16097832<br>Social support: 0.942081571<br>Healthy life expectancy: 72.30078888<br>Freedom to make life choices: 0.886982977<br>Location: Ireland\",\"Road Injuries: 0.068001274<br>HIV: 0.000850623<br>Ischemic Heart Disease: 0.187718993<br>Logged GDP per capita: 9.661095619<br>Social support: 0.747694969<br>Healthy life expectancy: 59.90354919<br>Freedom to make life choices: 0.633182645<br>Location: Iraq\",\"Road Injuries: 0.037279889<br>HIV: 0.00403136<br>Ischemic Heart Disease: 0.106520109<br>Logged GDP per capita: 10.77255917<br>Social support: 0.974669576<br>Healthy life expectancy: 73.0<br>Freedom to make life choices: 0.948891878<br>Location: Iceland\",\"Road Injuries: 0.068584453<br>HIV: 0.005491826<br>Ischemic Heart Disease: 0.067289585<br>Logged GDP per capita: 10.41752529<br>Social support: 0.913571239<br>Healthy life expectancy: 73.20025635<br>Freedom to make life choices: 0.747580588<br>Location: Israel\",\"Road Injuries: 0.073457327<br>HIV: 0.012414017<br>Ischemic Heart Disease: 0.088498166<br>Logged GDP per capita: 10.48183632<br>Social support: 0.889878571<br>Healthy life expectancy: 73.60168457<br>Freedom to make life choices: 0.66465199<br>Location: Italy\",\"Road Injuries: 0.028279817<br>HIV: 0.088095271<br>Ischemic Heart Disease: 0.061232126<br>Logged GDP per capita: 9.006250381<br>Social support: 0.915701866<br>Healthy life expectancy: 67.09999847<br>Freedom to make life choices: 0.858068526<br>Location: Jamaica\",\"Road Injuries: 0.099227476<br>HIV: 0.00222151<br>Ischemic Heart Disease: 0.177381829<br>Logged GDP per capita: 9.025999069<br>Social support: 0.80216372<br>Healthy life expectancy: 66.79975128<br>Freedom to make life choices: 0.75104779<br>Location: Jordan\",\"Road Injuries: 0.033480451<br>HIV: 0.000842329<br>Ischemic Heart Disease: 0.074844264<br>Logged GDP per capita: 10.57968903<br>Social support: 0.883545935<br>Healthy life expectancy: 75.00096893<br>Freedom to make life choices: 0.809961379<br>Location: Japan\",\"Road Injuries: 0.053265494<br>HIV: 0.0067177<br>Ischemic Heart Disease: 0.114954415<br>Logged GDP per capita: 10.11465836<br>Social support: 0.934744895<br>Healthy life expectancy: 64.60996246<br>Freedom to make life choices: 0.811601937<br>Location: Kazakhstan\",\"Road Injuries: 0.022197937<br>HIV: 0.305973662<br>Ischemic Heart Disease: 0.034703763<br>Logged GDP per capita: 8.02977562<br>Social support: 0.702652037<br>Healthy life expectancy: 60.09693146<br>Freedom to make life choices: 0.829747558<br>Location: Kenya\",\"Road Injuries: 0.076460344<br>HIV: 0.014557418<br>Ischemic Heart Disease: 0.155967626<br>Logged GDP per capita: 8.148405075<br>Social support: 0.887228489<br>Healthy life expectancy: 64.10601044<br>Freedom to make life choices: 0.909374893<br>Location: Kyrgyzstan\",\"Road Injuries: 0.067473322<br>HIV: 0.034849137<br>Ischemic Heart Disease: 0.077870834<br>Logged GDP per capita: 8.249890327<br>Social support: 0.773080647<br>Healthy life expectancy: 61.52996826<br>Freedom to make life choices: 0.959704638<br>Location: Cambodia\",\"Road Injuries: 0.123313694<br>HIV: 0.000675286<br>Ischemic Heart Disease: 0.297418737<br>Logged GDP per capita: 11.08982468<br>Social support: 0.846475244<br>Healthy life expectancy: 66.76764679<br>Freedom to make life choices: 0.872366488<br>Location: Kuwait\",\"Road Injuries: 0.05591117<br>HIV: 0.006715114<br>Ischemic Heart Disease: 0.283547644<br>Logged GDP per capita: 9.3617239<br>Social support: 0.824338138<br>Healthy life expectancy: 67.10658264<br>Freedom to make life choices: 0.551357508<br>Location: Lebanon\",\"Road Injuries: 0.027606643<br>HIV: 0.127374574<br>Ischemic Heart Disease: 0.056067781<br>Logged GDP per capita: 7.054380417<br>Social support: 0.70928055<br>Healthy life expectancy: 56.09631348<br>Freedom to make life choices: 0.735268712<br>Location: Liberia\",\"Road Injuries: 0.138825952<br>HIV: 0.006021968<br>Ischemic Heart Disease: 0.193379593<br>Logged GDP per capita: 9.789815903<br>Social support: 0.825942934<br>Healthy life expectancy: 62.29999924<br>Freedom to make life choices: 0.773157001<br>Location: Libya\",\"Road Injuries: 0.06817149<br>HIV: 0.001055111<br>Ischemic Heart Disease: 0.118869641<br>Logged GDP per capita: 9.389969826<br>Social support: 0.825374067<br>Healthy life expectancy: 67.20006561<br>Freedom to make life choices: 0.837633669<br>Location: Sri Lanka\",\"Road Injuries: 0.036598253<br>HIV: 0.451738626<br>Ischemic Heart Disease: 0.028205829<br>Logged GDP per capita: 7.960488319<br>Social support: 0.780495703<br>Healthy life expectancy: 48.00362396<br>Freedom to make life choices: 0.738125861<br>Location: Lesotho\",\"Road Injuries: 0.032398383<br>HIV: 0.010500185<br>Ischemic Heart Disease: 0.136723146<br>Logged GDP per capita: 10.34362602<br>Social support: 0.926107109<br>Healthy life expectancy: 67.29407501<br>Freedom to make life choices: 0.747381449<br>Location: Lithuania\",\"Road Injuries: 0.061344137<br>HIV: 0.005019126<br>Ischemic Heart Disease: 0.071885398<br>Logged GDP per capita: 11.45068073<br>Social support: 0.906912208<br>Healthy life expectancy: 72.59999847<br>Freedom to make life choices: 0.90563643<br>Location: Luxembourg\",\"Road Injuries: 0.036885324<br>HIV: 0.033754018<br>Ischemic Heart Disease: 0.129452534<br>Logged GDP per capita: 10.17531967<br>Social support: 0.918288589<br>Healthy life expectancy: 66.8074646<br>Freedom to make life choices: 0.671237648<br>Location: Latvia\",\"Road Injuries: 0.122015526<br>HIV: 0.007385679<br>Ischemic Heart Disease: 0.232556337<br>Logged GDP per capita: 8.940313339<br>Social support: 0.592628479<br>Healthy life expectancy: 65.89624023<br>Freedom to make life choices: 0.772072434<br>Location: Morocco\",\"Road Injuries: 0.031369023<br>HIV: 0.035414208<br>Ischemic Heart Disease: 0.068841296<br>Logged GDP per capita: 7.281685829<br>Social support: 0.668195903<br>Healthy life expectancy: 59.10542679<br>Freedom to make life choices: 0.557574093<br>Location: Madagascar\",\"Road Injuries: 0.041648061<br>HIV: 0.001683667<br>Ischemic Heart Disease: 0.171758723<br>Logged GDP per capita: 9.518632889<br>Social support: 0.91316092<br>Healthy life expectancy: 70.59999847<br>Freedom to make life choices: 0.853962779<br>Location: Maldives\",\"Road Injuries: 0.070708359<br>HIV: 0.020663671<br>Ischemic Heart Disease: 0.081116074<br>Logged GDP per capita: 9.797797203<br>Social support: 0.838665426<br>Healthy life expectancy: 68.29902649<br>Freedom to make life choices: 0.858709276<br>Location: Mexico\",\"Road Injuries: 0.028074999<br>HIV: 0.084714686<br>Ischemic Heart Disease: 0.044685563<br>Logged GDP per capita: 7.629852295<br>Social support: 0.731468976<br>Healthy life expectancy: 51.72698212<br>Freedom to make life choices: 0.71156615<br>Location: Mali\",\"Road Injuries: 0.03944543<br>HIV: 0.004694468<br>Ischemic Heart Disease: 0.138743495<br>Logged GDP per capita: 10.53383827<br>Social support: 0.93037951<br>Healthy life expectancy: 72.19999695<br>Freedom to make life choices: 0.924911439<br>Location: Malta\",\"Road Injuries: 0.03934312<br>HIV: 0.037329977<br>Ischemic Heart Disease: 0.074296407<br>Logged GDP per capita: 8.680481911<br>Social support: 0.78440702<br>Healthy life expectancy: 58.96171188<br>Freedom to make life choices: 0.895075202<br>Location: Myanmar\",\"Road Injuries: 0.051872551<br>HIV: 0.001294604<br>Ischemic Heart Disease: 0.138848919<br>Logged GDP per capita: 9.751860619<br>Social support: 0.855314612<br>Healthy life expectancy: 68.50534821<br>Freedom to make life choices: 0.649565637<br>Location: Montenegro\",\"Road Injuries: 0.054430782<br>HIV: 0.001047892<br>Ischemic Heart Disease: 0.135299299<br>Logged GDP per capita: 9.412186623<br>Social support: 0.937142491<br>Healthy life expectancy: 62.30448532<br>Freedom to make life choices: 0.693351328<br>Location: Mongolia\",\"Road Injuries: 0.026381939<br>HIV: 0.39005817<br>Ischemic Heart Disease: 0.033514468<br>Logged GDP per capita: 7.069345951<br>Social support: 0.723874032<br>Healthy life expectancy: 54.20582199<br>Freedom to make life choices: 0.864451885<br>Location: Mozambique\",\"Road Injuries: 0.092365235<br>HIV: 0.003171153<br>Ischemic Heart Disease: 0.059453101<br>Logged GDP per capita: 8.233919144<br>Social support: 0.790819228<br>Healthy life expectancy: 57.01017761<br>Freedom to make life choices: 0.551522553<br>Location: Mauritania\",\"Road Injuries: 0.050007614<br>HIV: 0.037756732<br>Ischemic Heart Disease: 0.108332629<br>Logged GDP per capita: 9.956786156<br>Social support: 0.910357833<br>Healthy life expectancy: 66.40434265<br>Freedom to make life choices: 0.889534533<br>Location: Mauritius\",\"Road Injuries: 0.028665512<br>HIV: 0.2415567<br>Ischemic Heart Disease: 0.044797722<br>Logged GDP per capita: 7.062226295<br>Social support: 0.544007301<br>Healthy life expectancy: 57.59288788<br>Freedom to make life choices: 0.803223193<br>Location: Malawi\",\"Road Injuries: 0.120740453<br>HIV: 0.022782755<br>Ischemic Heart Disease: 0.150764737<br>Logged GDP per capita: 10.26251888<br>Social support: 0.816509426<br>Healthy life expectancy: 67.10215759<br>Freedom to make life choices: 0.894626856<br>Location: Malaysia\",\"Road Injuries: 0.050670244<br>HIV: 0.352518799<br>Ischemic Heart Disease: 0.043950508<br>Logged GDP per capita: 9.203141212<br>Social support: 0.846880972<br>Healthy life expectancy: 56.50148773<br>Freedom to make life choices: 0.767520964<br>Location: Namibia\",\"Road Injuries: 0.034689248<br>HIV: 0.02980367<br>Ischemic Heart Disease: 0.051839003<br>Logged GDP per capita: 6.842166901<br>Social support: 0.617435038<br>Healthy life expectancy: 53.50009537<br>Freedom to make life choices: 0.759772122<br>Location: Niger\",\"Road Injuries: 0.022349721<br>HIV: 0.170834924<br>Ischemic Heart Disease: 0.048129985<br>Logged GDP per capita: 8.57662487<br>Social support: 0.73721689<br>Healthy life expectancy: 49.86190796<br>Freedom to make life choices: 0.759578407<br>Location: Nigeria\",\"Road Injuries: 0.068153456<br>HIV: 0.068278136<br>Ischemic Heart Disease: 0.089336821<br>Logged GDP per capita: 8.493160248<br>Social support: 0.857497036<br>Healthy life expectancy: 67.50717926<br>Freedom to make life choices: 0.863902867<br>Location: Nicaragua\",\"Road Injuries: 0.039203014<br>HIV: 0.003214369<br>Ischemic Heart Disease: 0.070493275<br>Logged GDP per capita: 10.81271172<br>Social support: 0.93913883<br>Healthy life expectancy: 72.30091858<br>Freedom to make life choices: 0.908547819<br>Location: Netherlands\",\"Road Injuries: 0.037167955<br>HIV: 0.003292387<br>Ischemic Heart Disease: 0.076863307<br>Logged GDP per capita: 11.08780384<br>Social support: 0.952486575<br>Healthy life expectancy: 73.20078278<br>Freedom to make life choices: 0.955750287<br>Location: Norway\",\"Road Injuries: 0.034854646<br>HIV: 0.025657325<br>Ischemic Heart Disease: 0.108394074<br>Logged GDP per capita: 7.925357342<br>Social support: 0.785512447<br>Healthy life expectancy: 63.77917862<br>Freedom to make life choices: 0.797565043<br>Location: Nepal\",\"Road Injuries: 0.071656423<br>HIV: 0.002139059<br>Ischemic Heart Disease: 0.098293008<br>Logged GDP per capita: 10.50094318<br>Social support: 0.949118972<br>Healthy life expectancy: 73.20262909<br>Freedom to make life choices: 0.936217487<br>Location: New Zealand\",\"Road Injuries: 0.028217442<br>HIV: 0.00638473<br>Ischemic Heart Disease: 0.153878137<br>Logged GDP per capita: 8.482727051<br>Social support: 0.689062297<br>Healthy life expectancy: 58.25313568<br>Freedom to make life choices: 0.734833717<br>Location: Pakistan\",\"Road Injuries: 0.076776355<br>HIV: 0.096265519<br>Ischemic Heart Disease: 0.069004033<br>Logged GDP per capita: 10.03423405<br>Social support: 0.902094483<br>Healthy life expectancy: 69.60301208<br>Freedom to make life choices: 0.880366504<br>Location: Panama\",\"Road Injuries: 0.087529891<br>HIV: 0.045313<br>Ischemic Heart Disease: 0.060526684<br>Logged GDP per capita: 9.456313133<br>Social support: 0.831075251<br>Healthy life expectancy: 68.10023499<br>Freedom to make life choices: 0.824766099<br>Location: Peru\",\"Road Injuries: 0.039167153<br>HIV: 0.019214993<br>Ischemic Heart Disease: 0.138698717<br>Logged GDP per capita: 8.993545532<br>Social support: 0.846730053<br>Healthy life expectancy: 61.92676163<br>Freedom to make life choices: 0.915463448<br>Location: Philippines\",\"Road Injuries: 0.053927231<br>HIV: 0.002616519<br>Ischemic Heart Disease: 0.098647527<br>Logged GDP per capita: 10.26512432<br>Social support: 0.874257445<br>Healthy life expectancy: 69.31113434<br>Freedom to make life choices: 0.862055779<br>Location: Poland\",\"Road Injuries: 0.058203554<br>HIV: 0.046495941<br>Ischemic Heart Disease: 0.071254268<br>Logged GDP per capita: 10.26374245<br>Social support: 0.886590719<br>Healthy life expectancy: 72.40202332<br>Freedom to make life choices: 0.888747811<br>Location: Portugal\",\"Road Injuries: 0.123117025<br>HIV: 0.041785546<br>Ischemic Heart Disease: 0.092071598<br>Logged GDP per capita: 9.389982224<br>Social support: 0.898727894<br>Healthy life expectancy: 65.63993835<br>Freedom to make life choices: 0.885923445<br>Location: Paraguay\",\"Road Injuries: 0.046773143<br>HIV: 0.004689288<br>Ischemic Heart Disease: 0.134097292<br>Logged GDP per capita: 10.107584<br>Social support: 0.825161517<br>Healthy life expectancy: 67.20723724<br>Freedom to make life choices: 0.842823207<br>Location: Romania\",\"Road Injuries: 0.059316307<br>HIV: 0.104096265<br>Ischemic Heart Disease: 0.042211242<br>Logged GDP per capita: 7.600104332<br>Social support: 0.54083544<br>Healthy life expectancy: 61.09884644<br>Freedom to make life choices: 0.900589406<br>Location: Rwanda\",\"Road Injuries: 0.238398398<br>HIV: 0.007718808<br>Ischemic Heart Disease: 0.200012811<br>Logged GDP per capita: 10.79781246<br>Social support: 0.874067068<br>Healthy life expectancy: 66.30514526<br>Freedom to make life choices: 0.854191244<br>Location: Saudi Arabia\",\"Road Injuries: 0.04000284<br>HIV: 0.049555475<br>Ischemic Heart Disease: 0.059152147<br>Logged GDP per capita: 8.118982315<br>Social support: 0.723616004<br>Healthy life expectancy: 59.59915161<br>Freedom to make life choices: 0.690596163<br>Location: Senegal\",\"Road Injuries: 0.037088719<br>HIV: 0.008936079<br>Ischemic Heart Disease: 0.143168452<br>Logged GDP per capita: 11.39552116<br>Social support: 0.910268962<br>Healthy life expectancy: 76.80458069<br>Freedom to make life choices: 0.926645339<br>Location: Singapore\",\"Road Injuries: 0.038518187<br>HIV: 0.11763992<br>Ischemic Heart Disease: 0.057906065<br>Logged GDP per capita: 7.26880312<br>Social support: 0.636142015<br>Healthy life expectancy: 50.86514282<br>Freedom to make life choices: 0.715315044<br>Location: Sierra Leone\",\"Road Injuries: 0.065789602<br>HIV: 0.038926097<br>Ischemic Heart Disease: 0.077575788<br>Logged GDP per capita: 8.909075737<br>Social support: 0.806092262<br>Healthy life expectancy: 66.10826111<br>Freedom to make life choices: 0.833805263<br>Location: El Salvador\",\"Road Injuries: 0.045687711<br>HIV: 0.00401256<br>Ischemic Heart Disease: 0.128039467<br>Logged GDP per capita: 9.680980682<br>Social support: 0.881475747<br>Healthy life expectancy: 68.21020508<br>Freedom to make life choices: 0.726495862<br>Location: Serbia\",\"Road Injuries: 0.024784755<br>HIV: 0.184243097<br>Ischemic Heart Disease: 0.039444365<br>Logged GDP per capita: 7.425359726<br>Social support: 0.553707123<br>Healthy life expectancy: 51.0<br>Freedom to make life choices: 0.451313615<br>Location: South Sudan\",\"Road Injuries: 0.044599815<br>HIV: 0.000515274<br>Ischemic Heart Disease: 0.139230717<br>Logged GDP per capita: 10.34774971<br>Social support: 0.922493756<br>Healthy life expectancy: 68.90634155<br>Freedom to make life choices: 0.749952674<br>Location: Slovakia\",\"Road Injuries: 0.055031062<br>HIV: 0.001186897<br>Ischemic Heart Disease: 0.07195228<br>Logged GDP per capita: 10.39232254<br>Social support: 0.939575672<br>Healthy life expectancy: 71.1029892<br>Freedom to make life choices: 0.936142623<br>Location: Slovenia\",\"Road Injuries: 0.036868105<br>HIV: 0.002482691<br>Ischemic Heart Disease: 0.087553881<br>Logged GDP per capita: 10.75879383<br>Social support: 0.926311195<br>Healthy life expectancy: 72.60076904<br>Freedom to make life choices: 0.939144194<br>Location: Sweden\",\"Road Injuries: 0.035160523<br>HIV: 0.105230349<br>Ischemic Heart Disease: 0.048078671<br>Logged GDP per capita: 7.467963696<br>Social support: 0.632388055<br>Healthy life expectancy: 48.22053909<br>Freedom to make life choices: 0.587305248<br>Location: Chad\",\"Road Injuries: 0.050252846<br>HIV: 0.140861224<br>Ischemic Heart Disease: 0.062197999<br>Logged GDP per capita: 7.357711315<br>Social support: 0.551312625<br>Healthy life expectancy: 54.71989822<br>Freedom to make life choices: 0.649828613<br>Location: Togo\",\"Road Injuries: 0.107271644<br>HIV: 0.097873109<br>Ischemic Heart Disease: 0.061612522<br>Logged GDP per capita: 9.741791725<br>Social support: 0.889973223<br>Healthy life expectancy: 67.25059509<br>Freedom to make life choices: 0.905063033<br>Location: Thailand\",\"Road Injuries: 0.039688764<br>HIV: 0.0040251<br>Ischemic Heart Disease: 0.195622617<br>Logged GDP per capita: 8.024810791<br>Social support: 0.835297108<br>Healthy life expectancy: 64.10459137<br>Freedom to make life choices: 0.831383407<br>Location: Tajikistan\",\"Road Injuries: 0.021090614<br>HIV: 0.010039227<br>Ischemic Heart Disease: 0.203623009<br>Logged GDP per capita: 9.74803257<br>Social support: 0.958966196<br>Healthy life expectancy: 62.21170807<br>Freedom to make life choices: 0.826457024<br>Location: Turkmenistan\",\"Road Injuries: 0.048669873<br>HIV: 0.068789928<br>Ischemic Heart Disease: 0.112233146<br>Logged GDP per capita: 10.26000214<br>Social support: 0.91529417<br>Healthy life expectancy: 63.5<br>Freedom to make life choices: 0.857907116<br>Location: Trinidad and Tobago\",\"Road Injuries: 0.13262982<br>HIV: 0.010316137<br>Ischemic Heart Disease: 0.217742047<br>Logged GDP per capita: 9.314972878<br>Social support: 0.688718557<br>Healthy life expectancy: 66.89785767<br>Freedom to make life choices: 0.593361557<br>Location: Tunisia\",\"Road Injuries: 0.074540364<br>HIV: 0.002498374<br>Ischemic Heart Disease: 0.159126961<br>Logged GDP per capita: 10.12941933<br>Social support: 0.826313555<br>Healthy life expectancy: 66.90281677<br>Freedom to make life choices: 0.608830452<br>Location: Turkey\",\"Road Injuries: 0.039954147<br>HIV: 0.201332285<br>Ischemic Heart Disease: 0.040224443<br>Logged GDP per capita: 7.500389576<br>Social support: 0.764994621<br>Healthy life expectancy: 55.70820236<br>Freedom to make life choices: 0.731713951<br>Location: Uganda\",\"Road Injuries: 0.03719242<br>HIV: 0.043163931<br>Ischemic Heart Disease: 0.201914435<br>Logged GDP per capita: 9.010690689<br>Social support: 0.878879368<br>Healthy life expectancy: 64.60678101<br>Freedom to make life choices: 0.663081884<br>Location: Ukraine\",\"Road Injuries: 0.080525145<br>HIV: 0.031035518<br>Ischemic Heart Disease: 0.066344157<br>Logged GDP per capita: 9.948192596<br>Social support: 0.92281127<br>Healthy life expectancy: 69.00254822<br>Freedom to make life choices: 0.892395437<br>Location: Uruguay\",\"Road Injuries: 0.055737907<br>HIV: 0.00851732<br>Ischemic Heart Disease: 0.239302594<br>Logged GDP per capita: 8.740371704<br>Social support: 0.926595807<br>Healthy life expectancy: 65.10757446<br>Freedom to make life choices: 0.974998116<br>Location: Uzbekistan\",\"Road Injuries: 0.121016778<br>HIV: 0.003649288<br>Ischemic Heart Disease: 0.189278911<br>Logged GDP per capita: 7.759682655<br>Social support: 0.817980587<br>Healthy life expectancy: 56.72728348<br>Freedom to make life choices: 0.599920273<br>Location: Yemen\",\"Road Injuries: 0.055650828<br>HIV: 0.428854527<br>Ischemic Heart Disease: 0.034259257<br>Logged GDP per capita: 9.403370857<br>Social support: 0.852532268<br>Healthy life expectancy: 56.50601196<br>Freedom to make life choices: 0.759330094<br>Location: South Africa\",\"Road Injuries: 0.026893337<br>HIV: 0.299726216<br>Ischemic Heart Disease: 0.037536953<br>Logged GDP per capita: 8.224720001<br>Social support: 0.698824465<br>Healthy life expectancy: 55.29937744<br>Freedom to make life choices: 0.806500256<br>Location: Zambia\",\"Road Injuries: 0.030762777<br>HIV: 0.266964611<br>Ischemic Heart Disease: 0.051815546<br>Logged GDP per capita: 7.865711689<br>Social support: 0.763092756<br>Healthy life expectancy: 55.61725998<br>Freedom to make life choices: 0.711457908<br>Location: Zimbabwe\",\"Road Injuries: 0.130130931<br>HIV: 0.000338142<br>Ischemic Heart Disease: 0.270220273<br>Logged GDP per capita: 9.316541672<br>Social support: 0.735447824<br>Healthy life expectancy: 61.78015137<br>Freedom to make life choices: 0.708354175<br>Location: Egypt\",\"Road Injuries: 0.097773854<br>HIV: 0.01381587<br>Ischemic Heart Disease: 0.116200299<br>Logged GDP per capita: 9.688568115<br>Social support: 0.798760593<br>Healthy life expectancy: 69.2891922<br>Freedom to make life choices: 0.898517907<br>Location: China\"],\"type\":\"splom\",\"diagonal\":{\"visible\":false}}],\"layout\":{\"template\":{\"data\":{\"histogram2dcontour\":[{\"type\":\"histogram2dcontour\",\"colorbar\":{\"outlinewidth\":0,\"ticks\":\"\"},\"colorscale\":[[0.0,\"#0d0887\"],[0.1111111111111111,\"#46039f\"],[0.2222222222222222,\"#7201a8\"],[0.3333333333333333,\"#9c179e\"],[0.4444444444444444,\"#bd3786\"],[0.5555555555555556,\"#d8576b\"],[0.6666666666666666,\"#ed7953\"],[0.7777777777777778,\"#fb9f3a\"],[0.8888888888888888,\"#fdca26\"],[1.0,\"#f0f921\"]]}],\"choropleth\":[{\"type\":\"choropleth\",\"colorbar\":{\"outlinewidth\":0,\"ticks\":\"\"}}],\"histogram2d\":[{\"type\":\"histogram2d\",\"colorbar\":{\"outlinewidth\":0,\"ticks\":\"\"},\"colorscale\":[[0.0,\"#0d0887\"],[0.1111111111111111,\"#46039f\"],[0.2222222222222222,\"#7201a8\"],[0.3333333333333333,\"#9c179e\"],[0.4444444444444444,\"#bd3786\"],[0.5555555555555556,\"#d8576b\"],[0.6666666666666666,\"#ed7953\"],[0.7777777777777778,\"#fb9f3a\"],[0.8888888888888888,\"#fdca26\"],[1.0,\"#f0f921\"]]}],\"heatmap\":[{\"type\":\"heatmap\",\"colorbar\":{\"outlinewidth\":0,\"ticks\":\"\"},\"colorscale\":[[0.0,\"#0d0887\"],[0.1111111111111111,\"#46039f\"],[0.2222222222222222,\"#7201a8\"],[0.3333333333333333,\"#9c179e\"],[0.4444444444444444,\"#bd3786\"],[0.5555555555555556,\"#d8576b\"],[0.6666666666666666,\"#ed7953\"],[0.7777777777777778,\"#fb9f3a\"],[0.8888888888888888,\"#fdca26\"],[1.0,\"#f0f921\"]]}],\"heatmapgl\":[{\"type\":\"heatmapgl\",\"colorbar\":{\"outlinewidth\":0,\"ticks\":\"\"},\"colorscale\":[[0.0,\"#0d0887\"],[0.1111111111111111,\"#46039f\"],[0.2222222222222222,\"#7201a8\"],[0.3333333333333333,\"#9c179e\"],[0.4444444444444444,\"#bd3786\"],[0.5555555555555556,\"#d8576b\"],[0.6666666666666666,\"#ed7953\"],[0.7777777777777778,\"#fb9f3a\"],[0.8888888888888888,\"#fdca26\"],[1.0,\"#f0f921\"]]}],\"contourcarpet\":[{\"type\":\"contourcarpet\",\"colorbar\":{\"outlinewidth\":0,\"ticks\":\"\"}}],\"contour\":[{\"type\":\"contour\",\"colorbar\":{\"outlinewidth\":0,\"ticks\":\"\"},\"colorscale\":[[0.0,\"#0d0887\"],[0.1111111111111111,\"#46039f\"],[0.2222222222222222,\"#7201a8\"],[0.3333333333333333,\"#9c179e\"],[0.4444444444444444,\"#bd3786\"],[0.5555555555555556,\"#d8576b\"],[0.6666666666666666,\"#ed7953\"],[0.7777777777777778,\"#fb9f3a\"],[0.8888888888888888,\"#fdca26\"],[1.0,\"#f0f921\"]]}],\"surface\":[{\"type\":\"surface\",\"colorbar\":{\"outlinewidth\":0,\"ticks\":\"\"},\"colorscale\":[[0.0,\"#0d0887\"],[0.1111111111111111,\"#46039f\"],[0.2222222222222222,\"#7201a8\"],[0.3333333333333333,\"#9c179e\"],[0.4444444444444444,\"#bd3786\"],[0.5555555555555556,\"#d8576b\"],[0.6666666666666666,\"#ed7953\"],[0.7777777777777778,\"#fb9f3a\"],[0.8888888888888888,\"#fdca26\"],[1.0,\"#f0f921\"]]}],\"mesh3d\":[{\"type\":\"mesh3d\",\"colorbar\":{\"outlinewidth\":0,\"ticks\":\"\"}}],\"scatter\":[{\"fillpattern\":{\"fillmode\":\"overlay\",\"size\":10,\"solidity\":0.2},\"type\":\"scatter\"}],\"parcoords\":[{\"type\":\"parcoords\",\"line\":{\"colorbar\":{\"outlinewidth\":0,\"ticks\":\"\"}}}],\"scatterpolargl\":[{\"type\":\"scatterpolargl\",\"marker\":{\"colorbar\":{\"outlinewidth\":0,\"ticks\":\"\"}}}],\"bar\":[{\"error_x\":{\"color\":\"#2a3f5f\"},\"error_y\":{\"color\":\"#2a3f5f\"},\"marker\":{\"line\":{\"color\":\"#E5ECF6\",\"width\":0.5},\"pattern\":{\"fillmode\":\"overlay\",\"size\":10,\"solidity\":0.2}},\"type\":\"bar\"}],\"scattergeo\":[{\"type\":\"scattergeo\",\"marker\":{\"colorbar\":{\"outlinewidth\":0,\"ticks\":\"\"}}}],\"scatterpolar\":[{\"type\":\"scatterpolar\",\"marker\":{\"colorbar\":{\"outlinewidth\":0,\"ticks\":\"\"}}}],\"histogram\":[{\"marker\":{\"pattern\":{\"fillmode\":\"overlay\",\"size\":10,\"solidity\":0.2}},\"type\":\"histogram\"}],\"scattergl\":[{\"type\":\"scattergl\",\"marker\":{\"colorbar\":{\"outlinewidth\":0,\"ticks\":\"\"}}}],\"scatter3d\":[{\"type\":\"scatter3d\",\"line\":{\"colorbar\":{\"outlinewidth\":0,\"ticks\":\"\"}},\"marker\":{\"colorbar\":{\"outlinewidth\":0,\"ticks\":\"\"}}}],\"scattermapbox\":[{\"type\":\"scattermapbox\",\"marker\":{\"colorbar\":{\"outlinewidth\":0,\"ticks\":\"\"}}}],\"scatterternary\":[{\"type\":\"scatterternary\",\"marker\":{\"colorbar\":{\"outlinewidth\":0,\"ticks\":\"\"}}}],\"scattercarpet\":[{\"type\":\"scattercarpet\",\"marker\":{\"colorbar\":{\"outlinewidth\":0,\"ticks\":\"\"}}}],\"carpet\":[{\"aaxis\":{\"endlinecolor\":\"#2a3f5f\",\"gridcolor\":\"white\",\"linecolor\":\"white\",\"minorgridcolor\":\"white\",\"startlinecolor\":\"#2a3f5f\"},\"baxis\":{\"endlinecolor\":\"#2a3f5f\",\"gridcolor\":\"white\",\"linecolor\":\"white\",\"minorgridcolor\":\"white\",\"startlinecolor\":\"#2a3f5f\"},\"type\":\"carpet\"}],\"table\":[{\"cells\":{\"fill\":{\"color\":\"#EBF0F8\"},\"line\":{\"color\":\"white\"}},\"header\":{\"fill\":{\"color\":\"#C8D4E3\"},\"line\":{\"color\":\"white\"}},\"type\":\"table\"}],\"barpolar\":[{\"marker\":{\"line\":{\"color\":\"#E5ECF6\",\"width\":0.5},\"pattern\":{\"fillmode\":\"overlay\",\"size\":10,\"solidity\":0.2}},\"type\":\"barpolar\"}],\"pie\":[{\"automargin\":true,\"type\":\"pie\"}]},\"layout\":{\"autotypenumbers\":\"strict\",\"colorway\":[\"#636efa\",\"#EF553B\",\"#00cc96\",\"#ab63fa\",\"#FFA15A\",\"#19d3f3\",\"#FF6692\",\"#B6E880\",\"#FF97FF\",\"#FECB52\"],\"font\":{\"color\":\"#2a3f5f\"},\"hovermode\":\"closest\",\"hoverlabel\":{\"align\":\"left\"},\"paper_bgcolor\":\"white\",\"plot_bgcolor\":\"#E5ECF6\",\"polar\":{\"bgcolor\":\"#E5ECF6\",\"angularaxis\":{\"gridcolor\":\"white\",\"linecolor\":\"white\",\"ticks\":\"\"},\"radialaxis\":{\"gridcolor\":\"white\",\"linecolor\":\"white\",\"ticks\":\"\"}},\"ternary\":{\"bgcolor\":\"#E5ECF6\",\"aaxis\":{\"gridcolor\":\"white\",\"linecolor\":\"white\",\"ticks\":\"\"},\"baxis\":{\"gridcolor\":\"white\",\"linecolor\":\"white\",\"ticks\":\"\"},\"caxis\":{\"gridcolor\":\"white\",\"linecolor\":\"white\",\"ticks\":\"\"}},\"coloraxis\":{\"colorbar\":{\"outlinewidth\":0,\"ticks\":\"\"}},\"colorscale\":{\"sequential\":[[0.0,\"#0d0887\"],[0.1111111111111111,\"#46039f\"],[0.2222222222222222,\"#7201a8\"],[0.3333333333333333,\"#9c179e\"],[0.4444444444444444,\"#bd3786\"],[0.5555555555555556,\"#d8576b\"],[0.6666666666666666,\"#ed7953\"],[0.7777777777777778,\"#fb9f3a\"],[0.8888888888888888,\"#fdca26\"],[1.0,\"#f0f921\"]],\"sequentialminus\":[[0.0,\"#0d0887\"],[0.1111111111111111,\"#46039f\"],[0.2222222222222222,\"#7201a8\"],[0.3333333333333333,\"#9c179e\"],[0.4444444444444444,\"#bd3786\"],[0.5555555555555556,\"#d8576b\"],[0.6666666666666666,\"#ed7953\"],[0.7777777777777778,\"#fb9f3a\"],[0.8888888888888888,\"#fdca26\"],[1.0,\"#f0f921\"]],\"diverging\":[[0,\"#8e0152\"],[0.1,\"#c51b7d\"],[0.2,\"#de77ae\"],[0.3,\"#f1b6da\"],[0.4,\"#fde0ef\"],[0.5,\"#f7f7f7\"],[0.6,\"#e6f5d0\"],[0.7,\"#b8e186\"],[0.8,\"#7fbc41\"],[0.9,\"#4d9221\"],[1,\"#276419\"]]},\"xaxis\":{\"gridcolor\":\"white\",\"linecolor\":\"white\",\"ticks\":\"\",\"title\":{\"standoff\":15},\"zerolinecolor\":\"white\",\"automargin\":true,\"zerolinewidth\":2},\"yaxis\":{\"gridcolor\":\"white\",\"linecolor\":\"white\",\"ticks\":\"\",\"title\":{\"standoff\":15},\"zerolinecolor\":\"white\",\"automargin\":true,\"zerolinewidth\":2},\"scene\":{\"xaxis\":{\"backgroundcolor\":\"#E5ECF6\",\"gridcolor\":\"white\",\"linecolor\":\"white\",\"showbackground\":true,\"ticks\":\"\",\"zerolinecolor\":\"white\",\"gridwidth\":2},\"yaxis\":{\"backgroundcolor\":\"#E5ECF6\",\"gridcolor\":\"white\",\"linecolor\":\"white\",\"showbackground\":true,\"ticks\":\"\",\"zerolinecolor\":\"white\",\"gridwidth\":2},\"zaxis\":{\"backgroundcolor\":\"#E5ECF6\",\"gridcolor\":\"white\",\"linecolor\":\"white\",\"showbackground\":true,\"ticks\":\"\",\"zerolinecolor\":\"white\",\"gridwidth\":2}},\"shapedefaults\":{\"line\":{\"color\":\"#2a3f5f\"}},\"annotationdefaults\":{\"arrowcolor\":\"#2a3f5f\",\"arrowhead\":0,\"arrowwidth\":1},\"geo\":{\"bgcolor\":\"white\",\"landcolor\":\"#E5ECF6\",\"subunitcolor\":\"white\",\"showland\":true,\"showlakes\":true,\"lakecolor\":\"white\"},\"title\":{\"x\":0.05},\"mapbox\":{\"style\":\"light\"}}},\"title\":{\"text\":\"Top 3 Risks of Death (rates) against WHR Measurements of Happiness\",\"x\":0.5,\"xanchor\":\"center\"},\"hovermode\":\"closest\",\"dragmode\":\"select\",\"width\":1150,\"height\":1345}}'"
      ]
     },
     "execution_count": 243,
     "metadata": {},
     "output_type": "execute_result"
    }
   ],
   "source": [
    "#To Json Scatter\n",
    "json_7 = pio.to_json(figScatter)\n",
    "json_7\n"
   ]
  },
  {
   "cell_type": "code",
   "execution_count": 244,
   "id": "b7692781",
   "metadata": {},
   "outputs": [
    {
     "data": {
      "text/plain": [
       "'{\"data\":[{\"hoverinfo\":\"text\",\"mode\":\"markers\",\"text\":[\"Freedom to make life choices: 0.396573007<br>Location: Afghanistan\",\"Freedom to make life choices: 0.781994224<br>Location: Albania\",\"Freedom to make life choices: 0.941345513<br>Location: United Arab Emirates\",\"Freedom to make life choices: 0.831132412<br>Location: Argentina\",\"Freedom to make life choices: 0.712017834<br>Location: Armenia\",\"Freedom to make life choices: 0.915431738<br>Location: Australia\",\"Freedom to make life choices: 0.899989486<br>Location: Austria\",\"Freedom to make life choices: 0.786824107<br>Location: Azerbaijan\",\"Freedom to make life choices: 0.626350224<br>Location: Burundi\",\"Freedom to make life choices: 0.813582063<br>Location: Belgium\",\"Freedom to make life choices: 0.735182583<br>Location: Benin\",\"Freedom to make life choices: 0.665563583<br>Location: Burkina Faso\",\"Freedom to make life choices: 0.90062499<br>Location: Bangladesh\",\"Freedom to make life choices: 0.745178163<br>Location: Bulgaria\",\"Freedom to make life choices: 0.905855775<br>Location: Bahrain\",\"Freedom to make life choices: 0.651352704<br>Location: Bosnia and Herzegovina\",\"Freedom to make life choices: 0.639163077<br>Location: Belarus\",\"Freedom to make life choices: 0.799804807<br>Location: Brazil\",\"Freedom to make life choices: 0.821328104<br>Location: Botswana\",\"Freedom to make life choices: 0.640880644<br>Location: Central African Republic\",\"Freedom to make life choices: 0.933913231<br>Location: Canada\",\"Freedom to make life choices: 0.921336651<br>Location: Switzerland\",\"Freedom to make life choices: 0.744896293<br>Location: Chile\",\"Freedom to make life choices: 0.763051808<br>Location: Cameroon\",\"Freedom to make life choices: 0.836179912<br>Location: Colombia\",\"Freedom to make life choices: 0.547612607<br>Location: Comoros\",\"Freedom to make life choices: 0.934738934<br>Location: Costa Rica\",\"Freedom to make life choices: 0.779858291<br>Location: Cyprus\",\"Freedom to make life choices: 0.867371082<br>Location: Germany\",\"Freedom to make life choices: 0.951444268<br>Location: Denmark\",\"Freedom to make life choices: 0.866202772<br>Location: Dominican Republic\",\"Freedom to make life choices: 0.466610909<br>Location: Algeria\",\"Freedom to make life choices: 0.859828949<br>Location: Ecuador\",\"Freedom to make life choices: 0.751989543<br>Location: Spain\",\"Freedom to make life choices: 0.87770915<br>Location: Estonia\",\"Freedom to make life choices: 0.740795195<br>Location: Ethiopia\",\"Freedom to make life choices: 0.949172199<br>Location: Finland\",\"Freedom to make life choices: 0.825467646<br>Location: France\",\"Freedom to make life choices: 0.704829216<br>Location: Gabon\",\"Freedom to make life choices: 0.834743679<br>Location: United Kingdom\",\"Freedom to make life choices: 0.801641524<br>Location: Georgia\",\"Freedom to make life choices: 0.794796526<br>Location: Ghana\",\"Freedom to make life choices: 0.706846774<br>Location: Guinea\",\"Freedom to make life choices: 0.733163178<br>Location: Gambia\",\"Freedom to make life choices: 0.541345119<br>Location: Greece\",\"Freedom to make life choices: 0.908147573<br>Location: Guatemala\",\"Freedom to make life choices: 0.870603263<br>Location: Honduras\",\"Freedom to make life choices: 0.714838803<br>Location: Croatia\",\"Freedom to make life choices: 0.537825167<br>Location: Haiti\",\"Freedom to make life choices: 0.718964577<br>Location: Hungary\",\"Freedom to make life choices: 0.870614409<br>Location: Indonesia\",\"Freedom to make life choices: 0.881444871<br>Location: India\",\"Freedom to make life choices: 0.886982977<br>Location: Ireland\",\"Freedom to make life choices: 0.633182645<br>Location: Iraq\",\"Freedom to make life choices: 0.948891878<br>Location: Iceland\",\"Freedom to make life choices: 0.747580588<br>Location: Israel\",\"Freedom to make life choices: 0.66465199<br>Location: Italy\",\"Freedom to make life choices: 0.858068526<br>Location: Jamaica\",\"Freedom to make life choices: 0.75104779<br>Location: Jordan\",\"Freedom to make life choices: 0.809961379<br>Location: Japan\",\"Freedom to make life choices: 0.811601937<br>Location: Kazakhstan\",\"Freedom to make life choices: 0.829747558<br>Location: Kenya\",\"Freedom to make life choices: 0.909374893<br>Location: Kyrgyzstan\",\"Freedom to make life choices: 0.959704638<br>Location: Cambodia\",\"Freedom to make life choices: 0.872366488<br>Location: Kuwait\",\"Freedom to make life choices: 0.551357508<br>Location: Lebanon\",\"Freedom to make life choices: 0.735268712<br>Location: Liberia\",\"Freedom to make life choices: 0.773157001<br>Location: Libya\",\"Freedom to make life choices: 0.837633669<br>Location: Sri Lanka\",\"Freedom to make life choices: 0.738125861<br>Location: Lesotho\",\"Freedom to make life choices: 0.747381449<br>Location: Lithuania\",\"Freedom to make life choices: 0.90563643<br>Location: Luxembourg\",\"Freedom to make life choices: 0.671237648<br>Location: Latvia\",\"Freedom to make life choices: 0.772072434<br>Location: Morocco\",\"Freedom to make life choices: 0.557574093<br>Location: Madagascar\",\"Freedom to make life choices: 0.853962779<br>Location: Maldives\",\"Freedom to make life choices: 0.858709276<br>Location: Mexico\",\"Freedom to make life choices: 0.71156615<br>Location: Mali\",\"Freedom to make life choices: 0.924911439<br>Location: Malta\",\"Freedom to make life choices: 0.895075202<br>Location: Myanmar\",\"Freedom to make life choices: 0.649565637<br>Location: Montenegro\",\"Freedom to make life choices: 0.693351328<br>Location: Mongolia\",\"Freedom to make life choices: 0.864451885<br>Location: Mozambique\",\"Freedom to make life choices: 0.551522553<br>Location: Mauritania\",\"Freedom to make life choices: 0.889534533<br>Location: Mauritius\",\"Freedom to make life choices: 0.803223193<br>Location: Malawi\",\"Freedom to make life choices: 0.894626856<br>Location: Malaysia\",\"Freedom to make life choices: 0.767520964<br>Location: Namibia\",\"Freedom to make life choices: 0.759772122<br>Location: Niger\",\"Freedom to make life choices: 0.759578407<br>Location: Nigeria\",\"Freedom to make life choices: 0.863902867<br>Location: Nicaragua\",\"Freedom to make life choices: 0.908547819<br>Location: Netherlands\",\"Freedom to make life choices: 0.955750287<br>Location: Norway\",\"Freedom to make life choices: 0.797565043<br>Location: Nepal\",\"Freedom to make life choices: 0.936217487<br>Location: New Zealand\",\"Freedom to make life choices: 0.734833717<br>Location: Pakistan\",\"Freedom to make life choices: 0.880366504<br>Location: Panama\",\"Freedom to make life choices: 0.824766099<br>Location: Peru\",\"Freedom to make life choices: 0.915463448<br>Location: Philippines\",\"Freedom to make life choices: 0.862055779<br>Location: Poland\",\"Freedom to make life choices: 0.888747811<br>Location: Portugal\",\"Freedom to make life choices: 0.885923445<br>Location: Paraguay\",\"Freedom to make life choices: 0.842823207<br>Location: Romania\",\"Freedom to make life choices: 0.900589406<br>Location: Rwanda\",\"Freedom to make life choices: 0.854191244<br>Location: Saudi Arabia\",\"Freedom to make life choices: 0.690596163<br>Location: Senegal\",\"Freedom to make life choices: 0.926645339<br>Location: Singapore\",\"Freedom to make life choices: 0.715315044<br>Location: Sierra Leone\",\"Freedom to make life choices: 0.833805263<br>Location: El Salvador\",\"Freedom to make life choices: 0.726495862<br>Location: Serbia\",\"Freedom to make life choices: 0.451313615<br>Location: South Sudan\",\"Freedom to make life choices: 0.749952674<br>Location: Slovakia\",\"Freedom to make life choices: 0.936142623<br>Location: Slovenia\",\"Freedom to make life choices: 0.939144194<br>Location: Sweden\",\"Freedom to make life choices: 0.587305248<br>Location: Chad\",\"Freedom to make life choices: 0.649828613<br>Location: Togo\",\"Freedom to make life choices: 0.905063033<br>Location: Thailand\",\"Freedom to make life choices: 0.831383407<br>Location: Tajikistan\",\"Freedom to make life choices: 0.826457024<br>Location: Turkmenistan\",\"Freedom to make life choices: 0.857907116<br>Location: Trinidad and Tobago\",\"Freedom to make life choices: 0.593361557<br>Location: Tunisia\",\"Freedom to make life choices: 0.608830452<br>Location: Turkey\",\"Freedom to make life choices: 0.731713951<br>Location: Uganda\",\"Freedom to make life choices: 0.663081884<br>Location: Ukraine\",\"Freedom to make life choices: 0.892395437<br>Location: Uruguay\",\"Freedom to make life choices: 0.974998116<br>Location: Uzbekistan\",\"Freedom to make life choices: 0.599920273<br>Location: Yemen\",\"Freedom to make life choices: 0.759330094<br>Location: South Africa\",\"Freedom to make life choices: 0.806500256<br>Location: Zambia\",\"Freedom to make life choices: 0.711457908<br>Location: Zimbabwe\",\"Freedom to make life choices: 0.708354175<br>Location: Egypt\",\"Freedom to make life choices: 0.898517907<br>Location: China\"],\"x\":[0.066641327,0.06838024,0.15266505,0.079143662,0.048349224,0.059117539,0.050365923,0.038269098,0.041683861,0.06704812,0.042746516,0.055095026,0.028538244,0.037427134,0.097386102,0.033934445,0.037829355,0.086101656,0.034871225,0.071011947,0.055790023,0.0403709,0.083013317,0.050995562,0.080120402,0.055547256,0.107248144,0.098016312,0.045764327,0.044368224,0.096074618,0.162422905,0.127797705,0.050841039,0.028575966,0.031542352,0.034215758,0.05991004,0.083831834,0.034596084,0.075373431,0.051857603,0.035918195,0.030919251,0.09551369,0.056673057,0.051319469,0.064738773,0.02414776,0.03861593,0.055434579,0.057327416,0.034484986,0.068001274,0.037279889,0.068584453,0.073457327,0.028279817,0.099227476,0.033480451,0.053265494,0.022197937,0.076460344,0.067473322,0.123313694,0.05591117,0.027606643,0.138825952,0.06817149,0.036598253,0.032398383,0.061344137,0.036885324,0.122015526,0.031369023,0.041648061,0.070708359,0.028074999,0.03944543,0.03934312,0.051872551,0.054430782,0.026381939,0.092365235,0.050007614,0.028665512,0.120740453,0.050670244,0.034689248,0.022349721,0.068153456,0.039203014,0.037167955,0.034854646,0.071656423,0.028217442,0.076776355,0.087529891,0.039167153,0.053927231,0.058203554,0.123117025,0.046773143,0.059316307,0.238398398,0.04000284,0.037088719,0.038518187,0.065789602,0.045687711,0.024784755,0.044599815,0.055031062,0.036868105,0.035160523,0.050252846,0.107271644,0.039688764,0.021090614,0.048669873,0.13262982,0.074540364,0.039954147,0.03719242,0.080525145,0.055737907,0.121016778,0.055650828,0.026893337,0.030762777,0.130130931,0.097773854],\"y\":[0.396573007,0.781994224,0.941345513,0.831132412,0.712017834,0.915431738,0.899989486,0.786824107,0.626350224,0.813582063,0.735182583,0.665563583,0.90062499,0.745178163,0.905855775,0.651352704,0.639163077,0.799804807,0.821328104,0.640880644,0.933913231,0.921336651,0.744896293,0.763051808,0.836179912,0.547612607,0.934738934,0.779858291,0.867371082,0.951444268,0.866202772,0.466610909,0.859828949,0.751989543,0.87770915,0.740795195,0.949172199,0.825467646,0.704829216,0.834743679,0.801641524,0.794796526,0.706846774,0.733163178,0.541345119,0.908147573,0.870603263,0.714838803,0.537825167,0.718964577,0.870614409,0.881444871,0.886982977,0.633182645,0.948891878,0.747580588,0.66465199,0.858068526,0.75104779,0.809961379,0.811601937,0.829747558,0.909374893,0.959704638,0.872366488,0.551357508,0.735268712,0.773157001,0.837633669,0.738125861,0.747381449,0.90563643,0.671237648,0.772072434,0.557574093,0.853962779,0.858709276,0.71156615,0.924911439,0.895075202,0.649565637,0.693351328,0.864451885,0.551522553,0.889534533,0.803223193,0.894626856,0.767520964,0.759772122,0.759578407,0.863902867,0.908547819,0.955750287,0.797565043,0.936217487,0.734833717,0.880366504,0.824766099,0.915463448,0.862055779,0.888747811,0.885923445,0.842823207,0.900589406,0.854191244,0.690596163,0.926645339,0.715315044,0.833805263,0.726495862,0.451313615,0.749952674,0.936142623,0.939144194,0.587305248,0.649828613,0.905063033,0.831383407,0.826457024,0.857907116,0.593361557,0.608830452,0.731713951,0.663081884,0.892395437,0.974998116,0.599920273,0.759330094,0.806500256,0.711457908,0.708354175,0.898517907],\"type\":\"scatter\",\"xaxis\":\"x\",\"yaxis\":\"y\"},{\"hoverinfo\":\"text\",\"mode\":\"markers\",\"text\":[\"Healthy life expectancy: 52.59000015<br>Location: Afghanistan\",\"Healthy life expectancy: 68.70813751<br>Location: Albania\",\"Healthy life expectancy: 67.08278656<br>Location: United Arab Emirates\",\"Healthy life expectancy: 68.80380249<br>Location: Argentina\",\"Healthy life expectancy: 66.75065613<br>Location: Armenia\",\"Healthy life expectancy: 73.60453796<br>Location: Australia\",\"Healthy life expectancy: 73.00250244<br>Location: Austria\",\"Healthy life expectancy: 65.50839996<br>Location: Azerbaijan\",\"Healthy life expectancy: 53.40000153<br>Location: Burundi\",\"Healthy life expectancy: 72.00164795<br>Location: Belgium\",\"Healthy life expectancy: 54.31246567<br>Location: Benin\",\"Healthy life expectancy: 53.88945389<br>Location: Burkina Faso\",\"Healthy life expectancy: 64.50306702<br>Location: Bangladesh\",\"Healthy life expectancy: 66.80397797<br>Location: Bulgaria\",\"Healthy life expectancy: 68.5<br>Location: Bahrain\",\"Healthy life expectancy: 67.80813599<br>Location: Bosnia and Herzegovina\",\"Healthy life expectancy: 66.10433197<br>Location: Belarus\",\"Healthy life expectancy: 66.48016357<br>Location: Brazil\",\"Healthy life expectancy: 58.92445374<br>Location: Botswana\",\"Healthy life expectancy: 45.20000076<br>Location: Central African Republic\",\"Healthy life expectancy: 73.60160065<br>Location: Canada\",\"Healthy life expectancy: 74.10244751<br>Location: Switzerland\",\"Healthy life expectancy: 69.90061951<br>Location: Chile\",\"Healthy life expectancy: 52.7049408<br>Location: Cameroon\",\"Healthy life expectancy: 67.69958496<br>Location: Colombia\",\"Healthy life expectancy: 57.34901047<br>Location: Comoros\",\"Healthy life expectancy: 71.29985046<br>Location: Costa Rica\",\"Healthy life expectancy: 73.70222473<br>Location: Cyprus\",\"Healthy life expectancy: 72.20201874<br>Location: Germany\",\"Healthy life expectancy: 72.40250397<br>Location: Denmark\",\"Healthy life expectancy: 65.80748749<br>Location: Dominican Republic\",\"Healthy life expectancy: 65.90517426<br>Location: Algeria\",\"Healthy life expectancy: 68.50003815<br>Location: Ecuador\",\"Healthy life expectancy: 74.40270996<br>Location: Spain\",\"Healthy life expectancy: 68.60495758<br>Location: Estonia\",\"Healthy life expectancy: 58.63959122<br>Location: Ethiopia\",\"Healthy life expectancy: 71.9008255<br>Location: Finland\",\"Healthy life expectancy: 73.80193329<br>Location: France\",\"Healthy life expectancy: 59.71533966<br>Location: Gabon\",\"Healthy life expectancy: 72.30160522<br>Location: United Kingdom\",\"Healthy life expectancy: 64.49520874<br>Location: Georgia\",\"Healthy life expectancy: 57.20398712<br>Location: Ghana\",\"Healthy life expectancy: 54.46780014<br>Location: Guinea\",\"Healthy life expectancy: 55.0120163<br>Location: Gambia\",\"Healthy life expectancy: 72.40525818<br>Location: Greece\",\"Healthy life expectancy: 64.8089447<br>Location: Guatemala\",\"Healthy life expectancy: 67.19876862<br>Location: Honduras\",\"Healthy life expectancy: 70.21490479<br>Location: Croatia\",\"Healthy life expectancy: 55.59862518<br>Location: Haiti\",\"Healthy life expectancy: 67.60997009<br>Location: Hungary\",\"Healthy life expectancy: 62.15584946<br>Location: Indonesia\",\"Healthy life expectancy: 60.21518707<br>Location: India\",\"Healthy life expectancy: 72.30078888<br>Location: Ireland\",\"Healthy life expectancy: 59.90354919<br>Location: Iraq\",\"Healthy life expectancy: 73.0<br>Location: Iceland\",\"Healthy life expectancy: 73.20025635<br>Location: Israel\",\"Healthy life expectancy: 73.60168457<br>Location: Italy\",\"Healthy life expectancy: 67.09999847<br>Location: Jamaica\",\"Healthy life expectancy: 66.79975128<br>Location: Jordan\",\"Healthy life expectancy: 75.00096893<br>Location: Japan\",\"Healthy life expectancy: 64.60996246<br>Location: Kazakhstan\",\"Healthy life expectancy: 60.09693146<br>Location: Kenya\",\"Healthy life expectancy: 64.10601044<br>Location: Kyrgyzstan\",\"Healthy life expectancy: 61.52996826<br>Location: Cambodia\",\"Healthy life expectancy: 66.76764679<br>Location: Kuwait\",\"Healthy life expectancy: 67.10658264<br>Location: Lebanon\",\"Healthy life expectancy: 56.09631348<br>Location: Liberia\",\"Healthy life expectancy: 62.29999924<br>Location: Libya\",\"Healthy life expectancy: 67.20006561<br>Location: Sri Lanka\",\"Healthy life expectancy: 48.00362396<br>Location: Lesotho\",\"Healthy life expectancy: 67.29407501<br>Location: Lithuania\",\"Healthy life expectancy: 72.59999847<br>Location: Luxembourg\",\"Healthy life expectancy: 66.8074646<br>Location: Latvia\",\"Healthy life expectancy: 65.89624023<br>Location: Morocco\",\"Healthy life expectancy: 59.10542679<br>Location: Madagascar\",\"Healthy life expectancy: 70.59999847<br>Location: Maldives\",\"Healthy life expectancy: 68.29902649<br>Location: Mexico\",\"Healthy life expectancy: 51.72698212<br>Location: Mali\",\"Healthy life expectancy: 72.19999695<br>Location: Malta\",\"Healthy life expectancy: 58.96171188<br>Location: Myanmar\",\"Healthy life expectancy: 68.50534821<br>Location: Montenegro\",\"Healthy life expectancy: 62.30448532<br>Location: Mongolia\",\"Healthy life expectancy: 54.20582199<br>Location: Mozambique\",\"Healthy life expectancy: 57.01017761<br>Location: Mauritania\",\"Healthy life expectancy: 66.40434265<br>Location: Mauritius\",\"Healthy life expectancy: 57.59288788<br>Location: Malawi\",\"Healthy life expectancy: 67.10215759<br>Location: Malaysia\",\"Healthy life expectancy: 56.50148773<br>Location: Namibia\",\"Healthy life expectancy: 53.50009537<br>Location: Niger\",\"Healthy life expectancy: 49.86190796<br>Location: Nigeria\",\"Healthy life expectancy: 67.50717926<br>Location: Nicaragua\",\"Healthy life expectancy: 72.30091858<br>Location: Netherlands\",\"Healthy life expectancy: 73.20078278<br>Location: Norway\",\"Healthy life expectancy: 63.77917862<br>Location: Nepal\",\"Healthy life expectancy: 73.20262909<br>Location: New Zealand\",\"Healthy life expectancy: 58.25313568<br>Location: Pakistan\",\"Healthy life expectancy: 69.60301208<br>Location: Panama\",\"Healthy life expectancy: 68.10023499<br>Location: Peru\",\"Healthy life expectancy: 61.92676163<br>Location: Philippines\",\"Healthy life expectancy: 69.31113434<br>Location: Poland\",\"Healthy life expectancy: 72.40202332<br>Location: Portugal\",\"Healthy life expectancy: 65.63993835<br>Location: Paraguay\",\"Healthy life expectancy: 67.20723724<br>Location: Romania\",\"Healthy life expectancy: 61.09884644<br>Location: Rwanda\",\"Healthy life expectancy: 66.30514526<br>Location: Saudi Arabia\",\"Healthy life expectancy: 59.59915161<br>Location: Senegal\",\"Healthy life expectancy: 76.80458069<br>Location: Singapore\",\"Healthy life expectancy: 50.86514282<br>Location: Sierra Leone\",\"Healthy life expectancy: 66.10826111<br>Location: El Salvador\",\"Healthy life expectancy: 68.21020508<br>Location: Serbia\",\"Healthy life expectancy: 51.0<br>Location: South Sudan\",\"Healthy life expectancy: 68.90634155<br>Location: Slovakia\",\"Healthy life expectancy: 71.1029892<br>Location: Slovenia\",\"Healthy life expectancy: 72.60076904<br>Location: Sweden\",\"Healthy life expectancy: 48.22053909<br>Location: Chad\",\"Healthy life expectancy: 54.71989822<br>Location: Togo\",\"Healthy life expectancy: 67.25059509<br>Location: Thailand\",\"Healthy life expectancy: 64.10459137<br>Location: Tajikistan\",\"Healthy life expectancy: 62.21170807<br>Location: Turkmenistan\",\"Healthy life expectancy: 63.5<br>Location: Trinidad and Tobago\",\"Healthy life expectancy: 66.89785767<br>Location: Tunisia\",\"Healthy life expectancy: 66.90281677<br>Location: Turkey\",\"Healthy life expectancy: 55.70820236<br>Location: Uganda\",\"Healthy life expectancy: 64.60678101<br>Location: Ukraine\",\"Healthy life expectancy: 69.00254822<br>Location: Uruguay\",\"Healthy life expectancy: 65.10757446<br>Location: Uzbekistan\",\"Healthy life expectancy: 56.72728348<br>Location: Yemen\",\"Healthy life expectancy: 56.50601196<br>Location: South Africa\",\"Healthy life expectancy: 55.29937744<br>Location: Zambia\",\"Healthy life expectancy: 55.61725998<br>Location: Zimbabwe\",\"Healthy life expectancy: 61.78015137<br>Location: Egypt\",\"Healthy life expectancy: 69.2891922<br>Location: China\"],\"x\":[0.066641327,0.06838024,0.15266505,0.079143662,0.048349224,0.059117539,0.050365923,0.038269098,0.041683861,0.06704812,0.042746516,0.055095026,0.028538244,0.037427134,0.097386102,0.033934445,0.037829355,0.086101656,0.034871225,0.071011947,0.055790023,0.0403709,0.083013317,0.050995562,0.080120402,0.055547256,0.107248144,0.098016312,0.045764327,0.044368224,0.096074618,0.162422905,0.127797705,0.050841039,0.028575966,0.031542352,0.034215758,0.05991004,0.083831834,0.034596084,0.075373431,0.051857603,0.035918195,0.030919251,0.09551369,0.056673057,0.051319469,0.064738773,0.02414776,0.03861593,0.055434579,0.057327416,0.034484986,0.068001274,0.037279889,0.068584453,0.073457327,0.028279817,0.099227476,0.033480451,0.053265494,0.022197937,0.076460344,0.067473322,0.123313694,0.05591117,0.027606643,0.138825952,0.06817149,0.036598253,0.032398383,0.061344137,0.036885324,0.122015526,0.031369023,0.041648061,0.070708359,0.028074999,0.03944543,0.03934312,0.051872551,0.054430782,0.026381939,0.092365235,0.050007614,0.028665512,0.120740453,0.050670244,0.034689248,0.022349721,0.068153456,0.039203014,0.037167955,0.034854646,0.071656423,0.028217442,0.076776355,0.087529891,0.039167153,0.053927231,0.058203554,0.123117025,0.046773143,0.059316307,0.238398398,0.04000284,0.037088719,0.038518187,0.065789602,0.045687711,0.024784755,0.044599815,0.055031062,0.036868105,0.035160523,0.050252846,0.107271644,0.039688764,0.021090614,0.048669873,0.13262982,0.074540364,0.039954147,0.03719242,0.080525145,0.055737907,0.121016778,0.055650828,0.026893337,0.030762777,0.130130931,0.097773854],\"y\":[52.59000015,68.70813751,67.08278656,68.80380249,66.75065613,73.60453796,73.00250244,65.50839996,53.40000153,72.00164795,54.31246567,53.88945389,64.50306702,66.80397797,68.5,67.80813599,66.10433197,66.48016357,58.92445374,45.20000076,73.60160065,74.10244751,69.90061951,52.7049408,67.69958496,57.34901047,71.29985046,73.70222473,72.20201874,72.40250397,65.80748749,65.90517426,68.50003815,74.40270996,68.60495758,58.63959122,71.9008255,73.80193329,59.71533966,72.30160522,64.49520874,57.20398712,54.46780014,55.0120163,72.40525818,64.8089447,67.19876862,70.21490479,55.59862518,67.60997009,62.15584946,60.21518707,72.30078888,59.90354919,73.0,73.20025635,73.60168457,67.09999847,66.79975128,75.00096893,64.60996246,60.09693146,64.10601044,61.52996826,66.76764679,67.10658264,56.09631348,62.29999924,67.20006561,48.00362396,67.29407501,72.59999847,66.8074646,65.89624023,59.10542679,70.59999847,68.29902649,51.72698212,72.19999695,58.96171188,68.50534821,62.30448532,54.20582199,57.01017761,66.40434265,57.59288788,67.10215759,56.50148773,53.50009537,49.86190796,67.50717926,72.30091858,73.20078278,63.77917862,73.20262909,58.25313568,69.60301208,68.10023499,61.92676163,69.31113434,72.40202332,65.63993835,67.20723724,61.09884644,66.30514526,59.59915161,76.80458069,50.86514282,66.10826111,68.21020508,51.0,68.90634155,71.1029892,72.60076904,48.22053909,54.71989822,67.25059509,64.10459137,62.21170807,63.5,66.89785767,66.90281677,55.70820236,64.60678101,69.00254822,65.10757446,56.72728348,56.50601196,55.29937744,55.61725998,61.78015137,69.2891922],\"type\":\"scatter\",\"xaxis\":\"x2\",\"yaxis\":\"y2\"},{\"hoverinfo\":\"text\",\"mode\":\"markers\",\"text\":[\"Social support: 0.470366955<br>Location: Afghanistan\",\"Social support: 0.671070457<br>Location: Albania\",\"Social support: 0.849181116<br>Location: United Arab Emirates\",\"Social support: 0.900567949<br>Location: Argentina\",\"Social support: 0.757479429<br>Location: Armenia\",\"Social support: 0.944854617<br>Location: Australia\",\"Social support: 0.928045869<br>Location: Austria\",\"Social support: 0.819308281<br>Location: Azerbaijan\",\"Social support: 0.490325719<br>Location: Burundi\",\"Social support: 0.911632538<br>Location: Belgium\",\"Social support: 0.468671143<br>Location: Benin\",\"Social support: 0.712943614<br>Location: Burkina Faso\",\"Social support: 0.687292993<br>Location: Bangladesh\",\"Social support: 0.937840343<br>Location: Bulgaria\",\"Social support: 0.876342118<br>Location: Bahrain\",\"Social support: 0.829204142<br>Location: Bosnia and Herzegovina\",\"Social support: 0.90674746<br>Location: Belarus\",\"Social support: 0.896723807<br>Location: Brazil\",\"Social support: 0.779121757<br>Location: Botswana\",\"Social support: 0.319459856<br>Location: Central African Republic\",\"Social support: 0.927176654<br>Location: Canada\",\"Social support: 0.942846596<br>Location: Switzerland\",\"Social support: 0.879713595<br>Location: Chile\",\"Social support: 0.700386405<br>Location: Cameroon\",\"Social support: 0.884440243<br>Location: Colombia\",\"Social support: 0.625662446<br>Location: Comoros\",\"Social support: 0.901545942<br>Location: Costa Rica\",\"Social support: 0.805996239<br>Location: Cyprus\",\"Social support: 0.898874462<br>Location: Germany\",\"Social support: 0.955990791<br>Location: Denmark\",\"Social support: 0.882085383<br>Location: Dominican Republic\",\"Social support: 0.803385139<br>Location: Algeria\",\"Social support: 0.836418986<br>Location: Ecuador\",\"Social support: 0.921125412<br>Location: Spain\",\"Social support: 0.934729993<br>Location: Estonia\",\"Social support: 0.743307352<br>Location: Ethiopia\",\"Social support: 0.954329729<br>Location: Finland\",\"Social support: 0.937103748<br>Location: France\",\"Social support: 0.787886858<br>Location: Gabon\",\"Social support: 0.93668282<br>Location: United Kingdom\",\"Social support: 0.629033029<br>Location: Georgia\",\"Social support: 0.728601098<br>Location: Ghana\",\"Social support: 0.637573481<br>Location: Guinea\",\"Social support: 0.6931687<br>Location: Gambia\",\"Social support: 0.814380348<br>Location: Greece\",\"Social support: 0.816621482<br>Location: Guatemala\",\"Social support: 0.821870148<br>Location: Honduras\",\"Social support: 0.874623716<br>Location: Croatia\",\"Social support: 0.593247831<br>Location: Haiti\",\"Social support: 0.921934128<br>Location: Hungary\",\"Social support: 0.808379889<br>Location: Indonesia\",\"Social support: 0.592200935<br>Location: India\",\"Social support: 0.942081571<br>Location: Ireland\",\"Social support: 0.747694969<br>Location: Iraq\",\"Social support: 0.974669576<br>Location: Iceland\",\"Social support: 0.913571239<br>Location: Israel\",\"Social support: 0.889878571<br>Location: Italy\",\"Social support: 0.915701866<br>Location: Jamaica\",\"Social support: 0.80216372<br>Location: Jordan\",\"Social support: 0.883545935<br>Location: Japan\",\"Social support: 0.934744895<br>Location: Kazakhstan\",\"Social support: 0.702652037<br>Location: Kenya\",\"Social support: 0.887228489<br>Location: Kyrgyzstan\",\"Social support: 0.773080647<br>Location: Cambodia\",\"Social support: 0.846475244<br>Location: Kuwait\",\"Social support: 0.824338138<br>Location: Lebanon\",\"Social support: 0.70928055<br>Location: Liberia\",\"Social support: 0.825942934<br>Location: Libya\",\"Social support: 0.825374067<br>Location: Sri Lanka\",\"Social support: 0.780495703<br>Location: Lesotho\",\"Social support: 0.926107109<br>Location: Lithuania\",\"Social support: 0.906912208<br>Location: Luxembourg\",\"Social support: 0.918288589<br>Location: Latvia\",\"Social support: 0.592628479<br>Location: Morocco\",\"Social support: 0.668195903<br>Location: Madagascar\",\"Social support: 0.91316092<br>Location: Maldives\",\"Social support: 0.838665426<br>Location: Mexico\",\"Social support: 0.731468976<br>Location: Mali\",\"Social support: 0.93037951<br>Location: Malta\",\"Social support: 0.78440702<br>Location: Myanmar\",\"Social support: 0.855314612<br>Location: Montenegro\",\"Social support: 0.937142491<br>Location: Mongolia\",\"Social support: 0.723874032<br>Location: Mozambique\",\"Social support: 0.790819228<br>Location: Mauritania\",\"Social support: 0.910357833<br>Location: Mauritius\",\"Social support: 0.544007301<br>Location: Malawi\",\"Social support: 0.816509426<br>Location: Malaysia\",\"Social support: 0.846880972<br>Location: Namibia\",\"Social support: 0.617435038<br>Location: Niger\",\"Social support: 0.73721689<br>Location: Nigeria\",\"Social support: 0.857497036<br>Location: Nicaragua\",\"Social support: 0.93913883<br>Location: Netherlands\",\"Social support: 0.952486575<br>Location: Norway\",\"Social support: 0.785512447<br>Location: Nepal\",\"Social support: 0.949118972<br>Location: New Zealand\",\"Social support: 0.689062297<br>Location: Pakistan\",\"Social support: 0.902094483<br>Location: Panama\",\"Social support: 0.831075251<br>Location: Peru\",\"Social support: 0.846730053<br>Location: Philippines\",\"Social support: 0.874257445<br>Location: Poland\",\"Social support: 0.886590719<br>Location: Portugal\",\"Social support: 0.898727894<br>Location: Paraguay\",\"Social support: 0.825161517<br>Location: Romania\",\"Social support: 0.54083544<br>Location: Rwanda\",\"Social support: 0.874067068<br>Location: Saudi Arabia\",\"Social support: 0.723616004<br>Location: Senegal\",\"Social support: 0.910268962<br>Location: Singapore\",\"Social support: 0.636142015<br>Location: Sierra Leone\",\"Social support: 0.806092262<br>Location: El Salvador\",\"Social support: 0.881475747<br>Location: Serbia\",\"Social support: 0.553707123<br>Location: South Sudan\",\"Social support: 0.922493756<br>Location: Slovakia\",\"Social support: 0.939575672<br>Location: Slovenia\",\"Social support: 0.926311195<br>Location: Sweden\",\"Social support: 0.632388055<br>Location: Chad\",\"Social support: 0.551312625<br>Location: Togo\",\"Social support: 0.889973223<br>Location: Thailand\",\"Social support: 0.835297108<br>Location: Tajikistan\",\"Social support: 0.958966196<br>Location: Turkmenistan\",\"Social support: 0.91529417<br>Location: Trinidad and Tobago\",\"Social support: 0.688718557<br>Location: Tunisia\",\"Social support: 0.826313555<br>Location: Turkey\",\"Social support: 0.764994621<br>Location: Uganda\",\"Social support: 0.878879368<br>Location: Ukraine\",\"Social support: 0.92281127<br>Location: Uruguay\",\"Social support: 0.926595807<br>Location: Uzbekistan\",\"Social support: 0.817980587<br>Location: Yemen\",\"Social support: 0.852532268<br>Location: South Africa\",\"Social support: 0.698824465<br>Location: Zambia\",\"Social support: 0.763092756<br>Location: Zimbabwe\",\"Social support: 0.735447824<br>Location: Egypt\",\"Social support: 0.798760593<br>Location: China\"],\"x\":[0.066641327,0.06838024,0.15266505,0.079143662,0.048349224,0.059117539,0.050365923,0.038269098,0.041683861,0.06704812,0.042746516,0.055095026,0.028538244,0.037427134,0.097386102,0.033934445,0.037829355,0.086101656,0.034871225,0.071011947,0.055790023,0.0403709,0.083013317,0.050995562,0.080120402,0.055547256,0.107248144,0.098016312,0.045764327,0.044368224,0.096074618,0.162422905,0.127797705,0.050841039,0.028575966,0.031542352,0.034215758,0.05991004,0.083831834,0.034596084,0.075373431,0.051857603,0.035918195,0.030919251,0.09551369,0.056673057,0.051319469,0.064738773,0.02414776,0.03861593,0.055434579,0.057327416,0.034484986,0.068001274,0.037279889,0.068584453,0.073457327,0.028279817,0.099227476,0.033480451,0.053265494,0.022197937,0.076460344,0.067473322,0.123313694,0.05591117,0.027606643,0.138825952,0.06817149,0.036598253,0.032398383,0.061344137,0.036885324,0.122015526,0.031369023,0.041648061,0.070708359,0.028074999,0.03944543,0.03934312,0.051872551,0.054430782,0.026381939,0.092365235,0.050007614,0.028665512,0.120740453,0.050670244,0.034689248,0.022349721,0.068153456,0.039203014,0.037167955,0.034854646,0.071656423,0.028217442,0.076776355,0.087529891,0.039167153,0.053927231,0.058203554,0.123117025,0.046773143,0.059316307,0.238398398,0.04000284,0.037088719,0.038518187,0.065789602,0.045687711,0.024784755,0.044599815,0.055031062,0.036868105,0.035160523,0.050252846,0.107271644,0.039688764,0.021090614,0.048669873,0.13262982,0.074540364,0.039954147,0.03719242,0.080525145,0.055737907,0.121016778,0.055650828,0.026893337,0.030762777,0.130130931,0.097773854],\"y\":[0.470366955,0.671070457,0.849181116,0.900567949,0.757479429,0.944854617,0.928045869,0.819308281,0.490325719,0.911632538,0.468671143,0.712943614,0.687292993,0.937840343,0.876342118,0.829204142,0.90674746,0.896723807,0.779121757,0.319459856,0.927176654,0.942846596,0.879713595,0.700386405,0.884440243,0.625662446,0.901545942,0.805996239,0.898874462,0.955990791,0.882085383,0.803385139,0.836418986,0.921125412,0.934729993,0.743307352,0.954329729,0.937103748,0.787886858,0.93668282,0.629033029,0.728601098,0.637573481,0.6931687,0.814380348,0.816621482,0.821870148,0.874623716,0.593247831,0.921934128,0.808379889,0.592200935,0.942081571,0.747694969,0.974669576,0.913571239,0.889878571,0.915701866,0.80216372,0.883545935,0.934744895,0.702652037,0.887228489,0.773080647,0.846475244,0.824338138,0.70928055,0.825942934,0.825374067,0.780495703,0.926107109,0.906912208,0.918288589,0.592628479,0.668195903,0.91316092,0.838665426,0.731468976,0.93037951,0.78440702,0.855314612,0.937142491,0.723874032,0.790819228,0.910357833,0.544007301,0.816509426,0.846880972,0.617435038,0.73721689,0.857497036,0.93913883,0.952486575,0.785512447,0.949118972,0.689062297,0.902094483,0.831075251,0.846730053,0.874257445,0.886590719,0.898727894,0.825161517,0.54083544,0.874067068,0.723616004,0.910268962,0.636142015,0.806092262,0.881475747,0.553707123,0.922493756,0.939575672,0.926311195,0.632388055,0.551312625,0.889973223,0.835297108,0.958966196,0.91529417,0.688718557,0.826313555,0.764994621,0.878879368,0.92281127,0.926595807,0.817980587,0.852532268,0.698824465,0.763092756,0.735447824,0.798760593],\"type\":\"scatter\",\"xaxis\":\"x3\",\"yaxis\":\"y3\"},{\"hoverinfo\":\"text\",\"mode\":\"markers\",\"text\":[\"Logged GDP per capita: 7.462860584<br>Location: Afghanistan\",\"Logged GDP per capita: 9.417930603<br>Location: Albania\",\"Logged GDP per capita: 11.1099987<br>Location: United Arab Emirates\",\"Logged GDP per capita: 9.810955048<br>Location: Argentina\",\"Logged GDP per capita: 9.100476265<br>Location: Armenia\",\"Logged GDP per capita: 10.72059631<br>Location: Australia\",\"Logged GDP per capita: 10.7428236<br>Location: Austria\",\"Logged GDP per capita: 9.687726974<br>Location: Azerbaijan\",\"Logged GDP per capita: 6.492642403<br>Location: Burundi\",\"Logged GDP per capita: 10.6736393<br>Location: Belgium\",\"Logged GDP per capita: 7.674319744<br>Location: Benin\",\"Logged GDP per capita: 7.46854496<br>Location: Burkina Faso\",\"Logged GDP per capita: 8.287063599<br>Location: Bangladesh\",\"Logged GDP per capita: 9.869318962<br>Location: Bulgaria\",\"Logged GDP per capita: 10.67638016<br>Location: Bahrain\",\"Logged GDP per capita: 9.455817223<br>Location: Bosnia and Herzegovina\",\"Logged GDP per capita: 9.779945374<br>Location: Belarus\",\"Logged GDP per capita: 9.56643486<br>Location: Brazil\",\"Logged GDP per capita: 9.711203575<br>Location: Botswana\",\"Logged GDP per capita: 6.625160217<br>Location: Central African Republic\",\"Logged GDP per capita: 10.69236851<br>Location: Canada\",\"Logged GDP per capita: 10.97993279<br>Location: Switzerland\",\"Logged GDP per capita: 10.0320549<br>Location: Chile\",\"Logged GDP per capita: 8.118647575<br>Location: Cameroon\",\"Logged GDP per capita: 9.500369072<br>Location: Colombia\",\"Logged GDP per capita: 7.833630085<br>Location: Comoros\",\"Logged GDP per capita: 9.658156395<br>Location: Costa Rica\",\"Logged GDP per capita: 10.40570259<br>Location: Cyprus\",\"Logged GDP per capita: 10.7328186<br>Location: Germany\",\"Logged GDP per capita: 10.77400112<br>Location: Denmark\",\"Logged GDP per capita: 9.664880753<br>Location: Dominican Republic\",\"Logged GDP per capita: 9.537964821<br>Location: Algeria\",\"Logged GDP per capita: 9.246058464<br>Location: Ecuador\",\"Logged GDP per capita: 10.46292686<br>Location: Spain\",\"Logged GDP per capita: 10.34001732<br>Location: Estonia\",\"Logged GDP per capita: 7.509385586<br>Location: Ethiopia\",\"Logged GDP per capita: 10.63926697<br>Location: Finland\",\"Logged GDP per capita: 10.58422279<br>Location: France\",\"Logged GDP per capita: 9.680537224<br>Location: Gabon\",\"Logged GDP per capita: 10.60013485<br>Location: United Kingdom\",\"Logged GDP per capita: 9.226100922<br>Location: Georgia\",\"Logged GDP per capita: 8.350645065<br>Location: Ghana\",\"Logged GDP per capita: 7.750990391<br>Location: Guinea\",\"Logged GDP per capita: 7.321814537<br>Location: Gambia\",\"Logged GDP per capita: 10.13232613<br>Location: Greece\",\"Logged GDP per capita: 8.924805641<br>Location: Guatemala\",\"Logged GDP per capita: 8.424534798<br>Location: Honduras\",\"Logged GDP per capita: 10.07087517<br>Location: Croatia\",\"Logged GDP per capita: 7.411329269<br>Location: Haiti\",\"Logged GDP per capita: 10.24924374<br>Location: Hungary\",\"Logged GDP per capita: 9.36975193<br>Location: Indonesia\",\"Logged GDP per capita: 8.849823952<br>Location: India\",\"Logged GDP per capita: 11.16097832<br>Location: Ireland\",\"Logged GDP per capita: 9.661095619<br>Location: Iraq\",\"Logged GDP per capita: 10.77255917<br>Location: Iceland\",\"Logged GDP per capita: 10.41752529<br>Location: Israel\",\"Logged GDP per capita: 10.48183632<br>Location: Italy\",\"Logged GDP per capita: 9.006250381<br>Location: Jamaica\",\"Logged GDP per capita: 9.025999069<br>Location: Jordan\",\"Logged GDP per capita: 10.57968903<br>Location: Japan\",\"Logged GDP per capita: 10.11465836<br>Location: Kazakhstan\",\"Logged GDP per capita: 8.02977562<br>Location: Kenya\",\"Logged GDP per capita: 8.148405075<br>Location: Kyrgyzstan\",\"Logged GDP per capita: 8.249890327<br>Location: Cambodia\",\"Logged GDP per capita: 11.08982468<br>Location: Kuwait\",\"Logged GDP per capita: 9.3617239<br>Location: Lebanon\",\"Logged GDP per capita: 7.054380417<br>Location: Liberia\",\"Logged GDP per capita: 9.789815903<br>Location: Libya\",\"Logged GDP per capita: 9.389969826<br>Location: Sri Lanka\",\"Logged GDP per capita: 7.960488319<br>Location: Lesotho\",\"Logged GDP per capita: 10.34362602<br>Location: Lithuania\",\"Logged GDP per capita: 11.45068073<br>Location: Luxembourg\",\"Logged GDP per capita: 10.17531967<br>Location: Latvia\",\"Logged GDP per capita: 8.940313339<br>Location: Morocco\",\"Logged GDP per capita: 7.281685829<br>Location: Madagascar\",\"Logged GDP per capita: 9.518632889<br>Location: Maldives\",\"Logged GDP per capita: 9.797797203<br>Location: Mexico\",\"Logged GDP per capita: 7.629852295<br>Location: Mali\",\"Logged GDP per capita: 10.53383827<br>Location: Malta\",\"Logged GDP per capita: 8.680481911<br>Location: Myanmar\",\"Logged GDP per capita: 9.751860619<br>Location: Montenegro\",\"Logged GDP per capita: 9.412186623<br>Location: Mongolia\",\"Logged GDP per capita: 7.069345951<br>Location: Mozambique\",\"Logged GDP per capita: 8.233919144<br>Location: Mauritania\",\"Logged GDP per capita: 9.956786156<br>Location: Mauritius\",\"Logged GDP per capita: 7.062226295<br>Location: Malawi\",\"Logged GDP per capita: 10.26251888<br>Location: Malaysia\",\"Logged GDP per capita: 9.203141212<br>Location: Namibia\",\"Logged GDP per capita: 6.842166901<br>Location: Niger\",\"Logged GDP per capita: 8.57662487<br>Location: Nigeria\",\"Logged GDP per capita: 8.493160248<br>Location: Nicaragua\",\"Logged GDP per capita: 10.81271172<br>Location: Netherlands\",\"Logged GDP per capita: 11.08780384<br>Location: Norway\",\"Logged GDP per capita: 7.925357342<br>Location: Nepal\",\"Logged GDP per capita: 10.50094318<br>Location: New Zealand\",\"Logged GDP per capita: 8.482727051<br>Location: Pakistan\",\"Logged GDP per capita: 10.03423405<br>Location: Panama\",\"Logged GDP per capita: 9.456313133<br>Location: Peru\",\"Logged GDP per capita: 8.993545532<br>Location: Philippines\",\"Logged GDP per capita: 10.26512432<br>Location: Poland\",\"Logged GDP per capita: 10.26374245<br>Location: Portugal\",\"Logged GDP per capita: 9.389982224<br>Location: Paraguay\",\"Logged GDP per capita: 10.107584<br>Location: Romania\",\"Logged GDP per capita: 7.600104332<br>Location: Rwanda\",\"Logged GDP per capita: 10.79781246<br>Location: Saudi Arabia\",\"Logged GDP per capita: 8.118982315<br>Location: Senegal\",\"Logged GDP per capita: 11.39552116<br>Location: Singapore\",\"Logged GDP per capita: 7.26880312<br>Location: Sierra Leone\",\"Logged GDP per capita: 8.909075737<br>Location: El Salvador\",\"Logged GDP per capita: 9.680980682<br>Location: Serbia\",\"Logged GDP per capita: 7.425359726<br>Location: South Sudan\",\"Logged GDP per capita: 10.34774971<br>Location: Slovakia\",\"Logged GDP per capita: 10.39232254<br>Location: Slovenia\",\"Logged GDP per capita: 10.75879383<br>Location: Sweden\",\"Logged GDP per capita: 7.467963696<br>Location: Chad\",\"Logged GDP per capita: 7.357711315<br>Location: Togo\",\"Logged GDP per capita: 9.741791725<br>Location: Thailand\",\"Logged GDP per capita: 8.024810791<br>Location: Tajikistan\",\"Logged GDP per capita: 9.74803257<br>Location: Turkmenistan\",\"Logged GDP per capita: 10.26000214<br>Location: Trinidad and Tobago\",\"Logged GDP per capita: 9.314972878<br>Location: Tunisia\",\"Logged GDP per capita: 10.12941933<br>Location: Turkey\",\"Logged GDP per capita: 7.500389576<br>Location: Uganda\",\"Logged GDP per capita: 9.010690689<br>Location: Ukraine\",\"Logged GDP per capita: 9.948192596<br>Location: Uruguay\",\"Logged GDP per capita: 8.740371704<br>Location: Uzbekistan\",\"Logged GDP per capita: 7.759682655<br>Location: Yemen\",\"Logged GDP per capita: 9.403370857<br>Location: South Africa\",\"Logged GDP per capita: 8.224720001<br>Location: Zambia\",\"Logged GDP per capita: 7.865711689<br>Location: Zimbabwe\",\"Logged GDP per capita: 9.316541672<br>Location: Egypt\",\"Logged GDP per capita: 9.688568115<br>Location: China\"],\"x\":[0.066641327,0.06838024,0.15266505,0.079143662,0.048349224,0.059117539,0.050365923,0.038269098,0.041683861,0.06704812,0.042746516,0.055095026,0.028538244,0.037427134,0.097386102,0.033934445,0.037829355,0.086101656,0.034871225,0.071011947,0.055790023,0.0403709,0.083013317,0.050995562,0.080120402,0.055547256,0.107248144,0.098016312,0.045764327,0.044368224,0.096074618,0.162422905,0.127797705,0.050841039,0.028575966,0.031542352,0.034215758,0.05991004,0.083831834,0.034596084,0.075373431,0.051857603,0.035918195,0.030919251,0.09551369,0.056673057,0.051319469,0.064738773,0.02414776,0.03861593,0.055434579,0.057327416,0.034484986,0.068001274,0.037279889,0.068584453,0.073457327,0.028279817,0.099227476,0.033480451,0.053265494,0.022197937,0.076460344,0.067473322,0.123313694,0.05591117,0.027606643,0.138825952,0.06817149,0.036598253,0.032398383,0.061344137,0.036885324,0.122015526,0.031369023,0.041648061,0.070708359,0.028074999,0.03944543,0.03934312,0.051872551,0.054430782,0.026381939,0.092365235,0.050007614,0.028665512,0.120740453,0.050670244,0.034689248,0.022349721,0.068153456,0.039203014,0.037167955,0.034854646,0.071656423,0.028217442,0.076776355,0.087529891,0.039167153,0.053927231,0.058203554,0.123117025,0.046773143,0.059316307,0.238398398,0.04000284,0.037088719,0.038518187,0.065789602,0.045687711,0.024784755,0.044599815,0.055031062,0.036868105,0.035160523,0.050252846,0.107271644,0.039688764,0.021090614,0.048669873,0.13262982,0.074540364,0.039954147,0.03719242,0.080525145,0.055737907,0.121016778,0.055650828,0.026893337,0.030762777,0.130130931,0.097773854],\"y\":[7.462860584,9.417930603,11.1099987,9.810955048,9.100476265,10.72059631,10.7428236,9.687726974,6.492642403,10.6736393,7.674319744,7.46854496,8.287063599,9.869318962,10.67638016,9.455817223,9.779945374,9.56643486,9.711203575,6.625160217,10.69236851,10.97993279,10.0320549,8.118647575,9.500369072,7.833630085,9.658156395,10.40570259,10.7328186,10.77400112,9.664880753,9.537964821,9.246058464,10.46292686,10.34001732,7.509385586,10.63926697,10.58422279,9.680537224,10.60013485,9.226100922,8.350645065,7.750990391,7.321814537,10.13232613,8.924805641,8.424534798,10.07087517,7.411329269,10.24924374,9.36975193,8.849823952,11.16097832,9.661095619,10.77255917,10.41752529,10.48183632,9.006250381,9.025999069,10.57968903,10.11465836,8.02977562,8.148405075,8.249890327,11.08982468,9.3617239,7.054380417,9.789815903,9.389969826,7.960488319,10.34362602,11.45068073,10.17531967,8.940313339,7.281685829,9.518632889,9.797797203,7.629852295,10.53383827,8.680481911,9.751860619,9.412186623,7.069345951,8.233919144,9.956786156,7.062226295,10.26251888,9.203141212,6.842166901,8.57662487,8.493160248,10.81271172,11.08780384,7.925357342,10.50094318,8.482727051,10.03423405,9.456313133,8.993545532,10.26512432,10.26374245,9.389982224,10.107584,7.600104332,10.79781246,8.118982315,11.39552116,7.26880312,8.909075737,9.680980682,7.425359726,10.34774971,10.39232254,10.75879383,7.467963696,7.357711315,9.741791725,8.024810791,9.74803257,10.26000214,9.314972878,10.12941933,7.500389576,9.010690689,9.948192596,8.740371704,7.759682655,9.403370857,8.224720001,7.865711689,9.316541672,9.688568115],\"type\":\"scatter\",\"xaxis\":\"x4\",\"yaxis\":\"y4\"}],\"layout\":{\"template\":{\"data\":{\"histogram2dcontour\":[{\"type\":\"histogram2dcontour\",\"colorbar\":{\"outlinewidth\":0,\"ticks\":\"\"},\"colorscale\":[[0.0,\"#0d0887\"],[0.1111111111111111,\"#46039f\"],[0.2222222222222222,\"#7201a8\"],[0.3333333333333333,\"#9c179e\"],[0.4444444444444444,\"#bd3786\"],[0.5555555555555556,\"#d8576b\"],[0.6666666666666666,\"#ed7953\"],[0.7777777777777778,\"#fb9f3a\"],[0.8888888888888888,\"#fdca26\"],[1.0,\"#f0f921\"]]}],\"choropleth\":[{\"type\":\"choropleth\",\"colorbar\":{\"outlinewidth\":0,\"ticks\":\"\"}}],\"histogram2d\":[{\"type\":\"histogram2d\",\"colorbar\":{\"outlinewidth\":0,\"ticks\":\"\"},\"colorscale\":[[0.0,\"#0d0887\"],[0.1111111111111111,\"#46039f\"],[0.2222222222222222,\"#7201a8\"],[0.3333333333333333,\"#9c179e\"],[0.4444444444444444,\"#bd3786\"],[0.5555555555555556,\"#d8576b\"],[0.6666666666666666,\"#ed7953\"],[0.7777777777777778,\"#fb9f3a\"],[0.8888888888888888,\"#fdca26\"],[1.0,\"#f0f921\"]]}],\"heatmap\":[{\"type\":\"heatmap\",\"colorbar\":{\"outlinewidth\":0,\"ticks\":\"\"},\"colorscale\":[[0.0,\"#0d0887\"],[0.1111111111111111,\"#46039f\"],[0.2222222222222222,\"#7201a8\"],[0.3333333333333333,\"#9c179e\"],[0.4444444444444444,\"#bd3786\"],[0.5555555555555556,\"#d8576b\"],[0.6666666666666666,\"#ed7953\"],[0.7777777777777778,\"#fb9f3a\"],[0.8888888888888888,\"#fdca26\"],[1.0,\"#f0f921\"]]}],\"heatmapgl\":[{\"type\":\"heatmapgl\",\"colorbar\":{\"outlinewidth\":0,\"ticks\":\"\"},\"colorscale\":[[0.0,\"#0d0887\"],[0.1111111111111111,\"#46039f\"],[0.2222222222222222,\"#7201a8\"],[0.3333333333333333,\"#9c179e\"],[0.4444444444444444,\"#bd3786\"],[0.5555555555555556,\"#d8576b\"],[0.6666666666666666,\"#ed7953\"],[0.7777777777777778,\"#fb9f3a\"],[0.8888888888888888,\"#fdca26\"],[1.0,\"#f0f921\"]]}],\"contourcarpet\":[{\"type\":\"contourcarpet\",\"colorbar\":{\"outlinewidth\":0,\"ticks\":\"\"}}],\"contour\":[{\"type\":\"contour\",\"colorbar\":{\"outlinewidth\":0,\"ticks\":\"\"},\"colorscale\":[[0.0,\"#0d0887\"],[0.1111111111111111,\"#46039f\"],[0.2222222222222222,\"#7201a8\"],[0.3333333333333333,\"#9c179e\"],[0.4444444444444444,\"#bd3786\"],[0.5555555555555556,\"#d8576b\"],[0.6666666666666666,\"#ed7953\"],[0.7777777777777778,\"#fb9f3a\"],[0.8888888888888888,\"#fdca26\"],[1.0,\"#f0f921\"]]}],\"surface\":[{\"type\":\"surface\",\"colorbar\":{\"outlinewidth\":0,\"ticks\":\"\"},\"colorscale\":[[0.0,\"#0d0887\"],[0.1111111111111111,\"#46039f\"],[0.2222222222222222,\"#7201a8\"],[0.3333333333333333,\"#9c179e\"],[0.4444444444444444,\"#bd3786\"],[0.5555555555555556,\"#d8576b\"],[0.6666666666666666,\"#ed7953\"],[0.7777777777777778,\"#fb9f3a\"],[0.8888888888888888,\"#fdca26\"],[1.0,\"#f0f921\"]]}],\"mesh3d\":[{\"type\":\"mesh3d\",\"colorbar\":{\"outlinewidth\":0,\"ticks\":\"\"}}],\"scatter\":[{\"fillpattern\":{\"fillmode\":\"overlay\",\"size\":10,\"solidity\":0.2},\"type\":\"scatter\"}],\"parcoords\":[{\"type\":\"parcoords\",\"line\":{\"colorbar\":{\"outlinewidth\":0,\"ticks\":\"\"}}}],\"scatterpolargl\":[{\"type\":\"scatterpolargl\",\"marker\":{\"colorbar\":{\"outlinewidth\":0,\"ticks\":\"\"}}}],\"bar\":[{\"error_x\":{\"color\":\"#2a3f5f\"},\"error_y\":{\"color\":\"#2a3f5f\"},\"marker\":{\"line\":{\"color\":\"#E5ECF6\",\"width\":0.5},\"pattern\":{\"fillmode\":\"overlay\",\"size\":10,\"solidity\":0.2}},\"type\":\"bar\"}],\"scattergeo\":[{\"type\":\"scattergeo\",\"marker\":{\"colorbar\":{\"outlinewidth\":0,\"ticks\":\"\"}}}],\"scatterpolar\":[{\"type\":\"scatterpolar\",\"marker\":{\"colorbar\":{\"outlinewidth\":0,\"ticks\":\"\"}}}],\"histogram\":[{\"marker\":{\"pattern\":{\"fillmode\":\"overlay\",\"size\":10,\"solidity\":0.2}},\"type\":\"histogram\"}],\"scattergl\":[{\"type\":\"scattergl\",\"marker\":{\"colorbar\":{\"outlinewidth\":0,\"ticks\":\"\"}}}],\"scatter3d\":[{\"type\":\"scatter3d\",\"line\":{\"colorbar\":{\"outlinewidth\":0,\"ticks\":\"\"}},\"marker\":{\"colorbar\":{\"outlinewidth\":0,\"ticks\":\"\"}}}],\"scattermapbox\":[{\"type\":\"scattermapbox\",\"marker\":{\"colorbar\":{\"outlinewidth\":0,\"ticks\":\"\"}}}],\"scatterternary\":[{\"type\":\"scatterternary\",\"marker\":{\"colorbar\":{\"outlinewidth\":0,\"ticks\":\"\"}}}],\"scattercarpet\":[{\"type\":\"scattercarpet\",\"marker\":{\"colorbar\":{\"outlinewidth\":0,\"ticks\":\"\"}}}],\"carpet\":[{\"aaxis\":{\"endlinecolor\":\"#2a3f5f\",\"gridcolor\":\"white\",\"linecolor\":\"white\",\"minorgridcolor\":\"white\",\"startlinecolor\":\"#2a3f5f\"},\"baxis\":{\"endlinecolor\":\"#2a3f5f\",\"gridcolor\":\"white\",\"linecolor\":\"white\",\"minorgridcolor\":\"white\",\"startlinecolor\":\"#2a3f5f\"},\"type\":\"carpet\"}],\"table\":[{\"cells\":{\"fill\":{\"color\":\"#EBF0F8\"},\"line\":{\"color\":\"white\"}},\"header\":{\"fill\":{\"color\":\"#C8D4E3\"},\"line\":{\"color\":\"white\"}},\"type\":\"table\"}],\"barpolar\":[{\"marker\":{\"line\":{\"color\":\"#E5ECF6\",\"width\":0.5},\"pattern\":{\"fillmode\":\"overlay\",\"size\":10,\"solidity\":0.2}},\"type\":\"barpolar\"}],\"pie\":[{\"automargin\":true,\"type\":\"pie\"}]},\"layout\":{\"autotypenumbers\":\"strict\",\"colorway\":[\"#636efa\",\"#EF553B\",\"#00cc96\",\"#ab63fa\",\"#FFA15A\",\"#19d3f3\",\"#FF6692\",\"#B6E880\",\"#FF97FF\",\"#FECB52\"],\"font\":{\"color\":\"#2a3f5f\"},\"hovermode\":\"closest\",\"hoverlabel\":{\"align\":\"left\"},\"paper_bgcolor\":\"white\",\"plot_bgcolor\":\"#E5ECF6\",\"polar\":{\"bgcolor\":\"#E5ECF6\",\"angularaxis\":{\"gridcolor\":\"white\",\"linecolor\":\"white\",\"ticks\":\"\"},\"radialaxis\":{\"gridcolor\":\"white\",\"linecolor\":\"white\",\"ticks\":\"\"}},\"ternary\":{\"bgcolor\":\"#E5ECF6\",\"aaxis\":{\"gridcolor\":\"white\",\"linecolor\":\"white\",\"ticks\":\"\"},\"baxis\":{\"gridcolor\":\"white\",\"linecolor\":\"white\",\"ticks\":\"\"},\"caxis\":{\"gridcolor\":\"white\",\"linecolor\":\"white\",\"ticks\":\"\"}},\"coloraxis\":{\"colorbar\":{\"outlinewidth\":0,\"ticks\":\"\"}},\"colorscale\":{\"sequential\":[[0.0,\"#0d0887\"],[0.1111111111111111,\"#46039f\"],[0.2222222222222222,\"#7201a8\"],[0.3333333333333333,\"#9c179e\"],[0.4444444444444444,\"#bd3786\"],[0.5555555555555556,\"#d8576b\"],[0.6666666666666666,\"#ed7953\"],[0.7777777777777778,\"#fb9f3a\"],[0.8888888888888888,\"#fdca26\"],[1.0,\"#f0f921\"]],\"sequentialminus\":[[0.0,\"#0d0887\"],[0.1111111111111111,\"#46039f\"],[0.2222222222222222,\"#7201a8\"],[0.3333333333333333,\"#9c179e\"],[0.4444444444444444,\"#bd3786\"],[0.5555555555555556,\"#d8576b\"],[0.6666666666666666,\"#ed7953\"],[0.7777777777777778,\"#fb9f3a\"],[0.8888888888888888,\"#fdca26\"],[1.0,\"#f0f921\"]],\"diverging\":[[0,\"#8e0152\"],[0.1,\"#c51b7d\"],[0.2,\"#de77ae\"],[0.3,\"#f1b6da\"],[0.4,\"#fde0ef\"],[0.5,\"#f7f7f7\"],[0.6,\"#e6f5d0\"],[0.7,\"#b8e186\"],[0.8,\"#7fbc41\"],[0.9,\"#4d9221\"],[1,\"#276419\"]]},\"xaxis\":{\"gridcolor\":\"white\",\"linecolor\":\"white\",\"ticks\":\"\",\"title\":{\"standoff\":15},\"zerolinecolor\":\"white\",\"automargin\":true,\"zerolinewidth\":2},\"yaxis\":{\"gridcolor\":\"white\",\"linecolor\":\"white\",\"ticks\":\"\",\"title\":{\"standoff\":15},\"zerolinecolor\":\"white\",\"automargin\":true,\"zerolinewidth\":2},\"scene\":{\"xaxis\":{\"backgroundcolor\":\"#E5ECF6\",\"gridcolor\":\"white\",\"linecolor\":\"white\",\"showbackground\":true,\"ticks\":\"\",\"zerolinecolor\":\"white\",\"gridwidth\":2},\"yaxis\":{\"backgroundcolor\":\"#E5ECF6\",\"gridcolor\":\"white\",\"linecolor\":\"white\",\"showbackground\":true,\"ticks\":\"\",\"zerolinecolor\":\"white\",\"gridwidth\":2},\"zaxis\":{\"backgroundcolor\":\"#E5ECF6\",\"gridcolor\":\"white\",\"linecolor\":\"white\",\"showbackground\":true,\"ticks\":\"\",\"zerolinecolor\":\"white\",\"gridwidth\":2}},\"shapedefaults\":{\"line\":{\"color\":\"#2a3f5f\"}},\"annotationdefaults\":{\"arrowcolor\":\"#2a3f5f\",\"arrowhead\":0,\"arrowwidth\":1},\"geo\":{\"bgcolor\":\"white\",\"landcolor\":\"#E5ECF6\",\"subunitcolor\":\"white\",\"showland\":true,\"showlakes\":true,\"lakecolor\":\"white\"},\"title\":{\"x\":0.05},\"mapbox\":{\"style\":\"light\"}}},\"xaxis\":{\"anchor\":\"y\",\"domain\":[0.0,0.45],\"title\":{\"text\":\"Road Injuries\"}},\"yaxis\":{\"anchor\":\"x\",\"domain\":[0.625,1.0]},\"xaxis2\":{\"anchor\":\"y2\",\"domain\":[0.55,1.0]},\"yaxis2\":{\"anchor\":\"x2\",\"domain\":[0.625,1.0]},\"xaxis3\":{\"anchor\":\"y3\",\"domain\":[0.0,0.45]},\"yaxis3\":{\"anchor\":\"x3\",\"domain\":[0.0,0.375]},\"xaxis4\":{\"anchor\":\"y4\",\"domain\":[0.55,1.0]},\"yaxis4\":{\"anchor\":\"x4\",\"domain\":[0.0,0.375]},\"annotations\":[{\"font\":{\"size\":16},\"showarrow\":false,\"text\":\"Road-Injury Death Rates and Freedom to make life choices\",\"x\":0.225,\"xanchor\":\"center\",\"xref\":\"paper\",\"y\":1.0,\"yanchor\":\"bottom\",\"yref\":\"paper\"},{\"font\":{\"size\":16},\"showarrow\":false,\"text\":\"Road-Injury Death Rates and Healthy life expectancy\",\"x\":0.775,\"xanchor\":\"center\",\"xref\":\"paper\",\"y\":1.0,\"yanchor\":\"bottom\",\"yref\":\"paper\"},{\"font\":{\"size\":16},\"showarrow\":false,\"text\":\"Road-Injury Death Rates and Social support\",\"x\":0.225,\"xanchor\":\"center\",\"xref\":\"paper\",\"y\":0.375,\"yanchor\":\"bottom\",\"yref\":\"paper\"},{\"font\":{\"size\":16},\"showarrow\":false,\"text\":\"Road-Injury Death Rates and Logged GDP per capita\",\"x\":0.775,\"xanchor\":\"center\",\"xref\":\"paper\",\"y\":0.375,\"yanchor\":\"bottom\",\"yref\":\"paper\"}],\"title\":{\"text\":\"Scatterplots of Road-Injury Death Rates and WHR Measurements of Happiness (y-axis)\",\"x\":0.5,\"xanchor\":\"center\"},\"showlegend\":false,\"width\":1000,\"height\":600.0}}'"
      ]
     },
     "execution_count": 244,
     "metadata": {},
     "output_type": "execute_result"
    }
   ],
   "source": [
    "#Json Analysis1\n",
    "json_8 = pio.to_json(figCompare1)\n",
    "json_8\n"
   ]
  },
  {
   "cell_type": "code",
   "execution_count": 245,
   "id": "1fd91c76",
   "metadata": {},
   "outputs": [
    {
     "data": {
      "text/plain": [
       "'{\"data\":[{\"hoverinfo\":\"text\",\"mode\":\"markers\",\"text\":[\"Freedom to make life choices: 0.396573007<br>Location: Afghanistan\",\"Freedom to make life choices: 0.781994224<br>Location: Albania\",\"Freedom to make life choices: 0.941345513<br>Location: United Arab Emirates\",\"Freedom to make life choices: 0.831132412<br>Location: Argentina\",\"Freedom to make life choices: 0.712017834<br>Location: Armenia\",\"Freedom to make life choices: 0.915431738<br>Location: Australia\",\"Freedom to make life choices: 0.899989486<br>Location: Austria\",\"Freedom to make life choices: 0.786824107<br>Location: Azerbaijan\",\"Freedom to make life choices: 0.626350224<br>Location: Burundi\",\"Freedom to make life choices: 0.813582063<br>Location: Belgium\",\"Freedom to make life choices: 0.735182583<br>Location: Benin\",\"Freedom to make life choices: 0.665563583<br>Location: Burkina Faso\",\"Freedom to make life choices: 0.90062499<br>Location: Bangladesh\",\"Freedom to make life choices: 0.745178163<br>Location: Bulgaria\",\"Freedom to make life choices: 0.905855775<br>Location: Bahrain\",\"Freedom to make life choices: 0.651352704<br>Location: Bosnia and Herzegovina\",\"Freedom to make life choices: 0.639163077<br>Location: Belarus\",\"Freedom to make life choices: 0.799804807<br>Location: Brazil\",\"Freedom to make life choices: 0.821328104<br>Location: Botswana\",\"Freedom to make life choices: 0.640880644<br>Location: Central African Republic\",\"Freedom to make life choices: 0.933913231<br>Location: Canada\",\"Freedom to make life choices: 0.921336651<br>Location: Switzerland\",\"Freedom to make life choices: 0.744896293<br>Location: Chile\",\"Freedom to make life choices: 0.763051808<br>Location: Cameroon\",\"Freedom to make life choices: 0.836179912<br>Location: Colombia\",\"Freedom to make life choices: 0.547612607<br>Location: Comoros\",\"Freedom to make life choices: 0.934738934<br>Location: Costa Rica\",\"Freedom to make life choices: 0.779858291<br>Location: Cyprus\",\"Freedom to make life choices: 0.867371082<br>Location: Germany\",\"Freedom to make life choices: 0.951444268<br>Location: Denmark\",\"Freedom to make life choices: 0.866202772<br>Location: Dominican Republic\",\"Freedom to make life choices: 0.466610909<br>Location: Algeria\",\"Freedom to make life choices: 0.859828949<br>Location: Ecuador\",\"Freedom to make life choices: 0.751989543<br>Location: Spain\",\"Freedom to make life choices: 0.87770915<br>Location: Estonia\",\"Freedom to make life choices: 0.740795195<br>Location: Ethiopia\",\"Freedom to make life choices: 0.949172199<br>Location: Finland\",\"Freedom to make life choices: 0.825467646<br>Location: France\",\"Freedom to make life choices: 0.704829216<br>Location: Gabon\",\"Freedom to make life choices: 0.834743679<br>Location: United Kingdom\",\"Freedom to make life choices: 0.801641524<br>Location: Georgia\",\"Freedom to make life choices: 0.794796526<br>Location: Ghana\",\"Freedom to make life choices: 0.706846774<br>Location: Guinea\",\"Freedom to make life choices: 0.733163178<br>Location: Gambia\",\"Freedom to make life choices: 0.541345119<br>Location: Greece\",\"Freedom to make life choices: 0.908147573<br>Location: Guatemala\",\"Freedom to make life choices: 0.870603263<br>Location: Honduras\",\"Freedom to make life choices: 0.714838803<br>Location: Croatia\",\"Freedom to make life choices: 0.537825167<br>Location: Haiti\",\"Freedom to make life choices: 0.718964577<br>Location: Hungary\",\"Freedom to make life choices: 0.870614409<br>Location: Indonesia\",\"Freedom to make life choices: 0.881444871<br>Location: India\",\"Freedom to make life choices: 0.886982977<br>Location: Ireland\",\"Freedom to make life choices: 0.633182645<br>Location: Iraq\",\"Freedom to make life choices: 0.948891878<br>Location: Iceland\",\"Freedom to make life choices: 0.747580588<br>Location: Israel\",\"Freedom to make life choices: 0.66465199<br>Location: Italy\",\"Freedom to make life choices: 0.858068526<br>Location: Jamaica\",\"Freedom to make life choices: 0.75104779<br>Location: Jordan\",\"Freedom to make life choices: 0.809961379<br>Location: Japan\",\"Freedom to make life choices: 0.811601937<br>Location: Kazakhstan\",\"Freedom to make life choices: 0.829747558<br>Location: Kenya\",\"Freedom to make life choices: 0.909374893<br>Location: Kyrgyzstan\",\"Freedom to make life choices: 0.959704638<br>Location: Cambodia\",\"Freedom to make life choices: 0.872366488<br>Location: Kuwait\",\"Freedom to make life choices: 0.551357508<br>Location: Lebanon\",\"Freedom to make life choices: 0.735268712<br>Location: Liberia\",\"Freedom to make life choices: 0.773157001<br>Location: Libya\",\"Freedom to make life choices: 0.837633669<br>Location: Sri Lanka\",\"Freedom to make life choices: 0.738125861<br>Location: Lesotho\",\"Freedom to make life choices: 0.747381449<br>Location: Lithuania\",\"Freedom to make life choices: 0.90563643<br>Location: Luxembourg\",\"Freedom to make life choices: 0.671237648<br>Location: Latvia\",\"Freedom to make life choices: 0.772072434<br>Location: Morocco\",\"Freedom to make life choices: 0.557574093<br>Location: Madagascar\",\"Freedom to make life choices: 0.853962779<br>Location: Maldives\",\"Freedom to make life choices: 0.858709276<br>Location: Mexico\",\"Freedom to make life choices: 0.71156615<br>Location: Mali\",\"Freedom to make life choices: 0.924911439<br>Location: Malta\",\"Freedom to make life choices: 0.895075202<br>Location: Myanmar\",\"Freedom to make life choices: 0.649565637<br>Location: Montenegro\",\"Freedom to make life choices: 0.693351328<br>Location: Mongolia\",\"Freedom to make life choices: 0.864451885<br>Location: Mozambique\",\"Freedom to make life choices: 0.551522553<br>Location: Mauritania\",\"Freedom to make life choices: 0.889534533<br>Location: Mauritius\",\"Freedom to make life choices: 0.803223193<br>Location: Malawi\",\"Freedom to make life choices: 0.894626856<br>Location: Malaysia\",\"Freedom to make life choices: 0.767520964<br>Location: Namibia\",\"Freedom to make life choices: 0.759772122<br>Location: Niger\",\"Freedom to make life choices: 0.759578407<br>Location: Nigeria\",\"Freedom to make life choices: 0.863902867<br>Location: Nicaragua\",\"Freedom to make life choices: 0.908547819<br>Location: Netherlands\",\"Freedom to make life choices: 0.955750287<br>Location: Norway\",\"Freedom to make life choices: 0.797565043<br>Location: Nepal\",\"Freedom to make life choices: 0.936217487<br>Location: New Zealand\",\"Freedom to make life choices: 0.734833717<br>Location: Pakistan\",\"Freedom to make life choices: 0.880366504<br>Location: Panama\",\"Freedom to make life choices: 0.824766099<br>Location: Peru\",\"Freedom to make life choices: 0.915463448<br>Location: Philippines\",\"Freedom to make life choices: 0.862055779<br>Location: Poland\",\"Freedom to make life choices: 0.888747811<br>Location: Portugal\",\"Freedom to make life choices: 0.885923445<br>Location: Paraguay\",\"Freedom to make life choices: 0.842823207<br>Location: Romania\",\"Freedom to make life choices: 0.900589406<br>Location: Rwanda\",\"Freedom to make life choices: 0.854191244<br>Location: Saudi Arabia\",\"Freedom to make life choices: 0.690596163<br>Location: Senegal\",\"Freedom to make life choices: 0.926645339<br>Location: Singapore\",\"Freedom to make life choices: 0.715315044<br>Location: Sierra Leone\",\"Freedom to make life choices: 0.833805263<br>Location: El Salvador\",\"Freedom to make life choices: 0.726495862<br>Location: Serbia\",\"Freedom to make life choices: 0.451313615<br>Location: South Sudan\",\"Freedom to make life choices: 0.749952674<br>Location: Slovakia\",\"Freedom to make life choices: 0.936142623<br>Location: Slovenia\",\"Freedom to make life choices: 0.939144194<br>Location: Sweden\",\"Freedom to make life choices: 0.587305248<br>Location: Chad\",\"Freedom to make life choices: 0.649828613<br>Location: Togo\",\"Freedom to make life choices: 0.905063033<br>Location: Thailand\",\"Freedom to make life choices: 0.831383407<br>Location: Tajikistan\",\"Freedom to make life choices: 0.826457024<br>Location: Turkmenistan\",\"Freedom to make life choices: 0.857907116<br>Location: Trinidad and Tobago\",\"Freedom to make life choices: 0.593361557<br>Location: Tunisia\",\"Freedom to make life choices: 0.608830452<br>Location: Turkey\",\"Freedom to make life choices: 0.731713951<br>Location: Uganda\",\"Freedom to make life choices: 0.663081884<br>Location: Ukraine\",\"Freedom to make life choices: 0.892395437<br>Location: Uruguay\",\"Freedom to make life choices: 0.974998116<br>Location: Uzbekistan\",\"Freedom to make life choices: 0.599920273<br>Location: Yemen\",\"Freedom to make life choices: 0.759330094<br>Location: South Africa\",\"Freedom to make life choices: 0.806500256<br>Location: Zambia\",\"Freedom to make life choices: 0.711457908<br>Location: Zimbabwe\",\"Freedom to make life choices: 0.708354175<br>Location: Egypt\",\"Freedom to make life choices: 0.898517907<br>Location: China\"],\"x\":[0.002163739,0.000502499,0.0053842,0.026741034,0.005419346,0.002883772,0.004875665,0.002342432,0.051661858,0.004199578,0.06452762,0.043668807,0.00154532,0.003013197,0.004204352,0.000321274,0.015899724,0.032291519,0.407560319,0.17121064,0.00702363,0.006131304,0.024019906,0.24407306,0.031848471,0.001183901,0.02109365,0.003539115,0.004614943,0.004120078,0.052635665,0.004090408,0.041168267,0.018652727,0.020385401,0.116508934,0.000782991,0.006500853,0.197340737,0.003553172,0.003174671,0.157467854,0.107592871,0.183163471,0.002384857,0.014439536,0.005467102,0.001376084,0.128451108,0.001870226,0.010196381,0.015410431,0.002683637,0.000850623,0.00403136,0.005491826,0.012414017,0.088095271,0.00222151,0.000842329,0.0067177,0.305973662,0.014557418,0.034849137,0.000675286,0.006715114,0.127374574,0.006021968,0.001055111,0.451738626,0.010500185,0.005019126,0.033754018,0.007385679,0.035414208,0.001683667,0.020663671,0.084714686,0.004694468,0.037329977,0.001294604,0.001047892,0.39005817,0.003171153,0.037756732,0.2415567,0.022782755,0.352518799,0.02980367,0.170834924,0.068278136,0.003214369,0.003292387,0.025657325,0.002139059,0.00638473,0.096265519,0.045313,0.019214993,0.002616519,0.046495941,0.041785546,0.004689288,0.104096265,0.007718808,0.049555475,0.008936079,0.11763992,0.038926097,0.00401256,0.184243097,0.000515274,0.001186897,0.002482691,0.105230349,0.140861224,0.097873109,0.0040251,0.010039227,0.068789928,0.010316137,0.002498374,0.201332285,0.043163931,0.031035518,0.00851732,0.003649288,0.428854527,0.299726216,0.266964611,0.000338142,0.01381587],\"y\":[0.396573007,0.781994224,0.941345513,0.831132412,0.712017834,0.915431738,0.899989486,0.786824107,0.626350224,0.813582063,0.735182583,0.665563583,0.90062499,0.745178163,0.905855775,0.651352704,0.639163077,0.799804807,0.821328104,0.640880644,0.933913231,0.921336651,0.744896293,0.763051808,0.836179912,0.547612607,0.934738934,0.779858291,0.867371082,0.951444268,0.866202772,0.466610909,0.859828949,0.751989543,0.87770915,0.740795195,0.949172199,0.825467646,0.704829216,0.834743679,0.801641524,0.794796526,0.706846774,0.733163178,0.541345119,0.908147573,0.870603263,0.714838803,0.537825167,0.718964577,0.870614409,0.881444871,0.886982977,0.633182645,0.948891878,0.747580588,0.66465199,0.858068526,0.75104779,0.809961379,0.811601937,0.829747558,0.909374893,0.959704638,0.872366488,0.551357508,0.735268712,0.773157001,0.837633669,0.738125861,0.747381449,0.90563643,0.671237648,0.772072434,0.557574093,0.853962779,0.858709276,0.71156615,0.924911439,0.895075202,0.649565637,0.693351328,0.864451885,0.551522553,0.889534533,0.803223193,0.894626856,0.767520964,0.759772122,0.759578407,0.863902867,0.908547819,0.955750287,0.797565043,0.936217487,0.734833717,0.880366504,0.824766099,0.915463448,0.862055779,0.888747811,0.885923445,0.842823207,0.900589406,0.854191244,0.690596163,0.926645339,0.715315044,0.833805263,0.726495862,0.451313615,0.749952674,0.936142623,0.939144194,0.587305248,0.649828613,0.905063033,0.831383407,0.826457024,0.857907116,0.593361557,0.608830452,0.731713951,0.663081884,0.892395437,0.974998116,0.599920273,0.759330094,0.806500256,0.711457908,0.708354175,0.898517907],\"type\":\"scatter\",\"xaxis\":\"x\",\"yaxis\":\"y\"},{\"hoverinfo\":\"text\",\"mode\":\"markers\",\"text\":[\"Healthy life expectancy: 52.59000015<br>Location: Afghanistan\",\"Healthy life expectancy: 68.70813751<br>Location: Albania\",\"Healthy life expectancy: 67.08278656<br>Location: United Arab Emirates\",\"Healthy life expectancy: 68.80380249<br>Location: Argentina\",\"Healthy life expectancy: 66.75065613<br>Location: Armenia\",\"Healthy life expectancy: 73.60453796<br>Location: Australia\",\"Healthy life expectancy: 73.00250244<br>Location: Austria\",\"Healthy life expectancy: 65.50839996<br>Location: Azerbaijan\",\"Healthy life expectancy: 53.40000153<br>Location: Burundi\",\"Healthy life expectancy: 72.00164795<br>Location: Belgium\",\"Healthy life expectancy: 54.31246567<br>Location: Benin\",\"Healthy life expectancy: 53.88945389<br>Location: Burkina Faso\",\"Healthy life expectancy: 64.50306702<br>Location: Bangladesh\",\"Healthy life expectancy: 66.80397797<br>Location: Bulgaria\",\"Healthy life expectancy: 68.5<br>Location: Bahrain\",\"Healthy life expectancy: 67.80813599<br>Location: Bosnia and Herzegovina\",\"Healthy life expectancy: 66.10433197<br>Location: Belarus\",\"Healthy life expectancy: 66.48016357<br>Location: Brazil\",\"Healthy life expectancy: 58.92445374<br>Location: Botswana\",\"Healthy life expectancy: 45.20000076<br>Location: Central African Republic\",\"Healthy life expectancy: 73.60160065<br>Location: Canada\",\"Healthy life expectancy: 74.10244751<br>Location: Switzerland\",\"Healthy life expectancy: 69.90061951<br>Location: Chile\",\"Healthy life expectancy: 52.7049408<br>Location: Cameroon\",\"Healthy life expectancy: 67.69958496<br>Location: Colombia\",\"Healthy life expectancy: 57.34901047<br>Location: Comoros\",\"Healthy life expectancy: 71.29985046<br>Location: Costa Rica\",\"Healthy life expectancy: 73.70222473<br>Location: Cyprus\",\"Healthy life expectancy: 72.20201874<br>Location: Germany\",\"Healthy life expectancy: 72.40250397<br>Location: Denmark\",\"Healthy life expectancy: 65.80748749<br>Location: Dominican Republic\",\"Healthy life expectancy: 65.90517426<br>Location: Algeria\",\"Healthy life expectancy: 68.50003815<br>Location: Ecuador\",\"Healthy life expectancy: 74.40270996<br>Location: Spain\",\"Healthy life expectancy: 68.60495758<br>Location: Estonia\",\"Healthy life expectancy: 58.63959122<br>Location: Ethiopia\",\"Healthy life expectancy: 71.9008255<br>Location: Finland\",\"Healthy life expectancy: 73.80193329<br>Location: France\",\"Healthy life expectancy: 59.71533966<br>Location: Gabon\",\"Healthy life expectancy: 72.30160522<br>Location: United Kingdom\",\"Healthy life expectancy: 64.49520874<br>Location: Georgia\",\"Healthy life expectancy: 57.20398712<br>Location: Ghana\",\"Healthy life expectancy: 54.46780014<br>Location: Guinea\",\"Healthy life expectancy: 55.0120163<br>Location: Gambia\",\"Healthy life expectancy: 72.40525818<br>Location: Greece\",\"Healthy life expectancy: 64.8089447<br>Location: Guatemala\",\"Healthy life expectancy: 67.19876862<br>Location: Honduras\",\"Healthy life expectancy: 70.21490479<br>Location: Croatia\",\"Healthy life expectancy: 55.59862518<br>Location: Haiti\",\"Healthy life expectancy: 67.60997009<br>Location: Hungary\",\"Healthy life expectancy: 62.15584946<br>Location: Indonesia\",\"Healthy life expectancy: 60.21518707<br>Location: India\",\"Healthy life expectancy: 72.30078888<br>Location: Ireland\",\"Healthy life expectancy: 59.90354919<br>Location: Iraq\",\"Healthy life expectancy: 73.0<br>Location: Iceland\",\"Healthy life expectancy: 73.20025635<br>Location: Israel\",\"Healthy life expectancy: 73.60168457<br>Location: Italy\",\"Healthy life expectancy: 67.09999847<br>Location: Jamaica\",\"Healthy life expectancy: 66.79975128<br>Location: Jordan\",\"Healthy life expectancy: 75.00096893<br>Location: Japan\",\"Healthy life expectancy: 64.60996246<br>Location: Kazakhstan\",\"Healthy life expectancy: 60.09693146<br>Location: Kenya\",\"Healthy life expectancy: 64.10601044<br>Location: Kyrgyzstan\",\"Healthy life expectancy: 61.52996826<br>Location: Cambodia\",\"Healthy life expectancy: 66.76764679<br>Location: Kuwait\",\"Healthy life expectancy: 67.10658264<br>Location: Lebanon\",\"Healthy life expectancy: 56.09631348<br>Location: Liberia\",\"Healthy life expectancy: 62.29999924<br>Location: Libya\",\"Healthy life expectancy: 67.20006561<br>Location: Sri Lanka\",\"Healthy life expectancy: 48.00362396<br>Location: Lesotho\",\"Healthy life expectancy: 67.29407501<br>Location: Lithuania\",\"Healthy life expectancy: 72.59999847<br>Location: Luxembourg\",\"Healthy life expectancy: 66.8074646<br>Location: Latvia\",\"Healthy life expectancy: 65.89624023<br>Location: Morocco\",\"Healthy life expectancy: 59.10542679<br>Location: Madagascar\",\"Healthy life expectancy: 70.59999847<br>Location: Maldives\",\"Healthy life expectancy: 68.29902649<br>Location: Mexico\",\"Healthy life expectancy: 51.72698212<br>Location: Mali\",\"Healthy life expectancy: 72.19999695<br>Location: Malta\",\"Healthy life expectancy: 58.96171188<br>Location: Myanmar\",\"Healthy life expectancy: 68.50534821<br>Location: Montenegro\",\"Healthy life expectancy: 62.30448532<br>Location: Mongolia\",\"Healthy life expectancy: 54.20582199<br>Location: Mozambique\",\"Healthy life expectancy: 57.01017761<br>Location: Mauritania\",\"Healthy life expectancy: 66.40434265<br>Location: Mauritius\",\"Healthy life expectancy: 57.59288788<br>Location: Malawi\",\"Healthy life expectancy: 67.10215759<br>Location: Malaysia\",\"Healthy life expectancy: 56.50148773<br>Location: Namibia\",\"Healthy life expectancy: 53.50009537<br>Location: Niger\",\"Healthy life expectancy: 49.86190796<br>Location: Nigeria\",\"Healthy life expectancy: 67.50717926<br>Location: Nicaragua\",\"Healthy life expectancy: 72.30091858<br>Location: Netherlands\",\"Healthy life expectancy: 73.20078278<br>Location: Norway\",\"Healthy life expectancy: 63.77917862<br>Location: Nepal\",\"Healthy life expectancy: 73.20262909<br>Location: New Zealand\",\"Healthy life expectancy: 58.25313568<br>Location: Pakistan\",\"Healthy life expectancy: 69.60301208<br>Location: Panama\",\"Healthy life expectancy: 68.10023499<br>Location: Peru\",\"Healthy life expectancy: 61.92676163<br>Location: Philippines\",\"Healthy life expectancy: 69.31113434<br>Location: Poland\",\"Healthy life expectancy: 72.40202332<br>Location: Portugal\",\"Healthy life expectancy: 65.63993835<br>Location: Paraguay\",\"Healthy life expectancy: 67.20723724<br>Location: Romania\",\"Healthy life expectancy: 61.09884644<br>Location: Rwanda\",\"Healthy life expectancy: 66.30514526<br>Location: Saudi Arabia\",\"Healthy life expectancy: 59.59915161<br>Location: Senegal\",\"Healthy life expectancy: 76.80458069<br>Location: Singapore\",\"Healthy life expectancy: 50.86514282<br>Location: Sierra Leone\",\"Healthy life expectancy: 66.10826111<br>Location: El Salvador\",\"Healthy life expectancy: 68.21020508<br>Location: Serbia\",\"Healthy life expectancy: 51.0<br>Location: South Sudan\",\"Healthy life expectancy: 68.90634155<br>Location: Slovakia\",\"Healthy life expectancy: 71.1029892<br>Location: Slovenia\",\"Healthy life expectancy: 72.60076904<br>Location: Sweden\",\"Healthy life expectancy: 48.22053909<br>Location: Chad\",\"Healthy life expectancy: 54.71989822<br>Location: Togo\",\"Healthy life expectancy: 67.25059509<br>Location: Thailand\",\"Healthy life expectancy: 64.10459137<br>Location: Tajikistan\",\"Healthy life expectancy: 62.21170807<br>Location: Turkmenistan\",\"Healthy life expectancy: 63.5<br>Location: Trinidad and Tobago\",\"Healthy life expectancy: 66.89785767<br>Location: Tunisia\",\"Healthy life expectancy: 66.90281677<br>Location: Turkey\",\"Healthy life expectancy: 55.70820236<br>Location: Uganda\",\"Healthy life expectancy: 64.60678101<br>Location: Ukraine\",\"Healthy life expectancy: 69.00254822<br>Location: Uruguay\",\"Healthy life expectancy: 65.10757446<br>Location: Uzbekistan\",\"Healthy life expectancy: 56.72728348<br>Location: Yemen\",\"Healthy life expectancy: 56.50601196<br>Location: South Africa\",\"Healthy life expectancy: 55.29937744<br>Location: Zambia\",\"Healthy life expectancy: 55.61725998<br>Location: Zimbabwe\",\"Healthy life expectancy: 61.78015137<br>Location: Egypt\",\"Healthy life expectancy: 69.2891922<br>Location: China\"],\"x\":[0.002163739,0.000502499,0.0053842,0.026741034,0.005419346,0.002883772,0.004875665,0.002342432,0.051661858,0.004199578,0.06452762,0.043668807,0.00154532,0.003013197,0.004204352,0.000321274,0.015899724,0.032291519,0.407560319,0.17121064,0.00702363,0.006131304,0.024019906,0.24407306,0.031848471,0.001183901,0.02109365,0.003539115,0.004614943,0.004120078,0.052635665,0.004090408,0.041168267,0.018652727,0.020385401,0.116508934,0.000782991,0.006500853,0.197340737,0.003553172,0.003174671,0.157467854,0.107592871,0.183163471,0.002384857,0.014439536,0.005467102,0.001376084,0.128451108,0.001870226,0.010196381,0.015410431,0.002683637,0.000850623,0.00403136,0.005491826,0.012414017,0.088095271,0.00222151,0.000842329,0.0067177,0.305973662,0.014557418,0.034849137,0.000675286,0.006715114,0.127374574,0.006021968,0.001055111,0.451738626,0.010500185,0.005019126,0.033754018,0.007385679,0.035414208,0.001683667,0.020663671,0.084714686,0.004694468,0.037329977,0.001294604,0.001047892,0.39005817,0.003171153,0.037756732,0.2415567,0.022782755,0.352518799,0.02980367,0.170834924,0.068278136,0.003214369,0.003292387,0.025657325,0.002139059,0.00638473,0.096265519,0.045313,0.019214993,0.002616519,0.046495941,0.041785546,0.004689288,0.104096265,0.007718808,0.049555475,0.008936079,0.11763992,0.038926097,0.00401256,0.184243097,0.000515274,0.001186897,0.002482691,0.105230349,0.140861224,0.097873109,0.0040251,0.010039227,0.068789928,0.010316137,0.002498374,0.201332285,0.043163931,0.031035518,0.00851732,0.003649288,0.428854527,0.299726216,0.266964611,0.000338142,0.01381587],\"y\":[52.59000015,68.70813751,67.08278656,68.80380249,66.75065613,73.60453796,73.00250244,65.50839996,53.40000153,72.00164795,54.31246567,53.88945389,64.50306702,66.80397797,68.5,67.80813599,66.10433197,66.48016357,58.92445374,45.20000076,73.60160065,74.10244751,69.90061951,52.7049408,67.69958496,57.34901047,71.29985046,73.70222473,72.20201874,72.40250397,65.80748749,65.90517426,68.50003815,74.40270996,68.60495758,58.63959122,71.9008255,73.80193329,59.71533966,72.30160522,64.49520874,57.20398712,54.46780014,55.0120163,72.40525818,64.8089447,67.19876862,70.21490479,55.59862518,67.60997009,62.15584946,60.21518707,72.30078888,59.90354919,73.0,73.20025635,73.60168457,67.09999847,66.79975128,75.00096893,64.60996246,60.09693146,64.10601044,61.52996826,66.76764679,67.10658264,56.09631348,62.29999924,67.20006561,48.00362396,67.29407501,72.59999847,66.8074646,65.89624023,59.10542679,70.59999847,68.29902649,51.72698212,72.19999695,58.96171188,68.50534821,62.30448532,54.20582199,57.01017761,66.40434265,57.59288788,67.10215759,56.50148773,53.50009537,49.86190796,67.50717926,72.30091858,73.20078278,63.77917862,73.20262909,58.25313568,69.60301208,68.10023499,61.92676163,69.31113434,72.40202332,65.63993835,67.20723724,61.09884644,66.30514526,59.59915161,76.80458069,50.86514282,66.10826111,68.21020508,51.0,68.90634155,71.1029892,72.60076904,48.22053909,54.71989822,67.25059509,64.10459137,62.21170807,63.5,66.89785767,66.90281677,55.70820236,64.60678101,69.00254822,65.10757446,56.72728348,56.50601196,55.29937744,55.61725998,61.78015137,69.2891922],\"type\":\"scatter\",\"xaxis\":\"x2\",\"yaxis\":\"y2\"},{\"hoverinfo\":\"text\",\"mode\":\"markers\",\"text\":[\"Social support: 0.470366955<br>Location: Afghanistan\",\"Social support: 0.671070457<br>Location: Albania\",\"Social support: 0.849181116<br>Location: United Arab Emirates\",\"Social support: 0.900567949<br>Location: Argentina\",\"Social support: 0.757479429<br>Location: Armenia\",\"Social support: 0.944854617<br>Location: Australia\",\"Social support: 0.928045869<br>Location: Austria\",\"Social support: 0.819308281<br>Location: Azerbaijan\",\"Social support: 0.490325719<br>Location: Burundi\",\"Social support: 0.911632538<br>Location: Belgium\",\"Social support: 0.468671143<br>Location: Benin\",\"Social support: 0.712943614<br>Location: Burkina Faso\",\"Social support: 0.687292993<br>Location: Bangladesh\",\"Social support: 0.937840343<br>Location: Bulgaria\",\"Social support: 0.876342118<br>Location: Bahrain\",\"Social support: 0.829204142<br>Location: Bosnia and Herzegovina\",\"Social support: 0.90674746<br>Location: Belarus\",\"Social support: 0.896723807<br>Location: Brazil\",\"Social support: 0.779121757<br>Location: Botswana\",\"Social support: 0.319459856<br>Location: Central African Republic\",\"Social support: 0.927176654<br>Location: Canada\",\"Social support: 0.942846596<br>Location: Switzerland\",\"Social support: 0.879713595<br>Location: Chile\",\"Social support: 0.700386405<br>Location: Cameroon\",\"Social support: 0.884440243<br>Location: Colombia\",\"Social support: 0.625662446<br>Location: Comoros\",\"Social support: 0.901545942<br>Location: Costa Rica\",\"Social support: 0.805996239<br>Location: Cyprus\",\"Social support: 0.898874462<br>Location: Germany\",\"Social support: 0.955990791<br>Location: Denmark\",\"Social support: 0.882085383<br>Location: Dominican Republic\",\"Social support: 0.803385139<br>Location: Algeria\",\"Social support: 0.836418986<br>Location: Ecuador\",\"Social support: 0.921125412<br>Location: Spain\",\"Social support: 0.934729993<br>Location: Estonia\",\"Social support: 0.743307352<br>Location: Ethiopia\",\"Social support: 0.954329729<br>Location: Finland\",\"Social support: 0.937103748<br>Location: France\",\"Social support: 0.787886858<br>Location: Gabon\",\"Social support: 0.93668282<br>Location: United Kingdom\",\"Social support: 0.629033029<br>Location: Georgia\",\"Social support: 0.728601098<br>Location: Ghana\",\"Social support: 0.637573481<br>Location: Guinea\",\"Social support: 0.6931687<br>Location: Gambia\",\"Social support: 0.814380348<br>Location: Greece\",\"Social support: 0.816621482<br>Location: Guatemala\",\"Social support: 0.821870148<br>Location: Honduras\",\"Social support: 0.874623716<br>Location: Croatia\",\"Social support: 0.593247831<br>Location: Haiti\",\"Social support: 0.921934128<br>Location: Hungary\",\"Social support: 0.808379889<br>Location: Indonesia\",\"Social support: 0.592200935<br>Location: India\",\"Social support: 0.942081571<br>Location: Ireland\",\"Social support: 0.747694969<br>Location: Iraq\",\"Social support: 0.974669576<br>Location: Iceland\",\"Social support: 0.913571239<br>Location: Israel\",\"Social support: 0.889878571<br>Location: Italy\",\"Social support: 0.915701866<br>Location: Jamaica\",\"Social support: 0.80216372<br>Location: Jordan\",\"Social support: 0.883545935<br>Location: Japan\",\"Social support: 0.934744895<br>Location: Kazakhstan\",\"Social support: 0.702652037<br>Location: Kenya\",\"Social support: 0.887228489<br>Location: Kyrgyzstan\",\"Social support: 0.773080647<br>Location: Cambodia\",\"Social support: 0.846475244<br>Location: Kuwait\",\"Social support: 0.824338138<br>Location: Lebanon\",\"Social support: 0.70928055<br>Location: Liberia\",\"Social support: 0.825942934<br>Location: Libya\",\"Social support: 0.825374067<br>Location: Sri Lanka\",\"Social support: 0.780495703<br>Location: Lesotho\",\"Social support: 0.926107109<br>Location: Lithuania\",\"Social support: 0.906912208<br>Location: Luxembourg\",\"Social support: 0.918288589<br>Location: Latvia\",\"Social support: 0.592628479<br>Location: Morocco\",\"Social support: 0.668195903<br>Location: Madagascar\",\"Social support: 0.91316092<br>Location: Maldives\",\"Social support: 0.838665426<br>Location: Mexico\",\"Social support: 0.731468976<br>Location: Mali\",\"Social support: 0.93037951<br>Location: Malta\",\"Social support: 0.78440702<br>Location: Myanmar\",\"Social support: 0.855314612<br>Location: Montenegro\",\"Social support: 0.937142491<br>Location: Mongolia\",\"Social support: 0.723874032<br>Location: Mozambique\",\"Social support: 0.790819228<br>Location: Mauritania\",\"Social support: 0.910357833<br>Location: Mauritius\",\"Social support: 0.544007301<br>Location: Malawi\",\"Social support: 0.816509426<br>Location: Malaysia\",\"Social support: 0.846880972<br>Location: Namibia\",\"Social support: 0.617435038<br>Location: Niger\",\"Social support: 0.73721689<br>Location: Nigeria\",\"Social support: 0.857497036<br>Location: Nicaragua\",\"Social support: 0.93913883<br>Location: Netherlands\",\"Social support: 0.952486575<br>Location: Norway\",\"Social support: 0.785512447<br>Location: Nepal\",\"Social support: 0.949118972<br>Location: New Zealand\",\"Social support: 0.689062297<br>Location: Pakistan\",\"Social support: 0.902094483<br>Location: Panama\",\"Social support: 0.831075251<br>Location: Peru\",\"Social support: 0.846730053<br>Location: Philippines\",\"Social support: 0.874257445<br>Location: Poland\",\"Social support: 0.886590719<br>Location: Portugal\",\"Social support: 0.898727894<br>Location: Paraguay\",\"Social support: 0.825161517<br>Location: Romania\",\"Social support: 0.54083544<br>Location: Rwanda\",\"Social support: 0.874067068<br>Location: Saudi Arabia\",\"Social support: 0.723616004<br>Location: Senegal\",\"Social support: 0.910268962<br>Location: Singapore\",\"Social support: 0.636142015<br>Location: Sierra Leone\",\"Social support: 0.806092262<br>Location: El Salvador\",\"Social support: 0.881475747<br>Location: Serbia\",\"Social support: 0.553707123<br>Location: South Sudan\",\"Social support: 0.922493756<br>Location: Slovakia\",\"Social support: 0.939575672<br>Location: Slovenia\",\"Social support: 0.926311195<br>Location: Sweden\",\"Social support: 0.632388055<br>Location: Chad\",\"Social support: 0.551312625<br>Location: Togo\",\"Social support: 0.889973223<br>Location: Thailand\",\"Social support: 0.835297108<br>Location: Tajikistan\",\"Social support: 0.958966196<br>Location: Turkmenistan\",\"Social support: 0.91529417<br>Location: Trinidad and Tobago\",\"Social support: 0.688718557<br>Location: Tunisia\",\"Social support: 0.826313555<br>Location: Turkey\",\"Social support: 0.764994621<br>Location: Uganda\",\"Social support: 0.878879368<br>Location: Ukraine\",\"Social support: 0.92281127<br>Location: Uruguay\",\"Social support: 0.926595807<br>Location: Uzbekistan\",\"Social support: 0.817980587<br>Location: Yemen\",\"Social support: 0.852532268<br>Location: South Africa\",\"Social support: 0.698824465<br>Location: Zambia\",\"Social support: 0.763092756<br>Location: Zimbabwe\",\"Social support: 0.735447824<br>Location: Egypt\",\"Social support: 0.798760593<br>Location: China\"],\"x\":[0.002163739,0.000502499,0.0053842,0.026741034,0.005419346,0.002883772,0.004875665,0.002342432,0.051661858,0.004199578,0.06452762,0.043668807,0.00154532,0.003013197,0.004204352,0.000321274,0.015899724,0.032291519,0.407560319,0.17121064,0.00702363,0.006131304,0.024019906,0.24407306,0.031848471,0.001183901,0.02109365,0.003539115,0.004614943,0.004120078,0.052635665,0.004090408,0.041168267,0.018652727,0.020385401,0.116508934,0.000782991,0.006500853,0.197340737,0.003553172,0.003174671,0.157467854,0.107592871,0.183163471,0.002384857,0.014439536,0.005467102,0.001376084,0.128451108,0.001870226,0.010196381,0.015410431,0.002683637,0.000850623,0.00403136,0.005491826,0.012414017,0.088095271,0.00222151,0.000842329,0.0067177,0.305973662,0.014557418,0.034849137,0.000675286,0.006715114,0.127374574,0.006021968,0.001055111,0.451738626,0.010500185,0.005019126,0.033754018,0.007385679,0.035414208,0.001683667,0.020663671,0.084714686,0.004694468,0.037329977,0.001294604,0.001047892,0.39005817,0.003171153,0.037756732,0.2415567,0.022782755,0.352518799,0.02980367,0.170834924,0.068278136,0.003214369,0.003292387,0.025657325,0.002139059,0.00638473,0.096265519,0.045313,0.019214993,0.002616519,0.046495941,0.041785546,0.004689288,0.104096265,0.007718808,0.049555475,0.008936079,0.11763992,0.038926097,0.00401256,0.184243097,0.000515274,0.001186897,0.002482691,0.105230349,0.140861224,0.097873109,0.0040251,0.010039227,0.068789928,0.010316137,0.002498374,0.201332285,0.043163931,0.031035518,0.00851732,0.003649288,0.428854527,0.299726216,0.266964611,0.000338142,0.01381587],\"y\":[0.470366955,0.671070457,0.849181116,0.900567949,0.757479429,0.944854617,0.928045869,0.819308281,0.490325719,0.911632538,0.468671143,0.712943614,0.687292993,0.937840343,0.876342118,0.829204142,0.90674746,0.896723807,0.779121757,0.319459856,0.927176654,0.942846596,0.879713595,0.700386405,0.884440243,0.625662446,0.901545942,0.805996239,0.898874462,0.955990791,0.882085383,0.803385139,0.836418986,0.921125412,0.934729993,0.743307352,0.954329729,0.937103748,0.787886858,0.93668282,0.629033029,0.728601098,0.637573481,0.6931687,0.814380348,0.816621482,0.821870148,0.874623716,0.593247831,0.921934128,0.808379889,0.592200935,0.942081571,0.747694969,0.974669576,0.913571239,0.889878571,0.915701866,0.80216372,0.883545935,0.934744895,0.702652037,0.887228489,0.773080647,0.846475244,0.824338138,0.70928055,0.825942934,0.825374067,0.780495703,0.926107109,0.906912208,0.918288589,0.592628479,0.668195903,0.91316092,0.838665426,0.731468976,0.93037951,0.78440702,0.855314612,0.937142491,0.723874032,0.790819228,0.910357833,0.544007301,0.816509426,0.846880972,0.617435038,0.73721689,0.857497036,0.93913883,0.952486575,0.785512447,0.949118972,0.689062297,0.902094483,0.831075251,0.846730053,0.874257445,0.886590719,0.898727894,0.825161517,0.54083544,0.874067068,0.723616004,0.910268962,0.636142015,0.806092262,0.881475747,0.553707123,0.922493756,0.939575672,0.926311195,0.632388055,0.551312625,0.889973223,0.835297108,0.958966196,0.91529417,0.688718557,0.826313555,0.764994621,0.878879368,0.92281127,0.926595807,0.817980587,0.852532268,0.698824465,0.763092756,0.735447824,0.798760593],\"type\":\"scatter\",\"xaxis\":\"x3\",\"yaxis\":\"y3\"},{\"hoverinfo\":\"text\",\"mode\":\"markers\",\"text\":[\"Logged GDP per capita: 7.462860584<br>Location: Afghanistan\",\"Logged GDP per capita: 9.417930603<br>Location: Albania\",\"Logged GDP per capita: 11.1099987<br>Location: United Arab Emirates\",\"Logged GDP per capita: 9.810955048<br>Location: Argentina\",\"Logged GDP per capita: 9.100476265<br>Location: Armenia\",\"Logged GDP per capita: 10.72059631<br>Location: Australia\",\"Logged GDP per capita: 10.7428236<br>Location: Austria\",\"Logged GDP per capita: 9.687726974<br>Location: Azerbaijan\",\"Logged GDP per capita: 6.492642403<br>Location: Burundi\",\"Logged GDP per capita: 10.6736393<br>Location: Belgium\",\"Logged GDP per capita: 7.674319744<br>Location: Benin\",\"Logged GDP per capita: 7.46854496<br>Location: Burkina Faso\",\"Logged GDP per capita: 8.287063599<br>Location: Bangladesh\",\"Logged GDP per capita: 9.869318962<br>Location: Bulgaria\",\"Logged GDP per capita: 10.67638016<br>Location: Bahrain\",\"Logged GDP per capita: 9.455817223<br>Location: Bosnia and Herzegovina\",\"Logged GDP per capita: 9.779945374<br>Location: Belarus\",\"Logged GDP per capita: 9.56643486<br>Location: Brazil\",\"Logged GDP per capita: 9.711203575<br>Location: Botswana\",\"Logged GDP per capita: 6.625160217<br>Location: Central African Republic\",\"Logged GDP per capita: 10.69236851<br>Location: Canada\",\"Logged GDP per capita: 10.97993279<br>Location: Switzerland\",\"Logged GDP per capita: 10.0320549<br>Location: Chile\",\"Logged GDP per capita: 8.118647575<br>Location: Cameroon\",\"Logged GDP per capita: 9.500369072<br>Location: Colombia\",\"Logged GDP per capita: 7.833630085<br>Location: Comoros\",\"Logged GDP per capita: 9.658156395<br>Location: Costa Rica\",\"Logged GDP per capita: 10.40570259<br>Location: Cyprus\",\"Logged GDP per capita: 10.7328186<br>Location: Germany\",\"Logged GDP per capita: 10.77400112<br>Location: Denmark\",\"Logged GDP per capita: 9.664880753<br>Location: Dominican Republic\",\"Logged GDP per capita: 9.537964821<br>Location: Algeria\",\"Logged GDP per capita: 9.246058464<br>Location: Ecuador\",\"Logged GDP per capita: 10.46292686<br>Location: Spain\",\"Logged GDP per capita: 10.34001732<br>Location: Estonia\",\"Logged GDP per capita: 7.509385586<br>Location: Ethiopia\",\"Logged GDP per capita: 10.63926697<br>Location: Finland\",\"Logged GDP per capita: 10.58422279<br>Location: France\",\"Logged GDP per capita: 9.680537224<br>Location: Gabon\",\"Logged GDP per capita: 10.60013485<br>Location: United Kingdom\",\"Logged GDP per capita: 9.226100922<br>Location: Georgia\",\"Logged GDP per capita: 8.350645065<br>Location: Ghana\",\"Logged GDP per capita: 7.750990391<br>Location: Guinea\",\"Logged GDP per capita: 7.321814537<br>Location: Gambia\",\"Logged GDP per capita: 10.13232613<br>Location: Greece\",\"Logged GDP per capita: 8.924805641<br>Location: Guatemala\",\"Logged GDP per capita: 8.424534798<br>Location: Honduras\",\"Logged GDP per capita: 10.07087517<br>Location: Croatia\",\"Logged GDP per capita: 7.411329269<br>Location: Haiti\",\"Logged GDP per capita: 10.24924374<br>Location: Hungary\",\"Logged GDP per capita: 9.36975193<br>Location: Indonesia\",\"Logged GDP per capita: 8.849823952<br>Location: India\",\"Logged GDP per capita: 11.16097832<br>Location: Ireland\",\"Logged GDP per capita: 9.661095619<br>Location: Iraq\",\"Logged GDP per capita: 10.77255917<br>Location: Iceland\",\"Logged GDP per capita: 10.41752529<br>Location: Israel\",\"Logged GDP per capita: 10.48183632<br>Location: Italy\",\"Logged GDP per capita: 9.006250381<br>Location: Jamaica\",\"Logged GDP per capita: 9.025999069<br>Location: Jordan\",\"Logged GDP per capita: 10.57968903<br>Location: Japan\",\"Logged GDP per capita: 10.11465836<br>Location: Kazakhstan\",\"Logged GDP per capita: 8.02977562<br>Location: Kenya\",\"Logged GDP per capita: 8.148405075<br>Location: Kyrgyzstan\",\"Logged GDP per capita: 8.249890327<br>Location: Cambodia\",\"Logged GDP per capita: 11.08982468<br>Location: Kuwait\",\"Logged GDP per capita: 9.3617239<br>Location: Lebanon\",\"Logged GDP per capita: 7.054380417<br>Location: Liberia\",\"Logged GDP per capita: 9.789815903<br>Location: Libya\",\"Logged GDP per capita: 9.389969826<br>Location: Sri Lanka\",\"Logged GDP per capita: 7.960488319<br>Location: Lesotho\",\"Logged GDP per capita: 10.34362602<br>Location: Lithuania\",\"Logged GDP per capita: 11.45068073<br>Location: Luxembourg\",\"Logged GDP per capita: 10.17531967<br>Location: Latvia\",\"Logged GDP per capita: 8.940313339<br>Location: Morocco\",\"Logged GDP per capita: 7.281685829<br>Location: Madagascar\",\"Logged GDP per capita: 9.518632889<br>Location: Maldives\",\"Logged GDP per capita: 9.797797203<br>Location: Mexico\",\"Logged GDP per capita: 7.629852295<br>Location: Mali\",\"Logged GDP per capita: 10.53383827<br>Location: Malta\",\"Logged GDP per capita: 8.680481911<br>Location: Myanmar\",\"Logged GDP per capita: 9.751860619<br>Location: Montenegro\",\"Logged GDP per capita: 9.412186623<br>Location: Mongolia\",\"Logged GDP per capita: 7.069345951<br>Location: Mozambique\",\"Logged GDP per capita: 8.233919144<br>Location: Mauritania\",\"Logged GDP per capita: 9.956786156<br>Location: Mauritius\",\"Logged GDP per capita: 7.062226295<br>Location: Malawi\",\"Logged GDP per capita: 10.26251888<br>Location: Malaysia\",\"Logged GDP per capita: 9.203141212<br>Location: Namibia\",\"Logged GDP per capita: 6.842166901<br>Location: Niger\",\"Logged GDP per capita: 8.57662487<br>Location: Nigeria\",\"Logged GDP per capita: 8.493160248<br>Location: Nicaragua\",\"Logged GDP per capita: 10.81271172<br>Location: Netherlands\",\"Logged GDP per capita: 11.08780384<br>Location: Norway\",\"Logged GDP per capita: 7.925357342<br>Location: Nepal\",\"Logged GDP per capita: 10.50094318<br>Location: New Zealand\",\"Logged GDP per capita: 8.482727051<br>Location: Pakistan\",\"Logged GDP per capita: 10.03423405<br>Location: Panama\",\"Logged GDP per capita: 9.456313133<br>Location: Peru\",\"Logged GDP per capita: 8.993545532<br>Location: Philippines\",\"Logged GDP per capita: 10.26512432<br>Location: Poland\",\"Logged GDP per capita: 10.26374245<br>Location: Portugal\",\"Logged GDP per capita: 9.389982224<br>Location: Paraguay\",\"Logged GDP per capita: 10.107584<br>Location: Romania\",\"Logged GDP per capita: 7.600104332<br>Location: Rwanda\",\"Logged GDP per capita: 10.79781246<br>Location: Saudi Arabia\",\"Logged GDP per capita: 8.118982315<br>Location: Senegal\",\"Logged GDP per capita: 11.39552116<br>Location: Singapore\",\"Logged GDP per capita: 7.26880312<br>Location: Sierra Leone\",\"Logged GDP per capita: 8.909075737<br>Location: El Salvador\",\"Logged GDP per capita: 9.680980682<br>Location: Serbia\",\"Logged GDP per capita: 7.425359726<br>Location: South Sudan\",\"Logged GDP per capita: 10.34774971<br>Location: Slovakia\",\"Logged GDP per capita: 10.39232254<br>Location: Slovenia\",\"Logged GDP per capita: 10.75879383<br>Location: Sweden\",\"Logged GDP per capita: 7.467963696<br>Location: Chad\",\"Logged GDP per capita: 7.357711315<br>Location: Togo\",\"Logged GDP per capita: 9.741791725<br>Location: Thailand\",\"Logged GDP per capita: 8.024810791<br>Location: Tajikistan\",\"Logged GDP per capita: 9.74803257<br>Location: Turkmenistan\",\"Logged GDP per capita: 10.26000214<br>Location: Trinidad and Tobago\",\"Logged GDP per capita: 9.314972878<br>Location: Tunisia\",\"Logged GDP per capita: 10.12941933<br>Location: Turkey\",\"Logged GDP per capita: 7.500389576<br>Location: Uganda\",\"Logged GDP per capita: 9.010690689<br>Location: Ukraine\",\"Logged GDP per capita: 9.948192596<br>Location: Uruguay\",\"Logged GDP per capita: 8.740371704<br>Location: Uzbekistan\",\"Logged GDP per capita: 7.759682655<br>Location: Yemen\",\"Logged GDP per capita: 9.403370857<br>Location: South Africa\",\"Logged GDP per capita: 8.224720001<br>Location: Zambia\",\"Logged GDP per capita: 7.865711689<br>Location: Zimbabwe\",\"Logged GDP per capita: 9.316541672<br>Location: Egypt\",\"Logged GDP per capita: 9.688568115<br>Location: China\"],\"x\":[0.002163739,0.000502499,0.0053842,0.026741034,0.005419346,0.002883772,0.004875665,0.002342432,0.051661858,0.004199578,0.06452762,0.043668807,0.00154532,0.003013197,0.004204352,0.000321274,0.015899724,0.032291519,0.407560319,0.17121064,0.00702363,0.006131304,0.024019906,0.24407306,0.031848471,0.001183901,0.02109365,0.003539115,0.004614943,0.004120078,0.052635665,0.004090408,0.041168267,0.018652727,0.020385401,0.116508934,0.000782991,0.006500853,0.197340737,0.003553172,0.003174671,0.157467854,0.107592871,0.183163471,0.002384857,0.014439536,0.005467102,0.001376084,0.128451108,0.001870226,0.010196381,0.015410431,0.002683637,0.000850623,0.00403136,0.005491826,0.012414017,0.088095271,0.00222151,0.000842329,0.0067177,0.305973662,0.014557418,0.034849137,0.000675286,0.006715114,0.127374574,0.006021968,0.001055111,0.451738626,0.010500185,0.005019126,0.033754018,0.007385679,0.035414208,0.001683667,0.020663671,0.084714686,0.004694468,0.037329977,0.001294604,0.001047892,0.39005817,0.003171153,0.037756732,0.2415567,0.022782755,0.352518799,0.02980367,0.170834924,0.068278136,0.003214369,0.003292387,0.025657325,0.002139059,0.00638473,0.096265519,0.045313,0.019214993,0.002616519,0.046495941,0.041785546,0.004689288,0.104096265,0.007718808,0.049555475,0.008936079,0.11763992,0.038926097,0.00401256,0.184243097,0.000515274,0.001186897,0.002482691,0.105230349,0.140861224,0.097873109,0.0040251,0.010039227,0.068789928,0.010316137,0.002498374,0.201332285,0.043163931,0.031035518,0.00851732,0.003649288,0.428854527,0.299726216,0.266964611,0.000338142,0.01381587],\"y\":[7.462860584,9.417930603,11.1099987,9.810955048,9.100476265,10.72059631,10.7428236,9.687726974,6.492642403,10.6736393,7.674319744,7.46854496,8.287063599,9.869318962,10.67638016,9.455817223,9.779945374,9.56643486,9.711203575,6.625160217,10.69236851,10.97993279,10.0320549,8.118647575,9.500369072,7.833630085,9.658156395,10.40570259,10.7328186,10.77400112,9.664880753,9.537964821,9.246058464,10.46292686,10.34001732,7.509385586,10.63926697,10.58422279,9.680537224,10.60013485,9.226100922,8.350645065,7.750990391,7.321814537,10.13232613,8.924805641,8.424534798,10.07087517,7.411329269,10.24924374,9.36975193,8.849823952,11.16097832,9.661095619,10.77255917,10.41752529,10.48183632,9.006250381,9.025999069,10.57968903,10.11465836,8.02977562,8.148405075,8.249890327,11.08982468,9.3617239,7.054380417,9.789815903,9.389969826,7.960488319,10.34362602,11.45068073,10.17531967,8.940313339,7.281685829,9.518632889,9.797797203,7.629852295,10.53383827,8.680481911,9.751860619,9.412186623,7.069345951,8.233919144,9.956786156,7.062226295,10.26251888,9.203141212,6.842166901,8.57662487,8.493160248,10.81271172,11.08780384,7.925357342,10.50094318,8.482727051,10.03423405,9.456313133,8.993545532,10.26512432,10.26374245,9.389982224,10.107584,7.600104332,10.79781246,8.118982315,11.39552116,7.26880312,8.909075737,9.680980682,7.425359726,10.34774971,10.39232254,10.75879383,7.467963696,7.357711315,9.741791725,8.024810791,9.74803257,10.26000214,9.314972878,10.12941933,7.500389576,9.010690689,9.948192596,8.740371704,7.759682655,9.403370857,8.224720001,7.865711689,9.316541672,9.688568115],\"type\":\"scatter\",\"xaxis\":\"x4\",\"yaxis\":\"y4\"}],\"layout\":{\"template\":{\"data\":{\"histogram2dcontour\":[{\"type\":\"histogram2dcontour\",\"colorbar\":{\"outlinewidth\":0,\"ticks\":\"\"},\"colorscale\":[[0.0,\"#0d0887\"],[0.1111111111111111,\"#46039f\"],[0.2222222222222222,\"#7201a8\"],[0.3333333333333333,\"#9c179e\"],[0.4444444444444444,\"#bd3786\"],[0.5555555555555556,\"#d8576b\"],[0.6666666666666666,\"#ed7953\"],[0.7777777777777778,\"#fb9f3a\"],[0.8888888888888888,\"#fdca26\"],[1.0,\"#f0f921\"]]}],\"choropleth\":[{\"type\":\"choropleth\",\"colorbar\":{\"outlinewidth\":0,\"ticks\":\"\"}}],\"histogram2d\":[{\"type\":\"histogram2d\",\"colorbar\":{\"outlinewidth\":0,\"ticks\":\"\"},\"colorscale\":[[0.0,\"#0d0887\"],[0.1111111111111111,\"#46039f\"],[0.2222222222222222,\"#7201a8\"],[0.3333333333333333,\"#9c179e\"],[0.4444444444444444,\"#bd3786\"],[0.5555555555555556,\"#d8576b\"],[0.6666666666666666,\"#ed7953\"],[0.7777777777777778,\"#fb9f3a\"],[0.8888888888888888,\"#fdca26\"],[1.0,\"#f0f921\"]]}],\"heatmap\":[{\"type\":\"heatmap\",\"colorbar\":{\"outlinewidth\":0,\"ticks\":\"\"},\"colorscale\":[[0.0,\"#0d0887\"],[0.1111111111111111,\"#46039f\"],[0.2222222222222222,\"#7201a8\"],[0.3333333333333333,\"#9c179e\"],[0.4444444444444444,\"#bd3786\"],[0.5555555555555556,\"#d8576b\"],[0.6666666666666666,\"#ed7953\"],[0.7777777777777778,\"#fb9f3a\"],[0.8888888888888888,\"#fdca26\"],[1.0,\"#f0f921\"]]}],\"heatmapgl\":[{\"type\":\"heatmapgl\",\"colorbar\":{\"outlinewidth\":0,\"ticks\":\"\"},\"colorscale\":[[0.0,\"#0d0887\"],[0.1111111111111111,\"#46039f\"],[0.2222222222222222,\"#7201a8\"],[0.3333333333333333,\"#9c179e\"],[0.4444444444444444,\"#bd3786\"],[0.5555555555555556,\"#d8576b\"],[0.6666666666666666,\"#ed7953\"],[0.7777777777777778,\"#fb9f3a\"],[0.8888888888888888,\"#fdca26\"],[1.0,\"#f0f921\"]]}],\"contourcarpet\":[{\"type\":\"contourcarpet\",\"colorbar\":{\"outlinewidth\":0,\"ticks\":\"\"}}],\"contour\":[{\"type\":\"contour\",\"colorbar\":{\"outlinewidth\":0,\"ticks\":\"\"},\"colorscale\":[[0.0,\"#0d0887\"],[0.1111111111111111,\"#46039f\"],[0.2222222222222222,\"#7201a8\"],[0.3333333333333333,\"#9c179e\"],[0.4444444444444444,\"#bd3786\"],[0.5555555555555556,\"#d8576b\"],[0.6666666666666666,\"#ed7953\"],[0.7777777777777778,\"#fb9f3a\"],[0.8888888888888888,\"#fdca26\"],[1.0,\"#f0f921\"]]}],\"surface\":[{\"type\":\"surface\",\"colorbar\":{\"outlinewidth\":0,\"ticks\":\"\"},\"colorscale\":[[0.0,\"#0d0887\"],[0.1111111111111111,\"#46039f\"],[0.2222222222222222,\"#7201a8\"],[0.3333333333333333,\"#9c179e\"],[0.4444444444444444,\"#bd3786\"],[0.5555555555555556,\"#d8576b\"],[0.6666666666666666,\"#ed7953\"],[0.7777777777777778,\"#fb9f3a\"],[0.8888888888888888,\"#fdca26\"],[1.0,\"#f0f921\"]]}],\"mesh3d\":[{\"type\":\"mesh3d\",\"colorbar\":{\"outlinewidth\":0,\"ticks\":\"\"}}],\"scatter\":[{\"fillpattern\":{\"fillmode\":\"overlay\",\"size\":10,\"solidity\":0.2},\"type\":\"scatter\"}],\"parcoords\":[{\"type\":\"parcoords\",\"line\":{\"colorbar\":{\"outlinewidth\":0,\"ticks\":\"\"}}}],\"scatterpolargl\":[{\"type\":\"scatterpolargl\",\"marker\":{\"colorbar\":{\"outlinewidth\":0,\"ticks\":\"\"}}}],\"bar\":[{\"error_x\":{\"color\":\"#2a3f5f\"},\"error_y\":{\"color\":\"#2a3f5f\"},\"marker\":{\"line\":{\"color\":\"#E5ECF6\",\"width\":0.5},\"pattern\":{\"fillmode\":\"overlay\",\"size\":10,\"solidity\":0.2}},\"type\":\"bar\"}],\"scattergeo\":[{\"type\":\"scattergeo\",\"marker\":{\"colorbar\":{\"outlinewidth\":0,\"ticks\":\"\"}}}],\"scatterpolar\":[{\"type\":\"scatterpolar\",\"marker\":{\"colorbar\":{\"outlinewidth\":0,\"ticks\":\"\"}}}],\"histogram\":[{\"marker\":{\"pattern\":{\"fillmode\":\"overlay\",\"size\":10,\"solidity\":0.2}},\"type\":\"histogram\"}],\"scattergl\":[{\"type\":\"scattergl\",\"marker\":{\"colorbar\":{\"outlinewidth\":0,\"ticks\":\"\"}}}],\"scatter3d\":[{\"type\":\"scatter3d\",\"line\":{\"colorbar\":{\"outlinewidth\":0,\"ticks\":\"\"}},\"marker\":{\"colorbar\":{\"outlinewidth\":0,\"ticks\":\"\"}}}],\"scattermapbox\":[{\"type\":\"scattermapbox\",\"marker\":{\"colorbar\":{\"outlinewidth\":0,\"ticks\":\"\"}}}],\"scatterternary\":[{\"type\":\"scatterternary\",\"marker\":{\"colorbar\":{\"outlinewidth\":0,\"ticks\":\"\"}}}],\"scattercarpet\":[{\"type\":\"scattercarpet\",\"marker\":{\"colorbar\":{\"outlinewidth\":0,\"ticks\":\"\"}}}],\"carpet\":[{\"aaxis\":{\"endlinecolor\":\"#2a3f5f\",\"gridcolor\":\"white\",\"linecolor\":\"white\",\"minorgridcolor\":\"white\",\"startlinecolor\":\"#2a3f5f\"},\"baxis\":{\"endlinecolor\":\"#2a3f5f\",\"gridcolor\":\"white\",\"linecolor\":\"white\",\"minorgridcolor\":\"white\",\"startlinecolor\":\"#2a3f5f\"},\"type\":\"carpet\"}],\"table\":[{\"cells\":{\"fill\":{\"color\":\"#EBF0F8\"},\"line\":{\"color\":\"white\"}},\"header\":{\"fill\":{\"color\":\"#C8D4E3\"},\"line\":{\"color\":\"white\"}},\"type\":\"table\"}],\"barpolar\":[{\"marker\":{\"line\":{\"color\":\"#E5ECF6\",\"width\":0.5},\"pattern\":{\"fillmode\":\"overlay\",\"size\":10,\"solidity\":0.2}},\"type\":\"barpolar\"}],\"pie\":[{\"automargin\":true,\"type\":\"pie\"}]},\"layout\":{\"autotypenumbers\":\"strict\",\"colorway\":[\"#636efa\",\"#EF553B\",\"#00cc96\",\"#ab63fa\",\"#FFA15A\",\"#19d3f3\",\"#FF6692\",\"#B6E880\",\"#FF97FF\",\"#FECB52\"],\"font\":{\"color\":\"#2a3f5f\"},\"hovermode\":\"closest\",\"hoverlabel\":{\"align\":\"left\"},\"paper_bgcolor\":\"white\",\"plot_bgcolor\":\"#E5ECF6\",\"polar\":{\"bgcolor\":\"#E5ECF6\",\"angularaxis\":{\"gridcolor\":\"white\",\"linecolor\":\"white\",\"ticks\":\"\"},\"radialaxis\":{\"gridcolor\":\"white\",\"linecolor\":\"white\",\"ticks\":\"\"}},\"ternary\":{\"bgcolor\":\"#E5ECF6\",\"aaxis\":{\"gridcolor\":\"white\",\"linecolor\":\"white\",\"ticks\":\"\"},\"baxis\":{\"gridcolor\":\"white\",\"linecolor\":\"white\",\"ticks\":\"\"},\"caxis\":{\"gridcolor\":\"white\",\"linecolor\":\"white\",\"ticks\":\"\"}},\"coloraxis\":{\"colorbar\":{\"outlinewidth\":0,\"ticks\":\"\"}},\"colorscale\":{\"sequential\":[[0.0,\"#0d0887\"],[0.1111111111111111,\"#46039f\"],[0.2222222222222222,\"#7201a8\"],[0.3333333333333333,\"#9c179e\"],[0.4444444444444444,\"#bd3786\"],[0.5555555555555556,\"#d8576b\"],[0.6666666666666666,\"#ed7953\"],[0.7777777777777778,\"#fb9f3a\"],[0.8888888888888888,\"#fdca26\"],[1.0,\"#f0f921\"]],\"sequentialminus\":[[0.0,\"#0d0887\"],[0.1111111111111111,\"#46039f\"],[0.2222222222222222,\"#7201a8\"],[0.3333333333333333,\"#9c179e\"],[0.4444444444444444,\"#bd3786\"],[0.5555555555555556,\"#d8576b\"],[0.6666666666666666,\"#ed7953\"],[0.7777777777777778,\"#fb9f3a\"],[0.8888888888888888,\"#fdca26\"],[1.0,\"#f0f921\"]],\"diverging\":[[0,\"#8e0152\"],[0.1,\"#c51b7d\"],[0.2,\"#de77ae\"],[0.3,\"#f1b6da\"],[0.4,\"#fde0ef\"],[0.5,\"#f7f7f7\"],[0.6,\"#e6f5d0\"],[0.7,\"#b8e186\"],[0.8,\"#7fbc41\"],[0.9,\"#4d9221\"],[1,\"#276419\"]]},\"xaxis\":{\"gridcolor\":\"white\",\"linecolor\":\"white\",\"ticks\":\"\",\"title\":{\"standoff\":15},\"zerolinecolor\":\"white\",\"automargin\":true,\"zerolinewidth\":2},\"yaxis\":{\"gridcolor\":\"white\",\"linecolor\":\"white\",\"ticks\":\"\",\"title\":{\"standoff\":15},\"zerolinecolor\":\"white\",\"automargin\":true,\"zerolinewidth\":2},\"scene\":{\"xaxis\":{\"backgroundcolor\":\"#E5ECF6\",\"gridcolor\":\"white\",\"linecolor\":\"white\",\"showbackground\":true,\"ticks\":\"\",\"zerolinecolor\":\"white\",\"gridwidth\":2},\"yaxis\":{\"backgroundcolor\":\"#E5ECF6\",\"gridcolor\":\"white\",\"linecolor\":\"white\",\"showbackground\":true,\"ticks\":\"\",\"zerolinecolor\":\"white\",\"gridwidth\":2},\"zaxis\":{\"backgroundcolor\":\"#E5ECF6\",\"gridcolor\":\"white\",\"linecolor\":\"white\",\"showbackground\":true,\"ticks\":\"\",\"zerolinecolor\":\"white\",\"gridwidth\":2}},\"shapedefaults\":{\"line\":{\"color\":\"#2a3f5f\"}},\"annotationdefaults\":{\"arrowcolor\":\"#2a3f5f\",\"arrowhead\":0,\"arrowwidth\":1},\"geo\":{\"bgcolor\":\"white\",\"landcolor\":\"#E5ECF6\",\"subunitcolor\":\"white\",\"showland\":true,\"showlakes\":true,\"lakecolor\":\"white\"},\"title\":{\"x\":0.05},\"mapbox\":{\"style\":\"light\"}}},\"xaxis\":{\"anchor\":\"y\",\"domain\":[0.0,0.45],\"title\":{\"text\":\"HIV\"}},\"yaxis\":{\"anchor\":\"x\",\"domain\":[0.625,1.0]},\"xaxis2\":{\"anchor\":\"y2\",\"domain\":[0.55,1.0]},\"yaxis2\":{\"anchor\":\"x2\",\"domain\":[0.625,1.0]},\"xaxis3\":{\"anchor\":\"y3\",\"domain\":[0.0,0.45]},\"yaxis3\":{\"anchor\":\"x3\",\"domain\":[0.0,0.375]},\"xaxis4\":{\"anchor\":\"y4\",\"domain\":[0.55,1.0]},\"yaxis4\":{\"anchor\":\"x4\",\"domain\":[0.0,0.375]},\"annotations\":[{\"font\":{\"size\":16},\"showarrow\":false,\"text\":\"HIV death rates and Freedom to make life choices\",\"x\":0.225,\"xanchor\":\"center\",\"xref\":\"paper\",\"y\":1.0,\"yanchor\":\"bottom\",\"yref\":\"paper\"},{\"font\":{\"size\":16},\"showarrow\":false,\"text\":\"HIV death rates and Healthy life expectancy\",\"x\":0.775,\"xanchor\":\"center\",\"xref\":\"paper\",\"y\":1.0,\"yanchor\":\"bottom\",\"yref\":\"paper\"},{\"font\":{\"size\":16},\"showarrow\":false,\"text\":\"HIV death rates and Social support\",\"x\":0.225,\"xanchor\":\"center\",\"xref\":\"paper\",\"y\":0.375,\"yanchor\":\"bottom\",\"yref\":\"paper\"},{\"font\":{\"size\":16},\"showarrow\":false,\"text\":\"HIV death rates and Logged GDP per capita\",\"x\":0.775,\"xanchor\":\"center\",\"xref\":\"paper\",\"y\":0.375,\"yanchor\":\"bottom\",\"yref\":\"paper\"}],\"title\":{\"text\":\"Scatterplots of HIV death rates and WHR Measurements of Happiness (y-axis)\",\"x\":0.5,\"xanchor\":\"center\"},\"showlegend\":false,\"width\":900,\"height\":600.0}}'"
      ]
     },
     "execution_count": 245,
     "metadata": {},
     "output_type": "execute_result"
    }
   ],
   "source": [
    "#Json Analysis2\n",
    "json_9 = pio.to_json(figCompare2)\n",
    "json_9"
   ]
  },
  {
   "cell_type": "code",
   "execution_count": 246,
   "id": "96a8ccbd",
   "metadata": {},
   "outputs": [
    {
     "data": {
      "text/plain": [
       "'{\"data\":[{\"hoverinfo\":\"text\",\"mode\":\"markers\",\"text\":[\"Freedom to make life choices: 0.396573007<br>Location: Afghanistan\",\"Freedom to make life choices: 0.781994224<br>Location: Albania\",\"Freedom to make life choices: 0.941345513<br>Location: United Arab Emirates\",\"Freedom to make life choices: 0.831132412<br>Location: Argentina\",\"Freedom to make life choices: 0.712017834<br>Location: Armenia\",\"Freedom to make life choices: 0.915431738<br>Location: Australia\",\"Freedom to make life choices: 0.899989486<br>Location: Austria\",\"Freedom to make life choices: 0.786824107<br>Location: Azerbaijan\",\"Freedom to make life choices: 0.626350224<br>Location: Burundi\",\"Freedom to make life choices: 0.813582063<br>Location: Belgium\",\"Freedom to make life choices: 0.735182583<br>Location: Benin\",\"Freedom to make life choices: 0.665563583<br>Location: Burkina Faso\",\"Freedom to make life choices: 0.90062499<br>Location: Bangladesh\",\"Freedom to make life choices: 0.745178163<br>Location: Bulgaria\",\"Freedom to make life choices: 0.905855775<br>Location: Bahrain\",\"Freedom to make life choices: 0.651352704<br>Location: Bosnia and Herzegovina\",\"Freedom to make life choices: 0.639163077<br>Location: Belarus\",\"Freedom to make life choices: 0.799804807<br>Location: Brazil\",\"Freedom to make life choices: 0.821328104<br>Location: Botswana\",\"Freedom to make life choices: 0.640880644<br>Location: Central African Republic\",\"Freedom to make life choices: 0.933913231<br>Location: Canada\",\"Freedom to make life choices: 0.921336651<br>Location: Switzerland\",\"Freedom to make life choices: 0.744896293<br>Location: Chile\",\"Freedom to make life choices: 0.763051808<br>Location: Cameroon\",\"Freedom to make life choices: 0.836179912<br>Location: Colombia\",\"Freedom to make life choices: 0.547612607<br>Location: Comoros\",\"Freedom to make life choices: 0.934738934<br>Location: Costa Rica\",\"Freedom to make life choices: 0.779858291<br>Location: Cyprus\",\"Freedom to make life choices: 0.867371082<br>Location: Germany\",\"Freedom to make life choices: 0.951444268<br>Location: Denmark\",\"Freedom to make life choices: 0.866202772<br>Location: Dominican Republic\",\"Freedom to make life choices: 0.466610909<br>Location: Algeria\",\"Freedom to make life choices: 0.859828949<br>Location: Ecuador\",\"Freedom to make life choices: 0.751989543<br>Location: Spain\",\"Freedom to make life choices: 0.87770915<br>Location: Estonia\",\"Freedom to make life choices: 0.740795195<br>Location: Ethiopia\",\"Freedom to make life choices: 0.949172199<br>Location: Finland\",\"Freedom to make life choices: 0.825467646<br>Location: France\",\"Freedom to make life choices: 0.704829216<br>Location: Gabon\",\"Freedom to make life choices: 0.834743679<br>Location: United Kingdom\",\"Freedom to make life choices: 0.801641524<br>Location: Georgia\",\"Freedom to make life choices: 0.794796526<br>Location: Ghana\",\"Freedom to make life choices: 0.706846774<br>Location: Guinea\",\"Freedom to make life choices: 0.733163178<br>Location: Gambia\",\"Freedom to make life choices: 0.541345119<br>Location: Greece\",\"Freedom to make life choices: 0.908147573<br>Location: Guatemala\",\"Freedom to make life choices: 0.870603263<br>Location: Honduras\",\"Freedom to make life choices: 0.714838803<br>Location: Croatia\",\"Freedom to make life choices: 0.537825167<br>Location: Haiti\",\"Freedom to make life choices: 0.718964577<br>Location: Hungary\",\"Freedom to make life choices: 0.870614409<br>Location: Indonesia\",\"Freedom to make life choices: 0.881444871<br>Location: India\",\"Freedom to make life choices: 0.886982977<br>Location: Ireland\",\"Freedom to make life choices: 0.633182645<br>Location: Iraq\",\"Freedom to make life choices: 0.948891878<br>Location: Iceland\",\"Freedom to make life choices: 0.747580588<br>Location: Israel\",\"Freedom to make life choices: 0.66465199<br>Location: Italy\",\"Freedom to make life choices: 0.858068526<br>Location: Jamaica\",\"Freedom to make life choices: 0.75104779<br>Location: Jordan\",\"Freedom to make life choices: 0.809961379<br>Location: Japan\",\"Freedom to make life choices: 0.811601937<br>Location: Kazakhstan\",\"Freedom to make life choices: 0.829747558<br>Location: Kenya\",\"Freedom to make life choices: 0.909374893<br>Location: Kyrgyzstan\",\"Freedom to make life choices: 0.959704638<br>Location: Cambodia\",\"Freedom to make life choices: 0.872366488<br>Location: Kuwait\",\"Freedom to make life choices: 0.551357508<br>Location: Lebanon\",\"Freedom to make life choices: 0.735268712<br>Location: Liberia\",\"Freedom to make life choices: 0.773157001<br>Location: Libya\",\"Freedom to make life choices: 0.837633669<br>Location: Sri Lanka\",\"Freedom to make life choices: 0.738125861<br>Location: Lesotho\",\"Freedom to make life choices: 0.747381449<br>Location: Lithuania\",\"Freedom to make life choices: 0.90563643<br>Location: Luxembourg\",\"Freedom to make life choices: 0.671237648<br>Location: Latvia\",\"Freedom to make life choices: 0.772072434<br>Location: Morocco\",\"Freedom to make life choices: 0.557574093<br>Location: Madagascar\",\"Freedom to make life choices: 0.853962779<br>Location: Maldives\",\"Freedom to make life choices: 0.858709276<br>Location: Mexico\",\"Freedom to make life choices: 0.71156615<br>Location: Mali\",\"Freedom to make life choices: 0.924911439<br>Location: Malta\",\"Freedom to make life choices: 0.895075202<br>Location: Myanmar\",\"Freedom to make life choices: 0.649565637<br>Location: Montenegro\",\"Freedom to make life choices: 0.693351328<br>Location: Mongolia\",\"Freedom to make life choices: 0.864451885<br>Location: Mozambique\",\"Freedom to make life choices: 0.551522553<br>Location: Mauritania\",\"Freedom to make life choices: 0.889534533<br>Location: Mauritius\",\"Freedom to make life choices: 0.803223193<br>Location: Malawi\",\"Freedom to make life choices: 0.894626856<br>Location: Malaysia\",\"Freedom to make life choices: 0.767520964<br>Location: Namibia\",\"Freedom to make life choices: 0.759772122<br>Location: Niger\",\"Freedom to make life choices: 0.759578407<br>Location: Nigeria\",\"Freedom to make life choices: 0.863902867<br>Location: Nicaragua\",\"Freedom to make life choices: 0.908547819<br>Location: Netherlands\",\"Freedom to make life choices: 0.955750287<br>Location: Norway\",\"Freedom to make life choices: 0.797565043<br>Location: Nepal\",\"Freedom to make life choices: 0.936217487<br>Location: New Zealand\",\"Freedom to make life choices: 0.734833717<br>Location: Pakistan\",\"Freedom to make life choices: 0.880366504<br>Location: Panama\",\"Freedom to make life choices: 0.824766099<br>Location: Peru\",\"Freedom to make life choices: 0.915463448<br>Location: Philippines\",\"Freedom to make life choices: 0.862055779<br>Location: Poland\",\"Freedom to make life choices: 0.888747811<br>Location: Portugal\",\"Freedom to make life choices: 0.885923445<br>Location: Paraguay\",\"Freedom to make life choices: 0.842823207<br>Location: Romania\",\"Freedom to make life choices: 0.900589406<br>Location: Rwanda\",\"Freedom to make life choices: 0.854191244<br>Location: Saudi Arabia\",\"Freedom to make life choices: 0.690596163<br>Location: Senegal\",\"Freedom to make life choices: 0.926645339<br>Location: Singapore\",\"Freedom to make life choices: 0.715315044<br>Location: Sierra Leone\",\"Freedom to make life choices: 0.833805263<br>Location: El Salvador\",\"Freedom to make life choices: 0.726495862<br>Location: Serbia\",\"Freedom to make life choices: 0.451313615<br>Location: South Sudan\",\"Freedom to make life choices: 0.749952674<br>Location: Slovakia\",\"Freedom to make life choices: 0.936142623<br>Location: Slovenia\",\"Freedom to make life choices: 0.939144194<br>Location: Sweden\",\"Freedom to make life choices: 0.587305248<br>Location: Chad\",\"Freedom to make life choices: 0.649828613<br>Location: Togo\",\"Freedom to make life choices: 0.905063033<br>Location: Thailand\",\"Freedom to make life choices: 0.831383407<br>Location: Tajikistan\",\"Freedom to make life choices: 0.826457024<br>Location: Turkmenistan\",\"Freedom to make life choices: 0.857907116<br>Location: Trinidad and Tobago\",\"Freedom to make life choices: 0.593361557<br>Location: Tunisia\",\"Freedom to make life choices: 0.608830452<br>Location: Turkey\",\"Freedom to make life choices: 0.731713951<br>Location: Uganda\",\"Freedom to make life choices: 0.663081884<br>Location: Ukraine\",\"Freedom to make life choices: 0.892395437<br>Location: Uruguay\",\"Freedom to make life choices: 0.974998116<br>Location: Uzbekistan\",\"Freedom to make life choices: 0.599920273<br>Location: Yemen\",\"Freedom to make life choices: 0.759330094<br>Location: South Africa\",\"Freedom to make life choices: 0.806500256<br>Location: Zambia\",\"Freedom to make life choices: 0.711457908<br>Location: Zimbabwe\",\"Freedom to make life choices: 0.708354175<br>Location: Egypt\",\"Freedom to make life choices: 0.898517907<br>Location: China\"],\"x\":[0.179838083,0.173300847,0.156872548,0.078702551,0.198225059,0.08148769,0.092532788,0.228278271,0.053175034,0.069938826,0.053680666,0.055825361,0.14971722,0.17166366,0.174308426,0.141959703,0.2030117,0.088641179,0.046974311,0.043417196,0.09065454,0.077152232,0.068722474,0.04592324,0.087044567,0.064909698,0.088896329,0.156020621,0.091977881,0.05920077,0.160446304,0.219362051,0.076873004,0.088053439,0.091774431,0.049216867,0.096270079,0.057504294,0.054179701,0.100793704,0.162714398,0.056500109,0.051007457,0.064076835,0.180655916,0.057894517,0.081005494,0.125202126,0.096957022,0.135943858,0.134798277,0.14989065,0.101490053,0.187718993,0.106520109,0.067289585,0.088498166,0.061232126,0.177381829,0.074844264,0.114954415,0.034703763,0.155967626,0.077870834,0.297418737,0.283547644,0.056067781,0.193379593,0.118869641,0.028205829,0.136723146,0.071885398,0.129452534,0.232556337,0.068841296,0.171758723,0.081116074,0.044685563,0.138743495,0.074296407,0.138848919,0.135299299,0.033514468,0.059453101,0.108332629,0.044797722,0.150764737,0.043950508,0.051839003,0.048129985,0.089336821,0.070493275,0.076863307,0.108394074,0.098293008,0.153878137,0.069004033,0.060526684,0.138698717,0.098647527,0.071254268,0.092071598,0.134097292,0.042211242,0.200012811,0.059152147,0.143168452,0.057906065,0.077575788,0.128039467,0.039444365,0.139230717,0.07195228,0.087553881,0.048078671,0.062197999,0.061612522,0.195622617,0.203623009,0.112233146,0.217742047,0.159126961,0.040224443,0.201914435,0.066344157,0.239302594,0.189278911,0.034259257,0.037536953,0.051815546,0.270220273,0.116200299],\"y\":[0.396573007,0.781994224,0.941345513,0.831132412,0.712017834,0.915431738,0.899989486,0.786824107,0.626350224,0.813582063,0.735182583,0.665563583,0.90062499,0.745178163,0.905855775,0.651352704,0.639163077,0.799804807,0.821328104,0.640880644,0.933913231,0.921336651,0.744896293,0.763051808,0.836179912,0.547612607,0.934738934,0.779858291,0.867371082,0.951444268,0.866202772,0.466610909,0.859828949,0.751989543,0.87770915,0.740795195,0.949172199,0.825467646,0.704829216,0.834743679,0.801641524,0.794796526,0.706846774,0.733163178,0.541345119,0.908147573,0.870603263,0.714838803,0.537825167,0.718964577,0.870614409,0.881444871,0.886982977,0.633182645,0.948891878,0.747580588,0.66465199,0.858068526,0.75104779,0.809961379,0.811601937,0.829747558,0.909374893,0.959704638,0.872366488,0.551357508,0.735268712,0.773157001,0.837633669,0.738125861,0.747381449,0.90563643,0.671237648,0.772072434,0.557574093,0.853962779,0.858709276,0.71156615,0.924911439,0.895075202,0.649565637,0.693351328,0.864451885,0.551522553,0.889534533,0.803223193,0.894626856,0.767520964,0.759772122,0.759578407,0.863902867,0.908547819,0.955750287,0.797565043,0.936217487,0.734833717,0.880366504,0.824766099,0.915463448,0.862055779,0.888747811,0.885923445,0.842823207,0.900589406,0.854191244,0.690596163,0.926645339,0.715315044,0.833805263,0.726495862,0.451313615,0.749952674,0.936142623,0.939144194,0.587305248,0.649828613,0.905063033,0.831383407,0.826457024,0.857907116,0.593361557,0.608830452,0.731713951,0.663081884,0.892395437,0.974998116,0.599920273,0.759330094,0.806500256,0.711457908,0.708354175,0.898517907],\"type\":\"scatter\",\"xaxis\":\"x\",\"yaxis\":\"y\"},{\"hoverinfo\":\"text\",\"mode\":\"markers\",\"text\":[\"Healthy life expectancy: 52.59000015<br>Location: Afghanistan\",\"Healthy life expectancy: 68.70813751<br>Location: Albania\",\"Healthy life expectancy: 67.08278656<br>Location: United Arab Emirates\",\"Healthy life expectancy: 68.80380249<br>Location: Argentina\",\"Healthy life expectancy: 66.75065613<br>Location: Armenia\",\"Healthy life expectancy: 73.60453796<br>Location: Australia\",\"Healthy life expectancy: 73.00250244<br>Location: Austria\",\"Healthy life expectancy: 65.50839996<br>Location: Azerbaijan\",\"Healthy life expectancy: 53.40000153<br>Location: Burundi\",\"Healthy life expectancy: 72.00164795<br>Location: Belgium\",\"Healthy life expectancy: 54.31246567<br>Location: Benin\",\"Healthy life expectancy: 53.88945389<br>Location: Burkina Faso\",\"Healthy life expectancy: 64.50306702<br>Location: Bangladesh\",\"Healthy life expectancy: 66.80397797<br>Location: Bulgaria\",\"Healthy life expectancy: 68.5<br>Location: Bahrain\",\"Healthy life expectancy: 67.80813599<br>Location: Bosnia and Herzegovina\",\"Healthy life expectancy: 66.10433197<br>Location: Belarus\",\"Healthy life expectancy: 66.48016357<br>Location: Brazil\",\"Healthy life expectancy: 58.92445374<br>Location: Botswana\",\"Healthy life expectancy: 45.20000076<br>Location: Central African Republic\",\"Healthy life expectancy: 73.60160065<br>Location: Canada\",\"Healthy life expectancy: 74.10244751<br>Location: Switzerland\",\"Healthy life expectancy: 69.90061951<br>Location: Chile\",\"Healthy life expectancy: 52.7049408<br>Location: Cameroon\",\"Healthy life expectancy: 67.69958496<br>Location: Colombia\",\"Healthy life expectancy: 57.34901047<br>Location: Comoros\",\"Healthy life expectancy: 71.29985046<br>Location: Costa Rica\",\"Healthy life expectancy: 73.70222473<br>Location: Cyprus\",\"Healthy life expectancy: 72.20201874<br>Location: Germany\",\"Healthy life expectancy: 72.40250397<br>Location: Denmark\",\"Healthy life expectancy: 65.80748749<br>Location: Dominican Republic\",\"Healthy life expectancy: 65.90517426<br>Location: Algeria\",\"Healthy life expectancy: 68.50003815<br>Location: Ecuador\",\"Healthy life expectancy: 74.40270996<br>Location: Spain\",\"Healthy life expectancy: 68.60495758<br>Location: Estonia\",\"Healthy life expectancy: 58.63959122<br>Location: Ethiopia\",\"Healthy life expectancy: 71.9008255<br>Location: Finland\",\"Healthy life expectancy: 73.80193329<br>Location: France\",\"Healthy life expectancy: 59.71533966<br>Location: Gabon\",\"Healthy life expectancy: 72.30160522<br>Location: United Kingdom\",\"Healthy life expectancy: 64.49520874<br>Location: Georgia\",\"Healthy life expectancy: 57.20398712<br>Location: Ghana\",\"Healthy life expectancy: 54.46780014<br>Location: Guinea\",\"Healthy life expectancy: 55.0120163<br>Location: Gambia\",\"Healthy life expectancy: 72.40525818<br>Location: Greece\",\"Healthy life expectancy: 64.8089447<br>Location: Guatemala\",\"Healthy life expectancy: 67.19876862<br>Location: Honduras\",\"Healthy life expectancy: 70.21490479<br>Location: Croatia\",\"Healthy life expectancy: 55.59862518<br>Location: Haiti\",\"Healthy life expectancy: 67.60997009<br>Location: Hungary\",\"Healthy life expectancy: 62.15584946<br>Location: Indonesia\",\"Healthy life expectancy: 60.21518707<br>Location: India\",\"Healthy life expectancy: 72.30078888<br>Location: Ireland\",\"Healthy life expectancy: 59.90354919<br>Location: Iraq\",\"Healthy life expectancy: 73.0<br>Location: Iceland\",\"Healthy life expectancy: 73.20025635<br>Location: Israel\",\"Healthy life expectancy: 73.60168457<br>Location: Italy\",\"Healthy life expectancy: 67.09999847<br>Location: Jamaica\",\"Healthy life expectancy: 66.79975128<br>Location: Jordan\",\"Healthy life expectancy: 75.00096893<br>Location: Japan\",\"Healthy life expectancy: 64.60996246<br>Location: Kazakhstan\",\"Healthy life expectancy: 60.09693146<br>Location: Kenya\",\"Healthy life expectancy: 64.10601044<br>Location: Kyrgyzstan\",\"Healthy life expectancy: 61.52996826<br>Location: Cambodia\",\"Healthy life expectancy: 66.76764679<br>Location: Kuwait\",\"Healthy life expectancy: 67.10658264<br>Location: Lebanon\",\"Healthy life expectancy: 56.09631348<br>Location: Liberia\",\"Healthy life expectancy: 62.29999924<br>Location: Libya\",\"Healthy life expectancy: 67.20006561<br>Location: Sri Lanka\",\"Healthy life expectancy: 48.00362396<br>Location: Lesotho\",\"Healthy life expectancy: 67.29407501<br>Location: Lithuania\",\"Healthy life expectancy: 72.59999847<br>Location: Luxembourg\",\"Healthy life expectancy: 66.8074646<br>Location: Latvia\",\"Healthy life expectancy: 65.89624023<br>Location: Morocco\",\"Healthy life expectancy: 59.10542679<br>Location: Madagascar\",\"Healthy life expectancy: 70.59999847<br>Location: Maldives\",\"Healthy life expectancy: 68.29902649<br>Location: Mexico\",\"Healthy life expectancy: 51.72698212<br>Location: Mali\",\"Healthy life expectancy: 72.19999695<br>Location: Malta\",\"Healthy life expectancy: 58.96171188<br>Location: Myanmar\",\"Healthy life expectancy: 68.50534821<br>Location: Montenegro\",\"Healthy life expectancy: 62.30448532<br>Location: Mongolia\",\"Healthy life expectancy: 54.20582199<br>Location: Mozambique\",\"Healthy life expectancy: 57.01017761<br>Location: Mauritania\",\"Healthy life expectancy: 66.40434265<br>Location: Mauritius\",\"Healthy life expectancy: 57.59288788<br>Location: Malawi\",\"Healthy life expectancy: 67.10215759<br>Location: Malaysia\",\"Healthy life expectancy: 56.50148773<br>Location: Namibia\",\"Healthy life expectancy: 53.50009537<br>Location: Niger\",\"Healthy life expectancy: 49.86190796<br>Location: Nigeria\",\"Healthy life expectancy: 67.50717926<br>Location: Nicaragua\",\"Healthy life expectancy: 72.30091858<br>Location: Netherlands\",\"Healthy life expectancy: 73.20078278<br>Location: Norway\",\"Healthy life expectancy: 63.77917862<br>Location: Nepal\",\"Healthy life expectancy: 73.20262909<br>Location: New Zealand\",\"Healthy life expectancy: 58.25313568<br>Location: Pakistan\",\"Healthy life expectancy: 69.60301208<br>Location: Panama\",\"Healthy life expectancy: 68.10023499<br>Location: Peru\",\"Healthy life expectancy: 61.92676163<br>Location: Philippines\",\"Healthy life expectancy: 69.31113434<br>Location: Poland\",\"Healthy life expectancy: 72.40202332<br>Location: Portugal\",\"Healthy life expectancy: 65.63993835<br>Location: Paraguay\",\"Healthy life expectancy: 67.20723724<br>Location: Romania\",\"Healthy life expectancy: 61.09884644<br>Location: Rwanda\",\"Healthy life expectancy: 66.30514526<br>Location: Saudi Arabia\",\"Healthy life expectancy: 59.59915161<br>Location: Senegal\",\"Healthy life expectancy: 76.80458069<br>Location: Singapore\",\"Healthy life expectancy: 50.86514282<br>Location: Sierra Leone\",\"Healthy life expectancy: 66.10826111<br>Location: El Salvador\",\"Healthy life expectancy: 68.21020508<br>Location: Serbia\",\"Healthy life expectancy: 51.0<br>Location: South Sudan\",\"Healthy life expectancy: 68.90634155<br>Location: Slovakia\",\"Healthy life expectancy: 71.1029892<br>Location: Slovenia\",\"Healthy life expectancy: 72.60076904<br>Location: Sweden\",\"Healthy life expectancy: 48.22053909<br>Location: Chad\",\"Healthy life expectancy: 54.71989822<br>Location: Togo\",\"Healthy life expectancy: 67.25059509<br>Location: Thailand\",\"Healthy life expectancy: 64.10459137<br>Location: Tajikistan\",\"Healthy life expectancy: 62.21170807<br>Location: Turkmenistan\",\"Healthy life expectancy: 63.5<br>Location: Trinidad and Tobago\",\"Healthy life expectancy: 66.89785767<br>Location: Tunisia\",\"Healthy life expectancy: 66.90281677<br>Location: Turkey\",\"Healthy life expectancy: 55.70820236<br>Location: Uganda\",\"Healthy life expectancy: 64.60678101<br>Location: Ukraine\",\"Healthy life expectancy: 69.00254822<br>Location: Uruguay\",\"Healthy life expectancy: 65.10757446<br>Location: Uzbekistan\",\"Healthy life expectancy: 56.72728348<br>Location: Yemen\",\"Healthy life expectancy: 56.50601196<br>Location: South Africa\",\"Healthy life expectancy: 55.29937744<br>Location: Zambia\",\"Healthy life expectancy: 55.61725998<br>Location: Zimbabwe\",\"Healthy life expectancy: 61.78015137<br>Location: Egypt\",\"Healthy life expectancy: 69.2891922<br>Location: China\"],\"x\":[0.179838083,0.173300847,0.156872548,0.078702551,0.198225059,0.08148769,0.092532788,0.228278271,0.053175034,0.069938826,0.053680666,0.055825361,0.14971722,0.17166366,0.174308426,0.141959703,0.2030117,0.088641179,0.046974311,0.043417196,0.09065454,0.077152232,0.068722474,0.04592324,0.087044567,0.064909698,0.088896329,0.156020621,0.091977881,0.05920077,0.160446304,0.219362051,0.076873004,0.088053439,0.091774431,0.049216867,0.096270079,0.057504294,0.054179701,0.100793704,0.162714398,0.056500109,0.051007457,0.064076835,0.180655916,0.057894517,0.081005494,0.125202126,0.096957022,0.135943858,0.134798277,0.14989065,0.101490053,0.187718993,0.106520109,0.067289585,0.088498166,0.061232126,0.177381829,0.074844264,0.114954415,0.034703763,0.155967626,0.077870834,0.297418737,0.283547644,0.056067781,0.193379593,0.118869641,0.028205829,0.136723146,0.071885398,0.129452534,0.232556337,0.068841296,0.171758723,0.081116074,0.044685563,0.138743495,0.074296407,0.138848919,0.135299299,0.033514468,0.059453101,0.108332629,0.044797722,0.150764737,0.043950508,0.051839003,0.048129985,0.089336821,0.070493275,0.076863307,0.108394074,0.098293008,0.153878137,0.069004033,0.060526684,0.138698717,0.098647527,0.071254268,0.092071598,0.134097292,0.042211242,0.200012811,0.059152147,0.143168452,0.057906065,0.077575788,0.128039467,0.039444365,0.139230717,0.07195228,0.087553881,0.048078671,0.062197999,0.061612522,0.195622617,0.203623009,0.112233146,0.217742047,0.159126961,0.040224443,0.201914435,0.066344157,0.239302594,0.189278911,0.034259257,0.037536953,0.051815546,0.270220273,0.116200299],\"y\":[52.59000015,68.70813751,67.08278656,68.80380249,66.75065613,73.60453796,73.00250244,65.50839996,53.40000153,72.00164795,54.31246567,53.88945389,64.50306702,66.80397797,68.5,67.80813599,66.10433197,66.48016357,58.92445374,45.20000076,73.60160065,74.10244751,69.90061951,52.7049408,67.69958496,57.34901047,71.29985046,73.70222473,72.20201874,72.40250397,65.80748749,65.90517426,68.50003815,74.40270996,68.60495758,58.63959122,71.9008255,73.80193329,59.71533966,72.30160522,64.49520874,57.20398712,54.46780014,55.0120163,72.40525818,64.8089447,67.19876862,70.21490479,55.59862518,67.60997009,62.15584946,60.21518707,72.30078888,59.90354919,73.0,73.20025635,73.60168457,67.09999847,66.79975128,75.00096893,64.60996246,60.09693146,64.10601044,61.52996826,66.76764679,67.10658264,56.09631348,62.29999924,67.20006561,48.00362396,67.29407501,72.59999847,66.8074646,65.89624023,59.10542679,70.59999847,68.29902649,51.72698212,72.19999695,58.96171188,68.50534821,62.30448532,54.20582199,57.01017761,66.40434265,57.59288788,67.10215759,56.50148773,53.50009537,49.86190796,67.50717926,72.30091858,73.20078278,63.77917862,73.20262909,58.25313568,69.60301208,68.10023499,61.92676163,69.31113434,72.40202332,65.63993835,67.20723724,61.09884644,66.30514526,59.59915161,76.80458069,50.86514282,66.10826111,68.21020508,51.0,68.90634155,71.1029892,72.60076904,48.22053909,54.71989822,67.25059509,64.10459137,62.21170807,63.5,66.89785767,66.90281677,55.70820236,64.60678101,69.00254822,65.10757446,56.72728348,56.50601196,55.29937744,55.61725998,61.78015137,69.2891922],\"type\":\"scatter\",\"xaxis\":\"x2\",\"yaxis\":\"y2\"},{\"hoverinfo\":\"text\",\"mode\":\"markers\",\"text\":[\"Social support: 0.470366955<br>Location: Afghanistan\",\"Social support: 0.671070457<br>Location: Albania\",\"Social support: 0.849181116<br>Location: United Arab Emirates\",\"Social support: 0.900567949<br>Location: Argentina\",\"Social support: 0.757479429<br>Location: Armenia\",\"Social support: 0.944854617<br>Location: Australia\",\"Social support: 0.928045869<br>Location: Austria\",\"Social support: 0.819308281<br>Location: Azerbaijan\",\"Social support: 0.490325719<br>Location: Burundi\",\"Social support: 0.911632538<br>Location: Belgium\",\"Social support: 0.468671143<br>Location: Benin\",\"Social support: 0.712943614<br>Location: Burkina Faso\",\"Social support: 0.687292993<br>Location: Bangladesh\",\"Social support: 0.937840343<br>Location: Bulgaria\",\"Social support: 0.876342118<br>Location: Bahrain\",\"Social support: 0.829204142<br>Location: Bosnia and Herzegovina\",\"Social support: 0.90674746<br>Location: Belarus\",\"Social support: 0.896723807<br>Location: Brazil\",\"Social support: 0.779121757<br>Location: Botswana\",\"Social support: 0.319459856<br>Location: Central African Republic\",\"Social support: 0.927176654<br>Location: Canada\",\"Social support: 0.942846596<br>Location: Switzerland\",\"Social support: 0.879713595<br>Location: Chile\",\"Social support: 0.700386405<br>Location: Cameroon\",\"Social support: 0.884440243<br>Location: Colombia\",\"Social support: 0.625662446<br>Location: Comoros\",\"Social support: 0.901545942<br>Location: Costa Rica\",\"Social support: 0.805996239<br>Location: Cyprus\",\"Social support: 0.898874462<br>Location: Germany\",\"Social support: 0.955990791<br>Location: Denmark\",\"Social support: 0.882085383<br>Location: Dominican Republic\",\"Social support: 0.803385139<br>Location: Algeria\",\"Social support: 0.836418986<br>Location: Ecuador\",\"Social support: 0.921125412<br>Location: Spain\",\"Social support: 0.934729993<br>Location: Estonia\",\"Social support: 0.743307352<br>Location: Ethiopia\",\"Social support: 0.954329729<br>Location: Finland\",\"Social support: 0.937103748<br>Location: France\",\"Social support: 0.787886858<br>Location: Gabon\",\"Social support: 0.93668282<br>Location: United Kingdom\",\"Social support: 0.629033029<br>Location: Georgia\",\"Social support: 0.728601098<br>Location: Ghana\",\"Social support: 0.637573481<br>Location: Guinea\",\"Social support: 0.6931687<br>Location: Gambia\",\"Social support: 0.814380348<br>Location: Greece\",\"Social support: 0.816621482<br>Location: Guatemala\",\"Social support: 0.821870148<br>Location: Honduras\",\"Social support: 0.874623716<br>Location: Croatia\",\"Social support: 0.593247831<br>Location: Haiti\",\"Social support: 0.921934128<br>Location: Hungary\",\"Social support: 0.808379889<br>Location: Indonesia\",\"Social support: 0.592200935<br>Location: India\",\"Social support: 0.942081571<br>Location: Ireland\",\"Social support: 0.747694969<br>Location: Iraq\",\"Social support: 0.974669576<br>Location: Iceland\",\"Social support: 0.913571239<br>Location: Israel\",\"Social support: 0.889878571<br>Location: Italy\",\"Social support: 0.915701866<br>Location: Jamaica\",\"Social support: 0.80216372<br>Location: Jordan\",\"Social support: 0.883545935<br>Location: Japan\",\"Social support: 0.934744895<br>Location: Kazakhstan\",\"Social support: 0.702652037<br>Location: Kenya\",\"Social support: 0.887228489<br>Location: Kyrgyzstan\",\"Social support: 0.773080647<br>Location: Cambodia\",\"Social support: 0.846475244<br>Location: Kuwait\",\"Social support: 0.824338138<br>Location: Lebanon\",\"Social support: 0.70928055<br>Location: Liberia\",\"Social support: 0.825942934<br>Location: Libya\",\"Social support: 0.825374067<br>Location: Sri Lanka\",\"Social support: 0.780495703<br>Location: Lesotho\",\"Social support: 0.926107109<br>Location: Lithuania\",\"Social support: 0.906912208<br>Location: Luxembourg\",\"Social support: 0.918288589<br>Location: Latvia\",\"Social support: 0.592628479<br>Location: Morocco\",\"Social support: 0.668195903<br>Location: Madagascar\",\"Social support: 0.91316092<br>Location: Maldives\",\"Social support: 0.838665426<br>Location: Mexico\",\"Social support: 0.731468976<br>Location: Mali\",\"Social support: 0.93037951<br>Location: Malta\",\"Social support: 0.78440702<br>Location: Myanmar\",\"Social support: 0.855314612<br>Location: Montenegro\",\"Social support: 0.937142491<br>Location: Mongolia\",\"Social support: 0.723874032<br>Location: Mozambique\",\"Social support: 0.790819228<br>Location: Mauritania\",\"Social support: 0.910357833<br>Location: Mauritius\",\"Social support: 0.544007301<br>Location: Malawi\",\"Social support: 0.816509426<br>Location: Malaysia\",\"Social support: 0.846880972<br>Location: Namibia\",\"Social support: 0.617435038<br>Location: Niger\",\"Social support: 0.73721689<br>Location: Nigeria\",\"Social support: 0.857497036<br>Location: Nicaragua\",\"Social support: 0.93913883<br>Location: Netherlands\",\"Social support: 0.952486575<br>Location: Norway\",\"Social support: 0.785512447<br>Location: Nepal\",\"Social support: 0.949118972<br>Location: New Zealand\",\"Social support: 0.689062297<br>Location: Pakistan\",\"Social support: 0.902094483<br>Location: Panama\",\"Social support: 0.831075251<br>Location: Peru\",\"Social support: 0.846730053<br>Location: Philippines\",\"Social support: 0.874257445<br>Location: Poland\",\"Social support: 0.886590719<br>Location: Portugal\",\"Social support: 0.898727894<br>Location: Paraguay\",\"Social support: 0.825161517<br>Location: Romania\",\"Social support: 0.54083544<br>Location: Rwanda\",\"Social support: 0.874067068<br>Location: Saudi Arabia\",\"Social support: 0.723616004<br>Location: Senegal\",\"Social support: 0.910268962<br>Location: Singapore\",\"Social support: 0.636142015<br>Location: Sierra Leone\",\"Social support: 0.806092262<br>Location: El Salvador\",\"Social support: 0.881475747<br>Location: Serbia\",\"Social support: 0.553707123<br>Location: South Sudan\",\"Social support: 0.922493756<br>Location: Slovakia\",\"Social support: 0.939575672<br>Location: Slovenia\",\"Social support: 0.926311195<br>Location: Sweden\",\"Social support: 0.632388055<br>Location: Chad\",\"Social support: 0.551312625<br>Location: Togo\",\"Social support: 0.889973223<br>Location: Thailand\",\"Social support: 0.835297108<br>Location: Tajikistan\",\"Social support: 0.958966196<br>Location: Turkmenistan\",\"Social support: 0.91529417<br>Location: Trinidad and Tobago\",\"Social support: 0.688718557<br>Location: Tunisia\",\"Social support: 0.826313555<br>Location: Turkey\",\"Social support: 0.764994621<br>Location: Uganda\",\"Social support: 0.878879368<br>Location: Ukraine\",\"Social support: 0.92281127<br>Location: Uruguay\",\"Social support: 0.926595807<br>Location: Uzbekistan\",\"Social support: 0.817980587<br>Location: Yemen\",\"Social support: 0.852532268<br>Location: South Africa\",\"Social support: 0.698824465<br>Location: Zambia\",\"Social support: 0.763092756<br>Location: Zimbabwe\",\"Social support: 0.735447824<br>Location: Egypt\",\"Social support: 0.798760593<br>Location: China\"],\"x\":[0.179838083,0.173300847,0.156872548,0.078702551,0.198225059,0.08148769,0.092532788,0.228278271,0.053175034,0.069938826,0.053680666,0.055825361,0.14971722,0.17166366,0.174308426,0.141959703,0.2030117,0.088641179,0.046974311,0.043417196,0.09065454,0.077152232,0.068722474,0.04592324,0.087044567,0.064909698,0.088896329,0.156020621,0.091977881,0.05920077,0.160446304,0.219362051,0.076873004,0.088053439,0.091774431,0.049216867,0.096270079,0.057504294,0.054179701,0.100793704,0.162714398,0.056500109,0.051007457,0.064076835,0.180655916,0.057894517,0.081005494,0.125202126,0.096957022,0.135943858,0.134798277,0.14989065,0.101490053,0.187718993,0.106520109,0.067289585,0.088498166,0.061232126,0.177381829,0.074844264,0.114954415,0.034703763,0.155967626,0.077870834,0.297418737,0.283547644,0.056067781,0.193379593,0.118869641,0.028205829,0.136723146,0.071885398,0.129452534,0.232556337,0.068841296,0.171758723,0.081116074,0.044685563,0.138743495,0.074296407,0.138848919,0.135299299,0.033514468,0.059453101,0.108332629,0.044797722,0.150764737,0.043950508,0.051839003,0.048129985,0.089336821,0.070493275,0.076863307,0.108394074,0.098293008,0.153878137,0.069004033,0.060526684,0.138698717,0.098647527,0.071254268,0.092071598,0.134097292,0.042211242,0.200012811,0.059152147,0.143168452,0.057906065,0.077575788,0.128039467,0.039444365,0.139230717,0.07195228,0.087553881,0.048078671,0.062197999,0.061612522,0.195622617,0.203623009,0.112233146,0.217742047,0.159126961,0.040224443,0.201914435,0.066344157,0.239302594,0.189278911,0.034259257,0.037536953,0.051815546,0.270220273,0.116200299],\"y\":[0.470366955,0.671070457,0.849181116,0.900567949,0.757479429,0.944854617,0.928045869,0.819308281,0.490325719,0.911632538,0.468671143,0.712943614,0.687292993,0.937840343,0.876342118,0.829204142,0.90674746,0.896723807,0.779121757,0.319459856,0.927176654,0.942846596,0.879713595,0.700386405,0.884440243,0.625662446,0.901545942,0.805996239,0.898874462,0.955990791,0.882085383,0.803385139,0.836418986,0.921125412,0.934729993,0.743307352,0.954329729,0.937103748,0.787886858,0.93668282,0.629033029,0.728601098,0.637573481,0.6931687,0.814380348,0.816621482,0.821870148,0.874623716,0.593247831,0.921934128,0.808379889,0.592200935,0.942081571,0.747694969,0.974669576,0.913571239,0.889878571,0.915701866,0.80216372,0.883545935,0.934744895,0.702652037,0.887228489,0.773080647,0.846475244,0.824338138,0.70928055,0.825942934,0.825374067,0.780495703,0.926107109,0.906912208,0.918288589,0.592628479,0.668195903,0.91316092,0.838665426,0.731468976,0.93037951,0.78440702,0.855314612,0.937142491,0.723874032,0.790819228,0.910357833,0.544007301,0.816509426,0.846880972,0.617435038,0.73721689,0.857497036,0.93913883,0.952486575,0.785512447,0.949118972,0.689062297,0.902094483,0.831075251,0.846730053,0.874257445,0.886590719,0.898727894,0.825161517,0.54083544,0.874067068,0.723616004,0.910268962,0.636142015,0.806092262,0.881475747,0.553707123,0.922493756,0.939575672,0.926311195,0.632388055,0.551312625,0.889973223,0.835297108,0.958966196,0.91529417,0.688718557,0.826313555,0.764994621,0.878879368,0.92281127,0.926595807,0.817980587,0.852532268,0.698824465,0.763092756,0.735447824,0.798760593],\"type\":\"scatter\",\"xaxis\":\"x3\",\"yaxis\":\"y3\"},{\"hoverinfo\":\"text\",\"mode\":\"markers\",\"text\":[\"Logged GDP per capita: 7.462860584<br>Location: Afghanistan\",\"Logged GDP per capita: 9.417930603<br>Location: Albania\",\"Logged GDP per capita: 11.1099987<br>Location: United Arab Emirates\",\"Logged GDP per capita: 9.810955048<br>Location: Argentina\",\"Logged GDP per capita: 9.100476265<br>Location: Armenia\",\"Logged GDP per capita: 10.72059631<br>Location: Australia\",\"Logged GDP per capita: 10.7428236<br>Location: Austria\",\"Logged GDP per capita: 9.687726974<br>Location: Azerbaijan\",\"Logged GDP per capita: 6.492642403<br>Location: Burundi\",\"Logged GDP per capita: 10.6736393<br>Location: Belgium\",\"Logged GDP per capita: 7.674319744<br>Location: Benin\",\"Logged GDP per capita: 7.46854496<br>Location: Burkina Faso\",\"Logged GDP per capita: 8.287063599<br>Location: Bangladesh\",\"Logged GDP per capita: 9.869318962<br>Location: Bulgaria\",\"Logged GDP per capita: 10.67638016<br>Location: Bahrain\",\"Logged GDP per capita: 9.455817223<br>Location: Bosnia and Herzegovina\",\"Logged GDP per capita: 9.779945374<br>Location: Belarus\",\"Logged GDP per capita: 9.56643486<br>Location: Brazil\",\"Logged GDP per capita: 9.711203575<br>Location: Botswana\",\"Logged GDP per capita: 6.625160217<br>Location: Central African Republic\",\"Logged GDP per capita: 10.69236851<br>Location: Canada\",\"Logged GDP per capita: 10.97993279<br>Location: Switzerland\",\"Logged GDP per capita: 10.0320549<br>Location: Chile\",\"Logged GDP per capita: 8.118647575<br>Location: Cameroon\",\"Logged GDP per capita: 9.500369072<br>Location: Colombia\",\"Logged GDP per capita: 7.833630085<br>Location: Comoros\",\"Logged GDP per capita: 9.658156395<br>Location: Costa Rica\",\"Logged GDP per capita: 10.40570259<br>Location: Cyprus\",\"Logged GDP per capita: 10.7328186<br>Location: Germany\",\"Logged GDP per capita: 10.77400112<br>Location: Denmark\",\"Logged GDP per capita: 9.664880753<br>Location: Dominican Republic\",\"Logged GDP per capita: 9.537964821<br>Location: Algeria\",\"Logged GDP per capita: 9.246058464<br>Location: Ecuador\",\"Logged GDP per capita: 10.46292686<br>Location: Spain\",\"Logged GDP per capita: 10.34001732<br>Location: Estonia\",\"Logged GDP per capita: 7.509385586<br>Location: Ethiopia\",\"Logged GDP per capita: 10.63926697<br>Location: Finland\",\"Logged GDP per capita: 10.58422279<br>Location: France\",\"Logged GDP per capita: 9.680537224<br>Location: Gabon\",\"Logged GDP per capita: 10.60013485<br>Location: United Kingdom\",\"Logged GDP per capita: 9.226100922<br>Location: Georgia\",\"Logged GDP per capita: 8.350645065<br>Location: Ghana\",\"Logged GDP per capita: 7.750990391<br>Location: Guinea\",\"Logged GDP per capita: 7.321814537<br>Location: Gambia\",\"Logged GDP per capita: 10.13232613<br>Location: Greece\",\"Logged GDP per capita: 8.924805641<br>Location: Guatemala\",\"Logged GDP per capita: 8.424534798<br>Location: Honduras\",\"Logged GDP per capita: 10.07087517<br>Location: Croatia\",\"Logged GDP per capita: 7.411329269<br>Location: Haiti\",\"Logged GDP per capita: 10.24924374<br>Location: Hungary\",\"Logged GDP per capita: 9.36975193<br>Location: Indonesia\",\"Logged GDP per capita: 8.849823952<br>Location: India\",\"Logged GDP per capita: 11.16097832<br>Location: Ireland\",\"Logged GDP per capita: 9.661095619<br>Location: Iraq\",\"Logged GDP per capita: 10.77255917<br>Location: Iceland\",\"Logged GDP per capita: 10.41752529<br>Location: Israel\",\"Logged GDP per capita: 10.48183632<br>Location: Italy\",\"Logged GDP per capita: 9.006250381<br>Location: Jamaica\",\"Logged GDP per capita: 9.025999069<br>Location: Jordan\",\"Logged GDP per capita: 10.57968903<br>Location: Japan\",\"Logged GDP per capita: 10.11465836<br>Location: Kazakhstan\",\"Logged GDP per capita: 8.02977562<br>Location: Kenya\",\"Logged GDP per capita: 8.148405075<br>Location: Kyrgyzstan\",\"Logged GDP per capita: 8.249890327<br>Location: Cambodia\",\"Logged GDP per capita: 11.08982468<br>Location: Kuwait\",\"Logged GDP per capita: 9.3617239<br>Location: Lebanon\",\"Logged GDP per capita: 7.054380417<br>Location: Liberia\",\"Logged GDP per capita: 9.789815903<br>Location: Libya\",\"Logged GDP per capita: 9.389969826<br>Location: Sri Lanka\",\"Logged GDP per capita: 7.960488319<br>Location: Lesotho\",\"Logged GDP per capita: 10.34362602<br>Location: Lithuania\",\"Logged GDP per capita: 11.45068073<br>Location: Luxembourg\",\"Logged GDP per capita: 10.17531967<br>Location: Latvia\",\"Logged GDP per capita: 8.940313339<br>Location: Morocco\",\"Logged GDP per capita: 7.281685829<br>Location: Madagascar\",\"Logged GDP per capita: 9.518632889<br>Location: Maldives\",\"Logged GDP per capita: 9.797797203<br>Location: Mexico\",\"Logged GDP per capita: 7.629852295<br>Location: Mali\",\"Logged GDP per capita: 10.53383827<br>Location: Malta\",\"Logged GDP per capita: 8.680481911<br>Location: Myanmar\",\"Logged GDP per capita: 9.751860619<br>Location: Montenegro\",\"Logged GDP per capita: 9.412186623<br>Location: Mongolia\",\"Logged GDP per capita: 7.069345951<br>Location: Mozambique\",\"Logged GDP per capita: 8.233919144<br>Location: Mauritania\",\"Logged GDP per capita: 9.956786156<br>Location: Mauritius\",\"Logged GDP per capita: 7.062226295<br>Location: Malawi\",\"Logged GDP per capita: 10.26251888<br>Location: Malaysia\",\"Logged GDP per capita: 9.203141212<br>Location: Namibia\",\"Logged GDP per capita: 6.842166901<br>Location: Niger\",\"Logged GDP per capita: 8.57662487<br>Location: Nigeria\",\"Logged GDP per capita: 8.493160248<br>Location: Nicaragua\",\"Logged GDP per capita: 10.81271172<br>Location: Netherlands\",\"Logged GDP per capita: 11.08780384<br>Location: Norway\",\"Logged GDP per capita: 7.925357342<br>Location: Nepal\",\"Logged GDP per capita: 10.50094318<br>Location: New Zealand\",\"Logged GDP per capita: 8.482727051<br>Location: Pakistan\",\"Logged GDP per capita: 10.03423405<br>Location: Panama\",\"Logged GDP per capita: 9.456313133<br>Location: Peru\",\"Logged GDP per capita: 8.993545532<br>Location: Philippines\",\"Logged GDP per capita: 10.26512432<br>Location: Poland\",\"Logged GDP per capita: 10.26374245<br>Location: Portugal\",\"Logged GDP per capita: 9.389982224<br>Location: Paraguay\",\"Logged GDP per capita: 10.107584<br>Location: Romania\",\"Logged GDP per capita: 7.600104332<br>Location: Rwanda\",\"Logged GDP per capita: 10.79781246<br>Location: Saudi Arabia\",\"Logged GDP per capita: 8.118982315<br>Location: Senegal\",\"Logged GDP per capita: 11.39552116<br>Location: Singapore\",\"Logged GDP per capita: 7.26880312<br>Location: Sierra Leone\",\"Logged GDP per capita: 8.909075737<br>Location: El Salvador\",\"Logged GDP per capita: 9.680980682<br>Location: Serbia\",\"Logged GDP per capita: 7.425359726<br>Location: South Sudan\",\"Logged GDP per capita: 10.34774971<br>Location: Slovakia\",\"Logged GDP per capita: 10.39232254<br>Location: Slovenia\",\"Logged GDP per capita: 10.75879383<br>Location: Sweden\",\"Logged GDP per capita: 7.467963696<br>Location: Chad\",\"Logged GDP per capita: 7.357711315<br>Location: Togo\",\"Logged GDP per capita: 9.741791725<br>Location: Thailand\",\"Logged GDP per capita: 8.024810791<br>Location: Tajikistan\",\"Logged GDP per capita: 9.74803257<br>Location: Turkmenistan\",\"Logged GDP per capita: 10.26000214<br>Location: Trinidad and Tobago\",\"Logged GDP per capita: 9.314972878<br>Location: Tunisia\",\"Logged GDP per capita: 10.12941933<br>Location: Turkey\",\"Logged GDP per capita: 7.500389576<br>Location: Uganda\",\"Logged GDP per capita: 9.010690689<br>Location: Ukraine\",\"Logged GDP per capita: 9.948192596<br>Location: Uruguay\",\"Logged GDP per capita: 8.740371704<br>Location: Uzbekistan\",\"Logged GDP per capita: 7.759682655<br>Location: Yemen\",\"Logged GDP per capita: 9.403370857<br>Location: South Africa\",\"Logged GDP per capita: 8.224720001<br>Location: Zambia\",\"Logged GDP per capita: 7.865711689<br>Location: Zimbabwe\",\"Logged GDP per capita: 9.316541672<br>Location: Egypt\",\"Logged GDP per capita: 9.688568115<br>Location: China\"],\"x\":[0.179838083,0.173300847,0.156872548,0.078702551,0.198225059,0.08148769,0.092532788,0.228278271,0.053175034,0.069938826,0.053680666,0.055825361,0.14971722,0.17166366,0.174308426,0.141959703,0.2030117,0.088641179,0.046974311,0.043417196,0.09065454,0.077152232,0.068722474,0.04592324,0.087044567,0.064909698,0.088896329,0.156020621,0.091977881,0.05920077,0.160446304,0.219362051,0.076873004,0.088053439,0.091774431,0.049216867,0.096270079,0.057504294,0.054179701,0.100793704,0.162714398,0.056500109,0.051007457,0.064076835,0.180655916,0.057894517,0.081005494,0.125202126,0.096957022,0.135943858,0.134798277,0.14989065,0.101490053,0.187718993,0.106520109,0.067289585,0.088498166,0.061232126,0.177381829,0.074844264,0.114954415,0.034703763,0.155967626,0.077870834,0.297418737,0.283547644,0.056067781,0.193379593,0.118869641,0.028205829,0.136723146,0.071885398,0.129452534,0.232556337,0.068841296,0.171758723,0.081116074,0.044685563,0.138743495,0.074296407,0.138848919,0.135299299,0.033514468,0.059453101,0.108332629,0.044797722,0.150764737,0.043950508,0.051839003,0.048129985,0.089336821,0.070493275,0.076863307,0.108394074,0.098293008,0.153878137,0.069004033,0.060526684,0.138698717,0.098647527,0.071254268,0.092071598,0.134097292,0.042211242,0.200012811,0.059152147,0.143168452,0.057906065,0.077575788,0.128039467,0.039444365,0.139230717,0.07195228,0.087553881,0.048078671,0.062197999,0.061612522,0.195622617,0.203623009,0.112233146,0.217742047,0.159126961,0.040224443,0.201914435,0.066344157,0.239302594,0.189278911,0.034259257,0.037536953,0.051815546,0.270220273,0.116200299],\"y\":[7.462860584,9.417930603,11.1099987,9.810955048,9.100476265,10.72059631,10.7428236,9.687726974,6.492642403,10.6736393,7.674319744,7.46854496,8.287063599,9.869318962,10.67638016,9.455817223,9.779945374,9.56643486,9.711203575,6.625160217,10.69236851,10.97993279,10.0320549,8.118647575,9.500369072,7.833630085,9.658156395,10.40570259,10.7328186,10.77400112,9.664880753,9.537964821,9.246058464,10.46292686,10.34001732,7.509385586,10.63926697,10.58422279,9.680537224,10.60013485,9.226100922,8.350645065,7.750990391,7.321814537,10.13232613,8.924805641,8.424534798,10.07087517,7.411329269,10.24924374,9.36975193,8.849823952,11.16097832,9.661095619,10.77255917,10.41752529,10.48183632,9.006250381,9.025999069,10.57968903,10.11465836,8.02977562,8.148405075,8.249890327,11.08982468,9.3617239,7.054380417,9.789815903,9.389969826,7.960488319,10.34362602,11.45068073,10.17531967,8.940313339,7.281685829,9.518632889,9.797797203,7.629852295,10.53383827,8.680481911,9.751860619,9.412186623,7.069345951,8.233919144,9.956786156,7.062226295,10.26251888,9.203141212,6.842166901,8.57662487,8.493160248,10.81271172,11.08780384,7.925357342,10.50094318,8.482727051,10.03423405,9.456313133,8.993545532,10.26512432,10.26374245,9.389982224,10.107584,7.600104332,10.79781246,8.118982315,11.39552116,7.26880312,8.909075737,9.680980682,7.425359726,10.34774971,10.39232254,10.75879383,7.467963696,7.357711315,9.741791725,8.024810791,9.74803257,10.26000214,9.314972878,10.12941933,7.500389576,9.010690689,9.948192596,8.740371704,7.759682655,9.403370857,8.224720001,7.865711689,9.316541672,9.688568115],\"type\":\"scatter\",\"xaxis\":\"x4\",\"yaxis\":\"y4\"}],\"layout\":{\"template\":{\"data\":{\"histogram2dcontour\":[{\"type\":\"histogram2dcontour\",\"colorbar\":{\"outlinewidth\":0,\"ticks\":\"\"},\"colorscale\":[[0.0,\"#0d0887\"],[0.1111111111111111,\"#46039f\"],[0.2222222222222222,\"#7201a8\"],[0.3333333333333333,\"#9c179e\"],[0.4444444444444444,\"#bd3786\"],[0.5555555555555556,\"#d8576b\"],[0.6666666666666666,\"#ed7953\"],[0.7777777777777778,\"#fb9f3a\"],[0.8888888888888888,\"#fdca26\"],[1.0,\"#f0f921\"]]}],\"choropleth\":[{\"type\":\"choropleth\",\"colorbar\":{\"outlinewidth\":0,\"ticks\":\"\"}}],\"histogram2d\":[{\"type\":\"histogram2d\",\"colorbar\":{\"outlinewidth\":0,\"ticks\":\"\"},\"colorscale\":[[0.0,\"#0d0887\"],[0.1111111111111111,\"#46039f\"],[0.2222222222222222,\"#7201a8\"],[0.3333333333333333,\"#9c179e\"],[0.4444444444444444,\"#bd3786\"],[0.5555555555555556,\"#d8576b\"],[0.6666666666666666,\"#ed7953\"],[0.7777777777777778,\"#fb9f3a\"],[0.8888888888888888,\"#fdca26\"],[1.0,\"#f0f921\"]]}],\"heatmap\":[{\"type\":\"heatmap\",\"colorbar\":{\"outlinewidth\":0,\"ticks\":\"\"},\"colorscale\":[[0.0,\"#0d0887\"],[0.1111111111111111,\"#46039f\"],[0.2222222222222222,\"#7201a8\"],[0.3333333333333333,\"#9c179e\"],[0.4444444444444444,\"#bd3786\"],[0.5555555555555556,\"#d8576b\"],[0.6666666666666666,\"#ed7953\"],[0.7777777777777778,\"#fb9f3a\"],[0.8888888888888888,\"#fdca26\"],[1.0,\"#f0f921\"]]}],\"heatmapgl\":[{\"type\":\"heatmapgl\",\"colorbar\":{\"outlinewidth\":0,\"ticks\":\"\"},\"colorscale\":[[0.0,\"#0d0887\"],[0.1111111111111111,\"#46039f\"],[0.2222222222222222,\"#7201a8\"],[0.3333333333333333,\"#9c179e\"],[0.4444444444444444,\"#bd3786\"],[0.5555555555555556,\"#d8576b\"],[0.6666666666666666,\"#ed7953\"],[0.7777777777777778,\"#fb9f3a\"],[0.8888888888888888,\"#fdca26\"],[1.0,\"#f0f921\"]]}],\"contourcarpet\":[{\"type\":\"contourcarpet\",\"colorbar\":{\"outlinewidth\":0,\"ticks\":\"\"}}],\"contour\":[{\"type\":\"contour\",\"colorbar\":{\"outlinewidth\":0,\"ticks\":\"\"},\"colorscale\":[[0.0,\"#0d0887\"],[0.1111111111111111,\"#46039f\"],[0.2222222222222222,\"#7201a8\"],[0.3333333333333333,\"#9c179e\"],[0.4444444444444444,\"#bd3786\"],[0.5555555555555556,\"#d8576b\"],[0.6666666666666666,\"#ed7953\"],[0.7777777777777778,\"#fb9f3a\"],[0.8888888888888888,\"#fdca26\"],[1.0,\"#f0f921\"]]}],\"surface\":[{\"type\":\"surface\",\"colorbar\":{\"outlinewidth\":0,\"ticks\":\"\"},\"colorscale\":[[0.0,\"#0d0887\"],[0.1111111111111111,\"#46039f\"],[0.2222222222222222,\"#7201a8\"],[0.3333333333333333,\"#9c179e\"],[0.4444444444444444,\"#bd3786\"],[0.5555555555555556,\"#d8576b\"],[0.6666666666666666,\"#ed7953\"],[0.7777777777777778,\"#fb9f3a\"],[0.8888888888888888,\"#fdca26\"],[1.0,\"#f0f921\"]]}],\"mesh3d\":[{\"type\":\"mesh3d\",\"colorbar\":{\"outlinewidth\":0,\"ticks\":\"\"}}],\"scatter\":[{\"fillpattern\":{\"fillmode\":\"overlay\",\"size\":10,\"solidity\":0.2},\"type\":\"scatter\"}],\"parcoords\":[{\"type\":\"parcoords\",\"line\":{\"colorbar\":{\"outlinewidth\":0,\"ticks\":\"\"}}}],\"scatterpolargl\":[{\"type\":\"scatterpolargl\",\"marker\":{\"colorbar\":{\"outlinewidth\":0,\"ticks\":\"\"}}}],\"bar\":[{\"error_x\":{\"color\":\"#2a3f5f\"},\"error_y\":{\"color\":\"#2a3f5f\"},\"marker\":{\"line\":{\"color\":\"#E5ECF6\",\"width\":0.5},\"pattern\":{\"fillmode\":\"overlay\",\"size\":10,\"solidity\":0.2}},\"type\":\"bar\"}],\"scattergeo\":[{\"type\":\"scattergeo\",\"marker\":{\"colorbar\":{\"outlinewidth\":0,\"ticks\":\"\"}}}],\"scatterpolar\":[{\"type\":\"scatterpolar\",\"marker\":{\"colorbar\":{\"outlinewidth\":0,\"ticks\":\"\"}}}],\"histogram\":[{\"marker\":{\"pattern\":{\"fillmode\":\"overlay\",\"size\":10,\"solidity\":0.2}},\"type\":\"histogram\"}],\"scattergl\":[{\"type\":\"scattergl\",\"marker\":{\"colorbar\":{\"outlinewidth\":0,\"ticks\":\"\"}}}],\"scatter3d\":[{\"type\":\"scatter3d\",\"line\":{\"colorbar\":{\"outlinewidth\":0,\"ticks\":\"\"}},\"marker\":{\"colorbar\":{\"outlinewidth\":0,\"ticks\":\"\"}}}],\"scattermapbox\":[{\"type\":\"scattermapbox\",\"marker\":{\"colorbar\":{\"outlinewidth\":0,\"ticks\":\"\"}}}],\"scatterternary\":[{\"type\":\"scatterternary\",\"marker\":{\"colorbar\":{\"outlinewidth\":0,\"ticks\":\"\"}}}],\"scattercarpet\":[{\"type\":\"scattercarpet\",\"marker\":{\"colorbar\":{\"outlinewidth\":0,\"ticks\":\"\"}}}],\"carpet\":[{\"aaxis\":{\"endlinecolor\":\"#2a3f5f\",\"gridcolor\":\"white\",\"linecolor\":\"white\",\"minorgridcolor\":\"white\",\"startlinecolor\":\"#2a3f5f\"},\"baxis\":{\"endlinecolor\":\"#2a3f5f\",\"gridcolor\":\"white\",\"linecolor\":\"white\",\"minorgridcolor\":\"white\",\"startlinecolor\":\"#2a3f5f\"},\"type\":\"carpet\"}],\"table\":[{\"cells\":{\"fill\":{\"color\":\"#EBF0F8\"},\"line\":{\"color\":\"white\"}},\"header\":{\"fill\":{\"color\":\"#C8D4E3\"},\"line\":{\"color\":\"white\"}},\"type\":\"table\"}],\"barpolar\":[{\"marker\":{\"line\":{\"color\":\"#E5ECF6\",\"width\":0.5},\"pattern\":{\"fillmode\":\"overlay\",\"size\":10,\"solidity\":0.2}},\"type\":\"barpolar\"}],\"pie\":[{\"automargin\":true,\"type\":\"pie\"}]},\"layout\":{\"autotypenumbers\":\"strict\",\"colorway\":[\"#636efa\",\"#EF553B\",\"#00cc96\",\"#ab63fa\",\"#FFA15A\",\"#19d3f3\",\"#FF6692\",\"#B6E880\",\"#FF97FF\",\"#FECB52\"],\"font\":{\"color\":\"#2a3f5f\"},\"hovermode\":\"closest\",\"hoverlabel\":{\"align\":\"left\"},\"paper_bgcolor\":\"white\",\"plot_bgcolor\":\"#E5ECF6\",\"polar\":{\"bgcolor\":\"#E5ECF6\",\"angularaxis\":{\"gridcolor\":\"white\",\"linecolor\":\"white\",\"ticks\":\"\"},\"radialaxis\":{\"gridcolor\":\"white\",\"linecolor\":\"white\",\"ticks\":\"\"}},\"ternary\":{\"bgcolor\":\"#E5ECF6\",\"aaxis\":{\"gridcolor\":\"white\",\"linecolor\":\"white\",\"ticks\":\"\"},\"baxis\":{\"gridcolor\":\"white\",\"linecolor\":\"white\",\"ticks\":\"\"},\"caxis\":{\"gridcolor\":\"white\",\"linecolor\":\"white\",\"ticks\":\"\"}},\"coloraxis\":{\"colorbar\":{\"outlinewidth\":0,\"ticks\":\"\"}},\"colorscale\":{\"sequential\":[[0.0,\"#0d0887\"],[0.1111111111111111,\"#46039f\"],[0.2222222222222222,\"#7201a8\"],[0.3333333333333333,\"#9c179e\"],[0.4444444444444444,\"#bd3786\"],[0.5555555555555556,\"#d8576b\"],[0.6666666666666666,\"#ed7953\"],[0.7777777777777778,\"#fb9f3a\"],[0.8888888888888888,\"#fdca26\"],[1.0,\"#f0f921\"]],\"sequentialminus\":[[0.0,\"#0d0887\"],[0.1111111111111111,\"#46039f\"],[0.2222222222222222,\"#7201a8\"],[0.3333333333333333,\"#9c179e\"],[0.4444444444444444,\"#bd3786\"],[0.5555555555555556,\"#d8576b\"],[0.6666666666666666,\"#ed7953\"],[0.7777777777777778,\"#fb9f3a\"],[0.8888888888888888,\"#fdca26\"],[1.0,\"#f0f921\"]],\"diverging\":[[0,\"#8e0152\"],[0.1,\"#c51b7d\"],[0.2,\"#de77ae\"],[0.3,\"#f1b6da\"],[0.4,\"#fde0ef\"],[0.5,\"#f7f7f7\"],[0.6,\"#e6f5d0\"],[0.7,\"#b8e186\"],[0.8,\"#7fbc41\"],[0.9,\"#4d9221\"],[1,\"#276419\"]]},\"xaxis\":{\"gridcolor\":\"white\",\"linecolor\":\"white\",\"ticks\":\"\",\"title\":{\"standoff\":15},\"zerolinecolor\":\"white\",\"automargin\":true,\"zerolinewidth\":2},\"yaxis\":{\"gridcolor\":\"white\",\"linecolor\":\"white\",\"ticks\":\"\",\"title\":{\"standoff\":15},\"zerolinecolor\":\"white\",\"automargin\":true,\"zerolinewidth\":2},\"scene\":{\"xaxis\":{\"backgroundcolor\":\"#E5ECF6\",\"gridcolor\":\"white\",\"linecolor\":\"white\",\"showbackground\":true,\"ticks\":\"\",\"zerolinecolor\":\"white\",\"gridwidth\":2},\"yaxis\":{\"backgroundcolor\":\"#E5ECF6\",\"gridcolor\":\"white\",\"linecolor\":\"white\",\"showbackground\":true,\"ticks\":\"\",\"zerolinecolor\":\"white\",\"gridwidth\":2},\"zaxis\":{\"backgroundcolor\":\"#E5ECF6\",\"gridcolor\":\"white\",\"linecolor\":\"white\",\"showbackground\":true,\"ticks\":\"\",\"zerolinecolor\":\"white\",\"gridwidth\":2}},\"shapedefaults\":{\"line\":{\"color\":\"#2a3f5f\"}},\"annotationdefaults\":{\"arrowcolor\":\"#2a3f5f\",\"arrowhead\":0,\"arrowwidth\":1},\"geo\":{\"bgcolor\":\"white\",\"landcolor\":\"#E5ECF6\",\"subunitcolor\":\"white\",\"showland\":true,\"showlakes\":true,\"lakecolor\":\"white\"},\"title\":{\"x\":0.05},\"mapbox\":{\"style\":\"light\"}}},\"xaxis\":{\"anchor\":\"y\",\"domain\":[0.0,0.45],\"title\":{\"text\":\"Ischemic Heart Disease\"}},\"yaxis\":{\"anchor\":\"x\",\"domain\":[0.625,1.0]},\"xaxis2\":{\"anchor\":\"y2\",\"domain\":[0.55,1.0]},\"yaxis2\":{\"anchor\":\"x2\",\"domain\":[0.625,1.0]},\"xaxis3\":{\"anchor\":\"y3\",\"domain\":[0.0,0.45]},\"yaxis3\":{\"anchor\":\"x3\",\"domain\":[0.0,0.375]},\"xaxis4\":{\"anchor\":\"y4\",\"domain\":[0.55,1.0]},\"yaxis4\":{\"anchor\":\"x4\",\"domain\":[0.0,0.375]},\"annotations\":[{\"font\":{\"size\":16},\"showarrow\":false,\"text\":\"IHD death rates and Freedom to make life choices\",\"x\":0.225,\"xanchor\":\"center\",\"xref\":\"paper\",\"y\":1.0,\"yanchor\":\"bottom\",\"yref\":\"paper\"},{\"font\":{\"size\":16},\"showarrow\":false,\"text\":\"IHD death rates and Healthy life expectancy\",\"x\":0.775,\"xanchor\":\"center\",\"xref\":\"paper\",\"y\":1.0,\"yanchor\":\"bottom\",\"yref\":\"paper\"},{\"font\":{\"size\":16},\"showarrow\":false,\"text\":\"IHD death rates and Social support\",\"x\":0.225,\"xanchor\":\"center\",\"xref\":\"paper\",\"y\":0.375,\"yanchor\":\"bottom\",\"yref\":\"paper\"},{\"font\":{\"size\":16},\"showarrow\":false,\"text\":\"IHD death rates and Logged GDP per capita\",\"x\":0.775,\"xanchor\":\"center\",\"xref\":\"paper\",\"y\":0.375,\"yanchor\":\"bottom\",\"yref\":\"paper\"}],\"title\":{\"text\":\"Scatterplots of Ischemic Heart Disease death rates and WHR Measurements of Happiness (y-axis)\",\"x\":0.5,\"xanchor\":\"center\"},\"showlegend\":false,\"width\":900,\"height\":600.0}}'"
      ]
     },
     "execution_count": 246,
     "metadata": {},
     "output_type": "execute_result"
    }
   ],
   "source": [
    "#Json Analysis3\n",
    "json_10 = pio.to_json(figCompare3)\n",
    "json_10"
   ]
  },
  {
   "cell_type": "code",
   "execution_count": 247,
   "id": "b1d9d1e2",
   "metadata": {},
   "outputs": [],
   "source": [
    "# Save to PNG\n",
    "# pio.write_image(figScatter,\"3 Risks v WHR Scatter Matrix.png\")\n",
    "# pio.write_image(figCompare1,\"Compare 1.png\")\n",
    "# pio.write_image(figCompare2,\"Compare 2.png\")\n",
    "# pio.write_image(figCompare3,\"Compare 3.png\")"
   ]
  }
 ],
 "metadata": {
  "kernelspec": {
   "display_name": "Python 3 (ipykernel)",
   "language": "python",
   "name": "python3"
  },
  "language_info": {
   "codemirror_mode": {
    "name": "ipython",
    "version": 3
   },
   "file_extension": ".py",
   "mimetype": "text/x-python",
   "name": "python",
   "nbconvert_exporter": "python",
   "pygments_lexer": "ipython3",
   "version": "3.10.13"
  }
 },
 "nbformat": 4,
 "nbformat_minor": 5
}
