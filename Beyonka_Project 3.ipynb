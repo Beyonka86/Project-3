{
 "cells": [
  {
   "cell_type": "markdown",
   "metadata": {},
   "source": [
    "# Does attaining a higher level of education correlate to lower cause of death prevalence?"
   ]
  },
  {
   "cell_type": "code",
   "execution_count": 1,
   "metadata": {},
   "outputs": [
    {
     "name": "stderr",
     "output_type": "stream",
     "text": [
      "c:\\Users\\Beyonka\\anaconda3\\envs\\dev\\lib\\site-packages\\pandas\\core\\arrays\\masked.py:60: UserWarning: Pandas requires version '1.3.6' or newer of 'bottleneck' (version '1.3.5' currently installed).\n",
      "  from pandas.core import (\n"
     ]
    }
   ],
   "source": [
    "# Dependencies and Setup\n",
    "import pandas as pd\n",
    "import matplotlib.pyplot as plt\n",
    "import plotly.express as px \n",
    "import seaborn as sns \n",
    "import plotly.graph_objects as go\n",
    "import plotly.io as pio"
   ]
  },
  {
   "cell_type": "code",
   "execution_count": 2,
   "metadata": {},
   "outputs": [],
   "source": [
    "# study data files\n",
    "edu_data = pd.read_csv(\"C:/Users/Beyonka/Project-3/edu_2020_df.csv\")\n",
    "GBD_data = pd.read_csv(\"C:/Users/Beyonka/Project-3/GBD 15-69.csv\")\n",
    "\n",
    "# Rename the column\n",
    "edu_data.rename(columns= {'Avg.Ed...Years.': 'Avg. Ed'}, inplace=True)\n",
    "edu_data.rename(columns= {'Entity': 'Location'}, inplace=True)\n",
    "GBD_data.rename(columns={'Road.Injuries': 'Road Injuries'}, inplace=True)\n",
    "GBD_data.rename(columns= {'Ischemic.Heart.Disease': 'Ischemic Heart Disease'}, inplace=True)\n"
   ]
  },
  {
   "cell_type": "code",
   "execution_count": 3,
   "metadata": {},
   "outputs": [
    {
     "data": {
      "text/html": [
       "<div>\n",
       "<style scoped>\n",
       "    .dataframe tbody tr th:only-of-type {\n",
       "        vertical-align: middle;\n",
       "    }\n",
       "\n",
       "    .dataframe tbody tr th {\n",
       "        vertical-align: top;\n",
       "    }\n",
       "\n",
       "    .dataframe thead th {\n",
       "        text-align: right;\n",
       "    }\n",
       "</style>\n",
       "<table border=\"1\" class=\"dataframe\">\n",
       "  <thead>\n",
       "    <tr style=\"text-align: right;\">\n",
       "      <th></th>\n",
       "      <th>Unnamed: 0</th>\n",
       "      <th>X</th>\n",
       "      <th>Location</th>\n",
       "      <th>Code</th>\n",
       "      <th>Year</th>\n",
       "      <th>Avg. Ed</th>\n",
       "    </tr>\n",
       "  </thead>\n",
       "  <tbody>\n",
       "    <tr>\n",
       "      <th>0</th>\n",
       "      <td>1</td>\n",
       "      <td>1</td>\n",
       "      <td>Afghanistan</td>\n",
       "      <td>AFG</td>\n",
       "      <td>2020</td>\n",
       "      <td>5.690000</td>\n",
       "    </tr>\n",
       "    <tr>\n",
       "      <th>1</th>\n",
       "      <td>2</td>\n",
       "      <td>2</td>\n",
       "      <td>Africa</td>\n",
       "      <td>NaN</td>\n",
       "      <td>2020</td>\n",
       "      <td>6.681866</td>\n",
       "    </tr>\n",
       "    <tr>\n",
       "      <th>2</th>\n",
       "      <td>3</td>\n",
       "      <td>3</td>\n",
       "      <td>Albania</td>\n",
       "      <td>ALB</td>\n",
       "      <td>2020</td>\n",
       "      <td>10.320000</td>\n",
       "    </tr>\n",
       "    <tr>\n",
       "      <th>3</th>\n",
       "      <td>4</td>\n",
       "      <td>4</td>\n",
       "      <td>Algeria</td>\n",
       "      <td>DZA</td>\n",
       "      <td>2020</td>\n",
       "      <td>8.180000</td>\n",
       "    </tr>\n",
       "    <tr>\n",
       "      <th>4</th>\n",
       "      <td>5</td>\n",
       "      <td>5</td>\n",
       "      <td>Argentina</td>\n",
       "      <td>ARG</td>\n",
       "      <td>2020</td>\n",
       "      <td>9.860000</td>\n",
       "    </tr>\n",
       "  </tbody>\n",
       "</table>\n",
       "</div>"
      ],
      "text/plain": [
       "   Unnamed: 0  X     Location Code  Year    Avg. Ed\n",
       "0           1  1  Afghanistan  AFG  2020   5.690000\n",
       "1           2  2       Africa  NaN  2020   6.681866\n",
       "2           3  3      Albania  ALB  2020  10.320000\n",
       "3           4  4      Algeria  DZA  2020   8.180000\n",
       "4           5  5    Argentina  ARG  2020   9.860000"
      ]
     },
     "execution_count": 3,
     "metadata": {},
     "output_type": "execute_result"
    }
   ],
   "source": [
    "edu_data.head()\n"
   ]
  },
  {
   "cell_type": "code",
   "execution_count": 4,
   "metadata": {},
   "outputs": [
    {
     "name": "stdout",
     "output_type": "stream",
     "text": [
      "Index(['Unnamed: 0', 'X', 'Location', 'Code', 'Year', 'Avg. Ed'], dtype='object')\n"
     ]
    }
   ],
   "source": [
    "print(edu_data.columns)\n"
   ]
  },
  {
   "cell_type": "code",
   "execution_count": 5,
   "metadata": {},
   "outputs": [],
   "source": [
    "# Cleaned columns that are not needed\n",
    "edu_data.drop(columns=['Unnamed: 0', 'X', 'Year', 'Code'], inplace=True)\n"
   ]
  },
  {
   "cell_type": "code",
   "execution_count": 6,
   "metadata": {},
   "outputs": [
    {
     "data": {
      "text/html": [
       "<div>\n",
       "<style scoped>\n",
       "    .dataframe tbody tr th:only-of-type {\n",
       "        vertical-align: middle;\n",
       "    }\n",
       "\n",
       "    .dataframe tbody tr th {\n",
       "        vertical-align: top;\n",
       "    }\n",
       "\n",
       "    .dataframe thead th {\n",
       "        text-align: right;\n",
       "    }\n",
       "</style>\n",
       "<table border=\"1\" class=\"dataframe\">\n",
       "  <thead>\n",
       "    <tr style=\"text-align: right;\">\n",
       "      <th></th>\n",
       "      <th>Location</th>\n",
       "      <th>Avg. Ed</th>\n",
       "    </tr>\n",
       "  </thead>\n",
       "  <tbody>\n",
       "    <tr>\n",
       "      <th>0</th>\n",
       "      <td>Afghanistan</td>\n",
       "      <td>5.690000</td>\n",
       "    </tr>\n",
       "    <tr>\n",
       "      <th>1</th>\n",
       "      <td>Africa</td>\n",
       "      <td>6.681866</td>\n",
       "    </tr>\n",
       "    <tr>\n",
       "      <th>2</th>\n",
       "      <td>Albania</td>\n",
       "      <td>10.320000</td>\n",
       "    </tr>\n",
       "    <tr>\n",
       "      <th>3</th>\n",
       "      <td>Algeria</td>\n",
       "      <td>8.180000</td>\n",
       "    </tr>\n",
       "    <tr>\n",
       "      <th>4</th>\n",
       "      <td>Argentina</td>\n",
       "      <td>9.860000</td>\n",
       "    </tr>\n",
       "  </tbody>\n",
       "</table>\n",
       "</div>"
      ],
      "text/plain": [
       "      Location    Avg. Ed\n",
       "0  Afghanistan   5.690000\n",
       "1       Africa   6.681866\n",
       "2      Albania  10.320000\n",
       "3      Algeria   8.180000\n",
       "4    Argentina   9.860000"
      ]
     },
     "execution_count": 6,
     "metadata": {},
     "output_type": "execute_result"
    }
   ],
   "source": [
    "edu_data.head()"
   ]
  },
  {
   "cell_type": "code",
   "execution_count": 7,
   "metadata": {},
   "outputs": [
    {
     "data": {
      "text/html": [
       "<div>\n",
       "<style scoped>\n",
       "    .dataframe tbody tr th:only-of-type {\n",
       "        vertical-align: middle;\n",
       "    }\n",
       "\n",
       "    .dataframe tbody tr th {\n",
       "        vertical-align: top;\n",
       "    }\n",
       "\n",
       "    .dataframe thead th {\n",
       "        text-align: right;\n",
       "    }\n",
       "</style>\n",
       "<table border=\"1\" class=\"dataframe\">\n",
       "  <thead>\n",
       "    <tr style=\"text-align: right;\">\n",
       "      <th></th>\n",
       "      <th>Unnamed: 0</th>\n",
       "      <th>X</th>\n",
       "      <th>Location</th>\n",
       "      <th>Year</th>\n",
       "      <th>Age</th>\n",
       "      <th>Sex</th>\n",
       "      <th>Measure</th>\n",
       "      <th>Road Injuries</th>\n",
       "      <th>HIV</th>\n",
       "      <th>Ischemic Heart Disease</th>\n",
       "    </tr>\n",
       "  </thead>\n",
       "  <tbody>\n",
       "    <tr>\n",
       "      <th>0</th>\n",
       "      <td>1</td>\n",
       "      <td>1</td>\n",
       "      <td>Afghanistan</td>\n",
       "      <td>2019</td>\n",
       "      <td>15-69 years</td>\n",
       "      <td>Both</td>\n",
       "      <td>Percent of total deaths</td>\n",
       "      <td>0.066641</td>\n",
       "      <td>0.002164</td>\n",
       "      <td>0.179838</td>\n",
       "    </tr>\n",
       "    <tr>\n",
       "      <th>1</th>\n",
       "      <td>2</td>\n",
       "      <td>2</td>\n",
       "      <td>Angola</td>\n",
       "      <td>2019</td>\n",
       "      <td>15-69 years</td>\n",
       "      <td>Both</td>\n",
       "      <td>Percent of total deaths</td>\n",
       "      <td>0.082701</td>\n",
       "      <td>0.195853</td>\n",
       "      <td>0.050400</td>\n",
       "    </tr>\n",
       "    <tr>\n",
       "      <th>2</th>\n",
       "      <td>3</td>\n",
       "      <td>3</td>\n",
       "      <td>Albania</td>\n",
       "      <td>2019</td>\n",
       "      <td>15-69 years</td>\n",
       "      <td>Both</td>\n",
       "      <td>Percent of total deaths</td>\n",
       "      <td>0.068380</td>\n",
       "      <td>0.000502</td>\n",
       "      <td>0.173301</td>\n",
       "    </tr>\n",
       "    <tr>\n",
       "      <th>3</th>\n",
       "      <td>4</td>\n",
       "      <td>4</td>\n",
       "      <td>Andorra</td>\n",
       "      <td>2019</td>\n",
       "      <td>15-69 years</td>\n",
       "      <td>Both</td>\n",
       "      <td>Percent of total deaths</td>\n",
       "      <td>0.076438</td>\n",
       "      <td>0.026947</td>\n",
       "      <td>0.066150</td>\n",
       "    </tr>\n",
       "    <tr>\n",
       "      <th>4</th>\n",
       "      <td>5</td>\n",
       "      <td>5</td>\n",
       "      <td>United Arab Emirates</td>\n",
       "      <td>2019</td>\n",
       "      <td>15-69 years</td>\n",
       "      <td>Both</td>\n",
       "      <td>Percent of total deaths</td>\n",
       "      <td>0.152665</td>\n",
       "      <td>0.005384</td>\n",
       "      <td>0.156873</td>\n",
       "    </tr>\n",
       "  </tbody>\n",
       "</table>\n",
       "</div>"
      ],
      "text/plain": [
       "   Unnamed: 0  X              Location  Year          Age   Sex  \\\n",
       "0           1  1           Afghanistan  2019  15-69 years  Both   \n",
       "1           2  2                Angola  2019  15-69 years  Both   \n",
       "2           3  3               Albania  2019  15-69 years  Both   \n",
       "3           4  4               Andorra  2019  15-69 years  Both   \n",
       "4           5  5  United Arab Emirates  2019  15-69 years  Both   \n",
       "\n",
       "                   Measure  Road Injuries       HIV  Ischemic Heart Disease  \n",
       "0  Percent of total deaths       0.066641  0.002164                0.179838  \n",
       "1  Percent of total deaths       0.082701  0.195853                0.050400  \n",
       "2  Percent of total deaths       0.068380  0.000502                0.173301  \n",
       "3  Percent of total deaths       0.076438  0.026947                0.066150  \n",
       "4  Percent of total deaths       0.152665  0.005384                0.156873  "
      ]
     },
     "execution_count": 7,
     "metadata": {},
     "output_type": "execute_result"
    }
   ],
   "source": [
    "GBD_data.head()"
   ]
  },
  {
   "cell_type": "code",
   "execution_count": 8,
   "metadata": {},
   "outputs": [
    {
     "name": "stdout",
     "output_type": "stream",
     "text": [
      "Index(['Unnamed: 0', 'X', 'Location', 'Year', 'Age', 'Sex', 'Measure',\n",
      "       'Road Injuries', 'HIV', 'Ischemic Heart Disease'],\n",
      "      dtype='object')\n"
     ]
    }
   ],
   "source": [
    "print(GBD_data.columns)"
   ]
  },
  {
   "cell_type": "code",
   "execution_count": 9,
   "metadata": {},
   "outputs": [],
   "source": [
    "# Cleaned columns that are not needed\n",
    "GBD_data.drop(columns=['Unnamed: 0', 'X', 'Year', 'Age', 'Sex'], inplace=True)"
   ]
  },
  {
   "cell_type": "code",
   "execution_count": 10,
   "metadata": {},
   "outputs": [
    {
     "data": {
      "text/html": [
       "<div>\n",
       "<style scoped>\n",
       "    .dataframe tbody tr th:only-of-type {\n",
       "        vertical-align: middle;\n",
       "    }\n",
       "\n",
       "    .dataframe tbody tr th {\n",
       "        vertical-align: top;\n",
       "    }\n",
       "\n",
       "    .dataframe thead th {\n",
       "        text-align: right;\n",
       "    }\n",
       "</style>\n",
       "<table border=\"1\" class=\"dataframe\">\n",
       "  <thead>\n",
       "    <tr style=\"text-align: right;\">\n",
       "      <th></th>\n",
       "      <th>Location</th>\n",
       "      <th>Measure</th>\n",
       "      <th>Road Injuries</th>\n",
       "      <th>HIV</th>\n",
       "      <th>Ischemic Heart Disease</th>\n",
       "    </tr>\n",
       "  </thead>\n",
       "  <tbody>\n",
       "    <tr>\n",
       "      <th>0</th>\n",
       "      <td>Afghanistan</td>\n",
       "      <td>Percent of total deaths</td>\n",
       "      <td>0.066641</td>\n",
       "      <td>0.002164</td>\n",
       "      <td>0.179838</td>\n",
       "    </tr>\n",
       "    <tr>\n",
       "      <th>1</th>\n",
       "      <td>Angola</td>\n",
       "      <td>Percent of total deaths</td>\n",
       "      <td>0.082701</td>\n",
       "      <td>0.195853</td>\n",
       "      <td>0.050400</td>\n",
       "    </tr>\n",
       "    <tr>\n",
       "      <th>2</th>\n",
       "      <td>Albania</td>\n",
       "      <td>Percent of total deaths</td>\n",
       "      <td>0.068380</td>\n",
       "      <td>0.000502</td>\n",
       "      <td>0.173301</td>\n",
       "    </tr>\n",
       "    <tr>\n",
       "      <th>3</th>\n",
       "      <td>Andorra</td>\n",
       "      <td>Percent of total deaths</td>\n",
       "      <td>0.076438</td>\n",
       "      <td>0.026947</td>\n",
       "      <td>0.066150</td>\n",
       "    </tr>\n",
       "    <tr>\n",
       "      <th>4</th>\n",
       "      <td>United Arab Emirates</td>\n",
       "      <td>Percent of total deaths</td>\n",
       "      <td>0.152665</td>\n",
       "      <td>0.005384</td>\n",
       "      <td>0.156873</td>\n",
       "    </tr>\n",
       "  </tbody>\n",
       "</table>\n",
       "</div>"
      ],
      "text/plain": [
       "               Location                  Measure  Road Injuries       HIV  \\\n",
       "0           Afghanistan  Percent of total deaths       0.066641  0.002164   \n",
       "1                Angola  Percent of total deaths       0.082701  0.195853   \n",
       "2               Albania  Percent of total deaths       0.068380  0.000502   \n",
       "3               Andorra  Percent of total deaths       0.076438  0.026947   \n",
       "4  United Arab Emirates  Percent of total deaths       0.152665  0.005384   \n",
       "\n",
       "   Ischemic Heart Disease  \n",
       "0                0.179838  \n",
       "1                0.050400  \n",
       "2                0.173301  \n",
       "3                0.066150  \n",
       "4                0.156873  "
      ]
     },
     "execution_count": 10,
     "metadata": {},
     "output_type": "execute_result"
    }
   ],
   "source": [
    "GBD_data.head()"
   ]
  },
  {
   "cell_type": "code",
   "execution_count": 11,
   "metadata": {},
   "outputs": [],
   "source": [
    "# Drop rows with missing values\n",
    "cleaned_edu = edu_data.dropna()\n",
    "\n",
    "# Drop rows with missing values\n",
    "cleaned_GBD = GBD_data.dropna()"
   ]
  },
  {
   "cell_type": "code",
   "execution_count": 12,
   "metadata": {},
   "outputs": [
    {
     "data": {
      "text/html": [
       "<div>\n",
       "<style scoped>\n",
       "    .dataframe tbody tr th:only-of-type {\n",
       "        vertical-align: middle;\n",
       "    }\n",
       "\n",
       "    .dataframe tbody tr th {\n",
       "        vertical-align: top;\n",
       "    }\n",
       "\n",
       "    .dataframe thead th {\n",
       "        text-align: right;\n",
       "    }\n",
       "</style>\n",
       "<table border=\"1\" class=\"dataframe\">\n",
       "  <thead>\n",
       "    <tr style=\"text-align: right;\">\n",
       "      <th></th>\n",
       "      <th>Location</th>\n",
       "      <th>Avg. Ed</th>\n",
       "    </tr>\n",
       "  </thead>\n",
       "  <tbody>\n",
       "    <tr>\n",
       "      <th>0</th>\n",
       "      <td>Afghanistan</td>\n",
       "      <td>5.690000</td>\n",
       "    </tr>\n",
       "    <tr>\n",
       "      <th>1</th>\n",
       "      <td>Africa</td>\n",
       "      <td>6.681866</td>\n",
       "    </tr>\n",
       "    <tr>\n",
       "      <th>2</th>\n",
       "      <td>Albania</td>\n",
       "      <td>10.320000</td>\n",
       "    </tr>\n",
       "    <tr>\n",
       "      <th>3</th>\n",
       "      <td>Algeria</td>\n",
       "      <td>8.180000</td>\n",
       "    </tr>\n",
       "    <tr>\n",
       "      <th>4</th>\n",
       "      <td>Argentina</td>\n",
       "      <td>9.860000</td>\n",
       "    </tr>\n",
       "    <tr>\n",
       "      <th>...</th>\n",
       "      <td>...</td>\n",
       "      <td>...</td>\n",
       "    </tr>\n",
       "    <tr>\n",
       "      <th>148</th>\n",
       "      <td>Vietnam</td>\n",
       "      <td>8.350000</td>\n",
       "    </tr>\n",
       "    <tr>\n",
       "      <th>149</th>\n",
       "      <td>World</td>\n",
       "      <td>8.840671</td>\n",
       "    </tr>\n",
       "    <tr>\n",
       "      <th>150</th>\n",
       "      <td>Yemen</td>\n",
       "      <td>5.560000</td>\n",
       "    </tr>\n",
       "    <tr>\n",
       "      <th>151</th>\n",
       "      <td>Zambia</td>\n",
       "      <td>8.370000</td>\n",
       "    </tr>\n",
       "    <tr>\n",
       "      <th>152</th>\n",
       "      <td>Zimbabwe</td>\n",
       "      <td>8.320000</td>\n",
       "    </tr>\n",
       "  </tbody>\n",
       "</table>\n",
       "<p>153 rows × 2 columns</p>\n",
       "</div>"
      ],
      "text/plain": [
       "        Location    Avg. Ed\n",
       "0    Afghanistan   5.690000\n",
       "1         Africa   6.681866\n",
       "2        Albania  10.320000\n",
       "3        Algeria   8.180000\n",
       "4      Argentina   9.860000\n",
       "..           ...        ...\n",
       "148      Vietnam   8.350000\n",
       "149        World   8.840671\n",
       "150        Yemen   5.560000\n",
       "151       Zambia   8.370000\n",
       "152     Zimbabwe   8.320000\n",
       "\n",
       "[153 rows x 2 columns]"
      ]
     },
     "execution_count": 12,
     "metadata": {},
     "output_type": "execute_result"
    }
   ],
   "source": [
    "cleaned_edu"
   ]
  },
  {
   "cell_type": "code",
   "execution_count": 13,
   "metadata": {},
   "outputs": [
    {
     "data": {
      "text/html": [
       "<div>\n",
       "<style scoped>\n",
       "    .dataframe tbody tr th:only-of-type {\n",
       "        vertical-align: middle;\n",
       "    }\n",
       "\n",
       "    .dataframe tbody tr th {\n",
       "        vertical-align: top;\n",
       "    }\n",
       "\n",
       "    .dataframe thead th {\n",
       "        text-align: right;\n",
       "    }\n",
       "</style>\n",
       "<table border=\"1\" class=\"dataframe\">\n",
       "  <thead>\n",
       "    <tr style=\"text-align: right;\">\n",
       "      <th></th>\n",
       "      <th>Location</th>\n",
       "      <th>Measure</th>\n",
       "      <th>Road Injuries</th>\n",
       "      <th>HIV</th>\n",
       "      <th>Ischemic Heart Disease</th>\n",
       "    </tr>\n",
       "  </thead>\n",
       "  <tbody>\n",
       "    <tr>\n",
       "      <th>0</th>\n",
       "      <td>Afghanistan</td>\n",
       "      <td>Percent of total deaths</td>\n",
       "      <td>0.066641</td>\n",
       "      <td>0.002164</td>\n",
       "      <td>0.179838</td>\n",
       "    </tr>\n",
       "    <tr>\n",
       "      <th>1</th>\n",
       "      <td>Angola</td>\n",
       "      <td>Percent of total deaths</td>\n",
       "      <td>0.082701</td>\n",
       "      <td>0.195853</td>\n",
       "      <td>0.050400</td>\n",
       "    </tr>\n",
       "    <tr>\n",
       "      <th>2</th>\n",
       "      <td>Albania</td>\n",
       "      <td>Percent of total deaths</td>\n",
       "      <td>0.068380</td>\n",
       "      <td>0.000502</td>\n",
       "      <td>0.173301</td>\n",
       "    </tr>\n",
       "    <tr>\n",
       "      <th>3</th>\n",
       "      <td>Andorra</td>\n",
       "      <td>Percent of total deaths</td>\n",
       "      <td>0.076438</td>\n",
       "      <td>0.026947</td>\n",
       "      <td>0.066150</td>\n",
       "    </tr>\n",
       "    <tr>\n",
       "      <th>4</th>\n",
       "      <td>United Arab Emirates</td>\n",
       "      <td>Percent of total deaths</td>\n",
       "      <td>0.152665</td>\n",
       "      <td>0.005384</td>\n",
       "      <td>0.156873</td>\n",
       "    </tr>\n",
       "    <tr>\n",
       "      <th>...</th>\n",
       "      <td>...</td>\n",
       "      <td>...</td>\n",
       "      <td>...</td>\n",
       "      <td>...</td>\n",
       "      <td>...</td>\n",
       "    </tr>\n",
       "    <tr>\n",
       "      <th>199</th>\n",
       "      <td>Zambia</td>\n",
       "      <td>Percent of total deaths</td>\n",
       "      <td>0.026893</td>\n",
       "      <td>0.299726</td>\n",
       "      <td>0.037537</td>\n",
       "    </tr>\n",
       "    <tr>\n",
       "      <th>200</th>\n",
       "      <td>Zimbabwe</td>\n",
       "      <td>Percent of total deaths</td>\n",
       "      <td>0.030763</td>\n",
       "      <td>0.266965</td>\n",
       "      <td>0.051816</td>\n",
       "    </tr>\n",
       "    <tr>\n",
       "      <th>201</th>\n",
       "      <td>Egypt</td>\n",
       "      <td>Percent of total deaths</td>\n",
       "      <td>0.130131</td>\n",
       "      <td>0.000338</td>\n",
       "      <td>0.270220</td>\n",
       "    </tr>\n",
       "    <tr>\n",
       "      <th>202</th>\n",
       "      <td>Sudan</td>\n",
       "      <td>Percent of total deaths</td>\n",
       "      <td>0.076786</td>\n",
       "      <td>0.079577</td>\n",
       "      <td>0.216912</td>\n",
       "    </tr>\n",
       "    <tr>\n",
       "      <th>203</th>\n",
       "      <td>China</td>\n",
       "      <td>Percent of total deaths</td>\n",
       "      <td>0.097774</td>\n",
       "      <td>0.013816</td>\n",
       "      <td>0.116200</td>\n",
       "    </tr>\n",
       "  </tbody>\n",
       "</table>\n",
       "<p>204 rows × 5 columns</p>\n",
       "</div>"
      ],
      "text/plain": [
       "                 Location                  Measure  Road Injuries       HIV  \\\n",
       "0             Afghanistan  Percent of total deaths       0.066641  0.002164   \n",
       "1                  Angola  Percent of total deaths       0.082701  0.195853   \n",
       "2                 Albania  Percent of total deaths       0.068380  0.000502   \n",
       "3                 Andorra  Percent of total deaths       0.076438  0.026947   \n",
       "4    United Arab Emirates  Percent of total deaths       0.152665  0.005384   \n",
       "..                    ...                      ...            ...       ...   \n",
       "199                Zambia  Percent of total deaths       0.026893  0.299726   \n",
       "200              Zimbabwe  Percent of total deaths       0.030763  0.266965   \n",
       "201                 Egypt  Percent of total deaths       0.130131  0.000338   \n",
       "202                 Sudan  Percent of total deaths       0.076786  0.079577   \n",
       "203                 China  Percent of total deaths       0.097774  0.013816   \n",
       "\n",
       "     Ischemic Heart Disease  \n",
       "0                  0.179838  \n",
       "1                  0.050400  \n",
       "2                  0.173301  \n",
       "3                  0.066150  \n",
       "4                  0.156873  \n",
       "..                      ...  \n",
       "199                0.037537  \n",
       "200                0.051816  \n",
       "201                0.270220  \n",
       "202                0.216912  \n",
       "203                0.116200  \n",
       "\n",
       "[204 rows x 5 columns]"
      ]
     },
     "execution_count": 13,
     "metadata": {},
     "output_type": "execute_result"
    }
   ],
   "source": [
    "cleaned_GBD"
   ]
  },
  {
   "cell_type": "code",
   "execution_count": 14,
   "metadata": {},
   "outputs": [
    {
     "data": {
      "text/html": [
       "<div>\n",
       "<style scoped>\n",
       "    .dataframe tbody tr th:only-of-type {\n",
       "        vertical-align: middle;\n",
       "    }\n",
       "\n",
       "    .dataframe tbody tr th {\n",
       "        vertical-align: top;\n",
       "    }\n",
       "\n",
       "    .dataframe thead th {\n",
       "        text-align: right;\n",
       "    }\n",
       "</style>\n",
       "<table border=\"1\" class=\"dataframe\">\n",
       "  <thead>\n",
       "    <tr style=\"text-align: right;\">\n",
       "      <th></th>\n",
       "      <th>Location</th>\n",
       "      <th>Avg. Ed</th>\n",
       "      <th>Measure</th>\n",
       "      <th>Road Injuries</th>\n",
       "      <th>HIV</th>\n",
       "      <th>Ischemic Heart Disease</th>\n",
       "    </tr>\n",
       "  </thead>\n",
       "  <tbody>\n",
       "    <tr>\n",
       "      <th>0</th>\n",
       "      <td>Afghanistan</td>\n",
       "      <td>5.690000</td>\n",
       "      <td>Percent of total deaths</td>\n",
       "      <td>0.066641</td>\n",
       "      <td>0.002164</td>\n",
       "      <td>0.179838</td>\n",
       "    </tr>\n",
       "    <tr>\n",
       "      <th>1</th>\n",
       "      <td>Africa</td>\n",
       "      <td>6.681866</td>\n",
       "      <td>NaN</td>\n",
       "      <td>NaN</td>\n",
       "      <td>NaN</td>\n",
       "      <td>NaN</td>\n",
       "    </tr>\n",
       "    <tr>\n",
       "      <th>2</th>\n",
       "      <td>Albania</td>\n",
       "      <td>10.320000</td>\n",
       "      <td>Percent of total deaths</td>\n",
       "      <td>0.068380</td>\n",
       "      <td>0.000502</td>\n",
       "      <td>0.173301</td>\n",
       "    </tr>\n",
       "    <tr>\n",
       "      <th>3</th>\n",
       "      <td>Algeria</td>\n",
       "      <td>8.180000</td>\n",
       "      <td>Percent of total deaths</td>\n",
       "      <td>0.162423</td>\n",
       "      <td>0.004090</td>\n",
       "      <td>0.219362</td>\n",
       "    </tr>\n",
       "    <tr>\n",
       "      <th>4</th>\n",
       "      <td>American Samoa</td>\n",
       "      <td>NaN</td>\n",
       "      <td>Percent of total deaths</td>\n",
       "      <td>0.033994</td>\n",
       "      <td>0.003513</td>\n",
       "      <td>0.146465</td>\n",
       "    </tr>\n",
       "    <tr>\n",
       "      <th>...</th>\n",
       "      <td>...</td>\n",
       "      <td>...</td>\n",
       "      <td>...</td>\n",
       "      <td>...</td>\n",
       "      <td>...</td>\n",
       "      <td>...</td>\n",
       "    </tr>\n",
       "    <tr>\n",
       "      <th>224</th>\n",
       "      <td>Vietnam</td>\n",
       "      <td>8.350000</td>\n",
       "      <td>NaN</td>\n",
       "      <td>NaN</td>\n",
       "      <td>NaN</td>\n",
       "      <td>NaN</td>\n",
       "    </tr>\n",
       "    <tr>\n",
       "      <th>225</th>\n",
       "      <td>World</td>\n",
       "      <td>8.840671</td>\n",
       "      <td>NaN</td>\n",
       "      <td>NaN</td>\n",
       "      <td>NaN</td>\n",
       "      <td>NaN</td>\n",
       "    </tr>\n",
       "    <tr>\n",
       "      <th>226</th>\n",
       "      <td>Yemen</td>\n",
       "      <td>5.560000</td>\n",
       "      <td>Percent of total deaths</td>\n",
       "      <td>0.121017</td>\n",
       "      <td>0.003649</td>\n",
       "      <td>0.189279</td>\n",
       "    </tr>\n",
       "    <tr>\n",
       "      <th>227</th>\n",
       "      <td>Zambia</td>\n",
       "      <td>8.370000</td>\n",
       "      <td>Percent of total deaths</td>\n",
       "      <td>0.026893</td>\n",
       "      <td>0.299726</td>\n",
       "      <td>0.037537</td>\n",
       "    </tr>\n",
       "    <tr>\n",
       "      <th>228</th>\n",
       "      <td>Zimbabwe</td>\n",
       "      <td>8.320000</td>\n",
       "      <td>Percent of total deaths</td>\n",
       "      <td>0.030763</td>\n",
       "      <td>0.266965</td>\n",
       "      <td>0.051816</td>\n",
       "    </tr>\n",
       "  </tbody>\n",
       "</table>\n",
       "<p>229 rows × 6 columns</p>\n",
       "</div>"
      ],
      "text/plain": [
       "           Location    Avg. Ed                  Measure  Road Injuries  \\\n",
       "0       Afghanistan   5.690000  Percent of total deaths       0.066641   \n",
       "1            Africa   6.681866                      NaN            NaN   \n",
       "2           Albania  10.320000  Percent of total deaths       0.068380   \n",
       "3           Algeria   8.180000  Percent of total deaths       0.162423   \n",
       "4    American Samoa        NaN  Percent of total deaths       0.033994   \n",
       "..              ...        ...                      ...            ...   \n",
       "224         Vietnam   8.350000                      NaN            NaN   \n",
       "225           World   8.840671                      NaN            NaN   \n",
       "226           Yemen   5.560000  Percent of total deaths       0.121017   \n",
       "227          Zambia   8.370000  Percent of total deaths       0.026893   \n",
       "228        Zimbabwe   8.320000  Percent of total deaths       0.030763   \n",
       "\n",
       "          HIV  Ischemic Heart Disease  \n",
       "0    0.002164                0.179838  \n",
       "1         NaN                     NaN  \n",
       "2    0.000502                0.173301  \n",
       "3    0.004090                0.219362  \n",
       "4    0.003513                0.146465  \n",
       "..        ...                     ...  \n",
       "224       NaN                     NaN  \n",
       "225       NaN                     NaN  \n",
       "226  0.003649                0.189279  \n",
       "227  0.299726                0.037537  \n",
       "228  0.266965                0.051816  \n",
       "\n",
       "[229 rows x 6 columns]"
      ]
     },
     "execution_count": 14,
     "metadata": {},
     "output_type": "execute_result"
    }
   ],
   "source": [
    "# Merge the datasets based on the 'Location' column\n",
    "# Merge DataFrames using full outer join\n",
    "data = pd.merge(cleaned_edu, cleaned_GBD, on='Location', how='outer')\n",
    "\n",
    "data"
   ]
  },
  {
   "cell_type": "code",
   "execution_count": 15,
   "metadata": {},
   "outputs": [
    {
     "data": {
      "text/html": [
       "<div>\n",
       "<style scoped>\n",
       "    .dataframe tbody tr th:only-of-type {\n",
       "        vertical-align: middle;\n",
       "    }\n",
       "\n",
       "    .dataframe tbody tr th {\n",
       "        vertical-align: top;\n",
       "    }\n",
       "\n",
       "    .dataframe thead th {\n",
       "        text-align: right;\n",
       "    }\n",
       "</style>\n",
       "<table border=\"1\" class=\"dataframe\">\n",
       "  <thead>\n",
       "    <tr style=\"text-align: right;\">\n",
       "      <th></th>\n",
       "      <th>Location</th>\n",
       "      <th>Avg. Ed</th>\n",
       "      <th>Measure</th>\n",
       "      <th>Road Injuries</th>\n",
       "      <th>HIV</th>\n",
       "      <th>Ischemic Heart Disease</th>\n",
       "    </tr>\n",
       "  </thead>\n",
       "  <tbody>\n",
       "    <tr>\n",
       "      <th>0</th>\n",
       "      <td>Afghanistan</td>\n",
       "      <td>5.69</td>\n",
       "      <td>Percent of total deaths</td>\n",
       "      <td>0.066641</td>\n",
       "      <td>0.002164</td>\n",
       "      <td>0.179838</td>\n",
       "    </tr>\n",
       "    <tr>\n",
       "      <th>2</th>\n",
       "      <td>Albania</td>\n",
       "      <td>10.32</td>\n",
       "      <td>Percent of total deaths</td>\n",
       "      <td>0.068380</td>\n",
       "      <td>0.000502</td>\n",
       "      <td>0.173301</td>\n",
       "    </tr>\n",
       "    <tr>\n",
       "      <th>3</th>\n",
       "      <td>Algeria</td>\n",
       "      <td>8.18</td>\n",
       "      <td>Percent of total deaths</td>\n",
       "      <td>0.162423</td>\n",
       "      <td>0.004090</td>\n",
       "      <td>0.219362</td>\n",
       "    </tr>\n",
       "    <tr>\n",
       "      <th>8</th>\n",
       "      <td>Argentina</td>\n",
       "      <td>9.86</td>\n",
       "      <td>Percent of total deaths</td>\n",
       "      <td>0.079144</td>\n",
       "      <td>0.026741</td>\n",
       "      <td>0.078703</td>\n",
       "    </tr>\n",
       "    <tr>\n",
       "      <th>9</th>\n",
       "      <td>Armenia</td>\n",
       "      <td>10.54</td>\n",
       "      <td>Percent of total deaths</td>\n",
       "      <td>0.048349</td>\n",
       "      <td>0.005419</td>\n",
       "      <td>0.198225</td>\n",
       "    </tr>\n",
       "    <tr>\n",
       "      <th>...</th>\n",
       "      <td>...</td>\n",
       "      <td>...</td>\n",
       "      <td>...</td>\n",
       "      <td>...</td>\n",
       "      <td>...</td>\n",
       "      <td>...</td>\n",
       "    </tr>\n",
       "    <tr>\n",
       "      <th>213</th>\n",
       "      <td>United Kingdom</td>\n",
       "      <td>12.90</td>\n",
       "      <td>Percent of total deaths</td>\n",
       "      <td>0.034596</td>\n",
       "      <td>0.003553</td>\n",
       "      <td>0.100794</td>\n",
       "    </tr>\n",
       "    <tr>\n",
       "      <th>218</th>\n",
       "      <td>Uruguay</td>\n",
       "      <td>8.76</td>\n",
       "      <td>Percent of total deaths</td>\n",
       "      <td>0.080525</td>\n",
       "      <td>0.031036</td>\n",
       "      <td>0.066344</td>\n",
       "    </tr>\n",
       "    <tr>\n",
       "      <th>226</th>\n",
       "      <td>Yemen</td>\n",
       "      <td>5.56</td>\n",
       "      <td>Percent of total deaths</td>\n",
       "      <td>0.121017</td>\n",
       "      <td>0.003649</td>\n",
       "      <td>0.189279</td>\n",
       "    </tr>\n",
       "    <tr>\n",
       "      <th>227</th>\n",
       "      <td>Zambia</td>\n",
       "      <td>8.37</td>\n",
       "      <td>Percent of total deaths</td>\n",
       "      <td>0.026893</td>\n",
       "      <td>0.299726</td>\n",
       "      <td>0.037537</td>\n",
       "    </tr>\n",
       "    <tr>\n",
       "      <th>228</th>\n",
       "      <td>Zimbabwe</td>\n",
       "      <td>8.32</td>\n",
       "      <td>Percent of total deaths</td>\n",
       "      <td>0.030763</td>\n",
       "      <td>0.266965</td>\n",
       "      <td>0.051816</td>\n",
       "    </tr>\n",
       "  </tbody>\n",
       "</table>\n",
       "<p>128 rows × 6 columns</p>\n",
       "</div>"
      ],
      "text/plain": [
       "           Location  Avg. Ed                  Measure  Road Injuries  \\\n",
       "0       Afghanistan     5.69  Percent of total deaths       0.066641   \n",
       "2           Albania    10.32  Percent of total deaths       0.068380   \n",
       "3           Algeria     8.18  Percent of total deaths       0.162423   \n",
       "8         Argentina     9.86  Percent of total deaths       0.079144   \n",
       "9           Armenia    10.54  Percent of total deaths       0.048349   \n",
       "..              ...      ...                      ...            ...   \n",
       "213  United Kingdom    12.90  Percent of total deaths       0.034596   \n",
       "218         Uruguay     8.76  Percent of total deaths       0.080525   \n",
       "226           Yemen     5.56  Percent of total deaths       0.121017   \n",
       "227          Zambia     8.37  Percent of total deaths       0.026893   \n",
       "228        Zimbabwe     8.32  Percent of total deaths       0.030763   \n",
       "\n",
       "          HIV  Ischemic Heart Disease  \n",
       "0    0.002164                0.179838  \n",
       "2    0.000502                0.173301  \n",
       "3    0.004090                0.219362  \n",
       "8    0.026741                0.078703  \n",
       "9    0.005419                0.198225  \n",
       "..        ...                     ...  \n",
       "213  0.003553                0.100794  \n",
       "218  0.031036                0.066344  \n",
       "226  0.003649                0.189279  \n",
       "227  0.299726                0.037537  \n",
       "228  0.266965                0.051816  \n",
       "\n",
       "[128 rows x 6 columns]"
      ]
     },
     "execution_count": 15,
     "metadata": {},
     "output_type": "execute_result"
    }
   ],
   "source": [
    "# Drop rows with NaN values\n",
    "data.dropna(inplace=True)\n",
    "data"
   ]
  },
  {
   "cell_type": "code",
   "execution_count": 16,
   "metadata": {},
   "outputs": [
    {
     "data": {
      "application/vnd.plotly.v1+json": {
       "config": {
        "plotlyServerURL": "https://plot.ly"
       },
       "data": [
        {
         "hovertemplate": "<b>%{hovertext}</b><br><br>Road Injuries=%{x}<br>Avg. Ed=%{y}<extra></extra>",
         "hovertext": [
          "Afghanistan",
          "Albania",
          "Algeria",
          "Argentina",
          "Armenia",
          "Australia",
          "Austria",
          "Bahrain",
          "Bangladesh",
          "Barbados",
          "Belgium",
          "Belize",
          "Benin",
          "Botswana",
          "Brazil",
          "Bulgaria",
          "Burundi",
          "Cambodia",
          "Cameroon",
          "Canada",
          "Central African Republic",
          "Chile",
          "China",
          "Colombia",
          "Congo",
          "Costa Rica",
          "Croatia",
          "Cuba",
          "Cyprus",
          "Czechia",
          "Denmark",
          "Dominican Republic",
          "Ecuador",
          "Egypt",
          "El Salvador",
          "Estonia",
          "Eswatini",
          "Fiji",
          "Finland",
          "France",
          "Gabon",
          "Gambia",
          "Germany",
          "Ghana",
          "Greece",
          "Guatemala",
          "Guyana",
          "Haiti",
          "Honduras",
          "Hungary",
          "Iceland",
          "India",
          "Indonesia",
          "Iraq",
          "Ireland",
          "Israel",
          "Italy",
          "Jamaica",
          "Japan",
          "Jordan",
          "Kazakhstan",
          "Kenya",
          "Kuwait",
          "Kyrgyzstan",
          "Latvia",
          "Lesotho",
          "Liberia",
          "Libya",
          "Lithuania",
          "Luxembourg",
          "Malawi",
          "Malaysia",
          "Maldives",
          "Mali",
          "Malta",
          "Mauritania",
          "Mauritius",
          "Mexico",
          "Mongolia",
          "Morocco",
          "Mozambique",
          "Myanmar",
          "Namibia",
          "Nepal",
          "Netherlands",
          "New Zealand",
          "Nicaragua",
          "Niger",
          "Norway",
          "Pakistan",
          "Panama",
          "Papua New Guinea",
          "Paraguay",
          "Peru",
          "Philippines",
          "Poland",
          "Portugal",
          "Qatar",
          "Romania",
          "Rwanda",
          "Saudi Arabia",
          "Senegal",
          "Serbia",
          "Sierra Leone",
          "Singapore",
          "Slovakia",
          "Slovenia",
          "South Africa",
          "Spain",
          "Sri Lanka",
          "Sudan",
          "Sweden",
          "Switzerland",
          "Tajikistan",
          "Thailand",
          "Togo",
          "Tonga",
          "Trinidad and Tobago",
          "Tunisia",
          "Turkey",
          "Uganda",
          "Ukraine",
          "United Arab Emirates",
          "United Kingdom",
          "Uruguay",
          "Yemen",
          "Zambia",
          "Zimbabwe"
         ],
         "legendgroup": "",
         "marker": {
          "color": "#636efa",
          "symbol": "circle"
         },
         "mode": "markers",
         "name": "",
         "orientation": "v",
         "showlegend": false,
         "type": "scatter",
         "x": [
          0.066641327,
          0.06838024,
          0.162422905,
          0.079143662,
          0.048349224,
          0.059117539,
          0.050365923,
          0.097386102,
          0.028538244,
          0.046340264,
          0.06704812,
          0.076895725,
          0.042746516,
          0.034871225,
          0.086101656,
          0.037427134,
          0.041683861,
          0.067473322,
          0.050995562,
          0.055790023,
          0.071011947,
          0.083013317,
          0.097773854,
          0.080120402,
          0.069828734,
          0.107248144,
          0.064738773,
          0.051738459,
          0.098016312,
          0.047424538,
          0.044368224,
          0.096074618,
          0.127797705,
          0.130130931,
          0.065789602,
          0.028575966,
          0.046270231,
          0.031148605,
          0.034215758,
          0.05991004,
          0.083831834,
          0.030919251,
          0.045764327,
          0.051857603,
          0.09551369,
          0.056673057,
          0.049030666,
          0.02414776,
          0.051319469,
          0.03861593,
          0.037279889,
          0.057327416,
          0.055434579,
          0.068001274,
          0.034484986,
          0.068584453,
          0.073457327,
          0.028279817,
          0.033480451,
          0.099227476,
          0.053265494,
          0.022197937,
          0.123313694,
          0.076460344,
          0.036885324,
          0.036598253,
          0.027606643,
          0.138825952,
          0.032398383,
          0.061344137,
          0.028665512,
          0.120740453,
          0.041648061,
          0.028074999,
          0.03944543,
          0.092365235,
          0.050007614,
          0.070708359,
          0.054430782,
          0.122015526,
          0.026381939,
          0.03934312,
          0.050670244,
          0.034854646,
          0.039203014,
          0.071656423,
          0.068153456,
          0.034689248,
          0.037167955,
          0.028217442,
          0.076776355,
          0.057124407,
          0.123117025,
          0.087529891,
          0.039167153,
          0.053927231,
          0.058203554,
          0.243887113,
          0.046773143,
          0.059316307,
          0.238398398,
          0.04000284,
          0.045687711,
          0.038518187,
          0.037088719,
          0.044599815,
          0.055031062,
          0.055650828,
          0.050841039,
          0.06817149,
          0.07678624,
          0.036868105,
          0.0403709,
          0.039688764,
          0.107271644,
          0.050252846,
          0.043239568,
          0.048669873,
          0.13262982,
          0.074540364,
          0.039954147,
          0.03719242,
          0.15266505,
          0.034596084,
          0.080525145,
          0.121016778,
          0.026893337,
          0.030762777
         ],
         "xaxis": "x",
         "y": [
          5.69,
          10.32,
          8.18,
          9.86,
          10.54,
          12.93,
          10.39,
          8.21,
          7.23,
          9.67,
          11.57,
          10.71,
          6.27,
          10.58,
          8,
          10.75,
          5.05,
          5.81,
          7.37,
          12.93,
          4.64,
          10.74,
          8.99,
          10.2,
          6.74,
          9.12,
          12.03,
          11.61,
          12.42,
          12.93,
          11.69,
          9.04,
          9.07,
          8.01,
          8.1,
          12.29,
          6.46,
          11.52,
          11.05,
          11.89,
          10.18,
          4.92,
          13.1,
          8.39,
          11.86,
          6.26,
          8.52,
          5.95,
          7.51,
          11.96,
          13.53,
          7.8,
          9.06,
          8.27,
          13.74,
          12.04,
          11.51,
          10.1,
          12.83,
          10.81,
          11.79,
          6.73,
          6.62,
          11.18,
          11.96,
          6.88,
          5.8,
          9.57,
          12.5,
          11.53,
          5.41,
          11.96,
          8.06,
          3.55,
          12.09,
          5.55,
          10.4,
          10.18,
          10,
          6.83,
          4.22,
          6.48,
          6.88,
          6.19,
          11.82,
          10.81,
          7.76,
          3.04,
          12.08,
          6.41,
          10.44,
          4.84,
          8.83,
          9.96,
          9.44,
          12.01,
          9.56,
          8.52,
          11.28,
          5.24,
          9.86,
          4.4,
          11.72,
          4.99,
          13.06,
          13.14,
          12.06,
          10.47,
          11.51,
          10.33,
          4.38,
          11.93,
          12.97,
          10.12,
          9.32,
          7.68,
          11.42,
          11.28,
          9.29,
          8.49,
          6.69,
          10.82,
          9.57,
          12.9,
          8.76,
          5.56,
          8.37,
          8.32
         ],
         "yaxis": "y"
        },
        {
         "hovertemplate": "<b>OLS trendline</b><br>Avg. Ed = -1.79102 * Road Injuries + 9.43264<br>R<sup>2</sup>=0.000655<br><br>Road Injuries=%{x}<br>Avg. Ed=%{y} <b>(trend)</b><extra></extra>",
         "legendgroup": "",
         "line": {
          "color": "red"
         },
         "marker": {
          "color": "#636efa",
          "symbol": "circle"
         },
         "mode": "lines",
         "name": "",
         "showlegend": false,
         "type": "scatter",
         "x": [
          0.022197937,
          0.02414776,
          0.026381939,
          0.026893337,
          0.027606643,
          0.028074999,
          0.028217442,
          0.028279817,
          0.028538244,
          0.028575966,
          0.028665512,
          0.030762777,
          0.030919251,
          0.031148605,
          0.032398383,
          0.033480451,
          0.034215758,
          0.034484986,
          0.034596084,
          0.034689248,
          0.034854646,
          0.034871225,
          0.036598253,
          0.036868105,
          0.036885324,
          0.037088719,
          0.037167955,
          0.03719242,
          0.037279889,
          0.037427134,
          0.038518187,
          0.03861593,
          0.039167153,
          0.039203014,
          0.03934312,
          0.03944543,
          0.039688764,
          0.039954147,
          0.04000284,
          0.0403709,
          0.041648061,
          0.041683861,
          0.042746516,
          0.043239568,
          0.044368224,
          0.044599815,
          0.045687711,
          0.045764327,
          0.046270231,
          0.046340264,
          0.046773143,
          0.047424538,
          0.048349224,
          0.048669873,
          0.049030666,
          0.050007614,
          0.050252846,
          0.050365923,
          0.050670244,
          0.050841039,
          0.050995562,
          0.051319469,
          0.051738459,
          0.051857603,
          0.053265494,
          0.053927231,
          0.054430782,
          0.055031062,
          0.055434579,
          0.055650828,
          0.055790023,
          0.056673057,
          0.057124407,
          0.057327416,
          0.058203554,
          0.059117539,
          0.059316307,
          0.05991004,
          0.061344137,
          0.064738773,
          0.065789602,
          0.066641327,
          0.06704812,
          0.067473322,
          0.068001274,
          0.068153456,
          0.06817149,
          0.06838024,
          0.068584453,
          0.069828734,
          0.070708359,
          0.071011947,
          0.071656423,
          0.073457327,
          0.074540364,
          0.076460344,
          0.076776355,
          0.07678624,
          0.076895725,
          0.079143662,
          0.080120402,
          0.080525145,
          0.083013317,
          0.083831834,
          0.086101656,
          0.087529891,
          0.092365235,
          0.09551369,
          0.096074618,
          0.097386102,
          0.097773854,
          0.098016312,
          0.099227476,
          0.107248144,
          0.107271644,
          0.120740453,
          0.121016778,
          0.122015526,
          0.123117025,
          0.123313694,
          0.127797705,
          0.130130931,
          0.13262982,
          0.138825952,
          0.15266505,
          0.162422905,
          0.238398398,
          0.243887113
         ],
         "xaxis": "x",
         "y": [
          9.392880838878845,
          9.389388671812934,
          9.38538721818194,
          9.384471295427325,
          9.383193751916393,
          9.382354918135931,
          9.382099800233757,
          9.381988085518762,
          9.381525238245784,
          9.381457677484596,
          9.381297299033792,
          9.377541060769351,
          9.377260813100987,
          9.376850036079055,
          9.374611661841342,
          9.372673659144342,
          9.371356711457945,
          9.37087451940522,
          9.370675540945797,
          9.370508682593767,
          9.37021245188546,
          9.370182758606742,
          9.367089621279147,
          9.366606311631518,
          9.366575472101617,
          9.366211188102316,
          9.366069275041676,
          9.366025457799154,
          9.365868799291645,
          9.365605080923556,
          9.363650985934544,
          9.363475926513496,
          9.362488676487946,
          9.362424448810279,
          9.362173516515943,
          9.361990277518089,
          9.361554462071858,
          9.361079156481324,
          9.36099194646742,
          9.360332744575619,
          9.358045326906392,
          9.357981208480792,
          9.35607797480603,
          9.355194910058009,
          9.353173467438888,
          9.352758683910865,
          9.35081024316402,
          9.350673022569165,
          9.349766939664557,
          9.349641509337738,
          9.348866215484234,
          9.347699555656188,
          9.346043426871418,
          9.345469138909117,
          9.344822952341305,
          9.343073221401262,
          9.342634006603864,
          9.342431483720858,
          9.341886439491887,
          9.341580542662266,
          9.341303789268997,
          9.340723666171762,
          9.339973247759966,
          9.33975985877394,
          9.337238301390222,
          9.336053118859452,
          9.335151250218962,
          9.334076138249145,
          9.333353432250737,
          9.332966126512813,
          9.332716825835398,
          9.33113529651049,
          9.330326920773206,
          9.32996332810665,
          9.32839414963825,
          9.326757186531477,
          9.326401189570031,
          9.325337803391623,
          9.32276931060396,
          9.316689458207126,
          9.314807405105022,
          9.313281950746235,
          9.312553377374579,
          9.311791833162228,
          9.310846261904334,
          9.310573701282973,
          9.31054140207383,
          9.31016752717595,
          9.309801778124354,
          9.307573249109701,
          9.305997825363367,
          9.305454093950205,
          9.304299826172068,
          9.301074375637498,
          9.299134637444565,
          9.295695919713157,
          9.295129938489906,
          9.295112234282167,
          9.294916144733929,
          9.290890050284515,
          9.289140691876108,
          9.288415790090275,
          9.283959430557784,
          9.282493452307303,
          9.278428161440452,
          9.275870167597226,
          9.267209981996203,
          9.26157104407235,
          9.260566412222204,
          9.258217521460187,
          9.25752305085227,
          9.257088804337346,
          9.25491958844841,
          9.240554431900252,
          9.240512342989593,
          9.216389470704863,
          9.215894567801119,
          9.214105792680122,
          9.212132988722567,
          9.211780751106803,
          9.203749809048277,
          9.19957096050945,
          9.19509540664268,
          9.18399802595406,
          9.159211959599574,
          9.141735470777295,
          9.00566203515218,
          8.995831650672582
         ],
         "yaxis": "y"
        }
       ],
       "layout": {
        "legend": {
         "tracegroupgap": 0
        },
        "margin": {
         "t": 60
        },
        "template": {
         "data": {
          "bar": [
           {
            "error_x": {
             "color": "#2a3f5f"
            },
            "error_y": {
             "color": "#2a3f5f"
            },
            "marker": {
             "line": {
              "color": "#E5ECF6",
              "width": 0.5
             },
             "pattern": {
              "fillmode": "overlay",
              "size": 10,
              "solidity": 0.2
             }
            },
            "type": "bar"
           }
          ],
          "barpolar": [
           {
            "marker": {
             "line": {
              "color": "#E5ECF6",
              "width": 0.5
             },
             "pattern": {
              "fillmode": "overlay",
              "size": 10,
              "solidity": 0.2
             }
            },
            "type": "barpolar"
           }
          ],
          "carpet": [
           {
            "aaxis": {
             "endlinecolor": "#2a3f5f",
             "gridcolor": "white",
             "linecolor": "white",
             "minorgridcolor": "white",
             "startlinecolor": "#2a3f5f"
            },
            "baxis": {
             "endlinecolor": "#2a3f5f",
             "gridcolor": "white",
             "linecolor": "white",
             "minorgridcolor": "white",
             "startlinecolor": "#2a3f5f"
            },
            "type": "carpet"
           }
          ],
          "choropleth": [
           {
            "colorbar": {
             "outlinewidth": 0,
             "ticks": ""
            },
            "type": "choropleth"
           }
          ],
          "contour": [
           {
            "colorbar": {
             "outlinewidth": 0,
             "ticks": ""
            },
            "colorscale": [
             [
              0,
              "#0d0887"
             ],
             [
              0.1111111111111111,
              "#46039f"
             ],
             [
              0.2222222222222222,
              "#7201a8"
             ],
             [
              0.3333333333333333,
              "#9c179e"
             ],
             [
              0.4444444444444444,
              "#bd3786"
             ],
             [
              0.5555555555555556,
              "#d8576b"
             ],
             [
              0.6666666666666666,
              "#ed7953"
             ],
             [
              0.7777777777777778,
              "#fb9f3a"
             ],
             [
              0.8888888888888888,
              "#fdca26"
             ],
             [
              1,
              "#f0f921"
             ]
            ],
            "type": "contour"
           }
          ],
          "contourcarpet": [
           {
            "colorbar": {
             "outlinewidth": 0,
             "ticks": ""
            },
            "type": "contourcarpet"
           }
          ],
          "heatmap": [
           {
            "colorbar": {
             "outlinewidth": 0,
             "ticks": ""
            },
            "colorscale": [
             [
              0,
              "#0d0887"
             ],
             [
              0.1111111111111111,
              "#46039f"
             ],
             [
              0.2222222222222222,
              "#7201a8"
             ],
             [
              0.3333333333333333,
              "#9c179e"
             ],
             [
              0.4444444444444444,
              "#bd3786"
             ],
             [
              0.5555555555555556,
              "#d8576b"
             ],
             [
              0.6666666666666666,
              "#ed7953"
             ],
             [
              0.7777777777777778,
              "#fb9f3a"
             ],
             [
              0.8888888888888888,
              "#fdca26"
             ],
             [
              1,
              "#f0f921"
             ]
            ],
            "type": "heatmap"
           }
          ],
          "heatmapgl": [
           {
            "colorbar": {
             "outlinewidth": 0,
             "ticks": ""
            },
            "colorscale": [
             [
              0,
              "#0d0887"
             ],
             [
              0.1111111111111111,
              "#46039f"
             ],
             [
              0.2222222222222222,
              "#7201a8"
             ],
             [
              0.3333333333333333,
              "#9c179e"
             ],
             [
              0.4444444444444444,
              "#bd3786"
             ],
             [
              0.5555555555555556,
              "#d8576b"
             ],
             [
              0.6666666666666666,
              "#ed7953"
             ],
             [
              0.7777777777777778,
              "#fb9f3a"
             ],
             [
              0.8888888888888888,
              "#fdca26"
             ],
             [
              1,
              "#f0f921"
             ]
            ],
            "type": "heatmapgl"
           }
          ],
          "histogram": [
           {
            "marker": {
             "pattern": {
              "fillmode": "overlay",
              "size": 10,
              "solidity": 0.2
             }
            },
            "type": "histogram"
           }
          ],
          "histogram2d": [
           {
            "colorbar": {
             "outlinewidth": 0,
             "ticks": ""
            },
            "colorscale": [
             [
              0,
              "#0d0887"
             ],
             [
              0.1111111111111111,
              "#46039f"
             ],
             [
              0.2222222222222222,
              "#7201a8"
             ],
             [
              0.3333333333333333,
              "#9c179e"
             ],
             [
              0.4444444444444444,
              "#bd3786"
             ],
             [
              0.5555555555555556,
              "#d8576b"
             ],
             [
              0.6666666666666666,
              "#ed7953"
             ],
             [
              0.7777777777777778,
              "#fb9f3a"
             ],
             [
              0.8888888888888888,
              "#fdca26"
             ],
             [
              1,
              "#f0f921"
             ]
            ],
            "type": "histogram2d"
           }
          ],
          "histogram2dcontour": [
           {
            "colorbar": {
             "outlinewidth": 0,
             "ticks": ""
            },
            "colorscale": [
             [
              0,
              "#0d0887"
             ],
             [
              0.1111111111111111,
              "#46039f"
             ],
             [
              0.2222222222222222,
              "#7201a8"
             ],
             [
              0.3333333333333333,
              "#9c179e"
             ],
             [
              0.4444444444444444,
              "#bd3786"
             ],
             [
              0.5555555555555556,
              "#d8576b"
             ],
             [
              0.6666666666666666,
              "#ed7953"
             ],
             [
              0.7777777777777778,
              "#fb9f3a"
             ],
             [
              0.8888888888888888,
              "#fdca26"
             ],
             [
              1,
              "#f0f921"
             ]
            ],
            "type": "histogram2dcontour"
           }
          ],
          "mesh3d": [
           {
            "colorbar": {
             "outlinewidth": 0,
             "ticks": ""
            },
            "type": "mesh3d"
           }
          ],
          "parcoords": [
           {
            "line": {
             "colorbar": {
              "outlinewidth": 0,
              "ticks": ""
             }
            },
            "type": "parcoords"
           }
          ],
          "pie": [
           {
            "automargin": true,
            "type": "pie"
           }
          ],
          "scatter": [
           {
            "fillpattern": {
             "fillmode": "overlay",
             "size": 10,
             "solidity": 0.2
            },
            "type": "scatter"
           }
          ],
          "scatter3d": [
           {
            "line": {
             "colorbar": {
              "outlinewidth": 0,
              "ticks": ""
             }
            },
            "marker": {
             "colorbar": {
              "outlinewidth": 0,
              "ticks": ""
             }
            },
            "type": "scatter3d"
           }
          ],
          "scattercarpet": [
           {
            "marker": {
             "colorbar": {
              "outlinewidth": 0,
              "ticks": ""
             }
            },
            "type": "scattercarpet"
           }
          ],
          "scattergeo": [
           {
            "marker": {
             "colorbar": {
              "outlinewidth": 0,
              "ticks": ""
             }
            },
            "type": "scattergeo"
           }
          ],
          "scattergl": [
           {
            "marker": {
             "colorbar": {
              "outlinewidth": 0,
              "ticks": ""
             }
            },
            "type": "scattergl"
           }
          ],
          "scattermapbox": [
           {
            "marker": {
             "colorbar": {
              "outlinewidth": 0,
              "ticks": ""
             }
            },
            "type": "scattermapbox"
           }
          ],
          "scatterpolar": [
           {
            "marker": {
             "colorbar": {
              "outlinewidth": 0,
              "ticks": ""
             }
            },
            "type": "scatterpolar"
           }
          ],
          "scatterpolargl": [
           {
            "marker": {
             "colorbar": {
              "outlinewidth": 0,
              "ticks": ""
             }
            },
            "type": "scatterpolargl"
           }
          ],
          "scatterternary": [
           {
            "marker": {
             "colorbar": {
              "outlinewidth": 0,
              "ticks": ""
             }
            },
            "type": "scatterternary"
           }
          ],
          "surface": [
           {
            "colorbar": {
             "outlinewidth": 0,
             "ticks": ""
            },
            "colorscale": [
             [
              0,
              "#0d0887"
             ],
             [
              0.1111111111111111,
              "#46039f"
             ],
             [
              0.2222222222222222,
              "#7201a8"
             ],
             [
              0.3333333333333333,
              "#9c179e"
             ],
             [
              0.4444444444444444,
              "#bd3786"
             ],
             [
              0.5555555555555556,
              "#d8576b"
             ],
             [
              0.6666666666666666,
              "#ed7953"
             ],
             [
              0.7777777777777778,
              "#fb9f3a"
             ],
             [
              0.8888888888888888,
              "#fdca26"
             ],
             [
              1,
              "#f0f921"
             ]
            ],
            "type": "surface"
           }
          ],
          "table": [
           {
            "cells": {
             "fill": {
              "color": "#EBF0F8"
             },
             "line": {
              "color": "white"
             }
            },
            "header": {
             "fill": {
              "color": "#C8D4E3"
             },
             "line": {
              "color": "white"
             }
            },
            "type": "table"
           }
          ]
         },
         "layout": {
          "annotationdefaults": {
           "arrowcolor": "#2a3f5f",
           "arrowhead": 0,
           "arrowwidth": 1
          },
          "autotypenumbers": "strict",
          "coloraxis": {
           "colorbar": {
            "outlinewidth": 0,
            "ticks": ""
           }
          },
          "colorscale": {
           "diverging": [
            [
             0,
             "#8e0152"
            ],
            [
             0.1,
             "#c51b7d"
            ],
            [
             0.2,
             "#de77ae"
            ],
            [
             0.3,
             "#f1b6da"
            ],
            [
             0.4,
             "#fde0ef"
            ],
            [
             0.5,
             "#f7f7f7"
            ],
            [
             0.6,
             "#e6f5d0"
            ],
            [
             0.7,
             "#b8e186"
            ],
            [
             0.8,
             "#7fbc41"
            ],
            [
             0.9,
             "#4d9221"
            ],
            [
             1,
             "#276419"
            ]
           ],
           "sequential": [
            [
             0,
             "#0d0887"
            ],
            [
             0.1111111111111111,
             "#46039f"
            ],
            [
             0.2222222222222222,
             "#7201a8"
            ],
            [
             0.3333333333333333,
             "#9c179e"
            ],
            [
             0.4444444444444444,
             "#bd3786"
            ],
            [
             0.5555555555555556,
             "#d8576b"
            ],
            [
             0.6666666666666666,
             "#ed7953"
            ],
            [
             0.7777777777777778,
             "#fb9f3a"
            ],
            [
             0.8888888888888888,
             "#fdca26"
            ],
            [
             1,
             "#f0f921"
            ]
           ],
           "sequentialminus": [
            [
             0,
             "#0d0887"
            ],
            [
             0.1111111111111111,
             "#46039f"
            ],
            [
             0.2222222222222222,
             "#7201a8"
            ],
            [
             0.3333333333333333,
             "#9c179e"
            ],
            [
             0.4444444444444444,
             "#bd3786"
            ],
            [
             0.5555555555555556,
             "#d8576b"
            ],
            [
             0.6666666666666666,
             "#ed7953"
            ],
            [
             0.7777777777777778,
             "#fb9f3a"
            ],
            [
             0.8888888888888888,
             "#fdca26"
            ],
            [
             1,
             "#f0f921"
            ]
           ]
          },
          "colorway": [
           "#636efa",
           "#EF553B",
           "#00cc96",
           "#ab63fa",
           "#FFA15A",
           "#19d3f3",
           "#FF6692",
           "#B6E880",
           "#FF97FF",
           "#FECB52"
          ],
          "font": {
           "color": "#2a3f5f"
          },
          "geo": {
           "bgcolor": "white",
           "lakecolor": "white",
           "landcolor": "#E5ECF6",
           "showlakes": true,
           "showland": true,
           "subunitcolor": "white"
          },
          "hoverlabel": {
           "align": "left"
          },
          "hovermode": "closest",
          "mapbox": {
           "style": "light"
          },
          "paper_bgcolor": "white",
          "plot_bgcolor": "#E5ECF6",
          "polar": {
           "angularaxis": {
            "gridcolor": "white",
            "linecolor": "white",
            "ticks": ""
           },
           "bgcolor": "#E5ECF6",
           "radialaxis": {
            "gridcolor": "white",
            "linecolor": "white",
            "ticks": ""
           }
          },
          "scene": {
           "xaxis": {
            "backgroundcolor": "#E5ECF6",
            "gridcolor": "white",
            "gridwidth": 2,
            "linecolor": "white",
            "showbackground": true,
            "ticks": "",
            "zerolinecolor": "white"
           },
           "yaxis": {
            "backgroundcolor": "#E5ECF6",
            "gridcolor": "white",
            "gridwidth": 2,
            "linecolor": "white",
            "showbackground": true,
            "ticks": "",
            "zerolinecolor": "white"
           },
           "zaxis": {
            "backgroundcolor": "#E5ECF6",
            "gridcolor": "white",
            "gridwidth": 2,
            "linecolor": "white",
            "showbackground": true,
            "ticks": "",
            "zerolinecolor": "white"
           }
          },
          "shapedefaults": {
           "line": {
            "color": "#2a3f5f"
           }
          },
          "ternary": {
           "aaxis": {
            "gridcolor": "white",
            "linecolor": "white",
            "ticks": ""
           },
           "baxis": {
            "gridcolor": "white",
            "linecolor": "white",
            "ticks": ""
           },
           "bgcolor": "#E5ECF6",
           "caxis": {
            "gridcolor": "white",
            "linecolor": "white",
            "ticks": ""
           }
          },
          "title": {
           "x": 0.05
          },
          "xaxis": {
           "automargin": true,
           "gridcolor": "white",
           "linecolor": "white",
           "ticks": "",
           "title": {
            "standoff": 15
           },
           "zerolinecolor": "white",
           "zerolinewidth": 2
          },
          "yaxis": {
           "automargin": true,
           "gridcolor": "white",
           "linecolor": "white",
           "ticks": "",
           "title": {
            "standoff": 15
           },
           "zerolinecolor": "white",
           "zerolinewidth": 2
          }
         }
        },
        "title": {
         "text": "Road Injuries vs. Average Years of Education by Location",
         "x": 0.5,
         "xanchor": "center"
        },
        "xaxis": {
         "anchor": "y",
         "domain": [
          0,
          1
         ],
         "title": {
          "text": "Road Injuries"
         }
        },
        "yaxis": {
         "anchor": "x",
         "domain": [
          0,
          1
         ],
         "title": {
          "text": "Avg. Ed"
         }
        }
       }
      }
     },
     "metadata": {},
     "output_type": "display_data"
    }
   ],
   "source": [
    "# Assuming 'data' is your DataFrame\n",
    "fig_1 = px.scatter(data, y='Avg. Ed', x='Road Injuries', trendline='ols', hover_name='Location', trendline_color_override='red')\n",
    "\n",
    "# Update layout to add title\n",
    "fig_1.update_layout(\n",
    "    title={'text':'Road Injuries vs. Average Years of Education by Location','x': 0.5,\n",
    "        'xanchor': 'center'})\n",
    "\n",
    "# Show the plot\n",
    "fig_1.show()"
   ]
  },
  {
   "cell_type": "code",
   "execution_count": 17,
   "metadata": {},
   "outputs": [
    {
     "data": {
      "application/vnd.plotly.v1+json": {
       "config": {
        "plotlyServerURL": "https://plot.ly"
       },
       "data": [
        {
         "hovertemplate": "<b>%{hovertext}</b><br><br>HIV=%{x}<br>Avg. Ed=%{y}<extra></extra>",
         "hovertext": [
          "Afghanistan",
          "Albania",
          "Algeria",
          "Argentina",
          "Armenia",
          "Australia",
          "Austria",
          "Bahrain",
          "Bangladesh",
          "Barbados",
          "Belgium",
          "Belize",
          "Benin",
          "Botswana",
          "Brazil",
          "Bulgaria",
          "Burundi",
          "Cambodia",
          "Cameroon",
          "Canada",
          "Central African Republic",
          "Chile",
          "China",
          "Colombia",
          "Congo",
          "Costa Rica",
          "Croatia",
          "Cuba",
          "Cyprus",
          "Czechia",
          "Denmark",
          "Dominican Republic",
          "Ecuador",
          "Egypt",
          "El Salvador",
          "Estonia",
          "Eswatini",
          "Fiji",
          "Finland",
          "France",
          "Gabon",
          "Gambia",
          "Germany",
          "Ghana",
          "Greece",
          "Guatemala",
          "Guyana",
          "Haiti",
          "Honduras",
          "Hungary",
          "Iceland",
          "India",
          "Indonesia",
          "Iraq",
          "Ireland",
          "Israel",
          "Italy",
          "Jamaica",
          "Japan",
          "Jordan",
          "Kazakhstan",
          "Kenya",
          "Kuwait",
          "Kyrgyzstan",
          "Latvia",
          "Lesotho",
          "Liberia",
          "Libya",
          "Lithuania",
          "Luxembourg",
          "Malawi",
          "Malaysia",
          "Maldives",
          "Mali",
          "Malta",
          "Mauritania",
          "Mauritius",
          "Mexico",
          "Mongolia",
          "Morocco",
          "Mozambique",
          "Myanmar",
          "Namibia",
          "Nepal",
          "Netherlands",
          "New Zealand",
          "Nicaragua",
          "Niger",
          "Norway",
          "Pakistan",
          "Panama",
          "Papua New Guinea",
          "Paraguay",
          "Peru",
          "Philippines",
          "Poland",
          "Portugal",
          "Qatar",
          "Romania",
          "Rwanda",
          "Saudi Arabia",
          "Senegal",
          "Serbia",
          "Sierra Leone",
          "Singapore",
          "Slovakia",
          "Slovenia",
          "South Africa",
          "Spain",
          "Sri Lanka",
          "Sudan",
          "Sweden",
          "Switzerland",
          "Tajikistan",
          "Thailand",
          "Togo",
          "Tonga",
          "Trinidad and Tobago",
          "Tunisia",
          "Turkey",
          "Uganda",
          "Ukraine",
          "United Arab Emirates",
          "United Kingdom",
          "Uruguay",
          "Yemen",
          "Zambia",
          "Zimbabwe"
         ],
         "legendgroup": "",
         "marker": {
          "color": "#636efa",
          "symbol": "circle"
         },
         "mode": "markers",
         "name": "",
         "orientation": "v",
         "showlegend": false,
         "type": "scatter",
         "x": [
          0.002163739,
          0.000502499,
          0.004090408,
          0.026741034,
          0.005419346,
          0.002883772,
          0.004875665,
          0.004204352,
          0.00154532,
          0.047641532,
          0.004199578,
          0.083756256,
          0.06452762,
          0.407560319,
          0.032291519,
          0.003013197,
          0.051661858,
          0.034849137,
          0.24407306,
          0.00702363,
          0.17121064,
          0.024019906,
          0.01381587,
          0.031848471,
          0.215864322,
          0.02109365,
          0.001376084,
          0.023634215,
          0.003539115,
          0.00142973,
          0.004120078,
          0.052635665,
          0.041168267,
          0.000338142,
          0.038926097,
          0.020385401,
          0.409605524,
          0.003301266,
          0.000782991,
          0.006500853,
          0.197340737,
          0.183163471,
          0.004614943,
          0.157467854,
          0.002384857,
          0.014439536,
          0.063360326,
          0.128451108,
          0.005467102,
          0.001870226,
          0.00403136,
          0.015410431,
          0.010196381,
          0.000850623,
          0.002683637,
          0.005491826,
          0.012414017,
          0.088095271,
          0.000842329,
          0.00222151,
          0.0067177,
          0.305973662,
          0.000675286,
          0.014557418,
          0.033754018,
          0.451738626,
          0.127374574,
          0.006021968,
          0.010500185,
          0.005019126,
          0.2415567,
          0.022782755,
          0.001683667,
          0.084714686,
          0.004694468,
          0.003171153,
          0.037756732,
          0.020663671,
          0.001047892,
          0.007385679,
          0.39005817,
          0.037329977,
          0.352518799,
          0.025657325,
          0.003214369,
          0.002139059,
          0.068278136,
          0.02980367,
          0.003292387,
          0.00638473,
          0.096265519,
          0.110476928,
          0.041785546,
          0.045313,
          0.019214993,
          0.002616519,
          0.046495941,
          0.00141832,
          0.004689288,
          0.104096265,
          0.007718808,
          0.049555475,
          0.00401256,
          0.11763992,
          0.008936079,
          0.000515274,
          0.001186897,
          0.428854527,
          0.018652727,
          0.001055111,
          0.079576618,
          0.002482691,
          0.006131304,
          0.0040251,
          0.097873109,
          0.140861224,
          0.009062579,
          0.068789928,
          0.010316137,
          0.002498374,
          0.201332285,
          0.043163931,
          0.0053842,
          0.003553172,
          0.031035518,
          0.003649288,
          0.299726216,
          0.266964611
         ],
         "xaxis": "x",
         "y": [
          5.69,
          10.32,
          8.18,
          9.86,
          10.54,
          12.93,
          10.39,
          8.21,
          7.23,
          9.67,
          11.57,
          10.71,
          6.27,
          10.58,
          8,
          10.75,
          5.05,
          5.81,
          7.37,
          12.93,
          4.64,
          10.74,
          8.99,
          10.2,
          6.74,
          9.12,
          12.03,
          11.61,
          12.42,
          12.93,
          11.69,
          9.04,
          9.07,
          8.01,
          8.1,
          12.29,
          6.46,
          11.52,
          11.05,
          11.89,
          10.18,
          4.92,
          13.1,
          8.39,
          11.86,
          6.26,
          8.52,
          5.95,
          7.51,
          11.96,
          13.53,
          7.8,
          9.06,
          8.27,
          13.74,
          12.04,
          11.51,
          10.1,
          12.83,
          10.81,
          11.79,
          6.73,
          6.62,
          11.18,
          11.96,
          6.88,
          5.8,
          9.57,
          12.5,
          11.53,
          5.41,
          11.96,
          8.06,
          3.55,
          12.09,
          5.55,
          10.4,
          10.18,
          10,
          6.83,
          4.22,
          6.48,
          6.88,
          6.19,
          11.82,
          10.81,
          7.76,
          3.04,
          12.08,
          6.41,
          10.44,
          4.84,
          8.83,
          9.96,
          9.44,
          12.01,
          9.56,
          8.52,
          11.28,
          5.24,
          9.86,
          4.4,
          11.72,
          4.99,
          13.06,
          13.14,
          12.06,
          10.47,
          11.51,
          10.33,
          4.38,
          11.93,
          12.97,
          10.12,
          9.32,
          7.68,
          11.42,
          11.28,
          9.29,
          8.49,
          6.69,
          10.82,
          9.57,
          12.9,
          8.76,
          5.56,
          8.37,
          8.32
         ],
         "yaxis": "y"
        },
        {
         "hovertemplate": "<b>OLS trendline</b><br>Avg. Ed = -10.0152 * HIV + 9.92184<br>R<sup>2</sup>=0.152926<br><br>HIV=%{x}<br>Avg. Ed=%{y} <b>(trend)</b><extra></extra>",
         "legendgroup": "",
         "line": {
          "color": "red"
         },
         "marker": {
          "color": "#636efa",
          "symbol": "circle"
         },
         "mode": "lines",
         "name": "",
         "showlegend": false,
         "type": "scatter",
         "x": [
          0.000338142,
          0.000502499,
          0.000515274,
          0.000675286,
          0.000782991,
          0.000842329,
          0.000850623,
          0.001047892,
          0.001055111,
          0.001186897,
          0.001376084,
          0.00141832,
          0.00142973,
          0.00154532,
          0.001683667,
          0.001870226,
          0.002139059,
          0.002163739,
          0.00222151,
          0.002384857,
          0.002482691,
          0.002498374,
          0.002616519,
          0.002683637,
          0.002883772,
          0.003013197,
          0.003171153,
          0.003214369,
          0.003292387,
          0.003301266,
          0.003539115,
          0.003553172,
          0.003649288,
          0.00401256,
          0.0040251,
          0.00403136,
          0.004090408,
          0.004120078,
          0.004199578,
          0.004204352,
          0.004614943,
          0.004689288,
          0.004694468,
          0.004875665,
          0.005019126,
          0.0053842,
          0.005419346,
          0.005467102,
          0.005491826,
          0.006021968,
          0.006131304,
          0.00638473,
          0.006500853,
          0.0067177,
          0.00702363,
          0.007385679,
          0.007718808,
          0.008936079,
          0.009062579,
          0.010196381,
          0.010316137,
          0.010500185,
          0.012414017,
          0.01381587,
          0.014439536,
          0.014557418,
          0.015410431,
          0.018652727,
          0.019214993,
          0.020385401,
          0.020663671,
          0.02109365,
          0.022782755,
          0.023634215,
          0.024019906,
          0.025657325,
          0.026741034,
          0.02980367,
          0.031035518,
          0.031848471,
          0.032291519,
          0.033754018,
          0.034849137,
          0.037329977,
          0.037756732,
          0.038926097,
          0.041168267,
          0.041785546,
          0.043163931,
          0.045313,
          0.046495941,
          0.047641532,
          0.049555475,
          0.051661858,
          0.052635665,
          0.063360326,
          0.06452762,
          0.068278136,
          0.068789928,
          0.079576618,
          0.083756256,
          0.084714686,
          0.088095271,
          0.096265519,
          0.097873109,
          0.104096265,
          0.110476928,
          0.11763992,
          0.127374574,
          0.128451108,
          0.140861224,
          0.157467854,
          0.17121064,
          0.183163471,
          0.197340737,
          0.201332285,
          0.215864322,
          0.2415567,
          0.24407306,
          0.266964611,
          0.299726216,
          0.305973662,
          0.352518799,
          0.39005817,
          0.407560319,
          0.409605524,
          0.428854527,
          0.451738626
         ],
         "xaxis": "x",
         "y": [
          9.918449379487086,
          9.916803318480886,
          9.916675374862093,
          9.915072829709018,
          9.913994147324496,
          9.913399867993615,
          9.91331680228917,
          9.911341122466395,
          9.911268823054725,
          9.909948965696882,
          9.908054228365465,
          9.907631228233692,
          9.907516955302933,
          9.9063593034128,
          9.904973736615982,
          9.903105319114717,
          9.900412914662947,
          9.90016574061114,
          9.899587155029819,
          9.89795120933125,
          9.896971386552297,
          9.89681431885965,
          9.895631078245758,
          9.894958881000651,
          9.89295449774058,
          9.89165828616622,
          9.890076332174024,
          9.889643517189302,
          9.888862154743032,
          9.888773230172285,
          9.88639113531619,
          9.886250352267314,
          9.885287735526488,
          9.881649509750623,
          9.881523919693505,
          9.881461224816507,
          9.880869849880884,
          9.880572700200288,
          9.87977649529272,
          9.879728682937643,
          9.875616549991701,
          9.874871973213676,
          9.874820094705232,
          9.873005378470815,
          9.871568594165854,
          9.867912321078752,
          9.867560328403513,
          9.867082044610235,
          9.86683442989156,
          9.861524975022292,
          9.86042995791822,
          9.857891856976021,
          9.856728867007703,
          9.854557110459389,
          9.85149317376289,
          9.847867196522898,
          9.844530857596451,
          9.832339698551952,
          9.831072781309095,
          9.819717577326601,
          9.818518202296282,
          9.816674932851909,
          9.797507606680124,
          9.783467830097909,
          9.777221717772347,
          9.776041111144503,
          9.767498052819754,
          9.735025952354576,
          9.729394770611714,
          9.717672951826124,
          9.71488603434652,
          9.710579727554693,
          9.693663077361055,
          9.685135572573682,
          9.681272817013882,
          9.664873810176879,
          9.6540202954074,
          9.623347517881763,
          9.61101036790723,
          9.602868516734645,
          9.598431321868139,
          9.5837841661309,
          9.572816378430664,
          9.547970378645935,
          9.543696360717277,
          9.531984987739467,
          9.509529305253967,
          9.503347159730225,
          9.489542418830661,
          9.468019157390437,
          9.45617181865382,
          9.444698545996417,
          9.42553010814231,
          9.40443435365409,
          9.394681524567018,
          9.28727237085404,
          9.275581739264453,
          9.238019736181373,
          9.23289405942599,
          9.124863675597146,
          9.083003948710992,
          9.073405122678809,
          9.039548036295866,
          8.95772172744516,
          8.941621462698567,
          8.879295584110533,
          8.815392248335378,
          8.743653765527128,
          8.646159686429556,
          8.635378030404881,
          8.511088781817922,
          8.344770790570971,
          8.207134643944187,
          8.087425176000703,
          7.945437644364622,
          7.905461668183676,
          7.75992104961348,
          7.502607874133725,
          7.477406136005388,
          7.248143680055737,
          6.920031092876636,
          6.8574619461476605,
          6.391305134792547,
          6.015342475457446,
          5.840055721661833,
          5.8195726743916625,
          5.626790905154524,
          5.397603082147907
         ],
         "yaxis": "y"
        }
       ],
       "layout": {
        "legend": {
         "tracegroupgap": 0
        },
        "margin": {
         "t": 60
        },
        "template": {
         "data": {
          "bar": [
           {
            "error_x": {
             "color": "#2a3f5f"
            },
            "error_y": {
             "color": "#2a3f5f"
            },
            "marker": {
             "line": {
              "color": "#E5ECF6",
              "width": 0.5
             },
             "pattern": {
              "fillmode": "overlay",
              "size": 10,
              "solidity": 0.2
             }
            },
            "type": "bar"
           }
          ],
          "barpolar": [
           {
            "marker": {
             "line": {
              "color": "#E5ECF6",
              "width": 0.5
             },
             "pattern": {
              "fillmode": "overlay",
              "size": 10,
              "solidity": 0.2
             }
            },
            "type": "barpolar"
           }
          ],
          "carpet": [
           {
            "aaxis": {
             "endlinecolor": "#2a3f5f",
             "gridcolor": "white",
             "linecolor": "white",
             "minorgridcolor": "white",
             "startlinecolor": "#2a3f5f"
            },
            "baxis": {
             "endlinecolor": "#2a3f5f",
             "gridcolor": "white",
             "linecolor": "white",
             "minorgridcolor": "white",
             "startlinecolor": "#2a3f5f"
            },
            "type": "carpet"
           }
          ],
          "choropleth": [
           {
            "colorbar": {
             "outlinewidth": 0,
             "ticks": ""
            },
            "type": "choropleth"
           }
          ],
          "contour": [
           {
            "colorbar": {
             "outlinewidth": 0,
             "ticks": ""
            },
            "colorscale": [
             [
              0,
              "#0d0887"
             ],
             [
              0.1111111111111111,
              "#46039f"
             ],
             [
              0.2222222222222222,
              "#7201a8"
             ],
             [
              0.3333333333333333,
              "#9c179e"
             ],
             [
              0.4444444444444444,
              "#bd3786"
             ],
             [
              0.5555555555555556,
              "#d8576b"
             ],
             [
              0.6666666666666666,
              "#ed7953"
             ],
             [
              0.7777777777777778,
              "#fb9f3a"
             ],
             [
              0.8888888888888888,
              "#fdca26"
             ],
             [
              1,
              "#f0f921"
             ]
            ],
            "type": "contour"
           }
          ],
          "contourcarpet": [
           {
            "colorbar": {
             "outlinewidth": 0,
             "ticks": ""
            },
            "type": "contourcarpet"
           }
          ],
          "heatmap": [
           {
            "colorbar": {
             "outlinewidth": 0,
             "ticks": ""
            },
            "colorscale": [
             [
              0,
              "#0d0887"
             ],
             [
              0.1111111111111111,
              "#46039f"
             ],
             [
              0.2222222222222222,
              "#7201a8"
             ],
             [
              0.3333333333333333,
              "#9c179e"
             ],
             [
              0.4444444444444444,
              "#bd3786"
             ],
             [
              0.5555555555555556,
              "#d8576b"
             ],
             [
              0.6666666666666666,
              "#ed7953"
             ],
             [
              0.7777777777777778,
              "#fb9f3a"
             ],
             [
              0.8888888888888888,
              "#fdca26"
             ],
             [
              1,
              "#f0f921"
             ]
            ],
            "type": "heatmap"
           }
          ],
          "heatmapgl": [
           {
            "colorbar": {
             "outlinewidth": 0,
             "ticks": ""
            },
            "colorscale": [
             [
              0,
              "#0d0887"
             ],
             [
              0.1111111111111111,
              "#46039f"
             ],
             [
              0.2222222222222222,
              "#7201a8"
             ],
             [
              0.3333333333333333,
              "#9c179e"
             ],
             [
              0.4444444444444444,
              "#bd3786"
             ],
             [
              0.5555555555555556,
              "#d8576b"
             ],
             [
              0.6666666666666666,
              "#ed7953"
             ],
             [
              0.7777777777777778,
              "#fb9f3a"
             ],
             [
              0.8888888888888888,
              "#fdca26"
             ],
             [
              1,
              "#f0f921"
             ]
            ],
            "type": "heatmapgl"
           }
          ],
          "histogram": [
           {
            "marker": {
             "pattern": {
              "fillmode": "overlay",
              "size": 10,
              "solidity": 0.2
             }
            },
            "type": "histogram"
           }
          ],
          "histogram2d": [
           {
            "colorbar": {
             "outlinewidth": 0,
             "ticks": ""
            },
            "colorscale": [
             [
              0,
              "#0d0887"
             ],
             [
              0.1111111111111111,
              "#46039f"
             ],
             [
              0.2222222222222222,
              "#7201a8"
             ],
             [
              0.3333333333333333,
              "#9c179e"
             ],
             [
              0.4444444444444444,
              "#bd3786"
             ],
             [
              0.5555555555555556,
              "#d8576b"
             ],
             [
              0.6666666666666666,
              "#ed7953"
             ],
             [
              0.7777777777777778,
              "#fb9f3a"
             ],
             [
              0.8888888888888888,
              "#fdca26"
             ],
             [
              1,
              "#f0f921"
             ]
            ],
            "type": "histogram2d"
           }
          ],
          "histogram2dcontour": [
           {
            "colorbar": {
             "outlinewidth": 0,
             "ticks": ""
            },
            "colorscale": [
             [
              0,
              "#0d0887"
             ],
             [
              0.1111111111111111,
              "#46039f"
             ],
             [
              0.2222222222222222,
              "#7201a8"
             ],
             [
              0.3333333333333333,
              "#9c179e"
             ],
             [
              0.4444444444444444,
              "#bd3786"
             ],
             [
              0.5555555555555556,
              "#d8576b"
             ],
             [
              0.6666666666666666,
              "#ed7953"
             ],
             [
              0.7777777777777778,
              "#fb9f3a"
             ],
             [
              0.8888888888888888,
              "#fdca26"
             ],
             [
              1,
              "#f0f921"
             ]
            ],
            "type": "histogram2dcontour"
           }
          ],
          "mesh3d": [
           {
            "colorbar": {
             "outlinewidth": 0,
             "ticks": ""
            },
            "type": "mesh3d"
           }
          ],
          "parcoords": [
           {
            "line": {
             "colorbar": {
              "outlinewidth": 0,
              "ticks": ""
             }
            },
            "type": "parcoords"
           }
          ],
          "pie": [
           {
            "automargin": true,
            "type": "pie"
           }
          ],
          "scatter": [
           {
            "fillpattern": {
             "fillmode": "overlay",
             "size": 10,
             "solidity": 0.2
            },
            "type": "scatter"
           }
          ],
          "scatter3d": [
           {
            "line": {
             "colorbar": {
              "outlinewidth": 0,
              "ticks": ""
             }
            },
            "marker": {
             "colorbar": {
              "outlinewidth": 0,
              "ticks": ""
             }
            },
            "type": "scatter3d"
           }
          ],
          "scattercarpet": [
           {
            "marker": {
             "colorbar": {
              "outlinewidth": 0,
              "ticks": ""
             }
            },
            "type": "scattercarpet"
           }
          ],
          "scattergeo": [
           {
            "marker": {
             "colorbar": {
              "outlinewidth": 0,
              "ticks": ""
             }
            },
            "type": "scattergeo"
           }
          ],
          "scattergl": [
           {
            "marker": {
             "colorbar": {
              "outlinewidth": 0,
              "ticks": ""
             }
            },
            "type": "scattergl"
           }
          ],
          "scattermapbox": [
           {
            "marker": {
             "colorbar": {
              "outlinewidth": 0,
              "ticks": ""
             }
            },
            "type": "scattermapbox"
           }
          ],
          "scatterpolar": [
           {
            "marker": {
             "colorbar": {
              "outlinewidth": 0,
              "ticks": ""
             }
            },
            "type": "scatterpolar"
           }
          ],
          "scatterpolargl": [
           {
            "marker": {
             "colorbar": {
              "outlinewidth": 0,
              "ticks": ""
             }
            },
            "type": "scatterpolargl"
           }
          ],
          "scatterternary": [
           {
            "marker": {
             "colorbar": {
              "outlinewidth": 0,
              "ticks": ""
             }
            },
            "type": "scatterternary"
           }
          ],
          "surface": [
           {
            "colorbar": {
             "outlinewidth": 0,
             "ticks": ""
            },
            "colorscale": [
             [
              0,
              "#0d0887"
             ],
             [
              0.1111111111111111,
              "#46039f"
             ],
             [
              0.2222222222222222,
              "#7201a8"
             ],
             [
              0.3333333333333333,
              "#9c179e"
             ],
             [
              0.4444444444444444,
              "#bd3786"
             ],
             [
              0.5555555555555556,
              "#d8576b"
             ],
             [
              0.6666666666666666,
              "#ed7953"
             ],
             [
              0.7777777777777778,
              "#fb9f3a"
             ],
             [
              0.8888888888888888,
              "#fdca26"
             ],
             [
              1,
              "#f0f921"
             ]
            ],
            "type": "surface"
           }
          ],
          "table": [
           {
            "cells": {
             "fill": {
              "color": "#EBF0F8"
             },
             "line": {
              "color": "white"
             }
            },
            "header": {
             "fill": {
              "color": "#C8D4E3"
             },
             "line": {
              "color": "white"
             }
            },
            "type": "table"
           }
          ]
         },
         "layout": {
          "annotationdefaults": {
           "arrowcolor": "#2a3f5f",
           "arrowhead": 0,
           "arrowwidth": 1
          },
          "autotypenumbers": "strict",
          "coloraxis": {
           "colorbar": {
            "outlinewidth": 0,
            "ticks": ""
           }
          },
          "colorscale": {
           "diverging": [
            [
             0,
             "#8e0152"
            ],
            [
             0.1,
             "#c51b7d"
            ],
            [
             0.2,
             "#de77ae"
            ],
            [
             0.3,
             "#f1b6da"
            ],
            [
             0.4,
             "#fde0ef"
            ],
            [
             0.5,
             "#f7f7f7"
            ],
            [
             0.6,
             "#e6f5d0"
            ],
            [
             0.7,
             "#b8e186"
            ],
            [
             0.8,
             "#7fbc41"
            ],
            [
             0.9,
             "#4d9221"
            ],
            [
             1,
             "#276419"
            ]
           ],
           "sequential": [
            [
             0,
             "#0d0887"
            ],
            [
             0.1111111111111111,
             "#46039f"
            ],
            [
             0.2222222222222222,
             "#7201a8"
            ],
            [
             0.3333333333333333,
             "#9c179e"
            ],
            [
             0.4444444444444444,
             "#bd3786"
            ],
            [
             0.5555555555555556,
             "#d8576b"
            ],
            [
             0.6666666666666666,
             "#ed7953"
            ],
            [
             0.7777777777777778,
             "#fb9f3a"
            ],
            [
             0.8888888888888888,
             "#fdca26"
            ],
            [
             1,
             "#f0f921"
            ]
           ],
           "sequentialminus": [
            [
             0,
             "#0d0887"
            ],
            [
             0.1111111111111111,
             "#46039f"
            ],
            [
             0.2222222222222222,
             "#7201a8"
            ],
            [
             0.3333333333333333,
             "#9c179e"
            ],
            [
             0.4444444444444444,
             "#bd3786"
            ],
            [
             0.5555555555555556,
             "#d8576b"
            ],
            [
             0.6666666666666666,
             "#ed7953"
            ],
            [
             0.7777777777777778,
             "#fb9f3a"
            ],
            [
             0.8888888888888888,
             "#fdca26"
            ],
            [
             1,
             "#f0f921"
            ]
           ]
          },
          "colorway": [
           "#636efa",
           "#EF553B",
           "#00cc96",
           "#ab63fa",
           "#FFA15A",
           "#19d3f3",
           "#FF6692",
           "#B6E880",
           "#FF97FF",
           "#FECB52"
          ],
          "font": {
           "color": "#2a3f5f"
          },
          "geo": {
           "bgcolor": "white",
           "lakecolor": "white",
           "landcolor": "#E5ECF6",
           "showlakes": true,
           "showland": true,
           "subunitcolor": "white"
          },
          "hoverlabel": {
           "align": "left"
          },
          "hovermode": "closest",
          "mapbox": {
           "style": "light"
          },
          "paper_bgcolor": "white",
          "plot_bgcolor": "#E5ECF6",
          "polar": {
           "angularaxis": {
            "gridcolor": "white",
            "linecolor": "white",
            "ticks": ""
           },
           "bgcolor": "#E5ECF6",
           "radialaxis": {
            "gridcolor": "white",
            "linecolor": "white",
            "ticks": ""
           }
          },
          "scene": {
           "xaxis": {
            "backgroundcolor": "#E5ECF6",
            "gridcolor": "white",
            "gridwidth": 2,
            "linecolor": "white",
            "showbackground": true,
            "ticks": "",
            "zerolinecolor": "white"
           },
           "yaxis": {
            "backgroundcolor": "#E5ECF6",
            "gridcolor": "white",
            "gridwidth": 2,
            "linecolor": "white",
            "showbackground": true,
            "ticks": "",
            "zerolinecolor": "white"
           },
           "zaxis": {
            "backgroundcolor": "#E5ECF6",
            "gridcolor": "white",
            "gridwidth": 2,
            "linecolor": "white",
            "showbackground": true,
            "ticks": "",
            "zerolinecolor": "white"
           }
          },
          "shapedefaults": {
           "line": {
            "color": "#2a3f5f"
           }
          },
          "ternary": {
           "aaxis": {
            "gridcolor": "white",
            "linecolor": "white",
            "ticks": ""
           },
           "baxis": {
            "gridcolor": "white",
            "linecolor": "white",
            "ticks": ""
           },
           "bgcolor": "#E5ECF6",
           "caxis": {
            "gridcolor": "white",
            "linecolor": "white",
            "ticks": ""
           }
          },
          "title": {
           "x": 0.05
          },
          "xaxis": {
           "automargin": true,
           "gridcolor": "white",
           "linecolor": "white",
           "ticks": "",
           "title": {
            "standoff": 15
           },
           "zerolinecolor": "white",
           "zerolinewidth": 2
          },
          "yaxis": {
           "automargin": true,
           "gridcolor": "white",
           "linecolor": "white",
           "ticks": "",
           "title": {
            "standoff": 15
           },
           "zerolinecolor": "white",
           "zerolinewidth": 2
          }
         }
        },
        "title": {
         "text": "HIV vs. Average Years of Education by Location",
         "x": 0.5,
         "xanchor": "center"
        },
        "xaxis": {
         "anchor": "y",
         "domain": [
          0,
          1
         ],
         "title": {
          "text": "HIV"
         }
        },
        "yaxis": {
         "anchor": "x",
         "domain": [
          0,
          1
         ],
         "title": {
          "text": "Avg. Ed"
         }
        }
       }
      }
     },
     "metadata": {},
     "output_type": "display_data"
    }
   ],
   "source": [
    "# Assuming 'data' is your DataFrame\n",
    "fig_2 = px.scatter(data, y='Avg. Ed', x='HIV', trendline='ols', hover_name='Location',trendline_color_override='red')\n",
    "\n",
    "# Update layout to add title\n",
    "fig_2.update_layout(title={'text':'HIV vs. Average Years of Education by Location', 'x': 0.5, 'xanchor': 'center'})\n",
    "\n",
    "# Show the plot\n",
    "fig_2.show()"
   ]
  },
  {
   "cell_type": "code",
   "execution_count": 18,
   "metadata": {},
   "outputs": [
    {
     "data": {
      "application/vnd.plotly.v1+json": {
       "config": {
        "plotlyServerURL": "https://plot.ly"
       },
       "data": [
        {
         "hovertemplate": "<b>%{hovertext}</b><br><br>Ischemic Heart Disease=%{x}<br>Avg. Ed=%{y}<extra></extra>",
         "hovertext": [
          "Afghanistan",
          "Albania",
          "Algeria",
          "Argentina",
          "Armenia",
          "Australia",
          "Austria",
          "Bahrain",
          "Bangladesh",
          "Barbados",
          "Belgium",
          "Belize",
          "Benin",
          "Botswana",
          "Brazil",
          "Bulgaria",
          "Burundi",
          "Cambodia",
          "Cameroon",
          "Canada",
          "Central African Republic",
          "Chile",
          "China",
          "Colombia",
          "Congo",
          "Costa Rica",
          "Croatia",
          "Cuba",
          "Cyprus",
          "Czechia",
          "Denmark",
          "Dominican Republic",
          "Ecuador",
          "Egypt",
          "El Salvador",
          "Estonia",
          "Eswatini",
          "Fiji",
          "Finland",
          "France",
          "Gabon",
          "Gambia",
          "Germany",
          "Ghana",
          "Greece",
          "Guatemala",
          "Guyana",
          "Haiti",
          "Honduras",
          "Hungary",
          "Iceland",
          "India",
          "Indonesia",
          "Iraq",
          "Ireland",
          "Israel",
          "Italy",
          "Jamaica",
          "Japan",
          "Jordan",
          "Kazakhstan",
          "Kenya",
          "Kuwait",
          "Kyrgyzstan",
          "Latvia",
          "Lesotho",
          "Liberia",
          "Libya",
          "Lithuania",
          "Luxembourg",
          "Malawi",
          "Malaysia",
          "Maldives",
          "Mali",
          "Malta",
          "Mauritania",
          "Mauritius",
          "Mexico",
          "Mongolia",
          "Morocco",
          "Mozambique",
          "Myanmar",
          "Namibia",
          "Nepal",
          "Netherlands",
          "New Zealand",
          "Nicaragua",
          "Niger",
          "Norway",
          "Pakistan",
          "Panama",
          "Papua New Guinea",
          "Paraguay",
          "Peru",
          "Philippines",
          "Poland",
          "Portugal",
          "Qatar",
          "Romania",
          "Rwanda",
          "Saudi Arabia",
          "Senegal",
          "Serbia",
          "Sierra Leone",
          "Singapore",
          "Slovakia",
          "Slovenia",
          "South Africa",
          "Spain",
          "Sri Lanka",
          "Sudan",
          "Sweden",
          "Switzerland",
          "Tajikistan",
          "Thailand",
          "Togo",
          "Tonga",
          "Trinidad and Tobago",
          "Tunisia",
          "Turkey",
          "Uganda",
          "Ukraine",
          "United Arab Emirates",
          "United Kingdom",
          "Uruguay",
          "Yemen",
          "Zambia",
          "Zimbabwe"
         ],
         "legendgroup": "",
         "marker": {
          "color": "#636efa",
          "symbol": "circle"
         },
         "mode": "markers",
         "name": "",
         "orientation": "v",
         "showlegend": false,
         "type": "scatter",
         "x": [
          0.179838083,
          0.173300847,
          0.219362051,
          0.078702551,
          0.198225059,
          0.08148769,
          0.092532788,
          0.174308426,
          0.14971722,
          0.0626115,
          0.069938826,
          0.066389512,
          0.053680666,
          0.046974311,
          0.088641179,
          0.17166366,
          0.053175034,
          0.077870834,
          0.04592324,
          0.09065454,
          0.043417196,
          0.068722474,
          0.116200299,
          0.087044567,
          0.060275959,
          0.088896329,
          0.125202126,
          0.116796941,
          0.156020621,
          0.122158709,
          0.05920077,
          0.160446304,
          0.076873004,
          0.270220273,
          0.077575788,
          0.091774431,
          0.035792732,
          0.203532431,
          0.096270079,
          0.057504294,
          0.054179701,
          0.064076835,
          0.091977881,
          0.056500109,
          0.180655916,
          0.057894517,
          0.10549221,
          0.096957022,
          0.081005494,
          0.135943858,
          0.106520109,
          0.14989065,
          0.134798277,
          0.187718993,
          0.101490053,
          0.067289585,
          0.088498166,
          0.061232126,
          0.074844264,
          0.177381829,
          0.114954415,
          0.034703763,
          0.297418737,
          0.155967626,
          0.129452534,
          0.028205829,
          0.056067781,
          0.193379593,
          0.136723146,
          0.071885398,
          0.044797722,
          0.150764737,
          0.171758723,
          0.044685563,
          0.138743495,
          0.059453101,
          0.108332629,
          0.081116074,
          0.135299299,
          0.232556337,
          0.033514468,
          0.074296407,
          0.043950508,
          0.108394074,
          0.070493275,
          0.098293008,
          0.089336821,
          0.051839003,
          0.076863307,
          0.153878137,
          0.069004033,
          0.119918108,
          0.092071598,
          0.060526684,
          0.138698717,
          0.098647527,
          0.071254268,
          0.15071112,
          0.134097292,
          0.042211242,
          0.200012811,
          0.059152147,
          0.128039467,
          0.057906065,
          0.143168452,
          0.139230717,
          0.07195228,
          0.034259257,
          0.088053439,
          0.118869641,
          0.216912459,
          0.087553881,
          0.077152232,
          0.195622617,
          0.061612522,
          0.062197999,
          0.128417789,
          0.112233146,
          0.217742047,
          0.159126961,
          0.040224443,
          0.201914435,
          0.156872548,
          0.100793704,
          0.066344157,
          0.189278911,
          0.037536953,
          0.051815546
         ],
         "xaxis": "x",
         "y": [
          5.69,
          10.32,
          8.18,
          9.86,
          10.54,
          12.93,
          10.39,
          8.21,
          7.23,
          9.67,
          11.57,
          10.71,
          6.27,
          10.58,
          8,
          10.75,
          5.05,
          5.81,
          7.37,
          12.93,
          4.64,
          10.74,
          8.99,
          10.2,
          6.74,
          9.12,
          12.03,
          11.61,
          12.42,
          12.93,
          11.69,
          9.04,
          9.07,
          8.01,
          8.1,
          12.29,
          6.46,
          11.52,
          11.05,
          11.89,
          10.18,
          4.92,
          13.1,
          8.39,
          11.86,
          6.26,
          8.52,
          5.95,
          7.51,
          11.96,
          13.53,
          7.8,
          9.06,
          8.27,
          13.74,
          12.04,
          11.51,
          10.1,
          12.83,
          10.81,
          11.79,
          6.73,
          6.62,
          11.18,
          11.96,
          6.88,
          5.8,
          9.57,
          12.5,
          11.53,
          5.41,
          11.96,
          8.06,
          3.55,
          12.09,
          5.55,
          10.4,
          10.18,
          10,
          6.83,
          4.22,
          6.48,
          6.88,
          6.19,
          11.82,
          10.81,
          7.76,
          3.04,
          12.08,
          6.41,
          10.44,
          4.84,
          8.83,
          9.96,
          9.44,
          12.01,
          9.56,
          8.52,
          11.28,
          5.24,
          9.86,
          4.4,
          11.72,
          4.99,
          13.06,
          13.14,
          12.06,
          10.47,
          11.51,
          10.33,
          4.38,
          11.93,
          12.97,
          10.12,
          9.32,
          7.68,
          11.42,
          11.28,
          9.29,
          8.49,
          6.69,
          10.82,
          9.57,
          12.9,
          8.76,
          5.56,
          8.37,
          8.32
         ],
         "yaxis": "y"
        },
        {
         "hovertemplate": "<b>OLS trendline</b><br>Avg. Ed = 6.68549 * Ischemic Heart Disease + 8.60116<br>R<sup>2</sup>=0.020030<br><br>Ischemic Heart Disease=%{x}<br>Avg. Ed=%{y} <b>(trend)</b><extra></extra>",
         "legendgroup": "",
         "line": {
          "color": "red"
         },
         "marker": {
          "color": "#636efa",
          "symbol": "circle"
         },
         "mode": "lines",
         "name": "",
         "showlegend": false,
         "type": "scatter",
         "x": [
          0.028205829,
          0.033514468,
          0.034259257,
          0.034703763,
          0.035792732,
          0.037536953,
          0.040224443,
          0.042211242,
          0.043417196,
          0.043950508,
          0.044685563,
          0.044797722,
          0.04592324,
          0.046974311,
          0.051815546,
          0.051839003,
          0.053175034,
          0.053680666,
          0.054179701,
          0.056067781,
          0.056500109,
          0.057504294,
          0.057894517,
          0.057906065,
          0.059152147,
          0.05920077,
          0.059453101,
          0.060275959,
          0.060526684,
          0.061232126,
          0.061612522,
          0.062197999,
          0.0626115,
          0.064076835,
          0.066344157,
          0.066389512,
          0.067289585,
          0.068722474,
          0.069004033,
          0.069938826,
          0.070493275,
          0.071254268,
          0.071885398,
          0.07195228,
          0.074296407,
          0.074844264,
          0.076863307,
          0.076873004,
          0.077152232,
          0.077575788,
          0.077870834,
          0.078702551,
          0.081005494,
          0.081116074,
          0.08148769,
          0.087044567,
          0.087553881,
          0.088053439,
          0.088498166,
          0.088641179,
          0.088896329,
          0.089336821,
          0.09065454,
          0.091774431,
          0.091977881,
          0.092071598,
          0.092532788,
          0.096270079,
          0.096957022,
          0.098293008,
          0.098647527,
          0.100793704,
          0.101490053,
          0.10549221,
          0.106520109,
          0.108332629,
          0.108394074,
          0.112233146,
          0.114954415,
          0.116200299,
          0.116796941,
          0.118869641,
          0.119918108,
          0.122158709,
          0.125202126,
          0.128039467,
          0.128417789,
          0.129452534,
          0.134097292,
          0.134798277,
          0.135299299,
          0.135943858,
          0.136723146,
          0.138698717,
          0.138743495,
          0.139230717,
          0.143168452,
          0.14971722,
          0.14989065,
          0.15071112,
          0.150764737,
          0.153878137,
          0.155967626,
          0.156020621,
          0.156872548,
          0.159126961,
          0.160446304,
          0.17166366,
          0.171758723,
          0.173300847,
          0.174308426,
          0.177381829,
          0.179838083,
          0.180655916,
          0.187718993,
          0.189278911,
          0.193379593,
          0.195622617,
          0.198225059,
          0.200012811,
          0.201914435,
          0.203532431,
          0.216912459,
          0.217742047,
          0.219362051,
          0.232556337,
          0.270220273,
          0.297418737
         ],
         "xaxis": "x",
         "y": [
          8.789725939363796,
          8.825216782658037,
          8.830196060715233,
          8.83316780032483,
          8.840448089704328,
          8.852109058585716,
          8.87007624121856,
          8.883358962452036,
          8.891421353666443,
          8.894986804739485,
          8.899901006254723,
          8.90065084392367,
          8.908175481210712,
          8.915202403959107,
          8.947568423335373,
          8.947725244831645,
          8.956657264292236,
          8.960037661052414,
          8.963373953647059,
          8.975996690172746,
          8.978887013907269,
          8.985600480856787,
          8.98820931211143,
          8.988286516128948,
          8.996617182613104,
          8.99694225110495,
          8.998629207023273,
          9.004130414457308,
          9.00580663348161,
          9.010522857635328,
          9.01306599059761,
          9.01698019016164,
          9.01974464621017,
          9.029541126034577,
          9.044699280469185,
          9.045002500785657,
          9.051019928189625,
          9.060599490664497,
          9.062481850031388,
          9.068731397585017,
          9.07243815982175,
          9.077525769529439,
          9.081745181685415,
          9.08219232050597,
          9.097863953860356,
          9.101526645358998,
          9.115024933473396,
          9.115089762652293,
          9.11695653814623,
          9.119788216778424,
          9.121760743324417,
          9.127321177498253,
          9.142717475707375,
          9.143456756990481,
          9.14594119136653,
          9.183091626875967,
          9.186496639603629,
          9.189836428708592,
          9.192809645811076,
          9.193765757532375,
          9.195471559841879,
          9.198416463901916,
          9.207226058702927,
          9.214713076747971,
          9.216073239318494,
          9.216699783214398,
          9.219783063508814,
          9.244768678320064,
          9.249361227627913,
          9.258292946241536,
          9.260663078826147,
          9.27501131979501,
          9.279666752804694,
          9.30642312612862,
          9.313295132744875,
          9.32541271378357,
          9.32582350360488,
          9.35148957408873,
          9.369682585826856,
          9.378011928584352,
          9.382000771623925,
          9.395857782977679,
          9.402867296714849,
          9.41784680821976,
          9.438193536604574,
          9.457162546326902,
          9.459691813586696,
          9.46660958905504,
          9.497662063769873,
          9.502348490702767,
          9.50569806736243,
          9.510007258939195,
          9.515217179653163,
          9.528424836225337,
          9.528724199015127,
          9.531981515937884,
          9.558307196742183,
          9.602088907809435,
          9.603248372024748,
          9.608733614513007,
          9.609092070332833,
          9.629906669237052,
          9.643875923251883,
          9.64423022069806,
          9.649925768588044,
          9.664997620055717,
          9.673818072089535,
          9.748811573054983,
          9.74944711561798,
          9.759756967394356,
          9.766493124890761,
          9.787040324324186,
          9.803461581411899,
          9.808929194267822,
          9.856149312076202,
          9.866578125429278,
          9.893993186476285,
          9.908988896919059,
          9.926387492153045,
          9.938339487020462,
          9.95105277179808,
          9.96186986493376,
          10.051321883995627,
          10.056868084765123,
          10.067698602361073,
          10.155908845477134,
          10.407710644473134,
          10.589545654099531
         ],
         "yaxis": "y"
        }
       ],
       "layout": {
        "legend": {
         "tracegroupgap": 0
        },
        "margin": {
         "t": 60
        },
        "template": {
         "data": {
          "bar": [
           {
            "error_x": {
             "color": "#2a3f5f"
            },
            "error_y": {
             "color": "#2a3f5f"
            },
            "marker": {
             "line": {
              "color": "#E5ECF6",
              "width": 0.5
             },
             "pattern": {
              "fillmode": "overlay",
              "size": 10,
              "solidity": 0.2
             }
            },
            "type": "bar"
           }
          ],
          "barpolar": [
           {
            "marker": {
             "line": {
              "color": "#E5ECF6",
              "width": 0.5
             },
             "pattern": {
              "fillmode": "overlay",
              "size": 10,
              "solidity": 0.2
             }
            },
            "type": "barpolar"
           }
          ],
          "carpet": [
           {
            "aaxis": {
             "endlinecolor": "#2a3f5f",
             "gridcolor": "white",
             "linecolor": "white",
             "minorgridcolor": "white",
             "startlinecolor": "#2a3f5f"
            },
            "baxis": {
             "endlinecolor": "#2a3f5f",
             "gridcolor": "white",
             "linecolor": "white",
             "minorgridcolor": "white",
             "startlinecolor": "#2a3f5f"
            },
            "type": "carpet"
           }
          ],
          "choropleth": [
           {
            "colorbar": {
             "outlinewidth": 0,
             "ticks": ""
            },
            "type": "choropleth"
           }
          ],
          "contour": [
           {
            "colorbar": {
             "outlinewidth": 0,
             "ticks": ""
            },
            "colorscale": [
             [
              0,
              "#0d0887"
             ],
             [
              0.1111111111111111,
              "#46039f"
             ],
             [
              0.2222222222222222,
              "#7201a8"
             ],
             [
              0.3333333333333333,
              "#9c179e"
             ],
             [
              0.4444444444444444,
              "#bd3786"
             ],
             [
              0.5555555555555556,
              "#d8576b"
             ],
             [
              0.6666666666666666,
              "#ed7953"
             ],
             [
              0.7777777777777778,
              "#fb9f3a"
             ],
             [
              0.8888888888888888,
              "#fdca26"
             ],
             [
              1,
              "#f0f921"
             ]
            ],
            "type": "contour"
           }
          ],
          "contourcarpet": [
           {
            "colorbar": {
             "outlinewidth": 0,
             "ticks": ""
            },
            "type": "contourcarpet"
           }
          ],
          "heatmap": [
           {
            "colorbar": {
             "outlinewidth": 0,
             "ticks": ""
            },
            "colorscale": [
             [
              0,
              "#0d0887"
             ],
             [
              0.1111111111111111,
              "#46039f"
             ],
             [
              0.2222222222222222,
              "#7201a8"
             ],
             [
              0.3333333333333333,
              "#9c179e"
             ],
             [
              0.4444444444444444,
              "#bd3786"
             ],
             [
              0.5555555555555556,
              "#d8576b"
             ],
             [
              0.6666666666666666,
              "#ed7953"
             ],
             [
              0.7777777777777778,
              "#fb9f3a"
             ],
             [
              0.8888888888888888,
              "#fdca26"
             ],
             [
              1,
              "#f0f921"
             ]
            ],
            "type": "heatmap"
           }
          ],
          "heatmapgl": [
           {
            "colorbar": {
             "outlinewidth": 0,
             "ticks": ""
            },
            "colorscale": [
             [
              0,
              "#0d0887"
             ],
             [
              0.1111111111111111,
              "#46039f"
             ],
             [
              0.2222222222222222,
              "#7201a8"
             ],
             [
              0.3333333333333333,
              "#9c179e"
             ],
             [
              0.4444444444444444,
              "#bd3786"
             ],
             [
              0.5555555555555556,
              "#d8576b"
             ],
             [
              0.6666666666666666,
              "#ed7953"
             ],
             [
              0.7777777777777778,
              "#fb9f3a"
             ],
             [
              0.8888888888888888,
              "#fdca26"
             ],
             [
              1,
              "#f0f921"
             ]
            ],
            "type": "heatmapgl"
           }
          ],
          "histogram": [
           {
            "marker": {
             "pattern": {
              "fillmode": "overlay",
              "size": 10,
              "solidity": 0.2
             }
            },
            "type": "histogram"
           }
          ],
          "histogram2d": [
           {
            "colorbar": {
             "outlinewidth": 0,
             "ticks": ""
            },
            "colorscale": [
             [
              0,
              "#0d0887"
             ],
             [
              0.1111111111111111,
              "#46039f"
             ],
             [
              0.2222222222222222,
              "#7201a8"
             ],
             [
              0.3333333333333333,
              "#9c179e"
             ],
             [
              0.4444444444444444,
              "#bd3786"
             ],
             [
              0.5555555555555556,
              "#d8576b"
             ],
             [
              0.6666666666666666,
              "#ed7953"
             ],
             [
              0.7777777777777778,
              "#fb9f3a"
             ],
             [
              0.8888888888888888,
              "#fdca26"
             ],
             [
              1,
              "#f0f921"
             ]
            ],
            "type": "histogram2d"
           }
          ],
          "histogram2dcontour": [
           {
            "colorbar": {
             "outlinewidth": 0,
             "ticks": ""
            },
            "colorscale": [
             [
              0,
              "#0d0887"
             ],
             [
              0.1111111111111111,
              "#46039f"
             ],
             [
              0.2222222222222222,
              "#7201a8"
             ],
             [
              0.3333333333333333,
              "#9c179e"
             ],
             [
              0.4444444444444444,
              "#bd3786"
             ],
             [
              0.5555555555555556,
              "#d8576b"
             ],
             [
              0.6666666666666666,
              "#ed7953"
             ],
             [
              0.7777777777777778,
              "#fb9f3a"
             ],
             [
              0.8888888888888888,
              "#fdca26"
             ],
             [
              1,
              "#f0f921"
             ]
            ],
            "type": "histogram2dcontour"
           }
          ],
          "mesh3d": [
           {
            "colorbar": {
             "outlinewidth": 0,
             "ticks": ""
            },
            "type": "mesh3d"
           }
          ],
          "parcoords": [
           {
            "line": {
             "colorbar": {
              "outlinewidth": 0,
              "ticks": ""
             }
            },
            "type": "parcoords"
           }
          ],
          "pie": [
           {
            "automargin": true,
            "type": "pie"
           }
          ],
          "scatter": [
           {
            "fillpattern": {
             "fillmode": "overlay",
             "size": 10,
             "solidity": 0.2
            },
            "type": "scatter"
           }
          ],
          "scatter3d": [
           {
            "line": {
             "colorbar": {
              "outlinewidth": 0,
              "ticks": ""
             }
            },
            "marker": {
             "colorbar": {
              "outlinewidth": 0,
              "ticks": ""
             }
            },
            "type": "scatter3d"
           }
          ],
          "scattercarpet": [
           {
            "marker": {
             "colorbar": {
              "outlinewidth": 0,
              "ticks": ""
             }
            },
            "type": "scattercarpet"
           }
          ],
          "scattergeo": [
           {
            "marker": {
             "colorbar": {
              "outlinewidth": 0,
              "ticks": ""
             }
            },
            "type": "scattergeo"
           }
          ],
          "scattergl": [
           {
            "marker": {
             "colorbar": {
              "outlinewidth": 0,
              "ticks": ""
             }
            },
            "type": "scattergl"
           }
          ],
          "scattermapbox": [
           {
            "marker": {
             "colorbar": {
              "outlinewidth": 0,
              "ticks": ""
             }
            },
            "type": "scattermapbox"
           }
          ],
          "scatterpolar": [
           {
            "marker": {
             "colorbar": {
              "outlinewidth": 0,
              "ticks": ""
             }
            },
            "type": "scatterpolar"
           }
          ],
          "scatterpolargl": [
           {
            "marker": {
             "colorbar": {
              "outlinewidth": 0,
              "ticks": ""
             }
            },
            "type": "scatterpolargl"
           }
          ],
          "scatterternary": [
           {
            "marker": {
             "colorbar": {
              "outlinewidth": 0,
              "ticks": ""
             }
            },
            "type": "scatterternary"
           }
          ],
          "surface": [
           {
            "colorbar": {
             "outlinewidth": 0,
             "ticks": ""
            },
            "colorscale": [
             [
              0,
              "#0d0887"
             ],
             [
              0.1111111111111111,
              "#46039f"
             ],
             [
              0.2222222222222222,
              "#7201a8"
             ],
             [
              0.3333333333333333,
              "#9c179e"
             ],
             [
              0.4444444444444444,
              "#bd3786"
             ],
             [
              0.5555555555555556,
              "#d8576b"
             ],
             [
              0.6666666666666666,
              "#ed7953"
             ],
             [
              0.7777777777777778,
              "#fb9f3a"
             ],
             [
              0.8888888888888888,
              "#fdca26"
             ],
             [
              1,
              "#f0f921"
             ]
            ],
            "type": "surface"
           }
          ],
          "table": [
           {
            "cells": {
             "fill": {
              "color": "#EBF0F8"
             },
             "line": {
              "color": "white"
             }
            },
            "header": {
             "fill": {
              "color": "#C8D4E3"
             },
             "line": {
              "color": "white"
             }
            },
            "type": "table"
           }
          ]
         },
         "layout": {
          "annotationdefaults": {
           "arrowcolor": "#2a3f5f",
           "arrowhead": 0,
           "arrowwidth": 1
          },
          "autotypenumbers": "strict",
          "coloraxis": {
           "colorbar": {
            "outlinewidth": 0,
            "ticks": ""
           }
          },
          "colorscale": {
           "diverging": [
            [
             0,
             "#8e0152"
            ],
            [
             0.1,
             "#c51b7d"
            ],
            [
             0.2,
             "#de77ae"
            ],
            [
             0.3,
             "#f1b6da"
            ],
            [
             0.4,
             "#fde0ef"
            ],
            [
             0.5,
             "#f7f7f7"
            ],
            [
             0.6,
             "#e6f5d0"
            ],
            [
             0.7,
             "#b8e186"
            ],
            [
             0.8,
             "#7fbc41"
            ],
            [
             0.9,
             "#4d9221"
            ],
            [
             1,
             "#276419"
            ]
           ],
           "sequential": [
            [
             0,
             "#0d0887"
            ],
            [
             0.1111111111111111,
             "#46039f"
            ],
            [
             0.2222222222222222,
             "#7201a8"
            ],
            [
             0.3333333333333333,
             "#9c179e"
            ],
            [
             0.4444444444444444,
             "#bd3786"
            ],
            [
             0.5555555555555556,
             "#d8576b"
            ],
            [
             0.6666666666666666,
             "#ed7953"
            ],
            [
             0.7777777777777778,
             "#fb9f3a"
            ],
            [
             0.8888888888888888,
             "#fdca26"
            ],
            [
             1,
             "#f0f921"
            ]
           ],
           "sequentialminus": [
            [
             0,
             "#0d0887"
            ],
            [
             0.1111111111111111,
             "#46039f"
            ],
            [
             0.2222222222222222,
             "#7201a8"
            ],
            [
             0.3333333333333333,
             "#9c179e"
            ],
            [
             0.4444444444444444,
             "#bd3786"
            ],
            [
             0.5555555555555556,
             "#d8576b"
            ],
            [
             0.6666666666666666,
             "#ed7953"
            ],
            [
             0.7777777777777778,
             "#fb9f3a"
            ],
            [
             0.8888888888888888,
             "#fdca26"
            ],
            [
             1,
             "#f0f921"
            ]
           ]
          },
          "colorway": [
           "#636efa",
           "#EF553B",
           "#00cc96",
           "#ab63fa",
           "#FFA15A",
           "#19d3f3",
           "#FF6692",
           "#B6E880",
           "#FF97FF",
           "#FECB52"
          ],
          "font": {
           "color": "#2a3f5f"
          },
          "geo": {
           "bgcolor": "white",
           "lakecolor": "white",
           "landcolor": "#E5ECF6",
           "showlakes": true,
           "showland": true,
           "subunitcolor": "white"
          },
          "hoverlabel": {
           "align": "left"
          },
          "hovermode": "closest",
          "mapbox": {
           "style": "light"
          },
          "paper_bgcolor": "white",
          "plot_bgcolor": "#E5ECF6",
          "polar": {
           "angularaxis": {
            "gridcolor": "white",
            "linecolor": "white",
            "ticks": ""
           },
           "bgcolor": "#E5ECF6",
           "radialaxis": {
            "gridcolor": "white",
            "linecolor": "white",
            "ticks": ""
           }
          },
          "scene": {
           "xaxis": {
            "backgroundcolor": "#E5ECF6",
            "gridcolor": "white",
            "gridwidth": 2,
            "linecolor": "white",
            "showbackground": true,
            "ticks": "",
            "zerolinecolor": "white"
           },
           "yaxis": {
            "backgroundcolor": "#E5ECF6",
            "gridcolor": "white",
            "gridwidth": 2,
            "linecolor": "white",
            "showbackground": true,
            "ticks": "",
            "zerolinecolor": "white"
           },
           "zaxis": {
            "backgroundcolor": "#E5ECF6",
            "gridcolor": "white",
            "gridwidth": 2,
            "linecolor": "white",
            "showbackground": true,
            "ticks": "",
            "zerolinecolor": "white"
           }
          },
          "shapedefaults": {
           "line": {
            "color": "#2a3f5f"
           }
          },
          "ternary": {
           "aaxis": {
            "gridcolor": "white",
            "linecolor": "white",
            "ticks": ""
           },
           "baxis": {
            "gridcolor": "white",
            "linecolor": "white",
            "ticks": ""
           },
           "bgcolor": "#E5ECF6",
           "caxis": {
            "gridcolor": "white",
            "linecolor": "white",
            "ticks": ""
           }
          },
          "title": {
           "x": 0.05
          },
          "xaxis": {
           "automargin": true,
           "gridcolor": "white",
           "linecolor": "white",
           "ticks": "",
           "title": {
            "standoff": 15
           },
           "zerolinecolor": "white",
           "zerolinewidth": 2
          },
          "yaxis": {
           "automargin": true,
           "gridcolor": "white",
           "linecolor": "white",
           "ticks": "",
           "title": {
            "standoff": 15
           },
           "zerolinecolor": "white",
           "zerolinewidth": 2
          }
         }
        },
        "title": {
         "text": "Ischemic Heart Disease vs. Average Years of Education by Location",
         "x": 0.5,
         "xanchor": "center"
        },
        "xaxis": {
         "anchor": "y",
         "domain": [
          0,
          1
         ],
         "title": {
          "text": "Ischemic Heart Disease"
         }
        },
        "yaxis": {
         "anchor": "x",
         "domain": [
          0,
          1
         ],
         "title": {
          "text": "Avg. Ed"
         }
        }
       }
      }
     },
     "metadata": {},
     "output_type": "display_data"
    }
   ],
   "source": [
    "# Assuming 'data' is your DataFrame\n",
    "fig_3 = px.scatter(data, y='Avg. Ed', x='Ischemic Heart Disease', hover_name='Location', trendline_color_override='red', trendline='ols')\n",
    "\n",
    "# Update layout to add title\n",
    "fig_3.update_layout(title={'text':'Ischemic Heart Disease vs. Average Years of Education by Location', 'x': 0.5, 'xanchor': 'center'})\n",
    "\n",
    "# Show the plot\n",
    "fig_3.show()"
   ]
  },
  {
   "cell_type": "code",
   "execution_count": 19,
   "metadata": {},
   "outputs": [],
   "source": [
    "# Save the plots as HTML files\n",
    "pio.write_html(fig_1,\"Relationship_avg_ed_road_injuries.html\")\n",
    "pio.write_html(fig_2, \"Relationship_avg_ed_hiv.html\")\n",
    "pio.write_html(fig_3, \"Relationship_avg_ed_heart_disease.html\")"
   ]
  },
  {
   "cell_type": "code",
   "execution_count": 20,
   "metadata": {},
   "outputs": [],
   "source": [
    "# Save graph as PNG image\n",
    "# pio.write_image(fig_1,\"Road Injuries vs. Average Education by Location.png\")\n",
    "# pio.write_image(fig_2,\"HIV vs. Average Education by Location.png\")\n",
    "# pio.write_image(fig_3,\"Ischemic Heart Diesease vs. Average Education by Location.png\")"
   ]
  },
  {
   "cell_type": "code",
   "execution_count": 22,
   "metadata": {},
   "outputs": [
    {
     "data": {
      "text/plain": [
       "'{\"data\":[{\"hovertemplate\":\"<b>%{hovertext}</b><br><br>Road Injuries=%{x}<br>Avg. Ed=%{y}<extra></extra>\",\"hovertext\":[\"Afghanistan\",\"Albania\",\"Algeria\",\"Argentina\",\"Armenia\",\"Australia\",\"Austria\",\"Bahrain\",\"Bangladesh\",\"Barbados\",\"Belgium\",\"Belize\",\"Benin\",\"Botswana\",\"Brazil\",\"Bulgaria\",\"Burundi\",\"Cambodia\",\"Cameroon\",\"Canada\",\"Central African Republic\",\"Chile\",\"China\",\"Colombia\",\"Congo\",\"Costa Rica\",\"Croatia\",\"Cuba\",\"Cyprus\",\"Czechia\",\"Denmark\",\"Dominican Republic\",\"Ecuador\",\"Egypt\",\"El Salvador\",\"Estonia\",\"Eswatini\",\"Fiji\",\"Finland\",\"France\",\"Gabon\",\"Gambia\",\"Germany\",\"Ghana\",\"Greece\",\"Guatemala\",\"Guyana\",\"Haiti\",\"Honduras\",\"Hungary\",\"Iceland\",\"India\",\"Indonesia\",\"Iraq\",\"Ireland\",\"Israel\",\"Italy\",\"Jamaica\",\"Japan\",\"Jordan\",\"Kazakhstan\",\"Kenya\",\"Kuwait\",\"Kyrgyzstan\",\"Latvia\",\"Lesotho\",\"Liberia\",\"Libya\",\"Lithuania\",\"Luxembourg\",\"Malawi\",\"Malaysia\",\"Maldives\",\"Mali\",\"Malta\",\"Mauritania\",\"Mauritius\",\"Mexico\",\"Mongolia\",\"Morocco\",\"Mozambique\",\"Myanmar\",\"Namibia\",\"Nepal\",\"Netherlands\",\"New Zealand\",\"Nicaragua\",\"Niger\",\"Norway\",\"Pakistan\",\"Panama\",\"Papua New Guinea\",\"Paraguay\",\"Peru\",\"Philippines\",\"Poland\",\"Portugal\",\"Qatar\",\"Romania\",\"Rwanda\",\"Saudi Arabia\",\"Senegal\",\"Serbia\",\"Sierra Leone\",\"Singapore\",\"Slovakia\",\"Slovenia\",\"South Africa\",\"Spain\",\"Sri Lanka\",\"Sudan\",\"Sweden\",\"Switzerland\",\"Tajikistan\",\"Thailand\",\"Togo\",\"Tonga\",\"Trinidad and Tobago\",\"Tunisia\",\"Turkey\",\"Uganda\",\"Ukraine\",\"United Arab Emirates\",\"United Kingdom\",\"Uruguay\",\"Yemen\",\"Zambia\",\"Zimbabwe\"],\"legendgroup\":\"\",\"marker\":{\"color\":\"#636efa\",\"symbol\":\"circle\"},\"mode\":\"markers\",\"name\":\"\",\"orientation\":\"v\",\"showlegend\":false,\"x\":[0.066641327,0.06838024,0.162422905,0.079143662,0.048349224,0.059117539,0.050365923,0.097386102,0.028538244,0.046340264,0.06704812,0.076895725,0.042746516,0.034871225,0.086101656,0.037427134,0.041683861,0.067473322,0.050995562,0.055790023,0.071011947,0.083013317,0.097773854,0.080120402,0.069828734,0.107248144,0.064738773,0.051738459,0.098016312,0.047424538,0.044368224,0.096074618,0.127797705,0.130130931,0.065789602,0.028575966,0.046270231,0.031148605,0.034215758,0.05991004,0.083831834,0.030919251,0.045764327,0.051857603,0.09551369,0.056673057,0.049030666,0.02414776,0.051319469,0.03861593,0.037279889,0.057327416,0.055434579,0.068001274,0.034484986,0.068584453,0.073457327,0.028279817,0.033480451,0.099227476,0.053265494,0.022197937,0.123313694,0.076460344,0.036885324,0.036598253,0.027606643,0.138825952,0.032398383,0.061344137,0.028665512,0.120740453,0.041648061,0.028074999,0.03944543,0.092365235,0.050007614,0.070708359,0.054430782,0.122015526,0.026381939,0.03934312,0.050670244,0.034854646,0.039203014,0.071656423,0.068153456,0.034689248,0.037167955,0.028217442,0.076776355,0.057124407,0.123117025,0.087529891,0.039167153,0.053927231,0.058203554,0.243887113,0.046773143,0.059316307,0.238398398,0.04000284,0.045687711,0.038518187,0.037088719,0.044599815,0.055031062,0.055650828,0.050841039,0.06817149,0.07678624,0.036868105,0.0403709,0.039688764,0.107271644,0.050252846,0.043239568,0.048669873,0.13262982,0.074540364,0.039954147,0.03719242,0.15266505,0.034596084,0.080525145,0.121016778,0.026893337,0.030762777],\"xaxis\":\"x\",\"y\":[5.69,10.32,8.18,9.86,10.54,12.93,10.39,8.21,7.23,9.67,11.57,10.71,6.27,10.58,8.0,10.75,5.05,5.81,7.37,12.93,4.64,10.74,8.99,10.2,6.74,9.12,12.03,11.61,12.42,12.93,11.69,9.04,9.07,8.01,8.1,12.29,6.46,11.52,11.05,11.89,10.18,4.92,13.1,8.39,11.86,6.26,8.52,5.95,7.51,11.96,13.53,7.8,9.06,8.27,13.74,12.04,11.51,10.1,12.83,10.81,11.79,6.73,6.62,11.18,11.96,6.88,5.8,9.57,12.5,11.53,5.41,11.96,8.06,3.55,12.09,5.55,10.4,10.18,10.0,6.83,4.22,6.48,6.88,6.19,11.82,10.81,7.76,3.04,12.08,6.41,10.44,4.84,8.83,9.96,9.44,12.01,9.56,8.52,11.28,5.24,9.86,4.4,11.72,4.99,13.06,13.14,12.06,10.47,11.51,10.33,4.38,11.93,12.97,10.12,9.32,7.68,11.42,11.28,9.29,8.49,6.69,10.82,9.57,12.9,8.76,5.56,8.37,8.32],\"yaxis\":\"y\",\"type\":\"scatter\"},{\"hovertemplate\":\"<b>OLS trendline</b><br>Avg. Ed = -1.79102 * Road Injuries + 9.43264<br>R<sup>2</sup>=0.000655<br><br>Road Injuries=%{x}<br>Avg. Ed=%{y} <b>(trend)</b><extra></extra>\",\"legendgroup\":\"\",\"line\":{\"color\":\"red\"},\"marker\":{\"color\":\"#636efa\",\"symbol\":\"circle\"},\"mode\":\"lines\",\"name\":\"\",\"showlegend\":false,\"x\":[0.022197937,0.02414776,0.026381939,0.026893337,0.027606643,0.028074999,0.028217442,0.028279817,0.028538244,0.028575966,0.028665512,0.030762777,0.030919251,0.031148605,0.032398383,0.033480451,0.034215758,0.034484986,0.034596084,0.034689248,0.034854646,0.034871225,0.036598253,0.036868105,0.036885324,0.037088719,0.037167955,0.03719242,0.037279889,0.037427134,0.038518187,0.03861593,0.039167153,0.039203014,0.03934312,0.03944543,0.039688764,0.039954147,0.04000284,0.0403709,0.041648061,0.041683861,0.042746516,0.043239568,0.044368224,0.044599815,0.045687711,0.045764327,0.046270231,0.046340264,0.046773143,0.047424538,0.048349224,0.048669873,0.049030666,0.050007614,0.050252846,0.050365923,0.050670244,0.050841039,0.050995562,0.051319469,0.051738459,0.051857603,0.053265494,0.053927231,0.054430782,0.055031062,0.055434579,0.055650828,0.055790023,0.056673057,0.057124407,0.057327416,0.058203554,0.059117539,0.059316307,0.05991004,0.061344137,0.064738773,0.065789602,0.066641327,0.06704812,0.067473322,0.068001274,0.068153456,0.06817149,0.06838024,0.068584453,0.069828734,0.070708359,0.071011947,0.071656423,0.073457327,0.074540364,0.076460344,0.076776355,0.07678624,0.076895725,0.079143662,0.080120402,0.080525145,0.083013317,0.083831834,0.086101656,0.087529891,0.092365235,0.09551369,0.096074618,0.097386102,0.097773854,0.098016312,0.099227476,0.107248144,0.107271644,0.120740453,0.121016778,0.122015526,0.123117025,0.123313694,0.127797705,0.130130931,0.13262982,0.138825952,0.15266505,0.162422905,0.238398398,0.243887113],\"xaxis\":\"x\",\"y\":[9.392880838878845,9.389388671812934,9.38538721818194,9.384471295427325,9.383193751916393,9.382354918135931,9.382099800233757,9.381988085518762,9.381525238245784,9.381457677484596,9.381297299033792,9.377541060769351,9.377260813100987,9.376850036079055,9.374611661841342,9.372673659144342,9.371356711457945,9.37087451940522,9.370675540945797,9.370508682593767,9.37021245188546,9.370182758606742,9.367089621279147,9.366606311631518,9.366575472101617,9.366211188102316,9.366069275041676,9.366025457799154,9.365868799291645,9.365605080923556,9.363650985934544,9.363475926513496,9.362488676487946,9.362424448810279,9.362173516515943,9.361990277518089,9.361554462071858,9.361079156481324,9.36099194646742,9.360332744575619,9.358045326906392,9.357981208480792,9.35607797480603,9.355194910058009,9.353173467438888,9.352758683910865,9.35081024316402,9.350673022569165,9.349766939664557,9.349641509337738,9.348866215484234,9.347699555656188,9.346043426871418,9.345469138909117,9.344822952341305,9.343073221401262,9.342634006603864,9.342431483720858,9.341886439491887,9.341580542662266,9.341303789268997,9.340723666171762,9.339973247759966,9.33975985877394,9.337238301390222,9.336053118859452,9.335151250218962,9.334076138249145,9.333353432250737,9.332966126512813,9.332716825835398,9.33113529651049,9.330326920773206,9.32996332810665,9.32839414963825,9.326757186531477,9.326401189570031,9.325337803391623,9.32276931060396,9.316689458207126,9.314807405105022,9.313281950746235,9.312553377374579,9.311791833162228,9.310846261904334,9.310573701282973,9.31054140207383,9.31016752717595,9.309801778124354,9.307573249109701,9.305997825363367,9.305454093950205,9.304299826172068,9.301074375637498,9.299134637444565,9.295695919713157,9.295129938489906,9.295112234282167,9.294916144733929,9.290890050284515,9.289140691876108,9.288415790090275,9.283959430557784,9.282493452307303,9.278428161440452,9.275870167597226,9.267209981996203,9.26157104407235,9.260566412222204,9.258217521460187,9.25752305085227,9.257088804337346,9.25491958844841,9.240554431900252,9.240512342989593,9.216389470704863,9.215894567801119,9.214105792680122,9.212132988722567,9.211780751106803,9.203749809048277,9.19957096050945,9.19509540664268,9.18399802595406,9.159211959599574,9.141735470777295,9.00566203515218,8.995831650672582],\"yaxis\":\"y\",\"type\":\"scatter\"}],\"layout\":{\"template\":{\"data\":{\"histogram2dcontour\":[{\"type\":\"histogram2dcontour\",\"colorbar\":{\"outlinewidth\":0,\"ticks\":\"\"},\"colorscale\":[[0.0,\"#0d0887\"],[0.1111111111111111,\"#46039f\"],[0.2222222222222222,\"#7201a8\"],[0.3333333333333333,\"#9c179e\"],[0.4444444444444444,\"#bd3786\"],[0.5555555555555556,\"#d8576b\"],[0.6666666666666666,\"#ed7953\"],[0.7777777777777778,\"#fb9f3a\"],[0.8888888888888888,\"#fdca26\"],[1.0,\"#f0f921\"]]}],\"choropleth\":[{\"type\":\"choropleth\",\"colorbar\":{\"outlinewidth\":0,\"ticks\":\"\"}}],\"histogram2d\":[{\"type\":\"histogram2d\",\"colorbar\":{\"outlinewidth\":0,\"ticks\":\"\"},\"colorscale\":[[0.0,\"#0d0887\"],[0.1111111111111111,\"#46039f\"],[0.2222222222222222,\"#7201a8\"],[0.3333333333333333,\"#9c179e\"],[0.4444444444444444,\"#bd3786\"],[0.5555555555555556,\"#d8576b\"],[0.6666666666666666,\"#ed7953\"],[0.7777777777777778,\"#fb9f3a\"],[0.8888888888888888,\"#fdca26\"],[1.0,\"#f0f921\"]]}],\"heatmap\":[{\"type\":\"heatmap\",\"colorbar\":{\"outlinewidth\":0,\"ticks\":\"\"},\"colorscale\":[[0.0,\"#0d0887\"],[0.1111111111111111,\"#46039f\"],[0.2222222222222222,\"#7201a8\"],[0.3333333333333333,\"#9c179e\"],[0.4444444444444444,\"#bd3786\"],[0.5555555555555556,\"#d8576b\"],[0.6666666666666666,\"#ed7953\"],[0.7777777777777778,\"#fb9f3a\"],[0.8888888888888888,\"#fdca26\"],[1.0,\"#f0f921\"]]}],\"heatmapgl\":[{\"type\":\"heatmapgl\",\"colorbar\":{\"outlinewidth\":0,\"ticks\":\"\"},\"colorscale\":[[0.0,\"#0d0887\"],[0.1111111111111111,\"#46039f\"],[0.2222222222222222,\"#7201a8\"],[0.3333333333333333,\"#9c179e\"],[0.4444444444444444,\"#bd3786\"],[0.5555555555555556,\"#d8576b\"],[0.6666666666666666,\"#ed7953\"],[0.7777777777777778,\"#fb9f3a\"],[0.8888888888888888,\"#fdca26\"],[1.0,\"#f0f921\"]]}],\"contourcarpet\":[{\"type\":\"contourcarpet\",\"colorbar\":{\"outlinewidth\":0,\"ticks\":\"\"}}],\"contour\":[{\"type\":\"contour\",\"colorbar\":{\"outlinewidth\":0,\"ticks\":\"\"},\"colorscale\":[[0.0,\"#0d0887\"],[0.1111111111111111,\"#46039f\"],[0.2222222222222222,\"#7201a8\"],[0.3333333333333333,\"#9c179e\"],[0.4444444444444444,\"#bd3786\"],[0.5555555555555556,\"#d8576b\"],[0.6666666666666666,\"#ed7953\"],[0.7777777777777778,\"#fb9f3a\"],[0.8888888888888888,\"#fdca26\"],[1.0,\"#f0f921\"]]}],\"surface\":[{\"type\":\"surface\",\"colorbar\":{\"outlinewidth\":0,\"ticks\":\"\"},\"colorscale\":[[0.0,\"#0d0887\"],[0.1111111111111111,\"#46039f\"],[0.2222222222222222,\"#7201a8\"],[0.3333333333333333,\"#9c179e\"],[0.4444444444444444,\"#bd3786\"],[0.5555555555555556,\"#d8576b\"],[0.6666666666666666,\"#ed7953\"],[0.7777777777777778,\"#fb9f3a\"],[0.8888888888888888,\"#fdca26\"],[1.0,\"#f0f921\"]]}],\"mesh3d\":[{\"type\":\"mesh3d\",\"colorbar\":{\"outlinewidth\":0,\"ticks\":\"\"}}],\"scatter\":[{\"fillpattern\":{\"fillmode\":\"overlay\",\"size\":10,\"solidity\":0.2},\"type\":\"scatter\"}],\"parcoords\":[{\"type\":\"parcoords\",\"line\":{\"colorbar\":{\"outlinewidth\":0,\"ticks\":\"\"}}}],\"scatterpolargl\":[{\"type\":\"scatterpolargl\",\"marker\":{\"colorbar\":{\"outlinewidth\":0,\"ticks\":\"\"}}}],\"bar\":[{\"error_x\":{\"color\":\"#2a3f5f\"},\"error_y\":{\"color\":\"#2a3f5f\"},\"marker\":{\"line\":{\"color\":\"#E5ECF6\",\"width\":0.5},\"pattern\":{\"fillmode\":\"overlay\",\"size\":10,\"solidity\":0.2}},\"type\":\"bar\"}],\"scattergeo\":[{\"type\":\"scattergeo\",\"marker\":{\"colorbar\":{\"outlinewidth\":0,\"ticks\":\"\"}}}],\"scatterpolar\":[{\"type\":\"scatterpolar\",\"marker\":{\"colorbar\":{\"outlinewidth\":0,\"ticks\":\"\"}}}],\"histogram\":[{\"marker\":{\"pattern\":{\"fillmode\":\"overlay\",\"size\":10,\"solidity\":0.2}},\"type\":\"histogram\"}],\"scattergl\":[{\"type\":\"scattergl\",\"marker\":{\"colorbar\":{\"outlinewidth\":0,\"ticks\":\"\"}}}],\"scatter3d\":[{\"type\":\"scatter3d\",\"line\":{\"colorbar\":{\"outlinewidth\":0,\"ticks\":\"\"}},\"marker\":{\"colorbar\":{\"outlinewidth\":0,\"ticks\":\"\"}}}],\"scattermapbox\":[{\"type\":\"scattermapbox\",\"marker\":{\"colorbar\":{\"outlinewidth\":0,\"ticks\":\"\"}}}],\"scatterternary\":[{\"type\":\"scatterternary\",\"marker\":{\"colorbar\":{\"outlinewidth\":0,\"ticks\":\"\"}}}],\"scattercarpet\":[{\"type\":\"scattercarpet\",\"marker\":{\"colorbar\":{\"outlinewidth\":0,\"ticks\":\"\"}}}],\"carpet\":[{\"aaxis\":{\"endlinecolor\":\"#2a3f5f\",\"gridcolor\":\"white\",\"linecolor\":\"white\",\"minorgridcolor\":\"white\",\"startlinecolor\":\"#2a3f5f\"},\"baxis\":{\"endlinecolor\":\"#2a3f5f\",\"gridcolor\":\"white\",\"linecolor\":\"white\",\"minorgridcolor\":\"white\",\"startlinecolor\":\"#2a3f5f\"},\"type\":\"carpet\"}],\"table\":[{\"cells\":{\"fill\":{\"color\":\"#EBF0F8\"},\"line\":{\"color\":\"white\"}},\"header\":{\"fill\":{\"color\":\"#C8D4E3\"},\"line\":{\"color\":\"white\"}},\"type\":\"table\"}],\"barpolar\":[{\"marker\":{\"line\":{\"color\":\"#E5ECF6\",\"width\":0.5},\"pattern\":{\"fillmode\":\"overlay\",\"size\":10,\"solidity\":0.2}},\"type\":\"barpolar\"}],\"pie\":[{\"automargin\":true,\"type\":\"pie\"}]},\"layout\":{\"autotypenumbers\":\"strict\",\"colorway\":[\"#636efa\",\"#EF553B\",\"#00cc96\",\"#ab63fa\",\"#FFA15A\",\"#19d3f3\",\"#FF6692\",\"#B6E880\",\"#FF97FF\",\"#FECB52\"],\"font\":{\"color\":\"#2a3f5f\"},\"hovermode\":\"closest\",\"hoverlabel\":{\"align\":\"left\"},\"paper_bgcolor\":\"white\",\"plot_bgcolor\":\"#E5ECF6\",\"polar\":{\"bgcolor\":\"#E5ECF6\",\"angularaxis\":{\"gridcolor\":\"white\",\"linecolor\":\"white\",\"ticks\":\"\"},\"radialaxis\":{\"gridcolor\":\"white\",\"linecolor\":\"white\",\"ticks\":\"\"}},\"ternary\":{\"bgcolor\":\"#E5ECF6\",\"aaxis\":{\"gridcolor\":\"white\",\"linecolor\":\"white\",\"ticks\":\"\"},\"baxis\":{\"gridcolor\":\"white\",\"linecolor\":\"white\",\"ticks\":\"\"},\"caxis\":{\"gridcolor\":\"white\",\"linecolor\":\"white\",\"ticks\":\"\"}},\"coloraxis\":{\"colorbar\":{\"outlinewidth\":0,\"ticks\":\"\"}},\"colorscale\":{\"sequential\":[[0.0,\"#0d0887\"],[0.1111111111111111,\"#46039f\"],[0.2222222222222222,\"#7201a8\"],[0.3333333333333333,\"#9c179e\"],[0.4444444444444444,\"#bd3786\"],[0.5555555555555556,\"#d8576b\"],[0.6666666666666666,\"#ed7953\"],[0.7777777777777778,\"#fb9f3a\"],[0.8888888888888888,\"#fdca26\"],[1.0,\"#f0f921\"]],\"sequentialminus\":[[0.0,\"#0d0887\"],[0.1111111111111111,\"#46039f\"],[0.2222222222222222,\"#7201a8\"],[0.3333333333333333,\"#9c179e\"],[0.4444444444444444,\"#bd3786\"],[0.5555555555555556,\"#d8576b\"],[0.6666666666666666,\"#ed7953\"],[0.7777777777777778,\"#fb9f3a\"],[0.8888888888888888,\"#fdca26\"],[1.0,\"#f0f921\"]],\"diverging\":[[0,\"#8e0152\"],[0.1,\"#c51b7d\"],[0.2,\"#de77ae\"],[0.3,\"#f1b6da\"],[0.4,\"#fde0ef\"],[0.5,\"#f7f7f7\"],[0.6,\"#e6f5d0\"],[0.7,\"#b8e186\"],[0.8,\"#7fbc41\"],[0.9,\"#4d9221\"],[1,\"#276419\"]]},\"xaxis\":{\"gridcolor\":\"white\",\"linecolor\":\"white\",\"ticks\":\"\",\"title\":{\"standoff\":15},\"zerolinecolor\":\"white\",\"automargin\":true,\"zerolinewidth\":2},\"yaxis\":{\"gridcolor\":\"white\",\"linecolor\":\"white\",\"ticks\":\"\",\"title\":{\"standoff\":15},\"zerolinecolor\":\"white\",\"automargin\":true,\"zerolinewidth\":2},\"scene\":{\"xaxis\":{\"backgroundcolor\":\"#E5ECF6\",\"gridcolor\":\"white\",\"linecolor\":\"white\",\"showbackground\":true,\"ticks\":\"\",\"zerolinecolor\":\"white\",\"gridwidth\":2},\"yaxis\":{\"backgroundcolor\":\"#E5ECF6\",\"gridcolor\":\"white\",\"linecolor\":\"white\",\"showbackground\":true,\"ticks\":\"\",\"zerolinecolor\":\"white\",\"gridwidth\":2},\"zaxis\":{\"backgroundcolor\":\"#E5ECF6\",\"gridcolor\":\"white\",\"linecolor\":\"white\",\"showbackground\":true,\"ticks\":\"\",\"zerolinecolor\":\"white\",\"gridwidth\":2}},\"shapedefaults\":{\"line\":{\"color\":\"#2a3f5f\"}},\"annotationdefaults\":{\"arrowcolor\":\"#2a3f5f\",\"arrowhead\":0,\"arrowwidth\":1},\"geo\":{\"bgcolor\":\"white\",\"landcolor\":\"#E5ECF6\",\"subunitcolor\":\"white\",\"showland\":true,\"showlakes\":true,\"lakecolor\":\"white\"},\"title\":{\"x\":0.05},\"mapbox\":{\"style\":\"light\"}}},\"xaxis\":{\"anchor\":\"y\",\"domain\":[0.0,1.0],\"title\":{\"text\":\"Road Injuries\"}},\"yaxis\":{\"anchor\":\"x\",\"domain\":[0.0,1.0],\"title\":{\"text\":\"Avg. Ed\"}},\"legend\":{\"tracegroupgap\":0},\"margin\":{\"t\":60},\"title\":{\"text\":\"Road Injuries vs. Average Years of Education by Location\",\"x\":0.5,\"xanchor\":\"center\"}}}'"
      ]
     },
     "execution_count": 22,
     "metadata": {},
     "output_type": "execute_result"
    }
   ],
   "source": [
    "# Getting the JSON data\n",
    "\n",
    "json_data = pio.to_json(fig_1)\n",
    "json_data"
   ]
  },
  {
   "cell_type": "code",
   "execution_count": 23,
   "metadata": {},
   "outputs": [
    {
     "data": {
      "text/plain": [
       "'{\"data\":[{\"hovertemplate\":\"<b>%{hovertext}</b><br><br>HIV=%{x}<br>Avg. Ed=%{y}<extra></extra>\",\"hovertext\":[\"Afghanistan\",\"Albania\",\"Algeria\",\"Argentina\",\"Armenia\",\"Australia\",\"Austria\",\"Bahrain\",\"Bangladesh\",\"Barbados\",\"Belgium\",\"Belize\",\"Benin\",\"Botswana\",\"Brazil\",\"Bulgaria\",\"Burundi\",\"Cambodia\",\"Cameroon\",\"Canada\",\"Central African Republic\",\"Chile\",\"China\",\"Colombia\",\"Congo\",\"Costa Rica\",\"Croatia\",\"Cuba\",\"Cyprus\",\"Czechia\",\"Denmark\",\"Dominican Republic\",\"Ecuador\",\"Egypt\",\"El Salvador\",\"Estonia\",\"Eswatini\",\"Fiji\",\"Finland\",\"France\",\"Gabon\",\"Gambia\",\"Germany\",\"Ghana\",\"Greece\",\"Guatemala\",\"Guyana\",\"Haiti\",\"Honduras\",\"Hungary\",\"Iceland\",\"India\",\"Indonesia\",\"Iraq\",\"Ireland\",\"Israel\",\"Italy\",\"Jamaica\",\"Japan\",\"Jordan\",\"Kazakhstan\",\"Kenya\",\"Kuwait\",\"Kyrgyzstan\",\"Latvia\",\"Lesotho\",\"Liberia\",\"Libya\",\"Lithuania\",\"Luxembourg\",\"Malawi\",\"Malaysia\",\"Maldives\",\"Mali\",\"Malta\",\"Mauritania\",\"Mauritius\",\"Mexico\",\"Mongolia\",\"Morocco\",\"Mozambique\",\"Myanmar\",\"Namibia\",\"Nepal\",\"Netherlands\",\"New Zealand\",\"Nicaragua\",\"Niger\",\"Norway\",\"Pakistan\",\"Panama\",\"Papua New Guinea\",\"Paraguay\",\"Peru\",\"Philippines\",\"Poland\",\"Portugal\",\"Qatar\",\"Romania\",\"Rwanda\",\"Saudi Arabia\",\"Senegal\",\"Serbia\",\"Sierra Leone\",\"Singapore\",\"Slovakia\",\"Slovenia\",\"South Africa\",\"Spain\",\"Sri Lanka\",\"Sudan\",\"Sweden\",\"Switzerland\",\"Tajikistan\",\"Thailand\",\"Togo\",\"Tonga\",\"Trinidad and Tobago\",\"Tunisia\",\"Turkey\",\"Uganda\",\"Ukraine\",\"United Arab Emirates\",\"United Kingdom\",\"Uruguay\",\"Yemen\",\"Zambia\",\"Zimbabwe\"],\"legendgroup\":\"\",\"marker\":{\"color\":\"#636efa\",\"symbol\":\"circle\"},\"mode\":\"markers\",\"name\":\"\",\"orientation\":\"v\",\"showlegend\":false,\"x\":[0.002163739,0.000502499,0.004090408,0.026741034,0.005419346,0.002883772,0.004875665,0.004204352,0.00154532,0.047641532,0.004199578,0.083756256,0.06452762,0.407560319,0.032291519,0.003013197,0.051661858,0.034849137,0.24407306,0.00702363,0.17121064,0.024019906,0.01381587,0.031848471,0.215864322,0.02109365,0.001376084,0.023634215,0.003539115,0.00142973,0.004120078,0.052635665,0.041168267,0.000338142,0.038926097,0.020385401,0.409605524,0.003301266,0.000782991,0.006500853,0.197340737,0.183163471,0.004614943,0.157467854,0.002384857,0.014439536,0.063360326,0.128451108,0.005467102,0.001870226,0.00403136,0.015410431,0.010196381,0.000850623,0.002683637,0.005491826,0.012414017,0.088095271,0.000842329,0.00222151,0.0067177,0.305973662,0.000675286,0.014557418,0.033754018,0.451738626,0.127374574,0.006021968,0.010500185,0.005019126,0.2415567,0.022782755,0.001683667,0.084714686,0.004694468,0.003171153,0.037756732,0.020663671,0.001047892,0.007385679,0.39005817,0.037329977,0.352518799,0.025657325,0.003214369,0.002139059,0.068278136,0.02980367,0.003292387,0.00638473,0.096265519,0.110476928,0.041785546,0.045313,0.019214993,0.002616519,0.046495941,0.00141832,0.004689288,0.104096265,0.007718808,0.049555475,0.00401256,0.11763992,0.008936079,0.000515274,0.001186897,0.428854527,0.018652727,0.001055111,0.079576618,0.002482691,0.006131304,0.0040251,0.097873109,0.140861224,0.009062579,0.068789928,0.010316137,0.002498374,0.201332285,0.043163931,0.0053842,0.003553172,0.031035518,0.003649288,0.299726216,0.266964611],\"xaxis\":\"x\",\"y\":[5.69,10.32,8.18,9.86,10.54,12.93,10.39,8.21,7.23,9.67,11.57,10.71,6.27,10.58,8.0,10.75,5.05,5.81,7.37,12.93,4.64,10.74,8.99,10.2,6.74,9.12,12.03,11.61,12.42,12.93,11.69,9.04,9.07,8.01,8.1,12.29,6.46,11.52,11.05,11.89,10.18,4.92,13.1,8.39,11.86,6.26,8.52,5.95,7.51,11.96,13.53,7.8,9.06,8.27,13.74,12.04,11.51,10.1,12.83,10.81,11.79,6.73,6.62,11.18,11.96,6.88,5.8,9.57,12.5,11.53,5.41,11.96,8.06,3.55,12.09,5.55,10.4,10.18,10.0,6.83,4.22,6.48,6.88,6.19,11.82,10.81,7.76,3.04,12.08,6.41,10.44,4.84,8.83,9.96,9.44,12.01,9.56,8.52,11.28,5.24,9.86,4.4,11.72,4.99,13.06,13.14,12.06,10.47,11.51,10.33,4.38,11.93,12.97,10.12,9.32,7.68,11.42,11.28,9.29,8.49,6.69,10.82,9.57,12.9,8.76,5.56,8.37,8.32],\"yaxis\":\"y\",\"type\":\"scatter\"},{\"hovertemplate\":\"<b>OLS trendline</b><br>Avg. Ed = -10.0152 * HIV + 9.92184<br>R<sup>2</sup>=0.152926<br><br>HIV=%{x}<br>Avg. Ed=%{y} <b>(trend)</b><extra></extra>\",\"legendgroup\":\"\",\"line\":{\"color\":\"red\"},\"marker\":{\"color\":\"#636efa\",\"symbol\":\"circle\"},\"mode\":\"lines\",\"name\":\"\",\"showlegend\":false,\"x\":[0.000338142,0.000502499,0.000515274,0.000675286,0.000782991,0.000842329,0.000850623,0.001047892,0.001055111,0.001186897,0.001376084,0.00141832,0.00142973,0.00154532,0.001683667,0.001870226,0.002139059,0.002163739,0.00222151,0.002384857,0.002482691,0.002498374,0.002616519,0.002683637,0.002883772,0.003013197,0.003171153,0.003214369,0.003292387,0.003301266,0.003539115,0.003553172,0.003649288,0.00401256,0.0040251,0.00403136,0.004090408,0.004120078,0.004199578,0.004204352,0.004614943,0.004689288,0.004694468,0.004875665,0.005019126,0.0053842,0.005419346,0.005467102,0.005491826,0.006021968,0.006131304,0.00638473,0.006500853,0.0067177,0.00702363,0.007385679,0.007718808,0.008936079,0.009062579,0.010196381,0.010316137,0.010500185,0.012414017,0.01381587,0.014439536,0.014557418,0.015410431,0.018652727,0.019214993,0.020385401,0.020663671,0.02109365,0.022782755,0.023634215,0.024019906,0.025657325,0.026741034,0.02980367,0.031035518,0.031848471,0.032291519,0.033754018,0.034849137,0.037329977,0.037756732,0.038926097,0.041168267,0.041785546,0.043163931,0.045313,0.046495941,0.047641532,0.049555475,0.051661858,0.052635665,0.063360326,0.06452762,0.068278136,0.068789928,0.079576618,0.083756256,0.084714686,0.088095271,0.096265519,0.097873109,0.104096265,0.110476928,0.11763992,0.127374574,0.128451108,0.140861224,0.157467854,0.17121064,0.183163471,0.197340737,0.201332285,0.215864322,0.2415567,0.24407306,0.266964611,0.299726216,0.305973662,0.352518799,0.39005817,0.407560319,0.409605524,0.428854527,0.451738626],\"xaxis\":\"x\",\"y\":[9.918449379487086,9.916803318480886,9.916675374862093,9.915072829709018,9.913994147324496,9.913399867993615,9.91331680228917,9.911341122466395,9.911268823054725,9.909948965696882,9.908054228365465,9.907631228233692,9.907516955302933,9.9063593034128,9.904973736615982,9.903105319114717,9.900412914662947,9.90016574061114,9.899587155029819,9.89795120933125,9.896971386552297,9.89681431885965,9.895631078245758,9.894958881000651,9.89295449774058,9.89165828616622,9.890076332174024,9.889643517189302,9.888862154743032,9.888773230172285,9.88639113531619,9.886250352267314,9.885287735526488,9.881649509750623,9.881523919693505,9.881461224816507,9.880869849880884,9.880572700200288,9.87977649529272,9.879728682937643,9.875616549991701,9.874871973213676,9.874820094705232,9.873005378470815,9.871568594165854,9.867912321078752,9.867560328403513,9.867082044610235,9.86683442989156,9.861524975022292,9.86042995791822,9.857891856976021,9.856728867007703,9.854557110459389,9.85149317376289,9.847867196522898,9.844530857596451,9.832339698551952,9.831072781309095,9.819717577326601,9.818518202296282,9.816674932851909,9.797507606680124,9.783467830097909,9.777221717772347,9.776041111144503,9.767498052819754,9.735025952354576,9.729394770611714,9.717672951826124,9.71488603434652,9.710579727554693,9.693663077361055,9.685135572573682,9.681272817013882,9.664873810176879,9.6540202954074,9.623347517881763,9.61101036790723,9.602868516734645,9.598431321868139,9.5837841661309,9.572816378430664,9.547970378645935,9.543696360717277,9.531984987739467,9.509529305253967,9.503347159730225,9.489542418830661,9.468019157390437,9.45617181865382,9.444698545996417,9.42553010814231,9.40443435365409,9.394681524567018,9.28727237085404,9.275581739264453,9.238019736181373,9.23289405942599,9.124863675597146,9.083003948710992,9.073405122678809,9.039548036295866,8.95772172744516,8.941621462698567,8.879295584110533,8.815392248335378,8.743653765527128,8.646159686429556,8.635378030404881,8.511088781817922,8.344770790570971,8.207134643944187,8.087425176000703,7.945437644364622,7.905461668183676,7.75992104961348,7.502607874133725,7.477406136005388,7.248143680055737,6.920031092876636,6.8574619461476605,6.391305134792547,6.015342475457446,5.840055721661833,5.8195726743916625,5.626790905154524,5.397603082147907],\"yaxis\":\"y\",\"type\":\"scatter\"}],\"layout\":{\"template\":{\"data\":{\"histogram2dcontour\":[{\"type\":\"histogram2dcontour\",\"colorbar\":{\"outlinewidth\":0,\"ticks\":\"\"},\"colorscale\":[[0.0,\"#0d0887\"],[0.1111111111111111,\"#46039f\"],[0.2222222222222222,\"#7201a8\"],[0.3333333333333333,\"#9c179e\"],[0.4444444444444444,\"#bd3786\"],[0.5555555555555556,\"#d8576b\"],[0.6666666666666666,\"#ed7953\"],[0.7777777777777778,\"#fb9f3a\"],[0.8888888888888888,\"#fdca26\"],[1.0,\"#f0f921\"]]}],\"choropleth\":[{\"type\":\"choropleth\",\"colorbar\":{\"outlinewidth\":0,\"ticks\":\"\"}}],\"histogram2d\":[{\"type\":\"histogram2d\",\"colorbar\":{\"outlinewidth\":0,\"ticks\":\"\"},\"colorscale\":[[0.0,\"#0d0887\"],[0.1111111111111111,\"#46039f\"],[0.2222222222222222,\"#7201a8\"],[0.3333333333333333,\"#9c179e\"],[0.4444444444444444,\"#bd3786\"],[0.5555555555555556,\"#d8576b\"],[0.6666666666666666,\"#ed7953\"],[0.7777777777777778,\"#fb9f3a\"],[0.8888888888888888,\"#fdca26\"],[1.0,\"#f0f921\"]]}],\"heatmap\":[{\"type\":\"heatmap\",\"colorbar\":{\"outlinewidth\":0,\"ticks\":\"\"},\"colorscale\":[[0.0,\"#0d0887\"],[0.1111111111111111,\"#46039f\"],[0.2222222222222222,\"#7201a8\"],[0.3333333333333333,\"#9c179e\"],[0.4444444444444444,\"#bd3786\"],[0.5555555555555556,\"#d8576b\"],[0.6666666666666666,\"#ed7953\"],[0.7777777777777778,\"#fb9f3a\"],[0.8888888888888888,\"#fdca26\"],[1.0,\"#f0f921\"]]}],\"heatmapgl\":[{\"type\":\"heatmapgl\",\"colorbar\":{\"outlinewidth\":0,\"ticks\":\"\"},\"colorscale\":[[0.0,\"#0d0887\"],[0.1111111111111111,\"#46039f\"],[0.2222222222222222,\"#7201a8\"],[0.3333333333333333,\"#9c179e\"],[0.4444444444444444,\"#bd3786\"],[0.5555555555555556,\"#d8576b\"],[0.6666666666666666,\"#ed7953\"],[0.7777777777777778,\"#fb9f3a\"],[0.8888888888888888,\"#fdca26\"],[1.0,\"#f0f921\"]]}],\"contourcarpet\":[{\"type\":\"contourcarpet\",\"colorbar\":{\"outlinewidth\":0,\"ticks\":\"\"}}],\"contour\":[{\"type\":\"contour\",\"colorbar\":{\"outlinewidth\":0,\"ticks\":\"\"},\"colorscale\":[[0.0,\"#0d0887\"],[0.1111111111111111,\"#46039f\"],[0.2222222222222222,\"#7201a8\"],[0.3333333333333333,\"#9c179e\"],[0.4444444444444444,\"#bd3786\"],[0.5555555555555556,\"#d8576b\"],[0.6666666666666666,\"#ed7953\"],[0.7777777777777778,\"#fb9f3a\"],[0.8888888888888888,\"#fdca26\"],[1.0,\"#f0f921\"]]}],\"surface\":[{\"type\":\"surface\",\"colorbar\":{\"outlinewidth\":0,\"ticks\":\"\"},\"colorscale\":[[0.0,\"#0d0887\"],[0.1111111111111111,\"#46039f\"],[0.2222222222222222,\"#7201a8\"],[0.3333333333333333,\"#9c179e\"],[0.4444444444444444,\"#bd3786\"],[0.5555555555555556,\"#d8576b\"],[0.6666666666666666,\"#ed7953\"],[0.7777777777777778,\"#fb9f3a\"],[0.8888888888888888,\"#fdca26\"],[1.0,\"#f0f921\"]]}],\"mesh3d\":[{\"type\":\"mesh3d\",\"colorbar\":{\"outlinewidth\":0,\"ticks\":\"\"}}],\"scatter\":[{\"fillpattern\":{\"fillmode\":\"overlay\",\"size\":10,\"solidity\":0.2},\"type\":\"scatter\"}],\"parcoords\":[{\"type\":\"parcoords\",\"line\":{\"colorbar\":{\"outlinewidth\":0,\"ticks\":\"\"}}}],\"scatterpolargl\":[{\"type\":\"scatterpolargl\",\"marker\":{\"colorbar\":{\"outlinewidth\":0,\"ticks\":\"\"}}}],\"bar\":[{\"error_x\":{\"color\":\"#2a3f5f\"},\"error_y\":{\"color\":\"#2a3f5f\"},\"marker\":{\"line\":{\"color\":\"#E5ECF6\",\"width\":0.5},\"pattern\":{\"fillmode\":\"overlay\",\"size\":10,\"solidity\":0.2}},\"type\":\"bar\"}],\"scattergeo\":[{\"type\":\"scattergeo\",\"marker\":{\"colorbar\":{\"outlinewidth\":0,\"ticks\":\"\"}}}],\"scatterpolar\":[{\"type\":\"scatterpolar\",\"marker\":{\"colorbar\":{\"outlinewidth\":0,\"ticks\":\"\"}}}],\"histogram\":[{\"marker\":{\"pattern\":{\"fillmode\":\"overlay\",\"size\":10,\"solidity\":0.2}},\"type\":\"histogram\"}],\"scattergl\":[{\"type\":\"scattergl\",\"marker\":{\"colorbar\":{\"outlinewidth\":0,\"ticks\":\"\"}}}],\"scatter3d\":[{\"type\":\"scatter3d\",\"line\":{\"colorbar\":{\"outlinewidth\":0,\"ticks\":\"\"}},\"marker\":{\"colorbar\":{\"outlinewidth\":0,\"ticks\":\"\"}}}],\"scattermapbox\":[{\"type\":\"scattermapbox\",\"marker\":{\"colorbar\":{\"outlinewidth\":0,\"ticks\":\"\"}}}],\"scatterternary\":[{\"type\":\"scatterternary\",\"marker\":{\"colorbar\":{\"outlinewidth\":0,\"ticks\":\"\"}}}],\"scattercarpet\":[{\"type\":\"scattercarpet\",\"marker\":{\"colorbar\":{\"outlinewidth\":0,\"ticks\":\"\"}}}],\"carpet\":[{\"aaxis\":{\"endlinecolor\":\"#2a3f5f\",\"gridcolor\":\"white\",\"linecolor\":\"white\",\"minorgridcolor\":\"white\",\"startlinecolor\":\"#2a3f5f\"},\"baxis\":{\"endlinecolor\":\"#2a3f5f\",\"gridcolor\":\"white\",\"linecolor\":\"white\",\"minorgridcolor\":\"white\",\"startlinecolor\":\"#2a3f5f\"},\"type\":\"carpet\"}],\"table\":[{\"cells\":{\"fill\":{\"color\":\"#EBF0F8\"},\"line\":{\"color\":\"white\"}},\"header\":{\"fill\":{\"color\":\"#C8D4E3\"},\"line\":{\"color\":\"white\"}},\"type\":\"table\"}],\"barpolar\":[{\"marker\":{\"line\":{\"color\":\"#E5ECF6\",\"width\":0.5},\"pattern\":{\"fillmode\":\"overlay\",\"size\":10,\"solidity\":0.2}},\"type\":\"barpolar\"}],\"pie\":[{\"automargin\":true,\"type\":\"pie\"}]},\"layout\":{\"autotypenumbers\":\"strict\",\"colorway\":[\"#636efa\",\"#EF553B\",\"#00cc96\",\"#ab63fa\",\"#FFA15A\",\"#19d3f3\",\"#FF6692\",\"#B6E880\",\"#FF97FF\",\"#FECB52\"],\"font\":{\"color\":\"#2a3f5f\"},\"hovermode\":\"closest\",\"hoverlabel\":{\"align\":\"left\"},\"paper_bgcolor\":\"white\",\"plot_bgcolor\":\"#E5ECF6\",\"polar\":{\"bgcolor\":\"#E5ECF6\",\"angularaxis\":{\"gridcolor\":\"white\",\"linecolor\":\"white\",\"ticks\":\"\"},\"radialaxis\":{\"gridcolor\":\"white\",\"linecolor\":\"white\",\"ticks\":\"\"}},\"ternary\":{\"bgcolor\":\"#E5ECF6\",\"aaxis\":{\"gridcolor\":\"white\",\"linecolor\":\"white\",\"ticks\":\"\"},\"baxis\":{\"gridcolor\":\"white\",\"linecolor\":\"white\",\"ticks\":\"\"},\"caxis\":{\"gridcolor\":\"white\",\"linecolor\":\"white\",\"ticks\":\"\"}},\"coloraxis\":{\"colorbar\":{\"outlinewidth\":0,\"ticks\":\"\"}},\"colorscale\":{\"sequential\":[[0.0,\"#0d0887\"],[0.1111111111111111,\"#46039f\"],[0.2222222222222222,\"#7201a8\"],[0.3333333333333333,\"#9c179e\"],[0.4444444444444444,\"#bd3786\"],[0.5555555555555556,\"#d8576b\"],[0.6666666666666666,\"#ed7953\"],[0.7777777777777778,\"#fb9f3a\"],[0.8888888888888888,\"#fdca26\"],[1.0,\"#f0f921\"]],\"sequentialminus\":[[0.0,\"#0d0887\"],[0.1111111111111111,\"#46039f\"],[0.2222222222222222,\"#7201a8\"],[0.3333333333333333,\"#9c179e\"],[0.4444444444444444,\"#bd3786\"],[0.5555555555555556,\"#d8576b\"],[0.6666666666666666,\"#ed7953\"],[0.7777777777777778,\"#fb9f3a\"],[0.8888888888888888,\"#fdca26\"],[1.0,\"#f0f921\"]],\"diverging\":[[0,\"#8e0152\"],[0.1,\"#c51b7d\"],[0.2,\"#de77ae\"],[0.3,\"#f1b6da\"],[0.4,\"#fde0ef\"],[0.5,\"#f7f7f7\"],[0.6,\"#e6f5d0\"],[0.7,\"#b8e186\"],[0.8,\"#7fbc41\"],[0.9,\"#4d9221\"],[1,\"#276419\"]]},\"xaxis\":{\"gridcolor\":\"white\",\"linecolor\":\"white\",\"ticks\":\"\",\"title\":{\"standoff\":15},\"zerolinecolor\":\"white\",\"automargin\":true,\"zerolinewidth\":2},\"yaxis\":{\"gridcolor\":\"white\",\"linecolor\":\"white\",\"ticks\":\"\",\"title\":{\"standoff\":15},\"zerolinecolor\":\"white\",\"automargin\":true,\"zerolinewidth\":2},\"scene\":{\"xaxis\":{\"backgroundcolor\":\"#E5ECF6\",\"gridcolor\":\"white\",\"linecolor\":\"white\",\"showbackground\":true,\"ticks\":\"\",\"zerolinecolor\":\"white\",\"gridwidth\":2},\"yaxis\":{\"backgroundcolor\":\"#E5ECF6\",\"gridcolor\":\"white\",\"linecolor\":\"white\",\"showbackground\":true,\"ticks\":\"\",\"zerolinecolor\":\"white\",\"gridwidth\":2},\"zaxis\":{\"backgroundcolor\":\"#E5ECF6\",\"gridcolor\":\"white\",\"linecolor\":\"white\",\"showbackground\":true,\"ticks\":\"\",\"zerolinecolor\":\"white\",\"gridwidth\":2}},\"shapedefaults\":{\"line\":{\"color\":\"#2a3f5f\"}},\"annotationdefaults\":{\"arrowcolor\":\"#2a3f5f\",\"arrowhead\":0,\"arrowwidth\":1},\"geo\":{\"bgcolor\":\"white\",\"landcolor\":\"#E5ECF6\",\"subunitcolor\":\"white\",\"showland\":true,\"showlakes\":true,\"lakecolor\":\"white\"},\"title\":{\"x\":0.05},\"mapbox\":{\"style\":\"light\"}}},\"xaxis\":{\"anchor\":\"y\",\"domain\":[0.0,1.0],\"title\":{\"text\":\"HIV\"}},\"yaxis\":{\"anchor\":\"x\",\"domain\":[0.0,1.0],\"title\":{\"text\":\"Avg. Ed\"}},\"legend\":{\"tracegroupgap\":0},\"margin\":{\"t\":60},\"title\":{\"text\":\"HIV vs. Average Years of Education by Location\",\"x\":0.5,\"xanchor\":\"center\"}}}'"
      ]
     },
     "execution_count": 23,
     "metadata": {},
     "output_type": "execute_result"
    }
   ],
   "source": [
    "json_data = pio.to_json(fig_2)\n",
    "json_data"
   ]
  },
  {
   "cell_type": "code",
   "execution_count": 24,
   "metadata": {},
   "outputs": [
    {
     "data": {
      "text/plain": [
       "'{\"data\":[{\"hovertemplate\":\"<b>%{hovertext}</b><br><br>Ischemic Heart Disease=%{x}<br>Avg. Ed=%{y}<extra></extra>\",\"hovertext\":[\"Afghanistan\",\"Albania\",\"Algeria\",\"Argentina\",\"Armenia\",\"Australia\",\"Austria\",\"Bahrain\",\"Bangladesh\",\"Barbados\",\"Belgium\",\"Belize\",\"Benin\",\"Botswana\",\"Brazil\",\"Bulgaria\",\"Burundi\",\"Cambodia\",\"Cameroon\",\"Canada\",\"Central African Republic\",\"Chile\",\"China\",\"Colombia\",\"Congo\",\"Costa Rica\",\"Croatia\",\"Cuba\",\"Cyprus\",\"Czechia\",\"Denmark\",\"Dominican Republic\",\"Ecuador\",\"Egypt\",\"El Salvador\",\"Estonia\",\"Eswatini\",\"Fiji\",\"Finland\",\"France\",\"Gabon\",\"Gambia\",\"Germany\",\"Ghana\",\"Greece\",\"Guatemala\",\"Guyana\",\"Haiti\",\"Honduras\",\"Hungary\",\"Iceland\",\"India\",\"Indonesia\",\"Iraq\",\"Ireland\",\"Israel\",\"Italy\",\"Jamaica\",\"Japan\",\"Jordan\",\"Kazakhstan\",\"Kenya\",\"Kuwait\",\"Kyrgyzstan\",\"Latvia\",\"Lesotho\",\"Liberia\",\"Libya\",\"Lithuania\",\"Luxembourg\",\"Malawi\",\"Malaysia\",\"Maldives\",\"Mali\",\"Malta\",\"Mauritania\",\"Mauritius\",\"Mexico\",\"Mongolia\",\"Morocco\",\"Mozambique\",\"Myanmar\",\"Namibia\",\"Nepal\",\"Netherlands\",\"New Zealand\",\"Nicaragua\",\"Niger\",\"Norway\",\"Pakistan\",\"Panama\",\"Papua New Guinea\",\"Paraguay\",\"Peru\",\"Philippines\",\"Poland\",\"Portugal\",\"Qatar\",\"Romania\",\"Rwanda\",\"Saudi Arabia\",\"Senegal\",\"Serbia\",\"Sierra Leone\",\"Singapore\",\"Slovakia\",\"Slovenia\",\"South Africa\",\"Spain\",\"Sri Lanka\",\"Sudan\",\"Sweden\",\"Switzerland\",\"Tajikistan\",\"Thailand\",\"Togo\",\"Tonga\",\"Trinidad and Tobago\",\"Tunisia\",\"Turkey\",\"Uganda\",\"Ukraine\",\"United Arab Emirates\",\"United Kingdom\",\"Uruguay\",\"Yemen\",\"Zambia\",\"Zimbabwe\"],\"legendgroup\":\"\",\"marker\":{\"color\":\"#636efa\",\"symbol\":\"circle\"},\"mode\":\"markers\",\"name\":\"\",\"orientation\":\"v\",\"showlegend\":false,\"x\":[0.179838083,0.173300847,0.219362051,0.078702551,0.198225059,0.08148769,0.092532788,0.174308426,0.14971722,0.0626115,0.069938826,0.066389512,0.053680666,0.046974311,0.088641179,0.17166366,0.053175034,0.077870834,0.04592324,0.09065454,0.043417196,0.068722474,0.116200299,0.087044567,0.060275959,0.088896329,0.125202126,0.116796941,0.156020621,0.122158709,0.05920077,0.160446304,0.076873004,0.270220273,0.077575788,0.091774431,0.035792732,0.203532431,0.096270079,0.057504294,0.054179701,0.064076835,0.091977881,0.056500109,0.180655916,0.057894517,0.10549221,0.096957022,0.081005494,0.135943858,0.106520109,0.14989065,0.134798277,0.187718993,0.101490053,0.067289585,0.088498166,0.061232126,0.074844264,0.177381829,0.114954415,0.034703763,0.297418737,0.155967626,0.129452534,0.028205829,0.056067781,0.193379593,0.136723146,0.071885398,0.044797722,0.150764737,0.171758723,0.044685563,0.138743495,0.059453101,0.108332629,0.081116074,0.135299299,0.232556337,0.033514468,0.074296407,0.043950508,0.108394074,0.070493275,0.098293008,0.089336821,0.051839003,0.076863307,0.153878137,0.069004033,0.119918108,0.092071598,0.060526684,0.138698717,0.098647527,0.071254268,0.15071112,0.134097292,0.042211242,0.200012811,0.059152147,0.128039467,0.057906065,0.143168452,0.139230717,0.07195228,0.034259257,0.088053439,0.118869641,0.216912459,0.087553881,0.077152232,0.195622617,0.061612522,0.062197999,0.128417789,0.112233146,0.217742047,0.159126961,0.040224443,0.201914435,0.156872548,0.100793704,0.066344157,0.189278911,0.037536953,0.051815546],\"xaxis\":\"x\",\"y\":[5.69,10.32,8.18,9.86,10.54,12.93,10.39,8.21,7.23,9.67,11.57,10.71,6.27,10.58,8.0,10.75,5.05,5.81,7.37,12.93,4.64,10.74,8.99,10.2,6.74,9.12,12.03,11.61,12.42,12.93,11.69,9.04,9.07,8.01,8.1,12.29,6.46,11.52,11.05,11.89,10.18,4.92,13.1,8.39,11.86,6.26,8.52,5.95,7.51,11.96,13.53,7.8,9.06,8.27,13.74,12.04,11.51,10.1,12.83,10.81,11.79,6.73,6.62,11.18,11.96,6.88,5.8,9.57,12.5,11.53,5.41,11.96,8.06,3.55,12.09,5.55,10.4,10.18,10.0,6.83,4.22,6.48,6.88,6.19,11.82,10.81,7.76,3.04,12.08,6.41,10.44,4.84,8.83,9.96,9.44,12.01,9.56,8.52,11.28,5.24,9.86,4.4,11.72,4.99,13.06,13.14,12.06,10.47,11.51,10.33,4.38,11.93,12.97,10.12,9.32,7.68,11.42,11.28,9.29,8.49,6.69,10.82,9.57,12.9,8.76,5.56,8.37,8.32],\"yaxis\":\"y\",\"type\":\"scatter\"},{\"hovertemplate\":\"<b>OLS trendline</b><br>Avg. Ed = 6.68549 * Ischemic Heart Disease + 8.60116<br>R<sup>2</sup>=0.020030<br><br>Ischemic Heart Disease=%{x}<br>Avg. Ed=%{y} <b>(trend)</b><extra></extra>\",\"legendgroup\":\"\",\"line\":{\"color\":\"red\"},\"marker\":{\"color\":\"#636efa\",\"symbol\":\"circle\"},\"mode\":\"lines\",\"name\":\"\",\"showlegend\":false,\"x\":[0.028205829,0.033514468,0.034259257,0.034703763,0.035792732,0.037536953,0.040224443,0.042211242,0.043417196,0.043950508,0.044685563,0.044797722,0.04592324,0.046974311,0.051815546,0.051839003,0.053175034,0.053680666,0.054179701,0.056067781,0.056500109,0.057504294,0.057894517,0.057906065,0.059152147,0.05920077,0.059453101,0.060275959,0.060526684,0.061232126,0.061612522,0.062197999,0.0626115,0.064076835,0.066344157,0.066389512,0.067289585,0.068722474,0.069004033,0.069938826,0.070493275,0.071254268,0.071885398,0.07195228,0.074296407,0.074844264,0.076863307,0.076873004,0.077152232,0.077575788,0.077870834,0.078702551,0.081005494,0.081116074,0.08148769,0.087044567,0.087553881,0.088053439,0.088498166,0.088641179,0.088896329,0.089336821,0.09065454,0.091774431,0.091977881,0.092071598,0.092532788,0.096270079,0.096957022,0.098293008,0.098647527,0.100793704,0.101490053,0.10549221,0.106520109,0.108332629,0.108394074,0.112233146,0.114954415,0.116200299,0.116796941,0.118869641,0.119918108,0.122158709,0.125202126,0.128039467,0.128417789,0.129452534,0.134097292,0.134798277,0.135299299,0.135943858,0.136723146,0.138698717,0.138743495,0.139230717,0.143168452,0.14971722,0.14989065,0.15071112,0.150764737,0.153878137,0.155967626,0.156020621,0.156872548,0.159126961,0.160446304,0.17166366,0.171758723,0.173300847,0.174308426,0.177381829,0.179838083,0.180655916,0.187718993,0.189278911,0.193379593,0.195622617,0.198225059,0.200012811,0.201914435,0.203532431,0.216912459,0.217742047,0.219362051,0.232556337,0.270220273,0.297418737],\"xaxis\":\"x\",\"y\":[8.789725939363796,8.825216782658037,8.830196060715233,8.83316780032483,8.840448089704328,8.852109058585716,8.87007624121856,8.883358962452036,8.891421353666443,8.894986804739485,8.899901006254723,8.90065084392367,8.908175481210712,8.915202403959107,8.947568423335373,8.947725244831645,8.956657264292236,8.960037661052414,8.963373953647059,8.975996690172746,8.978887013907269,8.985600480856787,8.98820931211143,8.988286516128948,8.996617182613104,8.99694225110495,8.998629207023273,9.004130414457308,9.00580663348161,9.010522857635328,9.01306599059761,9.01698019016164,9.01974464621017,9.029541126034577,9.044699280469185,9.045002500785657,9.051019928189625,9.060599490664497,9.062481850031388,9.068731397585017,9.07243815982175,9.077525769529439,9.081745181685415,9.08219232050597,9.097863953860356,9.101526645358998,9.115024933473396,9.115089762652293,9.11695653814623,9.119788216778424,9.121760743324417,9.127321177498253,9.142717475707375,9.143456756990481,9.14594119136653,9.183091626875967,9.186496639603629,9.189836428708592,9.192809645811076,9.193765757532375,9.195471559841879,9.198416463901916,9.207226058702927,9.214713076747971,9.216073239318494,9.216699783214398,9.219783063508814,9.244768678320064,9.249361227627913,9.258292946241536,9.260663078826147,9.27501131979501,9.279666752804694,9.30642312612862,9.313295132744875,9.32541271378357,9.32582350360488,9.35148957408873,9.369682585826856,9.378011928584352,9.382000771623925,9.395857782977679,9.402867296714849,9.41784680821976,9.438193536604574,9.457162546326902,9.459691813586696,9.46660958905504,9.497662063769873,9.502348490702767,9.50569806736243,9.510007258939195,9.515217179653163,9.528424836225337,9.528724199015127,9.531981515937884,9.558307196742183,9.602088907809435,9.603248372024748,9.608733614513007,9.609092070332833,9.629906669237052,9.643875923251883,9.64423022069806,9.649925768588044,9.664997620055717,9.673818072089535,9.748811573054983,9.74944711561798,9.759756967394356,9.766493124890761,9.787040324324186,9.803461581411899,9.808929194267822,9.856149312076202,9.866578125429278,9.893993186476285,9.908988896919059,9.926387492153045,9.938339487020462,9.95105277179808,9.96186986493376,10.051321883995627,10.056868084765123,10.067698602361073,10.155908845477134,10.407710644473134,10.589545654099531],\"yaxis\":\"y\",\"type\":\"scatter\"}],\"layout\":{\"template\":{\"data\":{\"histogram2dcontour\":[{\"type\":\"histogram2dcontour\",\"colorbar\":{\"outlinewidth\":0,\"ticks\":\"\"},\"colorscale\":[[0.0,\"#0d0887\"],[0.1111111111111111,\"#46039f\"],[0.2222222222222222,\"#7201a8\"],[0.3333333333333333,\"#9c179e\"],[0.4444444444444444,\"#bd3786\"],[0.5555555555555556,\"#d8576b\"],[0.6666666666666666,\"#ed7953\"],[0.7777777777777778,\"#fb9f3a\"],[0.8888888888888888,\"#fdca26\"],[1.0,\"#f0f921\"]]}],\"choropleth\":[{\"type\":\"choropleth\",\"colorbar\":{\"outlinewidth\":0,\"ticks\":\"\"}}],\"histogram2d\":[{\"type\":\"histogram2d\",\"colorbar\":{\"outlinewidth\":0,\"ticks\":\"\"},\"colorscale\":[[0.0,\"#0d0887\"],[0.1111111111111111,\"#46039f\"],[0.2222222222222222,\"#7201a8\"],[0.3333333333333333,\"#9c179e\"],[0.4444444444444444,\"#bd3786\"],[0.5555555555555556,\"#d8576b\"],[0.6666666666666666,\"#ed7953\"],[0.7777777777777778,\"#fb9f3a\"],[0.8888888888888888,\"#fdca26\"],[1.0,\"#f0f921\"]]}],\"heatmap\":[{\"type\":\"heatmap\",\"colorbar\":{\"outlinewidth\":0,\"ticks\":\"\"},\"colorscale\":[[0.0,\"#0d0887\"],[0.1111111111111111,\"#46039f\"],[0.2222222222222222,\"#7201a8\"],[0.3333333333333333,\"#9c179e\"],[0.4444444444444444,\"#bd3786\"],[0.5555555555555556,\"#d8576b\"],[0.6666666666666666,\"#ed7953\"],[0.7777777777777778,\"#fb9f3a\"],[0.8888888888888888,\"#fdca26\"],[1.0,\"#f0f921\"]]}],\"heatmapgl\":[{\"type\":\"heatmapgl\",\"colorbar\":{\"outlinewidth\":0,\"ticks\":\"\"},\"colorscale\":[[0.0,\"#0d0887\"],[0.1111111111111111,\"#46039f\"],[0.2222222222222222,\"#7201a8\"],[0.3333333333333333,\"#9c179e\"],[0.4444444444444444,\"#bd3786\"],[0.5555555555555556,\"#d8576b\"],[0.6666666666666666,\"#ed7953\"],[0.7777777777777778,\"#fb9f3a\"],[0.8888888888888888,\"#fdca26\"],[1.0,\"#f0f921\"]]}],\"contourcarpet\":[{\"type\":\"contourcarpet\",\"colorbar\":{\"outlinewidth\":0,\"ticks\":\"\"}}],\"contour\":[{\"type\":\"contour\",\"colorbar\":{\"outlinewidth\":0,\"ticks\":\"\"},\"colorscale\":[[0.0,\"#0d0887\"],[0.1111111111111111,\"#46039f\"],[0.2222222222222222,\"#7201a8\"],[0.3333333333333333,\"#9c179e\"],[0.4444444444444444,\"#bd3786\"],[0.5555555555555556,\"#d8576b\"],[0.6666666666666666,\"#ed7953\"],[0.7777777777777778,\"#fb9f3a\"],[0.8888888888888888,\"#fdca26\"],[1.0,\"#f0f921\"]]}],\"surface\":[{\"type\":\"surface\",\"colorbar\":{\"outlinewidth\":0,\"ticks\":\"\"},\"colorscale\":[[0.0,\"#0d0887\"],[0.1111111111111111,\"#46039f\"],[0.2222222222222222,\"#7201a8\"],[0.3333333333333333,\"#9c179e\"],[0.4444444444444444,\"#bd3786\"],[0.5555555555555556,\"#d8576b\"],[0.6666666666666666,\"#ed7953\"],[0.7777777777777778,\"#fb9f3a\"],[0.8888888888888888,\"#fdca26\"],[1.0,\"#f0f921\"]]}],\"mesh3d\":[{\"type\":\"mesh3d\",\"colorbar\":{\"outlinewidth\":0,\"ticks\":\"\"}}],\"scatter\":[{\"fillpattern\":{\"fillmode\":\"overlay\",\"size\":10,\"solidity\":0.2},\"type\":\"scatter\"}],\"parcoords\":[{\"type\":\"parcoords\",\"line\":{\"colorbar\":{\"outlinewidth\":0,\"ticks\":\"\"}}}],\"scatterpolargl\":[{\"type\":\"scatterpolargl\",\"marker\":{\"colorbar\":{\"outlinewidth\":0,\"ticks\":\"\"}}}],\"bar\":[{\"error_x\":{\"color\":\"#2a3f5f\"},\"error_y\":{\"color\":\"#2a3f5f\"},\"marker\":{\"line\":{\"color\":\"#E5ECF6\",\"width\":0.5},\"pattern\":{\"fillmode\":\"overlay\",\"size\":10,\"solidity\":0.2}},\"type\":\"bar\"}],\"scattergeo\":[{\"type\":\"scattergeo\",\"marker\":{\"colorbar\":{\"outlinewidth\":0,\"ticks\":\"\"}}}],\"scatterpolar\":[{\"type\":\"scatterpolar\",\"marker\":{\"colorbar\":{\"outlinewidth\":0,\"ticks\":\"\"}}}],\"histogram\":[{\"marker\":{\"pattern\":{\"fillmode\":\"overlay\",\"size\":10,\"solidity\":0.2}},\"type\":\"histogram\"}],\"scattergl\":[{\"type\":\"scattergl\",\"marker\":{\"colorbar\":{\"outlinewidth\":0,\"ticks\":\"\"}}}],\"scatter3d\":[{\"type\":\"scatter3d\",\"line\":{\"colorbar\":{\"outlinewidth\":0,\"ticks\":\"\"}},\"marker\":{\"colorbar\":{\"outlinewidth\":0,\"ticks\":\"\"}}}],\"scattermapbox\":[{\"type\":\"scattermapbox\",\"marker\":{\"colorbar\":{\"outlinewidth\":0,\"ticks\":\"\"}}}],\"scatterternary\":[{\"type\":\"scatterternary\",\"marker\":{\"colorbar\":{\"outlinewidth\":0,\"ticks\":\"\"}}}],\"scattercarpet\":[{\"type\":\"scattercarpet\",\"marker\":{\"colorbar\":{\"outlinewidth\":0,\"ticks\":\"\"}}}],\"carpet\":[{\"aaxis\":{\"endlinecolor\":\"#2a3f5f\",\"gridcolor\":\"white\",\"linecolor\":\"white\",\"minorgridcolor\":\"white\",\"startlinecolor\":\"#2a3f5f\"},\"baxis\":{\"endlinecolor\":\"#2a3f5f\",\"gridcolor\":\"white\",\"linecolor\":\"white\",\"minorgridcolor\":\"white\",\"startlinecolor\":\"#2a3f5f\"},\"type\":\"carpet\"}],\"table\":[{\"cells\":{\"fill\":{\"color\":\"#EBF0F8\"},\"line\":{\"color\":\"white\"}},\"header\":{\"fill\":{\"color\":\"#C8D4E3\"},\"line\":{\"color\":\"white\"}},\"type\":\"table\"}],\"barpolar\":[{\"marker\":{\"line\":{\"color\":\"#E5ECF6\",\"width\":0.5},\"pattern\":{\"fillmode\":\"overlay\",\"size\":10,\"solidity\":0.2}},\"type\":\"barpolar\"}],\"pie\":[{\"automargin\":true,\"type\":\"pie\"}]},\"layout\":{\"autotypenumbers\":\"strict\",\"colorway\":[\"#636efa\",\"#EF553B\",\"#00cc96\",\"#ab63fa\",\"#FFA15A\",\"#19d3f3\",\"#FF6692\",\"#B6E880\",\"#FF97FF\",\"#FECB52\"],\"font\":{\"color\":\"#2a3f5f\"},\"hovermode\":\"closest\",\"hoverlabel\":{\"align\":\"left\"},\"paper_bgcolor\":\"white\",\"plot_bgcolor\":\"#E5ECF6\",\"polar\":{\"bgcolor\":\"#E5ECF6\",\"angularaxis\":{\"gridcolor\":\"white\",\"linecolor\":\"white\",\"ticks\":\"\"},\"radialaxis\":{\"gridcolor\":\"white\",\"linecolor\":\"white\",\"ticks\":\"\"}},\"ternary\":{\"bgcolor\":\"#E5ECF6\",\"aaxis\":{\"gridcolor\":\"white\",\"linecolor\":\"white\",\"ticks\":\"\"},\"baxis\":{\"gridcolor\":\"white\",\"linecolor\":\"white\",\"ticks\":\"\"},\"caxis\":{\"gridcolor\":\"white\",\"linecolor\":\"white\",\"ticks\":\"\"}},\"coloraxis\":{\"colorbar\":{\"outlinewidth\":0,\"ticks\":\"\"}},\"colorscale\":{\"sequential\":[[0.0,\"#0d0887\"],[0.1111111111111111,\"#46039f\"],[0.2222222222222222,\"#7201a8\"],[0.3333333333333333,\"#9c179e\"],[0.4444444444444444,\"#bd3786\"],[0.5555555555555556,\"#d8576b\"],[0.6666666666666666,\"#ed7953\"],[0.7777777777777778,\"#fb9f3a\"],[0.8888888888888888,\"#fdca26\"],[1.0,\"#f0f921\"]],\"sequentialminus\":[[0.0,\"#0d0887\"],[0.1111111111111111,\"#46039f\"],[0.2222222222222222,\"#7201a8\"],[0.3333333333333333,\"#9c179e\"],[0.4444444444444444,\"#bd3786\"],[0.5555555555555556,\"#d8576b\"],[0.6666666666666666,\"#ed7953\"],[0.7777777777777778,\"#fb9f3a\"],[0.8888888888888888,\"#fdca26\"],[1.0,\"#f0f921\"]],\"diverging\":[[0,\"#8e0152\"],[0.1,\"#c51b7d\"],[0.2,\"#de77ae\"],[0.3,\"#f1b6da\"],[0.4,\"#fde0ef\"],[0.5,\"#f7f7f7\"],[0.6,\"#e6f5d0\"],[0.7,\"#b8e186\"],[0.8,\"#7fbc41\"],[0.9,\"#4d9221\"],[1,\"#276419\"]]},\"xaxis\":{\"gridcolor\":\"white\",\"linecolor\":\"white\",\"ticks\":\"\",\"title\":{\"standoff\":15},\"zerolinecolor\":\"white\",\"automargin\":true,\"zerolinewidth\":2},\"yaxis\":{\"gridcolor\":\"white\",\"linecolor\":\"white\",\"ticks\":\"\",\"title\":{\"standoff\":15},\"zerolinecolor\":\"white\",\"automargin\":true,\"zerolinewidth\":2},\"scene\":{\"xaxis\":{\"backgroundcolor\":\"#E5ECF6\",\"gridcolor\":\"white\",\"linecolor\":\"white\",\"showbackground\":true,\"ticks\":\"\",\"zerolinecolor\":\"white\",\"gridwidth\":2},\"yaxis\":{\"backgroundcolor\":\"#E5ECF6\",\"gridcolor\":\"white\",\"linecolor\":\"white\",\"showbackground\":true,\"ticks\":\"\",\"zerolinecolor\":\"white\",\"gridwidth\":2},\"zaxis\":{\"backgroundcolor\":\"#E5ECF6\",\"gridcolor\":\"white\",\"linecolor\":\"white\",\"showbackground\":true,\"ticks\":\"\",\"zerolinecolor\":\"white\",\"gridwidth\":2}},\"shapedefaults\":{\"line\":{\"color\":\"#2a3f5f\"}},\"annotationdefaults\":{\"arrowcolor\":\"#2a3f5f\",\"arrowhead\":0,\"arrowwidth\":1},\"geo\":{\"bgcolor\":\"white\",\"landcolor\":\"#E5ECF6\",\"subunitcolor\":\"white\",\"showland\":true,\"showlakes\":true,\"lakecolor\":\"white\"},\"title\":{\"x\":0.05},\"mapbox\":{\"style\":\"light\"}}},\"xaxis\":{\"anchor\":\"y\",\"domain\":[0.0,1.0],\"title\":{\"text\":\"Ischemic Heart Disease\"}},\"yaxis\":{\"anchor\":\"x\",\"domain\":[0.0,1.0],\"title\":{\"text\":\"Avg. Ed\"}},\"legend\":{\"tracegroupgap\":0},\"margin\":{\"t\":60},\"title\":{\"text\":\"Ischemic Heart Disease vs. Average Years of Education by Location\",\"x\":0.5,\"xanchor\":\"center\"}}}'"
      ]
     },
     "execution_count": 24,
     "metadata": {},
     "output_type": "execute_result"
    }
   ],
   "source": [
    "json_data = pio.to_json(fig_3)\n",
    "json_data"
   ]
  }
 ],
 "metadata": {
  "kernelspec": {
   "display_name": "dev",
   "language": "python",
   "name": "python3"
  },
  "language_info": {
   "codemirror_mode": {
    "name": "ipython",
    "version": 3
   },
   "file_extension": ".py",
   "mimetype": "text/x-python",
   "name": "python",
   "nbconvert_exporter": "python",
   "pygments_lexer": "ipython3",
   "version": "3.10.13"
  }
 },
 "nbformat": 4,
 "nbformat_minor": 2
}
