{
 "cells": [
  {
   "cell_type": "code",
   "execution_count": 1,
   "metadata": {},
   "outputs": [],
   "source": [
    "import matplotlib.pyplot as plt\n",
    "import plotly\n",
    "import plotly.express as px\n",
    "import plotly.graph_objects as go\n",
    "import pandas as pd\n",
    "import plotly.io as pio\n",
    "import numpy as np\n",
    "from scipy import stats\n",
    "import mplcursors\n"
   ]
  },
  {
   "cell_type": "code",
   "execution_count": 3,
   "id": "6c9f2f04",
   "metadata": {},
   "outputs": [],
   "source": [
    "other_school_data = pd.read_csv(\"Matt_CSV/mean-years-of-schooling-long-run.csv\")"
   ]
  },
  {
   "cell_type": "code",
   "execution_count": 4,
   "id": "8c197bd7",
   "metadata": {},
   "outputs": [],
   "source": [
    "other_school_data_df = pd.DataFrame(other_school_data)"
   ]
  },
  {
   "cell_type": "code",
   "execution_count": 5,
   "id": "61ec5840",
   "metadata": {},
   "outputs": [
    {
     "data": {
      "text/html": [
       "<div>\n",
       "<style scoped>\n",
       "    .dataframe tbody tr th:only-of-type {\n",
       "        vertical-align: middle;\n",
       "    }\n",
       "\n",
       "    .dataframe tbody tr th {\n",
       "        vertical-align: top;\n",
       "    }\n",
       "\n",
       "    .dataframe thead th {\n",
       "        text-align: right;\n",
       "    }\n",
       "</style>\n",
       "<table border=\"1\" class=\"dataframe\">\n",
       "  <thead>\n",
       "    <tr style=\"text-align: right;\">\n",
       "      <th></th>\n",
       "      <th>Entity</th>\n",
       "      <th>Code</th>\n",
       "      <th>Year</th>\n",
       "      <th>Combined - average years of education for 15-64 years male and female youth and adults</th>\n",
       "    </tr>\n",
       "  </thead>\n",
       "  <tbody>\n",
       "    <tr>\n",
       "      <th>0</th>\n",
       "      <td>Afghanistan</td>\n",
       "      <td>AFG</td>\n",
       "      <td>1870</td>\n",
       "      <td>0.01</td>\n",
       "    </tr>\n",
       "    <tr>\n",
       "      <th>1</th>\n",
       "      <td>Afghanistan</td>\n",
       "      <td>AFG</td>\n",
       "      <td>1875</td>\n",
       "      <td>0.01</td>\n",
       "    </tr>\n",
       "    <tr>\n",
       "      <th>2</th>\n",
       "      <td>Afghanistan</td>\n",
       "      <td>AFG</td>\n",
       "      <td>1880</td>\n",
       "      <td>0.01</td>\n",
       "    </tr>\n",
       "    <tr>\n",
       "      <th>3</th>\n",
       "      <td>Afghanistan</td>\n",
       "      <td>AFG</td>\n",
       "      <td>1885</td>\n",
       "      <td>0.01</td>\n",
       "    </tr>\n",
       "    <tr>\n",
       "      <th>4</th>\n",
       "      <td>Afghanistan</td>\n",
       "      <td>AFG</td>\n",
       "      <td>1890</td>\n",
       "      <td>0.01</td>\n",
       "    </tr>\n",
       "    <tr>\n",
       "      <th>...</th>\n",
       "      <td>...</td>\n",
       "      <td>...</td>\n",
       "      <td>...</td>\n",
       "      <td>...</td>\n",
       "    </tr>\n",
       "    <tr>\n",
       "      <th>3723</th>\n",
       "      <td>Zimbabwe</td>\n",
       "      <td>ZWE</td>\n",
       "      <td>2000</td>\n",
       "      <td>7.26</td>\n",
       "    </tr>\n",
       "    <tr>\n",
       "      <th>3724</th>\n",
       "      <td>Zimbabwe</td>\n",
       "      <td>ZWE</td>\n",
       "      <td>2005</td>\n",
       "      <td>7.65</td>\n",
       "    </tr>\n",
       "    <tr>\n",
       "      <th>3725</th>\n",
       "      <td>Zimbabwe</td>\n",
       "      <td>ZWE</td>\n",
       "      <td>2010</td>\n",
       "      <td>7.86</td>\n",
       "    </tr>\n",
       "    <tr>\n",
       "      <th>3726</th>\n",
       "      <td>Zimbabwe</td>\n",
       "      <td>ZWE</td>\n",
       "      <td>2015</td>\n",
       "      <td>8.03</td>\n",
       "    </tr>\n",
       "    <tr>\n",
       "      <th>3727</th>\n",
       "      <td>Zimbabwe</td>\n",
       "      <td>ZWE</td>\n",
       "      <td>2020</td>\n",
       "      <td>8.32</td>\n",
       "    </tr>\n",
       "  </tbody>\n",
       "</table>\n",
       "<p>3728 rows × 4 columns</p>\n",
       "</div>"
      ],
      "text/plain": [
       "           Entity Code  Year  \\\n",
       "0     Afghanistan  AFG  1870   \n",
       "1     Afghanistan  AFG  1875   \n",
       "2     Afghanistan  AFG  1880   \n",
       "3     Afghanistan  AFG  1885   \n",
       "4     Afghanistan  AFG  1890   \n",
       "...           ...  ...   ...   \n",
       "3723     Zimbabwe  ZWE  2000   \n",
       "3724     Zimbabwe  ZWE  2005   \n",
       "3725     Zimbabwe  ZWE  2010   \n",
       "3726     Zimbabwe  ZWE  2015   \n",
       "3727     Zimbabwe  ZWE  2020   \n",
       "\n",
       "      Combined - average years of education for 15-64 years male and female youth and adults  \n",
       "0                                                  0.01                                       \n",
       "1                                                  0.01                                       \n",
       "2                                                  0.01                                       \n",
       "3                                                  0.01                                       \n",
       "4                                                  0.01                                       \n",
       "...                                                 ...                                       \n",
       "3723                                               7.26                                       \n",
       "3724                                               7.65                                       \n",
       "3725                                               7.86                                       \n",
       "3726                                               8.03                                       \n",
       "3727                                               8.32                                       \n",
       "\n",
       "[3728 rows x 4 columns]"
      ]
     },
     "execution_count": 5,
     "metadata": {},
     "output_type": "execute_result"
    }
   ],
   "source": [
    "other_school_data_df"
   ]
  },
  {
   "cell_type": "code",
   "execution_count": null,
   "id": "2e183271",
   "metadata": {},
   "outputs": [],
   "source": []
  },
  {
   "cell_type": "code",
   "execution_count": 6,
   "id": "89dc26b4",
   "metadata": {},
   "outputs": [],
   "source": [
    "edu_2020_df = other_school_data[other_school_data_df[\"Year\"] == 2020]"
   ]
  },
  {
   "cell_type": "code",
   "execution_count": 7,
   "id": "2b4de197",
   "metadata": {},
   "outputs": [
    {
     "data": {
      "text/plain": [
       "153"
      ]
     },
     "execution_count": 7,
     "metadata": {},
     "output_type": "execute_result"
    }
   ],
   "source": [
    "len(edu_2020_df)"
   ]
  },
  {
   "cell_type": "code",
   "execution_count": 8,
   "id": "dfdfe48f",
   "metadata": {},
   "outputs": [
    {
     "data": {
      "text/html": [
       "<div>\n",
       "<style scoped>\n",
       "    .dataframe tbody tr th:only-of-type {\n",
       "        vertical-align: middle;\n",
       "    }\n",
       "\n",
       "    .dataframe tbody tr th {\n",
       "        vertical-align: top;\n",
       "    }\n",
       "\n",
       "    .dataframe thead th {\n",
       "        text-align: right;\n",
       "    }\n",
       "</style>\n",
       "<table border=\"1\" class=\"dataframe\">\n",
       "  <thead>\n",
       "    <tr style=\"text-align: right;\">\n",
       "      <th></th>\n",
       "      <th>Entity</th>\n",
       "      <th>Code</th>\n",
       "      <th>Year</th>\n",
       "      <th>Combined - average years of education for 15-64 years male and female youth and adults</th>\n",
       "    </tr>\n",
       "  </thead>\n",
       "  <tbody>\n",
       "    <tr>\n",
       "      <th>30</th>\n",
       "      <td>Afghanistan</td>\n",
       "      <td>AFG</td>\n",
       "      <td>2020</td>\n",
       "      <td>5.690000</td>\n",
       "    </tr>\n",
       "    <tr>\n",
       "      <th>61</th>\n",
       "      <td>Africa</td>\n",
       "      <td>NaN</td>\n",
       "      <td>2020</td>\n",
       "      <td>6.681866</td>\n",
       "    </tr>\n",
       "    <tr>\n",
       "      <th>92</th>\n",
       "      <td>Albania</td>\n",
       "      <td>ALB</td>\n",
       "      <td>2020</td>\n",
       "      <td>10.320000</td>\n",
       "    </tr>\n",
       "    <tr>\n",
       "      <th>123</th>\n",
       "      <td>Algeria</td>\n",
       "      <td>DZA</td>\n",
       "      <td>2020</td>\n",
       "      <td>8.180000</td>\n",
       "    </tr>\n",
       "    <tr>\n",
       "      <th>154</th>\n",
       "      <td>Argentina</td>\n",
       "      <td>ARG</td>\n",
       "      <td>2020</td>\n",
       "      <td>9.860000</td>\n",
       "    </tr>\n",
       "  </tbody>\n",
       "</table>\n",
       "</div>"
      ],
      "text/plain": [
       "          Entity Code  Year  \\\n",
       "30   Afghanistan  AFG  2020   \n",
       "61        Africa  NaN  2020   \n",
       "92       Albania  ALB  2020   \n",
       "123      Algeria  DZA  2020   \n",
       "154    Argentina  ARG  2020   \n",
       "\n",
       "     Combined - average years of education for 15-64 years male and female youth and adults  \n",
       "30                                            5.690000                                       \n",
       "61                                            6.681866                                       \n",
       "92                                           10.320000                                       \n",
       "123                                           8.180000                                       \n",
       "154                                           9.860000                                       "
      ]
     },
     "execution_count": 8,
     "metadata": {},
     "output_type": "execute_result"
    }
   ],
   "source": [
    "edu_2020_df.head()"
   ]
  },
  {
   "cell_type": "code",
   "execution_count": 9,
   "id": "0f68957c",
   "metadata": {},
   "outputs": [],
   "source": [
    "edu_2020_df = edu_2020_df.rename(columns={\"Combined - average years of education for 15-64 years male and female youth and adults\": \"Avg Ed. (Years)\"})"
   ]
  },
  {
   "cell_type": "code",
   "execution_count": 10,
   "id": "55690a3b",
   "metadata": {},
   "outputs": [
    {
     "data": {
      "text/html": [
       "<div>\n",
       "<style scoped>\n",
       "    .dataframe tbody tr th:only-of-type {\n",
       "        vertical-align: middle;\n",
       "    }\n",
       "\n",
       "    .dataframe tbody tr th {\n",
       "        vertical-align: top;\n",
       "    }\n",
       "\n",
       "    .dataframe thead th {\n",
       "        text-align: right;\n",
       "    }\n",
       "</style>\n",
       "<table border=\"1\" class=\"dataframe\">\n",
       "  <thead>\n",
       "    <tr style=\"text-align: right;\">\n",
       "      <th></th>\n",
       "      <th>Entity</th>\n",
       "      <th>Code</th>\n",
       "      <th>Year</th>\n",
       "      <th>Avg Ed. (Years)</th>\n",
       "    </tr>\n",
       "  </thead>\n",
       "  <tbody>\n",
       "    <tr>\n",
       "      <th>30</th>\n",
       "      <td>Afghanistan</td>\n",
       "      <td>AFG</td>\n",
       "      <td>2020</td>\n",
       "      <td>5.690000</td>\n",
       "    </tr>\n",
       "    <tr>\n",
       "      <th>61</th>\n",
       "      <td>Africa</td>\n",
       "      <td>NaN</td>\n",
       "      <td>2020</td>\n",
       "      <td>6.681866</td>\n",
       "    </tr>\n",
       "    <tr>\n",
       "      <th>92</th>\n",
       "      <td>Albania</td>\n",
       "      <td>ALB</td>\n",
       "      <td>2020</td>\n",
       "      <td>10.320000</td>\n",
       "    </tr>\n",
       "    <tr>\n",
       "      <th>123</th>\n",
       "      <td>Algeria</td>\n",
       "      <td>DZA</td>\n",
       "      <td>2020</td>\n",
       "      <td>8.180000</td>\n",
       "    </tr>\n",
       "    <tr>\n",
       "      <th>154</th>\n",
       "      <td>Argentina</td>\n",
       "      <td>ARG</td>\n",
       "      <td>2020</td>\n",
       "      <td>9.860000</td>\n",
       "    </tr>\n",
       "  </tbody>\n",
       "</table>\n",
       "</div>"
      ],
      "text/plain": [
       "          Entity Code  Year  Avg Ed. (Years)\n",
       "30   Afghanistan  AFG  2020         5.690000\n",
       "61        Africa  NaN  2020         6.681866\n",
       "92       Albania  ALB  2020        10.320000\n",
       "123      Algeria  DZA  2020         8.180000\n",
       "154    Argentina  ARG  2020         9.860000"
      ]
     },
     "execution_count": 10,
     "metadata": {},
     "output_type": "execute_result"
    }
   ],
   "source": [
    "edu_2020_df.head()"
   ]
  },
  {
   "cell_type": "code",
   "execution_count": null,
   "id": "c1d2d4e4",
   "metadata": {},
   "outputs": [],
   "source": []
  },
  {
   "cell_type": "code",
   "execution_count": 11,
   "id": "d9d70654",
   "metadata": {},
   "outputs": [],
   "source": [
    "edu_2020_df.to_csv('edu_2020_df.csv', index=False, header=True)"
   ]
  },
  {
   "cell_type": "code",
   "execution_count": 14,
   "id": "480a2e92",
   "metadata": {},
   "outputs": [
    {
     "data": {
      "text/html": [
       "<div>\n",
       "<style scoped>\n",
       "    .dataframe tbody tr th:only-of-type {\n",
       "        vertical-align: middle;\n",
       "    }\n",
       "\n",
       "    .dataframe tbody tr th {\n",
       "        vertical-align: top;\n",
       "    }\n",
       "\n",
       "    .dataframe thead th {\n",
       "        text-align: right;\n",
       "    }\n",
       "</style>\n",
       "<table border=\"1\" class=\"dataframe\">\n",
       "  <thead>\n",
       "    <tr style=\"text-align: right;\">\n",
       "      <th></th>\n",
       "      <th>Country name</th>\n",
       "      <th>Regional indicator</th>\n",
       "      <th>Ladder score</th>\n",
       "      <th>Standard error of ladder score</th>\n",
       "      <th>upperwhisker</th>\n",
       "      <th>lowerwhisker</th>\n",
       "      <th>Logged GDP per capita</th>\n",
       "      <th>Social support</th>\n",
       "      <th>Healthy life expectancy</th>\n",
       "      <th>Freedom to make life choices</th>\n",
       "      <th>Generosity</th>\n",
       "      <th>Perceptions of corruption</th>\n",
       "      <th>Ladder score in Dystopia</th>\n",
       "      <th>Explained by: Log GDP per capita</th>\n",
       "      <th>Explained by: Social support</th>\n",
       "      <th>Explained by: Healthy life expectancy</th>\n",
       "      <th>Explained by: Freedom to make life choices</th>\n",
       "      <th>Explained by: Generosity</th>\n",
       "      <th>Explained by: Perceptions of corruption</th>\n",
       "      <th>Dystopia + residual</th>\n",
       "    </tr>\n",
       "  </thead>\n",
       "  <tbody>\n",
       "    <tr>\n",
       "      <th>0</th>\n",
       "      <td>Finland</td>\n",
       "      <td>Western Europe</td>\n",
       "      <td>7.8087</td>\n",
       "      <td>0.031156</td>\n",
       "      <td>7.869766</td>\n",
       "      <td>7.747634</td>\n",
       "      <td>10.639267</td>\n",
       "      <td>0.954330</td>\n",
       "      <td>71.900825</td>\n",
       "      <td>0.949172</td>\n",
       "      <td>-0.059482</td>\n",
       "      <td>0.195445</td>\n",
       "      <td>1.972317</td>\n",
       "      <td>1.285190</td>\n",
       "      <td>1.499526</td>\n",
       "      <td>0.961271</td>\n",
       "      <td>0.662317</td>\n",
       "      <td>0.159670</td>\n",
       "      <td>0.477857</td>\n",
       "      <td>2.762835</td>\n",
       "    </tr>\n",
       "    <tr>\n",
       "      <th>1</th>\n",
       "      <td>Denmark</td>\n",
       "      <td>Western Europe</td>\n",
       "      <td>7.6456</td>\n",
       "      <td>0.033492</td>\n",
       "      <td>7.711245</td>\n",
       "      <td>7.579955</td>\n",
       "      <td>10.774001</td>\n",
       "      <td>0.955991</td>\n",
       "      <td>72.402504</td>\n",
       "      <td>0.951444</td>\n",
       "      <td>0.066202</td>\n",
       "      <td>0.168489</td>\n",
       "      <td>1.972317</td>\n",
       "      <td>1.326949</td>\n",
       "      <td>1.503449</td>\n",
       "      <td>0.979333</td>\n",
       "      <td>0.665040</td>\n",
       "      <td>0.242793</td>\n",
       "      <td>0.495260</td>\n",
       "      <td>2.432741</td>\n",
       "    </tr>\n",
       "    <tr>\n",
       "      <th>2</th>\n",
       "      <td>Switzerland</td>\n",
       "      <td>Western Europe</td>\n",
       "      <td>7.5599</td>\n",
       "      <td>0.035014</td>\n",
       "      <td>7.628528</td>\n",
       "      <td>7.491272</td>\n",
       "      <td>10.979933</td>\n",
       "      <td>0.942847</td>\n",
       "      <td>74.102448</td>\n",
       "      <td>0.921337</td>\n",
       "      <td>0.105911</td>\n",
       "      <td>0.303728</td>\n",
       "      <td>1.972317</td>\n",
       "      <td>1.390774</td>\n",
       "      <td>1.472403</td>\n",
       "      <td>1.040533</td>\n",
       "      <td>0.628954</td>\n",
       "      <td>0.269056</td>\n",
       "      <td>0.407946</td>\n",
       "      <td>2.350267</td>\n",
       "    </tr>\n",
       "    <tr>\n",
       "      <th>3</th>\n",
       "      <td>Iceland</td>\n",
       "      <td>Western Europe</td>\n",
       "      <td>7.5045</td>\n",
       "      <td>0.059616</td>\n",
       "      <td>7.621347</td>\n",
       "      <td>7.387653</td>\n",
       "      <td>10.772559</td>\n",
       "      <td>0.974670</td>\n",
       "      <td>73.000000</td>\n",
       "      <td>0.948892</td>\n",
       "      <td>0.246944</td>\n",
       "      <td>0.711710</td>\n",
       "      <td>1.972317</td>\n",
       "      <td>1.326502</td>\n",
       "      <td>1.547567</td>\n",
       "      <td>1.000843</td>\n",
       "      <td>0.661981</td>\n",
       "      <td>0.362330</td>\n",
       "      <td>0.144541</td>\n",
       "      <td>2.460688</td>\n",
       "    </tr>\n",
       "    <tr>\n",
       "      <th>4</th>\n",
       "      <td>Norway</td>\n",
       "      <td>Western Europe</td>\n",
       "      <td>7.4880</td>\n",
       "      <td>0.034837</td>\n",
       "      <td>7.556281</td>\n",
       "      <td>7.419719</td>\n",
       "      <td>11.087804</td>\n",
       "      <td>0.952487</td>\n",
       "      <td>73.200783</td>\n",
       "      <td>0.955750</td>\n",
       "      <td>0.134533</td>\n",
       "      <td>0.263218</td>\n",
       "      <td>1.972317</td>\n",
       "      <td>1.424207</td>\n",
       "      <td>1.495173</td>\n",
       "      <td>1.008072</td>\n",
       "      <td>0.670201</td>\n",
       "      <td>0.287985</td>\n",
       "      <td>0.434101</td>\n",
       "      <td>2.168266</td>\n",
       "    </tr>\n",
       "  </tbody>\n",
       "</table>\n",
       "</div>"
      ],
      "text/plain": [
       "  Country name Regional indicator  Ladder score  \\\n",
       "0      Finland     Western Europe        7.8087   \n",
       "1      Denmark     Western Europe        7.6456   \n",
       "2  Switzerland     Western Europe        7.5599   \n",
       "3      Iceland     Western Europe        7.5045   \n",
       "4       Norway     Western Europe        7.4880   \n",
       "\n",
       "   Standard error of ladder score  upperwhisker  lowerwhisker  \\\n",
       "0                        0.031156      7.869766      7.747634   \n",
       "1                        0.033492      7.711245      7.579955   \n",
       "2                        0.035014      7.628528      7.491272   \n",
       "3                        0.059616      7.621347      7.387653   \n",
       "4                        0.034837      7.556281      7.419719   \n",
       "\n",
       "   Logged GDP per capita  Social support  Healthy life expectancy  \\\n",
       "0              10.639267        0.954330                71.900825   \n",
       "1              10.774001        0.955991                72.402504   \n",
       "2              10.979933        0.942847                74.102448   \n",
       "3              10.772559        0.974670                73.000000   \n",
       "4              11.087804        0.952487                73.200783   \n",
       "\n",
       "   Freedom to make life choices  Generosity  Perceptions of corruption  \\\n",
       "0                      0.949172   -0.059482                   0.195445   \n",
       "1                      0.951444    0.066202                   0.168489   \n",
       "2                      0.921337    0.105911                   0.303728   \n",
       "3                      0.948892    0.246944                   0.711710   \n",
       "4                      0.955750    0.134533                   0.263218   \n",
       "\n",
       "   Ladder score in Dystopia  Explained by: Log GDP per capita  \\\n",
       "0                  1.972317                          1.285190   \n",
       "1                  1.972317                          1.326949   \n",
       "2                  1.972317                          1.390774   \n",
       "3                  1.972317                          1.326502   \n",
       "4                  1.972317                          1.424207   \n",
       "\n",
       "   Explained by: Social support  Explained by: Healthy life expectancy  \\\n",
       "0                      1.499526                               0.961271   \n",
       "1                      1.503449                               0.979333   \n",
       "2                      1.472403                               1.040533   \n",
       "3                      1.547567                               1.000843   \n",
       "4                      1.495173                               1.008072   \n",
       "\n",
       "   Explained by: Freedom to make life choices  Explained by: Generosity  \\\n",
       "0                                    0.662317                  0.159670   \n",
       "1                                    0.665040                  0.242793   \n",
       "2                                    0.628954                  0.269056   \n",
       "3                                    0.661981                  0.362330   \n",
       "4                                    0.670201                  0.287985   \n",
       "\n",
       "   Explained by: Perceptions of corruption  Dystopia + residual  \n",
       "0                                 0.477857             2.762835  \n",
       "1                                 0.495260             2.432741  \n",
       "2                                 0.407946             2.350267  \n",
       "3                                 0.144541             2.460688  \n",
       "4                                 0.434101             2.168266  "
      ]
     },
     "execution_count": 14,
     "metadata": {},
     "output_type": "execute_result"
    }
   ],
   "source": [
    "happiness = pd.read_csv(\"Matt_CSV/WHR20_Data.csv\")\n",
    "happy_df = pd.DataFrame(happiness)\n",
    "happy_df.head()"
   ]
  },
  {
   "cell_type": "markdown",
   "id": "135b9f2c",
   "metadata": {},
   "source": []
  },
  {
   "cell_type": "code",
   "execution_count": 15,
   "id": "36842f39",
   "metadata": {},
   "outputs": [],
   "source": [
    "happy_condensed_df = happy_df[[\"Country name\", \"Logged GDP per capita\", \"Social support\", \"Healthy life expectancy\", \"Freedom to make life choices\"]]"
   ]
  },
  {
   "cell_type": "code",
   "execution_count": 16,
   "id": "425d1363",
   "metadata": {},
   "outputs": [],
   "source": [
    "happy_condensed_df\n",
    "# happy_condensed_df.to_csv(\"happiness_condensed.csv\")"
   ]
  },
  {
   "cell_type": "code",
   "execution_count": 17,
   "id": "37d07e62",
   "metadata": {},
   "outputs": [],
   "source": [
    "edu_2020_df = edu_2020_df.rename(columns={\"Entity\": \"Country name\"})\n"
   ]
  },
  {
   "cell_type": "code",
   "execution_count": 18,
   "id": "8ef703a3",
   "metadata": {},
   "outputs": [],
   "source": [
    "happiness_edu_df = pd.merge(edu_2020_df, happy_condensed_df, how=\"left\", on='Country name')"
   ]
  },
  {
   "cell_type": "code",
   "execution_count": 19,
   "id": "6bef18ff",
   "metadata": {},
   "outputs": [],
   "source": [
    "happiness_edu_df = happiness_edu_df.dropna()"
   ]
  },
  {
   "cell_type": "code",
   "execution_count": 20,
   "id": "4b75512b",
   "metadata": {},
   "outputs": [
    {
     "data": {
      "image/png": "[encoded data removed]",
      "text/plain": [
       "<Figure size 640x480 with 1 Axes>"
      ]
     },
     "metadata": {},
     "output_type": "display_data"
    }
   ],
   "source": [
    "life = happiness_edu_df[\"Healthy life expectancy\"]\n",
    "years = happiness_edu_df[\"Avg Ed. (Years)\"]\n",
    "country = happiness_edu_df[\"Country name\"]\n",
    "plt.scatter(life, years, label=country)\n",
    "plt.xlabel(\"Life Expectancy (Years)\")\n",
    "plt.ylabel(\"Years of Education\")\n",
    "plt.title(\"Global Life Expectancy and Average Education Level\")\n",
    "plt.show()"
   ]
  },
  {
   "cell_type": "code",
   "execution_count": 21,
   "id": "043e33cc",
   "metadata": {},
   "outputs": [],
   "source": [
    "import seaborn as sns\n",
    "import mplcursors"
   ]
  },
  {
   "cell_type": "code",
   "execution_count": 22,
   "id": "095a8b81",
   "metadata": {},
   "outputs": [],
   "source": [
    "%matplotlib inline\n",
    "%matplotlib widget\n",
    "# !pip install ipympl"
   ]
  },
  {
   "cell_type": "code",
   "execution_count": 23,
   "id": "ddeb9206",
   "metadata": {},
   "outputs": [
    {
     "data": {
      "application/vnd.jupyter.widget-view+json": {
       "model_id": "0b6ca65fe45940918e82e83ae912f695",
       "version_major": 2,
       "version_minor": 0
      },
      "image/png": "[encoded data removed]",
      "text/html": [
       "\n",
       "            <div style=\"display: inline-block;\">\n",
       "                <div class=\"jupyter-widgets widget-label\" style=\"text-align: center;\">\n",
       "                    Figure\n",
       "                </div>\n",
       "                <img src='data:image/png;base64,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' width=640.0/>\n",
       "            </div>\n",
       "        "
      ],
      "text/plain": [
       "Canvas(toolbar=Toolbar(toolitems=[('Home', 'Reset original view', 'home', 'home'), ('Back', 'Back to previous …"
      ]
     },
     "metadata": {},
     "output_type": "display_data"
    }
   ],
   "source": [
    "sns.scatterplot(data=happiness_edu_df, x=\"Healthy life expectancy\", y=\"Avg Ed. (Years)\")\n",
    "\n",
    "cursor = mplcursors.cursor(hover=True)\n",
    "cursor.connect(\"add\", lambda sel: sel.annotation.set_text(\n",
    "    f'Life Expectancy: {sel.target[0]:.2f}\\nAverage Years of Education: {sel.target[1]:.2f}'\n",
    "))\n",
    "\n",
    "\n",
    "plt.show()"
   ]
  },
  {
   "cell_type": "code",
   "execution_count": 24,
   "id": "3edeea32",
   "metadata": {},
   "outputs": [
    {
     "data": {
      "application/vnd.jupyter.widget-view+json": {
       "model_id": "0b6ca65fe45940918e82e83ae912f695",
       "version_major": 2,
       "version_minor": 0
      },
      "image/png": "[encoded data removed]",
      "text/html": [
       "\n",
       "            <div style=\"display: inline-block;\">\n",
       "                <div class=\"jupyter-widgets widget-label\" style=\"text-align: center;\">\n",
       "                    Figure 1\n",
       "                </div>\n",
       "                <img src='data:image/png;base64,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' width=640.0/>\n",
       "            </div>\n",
       "        "
      ],
      "text/plain": [
       "Canvas(toolbar=Toolbar(toolitems=[('Home', 'Reset original view', 'home', 'home'), ('Back', 'Back to previous …"
      ]
     },
     "metadata": {},
     "output_type": "display_data"
    }
   ],
   "source": [
    "sns.scatterplot(data=happiness_edu_df, x=\"Healthy life expectancy\", y=\"Avg Ed. (Years)\")\n",
    "\n",
    "mplcursors.cursor()\n",
    "\n",
    "plt.show()"
   ]
  },
  {
   "cell_type": "code",
   "execution_count": 25,
   "id": "5f635bfb",
   "metadata": {},
   "outputs": [
    {
     "data": {
      "application/vnd.plotly.v1+json": {
       "config": {
        "plotlyServerURL": "https://plot.ly"
       },
       "data": [
        {
         "hovertemplate": "<b>%{hovertext}</b><br><br>Healthy life expectancy=%{x}<br>Avg Ed. (Years)=%{y}<extra></extra>",
         "hovertext": [
          "Afghanistan",
          "Albania",
          "Algeria",
          "Argentina",
          "Armenia",
          "Australia",
          "Austria",
          "Bahrain",
          "Bangladesh",
          "Belgium",
          "Benin",
          "Bolivia",
          "Botswana",
          "Brazil",
          "Bulgaria",
          "Burundi",
          "Cambodia",
          "Cameroon",
          "Canada",
          "Central African Republic",
          "Chile",
          "China",
          "Colombia",
          "Costa Rica",
          "Croatia",
          "Cyprus",
          "Denmark",
          "Dominican Republic",
          "Ecuador",
          "Egypt",
          "El Salvador",
          "Estonia",
          "Finland",
          "France",
          "Gabon",
          "Gambia",
          "Germany",
          "Ghana",
          "Greece",
          "Guatemala",
          "Haiti",
          "Honduras",
          "Hungary",
          "Iceland",
          "India",
          "Indonesia",
          "Iran",
          "Iraq",
          "Ireland",
          "Israel",
          "Italy",
          "Jamaica",
          "Japan",
          "Jordan",
          "Kazakhstan",
          "Kenya",
          "Kuwait",
          "Kyrgyzstan",
          "Laos",
          "Latvia",
          "Lesotho",
          "Liberia",
          "Libya",
          "Lithuania",
          "Luxembourg",
          "Malawi",
          "Malaysia",
          "Maldives",
          "Mali",
          "Malta",
          "Mauritania",
          "Mauritius",
          "Mexico",
          "Moldova",
          "Mongolia",
          "Morocco",
          "Mozambique",
          "Myanmar",
          "Namibia",
          "Nepal",
          "Netherlands",
          "New Zealand",
          "Nicaragua",
          "Niger",
          "Norway",
          "Pakistan",
          "Panama",
          "Paraguay",
          "Peru",
          "Philippines",
          "Poland",
          "Portugal",
          "Romania",
          "Russia",
          "Rwanda",
          "Saudi Arabia",
          "Senegal",
          "Serbia",
          "Sierra Leone",
          "Singapore",
          "Slovakia",
          "Slovenia",
          "South Africa",
          "South Korea",
          "Spain",
          "Sri Lanka",
          "Sweden",
          "Switzerland",
          "Tajikistan",
          "Tanzania",
          "Thailand",
          "Togo",
          "Trinidad and Tobago",
          "Tunisia",
          "Turkey",
          "Uganda",
          "Ukraine",
          "United Arab Emirates",
          "United Kingdom",
          "United States",
          "Uruguay",
          "Venezuela",
          "Vietnam",
          "Yemen",
          "Zambia",
          "Zimbabwe"
         ],
         "legendgroup": "",
         "marker": {
          "color": "#636efa",
          "symbol": "circle"
         },
         "mode": "markers",
         "name": "",
         "orientation": "v",
         "showlegend": false,
         "type": "scatter",
         "x": [
          52.59000015,
          68.70813751,
          65.90517426,
          68.80380249,
          66.75065613,
          73.60453796,
          73.00250244,
          68.5,
          64.50306702,
          72.00164795,
          54.31246567,
          63.6004715,
          58.92445374,
          66.48016357,
          66.80397797,
          53.40000153,
          61.52996826,
          52.7049408,
          73.60160065,
          45.20000076,
          69.90061951,
          69.2891922,
          67.69958496,
          71.29985046,
          70.21490479,
          73.70222473,
          72.40250397,
          65.80748749,
          68.50003815,
          61.78015137,
          66.10826111,
          68.60495758,
          71.9008255,
          73.80193329,
          59.71533966,
          55.0120163,
          72.20201874,
          57.20398712,
          72.40525818,
          64.8089447,
          55.59862518,
          67.19876862,
          67.60997009,
          73,
          60.21518707,
          62.15584946,
          66.00614929,
          59.90354919,
          72.30078888,
          73.20025635,
          73.60168457,
          67.09999847,
          75.00096893,
          66.79975128,
          64.60996246,
          60.09693146,
          66.76764679,
          64.10601044,
          58.70992279,
          66.8074646,
          48.00362396,
          56.09631348,
          62.29999924,
          67.29407501,
          72.59999847,
          57.59288788,
          67.10215759,
          70.59999847,
          51.72698212,
          72.19999695,
          57.01017761,
          66.40434265,
          68.29902649,
          65.01301575,
          62.30448532,
          65.89624023,
          54.20582199,
          58.96171188,
          56.50148773,
          63.77917862,
          72.30091858,
          73.20262909,
          67.50717926,
          53.50009537,
          73.20078278,
          58.25313568,
          69.60301208,
          65.63993835,
          68.10023499,
          61.92676163,
          69.31113434,
          72.40202332,
          67.20723724,
          64.10045624,
          61.09884644,
          66.30514526,
          59.59915161,
          68.21020508,
          50.86514282,
          76.80458069,
          68.90634155,
          71.1029892,
          56.50601196,
          73.6027298,
          74.40270996,
          67.20006561,
          72.60076904,
          74.10244751,
          64.10459137,
          57.49607468,
          67.25059509,
          54.71989822,
          63.5,
          66.89785767,
          66.90281677,
          55.70820236,
          64.60678101,
          67.08278656,
          72.30160522,
          68.29949951,
          69.00254822,
          66.50534058,
          67.9527359,
          56.72728348,
          55.29937744,
          55.61725998
         ],
         "xaxis": "x",
         "y": [
          5.69,
          10.32,
          8.18,
          9.86,
          10.54,
          12.93,
          10.39,
          8.21,
          7.23,
          11.57,
          6.27,
          9.06,
          10.58,
          8,
          10.75,
          5.05,
          5.81,
          7.37,
          12.93,
          4.64,
          10.74,
          8.99,
          10.2,
          9.12,
          12.03,
          12.42,
          11.69,
          9.04,
          9.07,
          8.01,
          8.1,
          12.29,
          11.05,
          11.89,
          10.18,
          4.92,
          13.1,
          8.39,
          11.86,
          6.26,
          5.95,
          7.51,
          11.96,
          13.53,
          7.8,
          9.06,
          9.8,
          8.27,
          13.74,
          12.04,
          11.51,
          10.1,
          12.83,
          10.81,
          11.79,
          6.73,
          6.62,
          11.18,
          6.05,
          11.96,
          6.88,
          5.8,
          9.57,
          12.5,
          11.53,
          5.41,
          11.96,
          8.06,
          3.55,
          12.09,
          5.55,
          10.4,
          10.18,
          10.84,
          10,
          6.83,
          4.22,
          6.48,
          6.88,
          6.19,
          11.82,
          10.81,
          7.76,
          3.04,
          12.08,
          6.41,
          10.44,
          8.83,
          9.96,
          9.44,
          12.01,
          9.56,
          11.28,
          11.6,
          5.24,
          9.86,
          4.4,
          11.72,
          4.99,
          13.06,
          13.14,
          12.06,
          10.47,
          13.68,
          11.51,
          10.33,
          11.93,
          12.97,
          10.12,
          6.87,
          9.32,
          7.68,
          11.28,
          9.29,
          8.49,
          6.69,
          10.82,
          9.57,
          12.9,
          13.32,
          8.76,
          9.33,
          8.35,
          5.56,
          8.37,
          8.32
         ],
         "yaxis": "y"
        },
        {
         "hovertemplate": "<b>OLS trendline</b><br>Avg Ed. (Years) = 0.305135 * Healthy life expectancy + -10.4719<br>R<sup>2</sup>=0.628795<br><br>Healthy life expectancy=%{x}<br>Avg Ed. (Years)=%{y} <b>(trend)</b><extra></extra>",
         "legendgroup": "",
         "marker": {
          "color": "#636efa",
          "symbol": "circle"
         },
         "mode": "lines",
         "name": "",
         "showlegend": false,
         "type": "scatter",
         "x": [
          45.20000076,
          48.00362396,
          50.86514282,
          51.72698212,
          52.59000015,
          52.7049408,
          53.40000153,
          53.50009537,
          54.20582199,
          54.31246567,
          54.71989822,
          55.0120163,
          55.29937744,
          55.59862518,
          55.61725998,
          55.70820236,
          56.09631348,
          56.50148773,
          56.50601196,
          56.72728348,
          57.01017761,
          57.20398712,
          57.49607468,
          57.59288788,
          58.25313568,
          58.70992279,
          58.92445374,
          58.96171188,
          59.59915161,
          59.71533966,
          59.90354919,
          60.09693146,
          60.21518707,
          61.09884644,
          61.52996826,
          61.78015137,
          61.92676163,
          62.15584946,
          62.29999924,
          62.30448532,
          63.5,
          63.6004715,
          63.77917862,
          64.10045624,
          64.10459137,
          64.10601044,
          64.50306702,
          64.60678101,
          64.60996246,
          64.8089447,
          65.01301575,
          65.63993835,
          65.80748749,
          65.89624023,
          65.90517426,
          66.00614929,
          66.10826111,
          66.30514526,
          66.40434265,
          66.48016357,
          66.50534058,
          66.75065613,
          66.76764679,
          66.79975128,
          66.80397797,
          66.8074646,
          66.89785767,
          66.90281677,
          67.08278656,
          67.09999847,
          67.10215759,
          67.19876862,
          67.20006561,
          67.20723724,
          67.25059509,
          67.29407501,
          67.50717926,
          67.60997009,
          67.69958496,
          67.9527359,
          68.10023499,
          68.21020508,
          68.29902649,
          68.29949951,
          68.5,
          68.50003815,
          68.60495758,
          68.70813751,
          68.80380249,
          68.90634155,
          69.00254822,
          69.2891922,
          69.31113434,
          69.60301208,
          69.90061951,
          70.21490479,
          70.59999847,
          71.1029892,
          71.29985046,
          71.9008255,
          72.00164795,
          72.19999695,
          72.20201874,
          72.30078888,
          72.30091858,
          72.30160522,
          72.40202332,
          72.40250397,
          72.40525818,
          72.59999847,
          72.60076904,
          73,
          73.00250244,
          73.20025635,
          73.20078278,
          73.20262909,
          73.60160065,
          73.60168457,
          73.6027298,
          73.60453796,
          73.70222473,
          73.80193329,
          74.10244751,
          74.40270996,
          75.00096893,
          76.80458069
         ],
         "xaxis": "x",
         "y": [
          3.3202232627608836,
          4.175706260048193,
          5.048855237823441,
          5.311832398072363,
          5.575169229861096,
          5.610241621818815,
          5.822328836890048,
          5.852870950485482,
          6.068212699741604,
          6.100753397438837,
          6.225075246061863,
          6.3142106372371885,
          6.401894520489083,
          6.493205419024466,
          6.498891544948183,
          6.52664122965005,
          6.645067437643384,
          6.768700200353308,
          6.770080700358022,
          6.83759834079698,
          6.923919183857269,
          6.983057209437021,
          7.072183287898326,
          7.101724364071821,
          7.303188942798503,
          7.442570585090877,
          7.508031443068116,
          7.51940019807077,
          7.713905240977539,
          7.749358258081607,
          7.806787534898277,
          7.865795194687163,
          7.901879096293069,
          8.171514319182016,
          8.303064588408478,
          8.379404161006342,
          8.424140052997064,
          8.494042721604757,
          8.538027835529018,
          8.539396694641212,
          8.904189824383959,
          8.934847175187002,
          8.989376936052938,
          9.087409917560198,
          9.088671689615222,
          9.089104697252257,
          9.210260476370877,
          9.24190722370334,
          9.242877994804719,
          9.303594400305336,
          9.365863578814619,
          9.557159479388975,
          9.60828455228754,
          9.635366101631497,
          9.63809218506605,
          9.66890318039366,
          9.700061049907678,
          9.760137255141093,
          9.790405830647344,
          9.813541431714807,
          9.821223813561812,
          9.89607812422495,
          9.901262565822773,
          9.91105876287649,
          9.912348473073571,
          9.91341236521244,
          9.94099443631871,
          9.942507630292798,
          9.997422675713441,
          10.0026746283852,
          10.003333451029093,
          10.032812838100583,
          10.03320859488154,
          10.035396908749053,
          10.048626897527122,
          10.061894134109917,
          10.126919656271617,
          10.15828471536446,
          10.185629330571345,
          10.262874491375158,
          10.307881596327906,
          10.341437297466758,
          10.368539800417256,
          10.368684135279153,
          10.429863811686015,
          10.429875452578536,
          10.46189002160125,
          10.493373808643778,
          10.522564522940133,
          10.55385275824501,
          10.583208761009804,
          10.670673813790351,
          10.677369124235096,
          10.766431179313201,
          10.857241562188964,
          10.953140937446555,
          11.070646419496637,
          11.224126394019649,
          11.284195614717554,
          11.467574011826713,
          11.49833844968693,
          11.558861631628403,
          11.559478550110558,
          11.589616756774596,
          11.589656332757826,
          11.589865850515157,
          11.620506907120014,
          11.620653570160414,
          11.62149397547093,
          11.680916014417459,
          11.68115114213834,
          11.802970400257863,
          11.803733981780422,
          11.864075581055275,
          11.864236213166702,
          11.8647995865946,
          11.986539692747662,
          11.986565299659869,
          11.98688423570422,
          11.987435968239595,
          12.017243601018105,
          12.047668152278774,
          12.139365497932449,
          12.230986019798163,
          12.41353564943799,
          12.963880358522804
         ],
         "yaxis": "y"
        }
       ],
       "layout": {
        "legend": {
         "tracegroupgap": 0
        },
        "margin": {
         "t": 60
        },
        "template": {
         "data": {
          "bar": [
           {
            "error_x": {
             "color": "#2a3f5f"
            },
            "error_y": {
             "color": "#2a3f5f"
            },
            "marker": {
             "line": {
              "color": "#E5ECF6",
              "width": 0.5
             },
             "pattern": {
              "fillmode": "overlay",
              "size": 10,
              "solidity": 0.2
             }
            },
            "type": "bar"
           }
          ],
          "barpolar": [
           {
            "marker": {
             "line": {
              "color": "#E5ECF6",
              "width": 0.5
             },
             "pattern": {
              "fillmode": "overlay",
              "size": 10,
              "solidity": 0.2
             }
            },
            "type": "barpolar"
           }
          ],
          "carpet": [
           {
            "aaxis": {
             "endlinecolor": "#2a3f5f",
             "gridcolor": "white",
             "linecolor": "white",
             "minorgridcolor": "white",
             "startlinecolor": "#2a3f5f"
            },
            "baxis": {
             "endlinecolor": "#2a3f5f",
             "gridcolor": "white",
             "linecolor": "white",
             "minorgridcolor": "white",
             "startlinecolor": "#2a3f5f"
            },
            "type": "carpet"
           }
          ],
          "choropleth": [
           {
            "colorbar": {
             "outlinewidth": 0,
             "ticks": ""
            },
            "type": "choropleth"
           }
          ],
          "contour": [
           {
            "colorbar": {
             "outlinewidth": 0,
             "ticks": ""
            },
            "colorscale": [
             [
              0,
              "#0d0887"
             ],
             [
              0.1111111111111111,
              "#46039f"
             ],
             [
              0.2222222222222222,
              "#7201a8"
             ],
             [
              0.3333333333333333,
              "#9c179e"
             ],
             [
              0.4444444444444444,
              "#bd3786"
             ],
             [
              0.5555555555555556,
              "#d8576b"
             ],
             [
              0.6666666666666666,
              "#ed7953"
             ],
             [
              0.7777777777777778,
              "#fb9f3a"
             ],
             [
              0.8888888888888888,
              "#fdca26"
             ],
             [
              1,
              "#f0f921"
             ]
            ],
            "type": "contour"
           }
          ],
          "contourcarpet": [
           {
            "colorbar": {
             "outlinewidth": 0,
             "ticks": ""
            },
            "type": "contourcarpet"
           }
          ],
          "heatmap": [
           {
            "colorbar": {
             "outlinewidth": 0,
             "ticks": ""
            },
            "colorscale": [
             [
              0,
              "#0d0887"
             ],
             [
              0.1111111111111111,
              "#46039f"
             ],
             [
              0.2222222222222222,
              "#7201a8"
             ],
             [
              0.3333333333333333,
              "#9c179e"
             ],
             [
              0.4444444444444444,
              "#bd3786"
             ],
             [
              0.5555555555555556,
              "#d8576b"
             ],
             [
              0.6666666666666666,
              "#ed7953"
             ],
             [
              0.7777777777777778,
              "#fb9f3a"
             ],
             [
              0.8888888888888888,
              "#fdca26"
             ],
             [
              1,
              "#f0f921"
             ]
            ],
            "type": "heatmap"
           }
          ],
          "heatmapgl": [
           {
            "colorbar": {
             "outlinewidth": 0,
             "ticks": ""
            },
            "colorscale": [
             [
              0,
              "#0d0887"
             ],
             [
              0.1111111111111111,
              "#46039f"
             ],
             [
              0.2222222222222222,
              "#7201a8"
             ],
             [
              0.3333333333333333,
              "#9c179e"
             ],
             [
              0.4444444444444444,
              "#bd3786"
             ],
             [
              0.5555555555555556,
              "#d8576b"
             ],
             [
              0.6666666666666666,
              "#ed7953"
             ],
             [
              0.7777777777777778,
              "#fb9f3a"
             ],
             [
              0.8888888888888888,
              "#fdca26"
             ],
             [
              1,
              "#f0f921"
             ]
            ],
            "type": "heatmapgl"
           }
          ],
          "histogram": [
           {
            "marker": {
             "pattern": {
              "fillmode": "overlay",
              "size": 10,
              "solidity": 0.2
             }
            },
            "type": "histogram"
           }
          ],
          "histogram2d": [
           {
            "colorbar": {
             "outlinewidth": 0,
             "ticks": ""
            },
            "colorscale": [
             [
              0,
              "#0d0887"
             ],
             [
              0.1111111111111111,
              "#46039f"
             ],
             [
              0.2222222222222222,
              "#7201a8"
             ],
             [
              0.3333333333333333,
              "#9c179e"
             ],
             [
              0.4444444444444444,
              "#bd3786"
             ],
             [
              0.5555555555555556,
              "#d8576b"
             ],
             [
              0.6666666666666666,
              "#ed7953"
             ],
             [
              0.7777777777777778,
              "#fb9f3a"
             ],
             [
              0.8888888888888888,
              "#fdca26"
             ],
             [
              1,
              "#f0f921"
             ]
            ],
            "type": "histogram2d"
           }
          ],
          "histogram2dcontour": [
           {
            "colorbar": {
             "outlinewidth": 0,
             "ticks": ""
            },
            "colorscale": [
             [
              0,
              "#0d0887"
             ],
             [
              0.1111111111111111,
              "#46039f"
             ],
             [
              0.2222222222222222,
              "#7201a8"
             ],
             [
              0.3333333333333333,
              "#9c179e"
             ],
             [
              0.4444444444444444,
              "#bd3786"
             ],
             [
              0.5555555555555556,
              "#d8576b"
             ],
             [
              0.6666666666666666,
              "#ed7953"
             ],
             [
              0.7777777777777778,
              "#fb9f3a"
             ],
             [
              0.8888888888888888,
              "#fdca26"
             ],
             [
              1,
              "#f0f921"
             ]
            ],
            "type": "histogram2dcontour"
           }
          ],
          "mesh3d": [
           {
            "colorbar": {
             "outlinewidth": 0,
             "ticks": ""
            },
            "type": "mesh3d"
           }
          ],
          "parcoords": [
           {
            "line": {
             "colorbar": {
              "outlinewidth": 0,
              "ticks": ""
             }
            },
            "type": "parcoords"
           }
          ],
          "pie": [
           {
            "automargin": true,
            "type": "pie"
           }
          ],
          "scatter": [
           {
            "fillpattern": {
             "fillmode": "overlay",
             "size": 10,
             "solidity": 0.2
            },
            "type": "scatter"
           }
          ],
          "scatter3d": [
           {
            "line": {
             "colorbar": {
              "outlinewidth": 0,
              "ticks": ""
             }
            },
            "marker": {
             "colorbar": {
              "outlinewidth": 0,
              "ticks": ""
             }
            },
            "type": "scatter3d"
           }
          ],
          "scattercarpet": [
           {
            "marker": {
             "colorbar": {
              "outlinewidth": 0,
              "ticks": ""
             }
            },
            "type": "scattercarpet"
           }
          ],
          "scattergeo": [
           {
            "marker": {
             "colorbar": {
              "outlinewidth": 0,
              "ticks": ""
             }
            },
            "type": "scattergeo"
           }
          ],
          "scattergl": [
           {
            "marker": {
             "colorbar": {
              "outlinewidth": 0,
              "ticks": ""
             }
            },
            "type": "scattergl"
           }
          ],
          "scattermapbox": [
           {
            "marker": {
             "colorbar": {
              "outlinewidth": 0,
              "ticks": ""
             }
            },
            "type": "scattermapbox"
           }
          ],
          "scatterpolar": [
           {
            "marker": {
             "colorbar": {
              "outlinewidth": 0,
              "ticks": ""
             }
            },
            "type": "scatterpolar"
           }
          ],
          "scatterpolargl": [
           {
            "marker": {
             "colorbar": {
              "outlinewidth": 0,
              "ticks": ""
             }
            },
            "type": "scatterpolargl"
           }
          ],
          "scatterternary": [
           {
            "marker": {
             "colorbar": {
              "outlinewidth": 0,
              "ticks": ""
             }
            },
            "type": "scatterternary"
           }
          ],
          "surface": [
           {
            "colorbar": {
             "outlinewidth": 0,
             "ticks": ""
            },
            "colorscale": [
             [
              0,
              "#0d0887"
             ],
             [
              0.1111111111111111,
              "#46039f"
             ],
             [
              0.2222222222222222,
              "#7201a8"
             ],
             [
              0.3333333333333333,
              "#9c179e"
             ],
             [
              0.4444444444444444,
              "#bd3786"
             ],
             [
              0.5555555555555556,
              "#d8576b"
             ],
             [
              0.6666666666666666,
              "#ed7953"
             ],
             [
              0.7777777777777778,
              "#fb9f3a"
             ],
             [
              0.8888888888888888,
              "#fdca26"
             ],
             [
              1,
              "#f0f921"
             ]
            ],
            "type": "surface"
           }
          ],
          "table": [
           {
            "cells": {
             "fill": {
              "color": "#EBF0F8"
             },
             "line": {
              "color": "white"
             }
            },
            "header": {
             "fill": {
              "color": "#C8D4E3"
             },
             "line": {
              "color": "white"
             }
            },
            "type": "table"
           }
          ]
         },
         "layout": {
          "annotationdefaults": {
           "arrowcolor": "#2a3f5f",
           "arrowhead": 0,
           "arrowwidth": 1
          },
          "autotypenumbers": "strict",
          "coloraxis": {
           "colorbar": {
            "outlinewidth": 0,
            "ticks": ""
           }
          },
          "colorscale": {
           "diverging": [
            [
             0,
             "#8e0152"
            ],
            [
             0.1,
             "#c51b7d"
            ],
            [
             0.2,
             "#de77ae"
            ],
            [
             0.3,
             "#f1b6da"
            ],
            [
             0.4,
             "#fde0ef"
            ],
            [
             0.5,
             "#f7f7f7"
            ],
            [
             0.6,
             "#e6f5d0"
            ],
            [
             0.7,
             "#b8e186"
            ],
            [
             0.8,
             "#7fbc41"
            ],
            [
             0.9,
             "#4d9221"
            ],
            [
             1,
             "#276419"
            ]
           ],
           "sequential": [
            [
             0,
             "#0d0887"
            ],
            [
             0.1111111111111111,
             "#46039f"
            ],
            [
             0.2222222222222222,
             "#7201a8"
            ],
            [
             0.3333333333333333,
             "#9c179e"
            ],
            [
             0.4444444444444444,
             "#bd3786"
            ],
            [
             0.5555555555555556,
             "#d8576b"
            ],
            [
             0.6666666666666666,
             "#ed7953"
            ],
            [
             0.7777777777777778,
             "#fb9f3a"
            ],
            [
             0.8888888888888888,
             "#fdca26"
            ],
            [
             1,
             "#f0f921"
            ]
           ],
           "sequentialminus": [
            [
             0,
             "#0d0887"
            ],
            [
             0.1111111111111111,
             "#46039f"
            ],
            [
             0.2222222222222222,
             "#7201a8"
            ],
            [
             0.3333333333333333,
             "#9c179e"
            ],
            [
             0.4444444444444444,
             "#bd3786"
            ],
            [
             0.5555555555555556,
             "#d8576b"
            ],
            [
             0.6666666666666666,
             "#ed7953"
            ],
            [
             0.7777777777777778,
             "#fb9f3a"
            ],
            [
             0.8888888888888888,
             "#fdca26"
            ],
            [
             1,
             "#f0f921"
            ]
           ]
          },
          "colorway": [
           "#636efa",
           "#EF553B",
           "#00cc96",
           "#ab63fa",
           "#FFA15A",
           "#19d3f3",
           "#FF6692",
           "#B6E880",
           "#FF97FF",
           "#FECB52"
          ],
          "font": {
           "color": "#2a3f5f"
          },
          "geo": {
           "bgcolor": "white",
           "lakecolor": "white",
           "landcolor": "#E5ECF6",
           "showlakes": true,
           "showland": true,
           "subunitcolor": "white"
          },
          "hoverlabel": {
           "align": "left"
          },
          "hovermode": "closest",
          "mapbox": {
           "style": "light"
          },
          "paper_bgcolor": "white",
          "plot_bgcolor": "#E5ECF6",
          "polar": {
           "angularaxis": {
            "gridcolor": "white",
            "linecolor": "white",
            "ticks": ""
           },
           "bgcolor": "#E5ECF6",
           "radialaxis": {
            "gridcolor": "white",
            "linecolor": "white",
            "ticks": ""
           }
          },
          "scene": {
           "xaxis": {
            "backgroundcolor": "#E5ECF6",
            "gridcolor": "white",
            "gridwidth": 2,
            "linecolor": "white",
            "showbackground": true,
            "ticks": "",
            "zerolinecolor": "white"
           },
           "yaxis": {
            "backgroundcolor": "#E5ECF6",
            "gridcolor": "white",
            "gridwidth": 2,
            "linecolor": "white",
            "showbackground": true,
            "ticks": "",
            "zerolinecolor": "white"
           },
           "zaxis": {
            "backgroundcolor": "#E5ECF6",
            "gridcolor": "white",
            "gridwidth": 2,
            "linecolor": "white",
            "showbackground": true,
            "ticks": "",
            "zerolinecolor": "white"
           }
          },
          "shapedefaults": {
           "line": {
            "color": "#2a3f5f"
           }
          },
          "ternary": {
           "aaxis": {
            "gridcolor": "white",
            "linecolor": "white",
            "ticks": ""
           },
           "baxis": {
            "gridcolor": "white",
            "linecolor": "white",
            "ticks": ""
           },
           "bgcolor": "#E5ECF6",
           "caxis": {
            "gridcolor": "white",
            "linecolor": "white",
            "ticks": ""
           }
          },
          "title": {
           "x": 0.05
          },
          "xaxis": {
           "automargin": true,
           "gridcolor": "white",
           "linecolor": "white",
           "ticks": "",
           "title": {
            "standoff": 15
           },
           "zerolinecolor": "white",
           "zerolinewidth": 2
          },
          "yaxis": {
           "automargin": true,
           "gridcolor": "white",
           "linecolor": "white",
           "ticks": "",
           "title": {
            "standoff": 15
           },
           "zerolinecolor": "white",
           "zerolinewidth": 2
          }
         }
        },
        "title": {
         "text": "Life Expectancy and average years of education achieved"
        },
        "xaxis": {
         "anchor": "y",
         "domain": [
          0,
          1
         ],
         "title": {
          "text": "Healthy Life Expectancy"
         }
        },
        "yaxis": {
         "anchor": "x",
         "domain": [
          0,
          1
         ],
         "title": {
          "text": "Average Years of Education"
         }
        }
       }
      }
     },
     "metadata": {},
     "output_type": "display_data"
    }
   ],
   "source": [
    "# Create scatter plot with Plotly\n",
    "\n",
    "\n",
    "fig_life = px.scatter(happiness_edu_df, x=\"Healthy life expectancy\", y=\"Avg Ed. (Years)\", hover_name=\"Country name\", trendline=\"ols\", color_continuous_scale=\"Sunsetdark\")\n",
    "\n",
    "# Customize layout\n",
    "fig_life.update_layout(\n",
    "    title=\"Life Expectancy and average years of education achieved\",\n",
    "    xaxis_title=\"Healthy Life Expectancy\",\n",
    "    yaxis_title=\"Average Years of Education\"\n",
    " \n",
    ")\n",
    "\n",
    "# Show the plot\n",
    "fig_life.show()"
   ]
  },
  {
   "cell_type": "code",
   "execution_count": 26,
   "id": "cc673d17",
   "metadata": {},
   "outputs": [
    {
     "data": {
      "application/vnd.plotly.v1+json": {
       "config": {
        "plotlyServerURL": "https://plot.ly"
       },
       "data": [
        {
         "hovertemplate": "<b>%{hovertext}</b><br><br>Social support=%{x}<br>Avg Ed. (Years)=%{y}<extra></extra>",
         "hovertext": [
          "Afghanistan",
          "Albania",
          "Algeria",
          "Argentina",
          "Armenia",
          "Australia",
          "Austria",
          "Bahrain",
          "Bangladesh",
          "Belgium",
          "Benin",
          "Bolivia",
          "Botswana",
          "Brazil",
          "Bulgaria",
          "Burundi",
          "Cambodia",
          "Cameroon",
          "Canada",
          "Central African Republic",
          "Chile",
          "China",
          "Colombia",
          "Costa Rica",
          "Croatia",
          "Cyprus",
          "Denmark",
          "Dominican Republic",
          "Ecuador",
          "Egypt",
          "El Salvador",
          "Estonia",
          "Finland",
          "France",
          "Gabon",
          "Gambia",
          "Germany",
          "Ghana",
          "Greece",
          "Guatemala",
          "Haiti",
          "Honduras",
          "Hungary",
          "Iceland",
          "India",
          "Indonesia",
          "Iran",
          "Iraq",
          "Ireland",
          "Israel",
          "Italy",
          "Jamaica",
          "Japan",
          "Jordan",
          "Kazakhstan",
          "Kenya",
          "Kuwait",
          "Kyrgyzstan",
          "Laos",
          "Latvia",
          "Lesotho",
          "Liberia",
          "Libya",
          "Lithuania",
          "Luxembourg",
          "Malawi",
          "Malaysia",
          "Maldives",
          "Mali",
          "Malta",
          "Mauritania",
          "Mauritius",
          "Mexico",
          "Moldova",
          "Mongolia",
          "Morocco",
          "Mozambique",
          "Myanmar",
          "Namibia",
          "Nepal",
          "Netherlands",
          "New Zealand",
          "Nicaragua",
          "Niger",
          "Norway",
          "Pakistan",
          "Panama",
          "Paraguay",
          "Peru",
          "Philippines",
          "Poland",
          "Portugal",
          "Romania",
          "Russia",
          "Rwanda",
          "Saudi Arabia",
          "Senegal",
          "Serbia",
          "Sierra Leone",
          "Singapore",
          "Slovakia",
          "Slovenia",
          "South Africa",
          "South Korea",
          "Spain",
          "Sri Lanka",
          "Sweden",
          "Switzerland",
          "Tajikistan",
          "Tanzania",
          "Thailand",
          "Togo",
          "Trinidad and Tobago",
          "Tunisia",
          "Turkey",
          "Uganda",
          "Ukraine",
          "United Arab Emirates",
          "United Kingdom",
          "United States",
          "Uruguay",
          "Venezuela",
          "Vietnam",
          "Yemen",
          "Zambia",
          "Zimbabwe"
         ],
         "legendgroup": "",
         "marker": {
          "color": "#636efa",
          "symbol": "circle"
         },
         "mode": "markers",
         "name": "",
         "orientation": "v",
         "showlegend": false,
         "type": "scatter",
         "x": [
          0.470366955,
          0.671070457,
          0.803385139,
          0.900567949,
          0.757479429,
          0.944854617,
          0.928045869,
          0.876342118,
          0.687292993,
          0.911632538,
          0.468671143,
          0.803108692,
          0.779121757,
          0.896723807,
          0.937840343,
          0.490325719,
          0.773080647,
          0.700386405,
          0.927176654,
          0.319459856,
          0.879713595,
          0.798760593,
          0.884440243,
          0.901545942,
          0.874623716,
          0.805996239,
          0.955990791,
          0.882085383,
          0.836418986,
          0.735447824,
          0.806092262,
          0.934729993,
          0.954329729,
          0.937103748,
          0.787886858,
          0.6931687,
          0.898874462,
          0.728601098,
          0.814380348,
          0.816621482,
          0.593247831,
          0.821870148,
          0.921934128,
          0.974669576,
          0.592200935,
          0.808379889,
          0.694689691,
          0.747694969,
          0.942081571,
          0.913571239,
          0.889878571,
          0.915701866,
          0.883545935,
          0.80216372,
          0.934744895,
          0.702652037,
          0.846475244,
          0.887228489,
          0.737502217,
          0.918288589,
          0.780495703,
          0.70928055,
          0.825942934,
          0.926107109,
          0.906912208,
          0.544007301,
          0.816509426,
          0.91316092,
          0.731468976,
          0.93037951,
          0.790819228,
          0.910357833,
          0.838665426,
          0.843313575,
          0.937142491,
          0.592628479,
          0.723874032,
          0.78440702,
          0.846880972,
          0.785512447,
          0.93913883,
          0.949118972,
          0.857497036,
          0.617435038,
          0.952486575,
          0.689062297,
          0.902094483,
          0.898727894,
          0.831075251,
          0.846730053,
          0.874257445,
          0.886590719,
          0.825161517,
          0.903150737,
          0.54083544,
          0.874067068,
          0.723616004,
          0.881475747,
          0.636142015,
          0.910268962,
          0.922493756,
          0.939575672,
          0.852532268,
          0.799387157,
          0.921125412,
          0.825374067,
          0.926311195,
          0.942846596,
          0.835297108,
          0.688933194,
          0.889973223,
          0.551312625,
          0.91529417,
          0.688718557,
          0.826313555,
          0.764994621,
          0.878879368,
          0.849181116,
          0.93668282,
          0.914219022,
          0.92281127,
          0.890408158,
          0.849987149,
          0.817980587,
          0.698824465,
          0.763092756
         ],
         "xaxis": "x",
         "y": [
          5.69,
          10.32,
          8.18,
          9.86,
          10.54,
          12.93,
          10.39,
          8.21,
          7.23,
          11.57,
          6.27,
          9.06,
          10.58,
          8,
          10.75,
          5.05,
          5.81,
          7.37,
          12.93,
          4.64,
          10.74,
          8.99,
          10.2,
          9.12,
          12.03,
          12.42,
          11.69,
          9.04,
          9.07,
          8.01,
          8.1,
          12.29,
          11.05,
          11.89,
          10.18,
          4.92,
          13.1,
          8.39,
          11.86,
          6.26,
          5.95,
          7.51,
          11.96,
          13.53,
          7.8,
          9.06,
          9.8,
          8.27,
          13.74,
          12.04,
          11.51,
          10.1,
          12.83,
          10.81,
          11.79,
          6.73,
          6.62,
          11.18,
          6.05,
          11.96,
          6.88,
          5.8,
          9.57,
          12.5,
          11.53,
          5.41,
          11.96,
          8.06,
          3.55,
          12.09,
          5.55,
          10.4,
          10.18,
          10.84,
          10,
          6.83,
          4.22,
          6.48,
          6.88,
          6.19,
          11.82,
          10.81,
          7.76,
          3.04,
          12.08,
          6.41,
          10.44,
          8.83,
          9.96,
          9.44,
          12.01,
          9.56,
          11.28,
          11.6,
          5.24,
          9.86,
          4.4,
          11.72,
          4.99,
          13.06,
          13.14,
          12.06,
          10.47,
          13.68,
          11.51,
          10.33,
          11.93,
          12.97,
          10.12,
          6.87,
          9.32,
          7.68,
          11.28,
          9.29,
          8.49,
          6.69,
          10.82,
          9.57,
          12.9,
          13.32,
          8.76,
          9.33,
          8.35,
          5.56,
          8.37,
          8.32
         ],
         "yaxis": "y"
        },
        {
         "hovertemplate": "<b>OLS trendline</b><br>Avg Ed. (Years) = 15.2831 * Social support + -3.09289<br>R<sup>2</sup>=0.524172<br><br>Social support=%{x}<br>Avg Ed. (Years)=%{y} <b>(trend)</b><extra></extra>",
         "legendgroup": "",
         "marker": {
          "color": "#636efa",
          "symbol": "circle"
         },
         "mode": "lines",
         "name": "",
         "showlegend": false,
         "type": "scatter",
         "x": [
          0.319459856,
          0.468671143,
          0.470366955,
          0.490325719,
          0.54083544,
          0.544007301,
          0.551312625,
          0.592200935,
          0.592628479,
          0.593247831,
          0.617435038,
          0.636142015,
          0.671070457,
          0.687292993,
          0.688718557,
          0.688933194,
          0.689062297,
          0.6931687,
          0.694689691,
          0.698824465,
          0.700386405,
          0.702652037,
          0.70928055,
          0.723616004,
          0.723874032,
          0.728601098,
          0.731468976,
          0.735447824,
          0.737502217,
          0.747694969,
          0.757479429,
          0.763092756,
          0.764994621,
          0.773080647,
          0.779121757,
          0.780495703,
          0.78440702,
          0.785512447,
          0.787886858,
          0.790819228,
          0.798760593,
          0.799387157,
          0.80216372,
          0.803108692,
          0.803385139,
          0.805996239,
          0.806092262,
          0.808379889,
          0.814380348,
          0.816509426,
          0.816621482,
          0.817980587,
          0.821870148,
          0.825161517,
          0.825374067,
          0.825942934,
          0.826313555,
          0.831075251,
          0.835297108,
          0.836418986,
          0.838665426,
          0.843313575,
          0.846475244,
          0.846730053,
          0.846880972,
          0.849181116,
          0.849987149,
          0.852532268,
          0.857497036,
          0.874067068,
          0.874257445,
          0.874623716,
          0.876342118,
          0.878879368,
          0.879713595,
          0.881475747,
          0.882085383,
          0.883545935,
          0.884440243,
          0.886590719,
          0.887228489,
          0.889878571,
          0.889973223,
          0.890408158,
          0.896723807,
          0.898727894,
          0.898874462,
          0.900567949,
          0.901545942,
          0.902094483,
          0.903150737,
          0.906912208,
          0.910268962,
          0.910357833,
          0.911632538,
          0.91316092,
          0.913571239,
          0.914219022,
          0.91529417,
          0.915701866,
          0.918288589,
          0.921125412,
          0.921934128,
          0.922493756,
          0.92281127,
          0.926107109,
          0.926311195,
          0.927176654,
          0.928045869,
          0.93037951,
          0.934729993,
          0.934744895,
          0.93668282,
          0.937103748,
          0.937142491,
          0.937840343,
          0.93913883,
          0.939575672,
          0.942081571,
          0.942846596,
          0.944854617,
          0.949118972,
          0.952486575,
          0.954329729,
          0.955990791,
          0.974669576
         ],
         "xaxis": "x",
         "y": [
          1.7894573044872537,
          4.069872332560906,
          4.095789642486579,
          4.400821964655179,
          5.172768438330507,
          5.221244392373856,
          5.332892585814792,
          5.957793814610803,
          5.964328023800774,
          5.973793658987389,
          6.3434498119426825,
          6.629350914589348,
          7.163166724676148,
          7.411097800345147,
          7.4328848758033255,
          7.436165200303043,
          7.438138297829972,
          7.500896975814745,
          7.524142474219734,
          7.587334749796635,
          7.6112060769633905,
          7.645832018236081,
          7.747136423304187,
          7.966226985373118,
          7.970170460030393,
          8.042414809381096,
          8.086244952672345,
          8.147054191410568,
          8.178451740248608,
          8.334228862110898,
          8.483766005541511,
          8.569555194185742,
          8.598621638250176,
          8.72220139939649,
          8.81452844989801,
          8.835526640913962,
          8.895303794812243,
          8.912198175887038,
          8.948486600416366,
          8.993302383125034,
          9.11467127185674,
          9.124247128954266,
          9.166681693516352,
          9.181123820470923,
          9.185348795041818,
          9.225254567584368,
          9.226722099274788,
          9.26168419292275,
          9.35338996903431,
          9.385928938201843,
          9.3876415042652,
          9.408412878395431,
          9.46785753258576,
          9.518159942553819,
          9.521408371167784,
          9.530102437694904,
          9.535766685454657,
          9.608540289488499,
          9.673063465601697,
          9.690209269396455,
          9.724541896898462,
          9.795580147726803,
          9.843900336141196,
          9.847794614413111,
          9.850101128635604,
          9.885254521182464,
          9.89757322577432,
          9.93647060232356,
          10.012347781494991,
          10.265589682615122,
          10.268499238457231,
          10.274097004615147,
          10.300359560376574,
          10.33913667400056,
          10.351886271071084,
          10.378817463632611,
          10.388134607958662,
          10.410456409459396,
          10.42412423207476,
          10.456990229590833,
          10.466737349407943,
          10.507238888801727,
          10.508685467325222,
          10.51533263410581,
          10.61185549897218,
          10.642484214830432,
          10.64472423216796,
          10.670606008823686,
          10.68555279991028,
          10.693936221600854,
          10.710079085478593,
          10.767566123949504,
          10.818867821167263,
          10.820226047934383,
          10.839707526157682,
          10.863065982153287,
          10.869336939483105,
          10.879237089249461,
          10.895668712526078,
          10.901899582214146,
          10.941432797973242,
          10.984788323759872,
          10.997148032981091,
          11.005700898699157,
          11.01055350544079,
          11.060924230985911,
          11.064043303214135,
          11.077270222902737,
          11.090554546015817,
          11.12621987746309,
          11.192708861051702,
          11.19293661020816,
          11.222554163827144,
          11.22898725984981,
          11.229579374033726,
          11.240244734678804,
          11.260089676225068,
          11.26676598792858,
          11.305063960242393,
          11.316755934367997,
          11.347444774047315,
          11.412617452485783,
          11.464084956346841,
          11.492254112750231,
          11.517640334017539,
          11.803110574751788
         ],
         "yaxis": "y"
        }
       ],
       "layout": {
        "legend": {
         "tracegroupgap": 0
        },
        "margin": {
         "t": 60
        },
        "template": {
         "data": {
          "bar": [
           {
            "error_x": {
             "color": "#2a3f5f"
            },
            "error_y": {
             "color": "#2a3f5f"
            },
            "marker": {
             "line": {
              "color": "#E5ECF6",
              "width": 0.5
             },
             "pattern": {
              "fillmode": "overlay",
              "size": 10,
              "solidity": 0.2
             }
            },
            "type": "bar"
           }
          ],
          "barpolar": [
           {
            "marker": {
             "line": {
              "color": "#E5ECF6",
              "width": 0.5
             },
             "pattern": {
              "fillmode": "overlay",
              "size": 10,
              "solidity": 0.2
             }
            },
            "type": "barpolar"
           }
          ],
          "carpet": [
           {
            "aaxis": {
             "endlinecolor": "#2a3f5f",
             "gridcolor": "white",
             "linecolor": "white",
             "minorgridcolor": "white",
             "startlinecolor": "#2a3f5f"
            },
            "baxis": {
             "endlinecolor": "#2a3f5f",
             "gridcolor": "white",
             "linecolor": "white",
             "minorgridcolor": "white",
             "startlinecolor": "#2a3f5f"
            },
            "type": "carpet"
           }
          ],
          "choropleth": [
           {
            "colorbar": {
             "outlinewidth": 0,
             "ticks": ""
            },
            "type": "choropleth"
           }
          ],
          "contour": [
           {
            "colorbar": {
             "outlinewidth": 0,
             "ticks": ""
            },
            "colorscale": [
             [
              0,
              "#0d0887"
             ],
             [
              0.1111111111111111,
              "#46039f"
             ],
             [
              0.2222222222222222,
              "#7201a8"
             ],
             [
              0.3333333333333333,
              "#9c179e"
             ],
             [
              0.4444444444444444,
              "#bd3786"
             ],
             [
              0.5555555555555556,
              "#d8576b"
             ],
             [
              0.6666666666666666,
              "#ed7953"
             ],
             [
              0.7777777777777778,
              "#fb9f3a"
             ],
             [
              0.8888888888888888,
              "#fdca26"
             ],
             [
              1,
              "#f0f921"
             ]
            ],
            "type": "contour"
           }
          ],
          "contourcarpet": [
           {
            "colorbar": {
             "outlinewidth": 0,
             "ticks": ""
            },
            "type": "contourcarpet"
           }
          ],
          "heatmap": [
           {
            "colorbar": {
             "outlinewidth": 0,
             "ticks": ""
            },
            "colorscale": [
             [
              0,
              "#0d0887"
             ],
             [
              0.1111111111111111,
              "#46039f"
             ],
             [
              0.2222222222222222,
              "#7201a8"
             ],
             [
              0.3333333333333333,
              "#9c179e"
             ],
             [
              0.4444444444444444,
              "#bd3786"
             ],
             [
              0.5555555555555556,
              "#d8576b"
             ],
             [
              0.6666666666666666,
              "#ed7953"
             ],
             [
              0.7777777777777778,
              "#fb9f3a"
             ],
             [
              0.8888888888888888,
              "#fdca26"
             ],
             [
              1,
              "#f0f921"
             ]
            ],
            "type": "heatmap"
           }
          ],
          "heatmapgl": [
           {
            "colorbar": {
             "outlinewidth": 0,
             "ticks": ""
            },
            "colorscale": [
             [
              0,
              "#0d0887"
             ],
             [
              0.1111111111111111,
              "#46039f"
             ],
             [
              0.2222222222222222,
              "#7201a8"
             ],
             [
              0.3333333333333333,
              "#9c179e"
             ],
             [
              0.4444444444444444,
              "#bd3786"
             ],
             [
              0.5555555555555556,
              "#d8576b"
             ],
             [
              0.6666666666666666,
              "#ed7953"
             ],
             [
              0.7777777777777778,
              "#fb9f3a"
             ],
             [
              0.8888888888888888,
              "#fdca26"
             ],
             [
              1,
              "#f0f921"
             ]
            ],
            "type": "heatmapgl"
           }
          ],
          "histogram": [
           {
            "marker": {
             "pattern": {
              "fillmode": "overlay",
              "size": 10,
              "solidity": 0.2
             }
            },
            "type": "histogram"
           }
          ],
          "histogram2d": [
           {
            "colorbar": {
             "outlinewidth": 0,
             "ticks": ""
            },
            "colorscale": [
             [
              0,
              "#0d0887"
             ],
             [
              0.1111111111111111,
              "#46039f"
             ],
             [
              0.2222222222222222,
              "#7201a8"
             ],
             [
              0.3333333333333333,
              "#9c179e"
             ],
             [
              0.4444444444444444,
              "#bd3786"
             ],
             [
              0.5555555555555556,
              "#d8576b"
             ],
             [
              0.6666666666666666,
              "#ed7953"
             ],
             [
              0.7777777777777778,
              "#fb9f3a"
             ],
             [
              0.8888888888888888,
              "#fdca26"
             ],
             [
              1,
              "#f0f921"
             ]
            ],
            "type": "histogram2d"
           }
          ],
          "histogram2dcontour": [
           {
            "colorbar": {
             "outlinewidth": 0,
             "ticks": ""
            },
            "colorscale": [
             [
              0,
              "#0d0887"
             ],
             [
              0.1111111111111111,
              "#46039f"
             ],
             [
              0.2222222222222222,
              "#7201a8"
             ],
             [
              0.3333333333333333,
              "#9c179e"
             ],
             [
              0.4444444444444444,
              "#bd3786"
             ],
             [
              0.5555555555555556,
              "#d8576b"
             ],
             [
              0.6666666666666666,
              "#ed7953"
             ],
             [
              0.7777777777777778,
              "#fb9f3a"
             ],
             [
              0.8888888888888888,
              "#fdca26"
             ],
             [
              1,
              "#f0f921"
             ]
            ],
            "type": "histogram2dcontour"
           }
          ],
          "mesh3d": [
           {
            "colorbar": {
             "outlinewidth": 0,
             "ticks": ""
            },
            "type": "mesh3d"
           }
          ],
          "parcoords": [
           {
            "line": {
             "colorbar": {
              "outlinewidth": 0,
              "ticks": ""
             }
            },
            "type": "parcoords"
           }
          ],
          "pie": [
           {
            "automargin": true,
            "type": "pie"
           }
          ],
          "scatter": [
           {
            "fillpattern": {
             "fillmode": "overlay",
             "size": 10,
             "solidity": 0.2
            },
            "type": "scatter"
           }
          ],
          "scatter3d": [
           {
            "line": {
             "colorbar": {
              "outlinewidth": 0,
              "ticks": ""
             }
            },
            "marker": {
             "colorbar": {
              "outlinewidth": 0,
              "ticks": ""
             }
            },
            "type": "scatter3d"
           }
          ],
          "scattercarpet": [
           {
            "marker": {
             "colorbar": {
              "outlinewidth": 0,
              "ticks": ""
             }
            },
            "type": "scattercarpet"
           }
          ],
          "scattergeo": [
           {
            "marker": {
             "colorbar": {
              "outlinewidth": 0,
              "ticks": ""
             }
            },
            "type": "scattergeo"
           }
          ],
          "scattergl": [
           {
            "marker": {
             "colorbar": {
              "outlinewidth": 0,
              "ticks": ""
             }
            },
            "type": "scattergl"
           }
          ],
          "scattermapbox": [
           {
            "marker": {
             "colorbar": {
              "outlinewidth": 0,
              "ticks": ""
             }
            },
            "type": "scattermapbox"
           }
          ],
          "scatterpolar": [
           {
            "marker": {
             "colorbar": {
              "outlinewidth": 0,
              "ticks": ""
             }
            },
            "type": "scatterpolar"
           }
          ],
          "scatterpolargl": [
           {
            "marker": {
             "colorbar": {
              "outlinewidth": 0,
              "ticks": ""
             }
            },
            "type": "scatterpolargl"
           }
          ],
          "scatterternary": [
           {
            "marker": {
             "colorbar": {
              "outlinewidth": 0,
              "ticks": ""
             }
            },
            "type": "scatterternary"
           }
          ],
          "surface": [
           {
            "colorbar": {
             "outlinewidth": 0,
             "ticks": ""
            },
            "colorscale": [
             [
              0,
              "#0d0887"
             ],
             [
              0.1111111111111111,
              "#46039f"
             ],
             [
              0.2222222222222222,
              "#7201a8"
             ],
             [
              0.3333333333333333,
              "#9c179e"
             ],
             [
              0.4444444444444444,
              "#bd3786"
             ],
             [
              0.5555555555555556,
              "#d8576b"
             ],
             [
              0.6666666666666666,
              "#ed7953"
             ],
             [
              0.7777777777777778,
              "#fb9f3a"
             ],
             [
              0.8888888888888888,
              "#fdca26"
             ],
             [
              1,
              "#f0f921"
             ]
            ],
            "type": "surface"
           }
          ],
          "table": [
           {
            "cells": {
             "fill": {
              "color": "#EBF0F8"
             },
             "line": {
              "color": "white"
             }
            },
            "header": {
             "fill": {
              "color": "#C8D4E3"
             },
             "line": {
              "color": "white"
             }
            },
            "type": "table"
           }
          ]
         },
         "layout": {
          "annotationdefaults": {
           "arrowcolor": "#2a3f5f",
           "arrowhead": 0,
           "arrowwidth": 1
          },
          "autotypenumbers": "strict",
          "coloraxis": {
           "colorbar": {
            "outlinewidth": 0,
            "ticks": ""
           }
          },
          "colorscale": {
           "diverging": [
            [
             0,
             "#8e0152"
            ],
            [
             0.1,
             "#c51b7d"
            ],
            [
             0.2,
             "#de77ae"
            ],
            [
             0.3,
             "#f1b6da"
            ],
            [
             0.4,
             "#fde0ef"
            ],
            [
             0.5,
             "#f7f7f7"
            ],
            [
             0.6,
             "#e6f5d0"
            ],
            [
             0.7,
             "#b8e186"
            ],
            [
             0.8,
             "#7fbc41"
            ],
            [
             0.9,
             "#4d9221"
            ],
            [
             1,
             "#276419"
            ]
           ],
           "sequential": [
            [
             0,
             "#0d0887"
            ],
            [
             0.1111111111111111,
             "#46039f"
            ],
            [
             0.2222222222222222,
             "#7201a8"
            ],
            [
             0.3333333333333333,
             "#9c179e"
            ],
            [
             0.4444444444444444,
             "#bd3786"
            ],
            [
             0.5555555555555556,
             "#d8576b"
            ],
            [
             0.6666666666666666,
             "#ed7953"
            ],
            [
             0.7777777777777778,
             "#fb9f3a"
            ],
            [
             0.8888888888888888,
             "#fdca26"
            ],
            [
             1,
             "#f0f921"
            ]
           ],
           "sequentialminus": [
            [
             0,
             "#0d0887"
            ],
            [
             0.1111111111111111,
             "#46039f"
            ],
            [
             0.2222222222222222,
             "#7201a8"
            ],
            [
             0.3333333333333333,
             "#9c179e"
            ],
            [
             0.4444444444444444,
             "#bd3786"
            ],
            [
             0.5555555555555556,
             "#d8576b"
            ],
            [
             0.6666666666666666,
             "#ed7953"
            ],
            [
             0.7777777777777778,
             "#fb9f3a"
            ],
            [
             0.8888888888888888,
             "#fdca26"
            ],
            [
             1,
             "#f0f921"
            ]
           ]
          },
          "colorway": [
           "#636efa",
           "#EF553B",
           "#00cc96",
           "#ab63fa",
           "#FFA15A",
           "#19d3f3",
           "#FF6692",
           "#B6E880",
           "#FF97FF",
           "#FECB52"
          ],
          "font": {
           "color": "#2a3f5f"
          },
          "geo": {
           "bgcolor": "white",
           "lakecolor": "white",
           "landcolor": "#E5ECF6",
           "showlakes": true,
           "showland": true,
           "subunitcolor": "white"
          },
          "hoverlabel": {
           "align": "left"
          },
          "hovermode": "closest",
          "mapbox": {
           "style": "light"
          },
          "paper_bgcolor": "white",
          "plot_bgcolor": "#E5ECF6",
          "polar": {
           "angularaxis": {
            "gridcolor": "white",
            "linecolor": "white",
            "ticks": ""
           },
           "bgcolor": "#E5ECF6",
           "radialaxis": {
            "gridcolor": "white",
            "linecolor": "white",
            "ticks": ""
           }
          },
          "scene": {
           "xaxis": {
            "backgroundcolor": "#E5ECF6",
            "gridcolor": "white",
            "gridwidth": 2,
            "linecolor": "white",
            "showbackground": true,
            "ticks": "",
            "zerolinecolor": "white"
           },
           "yaxis": {
            "backgroundcolor": "#E5ECF6",
            "gridcolor": "white",
            "gridwidth": 2,
            "linecolor": "white",
            "showbackground": true,
            "ticks": "",
            "zerolinecolor": "white"
           },
           "zaxis": {
            "backgroundcolor": "#E5ECF6",
            "gridcolor": "white",
            "gridwidth": 2,
            "linecolor": "white",
            "showbackground": true,
            "ticks": "",
            "zerolinecolor": "white"
           }
          },
          "shapedefaults": {
           "line": {
            "color": "#2a3f5f"
           }
          },
          "ternary": {
           "aaxis": {
            "gridcolor": "white",
            "linecolor": "white",
            "ticks": ""
           },
           "baxis": {
            "gridcolor": "white",
            "linecolor": "white",
            "ticks": ""
           },
           "bgcolor": "#E5ECF6",
           "caxis": {
            "gridcolor": "white",
            "linecolor": "white",
            "ticks": ""
           }
          },
          "title": {
           "x": 0.05
          },
          "xaxis": {
           "automargin": true,
           "gridcolor": "white",
           "linecolor": "white",
           "ticks": "",
           "title": {
            "standoff": 15
           },
           "zerolinecolor": "white",
           "zerolinewidth": 2
          },
          "yaxis": {
           "automargin": true,
           "gridcolor": "white",
           "linecolor": "white",
           "ticks": "",
           "title": {
            "standoff": 15
           },
           "zerolinecolor": "white",
           "zerolinewidth": 2
          }
         }
        },
        "title": {
         "text": "Perceived Social Support and average years of education achieved"
        },
        "xaxis": {
         "anchor": "y",
         "domain": [
          0,
          1
         ],
         "title": {
          "text": "Perceived Social Support"
         }
        },
        "yaxis": {
         "anchor": "x",
         "domain": [
          0,
          1
         ],
         "title": {
          "text": "Average Years of Education"
         }
        }
       }
      }
     },
     "metadata": {},
     "output_type": "display_data"
    }
   ],
   "source": [
    "# Create scatter plot with Plotly\n",
    "\n",
    "fig_social = px.scatter(happiness_edu_df, x=\"Social support\", y=\"Avg Ed. (Years)\", hover_name=\"Country name\", trendline=\"ols\")\n",
    "\n",
    "# Customize layout\n",
    "fig_social.update_layout(\n",
    "    title=\"Perceived Social Support and average years of education achieved\",\n",
    "    xaxis_title=\"Perceived Social Support\",\n",
    "    yaxis_title=\"Average Years of Education\"\n",
    ")\n",
    "\n",
    "# Show the plot\n",
    "fig_social.show()"
   ]
  },
  {
   "cell_type": "code",
   "execution_count": 27,
   "id": "27786352",
   "metadata": {},
   "outputs": [
    {
     "data": {
      "application/vnd.plotly.v1+json": {
       "config": {
        "plotlyServerURL": "https://plot.ly"
       },
       "data": [
        {
         "hovertemplate": "<b>%{hovertext}</b><br><br>Freedom to make life choices=%{x}<br>Avg Ed. (Years)=%{y}<extra></extra>",
         "hovertext": [
          "Afghanistan",
          "Albania",
          "Algeria",
          "Argentina",
          "Armenia",
          "Australia",
          "Austria",
          "Bahrain",
          "Bangladesh",
          "Belgium",
          "Benin",
          "Bolivia",
          "Botswana",
          "Brazil",
          "Bulgaria",
          "Burundi",
          "Cambodia",
          "Cameroon",
          "Canada",
          "Central African Republic",
          "Chile",
          "China",
          "Colombia",
          "Costa Rica",
          "Croatia",
          "Cyprus",
          "Denmark",
          "Dominican Republic",
          "Ecuador",
          "Egypt",
          "El Salvador",
          "Estonia",
          "Finland",
          "France",
          "Gabon",
          "Gambia",
          "Germany",
          "Ghana",
          "Greece",
          "Guatemala",
          "Haiti",
          "Honduras",
          "Hungary",
          "Iceland",
          "India",
          "Indonesia",
          "Iran",
          "Iraq",
          "Ireland",
          "Israel",
          "Italy",
          "Jamaica",
          "Japan",
          "Jordan",
          "Kazakhstan",
          "Kenya",
          "Kuwait",
          "Kyrgyzstan",
          "Laos",
          "Latvia",
          "Lesotho",
          "Liberia",
          "Libya",
          "Lithuania",
          "Luxembourg",
          "Malawi",
          "Malaysia",
          "Maldives",
          "Mali",
          "Malta",
          "Mauritania",
          "Mauritius",
          "Mexico",
          "Moldova",
          "Mongolia",
          "Morocco",
          "Mozambique",
          "Myanmar",
          "Namibia",
          "Nepal",
          "Netherlands",
          "New Zealand",
          "Nicaragua",
          "Niger",
          "Norway",
          "Pakistan",
          "Panama",
          "Paraguay",
          "Peru",
          "Philippines",
          "Poland",
          "Portugal",
          "Romania",
          "Russia",
          "Rwanda",
          "Saudi Arabia",
          "Senegal",
          "Serbia",
          "Sierra Leone",
          "Singapore",
          "Slovakia",
          "Slovenia",
          "South Africa",
          "South Korea",
          "Spain",
          "Sri Lanka",
          "Sweden",
          "Switzerland",
          "Tajikistan",
          "Tanzania",
          "Thailand",
          "Togo",
          "Trinidad and Tobago",
          "Tunisia",
          "Turkey",
          "Uganda",
          "Ukraine",
          "United Arab Emirates",
          "United Kingdom",
          "United States",
          "Uruguay",
          "Venezuela",
          "Vietnam",
          "Yemen",
          "Zambia",
          "Zimbabwe"
         ],
         "legendgroup": "",
         "marker": {
          "color": "#636efa",
          "symbol": "circle"
         },
         "mode": "markers",
         "name": "",
         "orientation": "v",
         "showlegend": false,
         "type": "scatter",
         "x": [
          0.396573007,
          0.781994224,
          0.466610909,
          0.831132412,
          0.712017834,
          0.915431738,
          0.899989486,
          0.905855775,
          0.90062499,
          0.813582063,
          0.735182583,
          0.875873327,
          0.821328104,
          0.799804807,
          0.745178163,
          0.626350224,
          0.959704638,
          0.763051808,
          0.933913231,
          0.640880644,
          0.744896293,
          0.898517907,
          0.836179912,
          0.934738934,
          0.714838803,
          0.779858291,
          0.951444268,
          0.866202772,
          0.859828949,
          0.708354175,
          0.833805263,
          0.87770915,
          0.949172199,
          0.825467646,
          0.704829216,
          0.733163178,
          0.867371082,
          0.794796526,
          0.541345119,
          0.908147573,
          0.537825167,
          0.870603263,
          0.718964577,
          0.948891878,
          0.881444871,
          0.870614409,
          0.647873282,
          0.633182645,
          0.886982977,
          0.747580588,
          0.66465199,
          0.858068526,
          0.809961379,
          0.75104779,
          0.811601937,
          0.829747558,
          0.872366488,
          0.909374893,
          0.907213569,
          0.671237648,
          0.738125861,
          0.735268712,
          0.773157001,
          0.747381449,
          0.90563643,
          0.803223193,
          0.894626856,
          0.853962779,
          0.71156615,
          0.924911439,
          0.551522553,
          0.889534533,
          0.858709276,
          0.721609175,
          0.693351328,
          0.772072434,
          0.864451885,
          0.895075202,
          0.767520964,
          0.797565043,
          0.908547819,
          0.936217487,
          0.863902867,
          0.759772122,
          0.955750287,
          0.734833717,
          0.880366504,
          0.885923445,
          0.824766099,
          0.915463448,
          0.862055779,
          0.888747811,
          0.842823207,
          0.729892612,
          0.900589406,
          0.854191244,
          0.690596163,
          0.726495862,
          0.715315044,
          0.926645339,
          0.749952674,
          0.936142623,
          0.759330094,
          0.612965107,
          0.751989543,
          0.837633669,
          0.939144194,
          0.921336651,
          0.831383407,
          0.82153976,
          0.905063033,
          0.649828613,
          0.857907116,
          0.593361557,
          0.608830452,
          0.731713951,
          0.663081884,
          0.941345513,
          0.834743679,
          0.842619538,
          0.892395437,
          0.62327832,
          0.939592957,
          0.599920273,
          0.806500256,
          0.711457908
         ],
         "xaxis": "x",
         "y": [
          5.69,
          10.32,
          8.18,
          9.86,
          10.54,
          12.93,
          10.39,
          8.21,
          7.23,
          11.57,
          6.27,
          9.06,
          10.58,
          8,
          10.75,
          5.05,
          5.81,
          7.37,
          12.93,
          4.64,
          10.74,
          8.99,
          10.2,
          9.12,
          12.03,
          12.42,
          11.69,
          9.04,
          9.07,
          8.01,
          8.1,
          12.29,
          11.05,
          11.89,
          10.18,
          4.92,
          13.1,
          8.39,
          11.86,
          6.26,
          5.95,
          7.51,
          11.96,
          13.53,
          7.8,
          9.06,
          9.8,
          8.27,
          13.74,
          12.04,
          11.51,
          10.1,
          12.83,
          10.81,
          11.79,
          6.73,
          6.62,
          11.18,
          6.05,
          11.96,
          6.88,
          5.8,
          9.57,
          12.5,
          11.53,
          5.41,
          11.96,
          8.06,
          3.55,
          12.09,
          5.55,
          10.4,
          10.18,
          10.84,
          10,
          6.83,
          4.22,
          6.48,
          6.88,
          6.19,
          11.82,
          10.81,
          7.76,
          3.04,
          12.08,
          6.41,
          10.44,
          8.83,
          9.96,
          9.44,
          12.01,
          9.56,
          11.28,
          11.6,
          5.24,
          9.86,
          4.4,
          11.72,
          4.99,
          13.06,
          13.14,
          12.06,
          10.47,
          13.68,
          11.51,
          10.33,
          11.93,
          12.97,
          10.12,
          6.87,
          9.32,
          7.68,
          11.28,
          9.29,
          8.49,
          6.69,
          10.82,
          9.57,
          12.9,
          13.32,
          8.76,
          9.33,
          8.35,
          5.56,
          8.37,
          8.32
         ],
         "yaxis": "y"
        },
        {
         "hovertemplate": "<b>OLS trendline</b><br>Avg Ed. (Years) = 6.07342 * Freedom to make life choices + 4.54311<br>R<sup>2</sup>=0.070589<br><br>Freedom to make life choices=%{x}<br>Avg Ed. (Years)=%{y} <b>(trend)</b><extra></extra>",
         "legendgroup": "",
         "marker": {
          "color": "#636efa",
          "symbol": "circle"
         },
         "mode": "lines",
         "name": "",
         "showlegend": false,
         "type": "scatter",
         "x": [
          0.396573007,
          0.466610909,
          0.537825167,
          0.541345119,
          0.551522553,
          0.593361557,
          0.599920273,
          0.608830452,
          0.612965107,
          0.62327832,
          0.626350224,
          0.633182645,
          0.640880644,
          0.647873282,
          0.649828613,
          0.663081884,
          0.66465199,
          0.671237648,
          0.690596163,
          0.693351328,
          0.704829216,
          0.708354175,
          0.711457908,
          0.71156615,
          0.712017834,
          0.714838803,
          0.715315044,
          0.718964577,
          0.721609175,
          0.726495862,
          0.729892612,
          0.731713951,
          0.733163178,
          0.734833717,
          0.735182583,
          0.735268712,
          0.738125861,
          0.744896293,
          0.745178163,
          0.747381449,
          0.747580588,
          0.749952674,
          0.75104779,
          0.751989543,
          0.759330094,
          0.759772122,
          0.763051808,
          0.767520964,
          0.772072434,
          0.773157001,
          0.779858291,
          0.781994224,
          0.794796526,
          0.797565043,
          0.799804807,
          0.803223193,
          0.806500256,
          0.809961379,
          0.811601937,
          0.813582063,
          0.821328104,
          0.82153976,
          0.824766099,
          0.825467646,
          0.829747558,
          0.831132412,
          0.831383407,
          0.833805263,
          0.834743679,
          0.836179912,
          0.837633669,
          0.842619538,
          0.842823207,
          0.853962779,
          0.854191244,
          0.857907116,
          0.858068526,
          0.858709276,
          0.859828949,
          0.862055779,
          0.863902867,
          0.864451885,
          0.866202772,
          0.867371082,
          0.870603263,
          0.870614409,
          0.872366488,
          0.875873327,
          0.87770915,
          0.880366504,
          0.881444871,
          0.885923445,
          0.886982977,
          0.888747811,
          0.889534533,
          0.892395437,
          0.894626856,
          0.895075202,
          0.898517907,
          0.899989486,
          0.900589406,
          0.90062499,
          0.905063033,
          0.90563643,
          0.905855775,
          0.907213569,
          0.908147573,
          0.908547819,
          0.909374893,
          0.915431738,
          0.915463448,
          0.921336651,
          0.924911439,
          0.926645339,
          0.933913231,
          0.934738934,
          0.936142623,
          0.936217487,
          0.939144194,
          0.939592957,
          0.941345513,
          0.948891878,
          0.949172199,
          0.951444268,
          0.955750287,
          0.959704638
         ],
         "xaxis": "x",
         "y": [
          6.951662474694861,
          7.377032138304321,
          7.809546307127613,
          7.830924457463434,
          7.892736298671747,
          8.146842183471593,
          8.186676026847282,
          8.240791294947833,
          8.265902795382143,
          8.328539279618104,
          8.347196245829348,
          8.388692414895182,
          8.435445603548605,
          8.477914837904065,
          8.489790386228101,
          8.570283080412388,
          8.579818995138261,
          8.619816468622076,
          8.737388879822067,
          8.75412215674459,
          8.823832202563882,
          8.845240762518564,
          8.864091039646276,
          8.864748438880314,
          8.867491705963582,
          8.884624638280469,
          8.887517050362817,
          8.90968220066303,
          8.925743957647729,
          8.9554228650107,
          8.976052757734575,
          8.987114516234264,
          8.995916281905139,
          9.006062168520597,
          9.008180978605237,
          9.008704076281079,
          9.026056744969129,
          9.06717642874165,
          9.068888343914116,
          9.082269827337985,
          9.08347928231911,
          9.097885959204902,
          9.104537059698078,
          9.110256722129046,
          9.154838978598951,
          9.157523600729208,
          9.177442514499138,
          9.204585580325668,
          9.232228573726992,
          9.23881560570222,
          9.279515361001135,
          9.292487781301539,
          9.370241550898559,
          9.387055920138046,
          9.40065894981253,
          9.421420247072795,
          9.441323230259483,
          9.462344087312296,
          9.472307886693265,
          9.484334025490574,
          9.53137899343486,
          9.532664469426429,
          9.55225938440718,
          9.556520174677512,
          9.582513882023544,
          9.590924683365486,
          9.592449081665105,
          9.607158032713217,
          9.612857428138366,
          9.621580275776989,
          9.630409554044917,
          9.660690835447816,
          9.661927803025996,
          9.729583113352016,
          9.730970677476888,
          9.753538732451691,
          9.75451904333255,
          9.758410587827385,
          9.765210833319639,
          9.778735309367129,
          9.789953452383708,
          9.793287869824933,
          9.803921743669527,
          9.811017382138132,
          9.830647778044264,
          9.830715472394541,
          9.841356585756948,
          9.862655095323419,
          9.873804821252623,
          9.889944050795382,
          9.896493427560518,
          9.923693692865866,
          9.930128676746786,
          9.940847256593832,
          9.945625350496389,
          9.96300082488023,
          9.976553171856612,
          9.97927616586064,
          10.000185162645788,
          10.009122681422475,
          10.012766248138574,
          10.012982364750831,
          10.03993646823032,
          10.043418949601687,
          10.044751124127195,
          10.052997578697337,
          10.058670178189107,
          10.061101040643855,
          10.066124209229915,
          10.102909978743467,
          10.103102566922836,
          10.138773001260233,
          10.160484193709076,
          10.171014898351434,
          10.215155866126139,
          10.220170708052033,
          10.228695902278186,
          10.229150582866655,
          10.246925706571439,
          10.249651233192015,
          10.26029524357623,
          10.306127495112325,
          10.30783000255569,
          10.321629234095028,
          10.347781500242661,
          10.371797938580059
         ],
         "yaxis": "y"
        }
       ],
       "layout": {
        "legend": {
         "tracegroupgap": 0
        },
        "margin": {
         "t": 60
        },
        "template": {
         "data": {
          "bar": [
           {
            "error_x": {
             "color": "#2a3f5f"
            },
            "error_y": {
             "color": "#2a3f5f"
            },
            "marker": {
             "line": {
              "color": "#E5ECF6",
              "width": 0.5
             },
             "pattern": {
              "fillmode": "overlay",
              "size": 10,
              "solidity": 0.2
             }
            },
            "type": "bar"
           }
          ],
          "barpolar": [
           {
            "marker": {
             "line": {
              "color": "#E5ECF6",
              "width": 0.5
             },
             "pattern": {
              "fillmode": "overlay",
              "size": 10,
              "solidity": 0.2
             }
            },
            "type": "barpolar"
           }
          ],
          "carpet": [
           {
            "aaxis": {
             "endlinecolor": "#2a3f5f",
             "gridcolor": "white",
             "linecolor": "white",
             "minorgridcolor": "white",
             "startlinecolor": "#2a3f5f"
            },
            "baxis": {
             "endlinecolor": "#2a3f5f",
             "gridcolor": "white",
             "linecolor": "white",
             "minorgridcolor": "white",
             "startlinecolor": "#2a3f5f"
            },
            "type": "carpet"
           }
          ],
          "choropleth": [
           {
            "colorbar": {
             "outlinewidth": 0,
             "ticks": ""
            },
            "type": "choropleth"
           }
          ],
          "contour": [
           {
            "colorbar": {
             "outlinewidth": 0,
             "ticks": ""
            },
            "colorscale": [
             [
              0,
              "#0d0887"
             ],
             [
              0.1111111111111111,
              "#46039f"
             ],
             [
              0.2222222222222222,
              "#7201a8"
             ],
             [
              0.3333333333333333,
              "#9c179e"
             ],
             [
              0.4444444444444444,
              "#bd3786"
             ],
             [
              0.5555555555555556,
              "#d8576b"
             ],
             [
              0.6666666666666666,
              "#ed7953"
             ],
             [
              0.7777777777777778,
              "#fb9f3a"
             ],
             [
              0.8888888888888888,
              "#fdca26"
             ],
             [
              1,
              "#f0f921"
             ]
            ],
            "type": "contour"
           }
          ],
          "contourcarpet": [
           {
            "colorbar": {
             "outlinewidth": 0,
             "ticks": ""
            },
            "type": "contourcarpet"
           }
          ],
          "heatmap": [
           {
            "colorbar": {
             "outlinewidth": 0,
             "ticks": ""
            },
            "colorscale": [
             [
              0,
              "#0d0887"
             ],
             [
              0.1111111111111111,
              "#46039f"
             ],
             [
              0.2222222222222222,
              "#7201a8"
             ],
             [
              0.3333333333333333,
              "#9c179e"
             ],
             [
              0.4444444444444444,
              "#bd3786"
             ],
             [
              0.5555555555555556,
              "#d8576b"
             ],
             [
              0.6666666666666666,
              "#ed7953"
             ],
             [
              0.7777777777777778,
              "#fb9f3a"
             ],
             [
              0.8888888888888888,
              "#fdca26"
             ],
             [
              1,
              "#f0f921"
             ]
            ],
            "type": "heatmap"
           }
          ],
          "heatmapgl": [
           {
            "colorbar": {
             "outlinewidth": 0,
             "ticks": ""
            },
            "colorscale": [
             [
              0,
              "#0d0887"
             ],
             [
              0.1111111111111111,
              "#46039f"
             ],
             [
              0.2222222222222222,
              "#7201a8"
             ],
             [
              0.3333333333333333,
              "#9c179e"
             ],
             [
              0.4444444444444444,
              "#bd3786"
             ],
             [
              0.5555555555555556,
              "#d8576b"
             ],
             [
              0.6666666666666666,
              "#ed7953"
             ],
             [
              0.7777777777777778,
              "#fb9f3a"
             ],
             [
              0.8888888888888888,
              "#fdca26"
             ],
             [
              1,
              "#f0f921"
             ]
            ],
            "type": "heatmapgl"
           }
          ],
          "histogram": [
           {
            "marker": {
             "pattern": {
              "fillmode": "overlay",
              "size": 10,
              "solidity": 0.2
             }
            },
            "type": "histogram"
           }
          ],
          "histogram2d": [
           {
            "colorbar": {
             "outlinewidth": 0,
             "ticks": ""
            },
            "colorscale": [
             [
              0,
              "#0d0887"
             ],
             [
              0.1111111111111111,
              "#46039f"
             ],
             [
              0.2222222222222222,
              "#7201a8"
             ],
             [
              0.3333333333333333,
              "#9c179e"
             ],
             [
              0.4444444444444444,
              "#bd3786"
             ],
             [
              0.5555555555555556,
              "#d8576b"
             ],
             [
              0.6666666666666666,
              "#ed7953"
             ],
             [
              0.7777777777777778,
              "#fb9f3a"
             ],
             [
              0.8888888888888888,
              "#fdca26"
             ],
             [
              1,
              "#f0f921"
             ]
            ],
            "type": "histogram2d"
           }
          ],
          "histogram2dcontour": [
           {
            "colorbar": {
             "outlinewidth": 0,
             "ticks": ""
            },
            "colorscale": [
             [
              0,
              "#0d0887"
             ],
             [
              0.1111111111111111,
              "#46039f"
             ],
             [
              0.2222222222222222,
              "#7201a8"
             ],
             [
              0.3333333333333333,
              "#9c179e"
             ],
             [
              0.4444444444444444,
              "#bd3786"
             ],
             [
              0.5555555555555556,
              "#d8576b"
             ],
             [
              0.6666666666666666,
              "#ed7953"
             ],
             [
              0.7777777777777778,
              "#fb9f3a"
             ],
             [
              0.8888888888888888,
              "#fdca26"
             ],
             [
              1,
              "#f0f921"
             ]
            ],
            "type": "histogram2dcontour"
           }
          ],
          "mesh3d": [
           {
            "colorbar": {
             "outlinewidth": 0,
             "ticks": ""
            },
            "type": "mesh3d"
           }
          ],
          "parcoords": [
           {
            "line": {
             "colorbar": {
              "outlinewidth": 0,
              "ticks": ""
             }
            },
            "type": "parcoords"
           }
          ],
          "pie": [
           {
            "automargin": true,
            "type": "pie"
           }
          ],
          "scatter": [
           {
            "fillpattern": {
             "fillmode": "overlay",
             "size": 10,
             "solidity": 0.2
            },
            "type": "scatter"
           }
          ],
          "scatter3d": [
           {
            "line": {
             "colorbar": {
              "outlinewidth": 0,
              "ticks": ""
             }
            },
            "marker": {
             "colorbar": {
              "outlinewidth": 0,
              "ticks": ""
             }
            },
            "type": "scatter3d"
           }
          ],
          "scattercarpet": [
           {
            "marker": {
             "colorbar": {
              "outlinewidth": 0,
              "ticks": ""
             }
            },
            "type": "scattercarpet"
           }
          ],
          "scattergeo": [
           {
            "marker": {
             "colorbar": {
              "outlinewidth": 0,
              "ticks": ""
             }
            },
            "type": "scattergeo"
           }
          ],
          "scattergl": [
           {
            "marker": {
             "colorbar": {
              "outlinewidth": 0,
              "ticks": ""
             }
            },
            "type": "scattergl"
           }
          ],
          "scattermapbox": [
           {
            "marker": {
             "colorbar": {
              "outlinewidth": 0,
              "ticks": ""
             }
            },
            "type": "scattermapbox"
           }
          ],
          "scatterpolar": [
           {
            "marker": {
             "colorbar": {
              "outlinewidth": 0,
              "ticks": ""
             }
            },
            "type": "scatterpolar"
           }
          ],
          "scatterpolargl": [
           {
            "marker": {
             "colorbar": {
              "outlinewidth": 0,
              "ticks": ""
             }
            },
            "type": "scatterpolargl"
           }
          ],
          "scatterternary": [
           {
            "marker": {
             "colorbar": {
              "outlinewidth": 0,
              "ticks": ""
             }
            },
            "type": "scatterternary"
           }
          ],
          "surface": [
           {
            "colorbar": {
             "outlinewidth": 0,
             "ticks": ""
            },
            "colorscale": [
             [
              0,
              "#0d0887"
             ],
             [
              0.1111111111111111,
              "#46039f"
             ],
             [
              0.2222222222222222,
              "#7201a8"
             ],
             [
              0.3333333333333333,
              "#9c179e"
             ],
             [
              0.4444444444444444,
              "#bd3786"
             ],
             [
              0.5555555555555556,
              "#d8576b"
             ],
             [
              0.6666666666666666,
              "#ed7953"
             ],
             [
              0.7777777777777778,
              "#fb9f3a"
             ],
             [
              0.8888888888888888,
              "#fdca26"
             ],
             [
              1,
              "#f0f921"
             ]
            ],
            "type": "surface"
           }
          ],
          "table": [
           {
            "cells": {
             "fill": {
              "color": "#EBF0F8"
             },
             "line": {
              "color": "white"
             }
            },
            "header": {
             "fill": {
              "color": "#C8D4E3"
             },
             "line": {
              "color": "white"
             }
            },
            "type": "table"
           }
          ]
         },
         "layout": {
          "annotationdefaults": {
           "arrowcolor": "#2a3f5f",
           "arrowhead": 0,
           "arrowwidth": 1
          },
          "autotypenumbers": "strict",
          "coloraxis": {
           "colorbar": {
            "outlinewidth": 0,
            "ticks": ""
           }
          },
          "colorscale": {
           "diverging": [
            [
             0,
             "#8e0152"
            ],
            [
             0.1,
             "#c51b7d"
            ],
            [
             0.2,
             "#de77ae"
            ],
            [
             0.3,
             "#f1b6da"
            ],
            [
             0.4,
             "#fde0ef"
            ],
            [
             0.5,
             "#f7f7f7"
            ],
            [
             0.6,
             "#e6f5d0"
            ],
            [
             0.7,
             "#b8e186"
            ],
            [
             0.8,
             "#7fbc41"
            ],
            [
             0.9,
             "#4d9221"
            ],
            [
             1,
             "#276419"
            ]
           ],
           "sequential": [
            [
             0,
             "#0d0887"
            ],
            [
             0.1111111111111111,
             "#46039f"
            ],
            [
             0.2222222222222222,
             "#7201a8"
            ],
            [
             0.3333333333333333,
             "#9c179e"
            ],
            [
             0.4444444444444444,
             "#bd3786"
            ],
            [
             0.5555555555555556,
             "#d8576b"
            ],
            [
             0.6666666666666666,
             "#ed7953"
            ],
            [
             0.7777777777777778,
             "#fb9f3a"
            ],
            [
             0.8888888888888888,
             "#fdca26"
            ],
            [
             1,
             "#f0f921"
            ]
           ],
           "sequentialminus": [
            [
             0,
             "#0d0887"
            ],
            [
             0.1111111111111111,
             "#46039f"
            ],
            [
             0.2222222222222222,
             "#7201a8"
            ],
            [
             0.3333333333333333,
             "#9c179e"
            ],
            [
             0.4444444444444444,
             "#bd3786"
            ],
            [
             0.5555555555555556,
             "#d8576b"
            ],
            [
             0.6666666666666666,
             "#ed7953"
            ],
            [
             0.7777777777777778,
             "#fb9f3a"
            ],
            [
             0.8888888888888888,
             "#fdca26"
            ],
            [
             1,
             "#f0f921"
            ]
           ]
          },
          "colorway": [
           "#636efa",
           "#EF553B",
           "#00cc96",
           "#ab63fa",
           "#FFA15A",
           "#19d3f3",
           "#FF6692",
           "#B6E880",
           "#FF97FF",
           "#FECB52"
          ],
          "font": {
           "color": "#2a3f5f"
          },
          "geo": {
           "bgcolor": "white",
           "lakecolor": "white",
           "landcolor": "#E5ECF6",
           "showlakes": true,
           "showland": true,
           "subunitcolor": "white"
          },
          "hoverlabel": {
           "align": "left"
          },
          "hovermode": "closest",
          "mapbox": {
           "style": "light"
          },
          "paper_bgcolor": "white",
          "plot_bgcolor": "#E5ECF6",
          "polar": {
           "angularaxis": {
            "gridcolor": "white",
            "linecolor": "white",
            "ticks": ""
           },
           "bgcolor": "#E5ECF6",
           "radialaxis": {
            "gridcolor": "white",
            "linecolor": "white",
            "ticks": ""
           }
          },
          "scene": {
           "xaxis": {
            "backgroundcolor": "#E5ECF6",
            "gridcolor": "white",
            "gridwidth": 2,
            "linecolor": "white",
            "showbackground": true,
            "ticks": "",
            "zerolinecolor": "white"
           },
           "yaxis": {
            "backgroundcolor": "#E5ECF6",
            "gridcolor": "white",
            "gridwidth": 2,
            "linecolor": "white",
            "showbackground": true,
            "ticks": "",
            "zerolinecolor": "white"
           },
           "zaxis": {
            "backgroundcolor": "#E5ECF6",
            "gridcolor": "white",
            "gridwidth": 2,
            "linecolor": "white",
            "showbackground": true,
            "ticks": "",
            "zerolinecolor": "white"
           }
          },
          "shapedefaults": {
           "line": {
            "color": "#2a3f5f"
           }
          },
          "ternary": {
           "aaxis": {
            "gridcolor": "white",
            "linecolor": "white",
            "ticks": ""
           },
           "baxis": {
            "gridcolor": "white",
            "linecolor": "white",
            "ticks": ""
           },
           "bgcolor": "#E5ECF6",
           "caxis": {
            "gridcolor": "white",
            "linecolor": "white",
            "ticks": ""
           }
          },
          "title": {
           "x": 0.05
          },
          "xaxis": {
           "automargin": true,
           "gridcolor": "white",
           "linecolor": "white",
           "ticks": "",
           "title": {
            "standoff": 15
           },
           "zerolinecolor": "white",
           "zerolinewidth": 2
          },
          "yaxis": {
           "automargin": true,
           "gridcolor": "white",
           "linecolor": "white",
           "ticks": "",
           "title": {
            "standoff": 15
           },
           "zerolinecolor": "white",
           "zerolinewidth": 2
          }
         }
        },
        "title": {
         "text": "Perceived Freedom to Make Life Choices and average years of education achieved"
        },
        "xaxis": {
         "anchor": "y",
         "domain": [
          0,
          1
         ],
         "title": {
          "text": "Perceived Freedom to Make Life Choices"
         }
        },
        "yaxis": {
         "anchor": "x",
         "domain": [
          0,
          1
         ],
         "title": {
          "text": "Average Years of Education"
         }
        }
       }
      }
     },
     "metadata": {},
     "output_type": "display_data"
    }
   ],
   "source": [
    "# Create scatter plot with Plotly\n",
    "\n",
    "fig_freedom = px.scatter(happiness_edu_df, x=\"Freedom to make life choices\", y=\"Avg Ed. (Years)\", hover_name=\"Country name\", trendline=\"ols\")\n",
    "\n",
    "# Customize layout\n",
    "fig_freedom.update_layout(\n",
    "    title=\"Perceived Freedom to Make Life Choices and average years of education achieved\",\n",
    "    xaxis_title=\"Perceived Freedom to Make Life Choices\",\n",
    "    yaxis_title=\"Average Years of Education\"\n",
    ")\n",
    "\n",
    "# Show the plot\n",
    "fig_freedom.show()"
   ]
  },
  {
   "cell_type": "code",
   "execution_count": 28,
   "id": "96651ab4",
   "metadata": {},
   "outputs": [],
   "source": [
    "# Write dataframe to .csv\n",
    "\n",
    "# happiness_edu_df.to_csv(\"happiness_edu.csv\")"
   ]
  },
  {
   "cell_type": "code",
   "execution_count": 29,
   "id": "b45bb203",
   "metadata": {},
   "outputs": [],
   "source": [
    "# Write html files for each plot\n",
    "\n",
    "pio.write_html(fig_life,\"healthy_life_expectancy_avg_edu.html\")\n",
    "pio.write_html(fig_social,\"individual_social_support_avg_edu.html\")\n",
    "pio.write_html(fig_freedom,\"freedom_to_make_choices_avg_edu.html\")"
   ]
  },
  {
   "cell_type": "code",
   "execution_count": 30,
   "id": "e1523976",
   "metadata": {},
   "outputs": [],
   "source": [
    "# Create .png images for each plot\n",
    "\n",
    "# pio.write_image(fig_life,\"Life expectancy vs. avg edu.png\")\n",
    "# pio.write_image(fig_social,\"Social support vs. avg edu.png\")\n",
    "# pio.write_image(fig_freedom,\"freedom to make life choices vs. avg edu.png\")"
   ]
  },
  {
   "cell_type": "code",
   "execution_count": 31,
   "id": "4f035325",
   "metadata": {},
   "outputs": [
    {
     "name": "stdout",
     "output_type": "stream",
     "text": [
      "Requirement already satisfied: kaleido in /Users/mattzavala/anaconda3/envs/dev/lib/python3.10/site-packages (0.2.1)\n"
     ]
    }
   ],
   "source": [
    "# ! pip install -U kaleido"
   ]
  },
  {
   "cell_type": "code",
   "execution_count": null,
   "id": "950c0dd8",
   "metadata": {},
   "outputs": [],
   "source": [
    "# pio.write_image(fig_life,\"Life expectancy vs. avg edu.png\")\n",
    "# pio.write_image(fig_social,\"Social support vs. avg edu.png\")\n",
    "# pio.write_image(fig_freedom,\"freedom to make life choices vs. avg edu.png\")"
   ]
  },
  {
   "cell_type": "code",
   "execution_count": null,
   "id": "4d6857bf",
   "metadata": {},
   "outputs": [],
   "source": [
    "\n",
    "\n",
    "json_data_life = pio.to_json(fig_life)\n",
    "json_data_social = pio.to_json(fig_social)\n",
    "json_data_freedom = pio.to_json(fig_freedom)"
   ]
  },
  {
   "cell_type": "code",
   "execution_count": null,
   "id": "ba2c323b",
   "metadata": {},
   "outputs": [
    {
     "data": {
      "text/plain": [
       "'{\"data\":[{\"hovertemplate\":\"<b>%{hovertext}</b><br><br>Healthy life expectancy=%{x}<br>Avg Ed. (Years)=%{y}<extra></extra>\",\"hovertext\":[\"Afghanistan\",\"Albania\",\"Algeria\",\"Argentina\",\"Armenia\",\"Australia\",\"Austria\",\"Bahrain\",\"Bangladesh\",\"Belgium\",\"Benin\",\"Bolivia\",\"Botswana\",\"Brazil\",\"Bulgaria\",\"Burundi\",\"Cambodia\",\"Cameroon\",\"Canada\",\"Central African Republic\",\"Chile\",\"China\",\"Colombia\",\"Costa Rica\",\"Croatia\",\"Cyprus\",\"Denmark\",\"Dominican Republic\",\"Ecuador\",\"Egypt\",\"El Salvador\",\"Estonia\",\"Finland\",\"France\",\"Gabon\",\"Gambia\",\"Germany\",\"Ghana\",\"Greece\",\"Guatemala\",\"Haiti\",\"Honduras\",\"Hungary\",\"Iceland\",\"India\",\"Indonesia\",\"Iran\",\"Iraq\",\"Ireland\",\"Israel\",\"Italy\",\"Jamaica\",\"Japan\",\"Jordan\",\"Kazakhstan\",\"Kenya\",\"Kuwait\",\"Kyrgyzstan\",\"Laos\",\"Latvia\",\"Lesotho\",\"Liberia\",\"Libya\",\"Lithuania\",\"Luxembourg\",\"Malawi\",\"Malaysia\",\"Maldives\",\"Mali\",\"Malta\",\"Mauritania\",\"Mauritius\",\"Mexico\",\"Moldova\",\"Mongolia\",\"Morocco\",\"Mozambique\",\"Myanmar\",\"Namibia\",\"Nepal\",\"Netherlands\",\"New Zealand\",\"Nicaragua\",\"Niger\",\"Norway\",\"Pakistan\",\"Panama\",\"Paraguay\",\"Peru\",\"Philippines\",\"Poland\",\"Portugal\",\"Romania\",\"Russia\",\"Rwanda\",\"Saudi Arabia\",\"Senegal\",\"Serbia\",\"Sierra Leone\",\"Singapore\",\"Slovakia\",\"Slovenia\",\"South Africa\",\"South Korea\",\"Spain\",\"Sri Lanka\",\"Sweden\",\"Switzerland\",\"Tajikistan\",\"Tanzania\",\"Thailand\",\"Togo\",\"Trinidad and Tobago\",\"Tunisia\",\"Turkey\",\"Uganda\",\"Ukraine\",\"United Arab Emirates\",\"United Kingdom\",\"United States\",\"Uruguay\",\"Venezuela\",\"Vietnam\",\"Yemen\",\"Zambia\",\"Zimbabwe\"],\"legendgroup\":\"\",\"marker\":{\"color\":\"#636efa\",\"symbol\":\"circle\"},\"mode\":\"markers\",\"name\":\"\",\"orientation\":\"v\",\"showlegend\":false,\"x\":[52.59000015,68.70813751,65.90517426,68.80380249,66.75065613,73.60453796,73.00250244,68.5,64.50306702,72.00164795,54.31246567,63.6004715,58.92445374,66.48016357,66.80397797,53.40000153,61.52996826,52.7049408,73.60160065,45.20000076,69.90061951,69.2891922,67.69958496,71.29985046,70.21490479,73.70222473,72.40250397,65.80748749,68.50003815,61.78015137,66.10826111,68.60495758,71.9008255,73.80193329,59.71533966,55.0120163,72.20201874,57.20398712,72.40525818,64.8089447,55.59862518,67.19876862,67.60997009,73.0,60.21518707,62.15584946,66.00614929,59.90354919,72.30078888,73.20025635,73.60168457,67.09999847,75.00096893,66.79975128,64.60996246,60.09693146,66.76764679,64.10601044,58.70992279,66.8074646,48.00362396,56.09631348,62.29999924,67.29407501,72.59999847,57.59288788,67.10215759,70.59999847,51.72698212,72.19999695,57.01017761,66.40434265,68.29902649,65.01301575,62.30448532,65.89624023,54.20582199,58.96171188,56.50148773,63.77917862,72.30091858,73.20262909,67.50717926,53.50009537,73.20078278,58.25313568,69.60301208,65.63993835,68.10023499,61.92676163,69.31113434,72.40202332,67.20723724,64.10045624,61.09884644,66.30514526,59.59915161,68.21020508,50.86514282,76.80458069,68.90634155,71.1029892,56.50601196,73.6027298,74.40270996,67.20006561,72.60076904,74.10244751,64.10459137,57.49607468,67.25059509,54.71989822,63.5,66.89785767,66.90281677,55.70820236,64.60678101,67.08278656,72.30160522,68.29949951,69.00254822,66.50534058,67.9527359,56.72728348,55.29937744,55.61725998],\"xaxis\":\"x\",\"y\":[5.69,10.32,8.18,9.86,10.54,12.93,10.39,8.21,7.23,11.57,6.27,9.06,10.58,8.0,10.75,5.05,5.81,7.37,12.93,4.64,10.74,8.99,10.2,9.12,12.03,12.42,11.69,9.04,9.07,8.01,8.1,12.29,11.05,11.89,10.18,4.92,13.1,8.39,11.86,6.26,5.95,7.51,11.96,13.53,7.8,9.06,9.8,8.27,13.74,12.04,11.51,10.1,12.83,10.81,11.79,6.73,6.62,11.18,6.05,11.96,6.88,5.8,9.57,12.5,11.53,5.41,11.96,8.06,3.55,12.09,5.55,10.4,10.18,10.84,10.0,6.83,4.22,6.48,6.88,6.19,11.82,10.81,7.76,3.04,12.08,6.41,10.44,8.83,9.96,9.44,12.01,9.56,11.28,11.6,5.24,9.86,4.4,11.72,4.99,13.06,13.14,12.06,10.47,13.68,11.51,10.33,11.93,12.97,10.12,6.87,9.32,7.68,11.28,9.29,8.49,6.69,10.82,9.57,12.9,13.32,8.76,9.33,8.35,5.56,8.37,8.32],\"yaxis\":\"y\",\"type\":\"scatter\"},{\"hovertemplate\":\"<b>OLS trendline</b><br>Avg Ed. (Years) = 0.305135 * Healthy life expectancy + -10.4719<br>R<sup>2</sup>=0.628795<br><br>Healthy life expectancy=%{x}<br>Avg Ed. (Years)=%{y} <b>(trend)</b><extra></extra>\",\"legendgroup\":\"\",\"marker\":{\"color\":\"#636efa\",\"symbol\":\"circle\"},\"mode\":\"lines\",\"name\":\"\",\"showlegend\":false,\"x\":[45.20000076,48.00362396,50.86514282,51.72698212,52.59000015,52.7049408,53.40000153,53.50009537,54.20582199,54.31246567,54.71989822,55.0120163,55.29937744,55.59862518,55.61725998,55.70820236,56.09631348,56.50148773,56.50601196,56.72728348,57.01017761,57.20398712,57.49607468,57.59288788,58.25313568,58.70992279,58.92445374,58.96171188,59.59915161,59.71533966,59.90354919,60.09693146,60.21518707,61.09884644,61.52996826,61.78015137,61.92676163,62.15584946,62.29999924,62.30448532,63.5,63.6004715,63.77917862,64.10045624,64.10459137,64.10601044,64.50306702,64.60678101,64.60996246,64.8089447,65.01301575,65.63993835,65.80748749,65.89624023,65.90517426,66.00614929,66.10826111,66.30514526,66.40434265,66.48016357,66.50534058,66.75065613,66.76764679,66.79975128,66.80397797,66.8074646,66.89785767,66.90281677,67.08278656,67.09999847,67.10215759,67.19876862,67.20006561,67.20723724,67.25059509,67.29407501,67.50717926,67.60997009,67.69958496,67.9527359,68.10023499,68.21020508,68.29902649,68.29949951,68.5,68.50003815,68.60495758,68.70813751,68.80380249,68.90634155,69.00254822,69.2891922,69.31113434,69.60301208,69.90061951,70.21490479,70.59999847,71.1029892,71.29985046,71.9008255,72.00164795,72.19999695,72.20201874,72.30078888,72.30091858,72.30160522,72.40202332,72.40250397,72.40525818,72.59999847,72.60076904,73.0,73.00250244,73.20025635,73.20078278,73.20262909,73.60160065,73.60168457,73.6027298,73.60453796,73.70222473,73.80193329,74.10244751,74.40270996,75.00096893,76.80458069],\"xaxis\":\"x\",\"y\":[3.3202232627608836,4.175706260048193,5.048855237823441,5.311832398072363,5.575169229861096,5.610241621818815,5.822328836890048,5.852870950485482,6.068212699741604,6.100753397438837,6.225075246061863,6.3142106372371885,6.401894520489083,6.493205419024466,6.498891544948183,6.52664122965005,6.645067437643384,6.768700200353308,6.770080700358022,6.83759834079698,6.923919183857269,6.983057209437021,7.072183287898326,7.101724364071821,7.303188942798503,7.442570585090877,7.508031443068116,7.51940019807077,7.713905240977539,7.749358258081607,7.806787534898277,7.865795194687163,7.901879096293069,8.171514319182016,8.303064588408478,8.379404161006342,8.424140052997064,8.494042721604757,8.538027835529018,8.539396694641212,8.904189824383959,8.934847175187002,8.989376936052938,9.087409917560198,9.088671689615222,9.089104697252257,9.210260476370877,9.24190722370334,9.242877994804719,9.303594400305336,9.365863578814619,9.557159479388975,9.60828455228754,9.635366101631497,9.63809218506605,9.66890318039366,9.700061049907678,9.760137255141093,9.790405830647344,9.813541431714807,9.821223813561812,9.89607812422495,9.901262565822773,9.91105876287649,9.912348473073571,9.91341236521244,9.94099443631871,9.942507630292798,9.997422675713441,10.0026746283852,10.003333451029093,10.032812838100583,10.03320859488154,10.035396908749053,10.048626897527122,10.061894134109917,10.126919656271617,10.15828471536446,10.185629330571345,10.262874491375158,10.307881596327906,10.341437297466758,10.368539800417256,10.368684135279153,10.429863811686015,10.429875452578536,10.46189002160125,10.493373808643778,10.522564522940133,10.55385275824501,10.583208761009804,10.670673813790351,10.677369124235096,10.766431179313201,10.857241562188964,10.953140937446555,11.070646419496637,11.224126394019649,11.284195614717554,11.467574011826713,11.49833844968693,11.558861631628403,11.559478550110558,11.589616756774596,11.589656332757826,11.589865850515157,11.620506907120014,11.620653570160414,11.62149397547093,11.680916014417459,11.68115114213834,11.802970400257863,11.803733981780422,11.864075581055275,11.864236213166702,11.8647995865946,11.986539692747662,11.986565299659869,11.98688423570422,11.987435968239595,12.017243601018105,12.047668152278774,12.139365497932449,12.230986019798163,12.41353564943799,12.963880358522804],\"yaxis\":\"y\",\"type\":\"scatter\"}],\"layout\":{\"template\":{\"data\":{\"histogram2dcontour\":[{\"type\":\"histogram2dcontour\",\"colorbar\":{\"outlinewidth\":0,\"ticks\":\"\"},\"colorscale\":[[0.0,\"#0d0887\"],[0.1111111111111111,\"#46039f\"],[0.2222222222222222,\"#7201a8\"],[0.3333333333333333,\"#9c179e\"],[0.4444444444444444,\"#bd3786\"],[0.5555555555555556,\"#d8576b\"],[0.6666666666666666,\"#ed7953\"],[0.7777777777777778,\"#fb9f3a\"],[0.8888888888888888,\"#fdca26\"],[1.0,\"#f0f921\"]]}],\"choropleth\":[{\"type\":\"choropleth\",\"colorbar\":{\"outlinewidth\":0,\"ticks\":\"\"}}],\"histogram2d\":[{\"type\":\"histogram2d\",\"colorbar\":{\"outlinewidth\":0,\"ticks\":\"\"},\"colorscale\":[[0.0,\"#0d0887\"],[0.1111111111111111,\"#46039f\"],[0.2222222222222222,\"#7201a8\"],[0.3333333333333333,\"#9c179e\"],[0.4444444444444444,\"#bd3786\"],[0.5555555555555556,\"#d8576b\"],[0.6666666666666666,\"#ed7953\"],[0.7777777777777778,\"#fb9f3a\"],[0.8888888888888888,\"#fdca26\"],[1.0,\"#f0f921\"]]}],\"heatmap\":[{\"type\":\"heatmap\",\"colorbar\":{\"outlinewidth\":0,\"ticks\":\"\"},\"colorscale\":[[0.0,\"#0d0887\"],[0.1111111111111111,\"#46039f\"],[0.2222222222222222,\"#7201a8\"],[0.3333333333333333,\"#9c179e\"],[0.4444444444444444,\"#bd3786\"],[0.5555555555555556,\"#d8576b\"],[0.6666666666666666,\"#ed7953\"],[0.7777777777777778,\"#fb9f3a\"],[0.8888888888888888,\"#fdca26\"],[1.0,\"#f0f921\"]]}],\"heatmapgl\":[{\"type\":\"heatmapgl\",\"colorbar\":{\"outlinewidth\":0,\"ticks\":\"\"},\"colorscale\":[[0.0,\"#0d0887\"],[0.1111111111111111,\"#46039f\"],[0.2222222222222222,\"#7201a8\"],[0.3333333333333333,\"#9c179e\"],[0.4444444444444444,\"#bd3786\"],[0.5555555555555556,\"#d8576b\"],[0.6666666666666666,\"#ed7953\"],[0.7777777777777778,\"#fb9f3a\"],[0.8888888888888888,\"#fdca26\"],[1.0,\"#f0f921\"]]}],\"contourcarpet\":[{\"type\":\"contourcarpet\",\"colorbar\":{\"outlinewidth\":0,\"ticks\":\"\"}}],\"contour\":[{\"type\":\"contour\",\"colorbar\":{\"outlinewidth\":0,\"ticks\":\"\"},\"colorscale\":[[0.0,\"#0d0887\"],[0.1111111111111111,\"#46039f\"],[0.2222222222222222,\"#7201a8\"],[0.3333333333333333,\"#9c179e\"],[0.4444444444444444,\"#bd3786\"],[0.5555555555555556,\"#d8576b\"],[0.6666666666666666,\"#ed7953\"],[0.7777777777777778,\"#fb9f3a\"],[0.8888888888888888,\"#fdca26\"],[1.0,\"#f0f921\"]]}],\"surface\":[{\"type\":\"surface\",\"colorbar\":{\"outlinewidth\":0,\"ticks\":\"\"},\"colorscale\":[[0.0,\"#0d0887\"],[0.1111111111111111,\"#46039f\"],[0.2222222222222222,\"#7201a8\"],[0.3333333333333333,\"#9c179e\"],[0.4444444444444444,\"#bd3786\"],[0.5555555555555556,\"#d8576b\"],[0.6666666666666666,\"#ed7953\"],[0.7777777777777778,\"#fb9f3a\"],[0.8888888888888888,\"#fdca26\"],[1.0,\"#f0f921\"]]}],\"mesh3d\":[{\"type\":\"mesh3d\",\"colorbar\":{\"outlinewidth\":0,\"ticks\":\"\"}}],\"scatter\":[{\"fillpattern\":{\"fillmode\":\"overlay\",\"size\":10,\"solidity\":0.2},\"type\":\"scatter\"}],\"parcoords\":[{\"type\":\"parcoords\",\"line\":{\"colorbar\":{\"outlinewidth\":0,\"ticks\":\"\"}}}],\"scatterpolargl\":[{\"type\":\"scatterpolargl\",\"marker\":{\"colorbar\":{\"outlinewidth\":0,\"ticks\":\"\"}}}],\"bar\":[{\"error_x\":{\"color\":\"#2a3f5f\"},\"error_y\":{\"color\":\"#2a3f5f\"},\"marker\":{\"line\":{\"color\":\"#E5ECF6\",\"width\":0.5},\"pattern\":{\"fillmode\":\"overlay\",\"size\":10,\"solidity\":0.2}},\"type\":\"bar\"}],\"scattergeo\":[{\"type\":\"scattergeo\",\"marker\":{\"colorbar\":{\"outlinewidth\":0,\"ticks\":\"\"}}}],\"scatterpolar\":[{\"type\":\"scatterpolar\",\"marker\":{\"colorbar\":{\"outlinewidth\":0,\"ticks\":\"\"}}}],\"histogram\":[{\"marker\":{\"pattern\":{\"fillmode\":\"overlay\",\"size\":10,\"solidity\":0.2}},\"type\":\"histogram\"}],\"scattergl\":[{\"type\":\"scattergl\",\"marker\":{\"colorbar\":{\"outlinewidth\":0,\"ticks\":\"\"}}}],\"scatter3d\":[{\"type\":\"scatter3d\",\"line\":{\"colorbar\":{\"outlinewidth\":0,\"ticks\":\"\"}},\"marker\":{\"colorbar\":{\"outlinewidth\":0,\"ticks\":\"\"}}}],\"scattermapbox\":[{\"type\":\"scattermapbox\",\"marker\":{\"colorbar\":{\"outlinewidth\":0,\"ticks\":\"\"}}}],\"scatterternary\":[{\"type\":\"scatterternary\",\"marker\":{\"colorbar\":{\"outlinewidth\":0,\"ticks\":\"\"}}}],\"scattercarpet\":[{\"type\":\"scattercarpet\",\"marker\":{\"colorbar\":{\"outlinewidth\":0,\"ticks\":\"\"}}}],\"carpet\":[{\"aaxis\":{\"endlinecolor\":\"#2a3f5f\",\"gridcolor\":\"white\",\"linecolor\":\"white\",\"minorgridcolor\":\"white\",\"startlinecolor\":\"#2a3f5f\"},\"baxis\":{\"endlinecolor\":\"#2a3f5f\",\"gridcolor\":\"white\",\"linecolor\":\"white\",\"minorgridcolor\":\"white\",\"startlinecolor\":\"#2a3f5f\"},\"type\":\"carpet\"}],\"table\":[{\"cells\":{\"fill\":{\"color\":\"#EBF0F8\"},\"line\":{\"color\":\"white\"}},\"header\":{\"fill\":{\"color\":\"#C8D4E3\"},\"line\":{\"color\":\"white\"}},\"type\":\"table\"}],\"barpolar\":[{\"marker\":{\"line\":{\"color\":\"#E5ECF6\",\"width\":0.5},\"pattern\":{\"fillmode\":\"overlay\",\"size\":10,\"solidity\":0.2}},\"type\":\"barpolar\"}],\"pie\":[{\"automargin\":true,\"type\":\"pie\"}]},\"layout\":{\"autotypenumbers\":\"strict\",\"colorway\":[\"#636efa\",\"#EF553B\",\"#00cc96\",\"#ab63fa\",\"#FFA15A\",\"#19d3f3\",\"#FF6692\",\"#B6E880\",\"#FF97FF\",\"#FECB52\"],\"font\":{\"color\":\"#2a3f5f\"},\"hovermode\":\"closest\",\"hoverlabel\":{\"align\":\"left\"},\"paper_bgcolor\":\"white\",\"plot_bgcolor\":\"#E5ECF6\",\"polar\":{\"bgcolor\":\"#E5ECF6\",\"angularaxis\":{\"gridcolor\":\"white\",\"linecolor\":\"white\",\"ticks\":\"\"},\"radialaxis\":{\"gridcolor\":\"white\",\"linecolor\":\"white\",\"ticks\":\"\"}},\"ternary\":{\"bgcolor\":\"#E5ECF6\",\"aaxis\":{\"gridcolor\":\"white\",\"linecolor\":\"white\",\"ticks\":\"\"},\"baxis\":{\"gridcolor\":\"white\",\"linecolor\":\"white\",\"ticks\":\"\"},\"caxis\":{\"gridcolor\":\"white\",\"linecolor\":\"white\",\"ticks\":\"\"}},\"coloraxis\":{\"colorbar\":{\"outlinewidth\":0,\"ticks\":\"\"}},\"colorscale\":{\"sequential\":[[0.0,\"#0d0887\"],[0.1111111111111111,\"#46039f\"],[0.2222222222222222,\"#7201a8\"],[0.3333333333333333,\"#9c179e\"],[0.4444444444444444,\"#bd3786\"],[0.5555555555555556,\"#d8576b\"],[0.6666666666666666,\"#ed7953\"],[0.7777777777777778,\"#fb9f3a\"],[0.8888888888888888,\"#fdca26\"],[1.0,\"#f0f921\"]],\"sequentialminus\":[[0.0,\"#0d0887\"],[0.1111111111111111,\"#46039f\"],[0.2222222222222222,\"#7201a8\"],[0.3333333333333333,\"#9c179e\"],[0.4444444444444444,\"#bd3786\"],[0.5555555555555556,\"#d8576b\"],[0.6666666666666666,\"#ed7953\"],[0.7777777777777778,\"#fb9f3a\"],[0.8888888888888888,\"#fdca26\"],[1.0,\"#f0f921\"]],\"diverging\":[[0,\"#8e0152\"],[0.1,\"#c51b7d\"],[0.2,\"#de77ae\"],[0.3,\"#f1b6da\"],[0.4,\"#fde0ef\"],[0.5,\"#f7f7f7\"],[0.6,\"#e6f5d0\"],[0.7,\"#b8e186\"],[0.8,\"#7fbc41\"],[0.9,\"#4d9221\"],[1,\"#276419\"]]},\"xaxis\":{\"gridcolor\":\"white\",\"linecolor\":\"white\",\"ticks\":\"\",\"title\":{\"standoff\":15},\"zerolinecolor\":\"white\",\"automargin\":true,\"zerolinewidth\":2},\"yaxis\":{\"gridcolor\":\"white\",\"linecolor\":\"white\",\"ticks\":\"\",\"title\":{\"standoff\":15},\"zerolinecolor\":\"white\",\"automargin\":true,\"zerolinewidth\":2},\"scene\":{\"xaxis\":{\"backgroundcolor\":\"#E5ECF6\",\"gridcolor\":\"white\",\"linecolor\":\"white\",\"showbackground\":true,\"ticks\":\"\",\"zerolinecolor\":\"white\",\"gridwidth\":2},\"yaxis\":{\"backgroundcolor\":\"#E5ECF6\",\"gridcolor\":\"white\",\"linecolor\":\"white\",\"showbackground\":true,\"ticks\":\"\",\"zerolinecolor\":\"white\",\"gridwidth\":2},\"zaxis\":{\"backgroundcolor\":\"#E5ECF6\",\"gridcolor\":\"white\",\"linecolor\":\"white\",\"showbackground\":true,\"ticks\":\"\",\"zerolinecolor\":\"white\",\"gridwidth\":2}},\"shapedefaults\":{\"line\":{\"color\":\"#2a3f5f\"}},\"annotationdefaults\":{\"arrowcolor\":\"#2a3f5f\",\"arrowhead\":0,\"arrowwidth\":1},\"geo\":{\"bgcolor\":\"white\",\"landcolor\":\"#E5ECF6\",\"subunitcolor\":\"white\",\"showland\":true,\"showlakes\":true,\"lakecolor\":\"white\"},\"title\":{\"x\":0.05},\"mapbox\":{\"style\":\"light\"}}},\"xaxis\":{\"anchor\":\"y\",\"domain\":[0.0,1.0],\"title\":{\"text\":\"Healthy Life Expectancy\"}},\"yaxis\":{\"anchor\":\"x\",\"domain\":[0.0,1.0],\"title\":{\"text\":\"Average Years of Education\"}},\"legend\":{\"tracegroupgap\":0},\"margin\":{\"t\":60},\"title\":{\"text\":\"Life Expectancy and average years of education achieved\"}}}'"
      ]
     },
     "execution_count": 39,
     "metadata": {},
     "output_type": "execute_result"
    }
   ],
   "source": [
    "json_data_life"
   ]
  },
  {
   "cell_type": "code",
   "execution_count": null,
   "id": "3970aae9",
   "metadata": {},
   "outputs": [
    {
     "data": {
      "text/plain": [
       "'{\"data\":[{\"hovertemplate\":\"<b>%{hovertext}</b><br><br>Social support=%{x}<br>Avg Ed. (Years)=%{y}<extra></extra>\",\"hovertext\":[\"Afghanistan\",\"Albania\",\"Algeria\",\"Argentina\",\"Armenia\",\"Australia\",\"Austria\",\"Bahrain\",\"Bangladesh\",\"Belgium\",\"Benin\",\"Bolivia\",\"Botswana\",\"Brazil\",\"Bulgaria\",\"Burundi\",\"Cambodia\",\"Cameroon\",\"Canada\",\"Central African Republic\",\"Chile\",\"China\",\"Colombia\",\"Costa Rica\",\"Croatia\",\"Cyprus\",\"Denmark\",\"Dominican Republic\",\"Ecuador\",\"Egypt\",\"El Salvador\",\"Estonia\",\"Finland\",\"France\",\"Gabon\",\"Gambia\",\"Germany\",\"Ghana\",\"Greece\",\"Guatemala\",\"Haiti\",\"Honduras\",\"Hungary\",\"Iceland\",\"India\",\"Indonesia\",\"Iran\",\"Iraq\",\"Ireland\",\"Israel\",\"Italy\",\"Jamaica\",\"Japan\",\"Jordan\",\"Kazakhstan\",\"Kenya\",\"Kuwait\",\"Kyrgyzstan\",\"Laos\",\"Latvia\",\"Lesotho\",\"Liberia\",\"Libya\",\"Lithuania\",\"Luxembourg\",\"Malawi\",\"Malaysia\",\"Maldives\",\"Mali\",\"Malta\",\"Mauritania\",\"Mauritius\",\"Mexico\",\"Moldova\",\"Mongolia\",\"Morocco\",\"Mozambique\",\"Myanmar\",\"Namibia\",\"Nepal\",\"Netherlands\",\"New Zealand\",\"Nicaragua\",\"Niger\",\"Norway\",\"Pakistan\",\"Panama\",\"Paraguay\",\"Peru\",\"Philippines\",\"Poland\",\"Portugal\",\"Romania\",\"Russia\",\"Rwanda\",\"Saudi Arabia\",\"Senegal\",\"Serbia\",\"Sierra Leone\",\"Singapore\",\"Slovakia\",\"Slovenia\",\"South Africa\",\"South Korea\",\"Spain\",\"Sri Lanka\",\"Sweden\",\"Switzerland\",\"Tajikistan\",\"Tanzania\",\"Thailand\",\"Togo\",\"Trinidad and Tobago\",\"Tunisia\",\"Turkey\",\"Uganda\",\"Ukraine\",\"United Arab Emirates\",\"United Kingdom\",\"United States\",\"Uruguay\",\"Venezuela\",\"Vietnam\",\"Yemen\",\"Zambia\",\"Zimbabwe\"],\"legendgroup\":\"\",\"marker\":{\"color\":\"#636efa\",\"symbol\":\"circle\"},\"mode\":\"markers\",\"name\":\"\",\"orientation\":\"v\",\"showlegend\":false,\"x\":[0.470366955,0.671070457,0.803385139,0.900567949,0.757479429,0.944854617,0.928045869,0.876342118,0.687292993,0.911632538,0.468671143,0.803108692,0.779121757,0.896723807,0.937840343,0.490325719,0.773080647,0.700386405,0.927176654,0.319459856,0.879713595,0.798760593,0.884440243,0.901545942,0.874623716,0.805996239,0.955990791,0.882085383,0.836418986,0.735447824,0.806092262,0.934729993,0.954329729,0.937103748,0.787886858,0.6931687,0.898874462,0.728601098,0.814380348,0.816621482,0.593247831,0.821870148,0.921934128,0.974669576,0.592200935,0.808379889,0.694689691,0.747694969,0.942081571,0.913571239,0.889878571,0.915701866,0.883545935,0.80216372,0.934744895,0.702652037,0.846475244,0.887228489,0.737502217,0.918288589,0.780495703,0.70928055,0.825942934,0.926107109,0.906912208,0.544007301,0.816509426,0.91316092,0.731468976,0.93037951,0.790819228,0.910357833,0.838665426,0.843313575,0.937142491,0.592628479,0.723874032,0.78440702,0.846880972,0.785512447,0.93913883,0.949118972,0.857497036,0.617435038,0.952486575,0.689062297,0.902094483,0.898727894,0.831075251,0.846730053,0.874257445,0.886590719,0.825161517,0.903150737,0.54083544,0.874067068,0.723616004,0.881475747,0.636142015,0.910268962,0.922493756,0.939575672,0.852532268,0.799387157,0.921125412,0.825374067,0.926311195,0.942846596,0.835297108,0.688933194,0.889973223,0.551312625,0.91529417,0.688718557,0.826313555,0.764994621,0.878879368,0.849181116,0.93668282,0.914219022,0.92281127,0.890408158,0.849987149,0.817980587,0.698824465,0.763092756],\"xaxis\":\"x\",\"y\":[5.69,10.32,8.18,9.86,10.54,12.93,10.39,8.21,7.23,11.57,6.27,9.06,10.58,8.0,10.75,5.05,5.81,7.37,12.93,4.64,10.74,8.99,10.2,9.12,12.03,12.42,11.69,9.04,9.07,8.01,8.1,12.29,11.05,11.89,10.18,4.92,13.1,8.39,11.86,6.26,5.95,7.51,11.96,13.53,7.8,9.06,9.8,8.27,13.74,12.04,11.51,10.1,12.83,10.81,11.79,6.73,6.62,11.18,6.05,11.96,6.88,5.8,9.57,12.5,11.53,5.41,11.96,8.06,3.55,12.09,5.55,10.4,10.18,10.84,10.0,6.83,4.22,6.48,6.88,6.19,11.82,10.81,7.76,3.04,12.08,6.41,10.44,8.83,9.96,9.44,12.01,9.56,11.28,11.6,5.24,9.86,4.4,11.72,4.99,13.06,13.14,12.06,10.47,13.68,11.51,10.33,11.93,12.97,10.12,6.87,9.32,7.68,11.28,9.29,8.49,6.69,10.82,9.57,12.9,13.32,8.76,9.33,8.35,5.56,8.37,8.32],\"yaxis\":\"y\",\"type\":\"scatter\"},{\"hovertemplate\":\"<b>OLS trendline</b><br>Avg Ed. (Years) = 15.2831 * Social support + -3.09289<br>R<sup>2</sup>=0.524172<br><br>Social support=%{x}<br>Avg Ed. (Years)=%{y} <b>(trend)</b><extra></extra>\",\"legendgroup\":\"\",\"marker\":{\"color\":\"#636efa\",\"symbol\":\"circle\"},\"mode\":\"lines\",\"name\":\"\",\"showlegend\":false,\"x\":[0.319459856,0.468671143,0.470366955,0.490325719,0.54083544,0.544007301,0.551312625,0.592200935,0.592628479,0.593247831,0.617435038,0.636142015,0.671070457,0.687292993,0.688718557,0.688933194,0.689062297,0.6931687,0.694689691,0.698824465,0.700386405,0.702652037,0.70928055,0.723616004,0.723874032,0.728601098,0.731468976,0.735447824,0.737502217,0.747694969,0.757479429,0.763092756,0.764994621,0.773080647,0.779121757,0.780495703,0.78440702,0.785512447,0.787886858,0.790819228,0.798760593,0.799387157,0.80216372,0.803108692,0.803385139,0.805996239,0.806092262,0.808379889,0.814380348,0.816509426,0.816621482,0.817980587,0.821870148,0.825161517,0.825374067,0.825942934,0.826313555,0.831075251,0.835297108,0.836418986,0.838665426,0.843313575,0.846475244,0.846730053,0.846880972,0.849181116,0.849987149,0.852532268,0.857497036,0.874067068,0.874257445,0.874623716,0.876342118,0.878879368,0.879713595,0.881475747,0.882085383,0.883545935,0.884440243,0.886590719,0.887228489,0.889878571,0.889973223,0.890408158,0.896723807,0.898727894,0.898874462,0.900567949,0.901545942,0.902094483,0.903150737,0.906912208,0.910268962,0.910357833,0.911632538,0.91316092,0.913571239,0.914219022,0.91529417,0.915701866,0.918288589,0.921125412,0.921934128,0.922493756,0.92281127,0.926107109,0.926311195,0.927176654,0.928045869,0.93037951,0.934729993,0.934744895,0.93668282,0.937103748,0.937142491,0.937840343,0.93913883,0.939575672,0.942081571,0.942846596,0.944854617,0.949118972,0.952486575,0.954329729,0.955990791,0.974669576],\"xaxis\":\"x\",\"y\":[1.7894573044872537,4.069872332560906,4.095789642486579,4.400821964655179,5.172768438330507,5.221244392373856,5.332892585814792,5.957793814610803,5.964328023800774,5.973793658987389,6.3434498119426825,6.629350914589348,7.163166724676148,7.411097800345147,7.4328848758033255,7.436165200303043,7.438138297829972,7.500896975814745,7.524142474219734,7.587334749796635,7.6112060769633905,7.645832018236081,7.747136423304187,7.966226985373118,7.970170460030393,8.042414809381096,8.086244952672345,8.147054191410568,8.178451740248608,8.334228862110898,8.483766005541511,8.569555194185742,8.598621638250176,8.72220139939649,8.81452844989801,8.835526640913962,8.895303794812243,8.912198175887038,8.948486600416366,8.993302383125034,9.11467127185674,9.124247128954266,9.166681693516352,9.181123820470923,9.185348795041818,9.225254567584368,9.226722099274788,9.26168419292275,9.35338996903431,9.385928938201843,9.3876415042652,9.408412878395431,9.46785753258576,9.518159942553819,9.521408371167784,9.530102437694904,9.535766685454657,9.608540289488499,9.673063465601697,9.690209269396455,9.724541896898462,9.795580147726803,9.843900336141196,9.847794614413111,9.850101128635604,9.885254521182464,9.89757322577432,9.93647060232356,10.012347781494991,10.265589682615122,10.268499238457231,10.274097004615147,10.300359560376574,10.33913667400056,10.351886271071084,10.378817463632611,10.388134607958662,10.410456409459396,10.42412423207476,10.456990229590833,10.466737349407943,10.507238888801727,10.508685467325222,10.51533263410581,10.61185549897218,10.642484214830432,10.64472423216796,10.670606008823686,10.68555279991028,10.693936221600854,10.710079085478593,10.767566123949504,10.818867821167263,10.820226047934383,10.839707526157682,10.863065982153287,10.869336939483105,10.879237089249461,10.895668712526078,10.901899582214146,10.941432797973242,10.984788323759872,10.997148032981091,11.005700898699157,11.01055350544079,11.060924230985911,11.064043303214135,11.077270222902737,11.090554546015817,11.12621987746309,11.192708861051702,11.19293661020816,11.222554163827144,11.22898725984981,11.229579374033726,11.240244734678804,11.260089676225068,11.26676598792858,11.305063960242393,11.316755934367997,11.347444774047315,11.412617452485783,11.464084956346841,11.492254112750231,11.517640334017539,11.803110574751788],\"yaxis\":\"y\",\"type\":\"scatter\"}],\"layout\":{\"template\":{\"data\":{\"histogram2dcontour\":[{\"type\":\"histogram2dcontour\",\"colorbar\":{\"outlinewidth\":0,\"ticks\":\"\"},\"colorscale\":[[0.0,\"#0d0887\"],[0.1111111111111111,\"#46039f\"],[0.2222222222222222,\"#7201a8\"],[0.3333333333333333,\"#9c179e\"],[0.4444444444444444,\"#bd3786\"],[0.5555555555555556,\"#d8576b\"],[0.6666666666666666,\"#ed7953\"],[0.7777777777777778,\"#fb9f3a\"],[0.8888888888888888,\"#fdca26\"],[1.0,\"#f0f921\"]]}],\"choropleth\":[{\"type\":\"choropleth\",\"colorbar\":{\"outlinewidth\":0,\"ticks\":\"\"}}],\"histogram2d\":[{\"type\":\"histogram2d\",\"colorbar\":{\"outlinewidth\":0,\"ticks\":\"\"},\"colorscale\":[[0.0,\"#0d0887\"],[0.1111111111111111,\"#46039f\"],[0.2222222222222222,\"#7201a8\"],[0.3333333333333333,\"#9c179e\"],[0.4444444444444444,\"#bd3786\"],[0.5555555555555556,\"#d8576b\"],[0.6666666666666666,\"#ed7953\"],[0.7777777777777778,\"#fb9f3a\"],[0.8888888888888888,\"#fdca26\"],[1.0,\"#f0f921\"]]}],\"heatmap\":[{\"type\":\"heatmap\",\"colorbar\":{\"outlinewidth\":0,\"ticks\":\"\"},\"colorscale\":[[0.0,\"#0d0887\"],[0.1111111111111111,\"#46039f\"],[0.2222222222222222,\"#7201a8\"],[0.3333333333333333,\"#9c179e\"],[0.4444444444444444,\"#bd3786\"],[0.5555555555555556,\"#d8576b\"],[0.6666666666666666,\"#ed7953\"],[0.7777777777777778,\"#fb9f3a\"],[0.8888888888888888,\"#fdca26\"],[1.0,\"#f0f921\"]]}],\"heatmapgl\":[{\"type\":\"heatmapgl\",\"colorbar\":{\"outlinewidth\":0,\"ticks\":\"\"},\"colorscale\":[[0.0,\"#0d0887\"],[0.1111111111111111,\"#46039f\"],[0.2222222222222222,\"#7201a8\"],[0.3333333333333333,\"#9c179e\"],[0.4444444444444444,\"#bd3786\"],[0.5555555555555556,\"#d8576b\"],[0.6666666666666666,\"#ed7953\"],[0.7777777777777778,\"#fb9f3a\"],[0.8888888888888888,\"#fdca26\"],[1.0,\"#f0f921\"]]}],\"contourcarpet\":[{\"type\":\"contourcarpet\",\"colorbar\":{\"outlinewidth\":0,\"ticks\":\"\"}}],\"contour\":[{\"type\":\"contour\",\"colorbar\":{\"outlinewidth\":0,\"ticks\":\"\"},\"colorscale\":[[0.0,\"#0d0887\"],[0.1111111111111111,\"#46039f\"],[0.2222222222222222,\"#7201a8\"],[0.3333333333333333,\"#9c179e\"],[0.4444444444444444,\"#bd3786\"],[0.5555555555555556,\"#d8576b\"],[0.6666666666666666,\"#ed7953\"],[0.7777777777777778,\"#fb9f3a\"],[0.8888888888888888,\"#fdca26\"],[1.0,\"#f0f921\"]]}],\"surface\":[{\"type\":\"surface\",\"colorbar\":{\"outlinewidth\":0,\"ticks\":\"\"},\"colorscale\":[[0.0,\"#0d0887\"],[0.1111111111111111,\"#46039f\"],[0.2222222222222222,\"#7201a8\"],[0.3333333333333333,\"#9c179e\"],[0.4444444444444444,\"#bd3786\"],[0.5555555555555556,\"#d8576b\"],[0.6666666666666666,\"#ed7953\"],[0.7777777777777778,\"#fb9f3a\"],[0.8888888888888888,\"#fdca26\"],[1.0,\"#f0f921\"]]}],\"mesh3d\":[{\"type\":\"mesh3d\",\"colorbar\":{\"outlinewidth\":0,\"ticks\":\"\"}}],\"scatter\":[{\"fillpattern\":{\"fillmode\":\"overlay\",\"size\":10,\"solidity\":0.2},\"type\":\"scatter\"}],\"parcoords\":[{\"type\":\"parcoords\",\"line\":{\"colorbar\":{\"outlinewidth\":0,\"ticks\":\"\"}}}],\"scatterpolargl\":[{\"type\":\"scatterpolargl\",\"marker\":{\"colorbar\":{\"outlinewidth\":0,\"ticks\":\"\"}}}],\"bar\":[{\"error_x\":{\"color\":\"#2a3f5f\"},\"error_y\":{\"color\":\"#2a3f5f\"},\"marker\":{\"line\":{\"color\":\"#E5ECF6\",\"width\":0.5},\"pattern\":{\"fillmode\":\"overlay\",\"size\":10,\"solidity\":0.2}},\"type\":\"bar\"}],\"scattergeo\":[{\"type\":\"scattergeo\",\"marker\":{\"colorbar\":{\"outlinewidth\":0,\"ticks\":\"\"}}}],\"scatterpolar\":[{\"type\":\"scatterpolar\",\"marker\":{\"colorbar\":{\"outlinewidth\":0,\"ticks\":\"\"}}}],\"histogram\":[{\"marker\":{\"pattern\":{\"fillmode\":\"overlay\",\"size\":10,\"solidity\":0.2}},\"type\":\"histogram\"}],\"scattergl\":[{\"type\":\"scattergl\",\"marker\":{\"colorbar\":{\"outlinewidth\":0,\"ticks\":\"\"}}}],\"scatter3d\":[{\"type\":\"scatter3d\",\"line\":{\"colorbar\":{\"outlinewidth\":0,\"ticks\":\"\"}},\"marker\":{\"colorbar\":{\"outlinewidth\":0,\"ticks\":\"\"}}}],\"scattermapbox\":[{\"type\":\"scattermapbox\",\"marker\":{\"colorbar\":{\"outlinewidth\":0,\"ticks\":\"\"}}}],\"scatterternary\":[{\"type\":\"scatterternary\",\"marker\":{\"colorbar\":{\"outlinewidth\":0,\"ticks\":\"\"}}}],\"scattercarpet\":[{\"type\":\"scattercarpet\",\"marker\":{\"colorbar\":{\"outlinewidth\":0,\"ticks\":\"\"}}}],\"carpet\":[{\"aaxis\":{\"endlinecolor\":\"#2a3f5f\",\"gridcolor\":\"white\",\"linecolor\":\"white\",\"minorgridcolor\":\"white\",\"startlinecolor\":\"#2a3f5f\"},\"baxis\":{\"endlinecolor\":\"#2a3f5f\",\"gridcolor\":\"white\",\"linecolor\":\"white\",\"minorgridcolor\":\"white\",\"startlinecolor\":\"#2a3f5f\"},\"type\":\"carpet\"}],\"table\":[{\"cells\":{\"fill\":{\"color\":\"#EBF0F8\"},\"line\":{\"color\":\"white\"}},\"header\":{\"fill\":{\"color\":\"#C8D4E3\"},\"line\":{\"color\":\"white\"}},\"type\":\"table\"}],\"barpolar\":[{\"marker\":{\"line\":{\"color\":\"#E5ECF6\",\"width\":0.5},\"pattern\":{\"fillmode\":\"overlay\",\"size\":10,\"solidity\":0.2}},\"type\":\"barpolar\"}],\"pie\":[{\"automargin\":true,\"type\":\"pie\"}]},\"layout\":{\"autotypenumbers\":\"strict\",\"colorway\":[\"#636efa\",\"#EF553B\",\"#00cc96\",\"#ab63fa\",\"#FFA15A\",\"#19d3f3\",\"#FF6692\",\"#B6E880\",\"#FF97FF\",\"#FECB52\"],\"font\":{\"color\":\"#2a3f5f\"},\"hovermode\":\"closest\",\"hoverlabel\":{\"align\":\"left\"},\"paper_bgcolor\":\"white\",\"plot_bgcolor\":\"#E5ECF6\",\"polar\":{\"bgcolor\":\"#E5ECF6\",\"angularaxis\":{\"gridcolor\":\"white\",\"linecolor\":\"white\",\"ticks\":\"\"},\"radialaxis\":{\"gridcolor\":\"white\",\"linecolor\":\"white\",\"ticks\":\"\"}},\"ternary\":{\"bgcolor\":\"#E5ECF6\",\"aaxis\":{\"gridcolor\":\"white\",\"linecolor\":\"white\",\"ticks\":\"\"},\"baxis\":{\"gridcolor\":\"white\",\"linecolor\":\"white\",\"ticks\":\"\"},\"caxis\":{\"gridcolor\":\"white\",\"linecolor\":\"white\",\"ticks\":\"\"}},\"coloraxis\":{\"colorbar\":{\"outlinewidth\":0,\"ticks\":\"\"}},\"colorscale\":{\"sequential\":[[0.0,\"#0d0887\"],[0.1111111111111111,\"#46039f\"],[0.2222222222222222,\"#7201a8\"],[0.3333333333333333,\"#9c179e\"],[0.4444444444444444,\"#bd3786\"],[0.5555555555555556,\"#d8576b\"],[0.6666666666666666,\"#ed7953\"],[0.7777777777777778,\"#fb9f3a\"],[0.8888888888888888,\"#fdca26\"],[1.0,\"#f0f921\"]],\"sequentialminus\":[[0.0,\"#0d0887\"],[0.1111111111111111,\"#46039f\"],[0.2222222222222222,\"#7201a8\"],[0.3333333333333333,\"#9c179e\"],[0.4444444444444444,\"#bd3786\"],[0.5555555555555556,\"#d8576b\"],[0.6666666666666666,\"#ed7953\"],[0.7777777777777778,\"#fb9f3a\"],[0.8888888888888888,\"#fdca26\"],[1.0,\"#f0f921\"]],\"diverging\":[[0,\"#8e0152\"],[0.1,\"#c51b7d\"],[0.2,\"#de77ae\"],[0.3,\"#f1b6da\"],[0.4,\"#fde0ef\"],[0.5,\"#f7f7f7\"],[0.6,\"#e6f5d0\"],[0.7,\"#b8e186\"],[0.8,\"#7fbc41\"],[0.9,\"#4d9221\"],[1,\"#276419\"]]},\"xaxis\":{\"gridcolor\":\"white\",\"linecolor\":\"white\",\"ticks\":\"\",\"title\":{\"standoff\":15},\"zerolinecolor\":\"white\",\"automargin\":true,\"zerolinewidth\":2},\"yaxis\":{\"gridcolor\":\"white\",\"linecolor\":\"white\",\"ticks\":\"\",\"title\":{\"standoff\":15},\"zerolinecolor\":\"white\",\"automargin\":true,\"zerolinewidth\":2},\"scene\":{\"xaxis\":{\"backgroundcolor\":\"#E5ECF6\",\"gridcolor\":\"white\",\"linecolor\":\"white\",\"showbackground\":true,\"ticks\":\"\",\"zerolinecolor\":\"white\",\"gridwidth\":2},\"yaxis\":{\"backgroundcolor\":\"#E5ECF6\",\"gridcolor\":\"white\",\"linecolor\":\"white\",\"showbackground\":true,\"ticks\":\"\",\"zerolinecolor\":\"white\",\"gridwidth\":2},\"zaxis\":{\"backgroundcolor\":\"#E5ECF6\",\"gridcolor\":\"white\",\"linecolor\":\"white\",\"showbackground\":true,\"ticks\":\"\",\"zerolinecolor\":\"white\",\"gridwidth\":2}},\"shapedefaults\":{\"line\":{\"color\":\"#2a3f5f\"}},\"annotationdefaults\":{\"arrowcolor\":\"#2a3f5f\",\"arrowhead\":0,\"arrowwidth\":1},\"geo\":{\"bgcolor\":\"white\",\"landcolor\":\"#E5ECF6\",\"subunitcolor\":\"white\",\"showland\":true,\"showlakes\":true,\"lakecolor\":\"white\"},\"title\":{\"x\":0.05},\"mapbox\":{\"style\":\"light\"}}},\"xaxis\":{\"anchor\":\"y\",\"domain\":[0.0,1.0],\"title\":{\"text\":\"Perceived Social Support\"}},\"yaxis\":{\"anchor\":\"x\",\"domain\":[0.0,1.0],\"title\":{\"text\":\"Average Years of Education\"}},\"legend\":{\"tracegroupgap\":0},\"margin\":{\"t\":60},\"title\":{\"text\":\"Perceived Social Support and average years of education achieved\"}}}'"
      ]
     },
     "execution_count": 40,
     "metadata": {},
     "output_type": "execute_result"
    }
   ],
   "source": [
    "json_data_social"
   ]
  },
  {
   "cell_type": "code",
   "execution_count": null,
   "id": "52d04031",
   "metadata": {},
   "outputs": [
    {
     "data": {
      "text/plain": [
       "'{\"data\":[{\"hovertemplate\":\"<b>%{hovertext}</b><br><br>Freedom to make life choices=%{x}<br>Avg Ed. (Years)=%{y}<extra></extra>\",\"hovertext\":[\"Afghanistan\",\"Albania\",\"Algeria\",\"Argentina\",\"Armenia\",\"Australia\",\"Austria\",\"Bahrain\",\"Bangladesh\",\"Belgium\",\"Benin\",\"Bolivia\",\"Botswana\",\"Brazil\",\"Bulgaria\",\"Burundi\",\"Cambodia\",\"Cameroon\",\"Canada\",\"Central African Republic\",\"Chile\",\"China\",\"Colombia\",\"Costa Rica\",\"Croatia\",\"Cyprus\",\"Denmark\",\"Dominican Republic\",\"Ecuador\",\"Egypt\",\"El Salvador\",\"Estonia\",\"Finland\",\"France\",\"Gabon\",\"Gambia\",\"Germany\",\"Ghana\",\"Greece\",\"Guatemala\",\"Haiti\",\"Honduras\",\"Hungary\",\"Iceland\",\"India\",\"Indonesia\",\"Iran\",\"Iraq\",\"Ireland\",\"Israel\",\"Italy\",\"Jamaica\",\"Japan\",\"Jordan\",\"Kazakhstan\",\"Kenya\",\"Kuwait\",\"Kyrgyzstan\",\"Laos\",\"Latvia\",\"Lesotho\",\"Liberia\",\"Libya\",\"Lithuania\",\"Luxembourg\",\"Malawi\",\"Malaysia\",\"Maldives\",\"Mali\",\"Malta\",\"Mauritania\",\"Mauritius\",\"Mexico\",\"Moldova\",\"Mongolia\",\"Morocco\",\"Mozambique\",\"Myanmar\",\"Namibia\",\"Nepal\",\"Netherlands\",\"New Zealand\",\"Nicaragua\",\"Niger\",\"Norway\",\"Pakistan\",\"Panama\",\"Paraguay\",\"Peru\",\"Philippines\",\"Poland\",\"Portugal\",\"Romania\",\"Russia\",\"Rwanda\",\"Saudi Arabia\",\"Senegal\",\"Serbia\",\"Sierra Leone\",\"Singapore\",\"Slovakia\",\"Slovenia\",\"South Africa\",\"South Korea\",\"Spain\",\"Sri Lanka\",\"Sweden\",\"Switzerland\",\"Tajikistan\",\"Tanzania\",\"Thailand\",\"Togo\",\"Trinidad and Tobago\",\"Tunisia\",\"Turkey\",\"Uganda\",\"Ukraine\",\"United Arab Emirates\",\"United Kingdom\",\"United States\",\"Uruguay\",\"Venezuela\",\"Vietnam\",\"Yemen\",\"Zambia\",\"Zimbabwe\"],\"legendgroup\":\"\",\"marker\":{\"color\":\"#636efa\",\"symbol\":\"circle\"},\"mode\":\"markers\",\"name\":\"\",\"orientation\":\"v\",\"showlegend\":false,\"x\":[0.396573007,0.781994224,0.466610909,0.831132412,0.712017834,0.915431738,0.899989486,0.905855775,0.90062499,0.813582063,0.735182583,0.875873327,0.821328104,0.799804807,0.745178163,0.626350224,0.959704638,0.763051808,0.933913231,0.640880644,0.744896293,0.898517907,0.836179912,0.934738934,0.714838803,0.779858291,0.951444268,0.866202772,0.859828949,0.708354175,0.833805263,0.87770915,0.949172199,0.825467646,0.704829216,0.733163178,0.867371082,0.794796526,0.541345119,0.908147573,0.537825167,0.870603263,0.718964577,0.948891878,0.881444871,0.870614409,0.647873282,0.633182645,0.886982977,0.747580588,0.66465199,0.858068526,0.809961379,0.75104779,0.811601937,0.829747558,0.872366488,0.909374893,0.907213569,0.671237648,0.738125861,0.735268712,0.773157001,0.747381449,0.90563643,0.803223193,0.894626856,0.853962779,0.71156615,0.924911439,0.551522553,0.889534533,0.858709276,0.721609175,0.693351328,0.772072434,0.864451885,0.895075202,0.767520964,0.797565043,0.908547819,0.936217487,0.863902867,0.759772122,0.955750287,0.734833717,0.880366504,0.885923445,0.824766099,0.915463448,0.862055779,0.888747811,0.842823207,0.729892612,0.900589406,0.854191244,0.690596163,0.726495862,0.715315044,0.926645339,0.749952674,0.936142623,0.759330094,0.612965107,0.751989543,0.837633669,0.939144194,0.921336651,0.831383407,0.82153976,0.905063033,0.649828613,0.857907116,0.593361557,0.608830452,0.731713951,0.663081884,0.941345513,0.834743679,0.842619538,0.892395437,0.62327832,0.939592957,0.599920273,0.806500256,0.711457908],\"xaxis\":\"x\",\"y\":[5.69,10.32,8.18,9.86,10.54,12.93,10.39,8.21,7.23,11.57,6.27,9.06,10.58,8.0,10.75,5.05,5.81,7.37,12.93,4.64,10.74,8.99,10.2,9.12,12.03,12.42,11.69,9.04,9.07,8.01,8.1,12.29,11.05,11.89,10.18,4.92,13.1,8.39,11.86,6.26,5.95,7.51,11.96,13.53,7.8,9.06,9.8,8.27,13.74,12.04,11.51,10.1,12.83,10.81,11.79,6.73,6.62,11.18,6.05,11.96,6.88,5.8,9.57,12.5,11.53,5.41,11.96,8.06,3.55,12.09,5.55,10.4,10.18,10.84,10.0,6.83,4.22,6.48,6.88,6.19,11.82,10.81,7.76,3.04,12.08,6.41,10.44,8.83,9.96,9.44,12.01,9.56,11.28,11.6,5.24,9.86,4.4,11.72,4.99,13.06,13.14,12.06,10.47,13.68,11.51,10.33,11.93,12.97,10.12,6.87,9.32,7.68,11.28,9.29,8.49,6.69,10.82,9.57,12.9,13.32,8.76,9.33,8.35,5.56,8.37,8.32],\"yaxis\":\"y\",\"type\":\"scatter\"},{\"hovertemplate\":\"<b>OLS trendline</b><br>Avg Ed. (Years) = 6.07342 * Freedom to make life choices + 4.54311<br>R<sup>2</sup>=0.070589<br><br>Freedom to make life choices=%{x}<br>Avg Ed. (Years)=%{y} <b>(trend)</b><extra></extra>\",\"legendgroup\":\"\",\"marker\":{\"color\":\"#636efa\",\"symbol\":\"circle\"},\"mode\":\"lines\",\"name\":\"\",\"showlegend\":false,\"x\":[0.396573007,0.466610909,0.537825167,0.541345119,0.551522553,0.593361557,0.599920273,0.608830452,0.612965107,0.62327832,0.626350224,0.633182645,0.640880644,0.647873282,0.649828613,0.663081884,0.66465199,0.671237648,0.690596163,0.693351328,0.704829216,0.708354175,0.711457908,0.71156615,0.712017834,0.714838803,0.715315044,0.718964577,0.721609175,0.726495862,0.729892612,0.731713951,0.733163178,0.734833717,0.735182583,0.735268712,0.738125861,0.744896293,0.745178163,0.747381449,0.747580588,0.749952674,0.75104779,0.751989543,0.759330094,0.759772122,0.763051808,0.767520964,0.772072434,0.773157001,0.779858291,0.781994224,0.794796526,0.797565043,0.799804807,0.803223193,0.806500256,0.809961379,0.811601937,0.813582063,0.821328104,0.82153976,0.824766099,0.825467646,0.829747558,0.831132412,0.831383407,0.833805263,0.834743679,0.836179912,0.837633669,0.842619538,0.842823207,0.853962779,0.854191244,0.857907116,0.858068526,0.858709276,0.859828949,0.862055779,0.863902867,0.864451885,0.866202772,0.867371082,0.870603263,0.870614409,0.872366488,0.875873327,0.87770915,0.880366504,0.881444871,0.885923445,0.886982977,0.888747811,0.889534533,0.892395437,0.894626856,0.895075202,0.898517907,0.899989486,0.900589406,0.90062499,0.905063033,0.90563643,0.905855775,0.907213569,0.908147573,0.908547819,0.909374893,0.915431738,0.915463448,0.921336651,0.924911439,0.926645339,0.933913231,0.934738934,0.936142623,0.936217487,0.939144194,0.939592957,0.941345513,0.948891878,0.949172199,0.951444268,0.955750287,0.959704638],\"xaxis\":\"x\",\"y\":[6.951662474694861,7.377032138304321,7.809546307127613,7.830924457463434,7.892736298671747,8.146842183471593,8.186676026847282,8.240791294947833,8.265902795382143,8.328539279618104,8.347196245829348,8.388692414895182,8.435445603548605,8.477914837904065,8.489790386228101,8.570283080412388,8.579818995138261,8.619816468622076,8.737388879822067,8.75412215674459,8.823832202563882,8.845240762518564,8.864091039646276,8.864748438880314,8.867491705963582,8.884624638280469,8.887517050362817,8.90968220066303,8.925743957647729,8.9554228650107,8.976052757734575,8.987114516234264,8.995916281905139,9.006062168520597,9.008180978605237,9.008704076281079,9.026056744969129,9.06717642874165,9.068888343914116,9.082269827337985,9.08347928231911,9.097885959204902,9.104537059698078,9.110256722129046,9.154838978598951,9.157523600729208,9.177442514499138,9.204585580325668,9.232228573726992,9.23881560570222,9.279515361001135,9.292487781301539,9.370241550898559,9.387055920138046,9.40065894981253,9.421420247072795,9.441323230259483,9.462344087312296,9.472307886693265,9.484334025490574,9.53137899343486,9.532664469426429,9.55225938440718,9.556520174677512,9.582513882023544,9.590924683365486,9.592449081665105,9.607158032713217,9.612857428138366,9.621580275776989,9.630409554044917,9.660690835447816,9.661927803025996,9.729583113352016,9.730970677476888,9.753538732451691,9.75451904333255,9.758410587827385,9.765210833319639,9.778735309367129,9.789953452383708,9.793287869824933,9.803921743669527,9.811017382138132,9.830647778044264,9.830715472394541,9.841356585756948,9.862655095323419,9.873804821252623,9.889944050795382,9.896493427560518,9.923693692865866,9.930128676746786,9.940847256593832,9.945625350496389,9.96300082488023,9.976553171856612,9.97927616586064,10.000185162645788,10.009122681422475,10.012766248138574,10.012982364750831,10.03993646823032,10.043418949601687,10.044751124127195,10.052997578697337,10.058670178189107,10.061101040643855,10.066124209229915,10.102909978743467,10.103102566922836,10.138773001260233,10.160484193709076,10.171014898351434,10.215155866126139,10.220170708052033,10.228695902278186,10.229150582866655,10.246925706571439,10.249651233192015,10.26029524357623,10.306127495112325,10.30783000255569,10.321629234095028,10.347781500242661,10.371797938580059],\"yaxis\":\"y\",\"type\":\"scatter\"}],\"layout\":{\"template\":{\"data\":{\"histogram2dcontour\":[{\"type\":\"histogram2dcontour\",\"colorbar\":{\"outlinewidth\":0,\"ticks\":\"\"},\"colorscale\":[[0.0,\"#0d0887\"],[0.1111111111111111,\"#46039f\"],[0.2222222222222222,\"#7201a8\"],[0.3333333333333333,\"#9c179e\"],[0.4444444444444444,\"#bd3786\"],[0.5555555555555556,\"#d8576b\"],[0.6666666666666666,\"#ed7953\"],[0.7777777777777778,\"#fb9f3a\"],[0.8888888888888888,\"#fdca26\"],[1.0,\"#f0f921\"]]}],\"choropleth\":[{\"type\":\"choropleth\",\"colorbar\":{\"outlinewidth\":0,\"ticks\":\"\"}}],\"histogram2d\":[{\"type\":\"histogram2d\",\"colorbar\":{\"outlinewidth\":0,\"ticks\":\"\"},\"colorscale\":[[0.0,\"#0d0887\"],[0.1111111111111111,\"#46039f\"],[0.2222222222222222,\"#7201a8\"],[0.3333333333333333,\"#9c179e\"],[0.4444444444444444,\"#bd3786\"],[0.5555555555555556,\"#d8576b\"],[0.6666666666666666,\"#ed7953\"],[0.7777777777777778,\"#fb9f3a\"],[0.8888888888888888,\"#fdca26\"],[1.0,\"#f0f921\"]]}],\"heatmap\":[{\"type\":\"heatmap\",\"colorbar\":{\"outlinewidth\":0,\"ticks\":\"\"},\"colorscale\":[[0.0,\"#0d0887\"],[0.1111111111111111,\"#46039f\"],[0.2222222222222222,\"#7201a8\"],[0.3333333333333333,\"#9c179e\"],[0.4444444444444444,\"#bd3786\"],[0.5555555555555556,\"#d8576b\"],[0.6666666666666666,\"#ed7953\"],[0.7777777777777778,\"#fb9f3a\"],[0.8888888888888888,\"#fdca26\"],[1.0,\"#f0f921\"]]}],\"heatmapgl\":[{\"type\":\"heatmapgl\",\"colorbar\":{\"outlinewidth\":0,\"ticks\":\"\"},\"colorscale\":[[0.0,\"#0d0887\"],[0.1111111111111111,\"#46039f\"],[0.2222222222222222,\"#7201a8\"],[0.3333333333333333,\"#9c179e\"],[0.4444444444444444,\"#bd3786\"],[0.5555555555555556,\"#d8576b\"],[0.6666666666666666,\"#ed7953\"],[0.7777777777777778,\"#fb9f3a\"],[0.8888888888888888,\"#fdca26\"],[1.0,\"#f0f921\"]]}],\"contourcarpet\":[{\"type\":\"contourcarpet\",\"colorbar\":{\"outlinewidth\":0,\"ticks\":\"\"}}],\"contour\":[{\"type\":\"contour\",\"colorbar\":{\"outlinewidth\":0,\"ticks\":\"\"},\"colorscale\":[[0.0,\"#0d0887\"],[0.1111111111111111,\"#46039f\"],[0.2222222222222222,\"#7201a8\"],[0.3333333333333333,\"#9c179e\"],[0.4444444444444444,\"#bd3786\"],[0.5555555555555556,\"#d8576b\"],[0.6666666666666666,\"#ed7953\"],[0.7777777777777778,\"#fb9f3a\"],[0.8888888888888888,\"#fdca26\"],[1.0,\"#f0f921\"]]}],\"surface\":[{\"type\":\"surface\",\"colorbar\":{\"outlinewidth\":0,\"ticks\":\"\"},\"colorscale\":[[0.0,\"#0d0887\"],[0.1111111111111111,\"#46039f\"],[0.2222222222222222,\"#7201a8\"],[0.3333333333333333,\"#9c179e\"],[0.4444444444444444,\"#bd3786\"],[0.5555555555555556,\"#d8576b\"],[0.6666666666666666,\"#ed7953\"],[0.7777777777777778,\"#fb9f3a\"],[0.8888888888888888,\"#fdca26\"],[1.0,\"#f0f921\"]]}],\"mesh3d\":[{\"type\":\"mesh3d\",\"colorbar\":{\"outlinewidth\":0,\"ticks\":\"\"}}],\"scatter\":[{\"fillpattern\":{\"fillmode\":\"overlay\",\"size\":10,\"solidity\":0.2},\"type\":\"scatter\"}],\"parcoords\":[{\"type\":\"parcoords\",\"line\":{\"colorbar\":{\"outlinewidth\":0,\"ticks\":\"\"}}}],\"scatterpolargl\":[{\"type\":\"scatterpolargl\",\"marker\":{\"colorbar\":{\"outlinewidth\":0,\"ticks\":\"\"}}}],\"bar\":[{\"error_x\":{\"color\":\"#2a3f5f\"},\"error_y\":{\"color\":\"#2a3f5f\"},\"marker\":{\"line\":{\"color\":\"#E5ECF6\",\"width\":0.5},\"pattern\":{\"fillmode\":\"overlay\",\"size\":10,\"solidity\":0.2}},\"type\":\"bar\"}],\"scattergeo\":[{\"type\":\"scattergeo\",\"marker\":{\"colorbar\":{\"outlinewidth\":0,\"ticks\":\"\"}}}],\"scatterpolar\":[{\"type\":\"scatterpolar\",\"marker\":{\"colorbar\":{\"outlinewidth\":0,\"ticks\":\"\"}}}],\"histogram\":[{\"marker\":{\"pattern\":{\"fillmode\":\"overlay\",\"size\":10,\"solidity\":0.2}},\"type\":\"histogram\"}],\"scattergl\":[{\"type\":\"scattergl\",\"marker\":{\"colorbar\":{\"outlinewidth\":0,\"ticks\":\"\"}}}],\"scatter3d\":[{\"type\":\"scatter3d\",\"line\":{\"colorbar\":{\"outlinewidth\":0,\"ticks\":\"\"}},\"marker\":{\"colorbar\":{\"outlinewidth\":0,\"ticks\":\"\"}}}],\"scattermapbox\":[{\"type\":\"scattermapbox\",\"marker\":{\"colorbar\":{\"outlinewidth\":0,\"ticks\":\"\"}}}],\"scatterternary\":[{\"type\":\"scatterternary\",\"marker\":{\"colorbar\":{\"outlinewidth\":0,\"ticks\":\"\"}}}],\"scattercarpet\":[{\"type\":\"scattercarpet\",\"marker\":{\"colorbar\":{\"outlinewidth\":0,\"ticks\":\"\"}}}],\"carpet\":[{\"aaxis\":{\"endlinecolor\":\"#2a3f5f\",\"gridcolor\":\"white\",\"linecolor\":\"white\",\"minorgridcolor\":\"white\",\"startlinecolor\":\"#2a3f5f\"},\"baxis\":{\"endlinecolor\":\"#2a3f5f\",\"gridcolor\":\"white\",\"linecolor\":\"white\",\"minorgridcolor\":\"white\",\"startlinecolor\":\"#2a3f5f\"},\"type\":\"carpet\"}],\"table\":[{\"cells\":{\"fill\":{\"color\":\"#EBF0F8\"},\"line\":{\"color\":\"white\"}},\"header\":{\"fill\":{\"color\":\"#C8D4E3\"},\"line\":{\"color\":\"white\"}},\"type\":\"table\"}],\"barpolar\":[{\"marker\":{\"line\":{\"color\":\"#E5ECF6\",\"width\":0.5},\"pattern\":{\"fillmode\":\"overlay\",\"size\":10,\"solidity\":0.2}},\"type\":\"barpolar\"}],\"pie\":[{\"automargin\":true,\"type\":\"pie\"}]},\"layout\":{\"autotypenumbers\":\"strict\",\"colorway\":[\"#636efa\",\"#EF553B\",\"#00cc96\",\"#ab63fa\",\"#FFA15A\",\"#19d3f3\",\"#FF6692\",\"#B6E880\",\"#FF97FF\",\"#FECB52\"],\"font\":{\"color\":\"#2a3f5f\"},\"hovermode\":\"closest\",\"hoverlabel\":{\"align\":\"left\"},\"paper_bgcolor\":\"white\",\"plot_bgcolor\":\"#E5ECF6\",\"polar\":{\"bgcolor\":\"#E5ECF6\",\"angularaxis\":{\"gridcolor\":\"white\",\"linecolor\":\"white\",\"ticks\":\"\"},\"radialaxis\":{\"gridcolor\":\"white\",\"linecolor\":\"white\",\"ticks\":\"\"}},\"ternary\":{\"bgcolor\":\"#E5ECF6\",\"aaxis\":{\"gridcolor\":\"white\",\"linecolor\":\"white\",\"ticks\":\"\"},\"baxis\":{\"gridcolor\":\"white\",\"linecolor\":\"white\",\"ticks\":\"\"},\"caxis\":{\"gridcolor\":\"white\",\"linecolor\":\"white\",\"ticks\":\"\"}},\"coloraxis\":{\"colorbar\":{\"outlinewidth\":0,\"ticks\":\"\"}},\"colorscale\":{\"sequential\":[[0.0,\"#0d0887\"],[0.1111111111111111,\"#46039f\"],[0.2222222222222222,\"#7201a8\"],[0.3333333333333333,\"#9c179e\"],[0.4444444444444444,\"#bd3786\"],[0.5555555555555556,\"#d8576b\"],[0.6666666666666666,\"#ed7953\"],[0.7777777777777778,\"#fb9f3a\"],[0.8888888888888888,\"#fdca26\"],[1.0,\"#f0f921\"]],\"sequentialminus\":[[0.0,\"#0d0887\"],[0.1111111111111111,\"#46039f\"],[0.2222222222222222,\"#7201a8\"],[0.3333333333333333,\"#9c179e\"],[0.4444444444444444,\"#bd3786\"],[0.5555555555555556,\"#d8576b\"],[0.6666666666666666,\"#ed7953\"],[0.7777777777777778,\"#fb9f3a\"],[0.8888888888888888,\"#fdca26\"],[1.0,\"#f0f921\"]],\"diverging\":[[0,\"#8e0152\"],[0.1,\"#c51b7d\"],[0.2,\"#de77ae\"],[0.3,\"#f1b6da\"],[0.4,\"#fde0ef\"],[0.5,\"#f7f7f7\"],[0.6,\"#e6f5d0\"],[0.7,\"#b8e186\"],[0.8,\"#7fbc41\"],[0.9,\"#4d9221\"],[1,\"#276419\"]]},\"xaxis\":{\"gridcolor\":\"white\",\"linecolor\":\"white\",\"ticks\":\"\",\"title\":{\"standoff\":15},\"zerolinecolor\":\"white\",\"automargin\":true,\"zerolinewidth\":2},\"yaxis\":{\"gridcolor\":\"white\",\"linecolor\":\"white\",\"ticks\":\"\",\"title\":{\"standoff\":15},\"zerolinecolor\":\"white\",\"automargin\":true,\"zerolinewidth\":2},\"scene\":{\"xaxis\":{\"backgroundcolor\":\"#E5ECF6\",\"gridcolor\":\"white\",\"linecolor\":\"white\",\"showbackground\":true,\"ticks\":\"\",\"zerolinecolor\":\"white\",\"gridwidth\":2},\"yaxis\":{\"backgroundcolor\":\"#E5ECF6\",\"gridcolor\":\"white\",\"linecolor\":\"white\",\"showbackground\":true,\"ticks\":\"\",\"zerolinecolor\":\"white\",\"gridwidth\":2},\"zaxis\":{\"backgroundcolor\":\"#E5ECF6\",\"gridcolor\":\"white\",\"linecolor\":\"white\",\"showbackground\":true,\"ticks\":\"\",\"zerolinecolor\":\"white\",\"gridwidth\":2}},\"shapedefaults\":{\"line\":{\"color\":\"#2a3f5f\"}},\"annotationdefaults\":{\"arrowcolor\":\"#2a3f5f\",\"arrowhead\":0,\"arrowwidth\":1},\"geo\":{\"bgcolor\":\"white\",\"landcolor\":\"#E5ECF6\",\"subunitcolor\":\"white\",\"showland\":true,\"showlakes\":true,\"lakecolor\":\"white\"},\"title\":{\"x\":0.05},\"mapbox\":{\"style\":\"light\"}}},\"xaxis\":{\"anchor\":\"y\",\"domain\":[0.0,1.0],\"title\":{\"text\":\"Perceived Freedom to Make Life Choices\"}},\"yaxis\":{\"anchor\":\"x\",\"domain\":[0.0,1.0],\"title\":{\"text\":\"Average Years of Education\"}},\"legend\":{\"tracegroupgap\":0},\"margin\":{\"t\":60},\"title\":{\"text\":\"Perceived Freedom to Make Life Choices and average years of education achieved\"}}}'"
      ]
     },
     "execution_count": 41,
     "metadata": {},
     "output_type": "execute_result"
    }
   ],
   "source": [
    "json_data_freedom"
   ]
  },
  {
   "cell_type": "code",
   "execution_count": null,
   "id": "f1667662",
   "metadata": {},
   "outputs": [],
   "source": [
    "#Write .json files for each plot\n",
    "\n",
    "# with open('life_scatter_plot.json', 'w') as f:\n",
    "#     f.write(fig_life.to_json())\n",
    "\n",
    "# with open('social_scatter_plot.json', 'w') as f:\n",
    "#     f.write(fig_social.to_json())\n",
    "\n",
    "# with open('freedom_scatter_plot.json', 'w') as f:\n",
    "#     f.write(fig_freedom.to_json())"
   ]
  },
  {
   "cell_type": "code",
   "execution_count": null,
   "id": "b82c0720",
   "metadata": {},
   "outputs": [],
   "source": []
  }
 ],
 "metadata": {
  "kernelspec": {
   "display_name": "dev",
   "language": "python",
   "name": "python3"
  },
  "language_info": {
   "codemirror_mode": {
    "name": "ipython",
    "version": 3
   },
   "file_extension": ".py",
   "mimetype": "text/x-python",
   "name": "python",
   "nbconvert_exporter": "python",
   "pygments_lexer": "ipython3",
   "version": "3.10.13"
  }
 },
 "nbformat": 4,
 "nbformat_minor": 5
}
